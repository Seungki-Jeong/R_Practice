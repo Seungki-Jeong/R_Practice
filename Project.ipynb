{
 "cells": [
  {
   "cell_type": "code",
   "execution_count": 1,
   "metadata": {},
   "outputs": [],
   "source": [
    "setwd('d:/workspace/R_practice/data/R_data')"
   ]
  },
  {
   "cell_type": "code",
   "execution_count": 2,
   "metadata": {},
   "outputs": [
    {
     "data": {
      "text/html": [
       "'d:/workspace/R_practice/data/R_data'"
      ],
      "text/latex": [
       "'d:/workspace/R\\_practice/data/R\\_data'"
      ],
      "text/markdown": [
       "'d:/workspace/R_practice/data/R_data'"
      ],
      "text/plain": [
       "[1] \"d:/workspace/R_practice/data/R_data\""
      ]
     },
     "metadata": {},
     "output_type": "display_data"
    }
   ],
   "source": [
    "getwd()"
   ]
  },
  {
   "cell_type": "code",
   "execution_count": 4,
   "metadata": {},
   "outputs": [],
   "source": [
    "library(dplyr)\n",
    "library(ggplot2)"
   ]
  },
  {
   "cell_type": "code",
   "execution_count": 5,
   "metadata": {},
   "outputs": [
    {
     "data": {
      "text/html": [
       "<table>\n",
       "<thead><tr><th scope=col>X</th><th scope=col>YM</th><th scope=col>CATEGORY</th><th scope=col>ITEM_CNT</th><th scope=col>QTY</th><th scope=col>PRICE</th><th scope=col>MAXTEMP</th><th scope=col>SALEDAY</th><th scope=col>RAIN_DAY</th><th scope=col>HOLIDAY</th></tr></thead>\n",
       "<tbody>\n",
       "\t<tr><td>1       </td><td>200901  </td><td>과즙음료</td><td>45      </td><td> 990    </td><td>2611    </td><td> 4      </td><td>126753  </td><td> 151    </td><td>12      </td></tr>\n",
       "\t<tr><td>2       </td><td>200902  </td><td>과즙음료</td><td>45      </td><td>1199    </td><td>2689    </td><td> 9      </td><td>113399  </td><td>3014    </td><td> 8      </td></tr>\n",
       "\t<tr><td>3       </td><td>200903  </td><td>과즙음료</td><td>43      </td><td>1102    </td><td>2735    </td><td>12      </td><td>129162  </td><td>1383    </td><td> 9      </td></tr>\n",
       "\t<tr><td>4       </td><td>200904  </td><td>과즙음료</td><td>42      </td><td>1326    </td><td>2807    </td><td>19      </td><td>126277  </td><td>3564    </td><td> 8      </td></tr>\n",
       "\t<tr><td>5       </td><td>200905  </td><td>과즙음료</td><td>46      </td><td>1672    </td><td>2674    </td><td>25      </td><td>129584  </td><td>9288    </td><td>12      </td></tr>\n",
       "\t<tr><td>6       </td><td>200906  </td><td>과즙음료</td><td>48      </td><td>1875    </td><td>2777    </td><td>27      </td><td>123218  </td><td>9998    </td><td> 8      </td></tr>\n",
       "</tbody>\n",
       "</table>\n"
      ],
      "text/latex": [
       "\\begin{tabular}{r|llllllllll}\n",
       " X & YM & CATEGORY & ITEM\\_CNT & QTY & PRICE & MAXTEMP & SALEDAY & RAIN\\_DAY & HOLIDAY\\\\\n",
       "\\hline\n",
       "\t 1        & 200901   & 과즙음료 & 45       &  990     & 2611     &  4       & 126753   &  151     & 12      \\\\\n",
       "\t 2        & 200902   & 과즙음료 & 45       & 1199     & 2689     &  9       & 113399   & 3014     &  8      \\\\\n",
       "\t 3        & 200903   & 과즙음료 & 43       & 1102     & 2735     & 12       & 129162   & 1383     &  9      \\\\\n",
       "\t 4        & 200904   & 과즙음료 & 42       & 1326     & 2807     & 19       & 126277   & 3564     &  8      \\\\\n",
       "\t 5        & 200905   & 과즙음료 & 46       & 1672     & 2674     & 25       & 129584   & 9288     & 12      \\\\\n",
       "\t 6        & 200906   & 과즙음료 & 48       & 1875     & 2777     & 27       & 123218   & 9998     &  8      \\\\\n",
       "\\end{tabular}\n"
      ],
      "text/markdown": [
       "\n",
       "| X | YM | CATEGORY | ITEM_CNT | QTY | PRICE | MAXTEMP | SALEDAY | RAIN_DAY | HOLIDAY |\n",
       "|---|---|---|---|---|---|---|---|---|---|\n",
       "| 1        | 200901   | 과즙음료 | 45       |  990     | 2611     |  4       | 126753   |  151     | 12       |\n",
       "| 2        | 200902   | 과즙음료 | 45       | 1199     | 2689     |  9       | 113399   | 3014     |  8       |\n",
       "| 3        | 200903   | 과즙음료 | 43       | 1102     | 2735     | 12       | 129162   | 1383     |  9       |\n",
       "| 4        | 200904   | 과즙음료 | 42       | 1326     | 2807     | 19       | 126277   | 3564     |  8       |\n",
       "| 5        | 200905   | 과즙음료 | 46       | 1672     | 2674     | 25       | 129584   | 9288     | 12       |\n",
       "| 6        | 200906   | 과즙음료 | 48       | 1875     | 2777     | 27       | 123218   | 9998     |  8       |\n",
       "\n"
      ],
      "text/plain": [
       "  X YM     CATEGORY ITEM_CNT QTY  PRICE MAXTEMP SALEDAY RAIN_DAY HOLIDAY\n",
       "1 1 200901 과즙음료 45        990 2611   4      126753   151     12     \n",
       "2 2 200902 과즙음료 45       1199 2689   9      113399  3014      8     \n",
       "3 3 200903 과즙음료 43       1102 2735  12      129162  1383      9     \n",
       "4 4 200904 과즙음료 42       1326 2807  19      126277  3564      8     \n",
       "5 5 200905 과즙음료 46       1672 2674  25      129584  9288     12     \n",
       "6 6 200906 과즙음료 48       1875 2777  27      123218  9998      8     "
      ]
     },
     "metadata": {},
     "output_type": "display_data"
    }
   ],
   "source": [
    "df = read.csv('sales_data_1.csv')\n",
    "head(df)"
   ]
  },
  {
   "cell_type": "code",
   "execution_count": 6,
   "metadata": {},
   "outputs": [
    {
     "data": {
      "text/plain": [
       "       X                YM               CATEGORY     ITEM_CNT    \n",
       " Min.   :  1.00   Min.   :200901   과즙음료  :60   Min.   : 1.00  \n",
       " 1st Qu.: 45.75   1st Qu.:201004   비타민음료:60   1st Qu.:14.00  \n",
       " Median : 90.50   Median :201107   차음료    :60   Median :43.00  \n",
       " Mean   : 90.50   Mean   :201107                   Mean   :39.57  \n",
       " 3rd Qu.:135.25   3rd Qu.:201209                   3rd Qu.:57.00  \n",
       " Max.   :180.00   Max.   :201312                   Max.   :83.00  \n",
       "      QTY             PRICE         MAXTEMP         SALEDAY      \n",
       " Min.   :  27.0   Min.   :1229   Min.   :-1.00   Min.   :113399  \n",
       " 1st Qu.: 814.5   1st Qu.:1424   1st Qu.: 9.75   1st Qu.:143047  \n",
       " Median :1734.0   Median :1762   Median :19.50   Median :179564  \n",
       " Mean   :1685.7   Mean   :1915   Mean   :17.55   Mean   :181596  \n",
       " 3rd Qu.:2387.2   3rd Qu.:2347   3rd Qu.:27.00   3rd Qu.:224721  \n",
       " Max.   :3992.0   Max.   :3251   Max.   :31.00   Max.   :245068  \n",
       "    RAIN_DAY        HOLIDAY    \n",
       " Min.   :    0   Min.   : 8.0  \n",
       " 1st Qu.: 2750   1st Qu.: 9.0  \n",
       " Median : 5780   Median : 9.0  \n",
       " Mean   : 9306   Mean   : 9.5  \n",
       " 3rd Qu.:11758   3rd Qu.:10.0  \n",
       " Max.   :43058   Max.   :12.0  "
      ]
     },
     "metadata": {},
     "output_type": "display_data"
    }
   ],
   "source": [
    "summary(df)"
   ]
  },
  {
   "cell_type": "code",
   "execution_count": 7,
   "metadata": {},
   "outputs": [
    {
     "data": {
      "text/html": [
       "<table>\n",
       "<thead><tr><th scope=col>YM</th><th scope=col>CATEGORY</th><th scope=col>ITEM_CNT</th><th scope=col>QTY</th><th scope=col>PRICE</th><th scope=col>MAXTEMP</th><th scope=col>SALEDAY</th><th scope=col>RAIN_DAY</th><th scope=col>HOLIDAY</th></tr></thead>\n",
       "<tbody>\n",
       "\t<tr><td>200901  </td><td>과즙음료</td><td>45      </td><td> 990    </td><td>2611    </td><td> 4      </td><td>126753  </td><td> 151    </td><td>12      </td></tr>\n",
       "\t<tr><td>200902  </td><td>과즙음료</td><td>45      </td><td>1199    </td><td>2689    </td><td> 9      </td><td>113399  </td><td>3014    </td><td> 8      </td></tr>\n",
       "\t<tr><td>200903  </td><td>과즙음료</td><td>43      </td><td>1102    </td><td>2735    </td><td>12      </td><td>129162  </td><td>1383    </td><td> 9      </td></tr>\n",
       "\t<tr><td>200904  </td><td>과즙음료</td><td>42      </td><td>1326    </td><td>2807    </td><td>19      </td><td>126277  </td><td>3564    </td><td> 8      </td></tr>\n",
       "\t<tr><td>200905  </td><td>과즙음료</td><td>46      </td><td>1672    </td><td>2674    </td><td>25      </td><td>129584  </td><td>9288    </td><td>12      </td></tr>\n",
       "\t<tr><td>200906  </td><td>과즙음료</td><td>48      </td><td>1875    </td><td>2777    </td><td>27      </td><td>123218  </td><td>9998    </td><td> 8      </td></tr>\n",
       "</tbody>\n",
       "</table>\n"
      ],
      "text/latex": [
       "\\begin{tabular}{r|lllllllll}\n",
       " YM & CATEGORY & ITEM\\_CNT & QTY & PRICE & MAXTEMP & SALEDAY & RAIN\\_DAY & HOLIDAY\\\\\n",
       "\\hline\n",
       "\t 200901   & 과즙음료 & 45       &  990     & 2611     &  4       & 126753   &  151     & 12      \\\\\n",
       "\t 200902   & 과즙음료 & 45       & 1199     & 2689     &  9       & 113399   & 3014     &  8      \\\\\n",
       "\t 200903   & 과즙음료 & 43       & 1102     & 2735     & 12       & 129162   & 1383     &  9      \\\\\n",
       "\t 200904   & 과즙음료 & 42       & 1326     & 2807     & 19       & 126277   & 3564     &  8      \\\\\n",
       "\t 200905   & 과즙음료 & 46       & 1672     & 2674     & 25       & 129584   & 9288     & 12      \\\\\n",
       "\t 200906   & 과즙음료 & 48       & 1875     & 2777     & 27       & 123218   & 9998     &  8      \\\\\n",
       "\\end{tabular}\n"
      ],
      "text/markdown": [
       "\n",
       "| YM | CATEGORY | ITEM_CNT | QTY | PRICE | MAXTEMP | SALEDAY | RAIN_DAY | HOLIDAY |\n",
       "|---|---|---|---|---|---|---|---|---|\n",
       "| 200901   | 과즙음료 | 45       |  990     | 2611     |  4       | 126753   |  151     | 12       |\n",
       "| 200902   | 과즙음료 | 45       | 1199     | 2689     |  9       | 113399   | 3014     |  8       |\n",
       "| 200903   | 과즙음료 | 43       | 1102     | 2735     | 12       | 129162   | 1383     |  9       |\n",
       "| 200904   | 과즙음료 | 42       | 1326     | 2807     | 19       | 126277   | 3564     |  8       |\n",
       "| 200905   | 과즙음료 | 46       | 1672     | 2674     | 25       | 129584   | 9288     | 12       |\n",
       "| 200906   | 과즙음료 | 48       | 1875     | 2777     | 27       | 123218   | 9998     |  8       |\n",
       "\n"
      ],
      "text/plain": [
       "  YM     CATEGORY ITEM_CNT QTY  PRICE MAXTEMP SALEDAY RAIN_DAY HOLIDAY\n",
       "1 200901 과즙음료 45        990 2611   4      126753   151     12     \n",
       "2 200902 과즙음료 45       1199 2689   9      113399  3014      8     \n",
       "3 200903 과즙음료 43       1102 2735  12      129162  1383      9     \n",
       "4 200904 과즙음료 42       1326 2807  19      126277  3564      8     \n",
       "5 200905 과즙음료 46       1672 2674  25      129584  9288     12     \n",
       "6 200906 과즙음료 48       1875 2777  27      123218  9998      8     "
      ]
     },
     "metadata": {},
     "output_type": "display_data"
    }
   ],
   "source": [
    "product1 = df %>%\n",
    "            filter(df$CATEGORY == '과즙음료')\n",
    "product2 = df %>%\n",
    "            filter(df$CATEGORY == '비타민음료')\n",
    "product3 = df %>%\n",
    "            filter(df$CATEGORY == '차음료')\n",
    "\n",
    "product1 = product1[-c(1)]\n",
    "# product2 = product2[-c(1,2,3)]\n",
    "# product3 = product3[-c(1,2,3)]\n",
    "head(product1)"
   ]
  },
  {
   "cell_type": "code",
   "execution_count": 8,
   "metadata": {},
   "outputs": [
    {
     "data": {
      "text/html": [
       "<table>\n",
       "<thead><tr><th scope=col>YM</th><th scope=col>CATEGORY</th><th scope=col>ITEM_CNT</th><th scope=col>QTY</th><th scope=col>PRICE</th><th scope=col>MAXTEMP</th><th scope=col>SALEDAY</th><th scope=col>RAIN_DAY</th><th scope=col>HOLIDAY</th></tr></thead>\n",
       "<tbody>\n",
       "\t<tr><td>201301  </td><td>과즙음료</td><td>63      </td><td>1627    </td><td>2184    </td><td> 2      </td><td>240416  </td><td> 2528   </td><td> 9      </td></tr>\n",
       "\t<tr><td>201302  </td><td>과즙음료</td><td>65      </td><td>1624    </td><td>2337    </td><td> 5      </td><td>217015  </td><td> 6667   </td><td> 9      </td></tr>\n",
       "\t<tr><td>201303  </td><td>과즙음료</td><td>63      </td><td>2103    </td><td>2376    </td><td>12      </td><td>243648  </td><td> 4364   </td><td>11      </td></tr>\n",
       "\t<tr><td>201304  </td><td>과즙음료</td><td>60      </td><td>2117    </td><td>2445    </td><td>15      </td><td>237340  </td><td> 6727   </td><td> 8      </td></tr>\n",
       "\t<tr><td>201305  </td><td>과즙음료</td><td>62      </td><td>2606    </td><td>2419    </td><td>23      </td><td>245068  </td><td>17217   </td><td>10      </td></tr>\n",
       "\t<tr><td>201306  </td><td>과즙음료</td><td>56      </td><td>2621    </td><td>1962    </td><td>28      </td><td>236180  </td><td> 7360   </td><td>11      </td></tr>\n",
       "\t<tr><td>201307  </td><td>과즙음료</td><td>59      </td><td>2336    </td><td>1936    </td><td>29      </td><td>241687  </td><td>41344   </td><td> 8      </td></tr>\n",
       "\t<tr><td>201308  </td><td>과즙음료</td><td>61      </td><td>2755    </td><td>1957    </td><td>31      </td><td>240142  </td><td>22284   </td><td>10      </td></tr>\n",
       "\t<tr><td>201309  </td><td>과즙음료</td><td>59      </td><td>2992    </td><td>1928    </td><td>26      </td><td>231662  </td><td>13699   </td><td>12      </td></tr>\n",
       "\t<tr><td>201310  </td><td>과즙음료</td><td>64      </td><td>2563    </td><td>1898    </td><td>21      </td><td>239981  </td><td> 3011   </td><td>10      </td></tr>\n",
       "\t<tr><td>201311  </td><td>과즙음료</td><td>68      </td><td>1878    </td><td>1923    </td><td>12      </td><td>232854  </td><td> 2944   </td><td> 9      </td></tr>\n",
       "\t<tr><td>201312  </td><td>과즙음료</td><td>65      </td><td>1770    </td><td>1939    </td><td> 5      </td><td>240458  </td><td>  202   </td><td>10      </td></tr>\n",
       "</tbody>\n",
       "</table>\n"
      ],
      "text/latex": [
       "\\begin{tabular}{r|lllllllll}\n",
       " YM & CATEGORY & ITEM\\_CNT & QTY & PRICE & MAXTEMP & SALEDAY & RAIN\\_DAY & HOLIDAY\\\\\n",
       "\\hline\n",
       "\t 201301   & 과즙음료 & 63       & 1627     & 2184     &  2       & 240416   &  2528    &  9      \\\\\n",
       "\t 201302   & 과즙음료 & 65       & 1624     & 2337     &  5       & 217015   &  6667    &  9      \\\\\n",
       "\t 201303   & 과즙음료 & 63       & 2103     & 2376     & 12       & 243648   &  4364    & 11      \\\\\n",
       "\t 201304   & 과즙음료 & 60       & 2117     & 2445     & 15       & 237340   &  6727    &  8      \\\\\n",
       "\t 201305   & 과즙음료 & 62       & 2606     & 2419     & 23       & 245068   & 17217    & 10      \\\\\n",
       "\t 201306   & 과즙음료 & 56       & 2621     & 1962     & 28       & 236180   &  7360    & 11      \\\\\n",
       "\t 201307   & 과즙음료 & 59       & 2336     & 1936     & 29       & 241687   & 41344    &  8      \\\\\n",
       "\t 201308   & 과즙음료 & 61       & 2755     & 1957     & 31       & 240142   & 22284    & 10      \\\\\n",
       "\t 201309   & 과즙음료 & 59       & 2992     & 1928     & 26       & 231662   & 13699    & 12      \\\\\n",
       "\t 201310   & 과즙음료 & 64       & 2563     & 1898     & 21       & 239981   &  3011    & 10      \\\\\n",
       "\t 201311   & 과즙음료 & 68       & 1878     & 1923     & 12       & 232854   &  2944    &  9      \\\\\n",
       "\t 201312   & 과즙음료 & 65       & 1770     & 1939     &  5       & 240458   &   202    & 10      \\\\\n",
       "\\end{tabular}\n"
      ],
      "text/markdown": [
       "\n",
       "| YM | CATEGORY | ITEM_CNT | QTY | PRICE | MAXTEMP | SALEDAY | RAIN_DAY | HOLIDAY |\n",
       "|---|---|---|---|---|---|---|---|---|\n",
       "| 201301   | 과즙음료 | 63       | 1627     | 2184     |  2       | 240416   |  2528    |  9       |\n",
       "| 201302   | 과즙음료 | 65       | 1624     | 2337     |  5       | 217015   |  6667    |  9       |\n",
       "| 201303   | 과즙음료 | 63       | 2103     | 2376     | 12       | 243648   |  4364    | 11       |\n",
       "| 201304   | 과즙음료 | 60       | 2117     | 2445     | 15       | 237340   |  6727    |  8       |\n",
       "| 201305   | 과즙음료 | 62       | 2606     | 2419     | 23       | 245068   | 17217    | 10       |\n",
       "| 201306   | 과즙음료 | 56       | 2621     | 1962     | 28       | 236180   |  7360    | 11       |\n",
       "| 201307   | 과즙음료 | 59       | 2336     | 1936     | 29       | 241687   | 41344    |  8       |\n",
       "| 201308   | 과즙음료 | 61       | 2755     | 1957     | 31       | 240142   | 22284    | 10       |\n",
       "| 201309   | 과즙음료 | 59       | 2992     | 1928     | 26       | 231662   | 13699    | 12       |\n",
       "| 201310   | 과즙음료 | 64       | 2563     | 1898     | 21       | 239981   |  3011    | 10       |\n",
       "| 201311   | 과즙음료 | 68       | 1878     | 1923     | 12       | 232854   |  2944    |  9       |\n",
       "| 201312   | 과즙음료 | 65       | 1770     | 1939     |  5       | 240458   |   202    | 10       |\n",
       "\n"
      ],
      "text/plain": [
       "   YM     CATEGORY ITEM_CNT QTY  PRICE MAXTEMP SALEDAY RAIN_DAY HOLIDAY\n",
       "1  201301 과즙음료 63       1627 2184   2      240416   2528     9     \n",
       "2  201302 과즙음료 65       1624 2337   5      217015   6667     9     \n",
       "3  201303 과즙음료 63       2103 2376  12      243648   4364    11     \n",
       "4  201304 과즙음료 60       2117 2445  15      237340   6727     8     \n",
       "5  201305 과즙음료 62       2606 2419  23      245068  17217    10     \n",
       "6  201306 과즙음료 56       2621 1962  28      236180   7360    11     \n",
       "7  201307 과즙음료 59       2336 1936  29      241687  41344     8     \n",
       "8  201308 과즙음료 61       2755 1957  31      240142  22284    10     \n",
       "9  201309 과즙음료 59       2992 1928  26      231662  13699    12     \n",
       "10 201310 과즙음료 64       2563 1898  21      239981   3011    10     \n",
       "11 201311 과즙음료 68       1878 1923  12      232854   2944     9     \n",
       "12 201312 과즙음료 65       1770 1939   5      240458    202    10     "
      ]
     },
     "metadata": {},
     "output_type": "display_data"
    }
   ],
   "source": [
    "product1_train = product1 %>%\n",
    "                    filter(!grepl('^2013', YM))\n",
    "product1_test = product1 %>%\n",
    "                    filter(grepl('^2013', YM))\n",
    "product1_test"
   ]
  },
  {
   "cell_type": "code",
   "execution_count": 9,
   "metadata": {},
   "outputs": [
    {
     "data": {
      "text/html": [
       "<table>\n",
       "<thead><tr><th scope=col>YM</th><th scope=col>CATEGORY</th><th scope=col>ITEM_CNT</th><th scope=col>QTY</th><th scope=col>PRICE</th><th scope=col>MAXTEMP</th><th scope=col>SALEDAY</th><th scope=col>RAIN_DAY</th><th scope=col>HOLIDAY</th></tr></thead>\n",
       "<tbody>\n",
       "\t<tr><td>200901  </td><td>과즙음료</td><td>45      </td><td> 990    </td><td>2611    </td><td> 4      </td><td>126753  </td><td> 151    </td><td>12      </td></tr>\n",
       "\t<tr><td>200902  </td><td>과즙음료</td><td>45      </td><td>1199    </td><td>2689    </td><td> 9      </td><td>113399  </td><td>3014    </td><td> 8      </td></tr>\n",
       "\t<tr><td>200903  </td><td>과즙음료</td><td>43      </td><td>1102    </td><td>2735    </td><td>12      </td><td>129162  </td><td>1383    </td><td> 9      </td></tr>\n",
       "\t<tr><td>200904  </td><td>과즙음료</td><td>42      </td><td>1326    </td><td>2807    </td><td>19      </td><td>126277  </td><td>3564    </td><td> 8      </td></tr>\n",
       "\t<tr><td>200905  </td><td>과즙음료</td><td>46      </td><td>1672    </td><td>2674    </td><td>25      </td><td>129584  </td><td>9288    </td><td>12      </td></tr>\n",
       "\t<tr><td>200906  </td><td>과즙음료</td><td>48      </td><td>1875    </td><td>2777    </td><td>27      </td><td>123218  </td><td>9998    </td><td> 8      </td></tr>\n",
       "</tbody>\n",
       "</table>\n"
      ],
      "text/latex": [
       "\\begin{tabular}{r|lllllllll}\n",
       " YM & CATEGORY & ITEM\\_CNT & QTY & PRICE & MAXTEMP & SALEDAY & RAIN\\_DAY & HOLIDAY\\\\\n",
       "\\hline\n",
       "\t 200901   & 과즙음료 & 45       &  990     & 2611     &  4       & 126753   &  151     & 12      \\\\\n",
       "\t 200902   & 과즙음료 & 45       & 1199     & 2689     &  9       & 113399   & 3014     &  8      \\\\\n",
       "\t 200903   & 과즙음료 & 43       & 1102     & 2735     & 12       & 129162   & 1383     &  9      \\\\\n",
       "\t 200904   & 과즙음료 & 42       & 1326     & 2807     & 19       & 126277   & 3564     &  8      \\\\\n",
       "\t 200905   & 과즙음료 & 46       & 1672     & 2674     & 25       & 129584   & 9288     & 12      \\\\\n",
       "\t 200906   & 과즙음료 & 48       & 1875     & 2777     & 27       & 123218   & 9998     &  8      \\\\\n",
       "\\end{tabular}\n"
      ],
      "text/markdown": [
       "\n",
       "| YM | CATEGORY | ITEM_CNT | QTY | PRICE | MAXTEMP | SALEDAY | RAIN_DAY | HOLIDAY |\n",
       "|---|---|---|---|---|---|---|---|---|\n",
       "| 200901   | 과즙음료 | 45       |  990     | 2611     |  4       | 126753   |  151     | 12       |\n",
       "| 200902   | 과즙음료 | 45       | 1199     | 2689     |  9       | 113399   | 3014     |  8       |\n",
       "| 200903   | 과즙음료 | 43       | 1102     | 2735     | 12       | 129162   | 1383     |  9       |\n",
       "| 200904   | 과즙음료 | 42       | 1326     | 2807     | 19       | 126277   | 3564     |  8       |\n",
       "| 200905   | 과즙음료 | 46       | 1672     | 2674     | 25       | 129584   | 9288     | 12       |\n",
       "| 200906   | 과즙음료 | 48       | 1875     | 2777     | 27       | 123218   | 9998     |  8       |\n",
       "\n"
      ],
      "text/plain": [
       "  YM     CATEGORY ITEM_CNT QTY  PRICE MAXTEMP SALEDAY RAIN_DAY HOLIDAY\n",
       "1 200901 과즙음료 45        990 2611   4      126753   151     12     \n",
       "2 200902 과즙음료 45       1199 2689   9      113399  3014      8     \n",
       "3 200903 과즙음료 43       1102 2735  12      129162  1383      9     \n",
       "4 200904 과즙음료 42       1326 2807  19      126277  3564      8     \n",
       "5 200905 과즙음료 46       1672 2674  25      129584  9288     12     \n",
       "6 200906 과즙음료 48       1875 2777  27      123218  9998      8     "
      ]
     },
     "metadata": {},
     "output_type": "display_data"
    }
   ],
   "source": [
    "head(product1_train)"
   ]
  },
  {
   "cell_type": "code",
   "execution_count": 10,
   "metadata": {},
   "outputs": [
    {
     "data": {
      "text/html": [
       "<table>\n",
       "<thead><tr><th scope=col>YM</th><th scope=col>CATEGORY</th><th scope=col>ITEM_CNT</th><th scope=col>QTY</th><th scope=col>PRICE</th><th scope=col>MAXTEMP</th><th scope=col>SALEDAY</th><th scope=col>RAIN_DAY</th><th scope=col>HOLIDAY</th></tr></thead>\n",
       "<tbody>\n",
       "\t<tr><td>200901  </td><td>과즙음료</td><td>45      </td><td> 990    </td><td>2611    </td><td> 4      </td><td>126753  </td><td> 151    </td><td>12      </td></tr>\n",
       "\t<tr><td>200902  </td><td>과즙음료</td><td>45      </td><td>1199    </td><td>2689    </td><td> 9      </td><td>113399  </td><td>3014    </td><td> 8      </td></tr>\n",
       "\t<tr><td>200903  </td><td>과즙음료</td><td>43      </td><td>1102    </td><td>2735    </td><td>12      </td><td>129162  </td><td>1383    </td><td> 9      </td></tr>\n",
       "\t<tr><td>200904  </td><td>과즙음료</td><td>42      </td><td>1326    </td><td>2807    </td><td>19      </td><td>126277  </td><td>3564    </td><td> 8      </td></tr>\n",
       "\t<tr><td>200905  </td><td>과즙음료</td><td>46      </td><td>1672    </td><td>2674    </td><td>25      </td><td>129584  </td><td>9288    </td><td>12      </td></tr>\n",
       "\t<tr><td>200906  </td><td>과즙음료</td><td>48      </td><td>1875    </td><td>2777    </td><td>27      </td><td>123218  </td><td>9998    </td><td> 8      </td></tr>\n",
       "</tbody>\n",
       "</table>\n"
      ],
      "text/latex": [
       "\\begin{tabular}{r|lllllllll}\n",
       " YM & CATEGORY & ITEM\\_CNT & QTY & PRICE & MAXTEMP & SALEDAY & RAIN\\_DAY & HOLIDAY\\\\\n",
       "\\hline\n",
       "\t 200901   & 과즙음료 & 45       &  990     & 2611     &  4       & 126753   &  151     & 12      \\\\\n",
       "\t 200902   & 과즙음료 & 45       & 1199     & 2689     &  9       & 113399   & 3014     &  8      \\\\\n",
       "\t 200903   & 과즙음료 & 43       & 1102     & 2735     & 12       & 129162   & 1383     &  9      \\\\\n",
       "\t 200904   & 과즙음료 & 42       & 1326     & 2807     & 19       & 126277   & 3564     &  8      \\\\\n",
       "\t 200905   & 과즙음료 & 46       & 1672     & 2674     & 25       & 129584   & 9288     & 12      \\\\\n",
       "\t 200906   & 과즙음료 & 48       & 1875     & 2777     & 27       & 123218   & 9998     &  8      \\\\\n",
       "\\end{tabular}\n"
      ],
      "text/markdown": [
       "\n",
       "| YM | CATEGORY | ITEM_CNT | QTY | PRICE | MAXTEMP | SALEDAY | RAIN_DAY | HOLIDAY |\n",
       "|---|---|---|---|---|---|---|---|---|\n",
       "| 200901   | 과즙음료 | 45       |  990     | 2611     |  4       | 126753   |  151     | 12       |\n",
       "| 200902   | 과즙음료 | 45       | 1199     | 2689     |  9       | 113399   | 3014     |  8       |\n",
       "| 200903   | 과즙음료 | 43       | 1102     | 2735     | 12       | 129162   | 1383     |  9       |\n",
       "| 200904   | 과즙음료 | 42       | 1326     | 2807     | 19       | 126277   | 3564     |  8       |\n",
       "| 200905   | 과즙음료 | 46       | 1672     | 2674     | 25       | 129584   | 9288     | 12       |\n",
       "| 200906   | 과즙음료 | 48       | 1875     | 2777     | 27       | 123218   | 9998     |  8       |\n",
       "\n"
      ],
      "text/plain": [
       "  YM     CATEGORY ITEM_CNT QTY  PRICE MAXTEMP SALEDAY RAIN_DAY HOLIDAY\n",
       "1 200901 과즙음료 45        990 2611   4      126753   151     12     \n",
       "2 200902 과즙음료 45       1199 2689   9      113399  3014      8     \n",
       "3 200903 과즙음료 43       1102 2735  12      129162  1383      9     \n",
       "4 200904 과즙음료 42       1326 2807  19      126277  3564      8     \n",
       "5 200905 과즙음료 46       1672 2674  25      129584  9288     12     \n",
       "6 200906 과즙음료 48       1875 2777  27      123218  9998      8     "
      ]
     },
     "metadata": {},
     "output_type": "display_data"
    }
   ],
   "source": [
    "head(product1_train)"
   ]
  },
  {
   "cell_type": "code",
   "execution_count": 11,
   "metadata": {},
   "outputs": [
    {
     "data": {
      "text/plain": [
       "\n",
       "Call:\n",
       "lm(formula = QTY ~ PRICE + MAXTEMP + SALEDAY + RAIN_DAY + HOLIDAY, \n",
       "    data = product1_train)\n",
       "\n",
       "Residuals:\n",
       "    Min      1Q  Median      3Q     Max \n",
       "-508.17 -163.98   15.64  150.88  677.77 \n",
       "\n",
       "Coefficients:\n",
       "              Estimate Std. Error t value Pr(>|t|)    \n",
       "(Intercept) -3.062e+03  5.967e+02  -5.131 6.96e-06 ***\n",
       "PRICE        7.290e-01  1.615e-01   4.513 5.09e-05 ***\n",
       "MAXTEMP      5.333e+01  5.299e+00  10.063 9.30e-13 ***\n",
       "SALEDAY      1.214e-02  1.125e-03  10.793 1.10e-13 ***\n",
       "RAIN_DAY    -8.791e-03  5.441e-03  -1.616    0.114    \n",
       "HOLIDAY      1.855e+01  3.164e+01   0.587    0.561    \n",
       "---\n",
       "Signif. codes:  0 '***' 0.001 '**' 0.01 '*' 0.05 '.' 0.1 ' ' 1\n",
       "\n",
       "Residual standard error: 254.1 on 42 degrees of freedom\n",
       "Multiple R-squared:  0.8685,\tAdjusted R-squared:  0.8528 \n",
       "F-statistic: 55.47 on 5 and 42 DF,  p-value: < 2.2e-16\n"
      ]
     },
     "metadata": {},
     "output_type": "display_data"
    }
   ],
   "source": [
    "train_model = lm(QTY ~ PRICE + MAXTEMP + SALEDAY + RAIN_DAY + HOLIDAY, data = product1_train)\n",
    "summary(train_model)"
   ]
  },
  {
   "cell_type": "code",
   "execution_count": 15,
   "metadata": {},
   "outputs": [],
   "source": [
    "library('car')"
   ]
  },
  {
   "cell_type": "code",
   "execution_count": 14,
   "metadata": {},
   "outputs": [
    {
     "data": {
      "text/html": [
       "<dl class=dl-horizontal>\n",
       "\t<dt>PRICE</dt>\n",
       "\t\t<dd>1.14308567732849</dd>\n",
       "\t<dt>MAXTEMP</dt>\n",
       "\t\t<dd>1.93361883548938</dd>\n",
       "\t<dt>SALEDAY</dt>\n",
       "\t\t<dd>1.17009466142928</dd>\n",
       "\t<dt>RAIN_DAY</dt>\n",
       "\t\t<dd>2.12914062462782</dd>\n",
       "\t<dt>HOLIDAY</dt>\n",
       "\t\t<dd>1.02006285161186</dd>\n",
       "</dl>\n"
      ],
      "text/latex": [
       "\\begin{description*}\n",
       "\\item[PRICE] 1.14308567732849\n",
       "\\item[MAXTEMP] 1.93361883548938\n",
       "\\item[SALEDAY] 1.17009466142928\n",
       "\\item[RAIN\\textbackslash{}\\_DAY] 2.12914062462782\n",
       "\\item[HOLIDAY] 1.02006285161186\n",
       "\\end{description*}\n"
      ],
      "text/markdown": [
       "PRICE\n",
       ":   1.14308567732849MAXTEMP\n",
       ":   1.93361883548938SALEDAY\n",
       ":   1.17009466142928RAIN_DAY\n",
       ":   2.12914062462782HOLIDAY\n",
       ":   1.02006285161186\n",
       "\n"
      ],
      "text/plain": [
       "   PRICE  MAXTEMP  SALEDAY RAIN_DAY  HOLIDAY \n",
       "1.143086 1.933619 1.170095 2.129141 1.020063 "
      ]
     },
     "metadata": {},
     "output_type": "display_data"
    }
   ],
   "source": [
    "vif(train_model)"
   ]
  },
  {
   "cell_type": "code",
   "execution_count": 108,
   "metadata": {},
   "outputs": [],
   "source": [
    "product1_train = product1_train[-c(29),]"
   ]
  },
  {
   "cell_type": "code",
   "execution_count": 112,
   "metadata": {},
   "outputs": [],
   "source": [
    "product1_train = product1_train[-c(19, 41),]"
   ]
  },
  {
   "cell_type": "code",
   "execution_count": 116,
   "metadata": {},
   "outputs": [],
   "source": [
    "product1_train = product1_train[-c(7, 37, 41),]"
   ]
  },
  {
   "cell_type": "code",
   "execution_count": 137,
   "metadata": {},
   "outputs": [],
   "source": [
    "product1_train = product1_train[-41,]"
   ]
  },
  {
   "cell_type": "code",
   "execution_count": 16,
   "metadata": {},
   "outputs": [
    {
     "data": {
      "image/png": "[encoded data removed]",
      "text/plain": [
       "Plot with title \"\""
      ]
     },
     "metadata": {},
     "output_type": "display_data"
    }
   ],
   "source": [
    "par(mfrow=c(2,2))\n",
    "plot(train_model)"
   ]
  },
  {
   "cell_type": "code",
   "execution_count": 23,
   "metadata": {},
   "outputs": [],
   "source": [
    "pred = data.frame(predict(train_model, product1_test, interval = 'predict'))\n",
    "pre = as.data.frame(pred)\n",
    "pre = cbind(pre, product1_test$QTY)"
   ]
  },
  {
   "cell_type": "code",
   "execution_count": 35,
   "metadata": {},
   "outputs": [],
   "source": [
    "pre$acc[pre$'product1_test$QTY' >= pre$lwr & pre$'product1_test$QTY' <= pre$upr] = T\n",
    "pre$acc[is.na(pre$acc)] = F"
   ]
  },
  {
   "cell_type": "code",
   "execution_count": 32,
   "metadata": {},
   "outputs": [
    {
     "data": {
      "text/html": [
       "<table>\n",
       "<thead><tr><th scope=col>fit</th><th scope=col>lwr</th><th scope=col>upr</th><th scope=col>product1_test$QTY</th><th scope=col>acc</th></tr></thead>\n",
       "<tbody>\n",
       "\t<tr><td>1700.726</td><td>1122.031</td><td>2279.421</td><td>1627    </td><td>TRUE    </td></tr>\n",
       "\t<tr><td>1651.769</td><td>1099.478</td><td>2204.060</td><td>1624    </td><td>TRUE    </td></tr>\n",
       "\t<tr><td>2434.181</td><td>1872.158</td><td>2996.204</td><td>2103    </td><td>TRUE    </td></tr>\n",
       "\t<tr><td>2491.450</td><td>1933.819</td><td>3049.080</td><td>2117    </td><td>TRUE    </td></tr>\n",
       "\t<tr><td>2937.827</td><td>2389.358</td><td>3486.296</td><td>2606    </td><td>TRUE    </td></tr>\n",
       "\t<tr><td>2868.611</td><td>2248.963</td><td>3488.259</td><td>2621    </td><td>TRUE    </td></tr>\n",
       "\t<tr><td>2615.421</td><td>1993.986</td><td>3236.856</td><td>2336    </td><td>TRUE    </td></tr>\n",
       "\t<tr><td>2923.296</td><td>2333.409</td><td>3513.183</td><td>2755    </td><td>TRUE    </td></tr>\n",
       "\t<tr><td>2645.146</td><td>2031.546</td><td>3258.746</td><td>2992    </td><td>TRUE    </td></tr>\n",
       "\t<tr><td>2514.482</td><td>1894.976</td><td>3133.989</td><td>2563    </td><td>TRUE    </td></tr>\n",
       "\t<tr><td>1948.269</td><td>1347.525</td><td>2549.013</td><td>1878    </td><td>TRUE    </td></tr>\n",
       "\t<tr><td>1721.612</td><td>1117.216</td><td>2326.009</td><td>1770    </td><td>TRUE    </td></tr>\n",
       "</tbody>\n",
       "</table>\n"
      ],
      "text/latex": [
       "\\begin{tabular}{r|lllll}\n",
       " fit & lwr & upr & product1\\_test\\$QTY & acc\\\\\n",
       "\\hline\n",
       "\t 1700.726 & 1122.031 & 2279.421 & 1627     & TRUE    \\\\\n",
       "\t 1651.769 & 1099.478 & 2204.060 & 1624     & TRUE    \\\\\n",
       "\t 2434.181 & 1872.158 & 2996.204 & 2103     & TRUE    \\\\\n",
       "\t 2491.450 & 1933.819 & 3049.080 & 2117     & TRUE    \\\\\n",
       "\t 2937.827 & 2389.358 & 3486.296 & 2606     & TRUE    \\\\\n",
       "\t 2868.611 & 2248.963 & 3488.259 & 2621     & TRUE    \\\\\n",
       "\t 2615.421 & 1993.986 & 3236.856 & 2336     & TRUE    \\\\\n",
       "\t 2923.296 & 2333.409 & 3513.183 & 2755     & TRUE    \\\\\n",
       "\t 2645.146 & 2031.546 & 3258.746 & 2992     & TRUE    \\\\\n",
       "\t 2514.482 & 1894.976 & 3133.989 & 2563     & TRUE    \\\\\n",
       "\t 1948.269 & 1347.525 & 2549.013 & 1878     & TRUE    \\\\\n",
       "\t 1721.612 & 1117.216 & 2326.009 & 1770     & TRUE    \\\\\n",
       "\\end{tabular}\n"
      ],
      "text/markdown": [
       "\n",
       "| fit | lwr | upr | product1_test$QTY | acc |\n",
       "|---|---|---|---|---|\n",
       "| 1700.726 | 1122.031 | 2279.421 | 1627     | TRUE     |\n",
       "| 1651.769 | 1099.478 | 2204.060 | 1624     | TRUE     |\n",
       "| 2434.181 | 1872.158 | 2996.204 | 2103     | TRUE     |\n",
       "| 2491.450 | 1933.819 | 3049.080 | 2117     | TRUE     |\n",
       "| 2937.827 | 2389.358 | 3486.296 | 2606     | TRUE     |\n",
       "| 2868.611 | 2248.963 | 3488.259 | 2621     | TRUE     |\n",
       "| 2615.421 | 1993.986 | 3236.856 | 2336     | TRUE     |\n",
       "| 2923.296 | 2333.409 | 3513.183 | 2755     | TRUE     |\n",
       "| 2645.146 | 2031.546 | 3258.746 | 2992     | TRUE     |\n",
       "| 2514.482 | 1894.976 | 3133.989 | 2563     | TRUE     |\n",
       "| 1948.269 | 1347.525 | 2549.013 | 1878     | TRUE     |\n",
       "| 1721.612 | 1117.216 | 2326.009 | 1770     | TRUE     |\n",
       "\n"
      ],
      "text/plain": [
       "   fit      lwr      upr      product1_test$QTY acc \n",
       "1  1700.726 1122.031 2279.421 1627              TRUE\n",
       "2  1651.769 1099.478 2204.060 1624              TRUE\n",
       "3  2434.181 1872.158 2996.204 2103              TRUE\n",
       "4  2491.450 1933.819 3049.080 2117              TRUE\n",
       "5  2937.827 2389.358 3486.296 2606              TRUE\n",
       "6  2868.611 2248.963 3488.259 2621              TRUE\n",
       "7  2615.421 1993.986 3236.856 2336              TRUE\n",
       "8  2923.296 2333.409 3513.183 2755              TRUE\n",
       "9  2645.146 2031.546 3258.746 2992              TRUE\n",
       "10 2514.482 1894.976 3133.989 2563              TRUE\n",
       "11 1948.269 1347.525 2549.013 1878              TRUE\n",
       "12 1721.612 1117.216 2326.009 1770              TRUE"
      ]
     },
     "metadata": {},
     "output_type": "display_data"
    }
   ],
   "source": [
    "pre"
   ]
  },
  {
   "cell_type": "code",
   "execution_count": 33,
   "metadata": {},
   "outputs": [
    {
     "data": {
      "text/html": [
       "12"
      ],
      "text/latex": [
       "12"
      ],
      "text/markdown": [
       "12"
      ],
      "text/plain": [
       "[1] 12"
      ]
     },
     "metadata": {},
     "output_type": "display_data"
    }
   ],
   "source": [
    "dim(pre)[1]"
   ]
  },
  {
   "cell_type": "code",
   "execution_count": 34,
   "metadata": {},
   "outputs": [
    {
     "data": {
      "text/html": [
       "1"
      ],
      "text/latex": [
       "1"
      ],
      "text/markdown": [
       "1"
      ],
      "text/plain": [
       "[1] 1"
      ]
     },
     "metadata": {},
     "output_type": "display_data"
    }
   ],
   "source": [
    "sum(pre$acc == 'TRUE') / dim(pre)[1]"
   ]
  },
  {
   "cell_type": "code",
   "execution_count": 18,
   "metadata": {},
   "outputs": [
    {
     "data": {
      "text/html": [
       "<ol class=list-inline>\n",
       "\t<li>1627</li>\n",
       "\t<li>1624</li>\n",
       "\t<li>2103</li>\n",
       "\t<li>2117</li>\n",
       "\t<li>2606</li>\n",
       "\t<li>2621</li>\n",
       "\t<li>2336</li>\n",
       "\t<li>2755</li>\n",
       "\t<li>2992</li>\n",
       "\t<li>2563</li>\n",
       "\t<li>1878</li>\n",
       "\t<li>1770</li>\n",
       "</ol>\n"
      ],
      "text/latex": [
       "\\begin{enumerate*}\n",
       "\\item 1627\n",
       "\\item 1624\n",
       "\\item 2103\n",
       "\\item 2117\n",
       "\\item 2606\n",
       "\\item 2621\n",
       "\\item 2336\n",
       "\\item 2755\n",
       "\\item 2992\n",
       "\\item 2563\n",
       "\\item 1878\n",
       "\\item 1770\n",
       "\\end{enumerate*}\n"
      ],
      "text/markdown": [
       "1. 1627\n",
       "2. 1624\n",
       "3. 2103\n",
       "4. 2117\n",
       "5. 2606\n",
       "6. 2621\n",
       "7. 2336\n",
       "8. 2755\n",
       "9. 2992\n",
       "10. 2563\n",
       "11. 1878\n",
       "12. 1770\n",
       "\n",
       "\n"
      ],
      "text/plain": [
       " [1] 1627 1624 2103 2117 2606 2621 2336 2755 2992 2563 1878 1770"
      ]
     },
     "metadata": {},
     "output_type": "display_data"
    }
   ],
   "source": [
    "product1_test$QTY"
   ]
  },
  {
   "cell_type": "code",
   "execution_count": 38,
   "metadata": {},
   "outputs": [],
   "source": [
    "mse = sum((product1_test$QTY - pre)^2)/12"
   ]
  },
  {
   "cell_type": "code",
   "execution_count": 39,
   "metadata": {},
   "outputs": [
    {
     "data": {
      "text/html": [
       "24957.6065250566"
      ],
      "text/latex": [
       "24957.6065250566"
      ],
      "text/markdown": [
       "24957.6065250566"
      ],
      "text/plain": [
       "[1] 24957.61"
      ]
     },
     "metadata": {},
     "output_type": "display_data"
    }
   ],
   "source": [
    "mse"
   ]
  },
  {
   "cell_type": "code",
   "execution_count": 139,
   "metadata": {},
   "outputs": [
    {
     "data": {
      "text/plain": [
       "\n",
       "\tShapiro-Wilk normality test\n",
       "\n",
       "data:  product1$QTY\n",
       "W = 0.97503, p-value = 0.255\n"
      ]
     },
     "metadata": {},
     "output_type": "display_data"
    },
    {
     "data": {
      "text/plain": [
       "\n",
       "\tShapiro-Wilk normality test\n",
       "\n",
       "data:  product2$QTY\n",
       "W = 0.95973, p-value = 0.04565\n"
      ]
     },
     "metadata": {},
     "output_type": "display_data"
    },
    {
     "data": {
      "text/plain": [
       "\n",
       "\tShapiro-Wilk normality test\n",
       "\n",
       "data:  product3$QTY\n",
       "W = 0.96497, p-value = 0.0825\n"
      ]
     },
     "metadata": {},
     "output_type": "display_data"
    }
   ],
   "source": [
    "shapiro.test(product1$QTY)\n",
    "shapiro.test(product2$QTY)\n",
    "shapiro.test(product3$QTY)"
   ]
  },
  {
   "cell_type": "code",
   "execution_count": 33,
   "metadata": {},
   "outputs": [
    {
     "data": {
      "image/png": "[encoded data removed]",
      "text/plain": [
       "Plot with title \"Histogram of product3$QTY\""
      ]
     },
     "metadata": {},
     "output_type": "display_data"
    }
   ],
   "source": [
    "par(mfrow = c(3,1))\n",
    "hist(product1$QTY)\n",
    "hist(product2$QTY)\n",
    "hist(product3$QTY)"
   ]
  },
  {
   "cell_type": "code",
   "execution_count": 34,
   "metadata": {},
   "outputs": [
    {
     "data": {
      "text/html": [
       "<table>\n",
       "<thead><tr><th></th><th scope=col>ITEM_CNT</th><th scope=col>QTY</th><th scope=col>PRICE</th><th scope=col>MAXTEMP</th><th scope=col>SALEDAY</th><th scope=col>RAIN_DAY</th><th scope=col>HOLIDAY</th></tr></thead>\n",
       "<tbody>\n",
       "\t<tr><th scope=row>ITEM_CNT</th><td>1.000000000  </td><td> 0.62112638  </td><td> 0.13251757  </td><td> 0.1037499329</td><td> 0.54132421  </td><td> 0.21937484  </td><td> 0.0051196706</td></tr>\n",
       "\t<tr><th scope=row>QTY</th><td>0.621126383  </td><td> 1.00000000  </td><td>-0.09838038  </td><td> 0.7071806840</td><td> 0.50189095  </td><td> 0.47567660  </td><td> 0.1367153610</td></tr>\n",
       "\t<tr><th scope=row>PRICE</th><td>0.132517570  </td><td>-0.09838038  </td><td> 1.00000000  </td><td>-0.0843639944</td><td>-0.61948901  </td><td>-0.21129511  </td><td>-0.1157278564</td></tr>\n",
       "\t<tr><th scope=row>MAXTEMP</th><td>0.103749933  </td><td> 0.70718068  </td><td>-0.08436399  </td><td> 1.0000000000</td><td> 0.02615313  </td><td> 0.67485293  </td><td>-0.0007330759</td></tr>\n",
       "\t<tr><th scope=row>SALEDAY</th><td>0.541324210  </td><td> 0.50189095  </td><td>-0.61948901  </td><td> 0.0261531274</td><td> 1.00000000  </td><td> 0.21351983  </td><td> 0.1509168646</td></tr>\n",
       "\t<tr><th scope=row>RAIN_DAY</th><td>0.219374840  </td><td> 0.47567660  </td><td>-0.21129511  </td><td> 0.6748529252</td><td> 0.21351983  </td><td> 1.00000000  </td><td>-0.0513513553</td></tr>\n",
       "\t<tr><th scope=row>HOLIDAY</th><td>0.005119671  </td><td> 0.13671536  </td><td>-0.11572786  </td><td>-0.0007330759</td><td> 0.15091686  </td><td>-0.05135136  </td><td> 1.0000000000</td></tr>\n",
       "</tbody>\n",
       "</table>\n"
      ],
      "text/latex": [
       "\\begin{tabular}{r|lllllll}\n",
       "  & ITEM\\_CNT & QTY & PRICE & MAXTEMP & SALEDAY & RAIN\\_DAY & HOLIDAY\\\\\n",
       "\\hline\n",
       "\tITEM\\_CNT & 1.000000000   &  0.62112638   &  0.13251757   &  0.1037499329 &  0.54132421   &  0.21937484   &  0.0051196706\\\\\n",
       "\tQTY & 0.621126383   &  1.00000000   & -0.09838038   &  0.7071806840 &  0.50189095   &  0.47567660   &  0.1367153610\\\\\n",
       "\tPRICE & 0.132517570   & -0.09838038   &  1.00000000   & -0.0843639944 & -0.61948901   & -0.21129511   & -0.1157278564\\\\\n",
       "\tMAXTEMP & 0.103749933   &  0.70718068   & -0.08436399   &  1.0000000000 &  0.02615313   &  0.67485293   & -0.0007330759\\\\\n",
       "\tSALEDAY & 0.541324210   &  0.50189095   & -0.61948901   &  0.0261531274 &  1.00000000   &  0.21351983   &  0.1509168646\\\\\n",
       "\tRAIN\\_DAY & 0.219374840   &  0.47567660   & -0.21129511   &  0.6748529252 &  0.21351983   &  1.00000000   & -0.0513513553\\\\\n",
       "\tHOLIDAY & 0.005119671   &  0.13671536   & -0.11572786   & -0.0007330759 &  0.15091686   & -0.05135136   &  1.0000000000\\\\\n",
       "\\end{tabular}\n"
      ],
      "text/markdown": [
       "\n",
       "| <!--/--> | ITEM_CNT | QTY | PRICE | MAXTEMP | SALEDAY | RAIN_DAY | HOLIDAY |\n",
       "|---|---|---|---|---|---|---|---|\n",
       "| ITEM_CNT | 1.000000000   |  0.62112638   |  0.13251757   |  0.1037499329 |  0.54132421   |  0.21937484   |  0.0051196706 |\n",
       "| QTY | 0.621126383   |  1.00000000   | -0.09838038   |  0.7071806840 |  0.50189095   |  0.47567660   |  0.1367153610 |\n",
       "| PRICE | 0.132517570   | -0.09838038   |  1.00000000   | -0.0843639944 | -0.61948901   | -0.21129511   | -0.1157278564 |\n",
       "| MAXTEMP | 0.103749933   |  0.70718068   | -0.08436399   |  1.0000000000 |  0.02615313   |  0.67485293   | -0.0007330759 |\n",
       "| SALEDAY | 0.541324210   |  0.50189095   | -0.61948901   |  0.0261531274 |  1.00000000   |  0.21351983   |  0.1509168646 |\n",
       "| RAIN_DAY | 0.219374840   |  0.47567660   | -0.21129511   |  0.6748529252 |  0.21351983   |  1.00000000   | -0.0513513553 |\n",
       "| HOLIDAY | 0.005119671   |  0.13671536   | -0.11572786   | -0.0007330759 |  0.15091686   | -0.05135136   |  1.0000000000 |\n",
       "\n"
      ],
      "text/plain": [
       "         ITEM_CNT    QTY         PRICE       MAXTEMP       SALEDAY    \n",
       "ITEM_CNT 1.000000000  0.62112638  0.13251757  0.1037499329  0.54132421\n",
       "QTY      0.621126383  1.00000000 -0.09838038  0.7071806840  0.50189095\n",
       "PRICE    0.132517570 -0.09838038  1.00000000 -0.0843639944 -0.61948901\n",
       "MAXTEMP  0.103749933  0.70718068 -0.08436399  1.0000000000  0.02615313\n",
       "SALEDAY  0.541324210  0.50189095 -0.61948901  0.0261531274  1.00000000\n",
       "RAIN_DAY 0.219374840  0.47567660 -0.21129511  0.6748529252  0.21351983\n",
       "HOLIDAY  0.005119671  0.13671536 -0.11572786 -0.0007330759  0.15091686\n",
       "         RAIN_DAY    HOLIDAY      \n",
       "ITEM_CNT  0.21937484  0.0051196706\n",
       "QTY       0.47567660  0.1367153610\n",
       "PRICE    -0.21129511 -0.1157278564\n",
       "MAXTEMP   0.67485293 -0.0007330759\n",
       "SALEDAY   0.21351983  0.1509168646\n",
       "RAIN_DAY  1.00000000 -0.0513513553\n",
       "HOLIDAY  -0.05135136  1.0000000000"
      ]
     },
     "metadata": {},
     "output_type": "display_data"
    },
    {
     "data": {
      "text/html": [
       "<table>\n",
       "<thead><tr><th></th><th scope=col>ITEM_CNT</th><th scope=col>QTY</th><th scope=col>PRICE</th><th scope=col>MAXTEMP</th><th scope=col>SALEDAY</th><th scope=col>RAIN_DAY</th><th scope=col>HOLIDAY</th></tr></thead>\n",
       "<tbody>\n",
       "\t<tr><th scope=row>ITEM_CNT</th><td>1.00000000   </td><td>0.7515737    </td><td> 0.85768871  </td><td> 0.0657196895</td><td>0.94217720   </td><td> 0.25896488  </td><td> 0.1358020307</td></tr>\n",
       "\t<tr><th scope=row>QTY</th><td>0.75157371   </td><td>1.0000000    </td><td> 0.72105041  </td><td> 0.3615501216</td><td>0.71192476   </td><td> 0.51181463  </td><td> 0.1201901927</td></tr>\n",
       "\t<tr><th scope=row>PRICE</th><td>0.85768871   </td><td>0.7210504    </td><td> 1.00000000  </td><td>-0.0447921578</td><td>0.82446317   </td><td> 0.20432138  </td><td> 0.1188034038</td></tr>\n",
       "\t<tr><th scope=row>MAXTEMP</th><td>0.06571969   </td><td>0.3615501    </td><td>-0.04479216  </td><td> 1.0000000000</td><td>0.02615313   </td><td> 0.67485293  </td><td>-0.0007330759</td></tr>\n",
       "\t<tr><th scope=row>SALEDAY</th><td>0.94217720   </td><td>0.7119248    </td><td> 0.82446317  </td><td> 0.0261531274</td><td>1.00000000   </td><td> 0.21351983  </td><td> 0.1509168646</td></tr>\n",
       "\t<tr><th scope=row>RAIN_DAY</th><td>0.25896488   </td><td>0.5118146    </td><td> 0.20432138  </td><td> 0.6748529252</td><td>0.21351983   </td><td> 1.00000000  </td><td>-0.0513513553</td></tr>\n",
       "\t<tr><th scope=row>HOLIDAY</th><td>0.13580203   </td><td>0.1201902    </td><td> 0.11880340  </td><td>-0.0007330759</td><td>0.15091686   </td><td>-0.05135136  </td><td> 1.0000000000</td></tr>\n",
       "</tbody>\n",
       "</table>\n"
      ],
      "text/latex": [
       "\\begin{tabular}{r|lllllll}\n",
       "  & ITEM\\_CNT & QTY & PRICE & MAXTEMP & SALEDAY & RAIN\\_DAY & HOLIDAY\\\\\n",
       "\\hline\n",
       "\tITEM\\_CNT & 1.00000000    & 0.7515737     &  0.85768871   &  0.0657196895 & 0.94217720    &  0.25896488   &  0.1358020307\\\\\n",
       "\tQTY & 0.75157371    & 1.0000000     &  0.72105041   &  0.3615501216 & 0.71192476    &  0.51181463   &  0.1201901927\\\\\n",
       "\tPRICE & 0.85768871    & 0.7210504     &  1.00000000   & -0.0447921578 & 0.82446317    &  0.20432138   &  0.1188034038\\\\\n",
       "\tMAXTEMP & 0.06571969    & 0.3615501     & -0.04479216   &  1.0000000000 & 0.02615313    &  0.67485293   & -0.0007330759\\\\\n",
       "\tSALEDAY & 0.94217720    & 0.7119248     &  0.82446317   &  0.0261531274 & 1.00000000    &  0.21351983   &  0.1509168646\\\\\n",
       "\tRAIN\\_DAY & 0.25896488    & 0.5118146     &  0.20432138   &  0.6748529252 & 0.21351983    &  1.00000000   & -0.0513513553\\\\\n",
       "\tHOLIDAY & 0.13580203    & 0.1201902     &  0.11880340   & -0.0007330759 & 0.15091686    & -0.05135136   &  1.0000000000\\\\\n",
       "\\end{tabular}\n"
      ],
      "text/markdown": [
       "\n",
       "| <!--/--> | ITEM_CNT | QTY | PRICE | MAXTEMP | SALEDAY | RAIN_DAY | HOLIDAY |\n",
       "|---|---|---|---|---|---|---|---|\n",
       "| ITEM_CNT | 1.00000000    | 0.7515737     |  0.85768871   |  0.0657196895 | 0.94217720    |  0.25896488   |  0.1358020307 |\n",
       "| QTY | 0.75157371    | 1.0000000     |  0.72105041   |  0.3615501216 | 0.71192476    |  0.51181463   |  0.1201901927 |\n",
       "| PRICE | 0.85768871    | 0.7210504     |  1.00000000   | -0.0447921578 | 0.82446317    |  0.20432138   |  0.1188034038 |\n",
       "| MAXTEMP | 0.06571969    | 0.3615501     | -0.04479216   |  1.0000000000 | 0.02615313    |  0.67485293   | -0.0007330759 |\n",
       "| SALEDAY | 0.94217720    | 0.7119248     |  0.82446317   |  0.0261531274 | 1.00000000    |  0.21351983   |  0.1509168646 |\n",
       "| RAIN_DAY | 0.25896488    | 0.5118146     |  0.20432138   |  0.6748529252 | 0.21351983    |  1.00000000   | -0.0513513553 |\n",
       "| HOLIDAY | 0.13580203    | 0.1201902     |  0.11880340   | -0.0007330759 | 0.15091686    | -0.05135136   |  1.0000000000 |\n",
       "\n"
      ],
      "text/plain": [
       "         ITEM_CNT   QTY       PRICE       MAXTEMP       SALEDAY    RAIN_DAY   \n",
       "ITEM_CNT 1.00000000 0.7515737  0.85768871  0.0657196895 0.94217720  0.25896488\n",
       "QTY      0.75157371 1.0000000  0.72105041  0.3615501216 0.71192476  0.51181463\n",
       "PRICE    0.85768871 0.7210504  1.00000000 -0.0447921578 0.82446317  0.20432138\n",
       "MAXTEMP  0.06571969 0.3615501 -0.04479216  1.0000000000 0.02615313  0.67485293\n",
       "SALEDAY  0.94217720 0.7119248  0.82446317  0.0261531274 1.00000000  0.21351983\n",
       "RAIN_DAY 0.25896488 0.5118146  0.20432138  0.6748529252 0.21351983  1.00000000\n",
       "HOLIDAY  0.13580203 0.1201902  0.11880340 -0.0007330759 0.15091686 -0.05135136\n",
       "         HOLIDAY      \n",
       "ITEM_CNT  0.1358020307\n",
       "QTY       0.1201901927\n",
       "PRICE     0.1188034038\n",
       "MAXTEMP  -0.0007330759\n",
       "SALEDAY   0.1509168646\n",
       "RAIN_DAY -0.0513513553\n",
       "HOLIDAY   1.0000000000"
      ]
     },
     "metadata": {},
     "output_type": "display_data"
    },
    {
     "data": {
      "text/html": [
       "<table>\n",
       "<thead><tr><th></th><th scope=col>ITEM_CNT</th><th scope=col>QTY</th><th scope=col>PRICE</th><th scope=col>MAXTEMP</th><th scope=col>SALEDAY</th><th scope=col>RAIN_DAY</th><th scope=col>HOLIDAY</th></tr></thead>\n",
       "<tbody>\n",
       "\t<tr><th scope=row>ITEM_CNT</th><td>1.0000000    </td><td>0.5704122    </td><td> 0.70276692  </td><td> 0.2392536817</td><td>0.70821785   </td><td> 0.29735950  </td><td> 0.1415037482</td></tr>\n",
       "\t<tr><th scope=row>QTY</th><td>0.5704122    </td><td>1.0000000    </td><td> 0.51443998  </td><td> 0.6762249882</td><td>0.66706580   </td><td> 0.53253647  </td><td> 0.1490117845</td></tr>\n",
       "\t<tr><th scope=row>PRICE</th><td>0.7027669    </td><td>0.5144400    </td><td> 1.00000000  </td><td>-0.0209906744</td><td>0.79781578   </td><td> 0.11965126  </td><td> 0.1516141402</td></tr>\n",
       "\t<tr><th scope=row>MAXTEMP</th><td>0.2392537    </td><td>0.6762250    </td><td>-0.02099067  </td><td> 1.0000000000</td><td>0.02615313   </td><td> 0.67485293  </td><td>-0.0007330759</td></tr>\n",
       "\t<tr><th scope=row>SALEDAY</th><td>0.7082179    </td><td>0.6670658    </td><td> 0.79781578  </td><td> 0.0261531274</td><td>1.00000000   </td><td> 0.21351983  </td><td> 0.1509168646</td></tr>\n",
       "\t<tr><th scope=row>RAIN_DAY</th><td>0.2973595    </td><td>0.5325365    </td><td> 0.11965126  </td><td> 0.6748529252</td><td>0.21351983   </td><td> 1.00000000  </td><td>-0.0513513553</td></tr>\n",
       "\t<tr><th scope=row>HOLIDAY</th><td>0.1415037    </td><td>0.1490118    </td><td> 0.15161414  </td><td>-0.0007330759</td><td>0.15091686   </td><td>-0.05135136  </td><td> 1.0000000000</td></tr>\n",
       "</tbody>\n",
       "</table>\n"
      ],
      "text/latex": [
       "\\begin{tabular}{r|lllllll}\n",
       "  & ITEM\\_CNT & QTY & PRICE & MAXTEMP & SALEDAY & RAIN\\_DAY & HOLIDAY\\\\\n",
       "\\hline\n",
       "\tITEM\\_CNT & 1.0000000     & 0.5704122     &  0.70276692   &  0.2392536817 & 0.70821785    &  0.29735950   &  0.1415037482\\\\\n",
       "\tQTY & 0.5704122     & 1.0000000     &  0.51443998   &  0.6762249882 & 0.66706580    &  0.53253647   &  0.1490117845\\\\\n",
       "\tPRICE & 0.7027669     & 0.5144400     &  1.00000000   & -0.0209906744 & 0.79781578    &  0.11965126   &  0.1516141402\\\\\n",
       "\tMAXTEMP & 0.2392537     & 0.6762250     & -0.02099067   &  1.0000000000 & 0.02615313    &  0.67485293   & -0.0007330759\\\\\n",
       "\tSALEDAY & 0.7082179     & 0.6670658     &  0.79781578   &  0.0261531274 & 1.00000000    &  0.21351983   &  0.1509168646\\\\\n",
       "\tRAIN\\_DAY & 0.2973595     & 0.5325365     &  0.11965126   &  0.6748529252 & 0.21351983    &  1.00000000   & -0.0513513553\\\\\n",
       "\tHOLIDAY & 0.1415037     & 0.1490118     &  0.15161414   & -0.0007330759 & 0.15091686    & -0.05135136   &  1.0000000000\\\\\n",
       "\\end{tabular}\n"
      ],
      "text/markdown": [
       "\n",
       "| <!--/--> | ITEM_CNT | QTY | PRICE | MAXTEMP | SALEDAY | RAIN_DAY | HOLIDAY |\n",
       "|---|---|---|---|---|---|---|---|\n",
       "| ITEM_CNT | 1.0000000     | 0.5704122     |  0.70276692   |  0.2392536817 | 0.70821785    |  0.29735950   |  0.1415037482 |\n",
       "| QTY | 0.5704122     | 1.0000000     |  0.51443998   |  0.6762249882 | 0.66706580    |  0.53253647   |  0.1490117845 |\n",
       "| PRICE | 0.7027669     | 0.5144400     |  1.00000000   | -0.0209906744 | 0.79781578    |  0.11965126   |  0.1516141402 |\n",
       "| MAXTEMP | 0.2392537     | 0.6762250     | -0.02099067   |  1.0000000000 | 0.02615313    |  0.67485293   | -0.0007330759 |\n",
       "| SALEDAY | 0.7082179     | 0.6670658     |  0.79781578   |  0.0261531274 | 1.00000000    |  0.21351983   |  0.1509168646 |\n",
       "| RAIN_DAY | 0.2973595     | 0.5325365     |  0.11965126   |  0.6748529252 | 0.21351983    |  1.00000000   | -0.0513513553 |\n",
       "| HOLIDAY | 0.1415037     | 0.1490118     |  0.15161414   | -0.0007330759 | 0.15091686    | -0.05135136   |  1.0000000000 |\n",
       "\n"
      ],
      "text/plain": [
       "         ITEM_CNT  QTY       PRICE       MAXTEMP       SALEDAY    RAIN_DAY   \n",
       "ITEM_CNT 1.0000000 0.5704122  0.70276692  0.2392536817 0.70821785  0.29735950\n",
       "QTY      0.5704122 1.0000000  0.51443998  0.6762249882 0.66706580  0.53253647\n",
       "PRICE    0.7027669 0.5144400  1.00000000 -0.0209906744 0.79781578  0.11965126\n",
       "MAXTEMP  0.2392537 0.6762250 -0.02099067  1.0000000000 0.02615313  0.67485293\n",
       "SALEDAY  0.7082179 0.6670658  0.79781578  0.0261531274 1.00000000  0.21351983\n",
       "RAIN_DAY 0.2973595 0.5325365  0.11965126  0.6748529252 0.21351983  1.00000000\n",
       "HOLIDAY  0.1415037 0.1490118  0.15161414 -0.0007330759 0.15091686 -0.05135136\n",
       "         HOLIDAY      \n",
       "ITEM_CNT  0.1415037482\n",
       "QTY       0.1490117845\n",
       "PRICE     0.1516141402\n",
       "MAXTEMP  -0.0007330759\n",
       "SALEDAY   0.1509168646\n",
       "RAIN_DAY -0.0513513553\n",
       "HOLIDAY   1.0000000000"
      ]
     },
     "metadata": {},
     "output_type": "display_data"
    }
   ],
   "source": [
    "cor(product1)\n",
    "cor(product2)\n",
    "cor(product3)"
   ]
  },
  {
   "cell_type": "code",
   "execution_count": 35,
   "metadata": {},
   "outputs": [],
   "source": [
    "out1 = lm(QTY~., data=product1)\n",
    "out2 = lm(QTY~., data=product2)\n",
    "out3 = lm(QTY~., data=product3)"
   ]
  },
  {
   "cell_type": "code",
   "execution_count": 36,
   "metadata": {},
   "outputs": [
    {
     "data": {
      "text/plain": [
       "\n",
       "Call:\n",
       "lm(formula = QTY ~ ., data = product1)\n",
       "\n",
       "Residuals:\n",
       "    Min      1Q  Median      3Q     Max \n",
       "-466.58 -128.84    1.77   68.64  616.56 \n",
       "\n",
       "Coefficients:\n",
       "              Estimate Std. Error t value Pr(>|t|)    \n",
       "(Intercept) -2.427e+03  4.785e+02  -5.073 5.14e-06 ***\n",
       "ITEM_CNT     2.021e+01  5.130e+00   3.940  0.00024 ***\n",
       "PRICE        3.059e-01  1.484e-01   2.061  0.04424 *  \n",
       "MAXTEMP      5.227e+01  4.015e+00  13.018  < 2e-16 ***\n",
       "SALEDAY      6.651e-03  1.467e-03   4.534 3.34e-05 ***\n",
       "RAIN_DAY    -1.192e-02  3.977e-03  -2.996  0.00415 ** \n",
       "HOLIDAY      4.158e+01  2.443e+01   1.702  0.09463 .  \n",
       "---\n",
       "Signif. codes:  0 '***' 0.001 '**' 0.01 '*' 0.05 '.' 0.1 ' ' 1\n",
       "\n",
       "Residual standard error: 217.6 on 53 degrees of freedom\n",
       "Multiple R-squared:  0.8929,\tAdjusted R-squared:  0.8808 \n",
       "F-statistic: 73.65 on 6 and 53 DF,  p-value: < 2.2e-16\n"
      ]
     },
     "metadata": {},
     "output_type": "display_data"
    }
   ],
   "source": [
    "summary(out1)"
   ]
  },
  {
   "cell_type": "code",
   "execution_count": 37,
   "metadata": {},
   "outputs": [],
   "source": [
    "both1 = step(out1, direction = 'both', trace = FALSE)\n",
    "both2 = step(out2, direction = 'both', trace = FALSE)\n",
    "both3 = step(out3, direction = 'both', trace = FALSE)"
   ]
  },
  {
   "cell_type": "code",
   "execution_count": 38,
   "metadata": {},
   "outputs": [
    {
     "data": {
      "text/plain": [
       "\n",
       "Call:\n",
       "lm(formula = QTY ~ ITEM_CNT + PRICE + MAXTEMP + SALEDAY + RAIN_DAY + \n",
       "    HOLIDAY, data = product1)\n",
       "\n",
       "Residuals:\n",
       "    Min      1Q  Median      3Q     Max \n",
       "-466.58 -128.84    1.77   68.64  616.56 \n",
       "\n",
       "Coefficients:\n",
       "              Estimate Std. Error t value Pr(>|t|)    \n",
       "(Intercept) -2.427e+03  4.785e+02  -5.073 5.14e-06 ***\n",
       "ITEM_CNT     2.021e+01  5.130e+00   3.940  0.00024 ***\n",
       "PRICE        3.059e-01  1.484e-01   2.061  0.04424 *  \n",
       "MAXTEMP      5.227e+01  4.015e+00  13.018  < 2e-16 ***\n",
       "SALEDAY      6.651e-03  1.467e-03   4.534 3.34e-05 ***\n",
       "RAIN_DAY    -1.192e-02  3.977e-03  -2.996  0.00415 ** \n",
       "HOLIDAY      4.158e+01  2.443e+01   1.702  0.09463 .  \n",
       "---\n",
       "Signif. codes:  0 '***' 0.001 '**' 0.01 '*' 0.05 '.' 0.1 ' ' 1\n",
       "\n",
       "Residual standard error: 217.6 on 53 degrees of freedom\n",
       "Multiple R-squared:  0.8929,\tAdjusted R-squared:  0.8808 \n",
       "F-statistic: 73.65 on 6 and 53 DF,  p-value: < 2.2e-16\n"
      ]
     },
     "metadata": {},
     "output_type": "display_data"
    }
   ],
   "source": [
    "summary(both1)"
   ]
  },
  {
   "cell_type": "code",
   "execution_count": 17,
   "metadata": {},
   "outputs": [
    {
     "data": {
      "text/plain": [
       "\n",
       "Call:\n",
       "lm(formula = QTY ~ ., data = product1)\n",
       "\n",
       "Coefficients:\n",
       "(Intercept)            X     ITEM_CNT        PRICE      MAXTEMP      SALEDAY  \n",
       " -2.195e+03    1.009e+01    1.707e+01    3.904e-01    5.248e+01    3.407e-03  \n",
       "   RAIN_DAY      HOLIDAY  \n",
       " -1.154e-02    4.356e+01  \n"
      ]
     },
     "metadata": {},
     "output_type": "display_data"
    },
    {
     "data": {
      "text/plain": [
       "\n",
       "Call:\n",
       "lm(formula = QTY ~ ., data = product2)\n",
       "\n",
       "Coefficients:\n",
       "(Intercept)            X     ITEM_CNT        PRICE      MAXTEMP      SALEDAY  \n",
       " -4.552e+02   -2.942e+01    5.209e+01    9.608e-01    9.737e+00    6.979e-03  \n",
       "   RAIN_DAY      HOLIDAY  \n",
       "  5.106e-03    1.763e+00  \n"
      ]
     },
     "metadata": {},
     "output_type": "display_data"
    },
    {
     "data": {
      "text/plain": [
       "\n",
       "Call:\n",
       "lm(formula = QTY ~ ., data = product3)\n",
       "\n",
       "Coefficients:\n",
       "(Intercept)            X     ITEM_CNT        PRICE      MAXTEMP      SALEDAY  \n",
       " -3.393e+02    3.011e+00   -2.488e+01    4.453e-01    5.032e+01    9.376e-03  \n",
       "   RAIN_DAY      HOLIDAY  \n",
       " -5.770e-03    2.705e+01  \n"
      ]
     },
     "metadata": {},
     "output_type": "display_data"
    }
   ],
   "source": [
    "out1\n",
    "out2\n",
    "out3"
   ]
  },
  {
   "cell_type": "code",
   "execution_count": 18,
   "metadata": {},
   "outputs": [
    {
     "data": {
      "text/plain": [
       "\n",
       "Call:\n",
       "lm(formula = QTY ~ X + ITEM_CNT + PRICE + MAXTEMP + RAIN_DAY + \n",
       "    HOLIDAY, data = product1)\n",
       "\n",
       "Residuals:\n",
       "    Min      1Q  Median      3Q     Max \n",
       "-444.85 -109.81    3.66   93.53  611.60 \n",
       "\n",
       "Coefficients:\n",
       "              Estimate Std. Error t value Pr(>|t|)    \n",
       "(Intercept) -1.854e+03  4.082e+02  -4.543 3.24e-05 ***\n",
       "X            1.847e+01  4.052e+00   4.559 3.07e-05 ***\n",
       "ITEM_CNT     1.646e+01  5.792e+00   2.841  0.00637 ** \n",
       "PRICE        4.013e-01  1.655e-01   2.424  0.01877 *  \n",
       "MAXTEMP      5.237e+01  4.012e+00  13.053  < 2e-16 ***\n",
       "RAIN_DAY    -1.127e-02  3.977e-03  -2.834  0.00649 ** \n",
       "HOLIDAY      4.687e+01  2.426e+01   1.932  0.05869 .  \n",
       "---\n",
       "Signif. codes:  0 '***' 0.001 '**' 0.01 '*' 0.05 '.' 0.1 ' ' 1\n",
       "\n",
       "Residual standard error: 217.3 on 53 degrees of freedom\n",
       "Multiple R-squared:  0.8932,\tAdjusted R-squared:  0.8811 \n",
       "F-statistic:  73.9 on 6 and 53 DF,  p-value: < 2.2e-16\n"
      ]
     },
     "metadata": {},
     "output_type": "display_data"
    }
   ],
   "source": [
    "summary(both1)"
   ]
  },
  {
   "cell_type": "code",
   "execution_count": 19,
   "metadata": {},
   "outputs": [
    {
     "data": {
      "text/plain": [
       "\n",
       "Call:\n",
       "lm(formula = QTY ~ X + ITEM_CNT + PRICE + MAXTEMP + SALEDAY + \n",
       "    RAIN_DAY, data = product2)\n",
       "\n",
       "Residuals:\n",
       "    Min      1Q  Median      3Q     Max \n",
       "-319.72 -104.54  -37.62   95.11  472.52 \n",
       "\n",
       "Coefficients:\n",
       "              Estimate Std. Error t value Pr(>|t|)    \n",
       "(Intercept) -4.366e+02  4.890e+02  -0.893  0.37604    \n",
       "X           -2.959e+01  1.218e+01  -2.429  0.01856 *  \n",
       "ITEM_CNT     5.228e+01  2.068e+01   2.528  0.01449 *  \n",
       "PRICE        9.627e-01  2.681e-01   3.591  0.00072 ***\n",
       "MAXTEMP      9.764e+00  3.706e+00   2.635  0.01102 *  \n",
       "SALEDAY      7.023e-03  3.099e-03   2.266  0.02754 *  \n",
       "RAIN_DAY     5.063e-03  3.635e-03   1.393  0.16942    \n",
       "---\n",
       "Signif. codes:  0 '***' 0.001 '**' 0.01 '*' 0.05 '.' 0.1 ' ' 1\n",
       "\n",
       "Residual standard error: 195.7 on 53 degrees of freedom\n",
       "Multiple R-squared:  0.7539,\tAdjusted R-squared:  0.7261 \n",
       "F-statistic: 27.06 on 6 and 53 DF,  p-value: 1.667e-14\n"
      ]
     },
     "metadata": {},
     "output_type": "display_data"
    }
   ],
   "source": [
    "summary(both2)"
   ]
  },
  {
   "cell_type": "code",
   "execution_count": 20,
   "metadata": {},
   "outputs": [
    {
     "data": {
      "text/plain": [
       "\n",
       "Call:\n",
       "lm(formula = QTY ~ ITEM_CNT + MAXTEMP + SALEDAY + RAIN_DAY, data = product3)\n",
       "\n",
       "Residuals:\n",
       "    Min      1Q  Median      3Q     Max \n",
       "-439.01 -153.19  -10.17  111.11  847.70 \n",
       "\n",
       "Coefficients:\n",
       "              Estimate Std. Error t value Pr(>|t|)    \n",
       "(Intercept) 407.001584 435.740293   0.934    0.354    \n",
       "ITEM_CNT    -19.839826  12.502835  -1.587    0.118    \n",
       "MAXTEMP      50.176566   4.235722  11.846  < 2e-16 ***\n",
       "SALEDAY       0.011402   0.001013  11.255 6.84e-16 ***\n",
       "RAIN_DAY     -0.006452   0.004013  -1.608    0.114    \n",
       "---\n",
       "Signif. codes:  0 '***' 0.001 '**' 0.01 '*' 0.05 '.' 0.1 ' ' 1\n",
       "\n",
       "Residual standard error: 224.4 on 55 degrees of freedom\n",
       "Multiple R-squared:  0.8895,\tAdjusted R-squared:  0.8814 \n",
       "F-statistic: 110.7 on 4 and 55 DF,  p-value: < 2.2e-16\n"
      ]
     },
     "metadata": {},
     "output_type": "display_data"
    }
   ],
   "source": [
    "summary(both3)"
   ]
  },
  {
   "cell_type": "code",
   "execution_count": 40,
   "metadata": {},
   "outputs": [
    {
     "data": {
      "text/html": [
       "<table>\n",
       "<thead><tr><th></th><th scope=col>Df</th><th scope=col>Sum Sq</th><th scope=col>Mean Sq</th><th scope=col>F value</th><th scope=col>Pr(&gt;F)</th></tr></thead>\n",
       "<tbody>\n",
       "\t<tr><th scope=row>ITEM_CNT</th><td> 1          </td><td>9043861.0   </td><td>9043860.97  </td><td>190.930409  </td><td>3.307852e-19</td></tr>\n",
       "\t<tr><th scope=row>PRICE</th><td> 1          </td><td> 779038.9   </td><td> 779038.89  </td><td> 16.446760  </td><td>1.650024e-04</td></tr>\n",
       "\t<tr><th scope=row>MAXTEMP</th><td> 1          </td><td>9340102.9   </td><td>9340102.88  </td><td>197.184551  </td><td>1.685610e-19</td></tr>\n",
       "\t<tr><th scope=row>SALEDAY</th><td> 1          </td><td>1151106.8   </td><td>1151106.77  </td><td> 24.301710  </td><td>8.501686e-06</td></tr>\n",
       "\t<tr><th scope=row>RAIN_DAY</th><td> 1          </td><td> 480183.7   </td><td> 480183.74  </td><td> 10.137449  </td><td>2.432936e-03</td></tr>\n",
       "\t<tr><th scope=row>HOLIDAY</th><td> 1          </td><td> 137199.2   </td><td> 137199.21  </td><td>  2.896495  </td><td>9.463209e-02</td></tr>\n",
       "\t<tr><th scope=row>Residuals</th><td>53          </td><td>2510467.7   </td><td>  47367.32  </td><td>        NA  </td><td>          NA</td></tr>\n",
       "</tbody>\n",
       "</table>\n"
      ],
      "text/latex": [
       "\\begin{tabular}{r|lllll}\n",
       "  & Df & Sum Sq & Mean Sq & F value & Pr(>F)\\\\\n",
       "\\hline\n",
       "\tITEM\\_CNT &  1           & 9043861.0    & 9043860.97   & 190.930409   & 3.307852e-19\\\\\n",
       "\tPRICE &  1           &  779038.9    &  779038.89   &  16.446760   & 1.650024e-04\\\\\n",
       "\tMAXTEMP &  1           & 9340102.9    & 9340102.88   & 197.184551   & 1.685610e-19\\\\\n",
       "\tSALEDAY &  1           & 1151106.8    & 1151106.77   &  24.301710   & 8.501686e-06\\\\\n",
       "\tRAIN\\_DAY &  1           &  480183.7    &  480183.74   &  10.137449   & 2.432936e-03\\\\\n",
       "\tHOLIDAY &  1           &  137199.2    &  137199.21   &   2.896495   & 9.463209e-02\\\\\n",
       "\tResiduals & 53           & 2510467.7    &   47367.32   &         NA   &           NA\\\\\n",
       "\\end{tabular}\n"
      ],
      "text/markdown": [
       "\n",
       "| <!--/--> | Df | Sum Sq | Mean Sq | F value | Pr(>F) |\n",
       "|---|---|---|---|---|---|\n",
       "| ITEM_CNT |  1           | 9043861.0    | 9043860.97   | 190.930409   | 3.307852e-19 |\n",
       "| PRICE |  1           |  779038.9    |  779038.89   |  16.446760   | 1.650024e-04 |\n",
       "| MAXTEMP |  1           | 9340102.9    | 9340102.88   | 197.184551   | 1.685610e-19 |\n",
       "| SALEDAY |  1           | 1151106.8    | 1151106.77   |  24.301710   | 8.501686e-06 |\n",
       "| RAIN_DAY |  1           |  480183.7    |  480183.74   |  10.137449   | 2.432936e-03 |\n",
       "| HOLIDAY |  1           |  137199.2    |  137199.21   |   2.896495   | 9.463209e-02 |\n",
       "| Residuals | 53           | 2510467.7    |   47367.32   |         NA   |           NA |\n",
       "\n"
      ],
      "text/plain": [
       "          Df Sum Sq    Mean Sq    F value    Pr(>F)      \n",
       "ITEM_CNT   1 9043861.0 9043860.97 190.930409 3.307852e-19\n",
       "PRICE      1  779038.9  779038.89  16.446760 1.650024e-04\n",
       "MAXTEMP    1 9340102.9 9340102.88 197.184551 1.685610e-19\n",
       "SALEDAY    1 1151106.8 1151106.77  24.301710 8.501686e-06\n",
       "RAIN_DAY   1  480183.7  480183.74  10.137449 2.432936e-03\n",
       "HOLIDAY    1  137199.2  137199.21   2.896495 9.463209e-02\n",
       "Residuals 53 2510467.7   47367.32         NA           NA"
      ]
     },
     "metadata": {},
     "output_type": "display_data"
    }
   ],
   "source": [
    "anova(both1)"
   ]
  },
  {
   "cell_type": "code",
   "execution_count": 24,
   "metadata": {},
   "outputs": [
    {
     "data": {
      "text/html": [
       "<table>\n",
       "<thead><tr><th></th><th scope=col>Df</th><th scope=col>Sum Sq</th><th scope=col>Mean Sq</th><th scope=col>F value</th><th scope=col>Pr(&gt;F)</th></tr></thead>\n",
       "<tbody>\n",
       "\t<tr><th scope=row>X</th><td> 1          </td><td>4247851.32  </td><td>4247851.32  </td><td>110.970147  </td><td>1.320933e-14</td></tr>\n",
       "\t<tr><th scope=row>ITEM_CNT</th><td> 1          </td><td> 446413.15  </td><td> 446413.15  </td><td> 11.662021  </td><td>1.230864e-03</td></tr>\n",
       "\t<tr><th scope=row>PRICE</th><td> 1          </td><td> 273159.30  </td><td> 273159.30  </td><td>  7.135967  </td><td>1.001309e-02</td></tr>\n",
       "\t<tr><th scope=row>MAXTEMP</th><td> 1          </td><td> 938059.48  </td><td> 938059.48  </td><td> 24.505707  </td><td>7.907744e-06</td></tr>\n",
       "\t<tr><th scope=row>SALEDAY</th><td> 1          </td><td> 235639.93  </td><td> 235639.93  </td><td>  6.155817  </td><td>1.630553e-02</td></tr>\n",
       "\t<tr><th scope=row>RAIN_DAY</th><td> 1          </td><td>  74285.45  </td><td>  74285.45  </td><td>  1.940620  </td><td>1.694169e-01</td></tr>\n",
       "\t<tr><th scope=row>Residuals</th><td>53          </td><td>2028798.97  </td><td>  38279.23  </td><td>        NA  </td><td>          NA</td></tr>\n",
       "</tbody>\n",
       "</table>\n"
      ],
      "text/latex": [
       "\\begin{tabular}{r|lllll}\n",
       "  & Df & Sum Sq & Mean Sq & F value & Pr(>F)\\\\\n",
       "\\hline\n",
       "\tX &  1           & 4247851.32   & 4247851.32   & 110.970147   & 1.320933e-14\\\\\n",
       "\tITEM\\_CNT &  1           &  446413.15   &  446413.15   &  11.662021   & 1.230864e-03\\\\\n",
       "\tPRICE &  1           &  273159.30   &  273159.30   &   7.135967   & 1.001309e-02\\\\\n",
       "\tMAXTEMP &  1           &  938059.48   &  938059.48   &  24.505707   & 7.907744e-06\\\\\n",
       "\tSALEDAY &  1           &  235639.93   &  235639.93   &   6.155817   & 1.630553e-02\\\\\n",
       "\tRAIN\\_DAY &  1           &   74285.45   &   74285.45   &   1.940620   & 1.694169e-01\\\\\n",
       "\tResiduals & 53           & 2028798.97   &   38279.23   &         NA   &           NA\\\\\n",
       "\\end{tabular}\n"
      ],
      "text/markdown": [
       "\n",
       "| <!--/--> | Df | Sum Sq | Mean Sq | F value | Pr(>F) |\n",
       "|---|---|---|---|---|---|\n",
       "| X |  1           | 4247851.32   | 4247851.32   | 110.970147   | 1.320933e-14 |\n",
       "| ITEM_CNT |  1           |  446413.15   |  446413.15   |  11.662021   | 1.230864e-03 |\n",
       "| PRICE |  1           |  273159.30   |  273159.30   |   7.135967   | 1.001309e-02 |\n",
       "| MAXTEMP |  1           |  938059.48   |  938059.48   |  24.505707   | 7.907744e-06 |\n",
       "| SALEDAY |  1           |  235639.93   |  235639.93   |   6.155817   | 1.630553e-02 |\n",
       "| RAIN_DAY |  1           |   74285.45   |   74285.45   |   1.940620   | 1.694169e-01 |\n",
       "| Residuals | 53           | 2028798.97   |   38279.23   |         NA   |           NA |\n",
       "\n"
      ],
      "text/plain": [
       "          Df Sum Sq     Mean Sq    F value    Pr(>F)      \n",
       "X          1 4247851.32 4247851.32 110.970147 1.320933e-14\n",
       "ITEM_CNT   1  446413.15  446413.15  11.662021 1.230864e-03\n",
       "PRICE      1  273159.30  273159.30   7.135967 1.001309e-02\n",
       "MAXTEMP    1  938059.48  938059.48  24.505707 7.907744e-06\n",
       "SALEDAY    1  235639.93  235639.93   6.155817 1.630553e-02\n",
       "RAIN_DAY   1   74285.45   74285.45   1.940620 1.694169e-01\n",
       "Residuals 53 2028798.97   38279.23         NA           NA"
      ]
     },
     "metadata": {},
     "output_type": "display_data"
    }
   ],
   "source": [
    "anova(both2)"
   ]
  },
  {
   "cell_type": "code",
   "execution_count": 25,
   "metadata": {},
   "outputs": [
    {
     "data": {
      "text/html": [
       "<table>\n",
       "<thead><tr><th></th><th scope=col>Df</th><th scope=col>Sum Sq</th><th scope=col>Mean Sq</th><th scope=col>F value</th><th scope=col>Pr(&gt;F)</th></tr></thead>\n",
       "<tbody>\n",
       "\t<tr><th scope=row>ITEM_CNT</th><td> 1          </td><td>8151493     </td><td>8151493.0   </td><td>161.921985  </td><td>5.039152e-18</td></tr>\n",
       "\t<tr><th scope=row>MAXTEMP</th><td> 1          </td><td>7741902     </td><td>7741902.2   </td><td>153.785837  </td><td>1.451067e-17</td></tr>\n",
       "\t<tr><th scope=row>SALEDAY</th><td> 1          </td><td>6260649     </td><td>6260649.1   </td><td>124.362092  </td><td>9.735938e-16</td></tr>\n",
       "\t<tr><th scope=row>RAIN_DAY</th><td> 1          </td><td> 130132     </td><td> 130132.0   </td><td>  2.584954  </td><td>1.136097e-01</td></tr>\n",
       "\t<tr><th scope=row>Residuals</th><td>55          </td><td>2768816     </td><td>  50342.1   </td><td>        NA  </td><td>          NA</td></tr>\n",
       "</tbody>\n",
       "</table>\n"
      ],
      "text/latex": [
       "\\begin{tabular}{r|lllll}\n",
       "  & Df & Sum Sq & Mean Sq & F value & Pr(>F)\\\\\n",
       "\\hline\n",
       "\tITEM\\_CNT &  1           & 8151493      & 8151493.0    & 161.921985   & 5.039152e-18\\\\\n",
       "\tMAXTEMP &  1           & 7741902      & 7741902.2    & 153.785837   & 1.451067e-17\\\\\n",
       "\tSALEDAY &  1           & 6260649      & 6260649.1    & 124.362092   & 9.735938e-16\\\\\n",
       "\tRAIN\\_DAY &  1           &  130132      &  130132.0    &   2.584954   & 1.136097e-01\\\\\n",
       "\tResiduals & 55           & 2768816      &   50342.1    &         NA   &           NA\\\\\n",
       "\\end{tabular}\n"
      ],
      "text/markdown": [
       "\n",
       "| <!--/--> | Df | Sum Sq | Mean Sq | F value | Pr(>F) |\n",
       "|---|---|---|---|---|---|\n",
       "| ITEM_CNT |  1           | 8151493      | 8151493.0    | 161.921985   | 5.039152e-18 |\n",
       "| MAXTEMP |  1           | 7741902      | 7741902.2    | 153.785837   | 1.451067e-17 |\n",
       "| SALEDAY |  1           | 6260649      | 6260649.1    | 124.362092   | 9.735938e-16 |\n",
       "| RAIN_DAY |  1           |  130132      |  130132.0    |   2.584954   | 1.136097e-01 |\n",
       "| Residuals | 55           | 2768816      |   50342.1    |         NA   |           NA |\n",
       "\n"
      ],
      "text/plain": [
       "          Df Sum Sq  Mean Sq   F value    Pr(>F)      \n",
       "ITEM_CNT   1 8151493 8151493.0 161.921985 5.039152e-18\n",
       "MAXTEMP    1 7741902 7741902.2 153.785837 1.451067e-17\n",
       "SALEDAY    1 6260649 6260649.1 124.362092 9.735938e-16\n",
       "RAIN_DAY   1  130132  130132.0   2.584954 1.136097e-01\n",
       "Residuals 55 2768816   50342.1         NA           NA"
      ]
     },
     "metadata": {},
     "output_type": "display_data"
    }
   ],
   "source": [
    "anova(both3)"
   ]
  },
  {
   "cell_type": "code",
   "execution_count": null,
   "metadata": {},
   "outputs": [],
   "source": []
  }
 ],
 "metadata": {
  "kernelspec": {
   "display_name": "R",
   "language": "R",
   "name": "ir"
  },
  "language_info": {
   "codemirror_mode": "r",
   "file_extension": ".r",
   "mimetype": "text/x-r-source",
   "name": "R",
   "pygments_lexer": "r",
   "version": "3.6.1"
  }
 },
 "nbformat": 4,
 "nbformat_minor": 4
}
