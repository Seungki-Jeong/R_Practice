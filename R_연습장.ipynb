{
 "cells": [
  {
   "cell_type": "markdown",
   "metadata": {},
   "source": [
    "## 1. 혼자서 해보기"
   ]
  },
  {
   "cell_type": "code",
   "execution_count": 160,
   "metadata": {},
   "outputs": [
    {
     "data": {
      "text/html": [
       "<table>\n",
       "<thead><tr><th scope=col>manufacturer</th><th scope=col>model</th><th scope=col>displ</th><th scope=col>year</th><th scope=col>cyl</th><th scope=col>trans</th><th scope=col>drv</th><th scope=col>cty</th><th scope=col>hwy</th><th scope=col>fl</th><th scope=col>class</th></tr></thead>\n",
       "<tbody>\n",
       "\t<tr><td>audi      </td><td>a4        </td><td>1.8       </td><td>1999      </td><td>4         </td><td>auto(l5)  </td><td>f         </td><td>18        </td><td>29        </td><td>p         </td><td>compact   </td></tr>\n",
       "\t<tr><td>audi      </td><td>a4        </td><td>1.8       </td><td>1999      </td><td>4         </td><td>manual(m5)</td><td>f         </td><td>21        </td><td>29        </td><td>p         </td><td>compact   </td></tr>\n",
       "\t<tr><td>audi      </td><td>a4        </td><td>2.0       </td><td>2008      </td><td>4         </td><td>manual(m6)</td><td>f         </td><td>20        </td><td>31        </td><td>p         </td><td>compact   </td></tr>\n",
       "</tbody>\n",
       "</table>\n"
      ],
      "text/latex": [
       "\\begin{tabular}{r|lllllllllll}\n",
       " manufacturer & model & displ & year & cyl & trans & drv & cty & hwy & fl & class\\\\\n",
       "\\hline\n",
       "\t audi       & a4         & 1.8        & 1999       & 4          & auto(l5)   & f          & 18         & 29         & p          & compact   \\\\\n",
       "\t audi       & a4         & 1.8        & 1999       & 4          & manual(m5) & f          & 21         & 29         & p          & compact   \\\\\n",
       "\t audi       & a4         & 2.0        & 2008       & 4          & manual(m6) & f          & 20         & 31         & p          & compact   \\\\\n",
       "\\end{tabular}\n"
      ],
      "text/markdown": [
       "\n",
       "| manufacturer | model | displ | year | cyl | trans | drv | cty | hwy | fl | class |\n",
       "|---|---|---|---|---|---|---|---|---|---|---|\n",
       "| audi       | a4         | 1.8        | 1999       | 4          | auto(l5)   | f          | 18         | 29         | p          | compact    |\n",
       "| audi       | a4         | 1.8        | 1999       | 4          | manual(m5) | f          | 21         | 29         | p          | compact    |\n",
       "| audi       | a4         | 2.0        | 2008       | 4          | manual(m6) | f          | 20         | 31         | p          | compact    |\n",
       "\n"
      ],
      "text/plain": [
       "  manufacturer model displ year cyl trans      drv cty hwy fl class  \n",
       "1 audi         a4    1.8   1999 4   auto(l5)   f   18  29  p  compact\n",
       "2 audi         a4    1.8   1999 4   manual(m5) f   21  29  p  compact\n",
       "3 audi         a4    2.0   2008 4   manual(m6) f   20  31  p  compact"
      ]
     },
     "metadata": {},
     "output_type": "display_data"
    }
   ],
   "source": [
    "mpg = as.data.frame(ggplot2::mpg)\n",
    "head(mpg, 3)"
   ]
  },
  {
   "cell_type": "code",
   "execution_count": 161,
   "metadata": {},
   "outputs": [],
   "source": [
    "displ_1 = mpg %>% filter(displ <= 4)\n",
    "displ_2 = mpg %>% filter(displ >= 5)"
   ]
  },
  {
   "cell_type": "code",
   "execution_count": 162,
   "metadata": {},
   "outputs": [
    {
     "data": {
      "text/html": [
       "25.9631901840491"
      ],
      "text/latex": [
       "25.9631901840491"
      ],
      "text/markdown": [
       "25.9631901840491"
      ],
      "text/plain": [
       "[1] 25.96319"
      ]
     },
     "metadata": {},
     "output_type": "display_data"
    }
   ],
   "source": [
    "mean(displ_1$hwy)"
   ]
  },
  {
   "cell_type": "code",
   "execution_count": 163,
   "metadata": {},
   "outputs": [
    {
     "data": {
      "text/html": [
       "18.0789473684211"
      ],
      "text/latex": [
       "18.0789473684211"
      ],
      "text/markdown": [
       "18.0789473684211"
      ],
      "text/plain": [
       "[1] 18.07895"
      ]
     },
     "metadata": {},
     "output_type": "display_data"
    }
   ],
   "source": [
    "mean(displ_2$hwy)"
   ]
  },
  {
   "cell_type": "code",
   "execution_count": 164,
   "metadata": {},
   "outputs": [],
   "source": [
    "case1 = mpg %>% filter(manufacturer == \"audi\")\n",
    "case2 = mpg %>% filter(manufacturer == \"toyota\")"
   ]
  },
  {
   "cell_type": "code",
   "execution_count": 165,
   "metadata": {},
   "outputs": [
    {
     "data": {
      "text/html": [
       "17.6111111111111"
      ],
      "text/latex": [
       "17.6111111111111"
      ],
      "text/markdown": [
       "17.6111111111111"
      ],
      "text/plain": [
       "[1] 17.61111"
      ]
     },
     "metadata": {},
     "output_type": "display_data"
    }
   ],
   "source": [
    "mean(case1$cty)"
   ]
  },
  {
   "cell_type": "code",
   "execution_count": 166,
   "metadata": {},
   "outputs": [
    {
     "data": {
      "text/html": [
       "18.5294117647059"
      ],
      "text/latex": [
       "18.5294117647059"
      ],
      "text/markdown": [
       "18.5294117647059"
      ],
      "text/plain": [
       "[1] 18.52941"
      ]
     },
     "metadata": {},
     "output_type": "display_data"
    }
   ],
   "source": [
    "mean(case2$cty)"
   ]
  },
  {
   "cell_type": "code",
   "execution_count": 167,
   "metadata": {},
   "outputs": [
    {
     "data": {
      "text/html": [
       "22.5094339622642"
      ],
      "text/latex": [
       "22.5094339622642"
      ],
      "text/markdown": [
       "22.5094339622642"
      ],
      "text/plain": [
       "[1] 22.50943"
      ]
     },
     "metadata": {},
     "output_type": "display_data"
    }
   ],
   "source": [
    "case3 = mpg %>% filter(manufacturer %in% c(\"chevrolet\", \"ford\", \"honda\"))\n",
    "mean(case3$hwy)"
   ]
  },
  {
   "cell_type": "markdown",
   "metadata": {},
   "source": [
    "## 2. 혼자서 해보기"
   ]
  },
  {
   "cell_type": "code",
   "execution_count": 169,
   "metadata": {},
   "outputs": [
    {
     "data": {
      "text/html": [
       "<table>\n",
       "<thead><tr><th scope=col>manufacturer</th><th scope=col>model</th><th scope=col>displ</th><th scope=col>year</th><th scope=col>cyl</th><th scope=col>trans</th><th scope=col>drv</th><th scope=col>cty</th><th scope=col>hwy</th><th scope=col>fl</th><th scope=col>class</th></tr></thead>\n",
       "<tbody>\n",
       "\t<tr><td>audi      </td><td>a4        </td><td>1.8       </td><td>1999      </td><td>4         </td><td>auto(l5)  </td><td>f         </td><td>18        </td><td>29        </td><td>p         </td><td>compact   </td></tr>\n",
       "\t<tr><td>audi      </td><td>a4        </td><td>1.8       </td><td>1999      </td><td>4         </td><td>manual(m5)</td><td>f         </td><td>21        </td><td>29        </td><td>p         </td><td>compact   </td></tr>\n",
       "\t<tr><td>audi      </td><td>a4        </td><td>2.0       </td><td>2008      </td><td>4         </td><td>manual(m6)</td><td>f         </td><td>20        </td><td>31        </td><td>p         </td><td>compact   </td></tr>\n",
       "</tbody>\n",
       "</table>\n"
      ],
      "text/latex": [
       "\\begin{tabular}{r|lllllllllll}\n",
       " manufacturer & model & displ & year & cyl & trans & drv & cty & hwy & fl & class\\\\\n",
       "\\hline\n",
       "\t audi       & a4         & 1.8        & 1999       & 4          & auto(l5)   & f          & 18         & 29         & p          & compact   \\\\\n",
       "\t audi       & a4         & 1.8        & 1999       & 4          & manual(m5) & f          & 21         & 29         & p          & compact   \\\\\n",
       "\t audi       & a4         & 2.0        & 2008       & 4          & manual(m6) & f          & 20         & 31         & p          & compact   \\\\\n",
       "\\end{tabular}\n"
      ],
      "text/markdown": [
       "\n",
       "| manufacturer | model | displ | year | cyl | trans | drv | cty | hwy | fl | class |\n",
       "|---|---|---|---|---|---|---|---|---|---|---|\n",
       "| audi       | a4         | 1.8        | 1999       | 4          | auto(l5)   | f          | 18         | 29         | p          | compact    |\n",
       "| audi       | a4         | 1.8        | 1999       | 4          | manual(m5) | f          | 21         | 29         | p          | compact    |\n",
       "| audi       | a4         | 2.0        | 2008       | 4          | manual(m6) | f          | 20         | 31         | p          | compact    |\n",
       "\n"
      ],
      "text/plain": [
       "  manufacturer model displ year cyl trans      drv cty hwy fl class  \n",
       "1 audi         a4    1.8   1999 4   auto(l5)   f   18  29  p  compact\n",
       "2 audi         a4    1.8   1999 4   manual(m5) f   21  29  p  compact\n",
       "3 audi         a4    2.0   2008 4   manual(m6) f   20  31  p  compact"
      ]
     },
     "metadata": {},
     "output_type": "display_data"
    }
   ],
   "source": [
    "head(mpg, 3)"
   ]
  },
  {
   "cell_type": "code",
   "execution_count": 171,
   "metadata": {},
   "outputs": [
    {
     "data": {
      "text/html": [
       "<table>\n",
       "<thead><tr><th scope=col>class</th><th scope=col>cty</th></tr></thead>\n",
       "<tbody>\n",
       "\t<tr><td>compact</td><td>18     </td></tr>\n",
       "\t<tr><td>compact</td><td>21     </td></tr>\n",
       "\t<tr><td>compact</td><td>20     </td></tr>\n",
       "</tbody>\n",
       "</table>\n"
      ],
      "text/latex": [
       "\\begin{tabular}{r|ll}\n",
       " class & cty\\\\\n",
       "\\hline\n",
       "\t compact & 18     \\\\\n",
       "\t compact & 21     \\\\\n",
       "\t compact & 20     \\\\\n",
       "\\end{tabular}\n"
      ],
      "text/markdown": [
       "\n",
       "| class | cty |\n",
       "|---|---|\n",
       "| compact | 18      |\n",
       "| compact | 21      |\n",
       "| compact | 20      |\n",
       "\n"
      ],
      "text/plain": [
       "  class   cty\n",
       "1 compact 18 \n",
       "2 compact 21 \n",
       "3 compact 20 "
      ]
     },
     "metadata": {},
     "output_type": "display_data"
    }
   ],
   "source": [
    "mpg_new = mpg %>% select(class, cty)\n",
    "head(mpg_new, 3)"
   ]
  },
  {
   "cell_type": "code",
   "execution_count": 172,
   "metadata": {},
   "outputs": [],
   "source": [
    "suv = mpg_new %>% filter(class == \"suv\")\n",
    "compact = mpg_new %>% filter(class == 'compact')"
   ]
  },
  {
   "cell_type": "code",
   "execution_count": 173,
   "metadata": {},
   "outputs": [
    {
     "data": {
      "text/html": [
       "13.5"
      ],
      "text/latex": [
       "13.5"
      ],
      "text/markdown": [
       "13.5"
      ],
      "text/plain": [
       "[1] 13.5"
      ]
     },
     "metadata": {},
     "output_type": "display_data"
    }
   ],
   "source": [
    "mean(suv$cty)"
   ]
  },
  {
   "cell_type": "code",
   "execution_count": 174,
   "metadata": {},
   "outputs": [
    {
     "data": {
      "text/html": [
       "20.1276595744681"
      ],
      "text/latex": [
       "20.1276595744681"
      ],
      "text/markdown": [
       "20.1276595744681"
      ],
      "text/plain": [
       "[1] 20.12766"
      ]
     },
     "metadata": {},
     "output_type": "display_data"
    }
   ],
   "source": [
    "mean(compact$cty)"
   ]
  },
  {
   "cell_type": "markdown",
   "metadata": {},
   "source": [
    "## 3. 혼자서 해보기"
   ]
  },
  {
   "cell_type": "code",
   "execution_count": 176,
   "metadata": {},
   "outputs": [
    {
     "data": {
      "text/html": [
       "<table>\n",
       "<thead><tr><th scope=col>manufacturer</th><th scope=col>model</th><th scope=col>displ</th><th scope=col>year</th><th scope=col>cyl</th><th scope=col>trans</th><th scope=col>drv</th><th scope=col>cty</th><th scope=col>hwy</th><th scope=col>fl</th><th scope=col>class</th></tr></thead>\n",
       "<tbody>\n",
       "\t<tr><td>audi      </td><td>a4        </td><td>2.0       </td><td>2008      </td><td>4         </td><td>manual(m6)</td><td>f         </td><td>20        </td><td>31        </td><td>p         </td><td>compact   </td></tr>\n",
       "\t<tr><td>audi      </td><td>a4        </td><td>2.0       </td><td>2008      </td><td>4         </td><td>auto(av)  </td><td>f         </td><td>21        </td><td>30        </td><td>p         </td><td>compact   </td></tr>\n",
       "\t<tr><td>audi      </td><td>a4        </td><td>1.8       </td><td>1999      </td><td>4         </td><td>auto(l5)  </td><td>f         </td><td>18        </td><td>29        </td><td>p         </td><td>compact   </td></tr>\n",
       "\t<tr><td>audi      </td><td>a4        </td><td>1.8       </td><td>1999      </td><td>4         </td><td>manual(m5)</td><td>f         </td><td>21        </td><td>29        </td><td>p         </td><td>compact   </td></tr>\n",
       "\t<tr><td>audi      </td><td>a4 quattro</td><td>2.0       </td><td>2008      </td><td>4         </td><td>manual(m6)</td><td>4         </td><td>20        </td><td>28        </td><td>p         </td><td>compact   </td></tr>\n",
       "</tbody>\n",
       "</table>\n"
      ],
      "text/latex": [
       "\\begin{tabular}{r|lllllllllll}\n",
       " manufacturer & model & displ & year & cyl & trans & drv & cty & hwy & fl & class\\\\\n",
       "\\hline\n",
       "\t audi       & a4         & 2.0        & 2008       & 4          & manual(m6) & f          & 20         & 31         & p          & compact   \\\\\n",
       "\t audi       & a4         & 2.0        & 2008       & 4          & auto(av)   & f          & 21         & 30         & p          & compact   \\\\\n",
       "\t audi       & a4         & 1.8        & 1999       & 4          & auto(l5)   & f          & 18         & 29         & p          & compact   \\\\\n",
       "\t audi       & a4         & 1.8        & 1999       & 4          & manual(m5) & f          & 21         & 29         & p          & compact   \\\\\n",
       "\t audi       & a4 quattro & 2.0        & 2008       & 4          & manual(m6) & 4          & 20         & 28         & p          & compact   \\\\\n",
       "\\end{tabular}\n"
      ],
      "text/markdown": [
       "\n",
       "| manufacturer | model | displ | year | cyl | trans | drv | cty | hwy | fl | class |\n",
       "|---|---|---|---|---|---|---|---|---|---|---|\n",
       "| audi       | a4         | 2.0        | 2008       | 4          | manual(m6) | f          | 20         | 31         | p          | compact    |\n",
       "| audi       | a4         | 2.0        | 2008       | 4          | auto(av)   | f          | 21         | 30         | p          | compact    |\n",
       "| audi       | a4         | 1.8        | 1999       | 4          | auto(l5)   | f          | 18         | 29         | p          | compact    |\n",
       "| audi       | a4         | 1.8        | 1999       | 4          | manual(m5) | f          | 21         | 29         | p          | compact    |\n",
       "| audi       | a4 quattro | 2.0        | 2008       | 4          | manual(m6) | 4          | 20         | 28         | p          | compact    |\n",
       "\n"
      ],
      "text/plain": [
       "  manufacturer model      displ year cyl trans      drv cty hwy fl class  \n",
       "1 audi         a4         2.0   2008 4   manual(m6) f   20  31  p  compact\n",
       "2 audi         a4         2.0   2008 4   auto(av)   f   21  30  p  compact\n",
       "3 audi         a4         1.8   1999 4   auto(l5)   f   18  29  p  compact\n",
       "4 audi         a4         1.8   1999 4   manual(m5) f   21  29  p  compact\n",
       "5 audi         a4 quattro 2.0   2008 4   manual(m6) 4   20  28  p  compact"
      ]
     },
     "metadata": {},
     "output_type": "display_data"
    }
   ],
   "source": [
    "mpg %>% filter(manufacturer == \"audi\") %>% arrange(desc(hwy)) %>% head(5)"
   ]
  },
  {
   "cell_type": "markdown",
   "metadata": {},
   "source": [
    "## 4. 혼자서 해보기"
   ]
  },
  {
   "cell_type": "code",
   "execution_count": 179,
   "metadata": {},
   "outputs": [
    {
     "data": {
      "text/html": [
       "<table>\n",
       "<thead><tr><th scope=col>manufacturer</th><th scope=col>model</th><th scope=col>displ</th><th scope=col>year</th><th scope=col>cyl</th><th scope=col>trans</th><th scope=col>drv</th><th scope=col>cty</th><th scope=col>hwy</th><th scope=col>fl</th><th scope=col>class</th><th scope=col>total</th></tr></thead>\n",
       "<tbody>\n",
       "\t<tr><td>audi      </td><td>a4        </td><td>1.8       </td><td>1999      </td><td>4         </td><td>auto(l5)  </td><td>f         </td><td>18        </td><td>29        </td><td>p         </td><td>compact   </td><td>47        </td></tr>\n",
       "\t<tr><td>audi      </td><td>a4        </td><td>1.8       </td><td>1999      </td><td>4         </td><td>manual(m5)</td><td>f         </td><td>21        </td><td>29        </td><td>p         </td><td>compact   </td><td>50        </td></tr>\n",
       "\t<tr><td>audi      </td><td>a4        </td><td>2.0       </td><td>2008      </td><td>4         </td><td>manual(m6)</td><td>f         </td><td>20        </td><td>31        </td><td>p         </td><td>compact   </td><td>51        </td></tr>\n",
       "</tbody>\n",
       "</table>\n"
      ],
      "text/latex": [
       "\\begin{tabular}{r|llllllllllll}\n",
       " manufacturer & model & displ & year & cyl & trans & drv & cty & hwy & fl & class & total\\\\\n",
       "\\hline\n",
       "\t audi       & a4         & 1.8        & 1999       & 4          & auto(l5)   & f          & 18         & 29         & p          & compact    & 47        \\\\\n",
       "\t audi       & a4         & 1.8        & 1999       & 4          & manual(m5) & f          & 21         & 29         & p          & compact    & 50        \\\\\n",
       "\t audi       & a4         & 2.0        & 2008       & 4          & manual(m6) & f          & 20         & 31         & p          & compact    & 51        \\\\\n",
       "\\end{tabular}\n"
      ],
      "text/markdown": [
       "\n",
       "| manufacturer | model | displ | year | cyl | trans | drv | cty | hwy | fl | class | total |\n",
       "|---|---|---|---|---|---|---|---|---|---|---|---|\n",
       "| audi       | a4         | 1.8        | 1999       | 4          | auto(l5)   | f          | 18         | 29         | p          | compact    | 47         |\n",
       "| audi       | a4         | 1.8        | 1999       | 4          | manual(m5) | f          | 21         | 29         | p          | compact    | 50         |\n",
       "| audi       | a4         | 2.0        | 2008       | 4          | manual(m6) | f          | 20         | 31         | p          | compact    | 51         |\n",
       "\n"
      ],
      "text/plain": [
       "  manufacturer model displ year cyl trans      drv cty hwy fl class   total\n",
       "1 audi         a4    1.8   1999 4   auto(l5)   f   18  29  p  compact 47   \n",
       "2 audi         a4    1.8   1999 4   manual(m5) f   21  29  p  compact 50   \n",
       "3 audi         a4    2.0   2008 4   manual(m6) f   20  31  p  compact 51   "
      ]
     },
     "metadata": {},
     "output_type": "display_data"
    }
   ],
   "source": [
    "mpg_copy = mpg\n",
    "mpg_copy = mpg_copy %>% mutate(total = cty + hwy)\n",
    "head(mpg_copy, 3)"
   ]
  },
  {
   "cell_type": "code",
   "execution_count": 180,
   "metadata": {},
   "outputs": [
    {
     "data": {
      "text/html": [
       "<table>\n",
       "<thead><tr><th scope=col>manufacturer</th><th scope=col>model</th><th scope=col>displ</th><th scope=col>year</th><th scope=col>cyl</th><th scope=col>trans</th><th scope=col>drv</th><th scope=col>cty</th><th scope=col>hwy</th><th scope=col>fl</th><th scope=col>class</th><th scope=col>total</th><th scope=col>total_mean</th></tr></thead>\n",
       "<tbody>\n",
       "\t<tr><td>audi      </td><td>a4        </td><td>1.8       </td><td>1999      </td><td>4         </td><td>auto(l5)  </td><td>f         </td><td>18        </td><td>29        </td><td>p         </td><td>compact   </td><td>47        </td><td>23.5      </td></tr>\n",
       "\t<tr><td>audi      </td><td>a4        </td><td>1.8       </td><td>1999      </td><td>4         </td><td>manual(m5)</td><td>f         </td><td>21        </td><td>29        </td><td>p         </td><td>compact   </td><td>50        </td><td>25.0      </td></tr>\n",
       "\t<tr><td>audi      </td><td>a4        </td><td>2.0       </td><td>2008      </td><td>4         </td><td>manual(m6)</td><td>f         </td><td>20        </td><td>31        </td><td>p         </td><td>compact   </td><td>51        </td><td>25.5      </td></tr>\n",
       "</tbody>\n",
       "</table>\n"
      ],
      "text/latex": [
       "\\begin{tabular}{r|lllllllllllll}\n",
       " manufacturer & model & displ & year & cyl & trans & drv & cty & hwy & fl & class & total & total\\_mean\\\\\n",
       "\\hline\n",
       "\t audi       & a4         & 1.8        & 1999       & 4          & auto(l5)   & f          & 18         & 29         & p          & compact    & 47         & 23.5      \\\\\n",
       "\t audi       & a4         & 1.8        & 1999       & 4          & manual(m5) & f          & 21         & 29         & p          & compact    & 50         & 25.0      \\\\\n",
       "\t audi       & a4         & 2.0        & 2008       & 4          & manual(m6) & f          & 20         & 31         & p          & compact    & 51         & 25.5      \\\\\n",
       "\\end{tabular}\n"
      ],
      "text/markdown": [
       "\n",
       "| manufacturer | model | displ | year | cyl | trans | drv | cty | hwy | fl | class | total | total_mean |\n",
       "|---|---|---|---|---|---|---|---|---|---|---|---|---|\n",
       "| audi       | a4         | 1.8        | 1999       | 4          | auto(l5)   | f          | 18         | 29         | p          | compact    | 47         | 23.5       |\n",
       "| audi       | a4         | 1.8        | 1999       | 4          | manual(m5) | f          | 21         | 29         | p          | compact    | 50         | 25.0       |\n",
       "| audi       | a4         | 2.0        | 2008       | 4          | manual(m6) | f          | 20         | 31         | p          | compact    | 51         | 25.5       |\n",
       "\n"
      ],
      "text/plain": [
       "  manufacturer model displ year cyl trans      drv cty hwy fl class   total\n",
       "1 audi         a4    1.8   1999 4   auto(l5)   f   18  29  p  compact 47   \n",
       "2 audi         a4    1.8   1999 4   manual(m5) f   21  29  p  compact 50   \n",
       "3 audi         a4    2.0   2008 4   manual(m6) f   20  31  p  compact 51   \n",
       "  total_mean\n",
       "1 23.5      \n",
       "2 25.0      \n",
       "3 25.5      "
      ]
     },
     "metadata": {},
     "output_type": "display_data"
    }
   ],
   "source": [
    "mpg_copy = mpg_copy %>%\n",
    "            mutate(total_mean = total / 2)\n",
    "head(mpg_copy, 3)"
   ]
  },
  {
   "cell_type": "code",
   "execution_count": 182,
   "metadata": {},
   "outputs": [
    {
     "data": {
      "text/html": [
       "<table>\n",
       "<thead><tr><th scope=col>manufacturer</th><th scope=col>model</th><th scope=col>displ</th><th scope=col>year</th><th scope=col>cyl</th><th scope=col>trans</th><th scope=col>drv</th><th scope=col>cty</th><th scope=col>hwy</th><th scope=col>fl</th><th scope=col>class</th><th scope=col>total</th><th scope=col>total_mean</th></tr></thead>\n",
       "<tbody>\n",
       "\t<tr><td>volkswagen</td><td>new beetle</td><td>1.9       </td><td>1999      </td><td>4         </td><td>manual(m5)</td><td>f         </td><td>35        </td><td>44        </td><td>d         </td><td>subcompact</td><td>79        </td><td>39.5      </td></tr>\n",
       "\t<tr><td>volkswagen</td><td>jetta     </td><td>1.9       </td><td>1999      </td><td>4         </td><td>manual(m5)</td><td>f         </td><td>33        </td><td>44        </td><td>d         </td><td>compact   </td><td>77        </td><td>38.5      </td></tr>\n",
       "\t<tr><td>volkswagen</td><td>new beetle</td><td>1.9       </td><td>1999      </td><td>4         </td><td>auto(l4)  </td><td>f         </td><td>29        </td><td>41        </td><td>d         </td><td>subcompact</td><td>70        </td><td>35.0      </td></tr>\n",
       "</tbody>\n",
       "</table>\n"
      ],
      "text/latex": [
       "\\begin{tabular}{r|lllllllllllll}\n",
       " manufacturer & model & displ & year & cyl & trans & drv & cty & hwy & fl & class & total & total\\_mean\\\\\n",
       "\\hline\n",
       "\t volkswagen & new beetle & 1.9        & 1999       & 4          & manual(m5) & f          & 35         & 44         & d          & subcompact & 79         & 39.5      \\\\\n",
       "\t volkswagen & jetta      & 1.9        & 1999       & 4          & manual(m5) & f          & 33         & 44         & d          & compact    & 77         & 38.5      \\\\\n",
       "\t volkswagen & new beetle & 1.9        & 1999       & 4          & auto(l4)   & f          & 29         & 41         & d          & subcompact & 70         & 35.0      \\\\\n",
       "\\end{tabular}\n"
      ],
      "text/markdown": [
       "\n",
       "| manufacturer | model | displ | year | cyl | trans | drv | cty | hwy | fl | class | total | total_mean |\n",
       "|---|---|---|---|---|---|---|---|---|---|---|---|---|\n",
       "| volkswagen | new beetle | 1.9        | 1999       | 4          | manual(m5) | f          | 35         | 44         | d          | subcompact | 79         | 39.5       |\n",
       "| volkswagen | jetta      | 1.9        | 1999       | 4          | manual(m5) | f          | 33         | 44         | d          | compact    | 77         | 38.5       |\n",
       "| volkswagen | new beetle | 1.9        | 1999       | 4          | auto(l4)   | f          | 29         | 41         | d          | subcompact | 70         | 35.0       |\n",
       "\n"
      ],
      "text/plain": [
       "  manufacturer model      displ year cyl trans      drv cty hwy fl class     \n",
       "1 volkswagen   new beetle 1.9   1999 4   manual(m5) f   35  44  d  subcompact\n",
       "2 volkswagen   jetta      1.9   1999 4   manual(m5) f   33  44  d  compact   \n",
       "3 volkswagen   new beetle 1.9   1999 4   auto(l4)   f   29  41  d  subcompact\n",
       "  total total_mean\n",
       "1 79    39.5      \n",
       "2 77    38.5      \n",
       "3 70    35.0      "
      ]
     },
     "metadata": {},
     "output_type": "display_data"
    }
   ],
   "source": [
    "mpg_copy %>% arrange(desc(total_mean)) %>% head(3)"
   ]
  },
  {
   "cell_type": "code",
   "execution_count": 183,
   "metadata": {},
   "outputs": [
    {
     "data": {
      "text/html": [
       "<table>\n",
       "<thead><tr><th scope=col>manufacturer</th><th scope=col>model</th><th scope=col>displ</th><th scope=col>year</th><th scope=col>cyl</th><th scope=col>trans</th><th scope=col>drv</th><th scope=col>cty</th><th scope=col>hwy</th><th scope=col>fl</th><th scope=col>class</th><th scope=col>total</th><th scope=col>total_mean</th></tr></thead>\n",
       "<tbody>\n",
       "\t<tr><td>volkswagen</td><td>new beetle</td><td>1.9       </td><td>1999      </td><td>4         </td><td>manual(m5)</td><td>f         </td><td>35        </td><td>44        </td><td>d         </td><td>subcompact</td><td>79        </td><td>39.5      </td></tr>\n",
       "\t<tr><td>volkswagen</td><td>jetta     </td><td>1.9       </td><td>1999      </td><td>4         </td><td>manual(m5)</td><td>f         </td><td>33        </td><td>44        </td><td>d         </td><td>compact   </td><td>77        </td><td>38.5      </td></tr>\n",
       "\t<tr><td>volkswagen</td><td>new beetle</td><td>1.9       </td><td>1999      </td><td>4         </td><td>auto(l4)  </td><td>f         </td><td>29        </td><td>41        </td><td>d         </td><td>subcompact</td><td>70        </td><td>35.0      </td></tr>\n",
       "</tbody>\n",
       "</table>\n"
      ],
      "text/latex": [
       "\\begin{tabular}{r|lllllllllllll}\n",
       " manufacturer & model & displ & year & cyl & trans & drv & cty & hwy & fl & class & total & total\\_mean\\\\\n",
       "\\hline\n",
       "\t volkswagen & new beetle & 1.9        & 1999       & 4          & manual(m5) & f          & 35         & 44         & d          & subcompact & 79         & 39.5      \\\\\n",
       "\t volkswagen & jetta      & 1.9        & 1999       & 4          & manual(m5) & f          & 33         & 44         & d          & compact    & 77         & 38.5      \\\\\n",
       "\t volkswagen & new beetle & 1.9        & 1999       & 4          & auto(l4)   & f          & 29         & 41         & d          & subcompact & 70         & 35.0      \\\\\n",
       "\\end{tabular}\n"
      ],
      "text/markdown": [
       "\n",
       "| manufacturer | model | displ | year | cyl | trans | drv | cty | hwy | fl | class | total | total_mean |\n",
       "|---|---|---|---|---|---|---|---|---|---|---|---|---|\n",
       "| volkswagen | new beetle | 1.9        | 1999       | 4          | manual(m5) | f          | 35         | 44         | d          | subcompact | 79         | 39.5       |\n",
       "| volkswagen | jetta      | 1.9        | 1999       | 4          | manual(m5) | f          | 33         | 44         | d          | compact    | 77         | 38.5       |\n",
       "| volkswagen | new beetle | 1.9        | 1999       | 4          | auto(l4)   | f          | 29         | 41         | d          | subcompact | 70         | 35.0       |\n",
       "\n"
      ],
      "text/plain": [
       "  manufacturer model      displ year cyl trans      drv cty hwy fl class     \n",
       "1 volkswagen   new beetle 1.9   1999 4   manual(m5) f   35  44  d  subcompact\n",
       "2 volkswagen   jetta      1.9   1999 4   manual(m5) f   33  44  d  compact   \n",
       "3 volkswagen   new beetle 1.9   1999 4   auto(l4)   f   29  41  d  subcompact\n",
       "  total total_mean\n",
       "1 79    39.5      \n",
       "2 77    38.5      \n",
       "3 70    35.0      "
      ]
     },
     "metadata": {},
     "output_type": "display_data"
    }
   ],
   "source": [
    "mpg %>%\n",
    "    mutate(total = cty + hwy, total_mean = total / 2) %>%\n",
    "    arrange(desc(total_mean)) %>%\n",
    "    head(3)"
   ]
  },
  {
   "cell_type": "markdown",
   "metadata": {},
   "source": [
    "## 5. 혼자서 해보기"
   ]
  },
  {
   "cell_type": "code",
   "execution_count": 184,
   "metadata": {},
   "outputs": [
    {
     "data": {
      "text/html": [
       "<table>\n",
       "<thead><tr><th scope=col>class</th><th scope=col>mean_cty</th></tr></thead>\n",
       "<tbody>\n",
       "\t<tr><td>2seater   </td><td>15.40000  </td></tr>\n",
       "\t<tr><td>compact   </td><td>20.12766  </td></tr>\n",
       "\t<tr><td>midsize   </td><td>18.75610  </td></tr>\n",
       "\t<tr><td>minivan   </td><td>15.81818  </td></tr>\n",
       "\t<tr><td>pickup    </td><td>13.00000  </td></tr>\n",
       "\t<tr><td>subcompact</td><td>20.37143  </td></tr>\n",
       "\t<tr><td>suv       </td><td>13.50000  </td></tr>\n",
       "</tbody>\n",
       "</table>\n"
      ],
      "text/latex": [
       "\\begin{tabular}{r|ll}\n",
       " class & mean\\_cty\\\\\n",
       "\\hline\n",
       "\t 2seater    & 15.40000  \\\\\n",
       "\t compact    & 20.12766  \\\\\n",
       "\t midsize    & 18.75610  \\\\\n",
       "\t minivan    & 15.81818  \\\\\n",
       "\t pickup     & 13.00000  \\\\\n",
       "\t subcompact & 20.37143  \\\\\n",
       "\t suv        & 13.50000  \\\\\n",
       "\\end{tabular}\n"
      ],
      "text/markdown": [
       "\n",
       "| class | mean_cty |\n",
       "|---|---|\n",
       "| 2seater    | 15.40000   |\n",
       "| compact    | 20.12766   |\n",
       "| midsize    | 18.75610   |\n",
       "| minivan    | 15.81818   |\n",
       "| pickup     | 13.00000   |\n",
       "| subcompact | 20.37143   |\n",
       "| suv        | 13.50000   |\n",
       "\n"
      ],
      "text/plain": [
       "  class      mean_cty\n",
       "1 2seater    15.40000\n",
       "2 compact    20.12766\n",
       "3 midsize    18.75610\n",
       "4 minivan    15.81818\n",
       "5 pickup     13.00000\n",
       "6 subcompact 20.37143\n",
       "7 suv        13.50000"
      ]
     },
     "metadata": {},
     "output_type": "display_data"
    }
   ],
   "source": [
    "mpg %>%\n",
    "    group_by(class) %>%\n",
    "    summarise(mean_cty = mean(cty))"
   ]
  },
  {
   "cell_type": "code",
   "execution_count": 185,
   "metadata": {},
   "outputs": [
    {
     "data": {
      "text/html": [
       "<table>\n",
       "<thead><tr><th scope=col>class</th><th scope=col>mean_cty</th></tr></thead>\n",
       "<tbody>\n",
       "\t<tr><td>subcompact</td><td>20.37143  </td></tr>\n",
       "\t<tr><td>compact   </td><td>20.12766  </td></tr>\n",
       "\t<tr><td>midsize   </td><td>18.75610  </td></tr>\n",
       "\t<tr><td>minivan   </td><td>15.81818  </td></tr>\n",
       "\t<tr><td>2seater   </td><td>15.40000  </td></tr>\n",
       "\t<tr><td>suv       </td><td>13.50000  </td></tr>\n",
       "\t<tr><td>pickup    </td><td>13.00000  </td></tr>\n",
       "</tbody>\n",
       "</table>\n"
      ],
      "text/latex": [
       "\\begin{tabular}{r|ll}\n",
       " class & mean\\_cty\\\\\n",
       "\\hline\n",
       "\t subcompact & 20.37143  \\\\\n",
       "\t compact    & 20.12766  \\\\\n",
       "\t midsize    & 18.75610  \\\\\n",
       "\t minivan    & 15.81818  \\\\\n",
       "\t 2seater    & 15.40000  \\\\\n",
       "\t suv        & 13.50000  \\\\\n",
       "\t pickup     & 13.00000  \\\\\n",
       "\\end{tabular}\n"
      ],
      "text/markdown": [
       "\n",
       "| class | mean_cty |\n",
       "|---|---|\n",
       "| subcompact | 20.37143   |\n",
       "| compact    | 20.12766   |\n",
       "| midsize    | 18.75610   |\n",
       "| minivan    | 15.81818   |\n",
       "| 2seater    | 15.40000   |\n",
       "| suv        | 13.50000   |\n",
       "| pickup     | 13.00000   |\n",
       "\n"
      ],
      "text/plain": [
       "  class      mean_cty\n",
       "1 subcompact 20.37143\n",
       "2 compact    20.12766\n",
       "3 midsize    18.75610\n",
       "4 minivan    15.81818\n",
       "5 2seater    15.40000\n",
       "6 suv        13.50000\n",
       "7 pickup     13.00000"
      ]
     },
     "metadata": {},
     "output_type": "display_data"
    }
   ],
   "source": [
    "mpg %>%\n",
    "    group_by(class) %>%\n",
    "    summarise(mean_cty = mean(cty)) %>%\n",
    "    arrange(desc(mean_cty))"
   ]
  },
  {
   "cell_type": "code",
   "execution_count": 186,
   "metadata": {},
   "outputs": [
    {
     "data": {
      "text/html": [
       "<table>\n",
       "<thead><tr><th scope=col>manufacturer</th><th scope=col>mean_hwy</th></tr></thead>\n",
       "<tbody>\n",
       "\t<tr><td>honda     </td><td>32.55556  </td></tr>\n",
       "\t<tr><td>volkswagen</td><td>29.22222  </td></tr>\n",
       "\t<tr><td>hyundai   </td><td>26.85714  </td></tr>\n",
       "</tbody>\n",
       "</table>\n"
      ],
      "text/latex": [
       "\\begin{tabular}{r|ll}\n",
       " manufacturer & mean\\_hwy\\\\\n",
       "\\hline\n",
       "\t honda      & 32.55556  \\\\\n",
       "\t volkswagen & 29.22222  \\\\\n",
       "\t hyundai    & 26.85714  \\\\\n",
       "\\end{tabular}\n"
      ],
      "text/markdown": [
       "\n",
       "| manufacturer | mean_hwy |\n",
       "|---|---|\n",
       "| honda      | 32.55556   |\n",
       "| volkswagen | 29.22222   |\n",
       "| hyundai    | 26.85714   |\n",
       "\n"
      ],
      "text/plain": [
       "  manufacturer mean_hwy\n",
       "1 honda        32.55556\n",
       "2 volkswagen   29.22222\n",
       "3 hyundai      26.85714"
      ]
     },
     "metadata": {},
     "output_type": "display_data"
    }
   ],
   "source": [
    "mpg %>%\n",
    "    group_by(manufacturer) %>%\n",
    "    summarise(mean_hwy = mean(hwy)) %>%\n",
    "    arrange(desc(mean_hwy)) %>%\n",
    "    head(3)"
   ]
  },
  {
   "cell_type": "code",
   "execution_count": 190,
   "metadata": {},
   "outputs": [
    {
     "data": {
      "text/html": [
       "<table>\n",
       "<thead><tr><th scope=col>manufacturer</th><th scope=col>n</th></tr></thead>\n",
       "<tbody>\n",
       "\t<tr><td>audi      </td><td>15        </td></tr>\n",
       "\t<tr><td>volkswagen</td><td>14        </td></tr>\n",
       "\t<tr><td>toyota    </td><td>12        </td></tr>\n",
       "\t<tr><td>subaru    </td><td> 4        </td></tr>\n",
       "\t<tr><td>nissan    </td><td> 2        </td></tr>\n",
       "</tbody>\n",
       "</table>\n"
      ],
      "text/latex": [
       "\\begin{tabular}{r|ll}\n",
       " manufacturer & n\\\\\n",
       "\\hline\n",
       "\t audi       & 15        \\\\\n",
       "\t volkswagen & 14        \\\\\n",
       "\t toyota     & 12        \\\\\n",
       "\t subaru     &  4        \\\\\n",
       "\t nissan     &  2        \\\\\n",
       "\\end{tabular}\n"
      ],
      "text/markdown": [
       "\n",
       "| manufacturer | n |\n",
       "|---|---|\n",
       "| audi       | 15         |\n",
       "| volkswagen | 14         |\n",
       "| toyota     | 12         |\n",
       "| subaru     |  4         |\n",
       "| nissan     |  2         |\n",
       "\n"
      ],
      "text/plain": [
       "  manufacturer n \n",
       "1 audi         15\n",
       "2 volkswagen   14\n",
       "3 toyota       12\n",
       "4 subaru        4\n",
       "5 nissan        2"
      ]
     },
     "metadata": {},
     "output_type": "display_data"
    }
   ],
   "source": [
    "mpg %>%\n",
    "    filter(class == 'compact') %>%\n",
    "    group_by(manufacturer) %>%\n",
    "    summarise(n = n()) %>%\n",
    "    arrange(desc(n))"
   ]
  },
  {
   "cell_type": "markdown",
   "metadata": {},
   "source": [
    "## 6. 혼자서 해보기"
   ]
  },
  {
   "cell_type": "code",
   "execution_count": 191,
   "metadata": {},
   "outputs": [
    {
     "data": {
      "text/html": [
       "<table>\n",
       "<thead><tr><th scope=col>manufacturer</th><th scope=col>model</th><th scope=col>displ</th><th scope=col>year</th><th scope=col>cyl</th><th scope=col>trans</th><th scope=col>drv</th><th scope=col>cty</th><th scope=col>hwy</th><th scope=col>fl</th><th scope=col>class</th></tr></thead>\n",
       "<tbody>\n",
       "\t<tr><td>audi      </td><td>a4        </td><td>1.8       </td><td>1999      </td><td>4         </td><td>auto(l5)  </td><td>f         </td><td>18        </td><td>29        </td><td>p         </td><td>compact   </td></tr>\n",
       "\t<tr><td>audi      </td><td>a4        </td><td>1.8       </td><td>1999      </td><td>4         </td><td>manual(m5)</td><td>f         </td><td>21        </td><td>29        </td><td>p         </td><td>compact   </td></tr>\n",
       "\t<tr><td>audi      </td><td>a4        </td><td>2.0       </td><td>2008      </td><td>4         </td><td>manual(m6)</td><td>f         </td><td>20        </td><td>31        </td><td>p         </td><td>compact   </td></tr>\n",
       "</tbody>\n",
       "</table>\n"
      ],
      "text/latex": [
       "\\begin{tabular}{r|lllllllllll}\n",
       " manufacturer & model & displ & year & cyl & trans & drv & cty & hwy & fl & class\\\\\n",
       "\\hline\n",
       "\t audi       & a4         & 1.8        & 1999       & 4          & auto(l5)   & f          & 18         & 29         & p          & compact   \\\\\n",
       "\t audi       & a4         & 1.8        & 1999       & 4          & manual(m5) & f          & 21         & 29         & p          & compact   \\\\\n",
       "\t audi       & a4         & 2.0        & 2008       & 4          & manual(m6) & f          & 20         & 31         & p          & compact   \\\\\n",
       "\\end{tabular}\n"
      ],
      "text/markdown": [
       "\n",
       "| manufacturer | model | displ | year | cyl | trans | drv | cty | hwy | fl | class |\n",
       "|---|---|---|---|---|---|---|---|---|---|---|\n",
       "| audi       | a4         | 1.8        | 1999       | 4          | auto(l5)   | f          | 18         | 29         | p          | compact    |\n",
       "| audi       | a4         | 1.8        | 1999       | 4          | manual(m5) | f          | 21         | 29         | p          | compact    |\n",
       "| audi       | a4         | 2.0        | 2008       | 4          | manual(m6) | f          | 20         | 31         | p          | compact    |\n",
       "\n"
      ],
      "text/plain": [
       "  manufacturer model displ year cyl trans      drv cty hwy fl class  \n",
       "1 audi         a4    1.8   1999 4   auto(l5)   f   18  29  p  compact\n",
       "2 audi         a4    1.8   1999 4   manual(m5) f   21  29  p  compact\n",
       "3 audi         a4    2.0   2008 4   manual(m6) f   20  31  p  compact"
      ]
     },
     "metadata": {},
     "output_type": "display_data"
    }
   ],
   "source": [
    "head(mpg, 3)"
   ]
  },
  {
   "cell_type": "code",
   "execution_count": 198,
   "metadata": {},
   "outputs": [
    {
     "data": {
      "text/html": [
       "<table>\n",
       "<thead><tr><th scope=col>fl</th><th scope=col>price_fl</th></tr></thead>\n",
       "<tbody>\n",
       "\t<tr><td>c   </td><td>2.35</td></tr>\n",
       "\t<tr><td>d   </td><td>2.38</td></tr>\n",
       "\t<tr><td>e   </td><td>2.11</td></tr>\n",
       "\t<tr><td>p   </td><td>2.76</td></tr>\n",
       "\t<tr><td>r   </td><td>2.22</td></tr>\n",
       "</tbody>\n",
       "</table>\n"
      ],
      "text/latex": [
       "\\begin{tabular}{r|ll}\n",
       " fl & price\\_fl\\\\\n",
       "\\hline\n",
       "\t c    & 2.35\\\\\n",
       "\t d    & 2.38\\\\\n",
       "\t e    & 2.11\\\\\n",
       "\t p    & 2.76\\\\\n",
       "\t r    & 2.22\\\\\n",
       "\\end{tabular}\n"
      ],
      "text/markdown": [
       "\n",
       "| fl | price_fl |\n",
       "|---|---|\n",
       "| c    | 2.35 |\n",
       "| d    | 2.38 |\n",
       "| e    | 2.11 |\n",
       "| p    | 2.76 |\n",
       "| r    | 2.22 |\n",
       "\n"
      ],
      "text/plain": [
       "  fl price_fl\n",
       "1 c  2.35    \n",
       "2 d  2.38    \n",
       "3 e  2.11    \n",
       "4 p  2.76    \n",
       "5 r  2.22    "
      ]
     },
     "metadata": {},
     "output_type": "display_data"
    }
   ],
   "source": [
    "fuel = data.frame(fl = c('c', 'd', 'e', 'p', 'r'),\n",
    "                  price_fl = c(2.35, 2.38, 2.11, 2.76, 2.22),\n",
    "                  stringsAsFactors = F)\n",
    "fuel"
   ]
  },
  {
   "cell_type": "code",
   "execution_count": 199,
   "metadata": {},
   "outputs": [
    {
     "data": {
      "text/html": [
       "<table>\n",
       "<thead><tr><th scope=col>manufacturer</th><th scope=col>model</th><th scope=col>displ</th><th scope=col>year</th><th scope=col>cyl</th><th scope=col>trans</th><th scope=col>drv</th><th scope=col>cty</th><th scope=col>hwy</th><th scope=col>fl</th><th scope=col>class</th><th scope=col>price_fl</th></tr></thead>\n",
       "<tbody>\n",
       "\t<tr><td>audi      </td><td>a4        </td><td>1.8       </td><td>1999      </td><td>4         </td><td>auto(l5)  </td><td>f         </td><td>18        </td><td>29        </td><td>p         </td><td>compact   </td><td>2.76      </td></tr>\n",
       "\t<tr><td>audi      </td><td>a4        </td><td>1.8       </td><td>1999      </td><td>4         </td><td>manual(m5)</td><td>f         </td><td>21        </td><td>29        </td><td>p         </td><td>compact   </td><td>2.76      </td></tr>\n",
       "\t<tr><td>audi      </td><td>a4        </td><td>2.0       </td><td>2008      </td><td>4         </td><td>manual(m6)</td><td>f         </td><td>20        </td><td>31        </td><td>p         </td><td>compact   </td><td>2.76      </td></tr>\n",
       "</tbody>\n",
       "</table>\n"
      ],
      "text/latex": [
       "\\begin{tabular}{r|llllllllllll}\n",
       " manufacturer & model & displ & year & cyl & trans & drv & cty & hwy & fl & class & price\\_fl\\\\\n",
       "\\hline\n",
       "\t audi       & a4         & 1.8        & 1999       & 4          & auto(l5)   & f          & 18         & 29         & p          & compact    & 2.76      \\\\\n",
       "\t audi       & a4         & 1.8        & 1999       & 4          & manual(m5) & f          & 21         & 29         & p          & compact    & 2.76      \\\\\n",
       "\t audi       & a4         & 2.0        & 2008       & 4          & manual(m6) & f          & 20         & 31         & p          & compact    & 2.76      \\\\\n",
       "\\end{tabular}\n"
      ],
      "text/markdown": [
       "\n",
       "| manufacturer | model | displ | year | cyl | trans | drv | cty | hwy | fl | class | price_fl |\n",
       "|---|---|---|---|---|---|---|---|---|---|---|---|\n",
       "| audi       | a4         | 1.8        | 1999       | 4          | auto(l5)   | f          | 18         | 29         | p          | compact    | 2.76       |\n",
       "| audi       | a4         | 1.8        | 1999       | 4          | manual(m5) | f          | 21         | 29         | p          | compact    | 2.76       |\n",
       "| audi       | a4         | 2.0        | 2008       | 4          | manual(m6) | f          | 20         | 31         | p          | compact    | 2.76       |\n",
       "\n"
      ],
      "text/plain": [
       "  manufacturer model displ year cyl trans      drv cty hwy fl class   price_fl\n",
       "1 audi         a4    1.8   1999 4   auto(l5)   f   18  29  p  compact 2.76    \n",
       "2 audi         a4    1.8   1999 4   manual(m5) f   21  29  p  compact 2.76    \n",
       "3 audi         a4    2.0   2008 4   manual(m6) f   20  31  p  compact 2.76    "
      ]
     },
     "metadata": {},
     "output_type": "display_data"
    }
   ],
   "source": [
    "mpg = left_join(mpg, fuel, by = \"fl\")\n",
    "head(mpg, 3)"
   ]
  },
  {
   "cell_type": "code",
   "execution_count": 200,
   "metadata": {},
   "outputs": [
    {
     "data": {
      "text/html": [
       "<table>\n",
       "<thead><tr><th scope=col>model</th><th scope=col>fl</th><th scope=col>price_fl</th></tr></thead>\n",
       "<tbody>\n",
       "\t<tr><td>a4  </td><td>p   </td><td>2.76</td></tr>\n",
       "\t<tr><td>a4  </td><td>p   </td><td>2.76</td></tr>\n",
       "\t<tr><td>a4  </td><td>p   </td><td>2.76</td></tr>\n",
       "\t<tr><td>a4  </td><td>p   </td><td>2.76</td></tr>\n",
       "\t<tr><td>a4  </td><td>p   </td><td>2.76</td></tr>\n",
       "</tbody>\n",
       "</table>\n"
      ],
      "text/latex": [
       "\\begin{tabular}{r|lll}\n",
       " model & fl & price\\_fl\\\\\n",
       "\\hline\n",
       "\t a4   & p    & 2.76\\\\\n",
       "\t a4   & p    & 2.76\\\\\n",
       "\t a4   & p    & 2.76\\\\\n",
       "\t a4   & p    & 2.76\\\\\n",
       "\t a4   & p    & 2.76\\\\\n",
       "\\end{tabular}\n"
      ],
      "text/markdown": [
       "\n",
       "| model | fl | price_fl |\n",
       "|---|---|---|\n",
       "| a4   | p    | 2.76 |\n",
       "| a4   | p    | 2.76 |\n",
       "| a4   | p    | 2.76 |\n",
       "| a4   | p    | 2.76 |\n",
       "| a4   | p    | 2.76 |\n",
       "\n"
      ],
      "text/plain": [
       "  model fl price_fl\n",
       "1 a4    p  2.76    \n",
       "2 a4    p  2.76    \n",
       "3 a4    p  2.76    \n",
       "4 a4    p  2.76    \n",
       "5 a4    p  2.76    "
      ]
     },
     "metadata": {},
     "output_type": "display_data"
    }
   ],
   "source": [
    "mpg %>%\n",
    "    select(model, fl, price_fl) %>%\n",
    "    head(5)"
   ]
  },
  {
   "cell_type": "code",
   "execution_count": 202,
   "metadata": {},
   "outputs": [
    {
     "data": {
      "text/html": [
       "<table>\n",
       "<thead><tr><th scope=col>X</th><th scope=col>YM</th><th scope=col>CATEGORY</th><th scope=col>ITEM_CNT</th><th scope=col>QTY</th><th scope=col>PRICE</th><th scope=col>MAXTEMP</th><th scope=col>SALEDAY</th><th scope=col>RAIN_DAY</th><th scope=col>HOLIDAY</th></tr></thead>\n",
       "<tbody>\n",
       "\t<tr><td>1       </td><td>200901  </td><td>과즙음료</td><td>45      </td><td> 990    </td><td>2611    </td><td> 4      </td><td>126753  </td><td> 151    </td><td>12      </td></tr>\n",
       "\t<tr><td>2       </td><td>200902  </td><td>과즙음료</td><td>45      </td><td>1199    </td><td>2689    </td><td> 9      </td><td>113399  </td><td>3014    </td><td> 8      </td></tr>\n",
       "\t<tr><td>3       </td><td>200903  </td><td>과즙음료</td><td>43      </td><td>1102    </td><td>2735    </td><td>12      </td><td>129162  </td><td>1383    </td><td> 9      </td></tr>\n",
       "\t<tr><td>4       </td><td>200904  </td><td>과즙음료</td><td>42      </td><td>1326    </td><td>2807    </td><td>19      </td><td>126277  </td><td>3564    </td><td> 8      </td></tr>\n",
       "\t<tr><td>5       </td><td>200905  </td><td>과즙음료</td><td>46      </td><td>1672    </td><td>2674    </td><td>25      </td><td>129584  </td><td>9288    </td><td>12      </td></tr>\n",
       "</tbody>\n",
       "</table>\n"
      ],
      "text/latex": [
       "\\begin{tabular}{r|llllllllll}\n",
       " X & YM & CATEGORY & ITEM\\_CNT & QTY & PRICE & MAXTEMP & SALEDAY & RAIN\\_DAY & HOLIDAY\\\\\n",
       "\\hline\n",
       "\t 1        & 200901   & 과즙음료 & 45       &  990     & 2611     &  4       & 126753   &  151     & 12      \\\\\n",
       "\t 2        & 200902   & 과즙음료 & 45       & 1199     & 2689     &  9       & 113399   & 3014     &  8      \\\\\n",
       "\t 3        & 200903   & 과즙음료 & 43       & 1102     & 2735     & 12       & 129162   & 1383     &  9      \\\\\n",
       "\t 4        & 200904   & 과즙음료 & 42       & 1326     & 2807     & 19       & 126277   & 3564     &  8      \\\\\n",
       "\t 5        & 200905   & 과즙음료 & 46       & 1672     & 2674     & 25       & 129584   & 9288     & 12      \\\\\n",
       "\\end{tabular}\n"
      ],
      "text/markdown": [
       "\n",
       "| X | YM | CATEGORY | ITEM_CNT | QTY | PRICE | MAXTEMP | SALEDAY | RAIN_DAY | HOLIDAY |\n",
       "|---|---|---|---|---|---|---|---|---|---|\n",
       "| 1        | 200901   | 과즙음료 | 45       |  990     | 2611     |  4       | 126753   |  151     | 12       |\n",
       "| 2        | 200902   | 과즙음료 | 45       | 1199     | 2689     |  9       | 113399   | 3014     |  8       |\n",
       "| 3        | 200903   | 과즙음료 | 43       | 1102     | 2735     | 12       | 129162   | 1383     |  9       |\n",
       "| 4        | 200904   | 과즙음료 | 42       | 1326     | 2807     | 19       | 126277   | 3564     |  8       |\n",
       "| 5        | 200905   | 과즙음료 | 46       | 1672     | 2674     | 25       | 129584   | 9288     | 12       |\n",
       "\n"
      ],
      "text/plain": [
       "  X YM     CATEGORY ITEM_CNT QTY  PRICE MAXTEMP SALEDAY RAIN_DAY HOLIDAY\n",
       "1 1 200901 과즙음료 45        990 2611   4      126753   151     12     \n",
       "2 2 200902 과즙음료 45       1199 2689   9      113399  3014      8     \n",
       "3 3 200903 과즙음료 43       1102 2735  12      129162  1383      9     \n",
       "4 4 200904 과즙음료 42       1326 2807  19      126277  3564      8     \n",
       "5 5 200905 과즙음료 46       1672 2674  25      129584  9288     12     "
      ]
     },
     "metadata": {},
     "output_type": "display_data"
    }
   ],
   "source": [
    "df = read.csv(\"sales_data_1.csv\")\n",
    "head(df, 5)"
   ]
  },
  {
   "cell_type": "code",
   "execution_count": 204,
   "metadata": {},
   "outputs": [],
   "source": [
    "fruit = df %>%\n",
    "            filter(CATEGORY == '과즙음료')\n",
    "vitamin = df %>%\n",
    "            filter(CATEGORY == '비타민음료')\n",
    "tea = df %>%\n",
    "        filter(CATEGORY == '차음료')"
   ]
  },
  {
   "cell_type": "code",
   "execution_count": 206,
   "metadata": {},
   "outputs": [
    {
     "data": {
      "text/plain": [
       "\n",
       "\tShapiro-Wilk normality test\n",
       "\n",
       "data:  fruit$QTY\n",
       "W = 0.97503, p-value = 0.255\n"
      ]
     },
     "metadata": {},
     "output_type": "display_data"
    }
   ],
   "source": [
    "shapiro.test(fruit$QTY)"
   ]
  },
  {
   "cell_type": "code",
   "execution_count": 211,
   "metadata": {},
   "outputs": [
    {
     "data": {
      "image/png": "[encoded data removed]",
      "text/plain": [
       "Plot with title \"Histogram of fruit$QTY\""
      ]
     },
     "metadata": {},
     "output_type": "display_data"
    }
   ],
   "source": [
    "hist(fruit$QTY, probability = T)\n",
    "lines(density(fruit$QTY), col = 2, type = 'h')"
   ]
  },
  {
   "cell_type": "code",
   "execution_count": 213,
   "metadata": {},
   "outputs": [
    {
     "data": {
      "text/plain": [
       "\n",
       "\tShapiro-Wilk normality test\n",
       "\n",
       "data:  vitamin$QTY\n",
       "W = 0.95973, p-value = 0.04565\n"
      ]
     },
     "metadata": {},
     "output_type": "display_data"
    },
    {
     "data": {
      "image/png": "[encoded data removed]",
      "text/plain": [
       "Plot with title \"Histogram of vitamin$QTY\""
      ]
     },
     "metadata": {},
     "output_type": "display_data"
    }
   ],
   "source": [
    "shapiro.test(vitamin$QTY)\n",
    "hist(vitamin$QTY, probability = T)\n",
    "lines(density(vitamin$QTY), col = 2, type = 'h')"
   ]
  },
  {
   "cell_type": "code",
   "execution_count": 214,
   "metadata": {},
   "outputs": [
    {
     "data": {
      "text/plain": [
       "\n",
       "\tShapiro-Wilk normality test\n",
       "\n",
       "data:  tea$QTY\n",
       "W = 0.96497, p-value = 0.0825\n"
      ]
     },
     "metadata": {},
     "output_type": "display_data"
    },
    {
     "data": {
      "image/png": "[encoded data removed]",
      "text/plain": [
       "Plot with title \"Histogram of tea$QTY\""
      ]
     },
     "metadata": {},
     "output_type": "display_data"
    }
   ],
   "source": [
    "shapiro.test(tea$QTY)\n",
    "hist(tea$QTY, probability = T)\n",
    "lines(density(tea$QTY), col = 2, type = 'h')"
   ]
  },
  {
   "cell_type": "code",
   "execution_count": null,
   "metadata": {},
   "outputs": [],
   "source": []
  },
  {
   "cell_type": "code",
   "execution_count": null,
   "metadata": {},
   "outputs": [],
   "source": []
  },
  {
   "cell_type": "code",
   "execution_count": null,
   "metadata": {},
   "outputs": [],
   "source": []
  },
  {
   "cell_type": "code",
   "execution_count": null,
   "metadata": {},
   "outputs": [],
   "source": []
  },
  {
   "cell_type": "code",
   "execution_count": 21,
   "metadata": {},
   "outputs": [],
   "source": [
    "x = rnorm(100, 175, 10)"
   ]
  },
  {
   "cell_type": "code",
   "execution_count": 30,
   "metadata": {},
   "outputs": [
    {
     "data": {
      "image/png": "[encoded data removed]",
      "text/plain": [
       "Plot with title \"Histogram of x\""
      ]
     },
     "metadata": {},
     "output_type": "display_data"
    }
   ],
   "source": [
    "hist(x, breaks = 5, probability = T)\n",
    "lines(density(x), col = 2, type = 'h')"
   ]
  },
  {
   "cell_type": "code",
   "execution_count": 31,
   "metadata": {},
   "outputs": [
    {
     "data": {
      "text/plain": [
       "\n",
       "\tShapiro-Wilk normality test\n",
       "\n",
       "data:  x\n",
       "W = 0.9904, p-value = 0.6966\n"
      ]
     },
     "metadata": {},
     "output_type": "display_data"
    }
   ],
   "source": [
    "shapiro.test(x)"
   ]
  },
  {
   "cell_type": "code",
   "execution_count": null,
   "metadata": {},
   "outputs": [],
   "source": [
    "a = 1"
   ]
  },
  {
   "cell_type": "code",
   "execution_count": 36,
   "metadata": {},
   "outputs": [],
   "source": [
    "var1 = c(1, 2, 5, 7, 8)"
   ]
  },
  {
   "cell_type": "code",
   "execution_count": 38,
   "metadata": {},
   "outputs": [
    {
     "data": {
      "text/html": [
       "<ol class=list-inline>\n",
       "\t<li>1</li>\n",
       "\t<li>2</li>\n",
       "\t<li>5</li>\n",
       "\t<li>7</li>\n",
       "\t<li>8</li>\n",
       "</ol>\n"
      ],
      "text/latex": [
       "\\begin{enumerate*}\n",
       "\\item 1\n",
       "\\item 2\n",
       "\\item 5\n",
       "\\item 7\n",
       "\\item 8\n",
       "\\end{enumerate*}\n"
      ],
      "text/markdown": [
       "1. 1\n",
       "2. 2\n",
       "3. 5\n",
       "4. 7\n",
       "5. 8\n",
       "\n",
       "\n"
      ],
      "text/plain": [
       "[1] 1 2 5 7 8"
      ]
     },
     "metadata": {},
     "output_type": "display_data"
    }
   ],
   "source": [
    "var1"
   ]
  },
  {
   "cell_type": "code",
   "execution_count": 37,
   "metadata": {},
   "outputs": [],
   "source": [
    "vae = c(1:5)"
   ]
  },
  {
   "cell_type": "code",
   "execution_count": 39,
   "metadata": {},
   "outputs": [
    {
     "data": {
      "text/html": [
       "<ol class=list-inline>\n",
       "\t<li>1</li>\n",
       "\t<li>2</li>\n",
       "\t<li>3</li>\n",
       "\t<li>4</li>\n",
       "\t<li>5</li>\n",
       "</ol>\n"
      ],
      "text/latex": [
       "\\begin{enumerate*}\n",
       "\\item 1\n",
       "\\item 2\n",
       "\\item 3\n",
       "\\item 4\n",
       "\\item 5\n",
       "\\end{enumerate*}\n"
      ],
      "text/markdown": [
       "1. 1\n",
       "2. 2\n",
       "3. 3\n",
       "4. 4\n",
       "5. 5\n",
       "\n",
       "\n"
      ],
      "text/plain": [
       "[1] 1 2 3 4 5"
      ]
     },
     "metadata": {},
     "output_type": "display_data"
    }
   ],
   "source": [
    "vae"
   ]
  },
  {
   "cell_type": "code",
   "execution_count": 40,
   "metadata": {},
   "outputs": [],
   "source": [
    "var3 = seq(1, 5)"
   ]
  },
  {
   "cell_type": "code",
   "execution_count": 41,
   "metadata": {},
   "outputs": [
    {
     "data": {
      "text/html": [
       "<ol class=list-inline>\n",
       "\t<li>1</li>\n",
       "\t<li>2</li>\n",
       "\t<li>3</li>\n",
       "\t<li>4</li>\n",
       "\t<li>5</li>\n",
       "</ol>\n"
      ],
      "text/latex": [
       "\\begin{enumerate*}\n",
       "\\item 1\n",
       "\\item 2\n",
       "\\item 3\n",
       "\\item 4\n",
       "\\item 5\n",
       "\\end{enumerate*}\n"
      ],
      "text/markdown": [
       "1. 1\n",
       "2. 2\n",
       "3. 3\n",
       "4. 4\n",
       "5. 5\n",
       "\n",
       "\n"
      ],
      "text/plain": [
       "[1] 1 2 3 4 5"
      ]
     },
     "metadata": {},
     "output_type": "display_data"
    }
   ],
   "source": [
    "var3"
   ]
  },
  {
   "cell_type": "code",
   "execution_count": 42,
   "metadata": {},
   "outputs": [],
   "source": [
    "var4 = seq(1, 10, by = 2)"
   ]
  },
  {
   "cell_type": "code",
   "execution_count": 43,
   "metadata": {},
   "outputs": [
    {
     "data": {
      "text/html": [
       "<ol class=list-inline>\n",
       "\t<li>1</li>\n",
       "\t<li>3</li>\n",
       "\t<li>5</li>\n",
       "\t<li>7</li>\n",
       "\t<li>9</li>\n",
       "</ol>\n"
      ],
      "text/latex": [
       "\\begin{enumerate*}\n",
       "\\item 1\n",
       "\\item 3\n",
       "\\item 5\n",
       "\\item 7\n",
       "\\item 9\n",
       "\\end{enumerate*}\n"
      ],
      "text/markdown": [
       "1. 1\n",
       "2. 3\n",
       "3. 5\n",
       "4. 7\n",
       "5. 9\n",
       "\n",
       "\n"
      ],
      "text/plain": [
       "[1] 1 3 5 7 9"
      ]
     },
     "metadata": {},
     "output_type": "display_data"
    }
   ],
   "source": [
    "var4"
   ]
  },
  {
   "cell_type": "code",
   "execution_count": 44,
   "metadata": {},
   "outputs": [
    {
     "data": {
      "text/html": [
       "<ol class=list-inline>\n",
       "\t<li>2</li>\n",
       "\t<li>5</li>\n",
       "\t<li>8</li>\n",
       "\t<li>11</li>\n",
       "\t<li>14</li>\n",
       "</ol>\n"
      ],
      "text/latex": [
       "\\begin{enumerate*}\n",
       "\\item 2\n",
       "\\item 5\n",
       "\\item 8\n",
       "\\item 11\n",
       "\\item 14\n",
       "\\end{enumerate*}\n"
      ],
      "text/markdown": [
       "1. 2\n",
       "2. 5\n",
       "3. 8\n",
       "4. 11\n",
       "5. 14\n",
       "\n",
       "\n"
      ],
      "text/plain": [
       "[1]  2  5  8 11 14"
      ]
     },
     "metadata": {},
     "output_type": "display_data"
    }
   ],
   "source": [
    "var3 + var4"
   ]
  },
  {
   "cell_type": "code",
   "execution_count": 45,
   "metadata": {},
   "outputs": [
    {
     "data": {
      "text/html": [
       "<ol class=list-inline>\n",
       "\t<li>6</li>\n",
       "\t<li>8</li>\n",
       "\t<li>10</li>\n",
       "\t<li>12</li>\n",
       "\t<li>14</li>\n",
       "</ol>\n"
      ],
      "text/latex": [
       "\\begin{enumerate*}\n",
       "\\item 6\n",
       "\\item 8\n",
       "\\item 10\n",
       "\\item 12\n",
       "\\item 14\n",
       "\\end{enumerate*}\n"
      ],
      "text/markdown": [
       "1. 6\n",
       "2. 8\n",
       "3. 10\n",
       "4. 12\n",
       "5. 14\n",
       "\n",
       "\n"
      ],
      "text/plain": [
       "[1]  6  8 10 12 14"
      ]
     },
     "metadata": {},
     "output_type": "display_data"
    }
   ],
   "source": [
    "var4 +5"
   ]
  },
  {
   "cell_type": "code",
   "execution_count": 47,
   "metadata": {},
   "outputs": [
    {
     "data": {
      "text/html": [
       "8"
      ],
      "text/latex": [
       "8"
      ],
      "text/markdown": [
       "8"
      ],
      "text/plain": [
       "[1] 8"
      ]
     },
     "metadata": {},
     "output_type": "display_data"
    }
   ],
   "source": [
    "mean(var3 + var4)"
   ]
  },
  {
   "cell_type": "code",
   "execution_count": 51,
   "metadata": {},
   "outputs": [
    {
     "data": {
      "text/html": [
       "<ol class=list-inline>\n",
       "\t<li>'a'</li>\n",
       "\t<li>'b'</li>\n",
       "\t<li>'c'</li>\n",
       "</ol>\n"
      ],
      "text/latex": [
       "\\begin{enumerate*}\n",
       "\\item 'a'\n",
       "\\item 'b'\n",
       "\\item 'c'\n",
       "\\end{enumerate*}\n"
      ],
      "text/markdown": [
       "1. 'a'\n",
       "2. 'b'\n",
       "3. 'c'\n",
       "\n",
       "\n"
      ],
      "text/plain": [
       "[1] \"a\" \"b\" \"c\""
      ]
     },
     "metadata": {},
     "output_type": "display_data"
    }
   ],
   "source": [
    "sts = c(\"a\", \"b\", \"c\")\n",
    "sts"
   ]
  },
  {
   "cell_type": "code",
   "execution_count": 52,
   "metadata": {},
   "outputs": [
    {
     "data": {
      "text/html": [
       "'a-b-c'"
      ],
      "text/latex": [
       "'a-b-c'"
      ],
      "text/markdown": [
       "'a-b-c'"
      ],
      "text/plain": [
       "[1] \"a-b-c\""
      ]
     },
     "metadata": {},
     "output_type": "display_data"
    }
   ],
   "source": [
    "paste(sts, collapse = \"-\")"
   ]
  },
  {
   "cell_type": "code",
   "execution_count": 53,
   "metadata": {},
   "outputs": [
    {
     "name": "stderr",
     "output_type": "stream",
     "text": [
      "also installing the dependencies 'desc', 'pkgbuild', 'rprojroot', 'pkgload', 'praise', 'rlang', 'testthat', 'isoband'\n",
      "\n"
     ]
    },
    {
     "name": "stdout",
     "output_type": "stream",
     "text": [
      "package 'desc' successfully unpacked and MD5 sums checked\n",
      "package 'pkgbuild' successfully unpacked and MD5 sums checked\n",
      "package 'rprojroot' successfully unpacked and MD5 sums checked\n",
      "package 'pkgload' successfully unpacked and MD5 sums checked\n",
      "package 'praise' successfully unpacked and MD5 sums checked\n",
      "package 'rlang' successfully unpacked and MD5 sums checked\n",
      "package 'testthat' successfully unpacked and MD5 sums checked\n",
      "package 'isoband' successfully unpacked and MD5 sums checked\n",
      "package 'ggplot2' successfully unpacked and MD5 sums checked\n",
      "\n",
      "The downloaded binary packages are in\n",
      "\tC:\\Users\\14\\AppData\\Local\\Temp\\Rtmp0ydHrL\\downloaded_packages\n"
     ]
    }
   ],
   "source": [
    "install.packages('ggplot2')"
   ]
  },
  {
   "cell_type": "code",
   "execution_count": 54,
   "metadata": {},
   "outputs": [
    {
     "name": "stderr",
     "output_type": "stream",
     "text": [
      "Warning message:\n",
      "\"package 'ggplot2' was built under R version 3.6.3\""
     ]
    }
   ],
   "source": [
    "library('ggplot2')"
   ]
  },
  {
   "cell_type": "code",
   "execution_count": 55,
   "metadata": {},
   "outputs": [
    {
     "data": {
      "text/html": [
       "<ol class=list-inline>\n",
       "\t<li>'a'</li>\n",
       "\t<li>'a'</li>\n",
       "\t<li>'b'</li>\n",
       "\t<li>'c'</li>\n",
       "</ol>\n"
      ],
      "text/latex": [
       "\\begin{enumerate*}\n",
       "\\item 'a'\n",
       "\\item 'a'\n",
       "\\item 'b'\n",
       "\\item 'c'\n",
       "\\end{enumerate*}\n"
      ],
      "text/markdown": [
       "1. 'a'\n",
       "2. 'a'\n",
       "3. 'b'\n",
       "4. 'c'\n",
       "\n",
       "\n"
      ],
      "text/plain": [
       "[1] \"a\" \"a\" \"b\" \"c\""
      ]
     },
     "metadata": {},
     "output_type": "display_data"
    }
   ],
   "source": [
    "x = c('a', 'a', 'b', 'c')\n",
    "x"
   ]
  },
  {
   "cell_type": "code",
   "execution_count": 56,
   "metadata": {},
   "outputs": [
    {
     "data": {
      "image/png": "[encoded data removed]",
      "text/plain": [
       "plot without title"
      ]
     },
     "metadata": {},
     "output_type": "display_data"
    }
   ],
   "source": [
    "qplot(x)"
   ]
  },
  {
   "cell_type": "code",
   "execution_count": 57,
   "metadata": {},
   "outputs": [
    {
     "name": "stderr",
     "output_type": "stream",
     "text": [
      "`stat_bin()` using `bins = 30`. Pick better value with `binwidth`.\n"
     ]
    },
    {
     "data": {
      "image/png": "[encoded data removed]",
      "text/plain": [
       "plot without title"
      ]
     },
     "metadata": {},
     "output_type": "display_data"
    }
   ],
   "source": [
    "qplot(data = mpg, x = hwy)"
   ]
  },
  {
   "cell_type": "code",
   "execution_count": 58,
   "metadata": {},
   "outputs": [
    {
     "data": {
      "text/html": [
       "<ol class=list-inline>\n",
       "\t<li>80</li>\n",
       "\t<li>60</li>\n",
       "\t<li>70</li>\n",
       "\t<li>50</li>\n",
       "\t<li>90</li>\n",
       "</ol>\n"
      ],
      "text/latex": [
       "\\begin{enumerate*}\n",
       "\\item 80\n",
       "\\item 60\n",
       "\\item 70\n",
       "\\item 50\n",
       "\\item 90\n",
       "\\end{enumerate*}\n"
      ],
      "text/markdown": [
       "1. 80\n",
       "2. 60\n",
       "3. 70\n",
       "4. 50\n",
       "5. 90\n",
       "\n",
       "\n"
      ],
      "text/plain": [
       "[1] 80 60 70 50 90"
      ]
     },
     "metadata": {},
     "output_type": "display_data"
    }
   ],
   "source": [
    "student = c(80, 60, 70, 50, 90)\n",
    "student"
   ]
  },
  {
   "cell_type": "code",
   "execution_count": 59,
   "metadata": {},
   "outputs": [
    {
     "data": {
      "text/html": [
       "70"
      ],
      "text/latex": [
       "70"
      ],
      "text/markdown": [
       "70"
      ],
      "text/plain": [
       "[1] 70"
      ]
     },
     "metadata": {},
     "output_type": "display_data"
    }
   ],
   "source": [
    "mean(student)"
   ]
  },
  {
   "cell_type": "code",
   "execution_count": 60,
   "metadata": {},
   "outputs": [
    {
     "data": {
      "text/html": [
       "15.8113883008419"
      ],
      "text/latex": [
       "15.8113883008419"
      ],
      "text/markdown": [
       "15.8113883008419"
      ],
      "text/plain": [
       "[1] 15.81139"
      ]
     },
     "metadata": {},
     "output_type": "display_data"
    }
   ],
   "source": [
    "sd(student)"
   ]
  },
  {
   "cell_type": "code",
   "execution_count": 61,
   "metadata": {},
   "outputs": [
    {
     "data": {
      "text/html": [
       "250"
      ],
      "text/latex": [
       "250"
      ],
      "text/markdown": [
       "250"
      ],
      "text/plain": [
       "[1] 250"
      ]
     },
     "metadata": {},
     "output_type": "display_data"
    }
   ],
   "source": [
    "var(student)"
   ]
  },
  {
   "cell_type": "code",
   "execution_count": 69,
   "metadata": {},
   "outputs": [],
   "source": [
    "english = c(90, 80, 60, 70)\n",
    "math = c(50, 60, 100, 20)\n",
    "class = c(1, 1, 2, 2)"
   ]
  },
  {
   "cell_type": "code",
   "execution_count": null,
   "metadata": {},
   "outputs": [],
   "source": []
  },
  {
   "cell_type": "code",
   "execution_count": 70,
   "metadata": {},
   "outputs": [
    {
     "data": {
      "text/html": [
       "<table>\n",
       "<thead><tr><th scope=col>english</th><th scope=col>math</th><th scope=col>class</th></tr></thead>\n",
       "<tbody>\n",
       "\t<tr><td>90 </td><td> 50</td><td>1  </td></tr>\n",
       "\t<tr><td>80 </td><td> 60</td><td>1  </td></tr>\n",
       "\t<tr><td>60 </td><td>100</td><td>2  </td></tr>\n",
       "\t<tr><td>70 </td><td> 20</td><td>2  </td></tr>\n",
       "</tbody>\n",
       "</table>\n"
      ],
      "text/latex": [
       "\\begin{tabular}{r|lll}\n",
       " english & math & class\\\\\n",
       "\\hline\n",
       "\t 90  &  50 & 1  \\\\\n",
       "\t 80  &  60 & 1  \\\\\n",
       "\t 60  & 100 & 2  \\\\\n",
       "\t 70  &  20 & 2  \\\\\n",
       "\\end{tabular}\n"
      ],
      "text/markdown": [
       "\n",
       "| english | math | class |\n",
       "|---|---|---|\n",
       "| 90  |  50 | 1   |\n",
       "| 80  |  60 | 1   |\n",
       "| 60  | 100 | 2   |\n",
       "| 70  |  20 | 2   |\n",
       "\n"
      ],
      "text/plain": [
       "  english math class\n",
       "1 90       50  1    \n",
       "2 80       60  1    \n",
       "3 60      100  2    \n",
       "4 70       20  2    "
      ]
     },
     "metadata": {},
     "output_type": "display_data"
    }
   ],
   "source": [
    "score = data.frame(english, math, class)\n",
    "score"
   ]
  },
  {
   "cell_type": "code",
   "execution_count": 73,
   "metadata": {},
   "outputs": [
    {
     "data": {
      "text/plain": [
       "\n",
       "Call:\n",
       "lm(formula = english ~ math + class, data = score)\n",
       "\n",
       "Residuals:\n",
       "      1       2       3       4 \n",
       " 4.3077 -4.3077  0.5385 -0.5385 \n",
       "\n",
       "Coefficients:\n",
       "            Estimate Std. Error t value Pr(>|t|)  \n",
       "(Intercept) 111.9231    11.1007  10.083   0.0629 .\n",
       "math         -0.1385     0.1077  -1.286   0.4208  \n",
       "class       -19.3077     6.1630  -3.133   0.1967  \n",
       "---\n",
       "Signif. codes:  0 '***' 0.001 '**' 0.01 '*' 0.05 '.' 0.1 ' ' 1\n",
       "\n",
       "Residual standard error: 6.139 on 1 degrees of freedom\n",
       "Multiple R-squared:  0.9246,\tAdjusted R-squared:  0.7738 \n",
       "F-statistic: 6.133 on 2 and 1 DF,  p-value: 0.2746\n"
      ]
     },
     "metadata": {},
     "output_type": "display_data"
    }
   ],
   "source": [
    "lr = lm(english ~ math + class, data = score)\n",
    "summary(lr)"
   ]
  },
  {
   "cell_type": "code",
   "execution_count": 79,
   "metadata": {},
   "outputs": [
    {
     "data": {
      "text/html": [
       "75"
      ],
      "text/latex": [
       "75"
      ],
      "text/markdown": [
       "75"
      ],
      "text/plain": [
       "[1] 75"
      ]
     },
     "metadata": {},
     "output_type": "display_data"
    }
   ],
   "source": [
    "mean(score$english)"
   ]
  },
  {
   "cell_type": "code",
   "execution_count": 80,
   "metadata": {},
   "outputs": [
    {
     "name": "stdout",
     "output_type": "stream",
     "text": [
      "package 'readxl' successfully unpacked and MD5 sums checked\n",
      "\n",
      "The downloaded binary packages are in\n",
      "\tC:\\Users\\14\\AppData\\Local\\Temp\\Rtmp0ydHrL\\downloaded_packages\n"
     ]
    }
   ],
   "source": [
    "install.packages('readxl')"
   ]
  },
  {
   "cell_type": "code",
   "execution_count": 81,
   "metadata": {},
   "outputs": [
    {
     "name": "stderr",
     "output_type": "stream",
     "text": [
      "Warning message:\n",
      "\"package 'readxl' was built under R version 3.6.3\""
     ]
    }
   ],
   "source": [
    "library('readxl')"
   ]
  },
  {
   "cell_type": "code",
   "execution_count": 82,
   "metadata": {},
   "outputs": [],
   "source": [
    "setwd(\"c:/R_data\")"
   ]
  },
  {
   "cell_type": "code",
   "execution_count": 83,
   "metadata": {},
   "outputs": [
    {
     "data": {
      "text/html": [
       "'c:/R_data'"
      ],
      "text/latex": [
       "'c:/R\\_data'"
      ],
      "text/markdown": [
       "'c:/R_data'"
      ],
      "text/plain": [
       "[1] \"c:/R_data\""
      ]
     },
     "metadata": {},
     "output_type": "display_data"
    }
   ],
   "source": [
    "getwd()"
   ]
  },
  {
   "cell_type": "code",
   "execution_count": 84,
   "metadata": {},
   "outputs": [],
   "source": [
    "write.csv(score, \"score.csv\")"
   ]
  },
  {
   "cell_type": "code",
   "execution_count": 85,
   "metadata": {},
   "outputs": [
    {
     "data": {
      "text/html": [
       "<table>\n",
       "<thead><tr><th scope=col>X</th><th scope=col>english</th><th scope=col>math</th><th scope=col>class</th></tr></thead>\n",
       "<tbody>\n",
       "\t<tr><td>1  </td><td>90 </td><td> 50</td><td>1  </td></tr>\n",
       "\t<tr><td>2  </td><td>80 </td><td> 60</td><td>1  </td></tr>\n",
       "\t<tr><td>3  </td><td>60 </td><td>100</td><td>2  </td></tr>\n",
       "\t<tr><td>4  </td><td>70 </td><td> 20</td><td>2  </td></tr>\n",
       "</tbody>\n",
       "</table>\n"
      ],
      "text/latex": [
       "\\begin{tabular}{r|llll}\n",
       " X & english & math & class\\\\\n",
       "\\hline\n",
       "\t 1   & 90  &  50 & 1  \\\\\n",
       "\t 2   & 80  &  60 & 1  \\\\\n",
       "\t 3   & 60  & 100 & 2  \\\\\n",
       "\t 4   & 70  &  20 & 2  \\\\\n",
       "\\end{tabular}\n"
      ],
      "text/markdown": [
       "\n",
       "| X | english | math | class |\n",
       "|---|---|---|---|\n",
       "| 1   | 90  |  50 | 1   |\n",
       "| 2   | 80  |  60 | 1   |\n",
       "| 3   | 60  | 100 | 2   |\n",
       "| 4   | 70  |  20 | 2   |\n",
       "\n"
      ],
      "text/plain": [
       "  X english math class\n",
       "1 1 90       50  1    \n",
       "2 2 80       60  1    \n",
       "3 3 60      100  2    \n",
       "4 4 70       20  2    "
      ]
     },
     "metadata": {},
     "output_type": "display_data"
    }
   ],
   "source": [
    "score_1 = read.csv(\"score.csv\")\n",
    "score_1"
   ]
  },
  {
   "cell_type": "code",
   "execution_count": 91,
   "metadata": {},
   "outputs": [
    {
     "data": {
      "image/png": "[encoded data removed]",
      "text/plain": [
       "Plot with title \"Histogram of mpg$hwy\""
      ]
     },
     "metadata": {},
     "output_type": "display_data"
    }
   ],
   "source": [
    "hist(mpg$hwy, probability = T)\n",
    "lines(density(mpg$hwy), col = 2, type = 'h')"
   ]
  },
  {
   "cell_type": "code",
   "execution_count": 92,
   "metadata": {},
   "outputs": [
    {
     "data": {
      "text/plain": [
       "\n",
       "\tShapiro-Wilk normality test\n",
       "\n",
       "data:  mpg$hwy\n",
       "W = 0.95885, p-value = 2.999e-06\n"
      ]
     },
     "metadata": {},
     "output_type": "display_data"
    }
   ],
   "source": [
    "shapiro.test(mpg$hwy)"
   ]
  },
  {
   "cell_type": "code",
   "execution_count": 93,
   "metadata": {},
   "outputs": [
    {
     "data": {
      "text/html": [
       "<table>\n",
       "<thead><tr><th scope=col>id</th><th scope=col>class</th><th scope=col>math</th><th scope=col>english</th><th scope=col>science</th></tr></thead>\n",
       "<tbody>\n",
       "\t<tr><td> 1</td><td>1 </td><td>50</td><td>98</td><td>50</td></tr>\n",
       "\t<tr><td> 2</td><td>1 </td><td>60</td><td>97</td><td>60</td></tr>\n",
       "\t<tr><td> 3</td><td>1 </td><td>45</td><td>86</td><td>78</td></tr>\n",
       "\t<tr><td> 4</td><td>1 </td><td>30</td><td>98</td><td>58</td></tr>\n",
       "\t<tr><td> 5</td><td>2 </td><td>25</td><td>80</td><td>65</td></tr>\n",
       "\t<tr><td> 6</td><td>2 </td><td>50</td><td>89</td><td>98</td></tr>\n",
       "\t<tr><td> 7</td><td>2 </td><td>80</td><td>90</td><td>45</td></tr>\n",
       "\t<tr><td> 8</td><td>2 </td><td>90</td><td>78</td><td>25</td></tr>\n",
       "\t<tr><td> 9</td><td>3 </td><td>20</td><td>98</td><td>15</td></tr>\n",
       "\t<tr><td>10</td><td>3 </td><td>50</td><td>98</td><td>45</td></tr>\n",
       "\t<tr><td>11</td><td>3 </td><td>65</td><td>65</td><td>65</td></tr>\n",
       "\t<tr><td>12</td><td>3 </td><td>45</td><td>85</td><td>32</td></tr>\n",
       "\t<tr><td>13</td><td>4 </td><td>46</td><td>98</td><td>65</td></tr>\n",
       "\t<tr><td>14</td><td>4 </td><td>48</td><td>87</td><td>12</td></tr>\n",
       "\t<tr><td>15</td><td>4 </td><td>75</td><td>56</td><td>78</td></tr>\n",
       "\t<tr><td>16</td><td>4 </td><td>58</td><td>98</td><td>65</td></tr>\n",
       "\t<tr><td>17</td><td>5 </td><td>65</td><td>68</td><td>98</td></tr>\n",
       "\t<tr><td>18</td><td>5 </td><td>80</td><td>78</td><td>90</td></tr>\n",
       "\t<tr><td>19</td><td>5 </td><td>89</td><td>68</td><td>87</td></tr>\n",
       "\t<tr><td>20</td><td>5 </td><td>78</td><td>83</td><td>58</td></tr>\n",
       "</tbody>\n",
       "</table>\n"
      ],
      "text/latex": [
       "\\begin{tabular}{r|lllll}\n",
       " id & class & math & english & science\\\\\n",
       "\\hline\n",
       "\t  1 & 1  & 50 & 98 & 50\\\\\n",
       "\t  2 & 1  & 60 & 97 & 60\\\\\n",
       "\t  3 & 1  & 45 & 86 & 78\\\\\n",
       "\t  4 & 1  & 30 & 98 & 58\\\\\n",
       "\t  5 & 2  & 25 & 80 & 65\\\\\n",
       "\t  6 & 2  & 50 & 89 & 98\\\\\n",
       "\t  7 & 2  & 80 & 90 & 45\\\\\n",
       "\t  8 & 2  & 90 & 78 & 25\\\\\n",
       "\t  9 & 3  & 20 & 98 & 15\\\\\n",
       "\t 10 & 3  & 50 & 98 & 45\\\\\n",
       "\t 11 & 3  & 65 & 65 & 65\\\\\n",
       "\t 12 & 3  & 45 & 85 & 32\\\\\n",
       "\t 13 & 4  & 46 & 98 & 65\\\\\n",
       "\t 14 & 4  & 48 & 87 & 12\\\\\n",
       "\t 15 & 4  & 75 & 56 & 78\\\\\n",
       "\t 16 & 4  & 58 & 98 & 65\\\\\n",
       "\t 17 & 5  & 65 & 68 & 98\\\\\n",
       "\t 18 & 5  & 80 & 78 & 90\\\\\n",
       "\t 19 & 5  & 89 & 68 & 87\\\\\n",
       "\t 20 & 5  & 78 & 83 & 58\\\\\n",
       "\\end{tabular}\n"
      ],
      "text/markdown": [
       "\n",
       "| id | class | math | english | science |\n",
       "|---|---|---|---|---|\n",
       "|  1 | 1  | 50 | 98 | 50 |\n",
       "|  2 | 1  | 60 | 97 | 60 |\n",
       "|  3 | 1  | 45 | 86 | 78 |\n",
       "|  4 | 1  | 30 | 98 | 58 |\n",
       "|  5 | 2  | 25 | 80 | 65 |\n",
       "|  6 | 2  | 50 | 89 | 98 |\n",
       "|  7 | 2  | 80 | 90 | 45 |\n",
       "|  8 | 2  | 90 | 78 | 25 |\n",
       "|  9 | 3  | 20 | 98 | 15 |\n",
       "| 10 | 3  | 50 | 98 | 45 |\n",
       "| 11 | 3  | 65 | 65 | 65 |\n",
       "| 12 | 3  | 45 | 85 | 32 |\n",
       "| 13 | 4  | 46 | 98 | 65 |\n",
       "| 14 | 4  | 48 | 87 | 12 |\n",
       "| 15 | 4  | 75 | 56 | 78 |\n",
       "| 16 | 4  | 58 | 98 | 65 |\n",
       "| 17 | 5  | 65 | 68 | 98 |\n",
       "| 18 | 5  | 80 | 78 | 90 |\n",
       "| 19 | 5  | 89 | 68 | 87 |\n",
       "| 20 | 5  | 78 | 83 | 58 |\n",
       "\n"
      ],
      "text/plain": [
       "   id class math english science\n",
       "1   1 1     50   98      50     \n",
       "2   2 1     60   97      60     \n",
       "3   3 1     45   86      78     \n",
       "4   4 1     30   98      58     \n",
       "5   5 2     25   80      65     \n",
       "6   6 2     50   89      98     \n",
       "7   7 2     80   90      45     \n",
       "8   8 2     90   78      25     \n",
       "9   9 3     20   98      15     \n",
       "10 10 3     50   98      45     \n",
       "11 11 3     65   65      65     \n",
       "12 12 3     45   85      32     \n",
       "13 13 4     46   98      65     \n",
       "14 14 4     48   87      12     \n",
       "15 15 4     75   56      78     \n",
       "16 16 4     58   98      65     \n",
       "17 17 5     65   68      98     \n",
       "18 18 5     80   78      90     \n",
       "19 19 5     89   68      87     \n",
       "20 20 5     78   83      58     "
      ]
     },
     "metadata": {},
     "output_type": "display_data"
    }
   ],
   "source": [
    "exam = read.csv('csv_exam.csv')\n",
    "exam"
   ]
  },
  {
   "cell_type": "code",
   "execution_count": 98,
   "metadata": {},
   "outputs": [
    {
     "data": {
      "text/html": [
       "<ol class=list-inline>\n",
       "\t<li>20</li>\n",
       "\t<li>5</li>\n",
       "</ol>\n"
      ],
      "text/latex": [
       "\\begin{enumerate*}\n",
       "\\item 20\n",
       "\\item 5\n",
       "\\end{enumerate*}\n"
      ],
      "text/markdown": [
       "1. 20\n",
       "2. 5\n",
       "\n",
       "\n"
      ],
      "text/plain": [
       "[1] 20  5"
      ]
     },
     "metadata": {},
     "output_type": "display_data"
    }
   ],
   "source": [
    "dim(exam)"
   ]
  },
  {
   "cell_type": "code",
   "execution_count": 99,
   "metadata": {},
   "outputs": [
    {
     "name": "stdout",
     "output_type": "stream",
     "text": [
      "'data.frame':\t20 obs. of  5 variables:\n",
      " $ id     : int  1 2 3 4 5 6 7 8 9 10 ...\n",
      " $ class  : int  1 1 1 1 2 2 2 2 3 3 ...\n",
      " $ math   : int  50 60 45 30 25 50 80 90 20 50 ...\n",
      " $ english: int  98 97 86 98 80 89 90 78 98 98 ...\n",
      " $ science: int  50 60 78 58 65 98 45 25 15 45 ...\n"
     ]
    }
   ],
   "source": [
    "str(exam)"
   ]
  },
  {
   "cell_type": "code",
   "execution_count": 100,
   "metadata": {},
   "outputs": [
    {
     "data": {
      "text/plain": [
       "       id            class        math          english        science     \n",
       " Min.   : 1.00   Min.   :1   Min.   :20.00   Min.   :56.0   Min.   :12.00  \n",
       " 1st Qu.: 5.75   1st Qu.:2   1st Qu.:45.75   1st Qu.:78.0   1st Qu.:45.00  \n",
       " Median :10.50   Median :3   Median :54.00   Median :86.5   Median :62.50  \n",
       " Mean   :10.50   Mean   :3   Mean   :57.45   Mean   :84.9   Mean   :59.45  \n",
       " 3rd Qu.:15.25   3rd Qu.:4   3rd Qu.:75.75   3rd Qu.:98.0   3rd Qu.:78.00  \n",
       " Max.   :20.00   Max.   :5   Max.   :90.00   Max.   :98.0   Max.   :98.00  "
      ]
     },
     "metadata": {},
     "output_type": "display_data"
    }
   ],
   "source": [
    "summary(exam)"
   ]
  },
  {
   "cell_type": "code",
   "execution_count": 117,
   "metadata": {},
   "outputs": [
    {
     "data": {
      "image/png": "[encoded data removed]",
      "text/plain": [
       "plot without title"
      ]
     },
     "metadata": {},
     "output_type": "display_data"
    }
   ],
   "source": [
    "x = sample(0:100, 80, replace = T)\n",
    "plot(x, pch = ifelse(x>=60, 7, 15), col = ifelse(x>=60, 7, 15))\n",
    "abline(h = 60, col = 2, lwd = 2)"
   ]
  },
  {
   "cell_type": "code",
   "execution_count": 113,
   "metadata": {},
   "outputs": [
    {
     "data": {
      "text/html": [
       "<table>\n",
       "<thead><tr><th scope=col>manufacturer</th><th scope=col>model</th><th scope=col>displ</th><th scope=col>year</th><th scope=col>cyl</th><th scope=col>trans</th><th scope=col>drv</th><th scope=col>cty</th><th scope=col>hwy</th><th scope=col>fl</th><th scope=col>class</th></tr></thead>\n",
       "<tbody>\n",
       "\t<tr><td>audi      </td><td>a4        </td><td>1.8       </td><td>1999      </td><td>4         </td><td>auto(l5)  </td><td>f         </td><td>18        </td><td>29        </td><td>p         </td><td>compact   </td></tr>\n",
       "\t<tr><td>audi      </td><td>a4        </td><td>1.8       </td><td>1999      </td><td>4         </td><td>manual(m5)</td><td>f         </td><td>21        </td><td>29        </td><td>p         </td><td>compact   </td></tr>\n",
       "\t<tr><td>audi      </td><td>a4        </td><td>2.0       </td><td>2008      </td><td>4         </td><td>manual(m6)</td><td>f         </td><td>20        </td><td>31        </td><td>p         </td><td>compact   </td></tr>\n",
       "\t<tr><td>audi      </td><td>a4        </td><td>2.0       </td><td>2008      </td><td>4         </td><td>auto(av)  </td><td>f         </td><td>21        </td><td>30        </td><td>p         </td><td>compact   </td></tr>\n",
       "\t<tr><td>audi      </td><td>a4        </td><td>2.8       </td><td>1999      </td><td>6         </td><td>auto(l5)  </td><td>f         </td><td>16        </td><td>26        </td><td>p         </td><td>compact   </td></tr>\n",
       "\t<tr><td>audi      </td><td>a4        </td><td>2.8       </td><td>1999      </td><td>6         </td><td>manual(m5)</td><td>f         </td><td>18        </td><td>26        </td><td>p         </td><td>compact   </td></tr>\n",
       "\t<tr><td>audi      </td><td>a4        </td><td>3.1       </td><td>2008      </td><td>6         </td><td>auto(av)  </td><td>f         </td><td>18        </td><td>27        </td><td>p         </td><td>compact   </td></tr>\n",
       "\t<tr><td>audi      </td><td>a4 quattro</td><td>1.8       </td><td>1999      </td><td>4         </td><td>manual(m5)</td><td>4         </td><td>18        </td><td>26        </td><td>p         </td><td>compact   </td></tr>\n",
       "\t<tr><td>audi      </td><td>a4 quattro</td><td>1.8       </td><td>1999      </td><td>4         </td><td>auto(l5)  </td><td>4         </td><td>16        </td><td>25        </td><td>p         </td><td>compact   </td></tr>\n",
       "\t<tr><td>audi      </td><td>a4 quattro</td><td>2.0       </td><td>2008      </td><td>4         </td><td>manual(m6)</td><td>4         </td><td>20        </td><td>28        </td><td>p         </td><td>compact   </td></tr>\n",
       "</tbody>\n",
       "</table>\n"
      ],
      "text/latex": [
       "\\begin{tabular}{r|lllllllllll}\n",
       " manufacturer & model & displ & year & cyl & trans & drv & cty & hwy & fl & class\\\\\n",
       "\\hline\n",
       "\t audi       & a4         & 1.8        & 1999       & 4          & auto(l5)   & f          & 18         & 29         & p          & compact   \\\\\n",
       "\t audi       & a4         & 1.8        & 1999       & 4          & manual(m5) & f          & 21         & 29         & p          & compact   \\\\\n",
       "\t audi       & a4         & 2.0        & 2008       & 4          & manual(m6) & f          & 20         & 31         & p          & compact   \\\\\n",
       "\t audi       & a4         & 2.0        & 2008       & 4          & auto(av)   & f          & 21         & 30         & p          & compact   \\\\\n",
       "\t audi       & a4         & 2.8        & 1999       & 6          & auto(l5)   & f          & 16         & 26         & p          & compact   \\\\\n",
       "\t audi       & a4         & 2.8        & 1999       & 6          & manual(m5) & f          & 18         & 26         & p          & compact   \\\\\n",
       "\t audi       & a4         & 3.1        & 2008       & 6          & auto(av)   & f          & 18         & 27         & p          & compact   \\\\\n",
       "\t audi       & a4 quattro & 1.8        & 1999       & 4          & manual(m5) & 4          & 18         & 26         & p          & compact   \\\\\n",
       "\t audi       & a4 quattro & 1.8        & 1999       & 4          & auto(l5)   & 4          & 16         & 25         & p          & compact   \\\\\n",
       "\t audi       & a4 quattro & 2.0        & 2008       & 4          & manual(m6) & 4          & 20         & 28         & p          & compact   \\\\\n",
       "\\end{tabular}\n"
      ],
      "text/markdown": [
       "\n",
       "| manufacturer | model | displ | year | cyl | trans | drv | cty | hwy | fl | class |\n",
       "|---|---|---|---|---|---|---|---|---|---|---|\n",
       "| audi       | a4         | 1.8        | 1999       | 4          | auto(l5)   | f          | 18         | 29         | p          | compact    |\n",
       "| audi       | a4         | 1.8        | 1999       | 4          | manual(m5) | f          | 21         | 29         | p          | compact    |\n",
       "| audi       | a4         | 2.0        | 2008       | 4          | manual(m6) | f          | 20         | 31         | p          | compact    |\n",
       "| audi       | a4         | 2.0        | 2008       | 4          | auto(av)   | f          | 21         | 30         | p          | compact    |\n",
       "| audi       | a4         | 2.8        | 1999       | 6          | auto(l5)   | f          | 16         | 26         | p          | compact    |\n",
       "| audi       | a4         | 2.8        | 1999       | 6          | manual(m5) | f          | 18         | 26         | p          | compact    |\n",
       "| audi       | a4         | 3.1        | 2008       | 6          | auto(av)   | f          | 18         | 27         | p          | compact    |\n",
       "| audi       | a4 quattro | 1.8        | 1999       | 4          | manual(m5) | 4          | 18         | 26         | p          | compact    |\n",
       "| audi       | a4 quattro | 1.8        | 1999       | 4          | auto(l5)   | 4          | 16         | 25         | p          | compact    |\n",
       "| audi       | a4 quattro | 2.0        | 2008       | 4          | manual(m6) | 4          | 20         | 28         | p          | compact    |\n",
       "\n"
      ],
      "text/plain": [
       "   manufacturer model      displ year cyl trans      drv cty hwy fl class  \n",
       "1  audi         a4         1.8   1999 4   auto(l5)   f   18  29  p  compact\n",
       "2  audi         a4         1.8   1999 4   manual(m5) f   21  29  p  compact\n",
       "3  audi         a4         2.0   2008 4   manual(m6) f   20  31  p  compact\n",
       "4  audi         a4         2.0   2008 4   auto(av)   f   21  30  p  compact\n",
       "5  audi         a4         2.8   1999 6   auto(l5)   f   16  26  p  compact\n",
       "6  audi         a4         2.8   1999 6   manual(m5) f   18  26  p  compact\n",
       "7  audi         a4         3.1   2008 6   auto(av)   f   18  27  p  compact\n",
       "8  audi         a4 quattro 1.8   1999 4   manual(m5) 4   18  26  p  compact\n",
       "9  audi         a4 quattro 1.8   1999 4   auto(l5)   4   16  25  p  compact\n",
       "10 audi         a4 quattro 2.0   2008 4   manual(m6) 4   20  28  p  compact"
      ]
     },
     "metadata": {},
     "output_type": "display_data"
    }
   ],
   "source": [
    "mpg = as.data.frame(ggplot2::mpg)\n",
    "head(mpg, 10)"
   ]
  },
  {
   "cell_type": "code",
   "execution_count": 118,
   "metadata": {},
   "outputs": [
    {
     "name": "stderr",
     "output_type": "stream",
     "text": [
      "also installing the dependencies 'ellipsis', 'pillar', 'glue', 'lifecycle', 'tibble', 'tidyselect', 'vctrs'\n",
      "\n"
     ]
    },
    {
     "name": "stdout",
     "output_type": "stream",
     "text": [
      "package 'ellipsis' successfully unpacked and MD5 sums checked\n",
      "package 'pillar' successfully unpacked and MD5 sums checked\n",
      "package 'glue' successfully unpacked and MD5 sums checked\n"
     ]
    },
    {
     "name": "stderr",
     "output_type": "stream",
     "text": [
      "Warning message:\n",
      "\"cannot remove prior installation of package 'glue'\"Warning message in file.copy(savedcopy, lib, recursive = TRUE):\n",
      "\"C:\\Users\\14\\.conda\\envs\\tf2\\Lib\\R\\library\\00LOCK\\glue\\libs\\x64\\glue.dll를 C:\\Users\\14\\.conda\\envs\\tf2\\Lib\\R\\library\\glue\\libs\\x64\\glue.dll로 복사하는데 문제가 발생했습니다: Permission denied\"Warning message:\n",
      "\"restored 'glue'\""
     ]
    },
    {
     "name": "stdout",
     "output_type": "stream",
     "text": [
      "package 'lifecycle' successfully unpacked and MD5 sums checked\n",
      "package 'tibble' successfully unpacked and MD5 sums checked\n"
     ]
    },
    {
     "name": "stderr",
     "output_type": "stream",
     "text": [
      "Warning message:\n",
      "\"cannot remove prior installation of package 'tibble'\"Warning message in file.copy(savedcopy, lib, recursive = TRUE):\n",
      "\"C:\\Users\\14\\.conda\\envs\\tf2\\Lib\\R\\library\\00LOCK\\tibble\\libs\\x64\\tibble.dll를 C:\\Users\\14\\.conda\\envs\\tf2\\Lib\\R\\library\\tibble\\libs\\x64\\tibble.dll로 복사하는데 문제가 발생했습니다: Permission denied\"Warning message:\n",
      "\"restored 'tibble'\""
     ]
    },
    {
     "name": "stdout",
     "output_type": "stream",
     "text": [
      "package 'tidyselect' successfully unpacked and MD5 sums checked\n"
     ]
    },
    {
     "name": "stderr",
     "output_type": "stream",
     "text": [
      "Warning message:\n",
      "\"cannot remove prior installation of package 'tidyselect'\"Warning message in file.copy(savedcopy, lib, recursive = TRUE):\n",
      "\"C:\\Users\\14\\.conda\\envs\\tf2\\Lib\\R\\library\\00LOCK\\tidyselect\\libs\\x64\\tidyselect.dll를 C:\\Users\\14\\.conda\\envs\\tf2\\Lib\\R\\library\\tidyselect\\libs\\x64\\tidyselect.dll로 복사하는데 문제가 발생했습니다: Permission denied\"Warning message:\n",
      "\"restored 'tidyselect'\""
     ]
    },
    {
     "name": "stdout",
     "output_type": "stream",
     "text": [
      "package 'vctrs' successfully unpacked and MD5 sums checked\n",
      "package 'dplyr' successfully unpacked and MD5 sums checked\n"
     ]
    },
    {
     "name": "stderr",
     "output_type": "stream",
     "text": [
      "Warning message:\n",
      "\"cannot remove prior installation of package 'dplyr'\"Warning message in file.copy(savedcopy, lib, recursive = TRUE):\n",
      "\"C:\\Users\\14\\.conda\\envs\\tf2\\Lib\\R\\library\\00LOCK\\dplyr\\libs\\x64\\dplyr.dll를 C:\\Users\\14\\.conda\\envs\\tf2\\Lib\\R\\library\\dplyr\\libs\\x64\\dplyr.dll로 복사하는데 문제가 발생했습니다: Permission denied\"Warning message:\n",
      "\"restored 'dplyr'\""
     ]
    },
    {
     "name": "stdout",
     "output_type": "stream",
     "text": [
      "\n",
      "The downloaded binary packages are in\n",
      "\tC:\\Users\\14\\AppData\\Local\\Temp\\Rtmp0ydHrL\\downloaded_packages\n"
     ]
    }
   ],
   "source": [
    "install.packages(\"dplyr\")"
   ]
  },
  {
   "cell_type": "code",
   "execution_count": 119,
   "metadata": {},
   "outputs": [
    {
     "name": "stderr",
     "output_type": "stream",
     "text": [
      "\n",
      "Attaching package: 'dplyr'\n",
      "\n",
      "The following objects are masked from 'package:stats':\n",
      "\n",
      "    filter, lag\n",
      "\n",
      "The following objects are masked from 'package:base':\n",
      "\n",
      "    intersect, setdiff, setequal, union\n",
      "\n"
     ]
    }
   ],
   "source": [
    "library(\"dplyr\")"
   ]
  },
  {
   "cell_type": "code",
   "execution_count": 120,
   "metadata": {},
   "outputs": [
    {
     "data": {
      "text/html": [
       "<table>\n",
       "<thead><tr><th scope=col>var1</th><th scope=col>var2</th></tr></thead>\n",
       "<tbody>\n",
       "\t<tr><td>1</td><td>2</td></tr>\n",
       "\t<tr><td>2</td><td>3</td></tr>\n",
       "\t<tr><td>3</td><td>2</td></tr>\n",
       "</tbody>\n",
       "</table>\n"
      ],
      "text/latex": [
       "\\begin{tabular}{r|ll}\n",
       " var1 & var2\\\\\n",
       "\\hline\n",
       "\t 1 & 2\\\\\n",
       "\t 2 & 3\\\\\n",
       "\t 3 & 2\\\\\n",
       "\\end{tabular}\n"
      ],
      "text/markdown": [
       "\n",
       "| var1 | var2 |\n",
       "|---|---|\n",
       "| 1 | 2 |\n",
       "| 2 | 3 |\n",
       "| 3 | 2 |\n",
       "\n"
      ],
      "text/plain": [
       "  var1 var2\n",
       "1 1    2   \n",
       "2 2    3   \n",
       "3 3    2   "
      ]
     },
     "metadata": {},
     "output_type": "display_data"
    }
   ],
   "source": [
    "df_raw = data.frame(var1 = c(1, 2, 3),\n",
    "                    var2 = c(2, 3, 2))\n",
    "df_raw"
   ]
  },
  {
   "cell_type": "code",
   "execution_count": 122,
   "metadata": {},
   "outputs": [
    {
     "data": {
      "text/html": [
       "<table>\n",
       "<thead><tr><th scope=col>var1</th><th scope=col>v2</th></tr></thead>\n",
       "<tbody>\n",
       "\t<tr><td>1</td><td>2</td></tr>\n",
       "\t<tr><td>2</td><td>3</td></tr>\n",
       "\t<tr><td>3</td><td>2</td></tr>\n",
       "</tbody>\n",
       "</table>\n"
      ],
      "text/latex": [
       "\\begin{tabular}{r|ll}\n",
       " var1 & v2\\\\\n",
       "\\hline\n",
       "\t 1 & 2\\\\\n",
       "\t 2 & 3\\\\\n",
       "\t 3 & 2\\\\\n",
       "\\end{tabular}\n"
      ],
      "text/markdown": [
       "\n",
       "| var1 | v2 |\n",
       "|---|---|\n",
       "| 1 | 2 |\n",
       "| 2 | 3 |\n",
       "| 3 | 2 |\n",
       "\n"
      ],
      "text/plain": [
       "  var1 v2\n",
       "1 1    2 \n",
       "2 2    3 \n",
       "3 3    2 "
      ]
     },
     "metadata": {},
     "output_type": "display_data"
    }
   ],
   "source": [
    "df_new = rename(df_raw, v2 = var2)\n",
    "df_new"
   ]
  },
  {
   "cell_type": "code",
   "execution_count": 123,
   "metadata": {},
   "outputs": [
    {
     "data": {
      "text/html": [
       "<table>\n",
       "<thead><tr><th scope=col>manufacturer</th><th scope=col>model</th><th scope=col>displ</th><th scope=col>year</th><th scope=col>cyl</th><th scope=col>trans</th><th scope=col>drv</th><th scope=col>cty</th><th scope=col>hwy</th><th scope=col>fl</th><th scope=col>class</th></tr></thead>\n",
       "<tbody>\n",
       "\t<tr><td>audi      </td><td>a4        </td><td>1.8       </td><td>1999      </td><td>4         </td><td>auto(l5)  </td><td>f         </td><td>18        </td><td>29        </td><td>p         </td><td>compact   </td></tr>\n",
       "\t<tr><td>audi      </td><td>a4        </td><td>1.8       </td><td>1999      </td><td>4         </td><td>manual(m5)</td><td>f         </td><td>21        </td><td>29        </td><td>p         </td><td>compact   </td></tr>\n",
       "\t<tr><td>audi      </td><td>a4        </td><td>2.0       </td><td>2008      </td><td>4         </td><td>manual(m6)</td><td>f         </td><td>20        </td><td>31        </td><td>p         </td><td>compact   </td></tr>\n",
       "</tbody>\n",
       "</table>\n"
      ],
      "text/latex": [
       "\\begin{tabular}{r|lllllllllll}\n",
       " manufacturer & model & displ & year & cyl & trans & drv & cty & hwy & fl & class\\\\\n",
       "\\hline\n",
       "\t audi       & a4         & 1.8        & 1999       & 4          & auto(l5)   & f          & 18         & 29         & p          & compact   \\\\\n",
       "\t audi       & a4         & 1.8        & 1999       & 4          & manual(m5) & f          & 21         & 29         & p          & compact   \\\\\n",
       "\t audi       & a4         & 2.0        & 2008       & 4          & manual(m6) & f          & 20         & 31         & p          & compact   \\\\\n",
       "\\end{tabular}\n"
      ],
      "text/markdown": [
       "\n",
       "| manufacturer | model | displ | year | cyl | trans | drv | cty | hwy | fl | class |\n",
       "|---|---|---|---|---|---|---|---|---|---|---|\n",
       "| audi       | a4         | 1.8        | 1999       | 4          | auto(l5)   | f          | 18         | 29         | p          | compact    |\n",
       "| audi       | a4         | 1.8        | 1999       | 4          | manual(m5) | f          | 21         | 29         | p          | compact    |\n",
       "| audi       | a4         | 2.0        | 2008       | 4          | manual(m6) | f          | 20         | 31         | p          | compact    |\n",
       "\n"
      ],
      "text/plain": [
       "  manufacturer model displ year cyl trans      drv cty hwy fl class  \n",
       "1 audi         a4    1.8   1999 4   auto(l5)   f   18  29  p  compact\n",
       "2 audi         a4    1.8   1999 4   manual(m5) f   21  29  p  compact\n",
       "3 audi         a4    2.0   2008 4   manual(m6) f   20  31  p  compact"
      ]
     },
     "metadata": {},
     "output_type": "display_data"
    }
   ],
   "source": [
    "head(mpg, 3)"
   ]
  },
  {
   "cell_type": "code",
   "execution_count": 125,
   "metadata": {},
   "outputs": [
    {
     "data": {
      "text/html": [
       "<table>\n",
       "<thead><tr><th scope=col>manufacturer</th><th scope=col>model</th><th scope=col>displ</th><th scope=col>year</th><th scope=col>cyl</th><th scope=col>trans</th><th scope=col>drv</th><th scope=col>city</th><th scope=col>highway</th><th scope=col>fl</th><th scope=col>class</th></tr></thead>\n",
       "<tbody>\n",
       "\t<tr><td>audi      </td><td>a4        </td><td>1.8       </td><td>1999      </td><td>4         </td><td>auto(l5)  </td><td>f         </td><td>18        </td><td>29        </td><td>p         </td><td>compact   </td></tr>\n",
       "\t<tr><td>audi      </td><td>a4        </td><td>1.8       </td><td>1999      </td><td>4         </td><td>manual(m5)</td><td>f         </td><td>21        </td><td>29        </td><td>p         </td><td>compact   </td></tr>\n",
       "\t<tr><td>audi      </td><td>a4        </td><td>2.0       </td><td>2008      </td><td>4         </td><td>manual(m6)</td><td>f         </td><td>20        </td><td>31        </td><td>p         </td><td>compact   </td></tr>\n",
       "</tbody>\n",
       "</table>\n"
      ],
      "text/latex": [
       "\\begin{tabular}{r|lllllllllll}\n",
       " manufacturer & model & displ & year & cyl & trans & drv & city & highway & fl & class\\\\\n",
       "\\hline\n",
       "\t audi       & a4         & 1.8        & 1999       & 4          & auto(l5)   & f          & 18         & 29         & p          & compact   \\\\\n",
       "\t audi       & a4         & 1.8        & 1999       & 4          & manual(m5) & f          & 21         & 29         & p          & compact   \\\\\n",
       "\t audi       & a4         & 2.0        & 2008       & 4          & manual(m6) & f          & 20         & 31         & p          & compact   \\\\\n",
       "\\end{tabular}\n"
      ],
      "text/markdown": [
       "\n",
       "| manufacturer | model | displ | year | cyl | trans | drv | city | highway | fl | class |\n",
       "|---|---|---|---|---|---|---|---|---|---|---|\n",
       "| audi       | a4         | 1.8        | 1999       | 4          | auto(l5)   | f          | 18         | 29         | p          | compact    |\n",
       "| audi       | a4         | 1.8        | 1999       | 4          | manual(m5) | f          | 21         | 29         | p          | compact    |\n",
       "| audi       | a4         | 2.0        | 2008       | 4          | manual(m6) | f          | 20         | 31         | p          | compact    |\n",
       "\n"
      ],
      "text/plain": [
       "  manufacturer model displ year cyl trans      drv city highway fl class  \n",
       "1 audi         a4    1.8   1999 4   auto(l5)   f   18   29      p  compact\n",
       "2 audi         a4    1.8   1999 4   manual(m5) f   21   29      p  compact\n",
       "3 audi         a4    2.0   2008 4   manual(m6) f   20   31      p  compact"
      ]
     },
     "metadata": {},
     "output_type": "display_data"
    }
   ],
   "source": [
    "mpg = rename(mpg, city = cty)\n",
    "mpg = rename(mpg, highway = hwy)\n",
    "head(mpg, 3)"
   ]
  },
  {
   "cell_type": "code",
   "execution_count": 126,
   "metadata": {},
   "outputs": [],
   "source": [
    "write.csv(mpg, \"mpg.csv\")"
   ]
  },
  {
   "cell_type": "code",
   "execution_count": 127,
   "metadata": {},
   "outputs": [
    {
     "data": {
      "text/html": [
       "<table>\n",
       "<thead><tr><th scope=col>var1</th><th scope=col>var2</th></tr></thead>\n",
       "<tbody>\n",
       "\t<tr><td>4</td><td>2</td></tr>\n",
       "\t<tr><td>3</td><td>6</td></tr>\n",
       "\t<tr><td>8</td><td>1</td></tr>\n",
       "</tbody>\n",
       "</table>\n"
      ],
      "text/latex": [
       "\\begin{tabular}{r|ll}\n",
       " var1 & var2\\\\\n",
       "\\hline\n",
       "\t 4 & 2\\\\\n",
       "\t 3 & 6\\\\\n",
       "\t 8 & 1\\\\\n",
       "\\end{tabular}\n"
      ],
      "text/markdown": [
       "\n",
       "| var1 | var2 |\n",
       "|---|---|\n",
       "| 4 | 2 |\n",
       "| 3 | 6 |\n",
       "| 8 | 1 |\n",
       "\n"
      ],
      "text/plain": [
       "  var1 var2\n",
       "1 4    2   \n",
       "2 3    6   \n",
       "3 8    1   "
      ]
     },
     "metadata": {},
     "output_type": "display_data"
    }
   ],
   "source": [
    "df = data.frame(var1 = c(4, 3, 8),\n",
    "                var2 = c(2, 6, 1))\n",
    "df"
   ]
  },
  {
   "cell_type": "code",
   "execution_count": 128,
   "metadata": {},
   "outputs": [
    {
     "data": {
      "text/html": [
       "<table>\n",
       "<thead><tr><th scope=col>var1</th><th scope=col>var2</th><th scope=col>var_sum</th></tr></thead>\n",
       "<tbody>\n",
       "\t<tr><td>4</td><td>2</td><td>6</td></tr>\n",
       "\t<tr><td>3</td><td>6</td><td>9</td></tr>\n",
       "\t<tr><td>8</td><td>1</td><td>9</td></tr>\n",
       "</tbody>\n",
       "</table>\n"
      ],
      "text/latex": [
       "\\begin{tabular}{r|lll}\n",
       " var1 & var2 & var\\_sum\\\\\n",
       "\\hline\n",
       "\t 4 & 2 & 6\\\\\n",
       "\t 3 & 6 & 9\\\\\n",
       "\t 8 & 1 & 9\\\\\n",
       "\\end{tabular}\n"
      ],
      "text/markdown": [
       "\n",
       "| var1 | var2 | var_sum |\n",
       "|---|---|---|\n",
       "| 4 | 2 | 6 |\n",
       "| 3 | 6 | 9 |\n",
       "| 8 | 1 | 9 |\n",
       "\n"
      ],
      "text/plain": [
       "  var1 var2 var_sum\n",
       "1 4    2    6      \n",
       "2 3    6    9      \n",
       "3 8    1    9      "
      ]
     },
     "metadata": {},
     "output_type": "display_data"
    }
   ],
   "source": [
    "df$var_sum = df$var1 + df$var2\n",
    "df"
   ]
  },
  {
   "cell_type": "code",
   "execution_count": 130,
   "metadata": {},
   "outputs": [
    {
     "data": {
      "text/html": [
       "<table>\n",
       "<thead><tr><th scope=col>PID</th><th scope=col>county</th><th scope=col>state</th><th scope=col>area</th><th scope=col>poptotal</th><th scope=col>popdensity</th><th scope=col>popwhite</th><th scope=col>popblack</th><th scope=col>popamerindian</th><th scope=col>popasian</th><th scope=col>...</th><th scope=col>percollege</th><th scope=col>percprof</th><th scope=col>poppovertyknown</th><th scope=col>percpovertyknown</th><th scope=col>percbelowpoverty</th><th scope=col>percchildbelowpovert</th><th scope=col>percadultpoverty</th><th scope=col>percelderlypoverty</th><th scope=col>inmetro</th><th scope=col>category</th></tr></thead>\n",
       "<tbody>\n",
       "\t<tr><td>561      </td><td>ADAMS    </td><td>IL       </td><td>0.052    </td><td>66090    </td><td>1270.9615</td><td>63917    </td><td>1702     </td><td>98       </td><td>249      </td><td>...      </td><td>19.63139 </td><td>4.355859 </td><td>63628    </td><td>96.27478 </td><td>13.15144 </td><td>18.01172 </td><td>11.00978 </td><td>12.44381 </td><td>0        </td><td>AAR      </td></tr>\n",
       "\t<tr><td>562      </td><td>ALEXANDER</td><td>IL       </td><td>0.014    </td><td>10626    </td><td> 759.0000</td><td> 7054    </td><td>3496     </td><td>19       </td><td> 48      </td><td>...      </td><td>11.24331 </td><td>2.870315 </td><td>10529    </td><td>99.08714 </td><td>32.24428 </td><td>45.82651 </td><td>27.38565 </td><td>25.22898 </td><td>0        </td><td>LHR      </td></tr>\n",
       "\t<tr><td>563      </td><td>BOND     </td><td>IL       </td><td>0.022    </td><td>14991    </td><td> 681.4091</td><td>14477    </td><td> 429     </td><td>35       </td><td> 16      </td><td>...      </td><td>17.03382 </td><td>4.488572 </td><td>14235    </td><td>94.95697 </td><td>12.06884 </td><td>14.03606 </td><td>10.85209 </td><td>12.69741 </td><td>0        </td><td>AAR      </td></tr>\n",
       "</tbody>\n",
       "</table>\n"
      ],
      "text/latex": [
       "\\begin{tabular}{r|llllllllllllllllllllllllllll}\n",
       " PID & county & state & area & poptotal & popdensity & popwhite & popblack & popamerindian & popasian & ... & percollege & percprof & poppovertyknown & percpovertyknown & percbelowpoverty & percchildbelowpovert & percadultpoverty & percelderlypoverty & inmetro & category\\\\\n",
       "\\hline\n",
       "\t 561       & ADAMS     & IL        & 0.052     & 66090     & 1270.9615 & 63917     & 1702      & 98        & 249       & ...       & 19.63139  & 4.355859  & 63628     & 96.27478  & 13.15144  & 18.01172  & 11.00978  & 12.44381  & 0         & AAR      \\\\\n",
       "\t 562       & ALEXANDER & IL        & 0.014     & 10626     &  759.0000 &  7054     & 3496      & 19        &  48       & ...       & 11.24331  & 2.870315  & 10529     & 99.08714  & 32.24428  & 45.82651  & 27.38565  & 25.22898  & 0         & LHR      \\\\\n",
       "\t 563       & BOND      & IL        & 0.022     & 14991     &  681.4091 & 14477     &  429      & 35        &  16       & ...       & 17.03382  & 4.488572  & 14235     & 94.95697  & 12.06884  & 14.03606  & 10.85209  & 12.69741  & 0         & AAR      \\\\\n",
       "\\end{tabular}\n"
      ],
      "text/markdown": [
       "\n",
       "| PID | county | state | area | poptotal | popdensity | popwhite | popblack | popamerindian | popasian | ... | percollege | percprof | poppovertyknown | percpovertyknown | percbelowpoverty | percchildbelowpovert | percadultpoverty | percelderlypoverty | inmetro | category |\n",
       "|---|---|---|---|---|---|---|---|---|---|---|---|---|---|---|---|---|---|---|---|---|\n",
       "| 561       | ADAMS     | IL        | 0.052     | 66090     | 1270.9615 | 63917     | 1702      | 98        | 249       | ...       | 19.63139  | 4.355859  | 63628     | 96.27478  | 13.15144  | 18.01172  | 11.00978  | 12.44381  | 0         | AAR       |\n",
       "| 562       | ALEXANDER | IL        | 0.014     | 10626     |  759.0000 |  7054     | 3496      | 19        |  48       | ...       | 11.24331  | 2.870315  | 10529     | 99.08714  | 32.24428  | 45.82651  | 27.38565  | 25.22898  | 0         | LHR       |\n",
       "| 563       | BOND      | IL        | 0.022     | 14991     |  681.4091 | 14477     |  429      | 35        |  16       | ...       | 17.03382  | 4.488572  | 14235     | 94.95697  | 12.06884  | 14.03606  | 10.85209  | 12.69741  | 0         | AAR       |\n",
       "\n"
      ],
      "text/plain": [
       "  PID county    state area  poptotal popdensity popwhite popblack popamerindian\n",
       "1 561 ADAMS     IL    0.052 66090    1270.9615  63917    1702     98           \n",
       "2 562 ALEXANDER IL    0.014 10626     759.0000   7054    3496     19           \n",
       "3 563 BOND      IL    0.022 14991     681.4091  14477     429     35           \n",
       "  popasian ... percollege percprof poppovertyknown percpovertyknown\n",
       "1 249      ... 19.63139   4.355859 63628           96.27478        \n",
       "2  48      ... 11.24331   2.870315 10529           99.08714        \n",
       "3  16      ... 17.03382   4.488572 14235           94.95697        \n",
       "  percbelowpoverty percchildbelowpovert percadultpoverty percelderlypoverty\n",
       "1 13.15144         18.01172             11.00978         12.44381          \n",
       "2 32.24428         45.82651             27.38565         25.22898          \n",
       "3 12.06884         14.03606             10.85209         12.69741          \n",
       "  inmetro category\n",
       "1 0       AAR     \n",
       "2 0       LHR     \n",
       "3 0       AAR     "
      ]
     },
     "metadata": {},
     "output_type": "display_data"
    }
   ],
   "source": [
    "midwest = as.data.frame(ggplot2::midwest)\n",
    "head(midwest, 3)"
   ]
  },
  {
   "cell_type": "code",
   "execution_count": 132,
   "metadata": {},
   "outputs": [
    {
     "data": {
      "text/html": [
       "<table>\n",
       "<thead><tr><th scope=col>PID</th><th scope=col>county</th><th scope=col>state</th><th scope=col>area</th><th scope=col>total</th><th scope=col>popdensity</th><th scope=col>popwhite</th><th scope=col>popblack</th><th scope=col>popamerindian</th><th scope=col>asian</th><th scope=col>...</th><th scope=col>percollege</th><th scope=col>percprof</th><th scope=col>poppovertyknown</th><th scope=col>percpovertyknown</th><th scope=col>percbelowpoverty</th><th scope=col>percchildbelowpovert</th><th scope=col>percadultpoverty</th><th scope=col>percelderlypoverty</th><th scope=col>inmetro</th><th scope=col>category</th></tr></thead>\n",
       "<tbody>\n",
       "\t<tr><td>561      </td><td>ADAMS    </td><td>IL       </td><td>0.052    </td><td>66090    </td><td>1270.9615</td><td>63917    </td><td>1702     </td><td>98       </td><td>249      </td><td>...      </td><td>19.63139 </td><td>4.355859 </td><td>63628    </td><td>96.27478 </td><td>13.15144 </td><td>18.01172 </td><td>11.00978 </td><td>12.44381 </td><td>0        </td><td>AAR      </td></tr>\n",
       "\t<tr><td>562      </td><td>ALEXANDER</td><td>IL       </td><td>0.014    </td><td>10626    </td><td> 759.0000</td><td> 7054    </td><td>3496     </td><td>19       </td><td> 48      </td><td>...      </td><td>11.24331 </td><td>2.870315 </td><td>10529    </td><td>99.08714 </td><td>32.24428 </td><td>45.82651 </td><td>27.38565 </td><td>25.22898 </td><td>0        </td><td>LHR      </td></tr>\n",
       "\t<tr><td>563      </td><td>BOND     </td><td>IL       </td><td>0.022    </td><td>14991    </td><td> 681.4091</td><td>14477    </td><td> 429     </td><td>35       </td><td> 16      </td><td>...      </td><td>17.03382 </td><td>4.488572 </td><td>14235    </td><td>94.95697 </td><td>12.06884 </td><td>14.03606 </td><td>10.85209 </td><td>12.69741 </td><td>0        </td><td>AAR      </td></tr>\n",
       "</tbody>\n",
       "</table>\n"
      ],
      "text/latex": [
       "\\begin{tabular}{r|llllllllllllllllllllllllllll}\n",
       " PID & county & state & area & total & popdensity & popwhite & popblack & popamerindian & asian & ... & percollege & percprof & poppovertyknown & percpovertyknown & percbelowpoverty & percchildbelowpovert & percadultpoverty & percelderlypoverty & inmetro & category\\\\\n",
       "\\hline\n",
       "\t 561       & ADAMS     & IL        & 0.052     & 66090     & 1270.9615 & 63917     & 1702      & 98        & 249       & ...       & 19.63139  & 4.355859  & 63628     & 96.27478  & 13.15144  & 18.01172  & 11.00978  & 12.44381  & 0         & AAR      \\\\\n",
       "\t 562       & ALEXANDER & IL        & 0.014     & 10626     &  759.0000 &  7054     & 3496      & 19        &  48       & ...       & 11.24331  & 2.870315  & 10529     & 99.08714  & 32.24428  & 45.82651  & 27.38565  & 25.22898  & 0         & LHR      \\\\\n",
       "\t 563       & BOND      & IL        & 0.022     & 14991     &  681.4091 & 14477     &  429      & 35        &  16       & ...       & 17.03382  & 4.488572  & 14235     & 94.95697  & 12.06884  & 14.03606  & 10.85209  & 12.69741  & 0         & AAR      \\\\\n",
       "\\end{tabular}\n"
      ],
      "text/markdown": [
       "\n",
       "| PID | county | state | area | total | popdensity | popwhite | popblack | popamerindian | asian | ... | percollege | percprof | poppovertyknown | percpovertyknown | percbelowpoverty | percchildbelowpovert | percadultpoverty | percelderlypoverty | inmetro | category |\n",
       "|---|---|---|---|---|---|---|---|---|---|---|---|---|---|---|---|---|---|---|---|---|\n",
       "| 561       | ADAMS     | IL        | 0.052     | 66090     | 1270.9615 | 63917     | 1702      | 98        | 249       | ...       | 19.63139  | 4.355859  | 63628     | 96.27478  | 13.15144  | 18.01172  | 11.00978  | 12.44381  | 0         | AAR       |\n",
       "| 562       | ALEXANDER | IL        | 0.014     | 10626     |  759.0000 |  7054     | 3496      | 19        |  48       | ...       | 11.24331  | 2.870315  | 10529     | 99.08714  | 32.24428  | 45.82651  | 27.38565  | 25.22898  | 0         | LHR       |\n",
       "| 563       | BOND      | IL        | 0.022     | 14991     |  681.4091 | 14477     |  429      | 35        |  16       | ...       | 17.03382  | 4.488572  | 14235     | 94.95697  | 12.06884  | 14.03606  | 10.85209  | 12.69741  | 0         | AAR       |\n",
       "\n"
      ],
      "text/plain": [
       "  PID county    state area  total popdensity popwhite popblack popamerindian\n",
       "1 561 ADAMS     IL    0.052 66090 1270.9615  63917    1702     98           \n",
       "2 562 ALEXANDER IL    0.014 10626  759.0000   7054    3496     19           \n",
       "3 563 BOND      IL    0.022 14991  681.4091  14477     429     35           \n",
       "  asian ... percollege percprof poppovertyknown percpovertyknown\n",
       "1 249   ... 19.63139   4.355859 63628           96.27478        \n",
       "2  48   ... 11.24331   2.870315 10529           99.08714        \n",
       "3  16   ... 17.03382   4.488572 14235           94.95697        \n",
       "  percbelowpoverty percchildbelowpovert percadultpoverty percelderlypoverty\n",
       "1 13.15144         18.01172             11.00978         12.44381          \n",
       "2 32.24428         45.82651             27.38565         25.22898          \n",
       "3 12.06884         14.03606             10.85209         12.69741          \n",
       "  inmetro category\n",
       "1 0       AAR     \n",
       "2 0       LHR     \n",
       "3 0       AAR     "
      ]
     },
     "metadata": {},
     "output_type": "display_data"
    }
   ],
   "source": [
    "midwest = rename(midwest, total = poptotal)\n",
    "midwest = rename(midwest, asian = popasian)\n",
    "head(midwest, 3)"
   ]
  },
  {
   "cell_type": "code",
   "execution_count": 133,
   "metadata": {},
   "outputs": [
    {
     "data": {
      "image/png": "[encoded data removed]",
      "text/plain": [
       "Plot with title \"Histogram of midwest$ratio\""
      ]
     },
     "metadata": {},
     "output_type": "display_data"
    }
   ],
   "source": [
    "midwest$ratio = midwest$asian / midwest$total * 100\n",
    "hist(midwest$ratio)"
   ]
  },
  {
   "cell_type": "code",
   "execution_count": 134,
   "metadata": {},
   "outputs": [
    {
     "data": {
      "text/html": [
       "0.487246183435734"
      ],
      "text/latex": [
       "0.487246183435734"
      ],
      "text/markdown": [
       "0.487246183435734"
      ],
      "text/plain": [
       "[1] 0.4872462"
      ]
     },
     "metadata": {},
     "output_type": "display_data"
    }
   ],
   "source": [
    "mean(midwest$ratio)"
   ]
  },
  {
   "cell_type": "code",
   "execution_count": 135,
   "metadata": {},
   "outputs": [],
   "source": [
    "midwest$group = ifelse(midwest$ratio > 0.4872462, 'large', 'small')"
   ]
  },
  {
   "cell_type": "code",
   "execution_count": 136,
   "metadata": {},
   "outputs": [
    {
     "data": {
      "text/plain": [
       "\n",
       "large small \n",
       "  119   318 "
      ]
     },
     "metadata": {},
     "output_type": "display_data"
    }
   ],
   "source": [
    "table(midwest$group)"
   ]
  },
  {
   "cell_type": "code",
   "execution_count": 137,
   "metadata": {},
   "outputs": [
    {
     "data": {
      "image/png": "[encoded data removed]",
      "text/plain": [
       "plot without title"
      ]
     },
     "metadata": {},
     "output_type": "display_data"
    }
   ],
   "source": [
    "qplot(midwest$group)"
   ]
  },
  {
   "cell_type": "code",
   "execution_count": 138,
   "metadata": {},
   "outputs": [
    {
     "data": {
      "text/html": [
       "<table>\n",
       "<thead><tr><th scope=col>id</th><th scope=col>class</th><th scope=col>math</th><th scope=col>english</th><th scope=col>science</th></tr></thead>\n",
       "<tbody>\n",
       "\t<tr><td>1 </td><td>1 </td><td>50</td><td>98</td><td>50</td></tr>\n",
       "\t<tr><td>2 </td><td>1 </td><td>60</td><td>97</td><td>60</td></tr>\n",
       "\t<tr><td>3 </td><td>1 </td><td>45</td><td>86</td><td>78</td></tr>\n",
       "</tbody>\n",
       "</table>\n"
      ],
      "text/latex": [
       "\\begin{tabular}{r|lllll}\n",
       " id & class & math & english & science\\\\\n",
       "\\hline\n",
       "\t 1  & 1  & 50 & 98 & 50\\\\\n",
       "\t 2  & 1  & 60 & 97 & 60\\\\\n",
       "\t 3  & 1  & 45 & 86 & 78\\\\\n",
       "\\end{tabular}\n"
      ],
      "text/markdown": [
       "\n",
       "| id | class | math | english | science |\n",
       "|---|---|---|---|---|\n",
       "| 1  | 1  | 50 | 98 | 50 |\n",
       "| 2  | 1  | 60 | 97 | 60 |\n",
       "| 3  | 1  | 45 | 86 | 78 |\n",
       "\n"
      ],
      "text/plain": [
       "  id class math english science\n",
       "1 1  1     50   98      50     \n",
       "2 2  1     60   97      60     \n",
       "3 3  1     45   86      78     "
      ]
     },
     "metadata": {},
     "output_type": "display_data"
    }
   ],
   "source": [
    "exam = read.csv(\"csv_exam.csv\")\n",
    "head(exam, 3)"
   ]
  },
  {
   "cell_type": "code",
   "execution_count": 140,
   "metadata": {},
   "outputs": [
    {
     "data": {
      "text/html": [
       "<table>\n",
       "<thead><tr><th scope=col>id</th><th scope=col>class</th><th scope=col>math</th><th scope=col>english</th><th scope=col>science</th></tr></thead>\n",
       "<tbody>\n",
       "\t<tr><td>1 </td><td>1 </td><td>50</td><td>98</td><td>50</td></tr>\n",
       "\t<tr><td>2 </td><td>1 </td><td>60</td><td>97</td><td>60</td></tr>\n",
       "\t<tr><td>3 </td><td>1 </td><td>45</td><td>86</td><td>78</td></tr>\n",
       "\t<tr><td>4 </td><td>1 </td><td>30</td><td>98</td><td>58</td></tr>\n",
       "</tbody>\n",
       "</table>\n"
      ],
      "text/latex": [
       "\\begin{tabular}{r|lllll}\n",
       " id & class & math & english & science\\\\\n",
       "\\hline\n",
       "\t 1  & 1  & 50 & 98 & 50\\\\\n",
       "\t 2  & 1  & 60 & 97 & 60\\\\\n",
       "\t 3  & 1  & 45 & 86 & 78\\\\\n",
       "\t 4  & 1  & 30 & 98 & 58\\\\\n",
       "\\end{tabular}\n"
      ],
      "text/markdown": [
       "\n",
       "| id | class | math | english | science |\n",
       "|---|---|---|---|---|\n",
       "| 1  | 1  | 50 | 98 | 50 |\n",
       "| 2  | 1  | 60 | 97 | 60 |\n",
       "| 3  | 1  | 45 | 86 | 78 |\n",
       "| 4  | 1  | 30 | 98 | 58 |\n",
       "\n"
      ],
      "text/plain": [
       "  id class math english science\n",
       "1 1  1     50   98      50     \n",
       "2 2  1     60   97      60     \n",
       "3 3  1     45   86      78     \n",
       "4 4  1     30   98      58     "
      ]
     },
     "metadata": {},
     "output_type": "display_data"
    }
   ],
   "source": [
    "class1 = exam %>% filter(class ==1)\n",
    "class1"
   ]
  },
  {
   "cell_type": "code",
   "execution_count": 141,
   "metadata": {},
   "outputs": [
    {
     "data": {
      "text/html": [
       "<table>\n",
       "<thead><tr><th scope=col>id</th><th scope=col>class</th><th scope=col>math</th><th scope=col>english</th><th scope=col>science</th></tr></thead>\n",
       "<tbody>\n",
       "\t<tr><td> 5</td><td>2 </td><td>25</td><td>80</td><td>65</td></tr>\n",
       "\t<tr><td> 6</td><td>2 </td><td>50</td><td>89</td><td>98</td></tr>\n",
       "\t<tr><td> 7</td><td>2 </td><td>80</td><td>90</td><td>45</td></tr>\n",
       "\t<tr><td> 8</td><td>2 </td><td>90</td><td>78</td><td>25</td></tr>\n",
       "\t<tr><td> 9</td><td>3 </td><td>20</td><td>98</td><td>15</td></tr>\n",
       "\t<tr><td>10</td><td>3 </td><td>50</td><td>98</td><td>45</td></tr>\n",
       "\t<tr><td>11</td><td>3 </td><td>65</td><td>65</td><td>65</td></tr>\n",
       "\t<tr><td>12</td><td>3 </td><td>45</td><td>85</td><td>32</td></tr>\n",
       "\t<tr><td>13</td><td>4 </td><td>46</td><td>98</td><td>65</td></tr>\n",
       "\t<tr><td>14</td><td>4 </td><td>48</td><td>87</td><td>12</td></tr>\n",
       "\t<tr><td>15</td><td>4 </td><td>75</td><td>56</td><td>78</td></tr>\n",
       "\t<tr><td>16</td><td>4 </td><td>58</td><td>98</td><td>65</td></tr>\n",
       "\t<tr><td>17</td><td>5 </td><td>65</td><td>68</td><td>98</td></tr>\n",
       "\t<tr><td>18</td><td>5 </td><td>80</td><td>78</td><td>90</td></tr>\n",
       "\t<tr><td>19</td><td>5 </td><td>89</td><td>68</td><td>87</td></tr>\n",
       "\t<tr><td>20</td><td>5 </td><td>78</td><td>83</td><td>58</td></tr>\n",
       "</tbody>\n",
       "</table>\n"
      ],
      "text/latex": [
       "\\begin{tabular}{r|lllll}\n",
       " id & class & math & english & science\\\\\n",
       "\\hline\n",
       "\t  5 & 2  & 25 & 80 & 65\\\\\n",
       "\t  6 & 2  & 50 & 89 & 98\\\\\n",
       "\t  7 & 2  & 80 & 90 & 45\\\\\n",
       "\t  8 & 2  & 90 & 78 & 25\\\\\n",
       "\t  9 & 3  & 20 & 98 & 15\\\\\n",
       "\t 10 & 3  & 50 & 98 & 45\\\\\n",
       "\t 11 & 3  & 65 & 65 & 65\\\\\n",
       "\t 12 & 3  & 45 & 85 & 32\\\\\n",
       "\t 13 & 4  & 46 & 98 & 65\\\\\n",
       "\t 14 & 4  & 48 & 87 & 12\\\\\n",
       "\t 15 & 4  & 75 & 56 & 78\\\\\n",
       "\t 16 & 4  & 58 & 98 & 65\\\\\n",
       "\t 17 & 5  & 65 & 68 & 98\\\\\n",
       "\t 18 & 5  & 80 & 78 & 90\\\\\n",
       "\t 19 & 5  & 89 & 68 & 87\\\\\n",
       "\t 20 & 5  & 78 & 83 & 58\\\\\n",
       "\\end{tabular}\n"
      ],
      "text/markdown": [
       "\n",
       "| id | class | math | english | science |\n",
       "|---|---|---|---|---|\n",
       "|  5 | 2  | 25 | 80 | 65 |\n",
       "|  6 | 2  | 50 | 89 | 98 |\n",
       "|  7 | 2  | 80 | 90 | 45 |\n",
       "|  8 | 2  | 90 | 78 | 25 |\n",
       "|  9 | 3  | 20 | 98 | 15 |\n",
       "| 10 | 3  | 50 | 98 | 45 |\n",
       "| 11 | 3  | 65 | 65 | 65 |\n",
       "| 12 | 3  | 45 | 85 | 32 |\n",
       "| 13 | 4  | 46 | 98 | 65 |\n",
       "| 14 | 4  | 48 | 87 | 12 |\n",
       "| 15 | 4  | 75 | 56 | 78 |\n",
       "| 16 | 4  | 58 | 98 | 65 |\n",
       "| 17 | 5  | 65 | 68 | 98 |\n",
       "| 18 | 5  | 80 | 78 | 90 |\n",
       "| 19 | 5  | 89 | 68 | 87 |\n",
       "| 20 | 5  | 78 | 83 | 58 |\n",
       "\n"
      ],
      "text/plain": [
       "   id class math english science\n",
       "1   5 2     25   80      65     \n",
       "2   6 2     50   89      98     \n",
       "3   7 2     80   90      45     \n",
       "4   8 2     90   78      25     \n",
       "5   9 3     20   98      15     \n",
       "6  10 3     50   98      45     \n",
       "7  11 3     65   65      65     \n",
       "8  12 3     45   85      32     \n",
       "9  13 4     46   98      65     \n",
       "10 14 4     48   87      12     \n",
       "11 15 4     75   56      78     \n",
       "12 16 4     58   98      65     \n",
       "13 17 5     65   68      98     \n",
       "14 18 5     80   78      90     \n",
       "15 19 5     89   68      87     \n",
       "16 20 5     78   83      58     "
      ]
     },
     "metadata": {},
     "output_type": "display_data"
    }
   ],
   "source": [
    "exam %>% filter(class != 1)"
   ]
  },
  {
   "cell_type": "code",
   "execution_count": 142,
   "metadata": {},
   "outputs": [
    {
     "data": {
      "text/html": [
       "<table>\n",
       "<thead><tr><th scope=col>id</th><th scope=col>class</th><th scope=col>math</th><th scope=col>english</th><th scope=col>science</th></tr></thead>\n",
       "<tbody>\n",
       "\t<tr><td> 1</td><td>1 </td><td>50</td><td>98</td><td>50</td></tr>\n",
       "\t<tr><td> 2</td><td>1 </td><td>60</td><td>97</td><td>60</td></tr>\n",
       "\t<tr><td> 3</td><td>1 </td><td>45</td><td>86</td><td>78</td></tr>\n",
       "\t<tr><td> 4</td><td>1 </td><td>30</td><td>98</td><td>58</td></tr>\n",
       "\t<tr><td> 9</td><td>3 </td><td>20</td><td>98</td><td>15</td></tr>\n",
       "\t<tr><td>10</td><td>3 </td><td>50</td><td>98</td><td>45</td></tr>\n",
       "\t<tr><td>11</td><td>3 </td><td>65</td><td>65</td><td>65</td></tr>\n",
       "\t<tr><td>12</td><td>3 </td><td>45</td><td>85</td><td>32</td></tr>\n",
       "\t<tr><td>17</td><td>5 </td><td>65</td><td>68</td><td>98</td></tr>\n",
       "\t<tr><td>18</td><td>5 </td><td>80</td><td>78</td><td>90</td></tr>\n",
       "\t<tr><td>19</td><td>5 </td><td>89</td><td>68</td><td>87</td></tr>\n",
       "\t<tr><td>20</td><td>5 </td><td>78</td><td>83</td><td>58</td></tr>\n",
       "</tbody>\n",
       "</table>\n"
      ],
      "text/latex": [
       "\\begin{tabular}{r|lllll}\n",
       " id & class & math & english & science\\\\\n",
       "\\hline\n",
       "\t  1 & 1  & 50 & 98 & 50\\\\\n",
       "\t  2 & 1  & 60 & 97 & 60\\\\\n",
       "\t  3 & 1  & 45 & 86 & 78\\\\\n",
       "\t  4 & 1  & 30 & 98 & 58\\\\\n",
       "\t  9 & 3  & 20 & 98 & 15\\\\\n",
       "\t 10 & 3  & 50 & 98 & 45\\\\\n",
       "\t 11 & 3  & 65 & 65 & 65\\\\\n",
       "\t 12 & 3  & 45 & 85 & 32\\\\\n",
       "\t 17 & 5  & 65 & 68 & 98\\\\\n",
       "\t 18 & 5  & 80 & 78 & 90\\\\\n",
       "\t 19 & 5  & 89 & 68 & 87\\\\\n",
       "\t 20 & 5  & 78 & 83 & 58\\\\\n",
       "\\end{tabular}\n"
      ],
      "text/markdown": [
       "\n",
       "| id | class | math | english | science |\n",
       "|---|---|---|---|---|\n",
       "|  1 | 1  | 50 | 98 | 50 |\n",
       "|  2 | 1  | 60 | 97 | 60 |\n",
       "|  3 | 1  | 45 | 86 | 78 |\n",
       "|  4 | 1  | 30 | 98 | 58 |\n",
       "|  9 | 3  | 20 | 98 | 15 |\n",
       "| 10 | 3  | 50 | 98 | 45 |\n",
       "| 11 | 3  | 65 | 65 | 65 |\n",
       "| 12 | 3  | 45 | 85 | 32 |\n",
       "| 17 | 5  | 65 | 68 | 98 |\n",
       "| 18 | 5  | 80 | 78 | 90 |\n",
       "| 19 | 5  | 89 | 68 | 87 |\n",
       "| 20 | 5  | 78 | 83 | 58 |\n",
       "\n"
      ],
      "text/plain": [
       "   id class math english science\n",
       "1   1 1     50   98      50     \n",
       "2   2 1     60   97      60     \n",
       "3   3 1     45   86      78     \n",
       "4   4 1     30   98      58     \n",
       "5   9 3     20   98      15     \n",
       "6  10 3     50   98      45     \n",
       "7  11 3     65   65      65     \n",
       "8  12 3     45   85      32     \n",
       "9  17 5     65   68      98     \n",
       "10 18 5     80   78      90     \n",
       "11 19 5     89   68      87     \n",
       "12 20 5     78   83      58     "
      ]
     },
     "metadata": {},
     "output_type": "display_data"
    }
   ],
   "source": [
    "exam %>% filter(class %in% c(1, 3, 5))"
   ]
  },
  {
   "cell_type": "code",
   "execution_count": 143,
   "metadata": {},
   "outputs": [
    {
     "data": {
      "text/html": [
       "<table>\n",
       "<thead><tr><th scope=col>class</th><th scope=col>mean_math</th></tr></thead>\n",
       "<tbody>\n",
       "\t<tr><td>1    </td><td>46.25</td></tr>\n",
       "\t<tr><td>2    </td><td>61.25</td></tr>\n",
       "\t<tr><td>3    </td><td>45.00</td></tr>\n",
       "\t<tr><td>4    </td><td>56.75</td></tr>\n",
       "\t<tr><td>5    </td><td>78.00</td></tr>\n",
       "</tbody>\n",
       "</table>\n"
      ],
      "text/latex": [
       "\\begin{tabular}{r|ll}\n",
       " class & mean\\_math\\\\\n",
       "\\hline\n",
       "\t 1     & 46.25\\\\\n",
       "\t 2     & 61.25\\\\\n",
       "\t 3     & 45.00\\\\\n",
       "\t 4     & 56.75\\\\\n",
       "\t 5     & 78.00\\\\\n",
       "\\end{tabular}\n"
      ],
      "text/markdown": [
       "\n",
       "| class | mean_math |\n",
       "|---|---|\n",
       "| 1     | 46.25 |\n",
       "| 2     | 61.25 |\n",
       "| 3     | 45.00 |\n",
       "| 4     | 56.75 |\n",
       "| 5     | 78.00 |\n",
       "\n"
      ],
      "text/plain": [
       "  class mean_math\n",
       "1 1     46.25    \n",
       "2 2     61.25    \n",
       "3 3     45.00    \n",
       "4 4     56.75    \n",
       "5 5     78.00    "
      ]
     },
     "metadata": {},
     "output_type": "display_data"
    }
   ],
   "source": [
    "exam %>%\n",
    "    group_by(class) %>%\n",
    "    summarise(mean_math = mean(math))"
   ]
  },
  {
   "cell_type": "code",
   "execution_count": 144,
   "metadata": {},
   "outputs": [
    {
     "data": {
      "text/html": [
       "<table>\n",
       "<thead><tr><th scope=col>manufacturer</th><th scope=col>model</th><th scope=col>displ</th><th scope=col>year</th><th scope=col>cyl</th><th scope=col>trans</th><th scope=col>drv</th><th scope=col>city</th><th scope=col>highway</th><th scope=col>fl</th><th scope=col>class</th></tr></thead>\n",
       "<tbody>\n",
       "\t<tr><td>audi      </td><td>a4        </td><td>1.8       </td><td>1999      </td><td>4         </td><td>auto(l5)  </td><td>f         </td><td>18        </td><td>29        </td><td>p         </td><td>compact   </td></tr>\n",
       "\t<tr><td>audi      </td><td>a4        </td><td>1.8       </td><td>1999      </td><td>4         </td><td>manual(m5)</td><td>f         </td><td>21        </td><td>29        </td><td>p         </td><td>compact   </td></tr>\n",
       "\t<tr><td>audi      </td><td>a4        </td><td>2.0       </td><td>2008      </td><td>4         </td><td>manual(m6)</td><td>f         </td><td>20        </td><td>31        </td><td>p         </td><td>compact   </td></tr>\n",
       "</tbody>\n",
       "</table>\n"
      ],
      "text/latex": [
       "\\begin{tabular}{r|lllllllllll}\n",
       " manufacturer & model & displ & year & cyl & trans & drv & city & highway & fl & class\\\\\n",
       "\\hline\n",
       "\t audi       & a4         & 1.8        & 1999       & 4          & auto(l5)   & f          & 18         & 29         & p          & compact   \\\\\n",
       "\t audi       & a4         & 1.8        & 1999       & 4          & manual(m5) & f          & 21         & 29         & p          & compact   \\\\\n",
       "\t audi       & a4         & 2.0        & 2008       & 4          & manual(m6) & f          & 20         & 31         & p          & compact   \\\\\n",
       "\\end{tabular}\n"
      ],
      "text/markdown": [
       "\n",
       "| manufacturer | model | displ | year | cyl | trans | drv | city | highway | fl | class |\n",
       "|---|---|---|---|---|---|---|---|---|---|---|\n",
       "| audi       | a4         | 1.8        | 1999       | 4          | auto(l5)   | f          | 18         | 29         | p          | compact    |\n",
       "| audi       | a4         | 1.8        | 1999       | 4          | manual(m5) | f          | 21         | 29         | p          | compact    |\n",
       "| audi       | a4         | 2.0        | 2008       | 4          | manual(m6) | f          | 20         | 31         | p          | compact    |\n",
       "\n"
      ],
      "text/plain": [
       "  manufacturer model displ year cyl trans      drv city highway fl class  \n",
       "1 audi         a4    1.8   1999 4   auto(l5)   f   18   29      p  compact\n",
       "2 audi         a4    1.8   1999 4   manual(m5) f   21   29      p  compact\n",
       "3 audi         a4    2.0   2008 4   manual(m6) f   20   31      p  compact"
      ]
     },
     "metadata": {},
     "output_type": "display_data"
    }
   ],
   "source": [
    "head(mpg, 3)"
   ]
  },
  {
   "cell_type": "code",
   "execution_count": 157,
   "metadata": {},
   "outputs": [
    {
     "data": {
      "text/html": [
       "<table>\n",
       "<thead><tr><th scope=col>YM</th><th scope=col>CATEGORY</th><th scope=col>ITEM_CNT</th><th scope=col>QTY</th><th scope=col>PRICE</th><th scope=col>MAXTEMP</th><th scope=col>SALEDAY</th><th scope=col>RAIN_DAY</th><th scope=col>HOLIDAY</th></tr></thead>\n",
       "<tbody>\n",
       "\t<tr><td>200901  </td><td>건강음료</td><td>37      </td><td>1410    </td><td>1543    </td><td> 4      </td><td>126753  </td><td> 151    </td><td>12      </td></tr>\n",
       "\t<tr><td>200902  </td><td>건강음료</td><td>37      </td><td>1209    </td><td>1543    </td><td> 9      </td><td>113399  </td><td>3014    </td><td> 8      </td></tr>\n",
       "\t<tr><td>200903  </td><td>건강음료</td><td>38      </td><td>1348    </td><td>1547    </td><td>12      </td><td>129162  </td><td>1383    </td><td> 9      </td></tr>\n",
       "\t<tr><td>200904  </td><td>건강음료</td><td>38      </td><td>1377    </td><td>1500    </td><td>19      </td><td>126277  </td><td>3564    </td><td> 8      </td></tr>\n",
       "\t<tr><td>200905  </td><td>건강음료</td><td>40      </td><td>1406    </td><td>1528    </td><td>25      </td><td>129584  </td><td>9288    </td><td>12      </td></tr>\n",
       "\t<tr><td>200906  </td><td>건강음료</td><td>39      </td><td>1343    </td><td>1623    </td><td>27      </td><td>123218  </td><td>9998    </td><td> 8      </td></tr>\n",
       "</tbody>\n",
       "</table>\n"
      ],
      "text/latex": [
       "\\begin{tabular}{r|lllllllll}\n",
       " YM & CATEGORY & ITEM\\_CNT & QTY & PRICE & MAXTEMP & SALEDAY & RAIN\\_DAY & HOLIDAY\\\\\n",
       "\\hline\n",
       "\t 200901   & 건강음료 & 37       & 1410     & 1543     &  4       & 126753   &  151     & 12      \\\\\n",
       "\t 200902   & 건강음료 & 37       & 1209     & 1543     &  9       & 113399   & 3014     &  8      \\\\\n",
       "\t 200903   & 건강음료 & 38       & 1348     & 1547     & 12       & 129162   & 1383     &  9      \\\\\n",
       "\t 200904   & 건강음료 & 38       & 1377     & 1500     & 19       & 126277   & 3564     &  8      \\\\\n",
       "\t 200905   & 건강음료 & 40       & 1406     & 1528     & 25       & 129584   & 9288     & 12      \\\\\n",
       "\t 200906   & 건강음료 & 39       & 1343     & 1623     & 27       & 123218   & 9998     &  8      \\\\\n",
       "\\end{tabular}\n"
      ],
      "text/markdown": [
       "\n",
       "| YM | CATEGORY | ITEM_CNT | QTY | PRICE | MAXTEMP | SALEDAY | RAIN_DAY | HOLIDAY |\n",
       "|---|---|---|---|---|---|---|---|---|\n",
       "| 200901   | 건강음료 | 37       | 1410     | 1543     |  4       | 126753   |  151     | 12       |\n",
       "| 200902   | 건강음료 | 37       | 1209     | 1543     |  9       | 113399   | 3014     |  8       |\n",
       "| 200903   | 건강음료 | 38       | 1348     | 1547     | 12       | 129162   | 1383     |  9       |\n",
       "| 200904   | 건강음료 | 38       | 1377     | 1500     | 19       | 126277   | 3564     |  8       |\n",
       "| 200905   | 건강음료 | 40       | 1406     | 1528     | 25       | 129584   | 9288     | 12       |\n",
       "| 200906   | 건강음료 | 39       | 1343     | 1623     | 27       | 123218   | 9998     |  8       |\n",
       "\n"
      ],
      "text/plain": [
       "  YM     CATEGORY ITEM_CNT QTY  PRICE MAXTEMP SALEDAY RAIN_DAY HOLIDAY\n",
       "1 200901 건강음료 37       1410 1543   4      126753   151     12     \n",
       "2 200902 건강음료 37       1209 1543   9      113399  3014      8     \n",
       "3 200903 건강음료 38       1348 1547  12      129162  1383      9     \n",
       "4 200904 건강음료 38       1377 1500  19      126277  3564      8     \n",
       "5 200905 건강음료 40       1406 1528  25      129584  9288     12     \n",
       "6 200906 건강음료 39       1343 1623  27      123218  9998      8     "
      ]
     },
     "metadata": {},
     "output_type": "display_data"
    }
   ],
   "source": [
    "df = read.csv(\"sales_data.csv\")\n",
    "head(df)"
   ]
  },
  {
   "cell_type": "code",
   "execution_count": 158,
   "metadata": {},
   "outputs": [
    {
     "data": {
      "text/html": [
       "<table>\n",
       "<thead><tr><th scope=col>YM</th><th scope=col>CATEGORY</th><th scope=col>ITEM_CNT</th><th scope=col>QTY</th><th scope=col>PRICE</th><th scope=col>MAXTEMP</th><th scope=col>SALEDAY</th><th scope=col>RAIN_DAY</th><th scope=col>HOLIDAY</th></tr></thead>\n",
       "<tbody>\n",
       "\t<tr><td>200901  </td><td>과즙음료</td><td>45      </td><td> 990    </td><td>2611    </td><td> 4      </td><td>126753  </td><td>  151   </td><td>12      </td></tr>\n",
       "\t<tr><td>200902  </td><td>과즙음료</td><td>45      </td><td>1199    </td><td>2689    </td><td> 9      </td><td>113399  </td><td> 3014   </td><td> 8      </td></tr>\n",
       "\t<tr><td>200903  </td><td>과즙음료</td><td>43      </td><td>1102    </td><td>2735    </td><td>12      </td><td>129162  </td><td> 1383   </td><td> 9      </td></tr>\n",
       "\t<tr><td>200904  </td><td>과즙음료</td><td>42      </td><td>1326    </td><td>2807    </td><td>19      </td><td>126277  </td><td> 3564   </td><td> 8      </td></tr>\n",
       "\t<tr><td>200905  </td><td>과즙음료</td><td>46      </td><td>1672    </td><td>2674    </td><td>25      </td><td>129584  </td><td> 9288   </td><td>12      </td></tr>\n",
       "\t<tr><td>200906  </td><td>과즙음료</td><td>48      </td><td>1875    </td><td>2777    </td><td>27      </td><td>123218  </td><td> 9998   </td><td> 8      </td></tr>\n",
       "\t<tr><td>200907  </td><td>과즙음료</td><td>53      </td><td>1663    </td><td>2858    </td><td>28      </td><td>131083  </td><td>17405   </td><td> 8      </td></tr>\n",
       "\t<tr><td>200908  </td><td>과즙음료</td><td>52      </td><td>1957    </td><td>2886    </td><td>29      </td><td>130040  </td><td> 7704   </td><td>10      </td></tr>\n",
       "\t<tr><td>200909  </td><td>과즙음료</td><td>54      </td><td>2021    </td><td>2838    </td><td>27      </td><td>131989  </td><td> 4096   </td><td> 8      </td></tr>\n",
       "\t<tr><td>200910  </td><td>과즙음료</td><td>56      </td><td>1718    </td><td>2879    </td><td>22      </td><td>136095  </td><td> 2824   </td><td>10      </td></tr>\n",
       "\t<tr><td>200911  </td><td>과즙음료</td><td>58      </td><td>1204    </td><td>2853    </td><td>12      </td><td>136152  </td><td> 3684   </td><td> 9      </td></tr>\n",
       "\t<tr><td>200912  </td><td>과즙음료</td><td>57      </td><td>1147    </td><td>2694    </td><td> 5      </td><td>137391  </td><td>  216   </td><td> 9      </td></tr>\n",
       "\t<tr><td>201001  </td><td>과즙음료</td><td>55      </td><td>1106    </td><td>2746    </td><td> 2      </td><td>141145  </td><td>  792   </td><td>11      </td></tr>\n",
       "\t<tr><td>201002  </td><td>과즙음료</td><td>55      </td><td>1361    </td><td>2752    </td><td> 7      </td><td>128528  </td><td> 4384   </td><td> 9      </td></tr>\n",
       "\t<tr><td>201003  </td><td>과즙음료</td><td>55      </td><td>1432    </td><td>2800    </td><td>10      </td><td>145771  </td><td> 2940   </td><td> 9      </td></tr>\n",
       "\t<tr><td>201004  </td><td>과즙음료</td><td>57      </td><td>1750    </td><td>2768    </td><td>15      </td><td>130412  </td><td> 5973   </td><td> 8      </td></tr>\n",
       "\t<tr><td>201005  </td><td>과즙음료</td><td>57      </td><td>2204    </td><td>2768    </td><td>23      </td><td>143681  </td><td> 8656   </td><td>12      </td></tr>\n",
       "\t<tr><td>201006  </td><td>과즙음료</td><td>63      </td><td>2366    </td><td>2637    </td><td>28      </td><td>145035  </td><td> 6325   </td><td> 8      </td></tr>\n",
       "\t<tr><td>201007  </td><td>과즙음료</td><td>63      </td><td>2681    </td><td>2637    </td><td>29      </td><td>148561  </td><td>14930   </td><td> 9      </td></tr>\n",
       "\t<tr><td>201008  </td><td>과즙음료</td><td>62      </td><td>2321    </td><td>2660    </td><td>31      </td><td>153056  </td><td>30531   </td><td> 9      </td></tr>\n",
       "\t<tr><td>201009  </td><td>과즙음료</td><td>64      </td><td>1963    </td><td>2786    </td><td>27      </td><td>147804  </td><td>23150   </td><td>11      </td></tr>\n",
       "\t<tr><td>201010  </td><td>과즙음료</td><td>63      </td><td>2321    </td><td>2811    </td><td>20      </td><td>155952  </td><td> 1337   </td><td>10      </td></tr>\n",
       "\t<tr><td>201011  </td><td>과즙음료</td><td>65      </td><td>1548    </td><td>2932    </td><td>13      </td><td>154482  </td><td>    0   </td><td> 8      </td></tr>\n",
       "\t<tr><td>201012  </td><td>과즙음료</td><td>66      </td><td>1306    </td><td>2958    </td><td> 5      </td><td>161292  </td><td>  886   </td><td> 8      </td></tr>\n",
       "\t<tr><td>201101  </td><td>과즙음료</td><td>68      </td><td>1268    </td><td>2960    </td><td>-1      </td><td>163610  </td><td>   82   </td><td>10      </td></tr>\n",
       "\t<tr><td>201102  </td><td>과즙음료</td><td>65      </td><td>1528    </td><td>3042    </td><td> 7      </td><td>149737  </td><td> 5587   </td><td>11      </td></tr>\n",
       "\t<tr><td>201103  </td><td>과즙음료</td><td>63      </td><td>1874    </td><td>3112    </td><td>10      </td><td>169838  </td><td>  919   </td><td> 9      </td></tr>\n",
       "\t<tr><td>201104  </td><td>과즙음료</td><td>74      </td><td>2200    </td><td>2984    </td><td>17      </td><td>167577  </td><td> 8244   </td><td> 9      </td></tr>\n",
       "\t<tr><td>201105  </td><td>과즙음료</td><td>72      </td><td>3247    </td><td>2937    </td><td>23      </td><td>176452  </td><td> 7345   </td><td>10      </td></tr>\n",
       "\t<tr><td>201106  </td><td>과즙음료</td><td>73      </td><td>2783    </td><td>2913    </td><td>27      </td><td>173664  </td><td>25001   </td><td> 9      </td></tr>\n",
       "\t<tr><td>...</td><td>...</td><td>...</td><td>...</td><td>...</td><td>...</td><td>...</td><td>...</td><td>...</td></tr>\n",
       "\t<tr><td>201107</td><td>차음료</td><td>44    </td><td>2717  </td><td>1377  </td><td>29    </td><td>182676</td><td>43058 </td><td>10    </td></tr>\n",
       "\t<tr><td>201108</td><td>차음료</td><td>45    </td><td>2674  </td><td>1373  </td><td>29    </td><td>186850</td><td>20554 </td><td> 9    </td></tr>\n",
       "\t<tr><td>201109</td><td>차음료</td><td>41    </td><td>2879  </td><td>1423  </td><td>26    </td><td>184270</td><td> 5373 </td><td>10    </td></tr>\n",
       "\t<tr><td>201110</td><td>차음료</td><td>41    </td><td>2535  </td><td>1421  </td><td>20    </td><td>194286</td><td> 4146 </td><td>11    </td></tr>\n",
       "\t<tr><td>201111</td><td>차음료</td><td>41    </td><td>2322  </td><td>1416  </td><td>16    </td><td>191703</td><td>10027 </td><td> 8    </td></tr>\n",
       "\t<tr><td>201112</td><td>차음료</td><td>41    </td><td>2242  </td><td>1401  </td><td> 5    </td><td>201541</td><td>  489 </td><td> 9    </td></tr>\n",
       "\t<tr><td>201201</td><td>차음료</td><td>40    </td><td>2115  </td><td>1421  </td><td> 3    </td><td>203133</td><td>  362 </td><td>11    </td></tr>\n",
       "\t<tr><td>201202</td><td>차음료</td><td>41    </td><td>1804  </td><td>1430  </td><td> 5    </td><td>186880</td><td>  377 </td><td> 8    </td></tr>\n",
       "\t<tr><td>201203</td><td>차음료</td><td>42    </td><td>2297  </td><td>1417  </td><td>11    </td><td>212945</td><td> 6556 </td><td>10    </td></tr>\n",
       "\t<tr><td>201204</td><td>차음료</td><td>42    </td><td>3001  </td><td>1424  </td><td>18    </td><td>209151</td><td>17042 </td><td> 9    </td></tr>\n",
       "\t<tr><td>201205</td><td>차음료</td><td>46    </td><td>3992  </td><td>1445  </td><td>24    </td><td>215673</td><td> 2095 </td><td>10    </td></tr>\n",
       "\t<tr><td>201206</td><td>차음료</td><td>45    </td><td>3243  </td><td>1443  </td><td>28    </td><td>215525</td><td> 8865 </td><td>10    </td></tr>\n",
       "\t<tr><td>201207</td><td>차음료</td><td>48    </td><td>3206  </td><td>1476  </td><td>29    </td><td>203590</td><td>25076 </td><td> 9    </td></tr>\n",
       "\t<tr><td>201208</td><td>차음료</td><td>49    </td><td>3778  </td><td>1485  </td><td>30    </td><td>228142</td><td>32385 </td><td> 9    </td></tr>\n",
       "\t<tr><td>201209</td><td>차음료</td><td>50    </td><td>2965  </td><td>1498  </td><td>25    </td><td>223581</td><td>23569 </td><td>10    </td></tr>\n",
       "\t<tr><td>201210</td><td>차음료</td><td>50    </td><td>3090  </td><td>1498  </td><td>21    </td><td>233331</td><td>11111 </td><td>10    </td></tr>\n",
       "\t<tr><td>201211</td><td>차음료</td><td>49    </td><td>2267  </td><td>1539  </td><td>11    </td><td>229144</td><td> 4805 </td><td> 8    </td></tr>\n",
       "\t<tr><td>201212</td><td>차음료</td><td>49    </td><td>2295  </td><td>1539  </td><td> 2    </td><td>239129</td><td> 3706 </td><td>11    </td></tr>\n",
       "\t<tr><td>201301</td><td>차음료</td><td>49    </td><td>2089  </td><td>1539  </td><td> 2    </td><td>240416</td><td> 2528 </td><td> 9    </td></tr>\n",
       "\t<tr><td>201302</td><td>차음료</td><td>48    </td><td>1880  </td><td>1523  </td><td> 5    </td><td>217015</td><td> 6667 </td><td> 9    </td></tr>\n",
       "\t<tr><td>201303</td><td>차음료</td><td>49    </td><td>2348  </td><td>1516  </td><td>12    </td><td>243648</td><td> 4364 </td><td>11    </td></tr>\n",
       "\t<tr><td>201304</td><td>차음료</td><td>50    </td><td>2435  </td><td>1510  </td><td>15    </td><td>237340</td><td> 6727 </td><td> 8    </td></tr>\n",
       "\t<tr><td>201305</td><td>차음료</td><td>50    </td><td>3209  </td><td>1520  </td><td>23    </td><td>245068</td><td>17217 </td><td>10    </td></tr>\n",
       "\t<tr><td>201306</td><td>차음료</td><td>51    </td><td>3274  </td><td>1539  </td><td>28    </td><td>236180</td><td> 7360 </td><td>11    </td></tr>\n",
       "\t<tr><td>201307</td><td>차음료</td><td>51    </td><td>3395  </td><td>1539  </td><td>29    </td><td>241687</td><td>41344 </td><td> 8    </td></tr>\n",
       "\t<tr><td>201308</td><td>차음료</td><td>50    </td><td>3894  </td><td>1556  </td><td>31    </td><td>240142</td><td>22284 </td><td>10    </td></tr>\n",
       "\t<tr><td>201309</td><td>차음료</td><td>49    </td><td>3708  </td><td>1553  </td><td>26    </td><td>231662</td><td>13699 </td><td>12    </td></tr>\n",
       "\t<tr><td>201310</td><td>차음료</td><td>49    </td><td>3413  </td><td>1553  </td><td>21    </td><td>239981</td><td> 3011 </td><td>10    </td></tr>\n",
       "\t<tr><td>201311</td><td>차음료</td><td>50    </td><td>2615  </td><td>1548  </td><td>12    </td><td>232854</td><td> 2944 </td><td> 9    </td></tr>\n",
       "\t<tr><td>201312</td><td>차음료</td><td>50    </td><td>2443  </td><td>1548  </td><td> 5    </td><td>240458</td><td>  202 </td><td>10    </td></tr>\n",
       "</tbody>\n",
       "</table>\n"
      ],
      "text/latex": [
       "\\begin{tabular}{r|lllllllll}\n",
       " YM & CATEGORY & ITEM\\_CNT & QTY & PRICE & MAXTEMP & SALEDAY & RAIN\\_DAY & HOLIDAY\\\\\n",
       "\\hline\n",
       "\t 200901   & 과즙음료 & 45       &  990     & 2611     &  4       & 126753   &   151    & 12      \\\\\n",
       "\t 200902   & 과즙음료 & 45       & 1199     & 2689     &  9       & 113399   &  3014    &  8      \\\\\n",
       "\t 200903   & 과즙음료 & 43       & 1102     & 2735     & 12       & 129162   &  1383    &  9      \\\\\n",
       "\t 200904   & 과즙음료 & 42       & 1326     & 2807     & 19       & 126277   &  3564    &  8      \\\\\n",
       "\t 200905   & 과즙음료 & 46       & 1672     & 2674     & 25       & 129584   &  9288    & 12      \\\\\n",
       "\t 200906   & 과즙음료 & 48       & 1875     & 2777     & 27       & 123218   &  9998    &  8      \\\\\n",
       "\t 200907   & 과즙음료 & 53       & 1663     & 2858     & 28       & 131083   & 17405    &  8      \\\\\n",
       "\t 200908   & 과즙음료 & 52       & 1957     & 2886     & 29       & 130040   &  7704    & 10      \\\\\n",
       "\t 200909   & 과즙음료 & 54       & 2021     & 2838     & 27       & 131989   &  4096    &  8      \\\\\n",
       "\t 200910   & 과즙음료 & 56       & 1718     & 2879     & 22       & 136095   &  2824    & 10      \\\\\n",
       "\t 200911   & 과즙음료 & 58       & 1204     & 2853     & 12       & 136152   &  3684    &  9      \\\\\n",
       "\t 200912   & 과즙음료 & 57       & 1147     & 2694     &  5       & 137391   &   216    &  9      \\\\\n",
       "\t 201001   & 과즙음료 & 55       & 1106     & 2746     &  2       & 141145   &   792    & 11      \\\\\n",
       "\t 201002   & 과즙음료 & 55       & 1361     & 2752     &  7       & 128528   &  4384    &  9      \\\\\n",
       "\t 201003   & 과즙음료 & 55       & 1432     & 2800     & 10       & 145771   &  2940    &  9      \\\\\n",
       "\t 201004   & 과즙음료 & 57       & 1750     & 2768     & 15       & 130412   &  5973    &  8      \\\\\n",
       "\t 201005   & 과즙음료 & 57       & 2204     & 2768     & 23       & 143681   &  8656    & 12      \\\\\n",
       "\t 201006   & 과즙음료 & 63       & 2366     & 2637     & 28       & 145035   &  6325    &  8      \\\\\n",
       "\t 201007   & 과즙음료 & 63       & 2681     & 2637     & 29       & 148561   & 14930    &  9      \\\\\n",
       "\t 201008   & 과즙음료 & 62       & 2321     & 2660     & 31       & 153056   & 30531    &  9      \\\\\n",
       "\t 201009   & 과즙음료 & 64       & 1963     & 2786     & 27       & 147804   & 23150    & 11      \\\\\n",
       "\t 201010   & 과즙음료 & 63       & 2321     & 2811     & 20       & 155952   &  1337    & 10      \\\\\n",
       "\t 201011   & 과즙음료 & 65       & 1548     & 2932     & 13       & 154482   &     0    &  8      \\\\\n",
       "\t 201012   & 과즙음료 & 66       & 1306     & 2958     &  5       & 161292   &   886    &  8      \\\\\n",
       "\t 201101   & 과즙음료 & 68       & 1268     & 2960     & -1       & 163610   &    82    & 10      \\\\\n",
       "\t 201102   & 과즙음료 & 65       & 1528     & 3042     &  7       & 149737   &  5587    & 11      \\\\\n",
       "\t 201103   & 과즙음료 & 63       & 1874     & 3112     & 10       & 169838   &   919    &  9      \\\\\n",
       "\t 201104   & 과즙음료 & 74       & 2200     & 2984     & 17       & 167577   &  8244    &  9      \\\\\n",
       "\t 201105   & 과즙음료 & 72       & 3247     & 2937     & 23       & 176452   &  7345    & 10      \\\\\n",
       "\t 201106   & 과즙음료 & 73       & 2783     & 2913     & 27       & 173664   & 25001    &  9      \\\\\n",
       "\t ... & ... & ... & ... & ... & ... & ... & ... & ...\\\\\n",
       "\t 201107 & 차음료 & 44     & 2717   & 1377   & 29     & 182676 & 43058  & 10    \\\\\n",
       "\t 201108 & 차음료 & 45     & 2674   & 1373   & 29     & 186850 & 20554  &  9    \\\\\n",
       "\t 201109 & 차음료 & 41     & 2879   & 1423   & 26     & 184270 &  5373  & 10    \\\\\n",
       "\t 201110 & 차음료 & 41     & 2535   & 1421   & 20     & 194286 &  4146  & 11    \\\\\n",
       "\t 201111 & 차음료 & 41     & 2322   & 1416   & 16     & 191703 & 10027  &  8    \\\\\n",
       "\t 201112 & 차음료 & 41     & 2242   & 1401   &  5     & 201541 &   489  &  9    \\\\\n",
       "\t 201201 & 차음료 & 40     & 2115   & 1421   &  3     & 203133 &   362  & 11    \\\\\n",
       "\t 201202 & 차음료 & 41     & 1804   & 1430   &  5     & 186880 &   377  &  8    \\\\\n",
       "\t 201203 & 차음료 & 42     & 2297   & 1417   & 11     & 212945 &  6556  & 10    \\\\\n",
       "\t 201204 & 차음료 & 42     & 3001   & 1424   & 18     & 209151 & 17042  &  9    \\\\\n",
       "\t 201205 & 차음료 & 46     & 3992   & 1445   & 24     & 215673 &  2095  & 10    \\\\\n",
       "\t 201206 & 차음료 & 45     & 3243   & 1443   & 28     & 215525 &  8865  & 10    \\\\\n",
       "\t 201207 & 차음료 & 48     & 3206   & 1476   & 29     & 203590 & 25076  &  9    \\\\\n",
       "\t 201208 & 차음료 & 49     & 3778   & 1485   & 30     & 228142 & 32385  &  9    \\\\\n",
       "\t 201209 & 차음료 & 50     & 2965   & 1498   & 25     & 223581 & 23569  & 10    \\\\\n",
       "\t 201210 & 차음료 & 50     & 3090   & 1498   & 21     & 233331 & 11111  & 10    \\\\\n",
       "\t 201211 & 차음료 & 49     & 2267   & 1539   & 11     & 229144 &  4805  &  8    \\\\\n",
       "\t 201212 & 차음료 & 49     & 2295   & 1539   &  2     & 239129 &  3706  & 11    \\\\\n",
       "\t 201301 & 차음료 & 49     & 2089   & 1539   &  2     & 240416 &  2528  &  9    \\\\\n",
       "\t 201302 & 차음료 & 48     & 1880   & 1523   &  5     & 217015 &  6667  &  9    \\\\\n",
       "\t 201303 & 차음료 & 49     & 2348   & 1516   & 12     & 243648 &  4364  & 11    \\\\\n",
       "\t 201304 & 차음료 & 50     & 2435   & 1510   & 15     & 237340 &  6727  &  8    \\\\\n",
       "\t 201305 & 차음료 & 50     & 3209   & 1520   & 23     & 245068 & 17217  & 10    \\\\\n",
       "\t 201306 & 차음료 & 51     & 3274   & 1539   & 28     & 236180 &  7360  & 11    \\\\\n",
       "\t 201307 & 차음료 & 51     & 3395   & 1539   & 29     & 241687 & 41344  &  8    \\\\\n",
       "\t 201308 & 차음료 & 50     & 3894   & 1556   & 31     & 240142 & 22284  & 10    \\\\\n",
       "\t 201309 & 차음료 & 49     & 3708   & 1553   & 26     & 231662 & 13699  & 12    \\\\\n",
       "\t 201310 & 차음료 & 49     & 3413   & 1553   & 21     & 239981 &  3011  & 10    \\\\\n",
       "\t 201311 & 차음료 & 50     & 2615   & 1548   & 12     & 232854 &  2944  &  9    \\\\\n",
       "\t 201312 & 차음료 & 50     & 2443   & 1548   &  5     & 240458 &   202  & 10    \\\\\n",
       "\\end{tabular}\n"
      ],
      "text/markdown": [
       "\n",
       "| YM | CATEGORY | ITEM_CNT | QTY | PRICE | MAXTEMP | SALEDAY | RAIN_DAY | HOLIDAY |\n",
       "|---|---|---|---|---|---|---|---|---|\n",
       "| 200901   | 과즙음료 | 45       |  990     | 2611     |  4       | 126753   |   151    | 12       |\n",
       "| 200902   | 과즙음료 | 45       | 1199     | 2689     |  9       | 113399   |  3014    |  8       |\n",
       "| 200903   | 과즙음료 | 43       | 1102     | 2735     | 12       | 129162   |  1383    |  9       |\n",
       "| 200904   | 과즙음료 | 42       | 1326     | 2807     | 19       | 126277   |  3564    |  8       |\n",
       "| 200905   | 과즙음료 | 46       | 1672     | 2674     | 25       | 129584   |  9288    | 12       |\n",
       "| 200906   | 과즙음료 | 48       | 1875     | 2777     | 27       | 123218   |  9998    |  8       |\n",
       "| 200907   | 과즙음료 | 53       | 1663     | 2858     | 28       | 131083   | 17405    |  8       |\n",
       "| 200908   | 과즙음료 | 52       | 1957     | 2886     | 29       | 130040   |  7704    | 10       |\n",
       "| 200909   | 과즙음료 | 54       | 2021     | 2838     | 27       | 131989   |  4096    |  8       |\n",
       "| 200910   | 과즙음료 | 56       | 1718     | 2879     | 22       | 136095   |  2824    | 10       |\n",
       "| 200911   | 과즙음료 | 58       | 1204     | 2853     | 12       | 136152   |  3684    |  9       |\n",
       "| 200912   | 과즙음료 | 57       | 1147     | 2694     |  5       | 137391   |   216    |  9       |\n",
       "| 201001   | 과즙음료 | 55       | 1106     | 2746     |  2       | 141145   |   792    | 11       |\n",
       "| 201002   | 과즙음료 | 55       | 1361     | 2752     |  7       | 128528   |  4384    |  9       |\n",
       "| 201003   | 과즙음료 | 55       | 1432     | 2800     | 10       | 145771   |  2940    |  9       |\n",
       "| 201004   | 과즙음료 | 57       | 1750     | 2768     | 15       | 130412   |  5973    |  8       |\n",
       "| 201005   | 과즙음료 | 57       | 2204     | 2768     | 23       | 143681   |  8656    | 12       |\n",
       "| 201006   | 과즙음료 | 63       | 2366     | 2637     | 28       | 145035   |  6325    |  8       |\n",
       "| 201007   | 과즙음료 | 63       | 2681     | 2637     | 29       | 148561   | 14930    |  9       |\n",
       "| 201008   | 과즙음료 | 62       | 2321     | 2660     | 31       | 153056   | 30531    |  9       |\n",
       "| 201009   | 과즙음료 | 64       | 1963     | 2786     | 27       | 147804   | 23150    | 11       |\n",
       "| 201010   | 과즙음료 | 63       | 2321     | 2811     | 20       | 155952   |  1337    | 10       |\n",
       "| 201011   | 과즙음료 | 65       | 1548     | 2932     | 13       | 154482   |     0    |  8       |\n",
       "| 201012   | 과즙음료 | 66       | 1306     | 2958     |  5       | 161292   |   886    |  8       |\n",
       "| 201101   | 과즙음료 | 68       | 1268     | 2960     | -1       | 163610   |    82    | 10       |\n",
       "| 201102   | 과즙음료 | 65       | 1528     | 3042     |  7       | 149737   |  5587    | 11       |\n",
       "| 201103   | 과즙음료 | 63       | 1874     | 3112     | 10       | 169838   |   919    |  9       |\n",
       "| 201104   | 과즙음료 | 74       | 2200     | 2984     | 17       | 167577   |  8244    |  9       |\n",
       "| 201105   | 과즙음료 | 72       | 3247     | 2937     | 23       | 176452   |  7345    | 10       |\n",
       "| 201106   | 과즙음료 | 73       | 2783     | 2913     | 27       | 173664   | 25001    |  9       |\n",
       "| ... | ... | ... | ... | ... | ... | ... | ... | ... |\n",
       "| 201107 | 차음료 | 44     | 2717   | 1377   | 29     | 182676 | 43058  | 10     |\n",
       "| 201108 | 차음료 | 45     | 2674   | 1373   | 29     | 186850 | 20554  |  9     |\n",
       "| 201109 | 차음료 | 41     | 2879   | 1423   | 26     | 184270 |  5373  | 10     |\n",
       "| 201110 | 차음료 | 41     | 2535   | 1421   | 20     | 194286 |  4146  | 11     |\n",
       "| 201111 | 차음료 | 41     | 2322   | 1416   | 16     | 191703 | 10027  |  8     |\n",
       "| 201112 | 차음료 | 41     | 2242   | 1401   |  5     | 201541 |   489  |  9     |\n",
       "| 201201 | 차음료 | 40     | 2115   | 1421   |  3     | 203133 |   362  | 11     |\n",
       "| 201202 | 차음료 | 41     | 1804   | 1430   |  5     | 186880 |   377  |  8     |\n",
       "| 201203 | 차음료 | 42     | 2297   | 1417   | 11     | 212945 |  6556  | 10     |\n",
       "| 201204 | 차음료 | 42     | 3001   | 1424   | 18     | 209151 | 17042  |  9     |\n",
       "| 201205 | 차음료 | 46     | 3992   | 1445   | 24     | 215673 |  2095  | 10     |\n",
       "| 201206 | 차음료 | 45     | 3243   | 1443   | 28     | 215525 |  8865  | 10     |\n",
       "| 201207 | 차음료 | 48     | 3206   | 1476   | 29     | 203590 | 25076  |  9     |\n",
       "| 201208 | 차음료 | 49     | 3778   | 1485   | 30     | 228142 | 32385  |  9     |\n",
       "| 201209 | 차음료 | 50     | 2965   | 1498   | 25     | 223581 | 23569  | 10     |\n",
       "| 201210 | 차음료 | 50     | 3090   | 1498   | 21     | 233331 | 11111  | 10     |\n",
       "| 201211 | 차음료 | 49     | 2267   | 1539   | 11     | 229144 |  4805  |  8     |\n",
       "| 201212 | 차음료 | 49     | 2295   | 1539   |  2     | 239129 |  3706  | 11     |\n",
       "| 201301 | 차음료 | 49     | 2089   | 1539   |  2     | 240416 |  2528  |  9     |\n",
       "| 201302 | 차음료 | 48     | 1880   | 1523   |  5     | 217015 |  6667  |  9     |\n",
       "| 201303 | 차음료 | 49     | 2348   | 1516   | 12     | 243648 |  4364  | 11     |\n",
       "| 201304 | 차음료 | 50     | 2435   | 1510   | 15     | 237340 |  6727  |  8     |\n",
       "| 201305 | 차음료 | 50     | 3209   | 1520   | 23     | 245068 | 17217  | 10     |\n",
       "| 201306 | 차음료 | 51     | 3274   | 1539   | 28     | 236180 |  7360  | 11     |\n",
       "| 201307 | 차음료 | 51     | 3395   | 1539   | 29     | 241687 | 41344  |  8     |\n",
       "| 201308 | 차음료 | 50     | 3894   | 1556   | 31     | 240142 | 22284  | 10     |\n",
       "| 201309 | 차음료 | 49     | 3708   | 1553   | 26     | 231662 | 13699  | 12     |\n",
       "| 201310 | 차음료 | 49     | 3413   | 1553   | 21     | 239981 |  3011  | 10     |\n",
       "| 201311 | 차음료 | 50     | 2615   | 1548   | 12     | 232854 |  2944  |  9     |\n",
       "| 201312 | 차음료 | 50     | 2443   | 1548   |  5     | 240458 |   202  | 10     |\n",
       "\n"
      ],
      "text/plain": [
       "    YM     CATEGORY ITEM_CNT QTY  PRICE MAXTEMP SALEDAY RAIN_DAY HOLIDAY\n",
       "1   200901 과즙음료 45        990 2611   4      126753    151    12     \n",
       "2   200902 과즙음료 45       1199 2689   9      113399   3014     8     \n",
       "3   200903 과즙음료 43       1102 2735  12      129162   1383     9     \n",
       "4   200904 과즙음료 42       1326 2807  19      126277   3564     8     \n",
       "5   200905 과즙음료 46       1672 2674  25      129584   9288    12     \n",
       "6   200906 과즙음료 48       1875 2777  27      123218   9998     8     \n",
       "7   200907 과즙음료 53       1663 2858  28      131083  17405     8     \n",
       "8   200908 과즙음료 52       1957 2886  29      130040   7704    10     \n",
       "9   200909 과즙음료 54       2021 2838  27      131989   4096     8     \n",
       "10  200910 과즙음료 56       1718 2879  22      136095   2824    10     \n",
       "11  200911 과즙음료 58       1204 2853  12      136152   3684     9     \n",
       "12  200912 과즙음료 57       1147 2694   5      137391    216     9     \n",
       "13  201001 과즙음료 55       1106 2746   2      141145    792    11     \n",
       "14  201002 과즙음료 55       1361 2752   7      128528   4384     9     \n",
       "15  201003 과즙음료 55       1432 2800  10      145771   2940     9     \n",
       "16  201004 과즙음료 57       1750 2768  15      130412   5973     8     \n",
       "17  201005 과즙음료 57       2204 2768  23      143681   8656    12     \n",
       "18  201006 과즙음료 63       2366 2637  28      145035   6325     8     \n",
       "19  201007 과즙음료 63       2681 2637  29      148561  14930     9     \n",
       "20  201008 과즙음료 62       2321 2660  31      153056  30531     9     \n",
       "21  201009 과즙음료 64       1963 2786  27      147804  23150    11     \n",
       "22  201010 과즙음료 63       2321 2811  20      155952   1337    10     \n",
       "23  201011 과즙음료 65       1548 2932  13      154482      0     8     \n",
       "24  201012 과즙음료 66       1306 2958   5      161292    886     8     \n",
       "25  201101 과즙음료 68       1268 2960  -1      163610     82    10     \n",
       "26  201102 과즙음료 65       1528 3042   7      149737   5587    11     \n",
       "27  201103 과즙음료 63       1874 3112  10      169838    919     9     \n",
       "28  201104 과즙음료 74       2200 2984  17      167577   8244     9     \n",
       "29  201105 과즙음료 72       3247 2937  23      176452   7345    10     \n",
       "30  201106 과즙음료 73       2783 2913  27      173664  25001     9     \n",
       "... ...    ...      ...      ...  ...   ...     ...     ...      ...    \n",
       "151 201107 차음료   44       2717 1377  29      182676  43058    10     \n",
       "152 201108 차음료   45       2674 1373  29      186850  20554     9     \n",
       "153 201109 차음료   41       2879 1423  26      184270   5373    10     \n",
       "154 201110 차음료   41       2535 1421  20      194286   4146    11     \n",
       "155 201111 차음료   41       2322 1416  16      191703  10027     8     \n",
       "156 201112 차음료   41       2242 1401   5      201541    489     9     \n",
       "157 201201 차음료   40       2115 1421   3      203133    362    11     \n",
       "158 201202 차음료   41       1804 1430   5      186880    377     8     \n",
       "159 201203 차음료   42       2297 1417  11      212945   6556    10     \n",
       "160 201204 차음료   42       3001 1424  18      209151  17042     9     \n",
       "161 201205 차음료   46       3992 1445  24      215673   2095    10     \n",
       "162 201206 차음료   45       3243 1443  28      215525   8865    10     \n",
       "163 201207 차음료   48       3206 1476  29      203590  25076     9     \n",
       "164 201208 차음료   49       3778 1485  30      228142  32385     9     \n",
       "165 201209 차음료   50       2965 1498  25      223581  23569    10     \n",
       "166 201210 차음료   50       3090 1498  21      233331  11111    10     \n",
       "167 201211 차음료   49       2267 1539  11      229144   4805     8     \n",
       "168 201212 차음료   49       2295 1539   2      239129   3706    11     \n",
       "169 201301 차음료   49       2089 1539   2      240416   2528     9     \n",
       "170 201302 차음료   48       1880 1523   5      217015   6667     9     \n",
       "171 201303 차음료   49       2348 1516  12      243648   4364    11     \n",
       "172 201304 차음료   50       2435 1510  15      237340   6727     8     \n",
       "173 201305 차음료   50       3209 1520  23      245068  17217    10     \n",
       "174 201306 차음료   51       3274 1539  28      236180   7360    11     \n",
       "175 201307 차음료   51       3395 1539  29      241687  41344     8     \n",
       "176 201308 차음료   50       3894 1556  31      240142  22284    10     \n",
       "177 201309 차음료   49       3708 1553  26      231662  13699    12     \n",
       "178 201310 차음료   49       3413 1553  21      239981   3011    10     \n",
       "179 201311 차음료   50       2615 1548  12      232854   2944     9     \n",
       "180 201312 차음료   50       2443 1548   5      240458    202    10     "
      ]
     },
     "metadata": {},
     "output_type": "display_data"
    }
   ],
   "source": [
    "df = df %>% filter(CATEGORY == \"과즙음료\" | CATEGORY == \"비타민음료\" | CATEGORY == \"차음료\")\n",
    "df"
   ]
  },
  {
   "cell_type": "code",
   "execution_count": 159,
   "metadata": {},
   "outputs": [],
   "source": [
    "write.csv(df, \"sales_data_1.csv\")"
   ]
  },
  {
   "cell_type": "code",
   "execution_count": null,
   "metadata": {},
   "outputs": [],
   "source": []
  }
 ],
 "metadata": {
  "kernelspec": {
   "display_name": "R",
   "language": "R",
   "name": "ir"
  },
  "language_info": {
   "codemirror_mode": "r",
   "file_extension": ".r",
   "mimetype": "text/x-r-source",
   "name": "R",
   "pygments_lexer": "r",
   "version": "3.6.1"
  }
 },
 "nbformat": 4,
 "nbformat_minor": 4
}
