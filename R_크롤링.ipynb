{
 "cells": [
  {
   "cell_type": "code",
   "execution_count": 3,
   "metadata": {},
   "outputs": [
    {
     "data": {
      "text/html": [
       "'d:/workspace/R_practice/data/R_data'"
      ],
      "text/latex": [
       "'d:/workspace/R\\_practice/data/R\\_data'"
      ],
      "text/markdown": [
       "'d:/workspace/R_practice/data/R_data'"
      ],
      "text/plain": [
       "[1] \"d:/workspace/R_practice/data/R_data\""
      ]
     },
     "metadata": {},
     "output_type": "display_data"
    }
   ],
   "source": [
    "getwd()"
   ]
  },
  {
   "cell_type": "code",
   "execution_count": 4,
   "metadata": {},
   "outputs": [
    {
     "name": "stdout",
     "output_type": "stream",
     "text": [
      "package 'rvest' successfully unpacked and MD5 sums checked\n",
      "\n",
      "The downloaded binary packages are in\n",
      "\tC:\\Users\\14\\AppData\\Local\\Temp\\RtmpuOk4IZ\\downloaded_packages\n"
     ]
    }
   ],
   "source": [
    "install.packages('rvest')"
   ]
  },
  {
   "cell_type": "code",
   "execution_count": 5,
   "metadata": {},
   "outputs": [
    {
     "name": "stdout",
     "output_type": "stream",
     "text": [
      "package 'stringr' successfully unpacked and MD5 sums checked\n",
      "\n",
      "The downloaded binary packages are in\n",
      "\tC:\\Users\\14\\AppData\\Local\\Temp\\RtmpuOk4IZ\\downloaded_packages\n"
     ]
    }
   ],
   "source": [
    "install.packages('stringr')"
   ]
  },
  {
   "cell_type": "code",
   "execution_count": 7,
   "metadata": {},
   "outputs": [],
   "source": [
    "library('rvest')\n",
    "library('stringr')"
   ]
  },
  {
   "cell_type": "code",
   "execution_count": 51,
   "metadata": {},
   "outputs": [],
   "source": [
    "title = c()\n",
    "press = c()\n",
    "time = c()\n",
    "body = c()\n",
    "url = c()"
   ]
  },
  {
   "cell_type": "code",
   "execution_count": 14,
   "metadata": {},
   "outputs": [],
   "source": [
    "url_b = \"https://news.daum.net/breakingnews/?page=\""
   ]
  },
  {
   "cell_type": "code",
   "execution_count": 10,
   "metadata": {},
   "outputs": [],
   "source": [
    "t_css = \"#mArticle .tit_thumb .link_txt\""
   ]
  },
  {
   "cell_type": "code",
   "execution_count": 11,
   "metadata": {},
   "outputs": [],
   "source": [
    "pt_css = \".info_news\""
   ]
  },
  {
   "cell_type": "code",
   "execution_count": 12,
   "metadata": {},
   "outputs": [],
   "source": [
    "b_css = \".desc_thumb .link_txt\""
   ]
  },
  {
   "cell_type": "code",
   "execution_count": null,
   "metadata": {},
   "outputs": [],
   "source": [
    "ㅡㅡㅡㅡㅡㅡ"
   ]
  },
  {
   "cell_type": "code",
   "execution_count": 15,
   "metadata": {},
   "outputs": [],
   "source": [
    "cr_url = paste0(url_b, 1, sep = \"\")"
   ]
  },
  {
   "cell_type": "code",
   "execution_count": 27,
   "metadata": {},
   "outputs": [],
   "source": [
    "# html을 읽어들임\n",
    "hdoc = read_html(cr_url)"
   ]
  },
  {
   "cell_type": "code",
   "execution_count": 28,
   "metadata": {},
   "outputs": [],
   "source": [
    "# 읽은 html에서 t_css 위치를 찾아 가져옴\n",
    "t_node = html_nodes(hdoc, t_css)"
   ]
  },
  {
   "cell_type": "code",
   "execution_count": 33,
   "metadata": {},
   "outputs": [],
   "source": [
    "# pt_css 위치를 찾아 가져옴\n",
    "pt_node = html_nodes(hdoc, pt_css)"
   ]
  },
  {
   "cell_type": "code",
   "execution_count": 30,
   "metadata": {},
   "outputs": [],
   "source": [
    "# b_css 위치를 찾아 가져옴\n",
    "b_node = html_nodes(hdoc, b_css)"
   ]
  },
  {
   "cell_type": "code",
   "execution_count": 25,
   "metadata": {},
   "outputs": [],
   "source": [
    "# 타이틀 링크\n",
    "url_part = html_attr(t_node, \"href\")"
   ]
  },
  {
   "cell_type": "code",
   "execution_count": 31,
   "metadata": {},
   "outputs": [
    {
     "data": {
      "text/html": [
       "<ol class=list-inline>\n",
       "\t<li>'가혹행위 신고 이후 \\'침묵의 4개월\\' 재구성..최숙현은 혼자였다'</li>\n",
       "\t<li>'검사장회의 결과 받아들고 尹의 \\'고민의 시간\\' 길어지나'</li>\n",
       "\t<li>'블랙핑크 \\'How You Like That\\', 7월 첫주 음원차트 \\'올킬\\''</li>\n",
       "\t<li>'[속보] 홍남기 \"규제지역 중도금·잔금대출 한도 축소 보완책 검토\"'</li>\n",
       "\t<li>'방탄소년단 정국 \\'시차\\' 월드와이드 아이튠즈 25위..\\'꾸준한 상승세\\''</li>\n",
       "\t<li>'가수 숙행 \"부상투혼 중, 신곡 준비 중\"'</li>\n",
       "\t<li>'PBA-LPBA 투어 개막전 오픈! \\'TS샴푸 퍼펙트 큐\\' 주인공 탄생할까?'</li>\n",
       "\t<li>'[인사] 대전시의회'</li>\n",
       "\t<li>'서하준, \\'불새\\' 리메이크작 출연 확정..원작 에릭 役 (공식)'</li>\n",
       "\t<li>'[머니S포토] 고 \\'최숙현 선수\\' 사건..김규봉 감독, \"폭언과 폭행 등 가혹행위 없었다\"'</li>\n",
       "\t<li>'\"연상 돌싱 짝사랑 中, 계속 좋아해도 될까요?\"(무엇이든 물어보살)'</li>\n",
       "\t<li>'故 최숙현 선수 사망..경북 실업·학생선수 인권침해 전수조사'</li>\n",
       "\t<li>'코로나로 고3 불리해질라..전국 대학 20곳, 대입 전형 \\'변경\\''</li>\n",
       "\t<li>'노스페이스, 달리면서 기부하는 착한 러닝 \\'2020 미라클 365 버추얼 런\\' 공식 후원'</li>\n",
       "\t<li>'블랙핑크 \\'How You Like That\\' 7월 첫 주간차트 \\'올킬\\''</li>\n",
       "</ol>\n"
      ],
      "text/latex": [
       "\\begin{enumerate*}\n",
       "\\item '가혹행위 신고 이후 \\textbackslash{}'침묵의 4개월\\textbackslash{}' 재구성..최숙현은 혼자였다'\n",
       "\\item '검사장회의 결과 받아들고 尹의 \\textbackslash{}'고민의 시간\\textbackslash{}' 길어지나'\n",
       "\\item '블랙핑크 \\textbackslash{}'How You Like That\\textbackslash{}', 7월 첫주 음원차트 \\textbackslash{}'올킬\\textbackslash{}''\n",
       "\\item '{[}속보{]} 홍남기 \"규제지역 중도금·잔금대출 한도 축소 보완책 검토\"'\n",
       "\\item '방탄소년단 정국 \\textbackslash{}'시차\\textbackslash{}' 월드와이드 아이튠즈 25위..\\textbackslash{}'꾸준한 상승세\\textbackslash{}''\n",
       "\\item '가수 숙행 \"부상투혼 중, 신곡 준비 중\"'\n",
       "\\item 'PBA-LPBA 투어 개막전 오픈! \\textbackslash{}'TS샴푸 퍼펙트 큐\\textbackslash{}' 주인공 탄생할까?'\n",
       "\\item '{[}인사{]} 대전시의회'\n",
       "\\item '서하준, \\textbackslash{}'불새\\textbackslash{}' 리메이크작 출연 확정..원작 에릭 役 (공식)'\n",
       "\\item '{[}머니S포토{]} 고 \\textbackslash{}'최숙현 선수\\textbackslash{}' 사건..김규봉 감독, \"폭언과 폭행 등 가혹행위 없었다\"'\n",
       "\\item '\"연상 돌싱 짝사랑 中, 계속 좋아해도 될까요?\"(무엇이든 물어보살)'\n",
       "\\item '故 최숙현 선수 사망..경북 실업·학생선수 인권침해 전수조사'\n",
       "\\item '코로나로 고3 불리해질라..전국 대학 20곳, 대입 전형 \\textbackslash{}'변경\\textbackslash{}''\n",
       "\\item '노스페이스, 달리면서 기부하는 착한 러닝 \\textbackslash{}'2020 미라클 365 버추얼 런\\textbackslash{}' 공식 후원'\n",
       "\\item '블랙핑크 \\textbackslash{}'How You Like That\\textbackslash{}' 7월 첫 주간차트 \\textbackslash{}'올킬\\textbackslash{}''\n",
       "\\end{enumerate*}\n"
      ],
      "text/markdown": [
       "1. '가혹행위 신고 이후 \\'침묵의 4개월\\' 재구성..최숙현은 혼자였다'\n",
       "2. '검사장회의 결과 받아들고 尹의 \\'고민의 시간\\' 길어지나'\n",
       "3. '블랙핑크 \\'How You Like That\\', 7월 첫주 음원차트 \\'올킬\\''\n",
       "4. '[속보] 홍남기 \"규제지역 중도금·잔금대출 한도 축소 보완책 검토\"'\n",
       "5. '방탄소년단 정국 \\'시차\\' 월드와이드 아이튠즈 25위..\\'꾸준한 상승세\\''\n",
       "6. '가수 숙행 \"부상투혼 중, 신곡 준비 중\"'\n",
       "7. 'PBA-LPBA 투어 개막전 오픈! \\'TS샴푸 퍼펙트 큐\\' 주인공 탄생할까?'\n",
       "8. '[인사] 대전시의회'\n",
       "9. '서하준, \\'불새\\' 리메이크작 출연 확정..원작 에릭 役 (공식)'\n",
       "10. '[머니S포토] 고 \\'최숙현 선수\\' 사건..김규봉 감독, \"폭언과 폭행 등 가혹행위 없었다\"'\n",
       "11. '\"연상 돌싱 짝사랑 中, 계속 좋아해도 될까요?\"(무엇이든 물어보살)'\n",
       "12. '故 최숙현 선수 사망..경북 실업·학생선수 인권침해 전수조사'\n",
       "13. '코로나로 고3 불리해질라..전국 대학 20곳, 대입 전형 \\'변경\\''\n",
       "14. '노스페이스, 달리면서 기부하는 착한 러닝 \\'2020 미라클 365 버추얼 런\\' 공식 후원'\n",
       "15. '블랙핑크 \\'How You Like That\\' 7월 첫 주간차트 \\'올킬\\''\n",
       "\n",
       "\n"
      ],
      "text/plain": [
       " [1] \"가혹행위 신고 이후 '침묵의 4개월' 재구성..최숙현은 혼자였다\"                       \n",
       " [2] \"검사장회의 결과 받아들고 尹의 '고민의 시간' 길어지나\"                              \n",
       " [3] \"블랙핑크 'How You Like That', 7월 첫주 음원차트 '올킬'\"                            \n",
       " [4] \"[속보] 홍남기 \\\"규제지역 중도금·잔금대출 한도 축소 보완책 검토\\\"\"                 \n",
       " [5] \"방탄소년단 정국 '시차' 월드와이드 아이튠즈 25위..'꾸준한 상승세'\"                  \n",
       " [6] \"가수 숙행 \\\"부상투혼 중, 신곡 준비 중\\\"\"                                           \n",
       " [7] \"PBA-LPBA 투어 개막전 오픈! 'TS샴푸 퍼펙트 큐' 주인공 탄생할까?\"                    \n",
       " [8] \"[인사] 대전시의회\"                                                                 \n",
       " [9] \"서하준, '불새' 리메이크작 출연 확정..원작 에릭 役 (공식)\"                          \n",
       "[10] \"[머니S포토] 고 '최숙현 선수' 사건..김규봉 감독, \\\"폭언과 폭행 등 가혹행위 없었다\\\"\"\n",
       "[11] \"\\\"연상 돌싱 짝사랑 中, 계속 좋아해도 될까요?\\\"(무엇이든 물어보살)\"                 \n",
       "[12] \"故 최숙현 선수 사망..경북 실업·학생선수 인권침해 전수조사\"                        \n",
       "[13] \"코로나로 고3 불리해질라..전국 대학 20곳, 대입 전형 '변경'\"                         \n",
       "[14] \"노스페이스, 달리면서 기부하는 착한 러닝 '2020 미라클 365 버추얼 런' 공식 후원\"     \n",
       "[15] \"블랙핑크 'How You Like That' 7월 첫 주간차트 '올킬'\"                               "
      ]
     },
     "metadata": {},
     "output_type": "display_data"
    }
   ],
   "source": [
    "# t_css 위치에서 텍스트만 가져옴\n",
    "title_part = html_text(t_node)\n",
    "title_part"
   ]
  },
  {
   "cell_type": "code",
   "execution_count": 39,
   "metadata": {},
   "outputs": [
    {
     "data": {
      "text/html": [
       "<ol class=list-inline>\n",
       "\t<li>'경향신문 · 15:27'</li>\n",
       "\t<li>'서울경제 · 15:27'</li>\n",
       "\t<li>'스포츠동아 · 15:27'</li>\n",
       "\t<li>'연합뉴스 · 15:27'</li>\n",
       "\t<li>'스타뉴스 · 15:27'</li>\n",
       "\t<li>'스포츠경향 · 15:27'</li>\n",
       "\t<li>'뉴스1 · 15:27'</li>\n",
       "\t<li>'뉴스1 · 15:27'</li>\n",
       "\t<li>'MK스포츠 · 15:27'</li>\n",
       "\t<li>'머니S · 15:27'</li>\n",
       "\t<li>'MK스포츠 · 15:27'</li>\n",
       "\t<li>'노컷뉴스 · 15:27'</li>\n",
       "\t<li>'MBN · 15:27'</li>\n",
       "\t<li>'뉴스와이어 · 15:27'</li>\n",
       "\t<li>'스타투데이 · 15:27'</li>\n",
       "</ol>\n"
      ],
      "text/latex": [
       "\\begin{enumerate*}\n",
       "\\item '경향신문 · 15:27'\n",
       "\\item '서울경제 · 15:27'\n",
       "\\item '스포츠동아 · 15:27'\n",
       "\\item '연합뉴스 · 15:27'\n",
       "\\item '스타뉴스 · 15:27'\n",
       "\\item '스포츠경향 · 15:27'\n",
       "\\item '뉴스1 · 15:27'\n",
       "\\item '뉴스1 · 15:27'\n",
       "\\item 'MK스포츠 · 15:27'\n",
       "\\item '머니S · 15:27'\n",
       "\\item 'MK스포츠 · 15:27'\n",
       "\\item '노컷뉴스 · 15:27'\n",
       "\\item 'MBN · 15:27'\n",
       "\\item '뉴스와이어 · 15:27'\n",
       "\\item '스타투데이 · 15:27'\n",
       "\\end{enumerate*}\n"
      ],
      "text/markdown": [
       "1. '경향신문 · 15:27'\n",
       "2. '서울경제 · 15:27'\n",
       "3. '스포츠동아 · 15:27'\n",
       "4. '연합뉴스 · 15:27'\n",
       "5. '스타뉴스 · 15:27'\n",
       "6. '스포츠경향 · 15:27'\n",
       "7. '뉴스1 · 15:27'\n",
       "8. '뉴스1 · 15:27'\n",
       "9. 'MK스포츠 · 15:27'\n",
       "10. '머니S · 15:27'\n",
       "11. 'MK스포츠 · 15:27'\n",
       "12. '노컷뉴스 · 15:27'\n",
       "13. 'MBN · 15:27'\n",
       "14. '뉴스와이어 · 15:27'\n",
       "15. '스타투데이 · 15:27'\n",
       "\n",
       "\n"
      ],
      "text/plain": [
       " [1] \"경향신문 · 15:27\"   \"서울경제 · 15:27\"   \"스포츠동아 · 15:27\"\n",
       " [4] \"연합뉴스 · 15:27\"   \"스타뉴스 · 15:27\"   \"스포츠경향 · 15:27\"\n",
       " [7] \"뉴스1 · 15:27\"      \"뉴스1 · 15:27\"      \"MK스포츠 · 15:27\"  \n",
       "[10] \"머니S · 15:27\"      \"MK스포츠 · 15:27\"   \"노컷뉴스 · 15:27\"  \n",
       "[13] \"MBN · 15:27\"        \"뉴스와이어 · 15:27\" \"스타투데이 · 15:27\""
      ]
     },
     "metadata": {},
     "output_type": "display_data"
    }
   ],
   "source": [
    "# pt_css 위치에서 텍스트만 가져옴\n",
    "pt_part = html_text(pt_node)\n",
    "pt_part"
   ]
  },
  {
   "cell_type": "code",
   "execution_count": 40,
   "metadata": {},
   "outputs": [
    {
     "data": {
      "text/html": [
       "<ol class=list-inline>\n",
       "\t<li>'15:27'</li>\n",
       "\t<li>'15:27'</li>\n",
       "\t<li>'15:27'</li>\n",
       "\t<li>'15:27'</li>\n",
       "\t<li>'15:27'</li>\n",
       "\t<li>'15:27'</li>\n",
       "\t<li>'15:27'</li>\n",
       "\t<li>'15:27'</li>\n",
       "\t<li>'15:27'</li>\n",
       "\t<li>'15:27'</li>\n",
       "\t<li>'15:27'</li>\n",
       "\t<li>'15:27'</li>\n",
       "\t<li>'15:27'</li>\n",
       "\t<li>'15:27'</li>\n",
       "\t<li>'15:27'</li>\n",
       "</ol>\n"
      ],
      "text/latex": [
       "\\begin{enumerate*}\n",
       "\\item '15:27'\n",
       "\\item '15:27'\n",
       "\\item '15:27'\n",
       "\\item '15:27'\n",
       "\\item '15:27'\n",
       "\\item '15:27'\n",
       "\\item '15:27'\n",
       "\\item '15:27'\n",
       "\\item '15:27'\n",
       "\\item '15:27'\n",
       "\\item '15:27'\n",
       "\\item '15:27'\n",
       "\\item '15:27'\n",
       "\\item '15:27'\n",
       "\\item '15:27'\n",
       "\\end{enumerate*}\n"
      ],
      "text/markdown": [
       "1. '15:27'\n",
       "2. '15:27'\n",
       "3. '15:27'\n",
       "4. '15:27'\n",
       "5. '15:27'\n",
       "6. '15:27'\n",
       "7. '15:27'\n",
       "8. '15:27'\n",
       "9. '15:27'\n",
       "10. '15:27'\n",
       "11. '15:27'\n",
       "12. '15:27'\n",
       "13. '15:27'\n",
       "14. '15:27'\n",
       "15. '15:27'\n",
       "\n",
       "\n"
      ],
      "text/plain": [
       " [1] \"15:27\" \"15:27\" \"15:27\" \"15:27\" \"15:27\" \"15:27\" \"15:27\" \"15:27\" \"15:27\"\n",
       "[10] \"15:27\" \"15:27\" \"15:27\" \"15:27\" \"15:27\" \"15:27\""
      ]
     },
     "metadata": {},
     "output_type": "display_data"
    }
   ],
   "source": [
    "# pt_css 위치에서 시간만 가져옴\n",
    "time_part = str_sub(pt_part, -5)\n",
    "time_part"
   ]
  },
  {
   "cell_type": "code",
   "execution_count": 41,
   "metadata": {},
   "outputs": [
    {
     "data": {
      "text/html": [
       "<ol class=list-inline>\n",
       "\t<li>'경향신문'</li>\n",
       "\t<li>'서울경제'</li>\n",
       "\t<li>'스포츠동아'</li>\n",
       "\t<li>'연합뉴스'</li>\n",
       "\t<li>'스타뉴스'</li>\n",
       "\t<li>'스포츠경향'</li>\n",
       "\t<li>'뉴스1'</li>\n",
       "\t<li>'뉴스1'</li>\n",
       "\t<li>'MK스포츠'</li>\n",
       "\t<li>'머니S'</li>\n",
       "\t<li>'MK스포츠'</li>\n",
       "\t<li>'노컷뉴스'</li>\n",
       "\t<li>'MBN'</li>\n",
       "\t<li>'뉴스와이어'</li>\n",
       "\t<li>'스타투데이'</li>\n",
       "</ol>\n"
      ],
      "text/latex": [
       "\\begin{enumerate*}\n",
       "\\item '경향신문'\n",
       "\\item '서울경제'\n",
       "\\item '스포츠동아'\n",
       "\\item '연합뉴스'\n",
       "\\item '스타뉴스'\n",
       "\\item '스포츠경향'\n",
       "\\item '뉴스1'\n",
       "\\item '뉴스1'\n",
       "\\item 'MK스포츠'\n",
       "\\item '머니S'\n",
       "\\item 'MK스포츠'\n",
       "\\item '노컷뉴스'\n",
       "\\item 'MBN'\n",
       "\\item '뉴스와이어'\n",
       "\\item '스타투데이'\n",
       "\\end{enumerate*}\n"
      ],
      "text/markdown": [
       "1. '경향신문'\n",
       "2. '서울경제'\n",
       "3. '스포츠동아'\n",
       "4. '연합뉴스'\n",
       "5. '스타뉴스'\n",
       "6. '스포츠경향'\n",
       "7. '뉴스1'\n",
       "8. '뉴스1'\n",
       "9. 'MK스포츠'\n",
       "10. '머니S'\n",
       "11. 'MK스포츠'\n",
       "12. '노컷뉴스'\n",
       "13. 'MBN'\n",
       "14. '뉴스와이어'\n",
       "15. '스타투데이'\n",
       "\n",
       "\n"
      ],
      "text/plain": [
       " [1] \"경향신문\"   \"서울경제\"   \"스포츠동아\" \"연합뉴스\"   \"스타뉴스\"  \n",
       " [6] \"스포츠경향\" \"뉴스1\"      \"뉴스1\"      \"MK스포츠\"   \"머니S\"     \n",
       "[11] \"MK스포츠\"   \"노컷뉴스\"   \"MBN\"        \"뉴스와이어\" \"스타투데이\""
      ]
     },
     "metadata": {},
     "output_type": "display_data"
    }
   ],
   "source": [
    "# pt_css 위치에서 뉴스만 가져옴\n",
    "press_part = str_sub(pt_part, end = -9)\n",
    "press_part"
   ]
  },
  {
   "cell_type": "code",
   "execution_count": 45,
   "metadata": {},
   "outputs": [],
   "source": [
    "# 상위 타이틀 텍스트만 가져옴\n",
    "b_part = html_text(b_node)"
   ]
  },
  {
   "cell_type": "code",
   "execution_count": 46,
   "metadata": {},
   "outputs": [],
   "source": [
    "# 상위 타이틀 텍스트 전처리\n",
    "b_part = str_trim(b_part, side = 'both')"
   ]
  },
  {
   "cell_type": "code",
   "execution_count": null,
   "metadata": {},
   "outputs": [],
   "source": [
    "title = c(title, title_part)\n",
    "press = c(press, press_part)\n",
    "time = c(time, time_part)\n",
    "body = c(body, b_part)\n",
    "url = c(url, url_part)"
   ]
  },
  {
   "cell_type": "markdown",
   "metadata": {},
   "source": [
    "### 최종 반복문 ㅡㅡㅡㅡㅡㅡㅡㅡㅡㅡㅡㅡㅡ"
   ]
  },
  {
   "cell_type": "code",
   "execution_count": 57,
   "metadata": {},
   "outputs": [],
   "source": [
    "for(i in 1:200){\n",
    "    cr_url = paste0(url_b, i, sep = \"\")\n",
    "    hdoc = read_html(cr_url)\n",
    "    t_node = html_nodes(hdoc, t_css)\n",
    "    pt_node = html_nodes(hdoc, pt_css)\n",
    "    b_node = html_nodes(hdoc, b_css)\n",
    "    url_part = html_attr(t_node, \"href\")\n",
    "    title_part = html_text(t_node)\n",
    "    pt_part = html_text(pt_node)\n",
    "    time_part = str_sub(pt_part, -5)\n",
    "    press_part = str_sub(pt_part, end = -9)\n",
    "    b_part = html_text(b_node)\n",
    "    b_part = str_trim(b_part, side = 'both')\n",
    "    title = c(title, title_part)\n",
    "    press = c(press, press_part)\n",
    "    time = c(time, time_part)\n",
    "    body = c(body, b_part)\n",
    "    url = c(url, url_part)}"
   ]
  },
  {
   "cell_type": "code",
   "execution_count": 58,
   "metadata": {},
   "outputs": [],
   "source": [
    "news = data.frame(title, press, time, body, url)\n",
    "write.csv(news, 'news_0706.csv')"
   ]
  },
  {
   "cell_type": "code",
   "execution_count": 56,
   "metadata": {},
   "outputs": [
    {
     "ename": "ERROR",
     "evalue": "Error in view(news): 함수 \"view\"를 찾을 수 없습니다\n",
     "output_type": "error",
     "traceback": [
      "Error in view(news): 함수 \"view\"를 찾을 수 없습니다\nTraceback:\n"
     ]
    }
   ],
   "source": [
    "view(news)"
   ]
  },
  {
   "cell_type": "code",
   "execution_count": null,
   "metadata": {},
   "outputs": [],
   "source": []
  }
 ],
 "metadata": {
  "kernelspec": {
   "display_name": "R",
   "language": "R",
   "name": "ir"
  },
  "language_info": {
   "codemirror_mode": "r",
   "file_extension": ".r",
   "mimetype": "text/x-r-source",
   "name": "R",
   "pygments_lexer": "r",
   "version": "3.6.1"
  }
 },
 "nbformat": 4,
 "nbformat_minor": 4
}
