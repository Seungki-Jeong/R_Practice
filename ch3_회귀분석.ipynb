{
 "cells": [
  {
   "cell_type": "code",
   "execution_count": 4,
   "metadata": {},
   "outputs": [],
   "source": [
    "setwd('d:/workspace/R_practice/data/R_data')"
   ]
  },
  {
   "cell_type": "code",
   "execution_count": 22,
   "metadata": {},
   "outputs": [],
   "source": [
    "library('dplyr')"
   ]
  },
  {
   "cell_type": "code",
   "execution_count": 6,
   "metadata": {},
   "outputs": [
    {
     "data": {
      "text/html": [
       "<table>\n",
       "<thead><tr><th scope=col>rating</th><th scope=col>complaints</th><th scope=col>privileges</th><th scope=col>learning</th><th scope=col>raises</th><th scope=col>critical</th><th scope=col>advance</th></tr></thead>\n",
       "<tbody>\n",
       "\t<tr><td>43</td><td>51</td><td>30</td><td>39</td><td>61</td><td>92</td><td>45</td></tr>\n",
       "\t<tr><td>63</td><td>64</td><td>51</td><td>54</td><td>63</td><td>73</td><td>47</td></tr>\n",
       "\t<tr><td>71</td><td>70</td><td>68</td><td>69</td><td>76</td><td>86</td><td>48</td></tr>\n",
       "\t<tr><td>61</td><td>63</td><td>45</td><td>47</td><td>54</td><td>84</td><td>35</td></tr>\n",
       "\t<tr><td>81</td><td>78</td><td>56</td><td>66</td><td>71</td><td>83</td><td>47</td></tr>\n",
       "</tbody>\n",
       "</table>\n"
      ],
      "text/latex": [
       "\\begin{tabular}{r|lllllll}\n",
       " rating & complaints & privileges & learning & raises & critical & advance\\\\\n",
       "\\hline\n",
       "\t 43 & 51 & 30 & 39 & 61 & 92 & 45\\\\\n",
       "\t 63 & 64 & 51 & 54 & 63 & 73 & 47\\\\\n",
       "\t 71 & 70 & 68 & 69 & 76 & 86 & 48\\\\\n",
       "\t 61 & 63 & 45 & 47 & 54 & 84 & 35\\\\\n",
       "\t 81 & 78 & 56 & 66 & 71 & 83 & 47\\\\\n",
       "\\end{tabular}\n"
      ],
      "text/markdown": [
       "\n",
       "| rating | complaints | privileges | learning | raises | critical | advance |\n",
       "|---|---|---|---|---|---|---|\n",
       "| 43 | 51 | 30 | 39 | 61 | 92 | 45 |\n",
       "| 63 | 64 | 51 | 54 | 63 | 73 | 47 |\n",
       "| 71 | 70 | 68 | 69 | 76 | 86 | 48 |\n",
       "| 61 | 63 | 45 | 47 | 54 | 84 | 35 |\n",
       "| 81 | 78 | 56 | 66 | 71 | 83 | 47 |\n",
       "\n"
      ],
      "text/plain": [
       "  rating complaints privileges learning raises critical advance\n",
       "1 43     51         30         39       61     92       45     \n",
       "2 63     64         51         54       63     73       47     \n",
       "3 71     70         68         69       76     86       48     \n",
       "4 61     63         45         47       54     84       35     \n",
       "5 81     78         56         66       71     83       47     "
      ]
     },
     "metadata": {},
     "output_type": "display_data"
    }
   ],
   "source": [
    "head(attitude,5)"
   ]
  },
  {
   "cell_type": "code",
   "execution_count": 7,
   "metadata": {},
   "outputs": [
    {
     "data": {
      "text/html": [
       "<table>\n",
       "<thead><tr><th></th><th scope=col>rating</th><th scope=col>complaints</th><th scope=col>privileges</th><th scope=col>learning</th><th scope=col>raises</th><th scope=col>critical</th><th scope=col>advance</th></tr></thead>\n",
       "<tbody>\n",
       "\t<tr><th scope=row>rating</th><td>148.17126</td><td>133.77931</td><td> 63.46437</td><td> 89.10460</td><td> 74.68851</td><td>18.84253 </td><td> 19.42299</td></tr>\n",
       "\t<tr><th scope=row>complaints</th><td>133.77931</td><td>177.28276</td><td> 90.95172</td><td> 93.25517</td><td> 92.64138</td><td>24.73103 </td><td> 30.76552</td></tr>\n",
       "\t<tr><th scope=row>privileges</th><td> 63.46437</td><td> 90.95172</td><td>149.70575</td><td> 70.84598</td><td> 56.67126</td><td>17.82529 </td><td> 43.21609</td></tr>\n",
       "\t<tr><th scope=row>learning</th><td> 89.10460</td><td> 93.25517</td><td> 70.84598</td><td>137.75747</td><td> 78.13908</td><td>13.46782 </td><td> 64.19770</td></tr>\n",
       "\t<tr><th scope=row>raises</th><td> 74.68851</td><td> 92.64138</td><td> 56.67126</td><td> 78.13908</td><td>108.10230</td><td>38.77356 </td><td> 61.42299</td></tr>\n",
       "\t<tr><th scope=row>critical</th><td> 18.84253</td><td> 24.73103</td><td> 17.82529</td><td> 13.46782</td><td> 38.77356</td><td>97.90920 </td><td> 28.84598</td></tr>\n",
       "\t<tr><th scope=row>advance</th><td> 19.42299</td><td> 30.76552</td><td> 43.21609</td><td> 64.19770</td><td> 61.42299</td><td>28.84598 </td><td>105.85747</td></tr>\n",
       "</tbody>\n",
       "</table>\n"
      ],
      "text/latex": [
       "\\begin{tabular}{r|lllllll}\n",
       "  & rating & complaints & privileges & learning & raises & critical & advance\\\\\n",
       "\\hline\n",
       "\trating & 148.17126 & 133.77931 &  63.46437 &  89.10460 &  74.68851 & 18.84253  &  19.42299\\\\\n",
       "\tcomplaints & 133.77931 & 177.28276 &  90.95172 &  93.25517 &  92.64138 & 24.73103  &  30.76552\\\\\n",
       "\tprivileges &  63.46437 &  90.95172 & 149.70575 &  70.84598 &  56.67126 & 17.82529  &  43.21609\\\\\n",
       "\tlearning &  89.10460 &  93.25517 &  70.84598 & 137.75747 &  78.13908 & 13.46782  &  64.19770\\\\\n",
       "\traises &  74.68851 &  92.64138 &  56.67126 &  78.13908 & 108.10230 & 38.77356  &  61.42299\\\\\n",
       "\tcritical &  18.84253 &  24.73103 &  17.82529 &  13.46782 &  38.77356 & 97.90920  &  28.84598\\\\\n",
       "\tadvance &  19.42299 &  30.76552 &  43.21609 &  64.19770 &  61.42299 & 28.84598  & 105.85747\\\\\n",
       "\\end{tabular}\n"
      ],
      "text/markdown": [
       "\n",
       "| <!--/--> | rating | complaints | privileges | learning | raises | critical | advance |\n",
       "|---|---|---|---|---|---|---|---|\n",
       "| rating | 148.17126 | 133.77931 |  63.46437 |  89.10460 |  74.68851 | 18.84253  |  19.42299 |\n",
       "| complaints | 133.77931 | 177.28276 |  90.95172 |  93.25517 |  92.64138 | 24.73103  |  30.76552 |\n",
       "| privileges |  63.46437 |  90.95172 | 149.70575 |  70.84598 |  56.67126 | 17.82529  |  43.21609 |\n",
       "| learning |  89.10460 |  93.25517 |  70.84598 | 137.75747 |  78.13908 | 13.46782  |  64.19770 |\n",
       "| raises |  74.68851 |  92.64138 |  56.67126 |  78.13908 | 108.10230 | 38.77356  |  61.42299 |\n",
       "| critical |  18.84253 |  24.73103 |  17.82529 |  13.46782 |  38.77356 | 97.90920  |  28.84598 |\n",
       "| advance |  19.42299 |  30.76552 |  43.21609 |  64.19770 |  61.42299 | 28.84598  | 105.85747 |\n",
       "\n"
      ],
      "text/plain": [
       "           rating    complaints privileges learning  raises    critical\n",
       "rating     148.17126 133.77931   63.46437   89.10460  74.68851 18.84253\n",
       "complaints 133.77931 177.28276   90.95172   93.25517  92.64138 24.73103\n",
       "privileges  63.46437  90.95172  149.70575   70.84598  56.67126 17.82529\n",
       "learning    89.10460  93.25517   70.84598  137.75747  78.13908 13.46782\n",
       "raises      74.68851  92.64138   56.67126   78.13908 108.10230 38.77356\n",
       "critical    18.84253  24.73103   17.82529   13.46782  38.77356 97.90920\n",
       "advance     19.42299  30.76552   43.21609   64.19770  61.42299 28.84598\n",
       "           advance  \n",
       "rating      19.42299\n",
       "complaints  30.76552\n",
       "privileges  43.21609\n",
       "learning    64.19770\n",
       "raises      61.42299\n",
       "critical    28.84598\n",
       "advance    105.85747"
      ]
     },
     "metadata": {},
     "output_type": "display_data"
    }
   ],
   "source": [
    "cov(attitude)"
   ]
  },
  {
   "cell_type": "code",
   "execution_count": 8,
   "metadata": {},
   "outputs": [
    {
     "data": {
      "text/html": [
       "<table>\n",
       "<thead><tr><th></th><th scope=col>rating</th><th scope=col>complaints</th><th scope=col>privileges</th><th scope=col>learning</th><th scope=col>raises</th><th scope=col>critical</th><th scope=col>advance</th></tr></thead>\n",
       "<tbody>\n",
       "\t<tr><th scope=row>rating</th><td>1.0000000</td><td>0.8254176</td><td>0.4261169</td><td>0.6236782</td><td>0.5901390</td><td>0.1564392</td><td>0.1550863</td></tr>\n",
       "\t<tr><th scope=row>complaints</th><td>0.8254176</td><td>1.0000000</td><td>0.5582882</td><td>0.5967358</td><td>0.6691975</td><td>0.1877143</td><td>0.2245796</td></tr>\n",
       "\t<tr><th scope=row>privileges</th><td>0.4261169</td><td>0.5582882</td><td>1.0000000</td><td>0.4933310</td><td>0.4454779</td><td>0.1472331</td><td>0.3432934</td></tr>\n",
       "\t<tr><th scope=row>learning</th><td>0.6236782</td><td>0.5967358</td><td>0.4933310</td><td>1.0000000</td><td>0.6403144</td><td>0.1159652</td><td>0.5316198</td></tr>\n",
       "\t<tr><th scope=row>raises</th><td>0.5901390</td><td>0.6691975</td><td>0.4454779</td><td>0.6403144</td><td>1.0000000</td><td>0.3768830</td><td>0.5741862</td></tr>\n",
       "\t<tr><th scope=row>critical</th><td>0.1564392</td><td>0.1877143</td><td>0.1472331</td><td>0.1159652</td><td>0.3768830</td><td>1.0000000</td><td>0.2833432</td></tr>\n",
       "\t<tr><th scope=row>advance</th><td>0.1550863</td><td>0.2245796</td><td>0.3432934</td><td>0.5316198</td><td>0.5741862</td><td>0.2833432</td><td>1.0000000</td></tr>\n",
       "</tbody>\n",
       "</table>\n"
      ],
      "text/latex": [
       "\\begin{tabular}{r|lllllll}\n",
       "  & rating & complaints & privileges & learning & raises & critical & advance\\\\\n",
       "\\hline\n",
       "\trating & 1.0000000 & 0.8254176 & 0.4261169 & 0.6236782 & 0.5901390 & 0.1564392 & 0.1550863\\\\\n",
       "\tcomplaints & 0.8254176 & 1.0000000 & 0.5582882 & 0.5967358 & 0.6691975 & 0.1877143 & 0.2245796\\\\\n",
       "\tprivileges & 0.4261169 & 0.5582882 & 1.0000000 & 0.4933310 & 0.4454779 & 0.1472331 & 0.3432934\\\\\n",
       "\tlearning & 0.6236782 & 0.5967358 & 0.4933310 & 1.0000000 & 0.6403144 & 0.1159652 & 0.5316198\\\\\n",
       "\traises & 0.5901390 & 0.6691975 & 0.4454779 & 0.6403144 & 1.0000000 & 0.3768830 & 0.5741862\\\\\n",
       "\tcritical & 0.1564392 & 0.1877143 & 0.1472331 & 0.1159652 & 0.3768830 & 1.0000000 & 0.2833432\\\\\n",
       "\tadvance & 0.1550863 & 0.2245796 & 0.3432934 & 0.5316198 & 0.5741862 & 0.2833432 & 1.0000000\\\\\n",
       "\\end{tabular}\n"
      ],
      "text/markdown": [
       "\n",
       "| <!--/--> | rating | complaints | privileges | learning | raises | critical | advance |\n",
       "|---|---|---|---|---|---|---|---|\n",
       "| rating | 1.0000000 | 0.8254176 | 0.4261169 | 0.6236782 | 0.5901390 | 0.1564392 | 0.1550863 |\n",
       "| complaints | 0.8254176 | 1.0000000 | 0.5582882 | 0.5967358 | 0.6691975 | 0.1877143 | 0.2245796 |\n",
       "| privileges | 0.4261169 | 0.5582882 | 1.0000000 | 0.4933310 | 0.4454779 | 0.1472331 | 0.3432934 |\n",
       "| learning | 0.6236782 | 0.5967358 | 0.4933310 | 1.0000000 | 0.6403144 | 0.1159652 | 0.5316198 |\n",
       "| raises | 0.5901390 | 0.6691975 | 0.4454779 | 0.6403144 | 1.0000000 | 0.3768830 | 0.5741862 |\n",
       "| critical | 0.1564392 | 0.1877143 | 0.1472331 | 0.1159652 | 0.3768830 | 1.0000000 | 0.2833432 |\n",
       "| advance | 0.1550863 | 0.2245796 | 0.3432934 | 0.5316198 | 0.5741862 | 0.2833432 | 1.0000000 |\n",
       "\n"
      ],
      "text/plain": [
       "           rating    complaints privileges learning  raises    critical \n",
       "rating     1.0000000 0.8254176  0.4261169  0.6236782 0.5901390 0.1564392\n",
       "complaints 0.8254176 1.0000000  0.5582882  0.5967358 0.6691975 0.1877143\n",
       "privileges 0.4261169 0.5582882  1.0000000  0.4933310 0.4454779 0.1472331\n",
       "learning   0.6236782 0.5967358  0.4933310  1.0000000 0.6403144 0.1159652\n",
       "raises     0.5901390 0.6691975  0.4454779  0.6403144 1.0000000 0.3768830\n",
       "critical   0.1564392 0.1877143  0.1472331  0.1159652 0.3768830 1.0000000\n",
       "advance    0.1550863 0.2245796  0.3432934  0.5316198 0.5741862 0.2833432\n",
       "           advance  \n",
       "rating     0.1550863\n",
       "complaints 0.2245796\n",
       "privileges 0.3432934\n",
       "learning   0.5316198\n",
       "raises     0.5741862\n",
       "critical   0.2833432\n",
       "advance    1.0000000"
      ]
     },
     "metadata": {},
     "output_type": "display_data"
    }
   ],
   "source": [
    "cor(attitude)"
   ]
  },
  {
   "cell_type": "code",
   "execution_count": 9,
   "metadata": {},
   "outputs": [
    {
     "data": {
      "text/plain": [
       "\n",
       "\tPearson's product-moment correlation\n",
       "\n",
       "data:  attitude$rating and attitude$complaints\n",
       "t = 7.737, df = 28, p-value = 1.988e-08\n",
       "alternative hypothesis: true correlation is not equal to 0\n",
       "95 percent confidence interval:\n",
       " 0.6620128 0.9139139\n",
       "sample estimates:\n",
       "      cor \n",
       "0.8254176 \n"
      ]
     },
     "metadata": {},
     "output_type": "display_data"
    }
   ],
   "source": [
    "cor.test(attitude$rating, attitude$complaints)"
   ]
  },
  {
   "cell_type": "code",
   "execution_count": 30,
   "metadata": {},
   "outputs": [
    {
     "data": {
      "text/plain": [
       "\n",
       "Call:\n",
       "lm(formula = rating ~ complaints + privileges + raises + 0, data = attitude)\n",
       "\n",
       "Residuals:\n",
       "    Min      1Q  Median      3Q     Max \n",
       "-11.397  -6.721   1.342   6.467  11.442 \n",
       "\n",
       "Coefficients:\n",
       "           Estimate Std. Error t value Pr(>|t|)    \n",
       "complaints  0.75379    0.14952   5.041 2.72e-05 ***\n",
       "privileges -0.01575    0.13216  -0.119    0.906    \n",
       "raises      0.23176    0.14742   1.572    0.128    \n",
       "---\n",
       "Signif. codes:  0 '***' 0.001 '**' 0.01 '*' 0.05 '.' 0.1 ' ' 1\n",
       "\n",
       "Residual standard error: 7.352 on 27 degrees of freedom\n",
       "Multiple R-squared:  0.9887,\tAdjusted R-squared:  0.9875 \n",
       "F-statistic: 790.4 on 3 and 27 DF,  p-value: < 2.2e-16\n"
      ]
     },
     "metadata": {},
     "output_type": "display_data"
    }
   ],
   "source": [
    "a = lm(rating ~ complaints + privileges + raises + 0, data = attitude)\n",
    "summary(a)"
   ]
  },
  {
   "cell_type": "code",
   "execution_count": 60,
   "metadata": {},
   "outputs": [
    {
     "data": {
      "text/plain": [
       "\n",
       "\tShapiro-Wilk normality test\n",
       "\n",
       "data:  attitude$complaints\n",
       "W = 0.97045, p-value = 0.5516\n"
      ]
     },
     "metadata": {},
     "output_type": "display_data"
    }
   ],
   "source": [
    "shapiro.test(attitude$complaints)"
   ]
  },
  {
   "cell_type": "code",
   "execution_count": 87,
   "metadata": {},
   "outputs": [
    {
     "data": {
      "text/plain": [
       "\n",
       "Call:\n",
       "lm(formula = rating ~ complaints + 0, data = attitude)\n",
       "\n",
       "Residuals:\n",
       "    Min      1Q  Median      3Q     Max \n",
       "-11.883  -6.384   2.148   5.902  12.991 \n",
       "\n",
       "Coefficients:\n",
       "           Estimate Std. Error t value Pr(>|t|)    \n",
       "complaints  0.96244    0.01998   48.17   <2e-16 ***\n",
       "---\n",
       "Signif. codes:  0 '***' 0.001 '**' 0.01 '*' 0.05 '.' 0.1 ' ' 1\n",
       "\n",
       "Residual standard error: 7.428 on 29 degrees of freedom\n",
       "Multiple R-squared:  0.9877,\tAdjusted R-squared:  0.9872 \n",
       "F-statistic:  2320 on 1 and 29 DF,  p-value: < 2.2e-16\n"
      ]
     },
     "metadata": {},
     "output_type": "display_data"
    }
   ],
   "source": [
    "a = lm(rating ~ complaints + 0, data = attitude)\n",
    "summary(a)"
   ]
  },
  {
   "cell_type": "code",
   "execution_count": 88,
   "metadata": {},
   "outputs": [
    {
     "data": {
      "image/png": "[encoded data removed]",
      "text/plain": [
       "plot without title"
      ]
     },
     "metadata": {},
     "output_type": "display_data"
    }
   ],
   "source": [
    "plot(rating~complaints, data = attitude, col = 'blue')\n",
    "abline(a, col = 'red')"
   ]
  },
  {
   "cell_type": "code",
   "execution_count": 89,
   "metadata": {},
   "outputs": [
    {
     "data": {
      "image/png": "[encoded data removed]",
      "text/plain": [
       "Plot with title \"\""
      ]
     },
     "metadata": {},
     "output_type": "display_data"
    }
   ],
   "source": [
    "par(mfrow = c(2,2))\n",
    "plot(a)"
   ]
  },
  {
   "cell_type": "code",
   "execution_count": 111,
   "metadata": {},
   "outputs": [],
   "source": [
    "new = data.frame(val = attitude$rating)"
   ]
  },
  {
   "cell_type": "code",
   "execution_count": 113,
   "metadata": {},
   "outputs": [
    {
     "ename": "ERROR",
     "evalue": "Error in eval(predvars, data, env): 객체 'complaints'를 찾을 수 없습니다\n",
     "output_type": "error",
     "traceback": [
      "Error in eval(predvars, data, env): 객체 'complaints'를 찾을 수 없습니다\nTraceback:\n",
      "1. predict(object = a, newdata = new)",
      "2. predict.lm(object = a, newdata = new)",
      "3. model.frame(Terms, newdata, na.action = na.action, xlev = object$xlevels)",
      "4. model.frame.default(Terms, newdata, na.action = na.action, xlev = object$xlevels)",
      "5. eval(predvars, data, env)",
      "6. eval(predvars, data, env)"
     ]
    }
   ],
   "source": [
    "predict(object = a, newdata = new, )"
   ]
  },
  {
   "cell_type": "code",
   "execution_count": 95,
   "metadata": {},
   "outputs": [
    {
     "ename": "ERROR",
     "evalue": "Error in eval(predvars, data, env): 객체 'complaints'를 찾을 수 없습니다\n",
     "output_type": "error",
     "traceback": [
      "Error in eval(predvars, data, env): 객체 'complaints'를 찾을 수 없습니다\nTraceback:\n",
      "1. cbind(new$val, predict(a, new, interval = \"prediction\"))",
      "2. predict(a, new, interval = \"prediction\")",
      "3. predict.lm(a, new, interval = \"prediction\")",
      "4. model.frame(Terms, newdata, na.action = na.action, xlev = object$xlevels)",
      "5. model.frame.default(Terms, newdata, na.action = na.action, xlev = object$xlevels)",
      "6. eval(predvars, data, env)",
      "7. eval(predvars, data, env)"
     ]
    }
   ],
   "source": [
    "cbind(new$val, predict(a, new, interval = 'prediction'))"
   ]
  },
  {
   "cell_type": "code",
   "execution_count": 92,
   "metadata": {},
   "outputs": [
    {
     "ename": "ERROR",
     "evalue": "Error in eval(predvars, data, env): 객체 'complaints'를 찾을 수 없습니다\n",
     "output_type": "error",
     "traceback": [
      "Error in eval(predvars, data, env): 객체 'complaints'를 찾을 수 없습니다\nTraceback:\n",
      "1. predict(a, new)",
      "2. predict.lm(a, new)",
      "3. model.frame(Terms, newdata, na.action = na.action, xlev = object$xlevels)",
      "4. model.frame.default(Terms, newdata, na.action = na.action, xlev = object$xlevels)",
      "5. eval(predvars, data, env)",
      "6. eval(predvars, data, env)"
     ]
    }
   ],
   "source": [
    "predict(a, new)"
   ]
  },
  {
   "cell_type": "markdown",
   "metadata": {},
   "source": [
    "## 다중회귀분석"
   ]
  },
  {
   "cell_type": "code",
   "execution_count": 115,
   "metadata": {},
   "outputs": [
    {
     "data": {
      "text/html": [
       "<table>\n",
       "<thead><tr><th scope=col>experience</th><th scope=col>score</th><th scope=col>salary</th></tr></thead>\n",
       "<tbody>\n",
       "\t<tr><td>4   </td><td> 78 </td><td>24.0</td></tr>\n",
       "\t<tr><td>7   </td><td>100 </td><td>43.0</td></tr>\n",
       "\t<tr><td>1   </td><td> 86 </td><td>23.7</td></tr>\n",
       "</tbody>\n",
       "</table>\n"
      ],
      "text/latex": [
       "\\begin{tabular}{r|lll}\n",
       " experience & score & salary\\\\\n",
       "\\hline\n",
       "\t 4    &  78  & 24.0\\\\\n",
       "\t 7    & 100  & 43.0\\\\\n",
       "\t 1    &  86  & 23.7\\\\\n",
       "\\end{tabular}\n"
      ],
      "text/markdown": [
       "\n",
       "| experience | score | salary |\n",
       "|---|---|---|\n",
       "| 4    |  78  | 24.0 |\n",
       "| 7    | 100  | 43.0 |\n",
       "| 1    |  86  | 23.7 |\n",
       "\n"
      ],
      "text/plain": [
       "  experience score salary\n",
       "1 4           78   24.0  \n",
       "2 7          100   43.0  \n",
       "3 1           86   23.7  "
      ]
     },
     "metadata": {},
     "output_type": "display_data"
    }
   ],
   "source": [
    "data = read.csv('salary.csv')\n",
    "head(data, 3)"
   ]
  },
  {
   "cell_type": "code",
   "execution_count": 120,
   "metadata": {},
   "outputs": [
    {
     "data": {
      "text/plain": [
       "\n",
       "Call:\n",
       "lm(formula = salary ~ experience + score, data = data)\n",
       "\n",
       "Residuals:\n",
       "    Min      1Q  Median      3Q     Max \n",
       "-4.3586 -1.4581 -0.0341  1.1862  4.9102 \n",
       "\n",
       "Coefficients:\n",
       "            Estimate Std. Error t value Pr(>|t|)    \n",
       "(Intercept)  3.17394    6.15607   0.516  0.61279    \n",
       "experience   1.40390    0.19857   7.070 1.88e-06 ***\n",
       "score        0.25089    0.07735   3.243  0.00478 ** \n",
       "---\n",
       "Signif. codes:  0 '***' 0.001 '**' 0.01 '*' 0.05 '.' 0.1 ' ' 1\n",
       "\n",
       "Residual standard error: 2.419 on 17 degrees of freedom\n",
       "Multiple R-squared:  0.8342,\tAdjusted R-squared:  0.8147 \n",
       "F-statistic: 42.76 on 2 and 17 DF,  p-value: 2.328e-07\n"
      ]
     },
     "metadata": {},
     "output_type": "display_data"
    }
   ],
   "source": [
    "out = lm(salary ~ experience + score, data = data)\n",
    "summary(out)"
   ]
  },
  {
   "cell_type": "code",
   "execution_count": 123,
   "metadata": {},
   "outputs": [
    {
     "data": {
      "image/png": "[encoded data removed]",
      "text/plain": [
       "Plot with title \"\""
      ]
     },
     "metadata": {},
     "output_type": "display_data"
    }
   ],
   "source": [
    "par(mfrow = c(2,2))\n",
    "plot(out)"
   ]
  },
  {
   "cell_type": "code",
   "execution_count": 124,
   "metadata": {},
   "outputs": [
    {
     "data": {
      "text/html": [
       "<table>\n",
       "<tbody>\n",
       "\t<tr><td> 4      </td><td> 78     </td><td>28.35861</td></tr>\n",
       "\t<tr><td> 7      </td><td>100     </td><td>38.08980</td></tr>\n",
       "\t<tr><td> 1      </td><td> 86     </td><td>26.15399</td></tr>\n",
       "\t<tr><td> 5      </td><td> 82     </td><td>30.76606</td></tr>\n",
       "\t<tr><td> 8      </td><td> 86     </td><td>35.98130</td></tr>\n",
       "\t<tr><td>10      </td><td> 84     </td><td>38.28734</td></tr>\n",
       "\t<tr><td> 0      </td><td> 75     </td><td>21.99034</td></tr>\n",
       "\t<tr><td> 1      </td><td> 80     </td><td>24.64867</td></tr>\n",
       "\t<tr><td> 6      </td><td> 83     </td><td>32.42084</td></tr>\n",
       "\t<tr><td> 6      </td><td> 91     </td><td>34.42793</td></tr>\n",
       "\t<tr><td> 9      </td><td> 88     </td><td>37.88698</td></tr>\n",
       "\t<tr><td> 2      </td><td> 73     </td><td>24.29638</td></tr>\n",
       "\t<tr><td>10      </td><td> 75     </td><td>36.02937</td></tr>\n",
       "\t<tr><td> 5      </td><td> 81     </td><td>30.51517</td></tr>\n",
       "\t<tr><td> 6      </td><td> 74     </td><td>30.16287</td></tr>\n",
       "\t<tr><td> 8      </td><td> 87     </td><td>36.23219</td></tr>\n",
       "\t<tr><td> 4      </td><td> 79     </td><td>28.60950</td></tr>\n",
       "\t<tr><td> 6      </td><td> 94     </td><td>35.18058</td></tr>\n",
       "\t<tr><td> 3      </td><td> 70     </td><td>24.94763</td></tr>\n",
       "\t<tr><td> 3      </td><td> 89     </td><td>29.71445</td></tr>\n",
       "</tbody>\n",
       "</table>\n"
      ],
      "text/latex": [
       "\\begin{tabular}{r|lll}\n",
       "\t  4       &  78      & 28.35861\\\\\n",
       "\t  7       & 100      & 38.08980\\\\\n",
       "\t  1       &  86      & 26.15399\\\\\n",
       "\t  5       &  82      & 30.76606\\\\\n",
       "\t  8       &  86      & 35.98130\\\\\n",
       "\t 10       &  84      & 38.28734\\\\\n",
       "\t  0       &  75      & 21.99034\\\\\n",
       "\t  1       &  80      & 24.64867\\\\\n",
       "\t  6       &  83      & 32.42084\\\\\n",
       "\t  6       &  91      & 34.42793\\\\\n",
       "\t  9       &  88      & 37.88698\\\\\n",
       "\t  2       &  73      & 24.29638\\\\\n",
       "\t 10       &  75      & 36.02937\\\\\n",
       "\t  5       &  81      & 30.51517\\\\\n",
       "\t  6       &  74      & 30.16287\\\\\n",
       "\t  8       &  87      & 36.23219\\\\\n",
       "\t  4       &  79      & 28.60950\\\\\n",
       "\t  6       &  94      & 35.18058\\\\\n",
       "\t  3       &  70      & 24.94763\\\\\n",
       "\t  3       &  89      & 29.71445\\\\\n",
       "\\end{tabular}\n"
      ],
      "text/markdown": [
       "\n",
       "|  4       |  78      | 28.35861 |\n",
       "|  7       | 100      | 38.08980 |\n",
       "|  1       |  86      | 26.15399 |\n",
       "|  5       |  82      | 30.76606 |\n",
       "|  8       |  86      | 35.98130 |\n",
       "| 10       |  84      | 38.28734 |\n",
       "|  0       |  75      | 21.99034 |\n",
       "|  1       |  80      | 24.64867 |\n",
       "|  6       |  83      | 32.42084 |\n",
       "|  6       |  91      | 34.42793 |\n",
       "|  9       |  88      | 37.88698 |\n",
       "|  2       |  73      | 24.29638 |\n",
       "| 10       |  75      | 36.02937 |\n",
       "|  5       |  81      | 30.51517 |\n",
       "|  6       |  74      | 30.16287 |\n",
       "|  8       |  87      | 36.23219 |\n",
       "|  4       |  79      | 28.60950 |\n",
       "|  6       |  94      | 35.18058 |\n",
       "|  3       |  70      | 24.94763 |\n",
       "|  3       |  89      | 29.71445 |\n",
       "\n"
      ],
      "text/plain": [
       "   [,1] [,2] [,3]    \n",
       "1   4    78  28.35861\n",
       "2   7   100  38.08980\n",
       "3   1    86  26.15399\n",
       "4   5    82  30.76606\n",
       "5   8    86  35.98130\n",
       "6  10    84  38.28734\n",
       "7   0    75  21.99034\n",
       "8   1    80  24.64867\n",
       "9   6    83  32.42084\n",
       "10  6    91  34.42793\n",
       "11  9    88  37.88698\n",
       "12  2    73  24.29638\n",
       "13 10    75  36.02937\n",
       "14  5    81  30.51517\n",
       "15  6    74  30.16287\n",
       "16  8    87  36.23219\n",
       "17  4    79  28.60950\n",
       "18  6    94  35.18058\n",
       "19  3    70  24.94763\n",
       "20  3    89  29.71445"
      ]
     },
     "metadata": {},
     "output_type": "display_data"
    }
   ],
   "source": [
    "cbind(data$experience, data$score, out$fitted.values)"
   ]
  },
  {
   "cell_type": "code",
   "execution_count": 125,
   "metadata": {},
   "outputs": [
    {
     "data": {
      "text/plain": [
       "\n",
       "Call:\n",
       "lm(formula = rating ~ complaints + learning, data = attitude)\n",
       "\n",
       "Residuals:\n",
       "     Min       1Q   Median       3Q      Max \n",
       "-11.5568  -5.7331   0.6701   6.5341  10.3610 \n",
       "\n",
       "Coefficients:\n",
       "            Estimate Std. Error t value Pr(>|t|)    \n",
       "(Intercept)   9.8709     7.0612   1.398    0.174    \n",
       "complaints    0.6435     0.1185   5.432 9.57e-06 ***\n",
       "learning      0.2112     0.1344   1.571    0.128    \n",
       "---\n",
       "Signif. codes:  0 '***' 0.001 '**' 0.01 '*' 0.05 '.' 0.1 ' ' 1\n",
       "\n",
       "Residual standard error: 6.817 on 27 degrees of freedom\n",
       "Multiple R-squared:  0.708,\tAdjusted R-squared:  0.6864 \n",
       "F-statistic: 32.74 on 2 and 27 DF,  p-value: 6.058e-08\n"
      ]
     },
     "metadata": {},
     "output_type": "display_data"
    }
   ],
   "source": [
    "a = lm(rating~complaints + learning, data = attitude)\n",
    "summary(a)"
   ]
  },
  {
   "cell_type": "code",
   "execution_count": 129,
   "metadata": {},
   "outputs": [
    {
     "data": {
      "text/plain": [
       "\n",
       "Call:\n",
       "lm(formula = rating ~ ., data = attitude)\n",
       "\n",
       "Residuals:\n",
       "     Min       1Q   Median       3Q      Max \n",
       "-10.9418  -4.3555   0.3158   5.5425  11.5990 \n",
       "\n",
       "Coefficients:\n",
       "            Estimate Std. Error t value Pr(>|t|)    \n",
       "(Intercept) 10.78708   11.58926   0.931 0.361634    \n",
       "complaints   0.61319    0.16098   3.809 0.000903 ***\n",
       "privileges  -0.07305    0.13572  -0.538 0.595594    \n",
       "learning     0.32033    0.16852   1.901 0.069925 .  \n",
       "raises       0.08173    0.22148   0.369 0.715480    \n",
       "critical     0.03838    0.14700   0.261 0.796334    \n",
       "advance     -0.21706    0.17821  -1.218 0.235577    \n",
       "---\n",
       "Signif. codes:  0 '***' 0.001 '**' 0.01 '*' 0.05 '.' 0.1 ' ' 1\n",
       "\n",
       "Residual standard error: 7.068 on 23 degrees of freedom\n",
       "Multiple R-squared:  0.7326,\tAdjusted R-squared:  0.6628 \n",
       "F-statistic:  10.5 on 6 and 23 DF,  p-value: 1.24e-05\n"
      ]
     },
     "metadata": {},
     "output_type": "display_data"
    }
   ],
   "source": [
    "out = lm(rating ~ ., data = attitude)\n",
    "summary(out)"
   ]
  },
  {
   "cell_type": "code",
   "execution_count": 130,
   "metadata": {},
   "outputs": [
    {
     "data": {
      "text/plain": [
       "\n",
       "Call:\n",
       "lm(formula = rating ~ complaints + learning, data = attitude)\n",
       "\n",
       "Residuals:\n",
       "     Min       1Q   Median       3Q      Max \n",
       "-11.5568  -5.7331   0.6701   6.5341  10.3610 \n",
       "\n",
       "Coefficients:\n",
       "            Estimate Std. Error t value Pr(>|t|)    \n",
       "(Intercept)   9.8709     7.0612   1.398    0.174    \n",
       "complaints    0.6435     0.1185   5.432 9.57e-06 ***\n",
       "learning      0.2112     0.1344   1.571    0.128    \n",
       "---\n",
       "Signif. codes:  0 '***' 0.001 '**' 0.01 '*' 0.05 '.' 0.1 ' ' 1\n",
       "\n",
       "Residual standard error: 6.817 on 27 degrees of freedom\n",
       "Multiple R-squared:  0.708,\tAdjusted R-squared:  0.6864 \n",
       "F-statistic: 32.74 on 2 and 27 DF,  p-value: 6.058e-08\n"
      ]
     },
     "metadata": {},
     "output_type": "display_data"
    }
   ],
   "source": [
    "backward = step(out, direction = 'backward', trace = FALSE)\n",
    "summary(backward)"
   ]
  },
  {
   "cell_type": "code",
   "execution_count": 131,
   "metadata": {},
   "outputs": [
    {
     "data": {
      "text/plain": [
       "\n",
       "Call:\n",
       "lm(formula = rating ~ complaints + learning, data = attitude)\n",
       "\n",
       "Residuals:\n",
       "     Min       1Q   Median       3Q      Max \n",
       "-11.5568  -5.7331   0.6701   6.5341  10.3610 \n",
       "\n",
       "Coefficients:\n",
       "            Estimate Std. Error t value Pr(>|t|)    \n",
       "(Intercept)   9.8709     7.0612   1.398    0.174    \n",
       "complaints    0.6435     0.1185   5.432 9.57e-06 ***\n",
       "learning      0.2112     0.1344   1.571    0.128    \n",
       "---\n",
       "Signif. codes:  0 '***' 0.001 '**' 0.01 '*' 0.05 '.' 0.1 ' ' 1\n",
       "\n",
       "Residual standard error: 6.817 on 27 degrees of freedom\n",
       "Multiple R-squared:  0.708,\tAdjusted R-squared:  0.6864 \n",
       "F-statistic: 32.74 on 2 and 27 DF,  p-value: 6.058e-08\n"
      ]
     },
     "metadata": {},
     "output_type": "display_data"
    }
   ],
   "source": [
    "both = step(out, direction = 'both', trace = FALSE)\n",
    "summary(both)"
   ]
  },
  {
   "cell_type": "code",
   "execution_count": 133,
   "metadata": {},
   "outputs": [
    {
     "name": "stdout",
     "output_type": "stream",
     "text": [
      "package 'leaps' successfully unpacked and MD5 sums checked\n",
      "\n",
      "The downloaded binary packages are in\n",
      "\tC:\\Users\\14\\AppData\\Local\\Temp\\RtmpmQ0lZq\\downloaded_packages\n"
     ]
    }
   ],
   "source": [
    "install.packages('leaps')"
   ]
  },
  {
   "cell_type": "code",
   "execution_count": 135,
   "metadata": {},
   "outputs": [],
   "source": [
    "library('leaps')"
   ]
  },
  {
   "cell_type": "code",
   "execution_count": 136,
   "metadata": {},
   "outputs": [
    {
     "data": {
      "text/plain": [
       "Subset selection object\n",
       "Call: regsubsets.formula(rating ~ ., data = attitude, nbest = 5)\n",
       "6 Variables  (and intercept)\n",
       "           Forced in Forced out\n",
       "complaints     FALSE      FALSE\n",
       "privileges     FALSE      FALSE\n",
       "learning       FALSE      FALSE\n",
       "raises         FALSE      FALSE\n",
       "critical       FALSE      FALSE\n",
       "advance        FALSE      FALSE\n",
       "5 subsets of each size up to 6\n",
       "Selection Algorithm: exhaustive\n",
       "         complaints privileges learning raises critical advance\n",
       "1  ( 1 ) \"*\"        \" \"        \" \"      \" \"    \" \"      \" \"    \n",
       "1  ( 2 ) \" \"        \" \"        \"*\"      \" \"    \" \"      \" \"    \n",
       "1  ( 3 ) \" \"        \" \"        \" \"      \"*\"    \" \"      \" \"    \n",
       "1  ( 4 ) \" \"        \"*\"        \" \"      \" \"    \" \"      \" \"    \n",
       "1  ( 5 ) \" \"        \" \"        \" \"      \" \"    \"*\"      \" \"    \n",
       "2  ( 1 ) \"*\"        \" \"        \"*\"      \" \"    \" \"      \" \"    \n",
       "2  ( 2 ) \"*\"        \" \"        \" \"      \"*\"    \" \"      \" \"    \n",
       "2  ( 3 ) \"*\"        \"*\"        \" \"      \" \"    \" \"      \" \"    \n",
       "2  ( 4 ) \"*\"        \" \"        \" \"      \" \"    \" \"      \"*\"    \n",
       "2  ( 5 ) \"*\"        \" \"        \" \"      \" \"    \"*\"      \" \"    \n",
       "3  ( 1 ) \"*\"        \" \"        \"*\"      \" \"    \" \"      \"*\"    \n",
       "3  ( 2 ) \"*\"        \"*\"        \"*\"      \" \"    \" \"      \" \"    \n",
       "3  ( 3 ) \"*\"        \" \"        \"*\"      \"*\"    \" \"      \" \"    \n",
       "3  ( 4 ) \"*\"        \" \"        \"*\"      \" \"    \"*\"      \" \"    \n",
       "3  ( 5 ) \"*\"        \" \"        \" \"      \"*\"    \" \"      \"*\"    \n",
       "4  ( 1 ) \"*\"        \"*\"        \"*\"      \" \"    \" \"      \"*\"    \n",
       "4  ( 2 ) \"*\"        \" \"        \"*\"      \"*\"    \" \"      \"*\"    \n",
       "4  ( 3 ) \"*\"        \" \"        \"*\"      \" \"    \"*\"      \"*\"    \n",
       "4  ( 4 ) \"*\"        \"*\"        \"*\"      \"*\"    \" \"      \" \"    \n",
       "4  ( 5 ) \"*\"        \"*\"        \"*\"      \" \"    \"*\"      \" \"    \n",
       "5  ( 1 ) \"*\"        \"*\"        \"*\"      \"*\"    \" \"      \"*\"    \n",
       "5  ( 2 ) \"*\"        \"*\"        \"*\"      \" \"    \"*\"      \"*\"    \n",
       "5  ( 3 ) \"*\"        \" \"        \"*\"      \"*\"    \"*\"      \"*\"    \n",
       "5  ( 4 ) \"*\"        \"*\"        \"*\"      \"*\"    \"*\"      \" \"    \n",
       "5  ( 5 ) \"*\"        \"*\"        \" \"      \"*\"    \"*\"      \"*\"    \n",
       "6  ( 1 ) \"*\"        \"*\"        \"*\"      \"*\"    \"*\"      \"*\"    "
      ]
     },
     "metadata": {},
     "output_type": "display_data"
    }
   ],
   "source": [
    "leaps = regsubsets(rating ~ ., data = attitude, nbest = 5)\n",
    "summary(leaps)"
   ]
  },
  {
   "cell_type": "code",
   "execution_count": 147,
   "metadata": {},
   "outputs": [
    {
     "data": {
      "image/png": "[encoded data removed]",
      "text/plain": [
       "plot without title"
      ]
     },
     "metadata": {},
     "output_type": "display_data"
    },
    {
     "data": {
      "image/png": "[encoded data removed]",
      "text/plain": [
       "plot without title"
      ]
     },
     "metadata": {},
     "output_type": "display_data"
    }
   ],
   "source": [
    "par(mfrow = c(1, 2))\n",
    "plot(leaps, scale = 'adjr2')\n",
    "plot(leaps, scale = 'Cp')\n",
    "plot(leaps, scale = 'bic')"
   ]
  },
  {
   "cell_type": "code",
   "execution_count": 149,
   "metadata": {},
   "outputs": [
    {
     "data": {
      "text/plain": [
       "\n",
       "Call:\n",
       "lm(formula = rating ~ complaints, data = attitude)\n",
       "\n",
       "Residuals:\n",
       "     Min       1Q   Median       3Q      Max \n",
       "-12.8799  -5.9905   0.1783   6.2978   9.6294 \n",
       "\n",
       "Coefficients:\n",
       "            Estimate Std. Error t value Pr(>|t|)    \n",
       "(Intercept) 14.37632    6.61999   2.172   0.0385 *  \n",
       "complaints   0.75461    0.09753   7.737 1.99e-08 ***\n",
       "---\n",
       "Signif. codes:  0 '***' 0.001 '**' 0.01 '*' 0.05 '.' 0.1 ' ' 1\n",
       "\n",
       "Residual standard error: 6.993 on 28 degrees of freedom\n",
       "Multiple R-squared:  0.6813,\tAdjusted R-squared:  0.6699 \n",
       "F-statistic: 59.86 on 1 and 28 DF,  p-value: 1.988e-08\n"
      ]
     },
     "metadata": {},
     "output_type": "display_data"
    }
   ],
   "source": [
    "out_bic = lm(rating ~ complaints, data = attitude)\n",
    "summary(out_bic)"
   ]
  },
  {
   "cell_type": "code",
   "execution_count": 150,
   "metadata": {},
   "outputs": [
    {
     "data": {
      "text/plain": [
       "\n",
       "Call:\n",
       "lm(formula = rating ~ complaints + learning, data = attitude)\n",
       "\n",
       "Residuals:\n",
       "     Min       1Q   Median       3Q      Max \n",
       "-11.5568  -5.7331   0.6701   6.5341  10.3610 \n",
       "\n",
       "Coefficients:\n",
       "            Estimate Std. Error t value Pr(>|t|)    \n",
       "(Intercept)   9.8709     7.0612   1.398    0.174    \n",
       "complaints    0.6435     0.1185   5.432 9.57e-06 ***\n",
       "learning      0.2112     0.1344   1.571    0.128    \n",
       "---\n",
       "Signif. codes:  0 '***' 0.001 '**' 0.01 '*' 0.05 '.' 0.1 ' ' 1\n",
       "\n",
       "Residual standard error: 6.817 on 27 degrees of freedom\n",
       "Multiple R-squared:  0.708,\tAdjusted R-squared:  0.6864 \n",
       "F-statistic: 32.74 on 2 and 27 DF,  p-value: 6.058e-08\n"
      ]
     },
     "metadata": {},
     "output_type": "display_data"
    }
   ],
   "source": [
    "out_cp = lm(rating ~ complaints + learning, data = attitude)\n",
    "summary(out_cp)"
   ]
  },
  {
   "cell_type": "code",
   "execution_count": 151,
   "metadata": {},
   "outputs": [
    {
     "data": {
      "text/plain": [
       "\n",
       "Call:\n",
       "lm(formula = rating ~ complaints + learning + advance, data = attitude)\n",
       "\n",
       "Residuals:\n",
       "    Min      1Q  Median      3Q     Max \n",
       "-12.217  -5.377   0.967   6.078  11.540 \n",
       "\n",
       "Coefficients:\n",
       "            Estimate Std. Error t value Pr(>|t|)    \n",
       "(Intercept)  13.5777     7.5439   1.800   0.0835 .  \n",
       "complaints    0.6227     0.1181   5.271 1.65e-05 ***\n",
       "learning      0.3124     0.1542   2.026   0.0532 .  \n",
       "advance      -0.1870     0.1449  -1.291   0.2082    \n",
       "---\n",
       "Signif. codes:  0 '***' 0.001 '**' 0.01 '*' 0.05 '.' 0.1 ' ' 1\n",
       "\n",
       "Residual standard error: 6.734 on 26 degrees of freedom\n",
       "Multiple R-squared:  0.7256,\tAdjusted R-squared:  0.6939 \n",
       "F-statistic: 22.92 on 3 and 26 DF,  p-value: 1.807e-07\n"
      ]
     },
     "metadata": {},
     "output_type": "display_data"
    }
   ],
   "source": [
    "out_adjr = lm(rating ~ complaints + learning + advance, data = attitude)\n",
    "summary(out_adjr)"
   ]
  },
  {
   "cell_type": "code",
   "execution_count": 155,
   "metadata": {},
   "outputs": [
    {
     "data": {
      "text/html": [
       "<table>\n",
       "<thead><tr><th scope=col>X</th><th scope=col>YM</th><th scope=col>CATEGORY</th><th scope=col>ITEM_CNT</th><th scope=col>QTY</th><th scope=col>PRICE</th><th scope=col>MAXTEMP</th><th scope=col>SALEDAY</th><th scope=col>RAIN_DAY</th><th scope=col>HOLIDAY</th></tr></thead>\n",
       "<tbody>\n",
       "\t<tr><td>1       </td><td>200901  </td><td>과즙음료</td><td>45      </td><td> 990    </td><td>2611    </td><td> 4      </td><td>126753  </td><td> 151    </td><td>12      </td></tr>\n",
       "\t<tr><td>2       </td><td>200902  </td><td>과즙음료</td><td>45      </td><td>1199    </td><td>2689    </td><td> 9      </td><td>113399  </td><td>3014    </td><td> 8      </td></tr>\n",
       "\t<tr><td>3       </td><td>200903  </td><td>과즙음료</td><td>43      </td><td>1102    </td><td>2735    </td><td>12      </td><td>129162  </td><td>1383    </td><td> 9      </td></tr>\n",
       "</tbody>\n",
       "</table>\n"
      ],
      "text/latex": [
       "\\begin{tabular}{r|llllllllll}\n",
       " X & YM & CATEGORY & ITEM\\_CNT & QTY & PRICE & MAXTEMP & SALEDAY & RAIN\\_DAY & HOLIDAY\\\\\n",
       "\\hline\n",
       "\t 1        & 200901   & 과즙음료 & 45       &  990     & 2611     &  4       & 126753   &  151     & 12      \\\\\n",
       "\t 2        & 200902   & 과즙음료 & 45       & 1199     & 2689     &  9       & 113399   & 3014     &  8      \\\\\n",
       "\t 3        & 200903   & 과즙음료 & 43       & 1102     & 2735     & 12       & 129162   & 1383     &  9      \\\\\n",
       "\\end{tabular}\n"
      ],
      "text/markdown": [
       "\n",
       "| X | YM | CATEGORY | ITEM_CNT | QTY | PRICE | MAXTEMP | SALEDAY | RAIN_DAY | HOLIDAY |\n",
       "|---|---|---|---|---|---|---|---|---|---|\n",
       "| 1        | 200901   | 과즙음료 | 45       |  990     | 2611     |  4       | 126753   |  151     | 12       |\n",
       "| 2        | 200902   | 과즙음료 | 45       | 1199     | 2689     |  9       | 113399   | 3014     |  8       |\n",
       "| 3        | 200903   | 과즙음료 | 43       | 1102     | 2735     | 12       | 129162   | 1383     |  9       |\n",
       "\n"
      ],
      "text/plain": [
       "  X YM     CATEGORY ITEM_CNT QTY  PRICE MAXTEMP SALEDAY RAIN_DAY HOLIDAY\n",
       "1 1 200901 과즙음료 45        990 2611   4      126753   151     12     \n",
       "2 2 200902 과즙음료 45       1199 2689   9      113399  3014      8     \n",
       "3 3 200903 과즙음료 43       1102 2735  12      129162  1383      9     "
      ]
     },
     "metadata": {},
     "output_type": "display_data"
    }
   ],
   "source": [
    "df = read.csv('sales_data_1.csv')\n",
    "head(df, 3)"
   ]
  },
  {
   "cell_type": "code",
   "execution_count": 158,
   "metadata": {},
   "outputs": [],
   "source": [
    "data = df %>%\n",
    "    select(CATEGORY, ITEM_CNT, QTY, PRICE, MAXTEMP, SALEDAY, RAIN_DAY, HOLIDAY)"
   ]
  },
  {
   "cell_type": "code",
   "execution_count": 159,
   "metadata": {},
   "outputs": [
    {
     "data": {
      "text/plain": [
       "\n",
       "Call:\n",
       "lm(formula = PRICE ~ ., data = data)\n",
       "\n",
       "Residuals:\n",
       "    Min      1Q  Median      3Q     Max \n",
       "-673.89 -124.74   46.79  145.78  512.54 \n",
       "\n",
       "Coefficients:\n",
       "                     Estimate Std. Error t value Pr(>|t|)    \n",
       "(Intercept)         1.870e+03  2.204e+02   8.481 1.01e-14 ***\n",
       "CATEGORY비타민음료  2.092e+02  1.787e+02   1.171   0.2433    \n",
       "CATEGORY차음료     -9.806e+02  8.491e+01 -11.549  < 2e-16 ***\n",
       "ITEM_CNT            1.698e+01  3.456e+00   4.911 2.10e-06 ***\n",
       "QTY                 1.580e-01  5.869e-02   2.692   0.0078 ** \n",
       "MAXTEMP            -7.838e+00  3.157e+00  -2.483   0.0140 *  \n",
       "SALEDAY            -2.617e-03  6.317e-04  -4.143 5.38e-05 ***\n",
       "RAIN_DAY           -1.795e-04  2.351e-03  -0.076   0.9392    \n",
       "HOLIDAY            -2.200e+00  1.461e+01  -0.151   0.8805    \n",
       "---\n",
       "Signif. codes:  0 '***' 0.001 '**' 0.01 '*' 0.05 '.' 0.1 ' ' 1\n",
       "\n",
       "Residual standard error: 225.1 on 171 degrees of freedom\n",
       "Multiple R-squared:  0.8591,\tAdjusted R-squared:  0.8525 \n",
       "F-statistic: 130.3 on 8 and 171 DF,  p-value: < 2.2e-16\n"
      ]
     },
     "metadata": {},
     "output_type": "display_data"
    }
   ],
   "source": [
    "a = lm(PRICE ~ ., data = data)\n",
    "summary(a)"
   ]
  },
  {
   "cell_type": "code",
   "execution_count": 160,
   "metadata": {},
   "outputs": [
    {
     "data": {
      "text/plain": [
       "Subset selection object\n",
       "Call: regsubsets.formula(PRICE ~ ., data = data, nbest = 5)\n",
       "8 Variables  (and intercept)\n",
       "                   Forced in Forced out\n",
       "CATEGORY비타민음료     FALSE      FALSE\n",
       "CATEGORY차음료         FALSE      FALSE\n",
       "ITEM_CNT               FALSE      FALSE\n",
       "QTY                    FALSE      FALSE\n",
       "MAXTEMP                FALSE      FALSE\n",
       "SALEDAY                FALSE      FALSE\n",
       "RAIN_DAY               FALSE      FALSE\n",
       "HOLIDAY                FALSE      FALSE\n",
       "5 subsets of each size up to 8\n",
       "Selection Algorithm: exhaustive\n",
       "         CATEGORY비타민음료 CATEGORY차음료 ITEM_CNT QTY MAXTEMP SALEDAY\n",
       "1  ( 1 ) \" \"                \"*\"            \" \"      \" \" \" \"     \" \"    \n",
       "1  ( 2 ) \" \"                \" \"            \"*\"      \" \" \" \"     \" \"    \n",
       "1  ( 3 ) \"*\"                \" \"            \" \"      \" \" \" \"     \" \"    \n",
       "1  ( 4 ) \" \"                \" \"            \" \"      \"*\" \" \"     \" \"    \n",
       "1  ( 5 ) \" \"                \" \"            \" \"      \" \" \" \"     \"*\"    \n",
       "2  ( 1 ) \" \"                \"*\"            \"*\"      \" \" \" \"     \" \"    \n",
       "2  ( 2 ) \"*\"                \"*\"            \" \"      \" \" \" \"     \" \"    \n",
       "2  ( 3 ) \" \"                \"*\"            \" \"      \"*\" \" \"     \" \"    \n",
       "2  ( 4 ) \"*\"                \" \"            \"*\"      \" \" \" \"     \" \"    \n",
       "2  ( 5 ) \" \"                \" \"            \"*\"      \"*\" \" \"     \" \"    \n",
       "3  ( 1 ) \" \"                \"*\"            \"*\"      \" \" \" \"     \"*\"    \n",
       "3  ( 2 ) \" \"                \"*\"            \"*\"      \" \" \" \"     \" \"    \n",
       "3  ( 3 ) \"*\"                \"*\"            \"*\"      \" \" \" \"     \" \"    \n",
       "3  ( 4 ) \" \"                \"*\"            \"*\"      \" \" \"*\"     \" \"    \n",
       "3  ( 5 ) \" \"                \"*\"            \"*\"      \"*\" \" \"     \" \"    \n",
       "4  ( 1 ) \" \"                \"*\"            \"*\"      \" \" \"*\"     \"*\"    \n",
       "4  ( 2 ) \" \"                \"*\"            \"*\"      \" \" \" \"     \"*\"    \n",
       "4  ( 3 ) \" \"                \"*\"            \"*\"      \"*\" \" \"     \"*\"    \n",
       "4  ( 4 ) \"*\"                \"*\"            \"*\"      \" \" \" \"     \"*\"    \n",
       "4  ( 5 ) \" \"                \"*\"            \"*\"      \" \" \" \"     \"*\"    \n",
       "5  ( 1 ) \" \"                \"*\"            \"*\"      \"*\" \"*\"     \"*\"    \n",
       "5  ( 2 ) \" \"                \"*\"            \"*\"      \"*\" \" \"     \"*\"    \n",
       "5  ( 3 ) \"*\"                \"*\"            \"*\"      \" \" \"*\"     \"*\"    \n",
       "5  ( 4 ) \" \"                \"*\"            \"*\"      \" \" \"*\"     \"*\"    \n",
       "5  ( 5 ) \" \"                \"*\"            \"*\"      \" \" \"*\"     \"*\"    \n",
       "6  ( 1 ) \"*\"                \"*\"            \"*\"      \"*\" \"*\"     \"*\"    \n",
       "6  ( 2 ) \" \"                \"*\"            \"*\"      \"*\" \"*\"     \"*\"    \n",
       "6  ( 3 ) \" \"                \"*\"            \"*\"      \"*\" \"*\"     \"*\"    \n",
       "6  ( 4 ) \"*\"                \"*\"            \"*\"      \"*\" \" \"     \"*\"    \n",
       "6  ( 5 ) \" \"                \"*\"            \"*\"      \"*\" \" \"     \"*\"    \n",
       "7  ( 1 ) \"*\"                \"*\"            \"*\"      \"*\" \"*\"     \"*\"    \n",
       "7  ( 2 ) \"*\"                \"*\"            \"*\"      \"*\" \"*\"     \"*\"    \n",
       "7  ( 3 ) \" \"                \"*\"            \"*\"      \"*\" \"*\"     \"*\"    \n",
       "7  ( 4 ) \"*\"                \"*\"            \"*\"      \"*\" \" \"     \"*\"    \n",
       "7  ( 5 ) \"*\"                \"*\"            \"*\"      \" \" \"*\"     \"*\"    \n",
       "8  ( 1 ) \"*\"                \"*\"            \"*\"      \"*\" \"*\"     \"*\"    \n",
       "         RAIN_DAY HOLIDAY\n",
       "1  ( 1 ) \" \"      \" \"    \n",
       "1  ( 2 ) \" \"      \" \"    \n",
       "1  ( 3 ) \" \"      \" \"    \n",
       "1  ( 4 ) \" \"      \" \"    \n",
       "1  ( 5 ) \" \"      \" \"    \n",
       "2  ( 1 ) \" \"      \" \"    \n",
       "2  ( 2 ) \" \"      \" \"    \n",
       "2  ( 3 ) \" \"      \" \"    \n",
       "2  ( 4 ) \" \"      \" \"    \n",
       "2  ( 5 ) \" \"      \" \"    \n",
       "3  ( 1 ) \" \"      \" \"    \n",
       "3  ( 2 ) \"*\"      \" \"    \n",
       "3  ( 3 ) \" \"      \" \"    \n",
       "3  ( 4 ) \" \"      \" \"    \n",
       "3  ( 5 ) \" \"      \" \"    \n",
       "4  ( 1 ) \" \"      \" \"    \n",
       "4  ( 2 ) \"*\"      \" \"    \n",
       "4  ( 3 ) \" \"      \" \"    \n",
       "4  ( 4 ) \" \"      \" \"    \n",
       "4  ( 5 ) \" \"      \"*\"    \n",
       "5  ( 1 ) \" \"      \" \"    \n",
       "5  ( 2 ) \"*\"      \" \"    \n",
       "5  ( 3 ) \" \"      \" \"    \n",
       "5  ( 4 ) \"*\"      \" \"    \n",
       "5  ( 5 ) \" \"      \"*\"    \n",
       "6  ( 1 ) \" \"      \" \"    \n",
       "6  ( 2 ) \" \"      \"*\"    \n",
       "6  ( 3 ) \"*\"      \" \"    \n",
       "6  ( 4 ) \"*\"      \" \"    \n",
       "6  ( 5 ) \"*\"      \"*\"    \n",
       "7  ( 1 ) \" \"      \"*\"    \n",
       "7  ( 2 ) \"*\"      \" \"    \n",
       "7  ( 3 ) \"*\"      \"*\"    \n",
       "7  ( 4 ) \"*\"      \"*\"    \n",
       "7  ( 5 ) \"*\"      \"*\"    \n",
       "8  ( 1 ) \"*\"      \"*\"    "
      ]
     },
     "metadata": {},
     "output_type": "display_data"
    }
   ],
   "source": [
    "leaps = regsubsets(PRICE ~ ., data = data, nbest = 5)\n",
    "summary(leaps)"
   ]
  },
  {
   "cell_type": "code",
   "execution_count": null,
   "metadata": {},
   "outputs": [],
   "source": []
  }
 ],
 "metadata": {
  "kernelspec": {
   "display_name": "R",
   "language": "R",
   "name": "ir"
  },
  "language_info": {
   "codemirror_mode": "r",
   "file_extension": ".r",
   "mimetype": "text/x-r-source",
   "name": "R",
   "pygments_lexer": "r",
   "version": "3.6.1"
  }
 },
 "nbformat": 4,
 "nbformat_minor": 4
}
