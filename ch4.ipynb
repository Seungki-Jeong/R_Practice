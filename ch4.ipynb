{
 "cells": [
  {
   "cell_type": "code",
   "execution_count": 1,
   "metadata": {},
   "outputs": [
    {
     "data": {
      "text/html": [
       "'d:/workspace/R_practice'"
      ],
      "text/latex": [
       "'d:/workspace/R\\_practice'"
      ],
      "text/markdown": [
       "'d:/workspace/R_practice'"
      ],
      "text/plain": [
       "[1] \"d:/workspace/R_practice\""
      ]
     },
     "metadata": {},
     "output_type": "display_data"
    }
   ],
   "source": [
    "getwd()"
   ]
  },
  {
   "cell_type": "code",
   "execution_count": 2,
   "metadata": {},
   "outputs": [],
   "source": [
    "setwd('d:/workspace/R_practice/data/R_data')"
   ]
  },
  {
   "cell_type": "code",
   "execution_count": 3,
   "metadata": {},
   "outputs": [
    {
     "data": {
      "text/html": [
       "150"
      ],
      "text/latex": [
       "150"
      ],
      "text/markdown": [
       "150"
      ],
      "text/plain": [
       "[1] 150"
      ]
     },
     "metadata": {},
     "output_type": "display_data"
    }
   ],
   "source": [
    "nrow(iris)"
   ]
  },
  {
   "cell_type": "code",
   "execution_count": 4,
   "metadata": {},
   "outputs": [
    {
     "data": {
      "text/html": [
       "105"
      ],
      "text/latex": [
       "105"
      ],
      "text/markdown": [
       "105"
      ],
      "text/plain": [
       "[1] 105"
      ]
     },
     "metadata": {},
     "output_type": "display_data"
    }
   ],
   "source": [
    "iris_train = iris[1:105,]\n",
    "iris_test = iris[106:150,]\n",
    "nrow(iris_train)"
   ]
  },
  {
   "cell_type": "code",
   "execution_count": 5,
   "metadata": {},
   "outputs": [
    {
     "data": {
      "text/html": [
       "45"
      ],
      "text/latex": [
       "45"
      ],
      "text/markdown": [
       "45"
      ],
      "text/plain": [
       "[1] 45"
      ]
     },
     "metadata": {},
     "output_type": "display_data"
    }
   ],
   "source": [
    "nrow(iris_test)"
   ]
  },
  {
   "cell_type": "code",
   "execution_count": 6,
   "metadata": {},
   "outputs": [
    {
     "data": {
      "text/html": [
       "<table>\n",
       "<thead><tr><th scope=col>Sepal.Length</th><th scope=col>Sepal.Width</th><th scope=col>Petal.Length</th><th scope=col>Petal.Width</th><th scope=col>Species</th></tr></thead>\n",
       "<tbody>\n",
       "\t<tr><td>5.1   </td><td>3.5   </td><td>1.4   </td><td>0.2   </td><td>setosa</td></tr>\n",
       "\t<tr><td>4.9   </td><td>3.0   </td><td>1.4   </td><td>0.2   </td><td>setosa</td></tr>\n",
       "\t<tr><td>4.7   </td><td>3.2   </td><td>1.3   </td><td>0.2   </td><td>setosa</td></tr>\n",
       "\t<tr><td>4.6   </td><td>3.1   </td><td>1.5   </td><td>0.2   </td><td>setosa</td></tr>\n",
       "\t<tr><td>5.0   </td><td>3.6   </td><td>1.4   </td><td>0.2   </td><td>setosa</td></tr>\n",
       "\t<tr><td>5.4   </td><td>3.9   </td><td>1.7   </td><td>0.4   </td><td>setosa</td></tr>\n",
       "</tbody>\n",
       "</table>\n"
      ],
      "text/latex": [
       "\\begin{tabular}{r|lllll}\n",
       " Sepal.Length & Sepal.Width & Petal.Length & Petal.Width & Species\\\\\n",
       "\\hline\n",
       "\t 5.1    & 3.5    & 1.4    & 0.2    & setosa\\\\\n",
       "\t 4.9    & 3.0    & 1.4    & 0.2    & setosa\\\\\n",
       "\t 4.7    & 3.2    & 1.3    & 0.2    & setosa\\\\\n",
       "\t 4.6    & 3.1    & 1.5    & 0.2    & setosa\\\\\n",
       "\t 5.0    & 3.6    & 1.4    & 0.2    & setosa\\\\\n",
       "\t 5.4    & 3.9    & 1.7    & 0.4    & setosa\\\\\n",
       "\\end{tabular}\n"
      ],
      "text/markdown": [
       "\n",
       "| Sepal.Length | Sepal.Width | Petal.Length | Petal.Width | Species |\n",
       "|---|---|---|---|---|\n",
       "| 5.1    | 3.5    | 1.4    | 0.2    | setosa |\n",
       "| 4.9    | 3.0    | 1.4    | 0.2    | setosa |\n",
       "| 4.7    | 3.2    | 1.3    | 0.2    | setosa |\n",
       "| 4.6    | 3.1    | 1.5    | 0.2    | setosa |\n",
       "| 5.0    | 3.6    | 1.4    | 0.2    | setosa |\n",
       "| 5.4    | 3.9    | 1.7    | 0.4    | setosa |\n",
       "\n"
      ],
      "text/plain": [
       "  Sepal.Length Sepal.Width Petal.Length Petal.Width Species\n",
       "1 5.1          3.5         1.4          0.2         setosa \n",
       "2 4.9          3.0         1.4          0.2         setosa \n",
       "3 4.7          3.2         1.3          0.2         setosa \n",
       "4 4.6          3.1         1.5          0.2         setosa \n",
       "5 5.0          3.6         1.4          0.2         setosa \n",
       "6 5.4          3.9         1.7          0.4         setosa "
      ]
     },
     "metadata": {},
     "output_type": "display_data"
    }
   ],
   "source": [
    "head(iris)"
   ]
  },
  {
   "cell_type": "code",
   "execution_count": 7,
   "metadata": {},
   "outputs": [
    {
     "data": {
      "text/html": [
       "<ol class=list-inline>\n",
       "\t<li>118</li>\n",
       "\t<li>130</li>\n",
       "\t<li>15</li>\n",
       "\t<li>63</li>\n",
       "\t<li>75</li>\n",
       "\t<li>69</li>\n",
       "\t<li>37</li>\n",
       "\t<li>23</li>\n",
       "\t<li>61</li>\n",
       "\t<li>138</li>\n",
       "\t<li>148</li>\n",
       "\t<li>143</li>\n",
       "\t<li>35</li>\n",
       "\t<li>68</li>\n",
       "\t<li>94</li>\n",
       "\t<li>4</li>\n",
       "\t<li>25</li>\n",
       "\t<li>67</li>\n",
       "\t<li>54</li>\n",
       "\t<li>122</li>\n",
       "\t<li>51</li>\n",
       "\t<li>32</li>\n",
       "\t<li>71</li>\n",
       "\t<li>81</li>\n",
       "\t<li>64</li>\n",
       "\t<li>95</li>\n",
       "\t<li>142</li>\n",
       "\t<li>120</li>\n",
       "\t<li>111</li>\n",
       "\t<li>55</li>\n",
       "\t<li>79</li>\n",
       "\t<li>60</li>\n",
       "\t<li>110</li>\n",
       "\t<li>99</li>\n",
       "\t<li>5</li>\n",
       "\t<li>119</li>\n",
       "\t<li>72</li>\n",
       "\t<li>85</li>\n",
       "\t<li>132</li>\n",
       "\t<li>27</li>\n",
       "\t<li>65</li>\n",
       "\t<li>62</li>\n",
       "\t<li>52</li>\n",
       "\t<li>31</li>\n",
       "\t<li>105</li>\n",
       "\t<li>107</li>\n",
       "\t<li>131</li>\n",
       "\t<li>1</li>\n",
       "\t<li>8</li>\n",
       "\t<li>50</li>\n",
       "\t<li>48</li>\n",
       "\t<li>114</li>\n",
       "\t<li>137</li>\n",
       "\t<li>150</li>\n",
       "\t<li>124</li>\n",
       "\t<li>53</li>\n",
       "\t<li>10</li>\n",
       "\t<li>100</li>\n",
       "\t<li>16</li>\n",
       "\t<li>38</li>\n",
       "\t<li>145</li>\n",
       "\t<li>134</li>\n",
       "\t<li>121</li>\n",
       "\t<li>45</li>\n",
       "\t<li>11</li>\n",
       "\t<li>57</li>\n",
       "\t<li>126</li>\n",
       "\t<li>43</li>\n",
       "\t<li>136</li>\n",
       "\t<li>144</li>\n",
       "\t<li>96</li>\n",
       "\t<li>21</li>\n",
       "\t<li>42</li>\n",
       "\t<li>98</li>\n",
       "\t<li>89</li>\n",
       "\t<li>146</li>\n",
       "\t<li>56</li>\n",
       "\t<li>97</li>\n",
       "\t<li>28</li>\n",
       "\t<li>129</li>\n",
       "\t<li>149</li>\n",
       "\t<li>59</li>\n",
       "\t<li>49</li>\n",
       "\t<li>29</li>\n",
       "\t<li>41</li>\n",
       "\t<li>112</li>\n",
       "\t<li>80</li>\n",
       "\t<li>127</li>\n",
       "\t<li>93</li>\n",
       "\t<li>140</li>\n",
       "\t<li>17</li>\n",
       "\t<li>102</li>\n",
       "\t<li>74</li>\n",
       "\t<li>141</li>\n",
       "\t<li>58</li>\n",
       "\t<li>12</li>\n",
       "\t<li>13</li>\n",
       "\t<li>76</li>\n",
       "\t<li>84</li>\n",
       "\t<li>22</li>\n",
       "\t<li>47</li>\n",
       "\t<li>106</li>\n",
       "\t<li>2</li>\n",
       "\t<li>34</li>\n",
       "\t<li>19</li>\n",
       "</ol>\n"
      ],
      "text/latex": [
       "\\begin{enumerate*}\n",
       "\\item 118\n",
       "\\item 130\n",
       "\\item 15\n",
       "\\item 63\n",
       "\\item 75\n",
       "\\item 69\n",
       "\\item 37\n",
       "\\item 23\n",
       "\\item 61\n",
       "\\item 138\n",
       "\\item 148\n",
       "\\item 143\n",
       "\\item 35\n",
       "\\item 68\n",
       "\\item 94\n",
       "\\item 4\n",
       "\\item 25\n",
       "\\item 67\n",
       "\\item 54\n",
       "\\item 122\n",
       "\\item 51\n",
       "\\item 32\n",
       "\\item 71\n",
       "\\item 81\n",
       "\\item 64\n",
       "\\item 95\n",
       "\\item 142\n",
       "\\item 120\n",
       "\\item 111\n",
       "\\item 55\n",
       "\\item 79\n",
       "\\item 60\n",
       "\\item 110\n",
       "\\item 99\n",
       "\\item 5\n",
       "\\item 119\n",
       "\\item 72\n",
       "\\item 85\n",
       "\\item 132\n",
       "\\item 27\n",
       "\\item 65\n",
       "\\item 62\n",
       "\\item 52\n",
       "\\item 31\n",
       "\\item 105\n",
       "\\item 107\n",
       "\\item 131\n",
       "\\item 1\n",
       "\\item 8\n",
       "\\item 50\n",
       "\\item 48\n",
       "\\item 114\n",
       "\\item 137\n",
       "\\item 150\n",
       "\\item 124\n",
       "\\item 53\n",
       "\\item 10\n",
       "\\item 100\n",
       "\\item 16\n",
       "\\item 38\n",
       "\\item 145\n",
       "\\item 134\n",
       "\\item 121\n",
       "\\item 45\n",
       "\\item 11\n",
       "\\item 57\n",
       "\\item 126\n",
       "\\item 43\n",
       "\\item 136\n",
       "\\item 144\n",
       "\\item 96\n",
       "\\item 21\n",
       "\\item 42\n",
       "\\item 98\n",
       "\\item 89\n",
       "\\item 146\n",
       "\\item 56\n",
       "\\item 97\n",
       "\\item 28\n",
       "\\item 129\n",
       "\\item 149\n",
       "\\item 59\n",
       "\\item 49\n",
       "\\item 29\n",
       "\\item 41\n",
       "\\item 112\n",
       "\\item 80\n",
       "\\item 127\n",
       "\\item 93\n",
       "\\item 140\n",
       "\\item 17\n",
       "\\item 102\n",
       "\\item 74\n",
       "\\item 141\n",
       "\\item 58\n",
       "\\item 12\n",
       "\\item 13\n",
       "\\item 76\n",
       "\\item 84\n",
       "\\item 22\n",
       "\\item 47\n",
       "\\item 106\n",
       "\\item 2\n",
       "\\item 34\n",
       "\\item 19\n",
       "\\end{enumerate*}\n"
      ],
      "text/markdown": [
       "1. 118\n",
       "2. 130\n",
       "3. 15\n",
       "4. 63\n",
       "5. 75\n",
       "6. 69\n",
       "7. 37\n",
       "8. 23\n",
       "9. 61\n",
       "10. 138\n",
       "11. 148\n",
       "12. 143\n",
       "13. 35\n",
       "14. 68\n",
       "15. 94\n",
       "16. 4\n",
       "17. 25\n",
       "18. 67\n",
       "19. 54\n",
       "20. 122\n",
       "21. 51\n",
       "22. 32\n",
       "23. 71\n",
       "24. 81\n",
       "25. 64\n",
       "26. 95\n",
       "27. 142\n",
       "28. 120\n",
       "29. 111\n",
       "30. 55\n",
       "31. 79\n",
       "32. 60\n",
       "33. 110\n",
       "34. 99\n",
       "35. 5\n",
       "36. 119\n",
       "37. 72\n",
       "38. 85\n",
       "39. 132\n",
       "40. 27\n",
       "41. 65\n",
       "42. 62\n",
       "43. 52\n",
       "44. 31\n",
       "45. 105\n",
       "46. 107\n",
       "47. 131\n",
       "48. 1\n",
       "49. 8\n",
       "50. 50\n",
       "51. 48\n",
       "52. 114\n",
       "53. 137\n",
       "54. 150\n",
       "55. 124\n",
       "56. 53\n",
       "57. 10\n",
       "58. 100\n",
       "59. 16\n",
       "60. 38\n",
       "61. 145\n",
       "62. 134\n",
       "63. 121\n",
       "64. 45\n",
       "65. 11\n",
       "66. 57\n",
       "67. 126\n",
       "68. 43\n",
       "69. 136\n",
       "70. 144\n",
       "71. 96\n",
       "72. 21\n",
       "73. 42\n",
       "74. 98\n",
       "75. 89\n",
       "76. 146\n",
       "77. 56\n",
       "78. 97\n",
       "79. 28\n",
       "80. 129\n",
       "81. 149\n",
       "82. 59\n",
       "83. 49\n",
       "84. 29\n",
       "85. 41\n",
       "86. 112\n",
       "87. 80\n",
       "88. 127\n",
       "89. 93\n",
       "90. 140\n",
       "91. 17\n",
       "92. 102\n",
       "93. 74\n",
       "94. 141\n",
       "95. 58\n",
       "96. 12\n",
       "97. 13\n",
       "98. 76\n",
       "99. 84\n",
       "100. 22\n",
       "101. 47\n",
       "102. 106\n",
       "103. 2\n",
       "104. 34\n",
       "105. 19\n",
       "\n",
       "\n"
      ],
      "text/plain": [
       "  [1] 118 130  15  63  75  69  37  23  61 138 148 143  35  68  94   4  25  67\n",
       " [19]  54 122  51  32  71  81  64  95 142 120 111  55  79  60 110  99   5 119\n",
       " [37]  72  85 132  27  65  62  52  31 105 107 131   1   8  50  48 114 137 150\n",
       " [55] 124  53  10 100  16  38 145 134 121  45  11  57 126  43 136 144  96  21\n",
       " [73]  42  98  89 146  56  97  28 129 149  59  49  29  41 112  80 127  93 140\n",
       " [91]  17 102  74 141  58  12  13  76  84  22  47 106   2  34  19"
      ]
     },
     "metadata": {},
     "output_type": "display_data"
    }
   ],
   "source": [
    "idx = sample(1:nrow(iris), size = nrow(iris)*0.7, replace = F)\n",
    "idx"
   ]
  },
  {
   "cell_type": "code",
   "execution_count": 8,
   "metadata": {},
   "outputs": [
    {
     "data": {
      "text/html": [
       "105"
      ],
      "text/latex": [
       "105"
      ],
      "text/markdown": [
       "105"
      ],
      "text/plain": [
       "[1] 105"
      ]
     },
     "metadata": {},
     "output_type": "display_data"
    }
   ],
   "source": [
    "iris_train = iris[idx,]\n",
    "iris_test = iris[-idx,]\n",
    "nrow(iris_train)"
   ]
  },
  {
   "cell_type": "code",
   "execution_count": 9,
   "metadata": {},
   "outputs": [
    {
     "data": {
      "text/html": [
       "45"
      ],
      "text/latex": [
       "45"
      ],
      "text/markdown": [
       "45"
      ],
      "text/plain": [
       "[1] 45"
      ]
     },
     "metadata": {},
     "output_type": "display_data"
    }
   ],
   "source": [
    "nrow(iris_test)"
   ]
  },
  {
   "cell_type": "code",
   "execution_count": 10,
   "metadata": {},
   "outputs": [
    {
     "data": {
      "text/plain": [
       "\n",
       "    setosa versicolor  virginica \n",
       "        50         50         50 "
      ]
     },
     "metadata": {},
     "output_type": "display_data"
    }
   ],
   "source": [
    "table(iris$Species)"
   ]
  },
  {
   "cell_type": "code",
   "execution_count": 11,
   "metadata": {},
   "outputs": [
    {
     "data": {
      "text/plain": [
       "\n",
       "    setosa versicolor  virginica \n",
       "        34         37         34 "
      ]
     },
     "metadata": {},
     "output_type": "display_data"
    }
   ],
   "source": [
    "table(iris_train$Species)"
   ]
  },
  {
   "cell_type": "code",
   "execution_count": 12,
   "metadata": {},
   "outputs": [
    {
     "data": {
      "text/plain": [
       "\n",
       "    setosa versicolor  virginica \n",
       "        16         13         16 "
      ]
     },
     "metadata": {},
     "output_type": "display_data"
    }
   ],
   "source": [
    "table(iris_test$Species)"
   ]
  },
  {
   "cell_type": "code",
   "execution_count": 13,
   "metadata": {},
   "outputs": [
    {
     "name": "stderr",
     "output_type": "stream",
     "text": [
      "Loading required package: lattice\n",
      "Loading required package: ggplot2\n",
      "Warning message:\n",
      "\"package 'ggplot2' was built under R version 3.6.3\""
     ]
    }
   ],
   "source": [
    "library(caret)"
   ]
  },
  {
   "cell_type": "code",
   "execution_count": 14,
   "metadata": {},
   "outputs": [
    {
     "data": {
      "text/plain": [
       "\n",
       "    setosa versicolor  virginica \n",
       "        35         35         35 "
      ]
     },
     "metadata": {},
     "output_type": "display_data"
    }
   ],
   "source": [
    "train.idx = createDataPartition(iris$Species, p = 0.7, list = F)\n",
    "iris_train = iris[train.idx,]\n",
    "table(iris_train$Species)"
   ]
  },
  {
   "cell_type": "code",
   "execution_count": 15,
   "metadata": {},
   "outputs": [
    {
     "data": {
      "text/plain": [
       "\n",
       "    setosa versicolor  virginica \n",
       "        15         15         15 "
      ]
     },
     "metadata": {},
     "output_type": "display_data"
    }
   ],
   "source": [
    "iris_test = iris[-train.idx,]\n",
    "table(iris_test$Species)"
   ]
  },
  {
   "cell_type": "markdown",
   "metadata": {},
   "source": [
    "# Naive Bayes Model Method"
   ]
  },
  {
   "cell_type": "code",
   "execution_count": 16,
   "metadata": {},
   "outputs": [
    {
     "name": "stderr",
     "output_type": "stream",
     "text": [
      "Warning message:\n",
      "\"package 'e1071' was built under R version 3.6.3\""
     ]
    }
   ],
   "source": [
    "library(e1071)"
   ]
  },
  {
   "cell_type": "code",
   "execution_count": 17,
   "metadata": {},
   "outputs": [],
   "source": [
    "naive.result = naiveBayes(iris_train, iris_train$Species, laplace = 1)\n",
    "naive.pred = predict(naive.result, iris_test, type = 'class')"
   ]
  },
  {
   "cell_type": "code",
   "execution_count": 18,
   "metadata": {},
   "outputs": [
    {
     "data": {
      "text/plain": [
       "            \n",
       "naive.pred   setosa versicolor virginica\n",
       "  setosa         15          0         0\n",
       "  versicolor      0         15         0\n",
       "  virginica       0          0        15"
      ]
     },
     "metadata": {},
     "output_type": "display_data"
    }
   ],
   "source": [
    "table(naive.pred, iris_test$Species)"
   ]
  },
  {
   "cell_type": "code",
   "execution_count": 19,
   "metadata": {},
   "outputs": [
    {
     "data": {
      "text/plain": [
       "Confusion Matrix and Statistics\n",
       "\n",
       "            Reference\n",
       "Prediction   setosa versicolor virginica\n",
       "  setosa         15          0         0\n",
       "  versicolor      0         15         0\n",
       "  virginica       0          0        15\n",
       "\n",
       "Overall Statistics\n",
       "                                     \n",
       "               Accuracy : 1          \n",
       "                 95% CI : (0.9213, 1)\n",
       "    No Information Rate : 0.3333     \n",
       "    P-Value [Acc > NIR] : < 2.2e-16  \n",
       "                                     \n",
       "                  Kappa : 1          \n",
       "                                     \n",
       " Mcnemar's Test P-Value : NA         \n",
       "\n",
       "Statistics by Class:\n",
       "\n",
       "                     Class: setosa Class: versicolor Class: virginica\n",
       "Sensitivity                 1.0000            1.0000           1.0000\n",
       "Specificity                 1.0000            1.0000           1.0000\n",
       "Pos Pred Value              1.0000            1.0000           1.0000\n",
       "Neg Pred Value              1.0000            1.0000           1.0000\n",
       "Prevalence                  0.3333            0.3333           0.3333\n",
       "Detection Rate              0.3333            0.3333           0.3333\n",
       "Detection Prevalence        0.3333            0.3333           0.3333\n",
       "Balanced Accuracy           1.0000            1.0000           1.0000"
      ]
     },
     "metadata": {},
     "output_type": "display_data"
    }
   ],
   "source": [
    "confusionMatrix(naive.pred, iris_test$Species)"
   ]
  },
  {
   "cell_type": "markdown",
   "metadata": {},
   "source": [
    "# Logistic Regression Method"
   ]
  },
  {
   "cell_type": "code",
   "execution_count": 20,
   "metadata": {},
   "outputs": [],
   "source": [
    "library(nnet)"
   ]
  },
  {
   "cell_type": "code",
   "execution_count": 21,
   "metadata": {},
   "outputs": [
    {
     "name": "stdout",
     "output_type": "stream",
     "text": [
      "# weights:  18 (10 variable)\n",
      "initial  value 115.354290 \n",
      "iter  10 value 13.594446\n",
      "iter  20 value 5.961566\n",
      "iter  30 value 5.653792\n",
      "iter  40 value 5.572346\n",
      "iter  50 value 5.565544\n",
      "iter  60 value 5.560137\n",
      "iter  70 value 5.559345\n",
      "iter  80 value 5.558288\n",
      "final  value 5.558220 \n",
      "converged\n"
     ]
    }
   ],
   "source": [
    "multi.result = multinom(Species ~ ., iris_train)"
   ]
  },
  {
   "cell_type": "code",
   "execution_count": 22,
   "metadata": {},
   "outputs": [],
   "source": [
    "multi.pred = predict(multi.result, iris_test)"
   ]
  },
  {
   "cell_type": "code",
   "execution_count": 23,
   "metadata": {},
   "outputs": [
    {
     "data": {
      "text/plain": [
       "            \n",
       "multi.pred   setosa versicolor virginica\n",
       "  setosa         15          0         0\n",
       "  versicolor      0         15         0\n",
       "  virginica       0          0        15"
      ]
     },
     "metadata": {},
     "output_type": "display_data"
    }
   ],
   "source": [
    "table(multi.pred, iris_test$Species)"
   ]
  },
  {
   "cell_type": "code",
   "execution_count": 24,
   "metadata": {},
   "outputs": [
    {
     "data": {
      "text/plain": [
       "Confusion Matrix and Statistics\n",
       "\n",
       "            Reference\n",
       "Prediction   setosa versicolor virginica\n",
       "  setosa         15          0         0\n",
       "  versicolor      0         15         0\n",
       "  virginica       0          0        15\n",
       "\n",
       "Overall Statistics\n",
       "                                     \n",
       "               Accuracy : 1          \n",
       "                 95% CI : (0.9213, 1)\n",
       "    No Information Rate : 0.3333     \n",
       "    P-Value [Acc > NIR] : < 2.2e-16  \n",
       "                                     \n",
       "                  Kappa : 1          \n",
       "                                     \n",
       " Mcnemar's Test P-Value : NA         \n",
       "\n",
       "Statistics by Class:\n",
       "\n",
       "                     Class: setosa Class: versicolor Class: virginica\n",
       "Sensitivity                 1.0000            1.0000           1.0000\n",
       "Specificity                 1.0000            1.0000           1.0000\n",
       "Pos Pred Value              1.0000            1.0000           1.0000\n",
       "Neg Pred Value              1.0000            1.0000           1.0000\n",
       "Prevalence                  0.3333            0.3333           0.3333\n",
       "Detection Rate              0.3333            0.3333           0.3333\n",
       "Detection Prevalence        0.3333            0.3333           0.3333\n",
       "Balanced Accuracy           1.0000            1.0000           1.0000"
      ]
     },
     "metadata": {},
     "output_type": "display_data"
    }
   ],
   "source": [
    "confusionMatrix(multi.pred, iris_test$Species)"
   ]
  },
  {
   "cell_type": "markdown",
   "metadata": {},
   "source": [
    "# Decision Tree model mothod"
   ]
  },
  {
   "cell_type": "code",
   "execution_count": 25,
   "metadata": {},
   "outputs": [],
   "source": [
    "library(rpart)"
   ]
  },
  {
   "cell_type": "code",
   "execution_count": 26,
   "metadata": {},
   "outputs": [],
   "source": [
    "rpart.result = rpart(Species ~ ., data = iris_train)\n",
    "rpart.pred = predict(rpart.result, iris_test, type = 'class')"
   ]
  },
  {
   "cell_type": "code",
   "execution_count": 27,
   "metadata": {},
   "outputs": [
    {
     "data": {
      "text/plain": [
       "            \n",
       "rpart.pred   setosa versicolor virginica\n",
       "  setosa         15          0         0\n",
       "  versicolor      0         15         1\n",
       "  virginica       0          0        14"
      ]
     },
     "metadata": {},
     "output_type": "display_data"
    }
   ],
   "source": [
    "table(rpart.pred, iris_test$Species)"
   ]
  },
  {
   "cell_type": "code",
   "execution_count": 28,
   "metadata": {},
   "outputs": [
    {
     "data": {
      "text/plain": [
       "Confusion Matrix and Statistics\n",
       "\n",
       "            Reference\n",
       "Prediction   setosa versicolor virginica\n",
       "  setosa         15          0         0\n",
       "  versicolor      0         15         1\n",
       "  virginica       0          0        14\n",
       "\n",
       "Overall Statistics\n",
       "                                          \n",
       "               Accuracy : 0.9778          \n",
       "                 95% CI : (0.8823, 0.9994)\n",
       "    No Information Rate : 0.3333          \n",
       "    P-Value [Acc > NIR] : < 2.2e-16       \n",
       "                                          \n",
       "                  Kappa : 0.9667          \n",
       "                                          \n",
       " Mcnemar's Test P-Value : NA              \n",
       "\n",
       "Statistics by Class:\n",
       "\n",
       "                     Class: setosa Class: versicolor Class: virginica\n",
       "Sensitivity                 1.0000            1.0000           0.9333\n",
       "Specificity                 1.0000            0.9667           1.0000\n",
       "Pos Pred Value              1.0000            0.9375           1.0000\n",
       "Neg Pred Value              1.0000            1.0000           0.9677\n",
       "Prevalence                  0.3333            0.3333           0.3333\n",
       "Detection Rate              0.3333            0.3333           0.3111\n",
       "Detection Prevalence        0.3333            0.3556           0.3111\n",
       "Balanced Accuracy           1.0000            0.9833           0.9667"
      ]
     },
     "metadata": {},
     "output_type": "display_data"
    }
   ],
   "source": [
    "confusionMatrix(rpart.pred, iris_test$Species)"
   ]
  },
  {
   "cell_type": "code",
   "execution_count": 29,
   "metadata": {},
   "outputs": [
    {
     "name": "stdout",
     "output_type": "stream",
     "text": [
      "package 'rpart.plot' successfully unpacked and MD5 sums checked\n",
      "\n",
      "The downloaded binary packages are in\n",
      "\tC:\\Users\\14\\AppData\\Local\\Temp\\RtmpmqPG20\\downloaded_packages\n"
     ]
    }
   ],
   "source": [
    "install.packages('rpart.plot')"
   ]
  },
  {
   "cell_type": "code",
   "execution_count": 30,
   "metadata": {},
   "outputs": [
    {
     "name": "stderr",
     "output_type": "stream",
     "text": [
      "Warning message:\n",
      "\"package 'rpart.plot' was built under R version 3.6.3\""
     ]
    }
   ],
   "source": [
    "library(rpart.plot)"
   ]
  },
  {
   "cell_type": "code",
   "execution_count": 31,
   "metadata": {},
   "outputs": [
    {
     "data": {
      "image/png": "[encoded data removed]",
      "text/plain": [
       "plot without title"
      ]
     },
     "metadata": {},
     "output_type": "display_data"
    }
   ],
   "source": [
    "rpart.plot(rpart.result)"
   ]
  },
  {
   "cell_type": "markdown",
   "metadata": {},
   "source": [
    "# ANN Model Method"
   ]
  },
  {
   "cell_type": "code",
   "execution_count": 32,
   "metadata": {},
   "outputs": [],
   "source": [
    "library(nnet)"
   ]
  },
  {
   "cell_type": "code",
   "execution_count": 33,
   "metadata": {},
   "outputs": [],
   "source": [
    "iris_train_scale = as.data.frame(sapply(iris_train[, -5], scale))\n",
    "iris_test_scale = as.data.frame(sapply(iris_test[,-5], scale))"
   ]
  },
  {
   "cell_type": "code",
   "execution_count": 35,
   "metadata": {},
   "outputs": [
    {
     "data": {
      "text/html": [
       "<table>\n",
       "<thead><tr><th scope=col>Sepal.Length</th><th scope=col>Sepal.Width</th><th scope=col>Petal.Length</th><th scope=col>Petal.Width</th></tr></thead>\n",
       "<tbody>\n",
       "\t<tr><td>-1.0373780 </td><td> 1.17790419</td><td>-1.306740  </td><td>-1.261191  </td></tr>\n",
       "\t<tr><td>-1.7964350 </td><td>-0.43531242</td><td>-1.306740  </td><td>-1.261191  </td></tr>\n",
       "\t<tr><td>-1.1638875 </td><td> 0.02560661</td><td>-1.251422  </td><td>-1.386199  </td></tr>\n",
       "\t<tr><td>-1.2903970 </td><td>-0.20485290</td><td>-1.306740  </td><td>-1.386199  </td></tr>\n",
       "\t<tr><td>-1.9229445 </td><td>-0.20485290</td><td>-1.472695  </td><td>-1.386199  </td></tr>\n",
       "\t<tr><td>-0.0253019 </td><td> 2.09974225</td><td>-1.417376  </td><td>-1.261191  </td></tr>\n",
       "</tbody>\n",
       "</table>\n"
      ],
      "text/latex": [
       "\\begin{tabular}{r|llll}\n",
       " Sepal.Length & Sepal.Width & Petal.Length & Petal.Width\\\\\n",
       "\\hline\n",
       "\t -1.0373780  &  1.17790419 & -1.306740   & -1.261191  \\\\\n",
       "\t -1.7964350  & -0.43531242 & -1.306740   & -1.261191  \\\\\n",
       "\t -1.1638875  &  0.02560661 & -1.251422   & -1.386199  \\\\\n",
       "\t -1.2903970  & -0.20485290 & -1.306740   & -1.386199  \\\\\n",
       "\t -1.9229445  & -0.20485290 & -1.472695   & -1.386199  \\\\\n",
       "\t -0.0253019  &  2.09974225 & -1.417376   & -1.261191  \\\\\n",
       "\\end{tabular}\n"
      ],
      "text/markdown": [
       "\n",
       "| Sepal.Length | Sepal.Width | Petal.Length | Petal.Width |\n",
       "|---|---|---|---|\n",
       "| -1.0373780  |  1.17790419 | -1.306740   | -1.261191   |\n",
       "| -1.7964350  | -0.43531242 | -1.306740   | -1.261191   |\n",
       "| -1.1638875  |  0.02560661 | -1.251422   | -1.386199   |\n",
       "| -1.2903970  | -0.20485290 | -1.306740   | -1.386199   |\n",
       "| -1.9229445  | -0.20485290 | -1.472695   | -1.386199   |\n",
       "| -0.0253019  |  2.09974225 | -1.417376   | -1.261191   |\n",
       "\n"
      ],
      "text/plain": [
       "  Sepal.Length Sepal.Width Petal.Length Petal.Width\n",
       "1 -1.0373780    1.17790419 -1.306740    -1.261191  \n",
       "2 -1.7964350   -0.43531242 -1.306740    -1.261191  \n",
       "3 -1.1638875    0.02560661 -1.251422    -1.386199  \n",
       "4 -1.2903970   -0.20485290 -1.306740    -1.386199  \n",
       "5 -1.9229445   -0.20485290 -1.472695    -1.386199  \n",
       "6 -0.0253019    2.09974225 -1.417376    -1.261191  "
      ]
     },
     "metadata": {},
     "output_type": "display_data"
    }
   ],
   "source": [
    "head(iris_test_scale)"
   ]
  },
  {
   "cell_type": "code",
   "execution_count": 36,
   "metadata": {},
   "outputs": [
    {
     "data": {
      "text/html": [
       "<table>\n",
       "<thead><tr><th scope=col>Sepal.Length</th><th scope=col>Sepal.Width</th><th scope=col>Petal.Length</th><th scope=col>Petal.Width</th><th scope=col>Species</th></tr></thead>\n",
       "<tbody>\n",
       "\t<tr><td>-0.8892301</td><td> 1.0413559</td><td>-1.342107 </td><td>-1.328033 </td><td>setosa    </td></tr>\n",
       "\t<tr><td>-1.1253089</td><td>-0.1000050</td><td>-1.342107 </td><td>-1.328033 </td><td>setosa    </td></tr>\n",
       "\t<tr><td>-1.3613877</td><td> 0.3565394</td><td>-1.399067 </td><td>-1.328033 </td><td>setosa    </td></tr>\n",
       "\t<tr><td>-1.4794271</td><td> 0.1282672</td><td>-1.285146 </td><td>-1.328033 </td><td>setosa    </td></tr>\n",
       "\t<tr><td>-0.5351119</td><td> 1.9544446</td><td>-1.171224 </td><td>-1.061156 </td><td>setosa    </td></tr>\n",
       "\t<tr><td>-1.4794271</td><td> 0.8130838</td><td>-1.342107 </td><td>-1.194594 </td><td>setosa    </td></tr>\n",
       "</tbody>\n",
       "</table>\n"
      ],
      "text/latex": [
       "\\begin{tabular}{r|lllll}\n",
       " Sepal.Length & Sepal.Width & Petal.Length & Petal.Width & Species\\\\\n",
       "\\hline\n",
       "\t -0.8892301 &  1.0413559 & -1.342107  & -1.328033  & setosa    \\\\\n",
       "\t -1.1253089 & -0.1000050 & -1.342107  & -1.328033  & setosa    \\\\\n",
       "\t -1.3613877 &  0.3565394 & -1.399067  & -1.328033  & setosa    \\\\\n",
       "\t -1.4794271 &  0.1282672 & -1.285146  & -1.328033  & setosa    \\\\\n",
       "\t -0.5351119 &  1.9544446 & -1.171224  & -1.061156  & setosa    \\\\\n",
       "\t -1.4794271 &  0.8130838 & -1.342107  & -1.194594  & setosa    \\\\\n",
       "\\end{tabular}\n"
      ],
      "text/markdown": [
       "\n",
       "| Sepal.Length | Sepal.Width | Petal.Length | Petal.Width | Species |\n",
       "|---|---|---|---|---|\n",
       "| -0.8892301 |  1.0413559 | -1.342107  | -1.328033  | setosa     |\n",
       "| -1.1253089 | -0.1000050 | -1.342107  | -1.328033  | setosa     |\n",
       "| -1.3613877 |  0.3565394 | -1.399067  | -1.328033  | setosa     |\n",
       "| -1.4794271 |  0.1282672 | -1.285146  | -1.328033  | setosa     |\n",
       "| -0.5351119 |  1.9544446 | -1.171224  | -1.061156  | setosa     |\n",
       "| -1.4794271 |  0.8130838 | -1.342107  | -1.194594  | setosa     |\n",
       "\n"
      ],
      "text/plain": [
       "  Sepal.Length Sepal.Width Petal.Length Petal.Width Species\n",
       "1 -0.8892301    1.0413559  -1.342107    -1.328033   setosa \n",
       "2 -1.1253089   -0.1000050  -1.342107    -1.328033   setosa \n",
       "3 -1.3613877    0.3565394  -1.399067    -1.328033   setosa \n",
       "4 -1.4794271    0.1282672  -1.285146    -1.328033   setosa \n",
       "5 -0.5351119    1.9544446  -1.171224    -1.061156   setosa \n",
       "6 -1.4794271    0.8130838  -1.342107    -1.194594   setosa "
      ]
     },
     "metadata": {},
     "output_type": "display_data"
    }
   ],
   "source": [
    "iris_train_scale$Species = iris_train$Species\n",
    "iris_test_scale$Species = iris_test$Species\n",
    "head(iris_train_scale)"
   ]
  },
  {
   "cell_type": "code",
   "execution_count": 37,
   "metadata": {},
   "outputs": [
    {
     "name": "stdout",
     "output_type": "stream",
     "text": [
      "# weights:  27\n",
      "initial  value 123.888212 \n",
      "iter  10 value 7.756620\n",
      "iter  20 value 5.356165\n",
      "iter  30 value 4.873881\n",
      "iter  40 value 4.571852\n",
      "iter  50 value 4.483041\n",
      "iter  60 value 4.471656\n",
      "iter  70 value 4.467415\n",
      "iter  80 value 4.464852\n",
      "iter  90 value 4.463916\n",
      "iter 100 value 4.463402\n",
      "final  value 4.463402 \n",
      "stopped after 100 iterations\n"
     ]
    },
    {
     "data": {
      "text/plain": [
       "            \n",
       "nnet.pred    setosa versicolor virginica\n",
       "  setosa         15          0         0\n",
       "  versicolor      0         15         1\n",
       "  virginica       0          0        14"
      ]
     },
     "metadata": {},
     "output_type": "display_data"
    }
   ],
   "source": [
    "nnet.result = nnet(Species ~ ., iris_train_scale, size = 3)\n",
    "nnet.pred = predict(nnet.result, iris_test_scale, type = 'class')\n",
    "table(nnet.pred, iris_test_scale$Species)"
   ]
  },
  {
   "cell_type": "code",
   "execution_count": 39,
   "metadata": {},
   "outputs": [
    {
     "ename": "ERROR",
     "evalue": "Error: `data` and `reference` should be factors with the same levels.\n",
     "output_type": "error",
     "traceback": [
      "Error: `data` and `reference` should be factors with the same levels.\nTraceback:\n",
      "1. confusionMatrix(nnet.pred, iris_test$Species)",
      "2. confusionMatrix.default(nnet.pred, iris_test$Species)",
      "3. stop(\"`data` and `reference` should be factors with the same levels.\", \n .     call. = FALSE)"
     ]
    }
   ],
   "source": [
    "confusionMatrix(nnet.pred, iris_test$Species)"
   ]
  },
  {
   "cell_type": "markdown",
   "metadata": {},
   "source": [
    "# svm model method"
   ]
  },
  {
   "cell_type": "code",
   "execution_count": 41,
   "metadata": {},
   "outputs": [
    {
     "name": "stdout",
     "output_type": "stream",
     "text": [
      "package 'kernlab' successfully unpacked and MD5 sums checked\n",
      "\n",
      "The downloaded binary packages are in\n",
      "\tC:\\Users\\14\\AppData\\Local\\Temp\\RtmpmqPG20\\downloaded_packages\n"
     ]
    }
   ],
   "source": [
    "install.packages('kernlab')"
   ]
  },
  {
   "cell_type": "code",
   "execution_count": 43,
   "metadata": {},
   "outputs": [],
   "source": [
    "library(kernlab)"
   ]
  },
  {
   "cell_type": "code",
   "execution_count": 47,
   "metadata": {},
   "outputs": [],
   "source": [
    "svm.result = ksvm(Species ~ ., data = iris_train, kernel = 'rbfdot')\n",
    "svm.pred = predict(svm.result, iris_test, type = 'response')"
   ]
  },
  {
   "cell_type": "code",
   "execution_count": 45,
   "metadata": {},
   "outputs": [
    {
     "data": {
      "text/plain": [
       "            \n",
       "sv.pred      setosa versicolor virginica\n",
       "  setosa         15          0         0\n",
       "  versicolor      0         15         1\n",
       "  virginica       0          0        14"
      ]
     },
     "metadata": {},
     "output_type": "display_data"
    }
   ],
   "source": [
    "table(sv.pred, iris_test$Species)"
   ]
  },
  {
   "cell_type": "code",
   "execution_count": 48,
   "metadata": {},
   "outputs": [
    {
     "data": {
      "text/plain": [
       "Confusion Matrix and Statistics\n",
       "\n",
       "            Reference\n",
       "Prediction   setosa versicolor virginica\n",
       "  setosa         15          0         0\n",
       "  versicolor      0         15         1\n",
       "  virginica       0          0        14\n",
       "\n",
       "Overall Statistics\n",
       "                                          \n",
       "               Accuracy : 0.9778          \n",
       "                 95% CI : (0.8823, 0.9994)\n",
       "    No Information Rate : 0.3333          \n",
       "    P-Value [Acc > NIR] : < 2.2e-16       \n",
       "                                          \n",
       "                  Kappa : 0.9667          \n",
       "                                          \n",
       " Mcnemar's Test P-Value : NA              \n",
       "\n",
       "Statistics by Class:\n",
       "\n",
       "                     Class: setosa Class: versicolor Class: virginica\n",
       "Sensitivity                 1.0000            1.0000           0.9333\n",
       "Specificity                 1.0000            0.9667           1.0000\n",
       "Pos Pred Value              1.0000            0.9375           1.0000\n",
       "Neg Pred Value              1.0000            1.0000           0.9677\n",
       "Prevalence                  0.3333            0.3333           0.3333\n",
       "Detection Rate              0.3333            0.3333           0.3111\n",
       "Detection Prevalence        0.3333            0.3556           0.3111\n",
       "Balanced Accuracy           1.0000            0.9833           0.9667"
      ]
     },
     "metadata": {},
     "output_type": "display_data"
    }
   ],
   "source": [
    "confusionMatrix(svm.pred, iris_test$Species)"
   ]
  },
  {
   "cell_type": "markdown",
   "metadata": {},
   "source": [
    "# Random Forest Method"
   ]
  },
  {
   "cell_type": "code",
   "execution_count": 50,
   "metadata": {},
   "outputs": [],
   "source": [
    "library(randomForest)"
   ]
  },
  {
   "cell_type": "code",
   "execution_count": 52,
   "metadata": {},
   "outputs": [],
   "source": [
    "rf.result = randomForest(Species ~ ., data = iris_train, ntree = 500)\n",
    "rf.pred = predict(rf.result, iris_test, type = 'response')"
   ]
  },
  {
   "cell_type": "code",
   "execution_count": 53,
   "metadata": {},
   "outputs": [
    {
     "data": {
      "text/plain": [
       "            \n",
       "rf.pred      setosa versicolor virginica\n",
       "  setosa         15          0         0\n",
       "  versicolor      0         15         1\n",
       "  virginica       0          0        14"
      ]
     },
     "metadata": {},
     "output_type": "display_data"
    }
   ],
   "source": [
    "table(rf.pred, iris_test$Species)"
   ]
  },
  {
   "cell_type": "code",
   "execution_count": 54,
   "metadata": {},
   "outputs": [
    {
     "data": {
      "text/plain": [
       "Confusion Matrix and Statistics\n",
       "\n",
       "            Reference\n",
       "Prediction   setosa versicolor virginica\n",
       "  setosa         15          0         0\n",
       "  versicolor      0         15         1\n",
       "  virginica       0          0        14\n",
       "\n",
       "Overall Statistics\n",
       "                                          \n",
       "               Accuracy : 0.9778          \n",
       "                 95% CI : (0.8823, 0.9994)\n",
       "    No Information Rate : 0.3333          \n",
       "    P-Value [Acc > NIR] : < 2.2e-16       \n",
       "                                          \n",
       "                  Kappa : 0.9667          \n",
       "                                          \n",
       " Mcnemar's Test P-Value : NA              \n",
       "\n",
       "Statistics by Class:\n",
       "\n",
       "                     Class: setosa Class: versicolor Class: virginica\n",
       "Sensitivity                 1.0000            1.0000           0.9333\n",
       "Specificity                 1.0000            0.9667           1.0000\n",
       "Pos Pred Value              1.0000            0.9375           1.0000\n",
       "Neg Pred Value              1.0000            1.0000           0.9677\n",
       "Prevalence                  0.3333            0.3333           0.3333\n",
       "Detection Rate              0.3333            0.3333           0.3111\n",
       "Detection Prevalence        0.3333            0.3556           0.3111\n",
       "Balanced Accuracy           1.0000            0.9833           0.9667"
      ]
     },
     "metadata": {},
     "output_type": "display_data"
    }
   ],
   "source": [
    "confusionMatrix(rf.pred, iris_test$Species)"
   ]
  },
  {
   "cell_type": "markdown",
   "metadata": {},
   "source": [
    "# Package안의 데이터"
   ]
  },
  {
   "cell_type": "code",
   "execution_count": 55,
   "metadata": {},
   "outputs": [],
   "source": [
    "data(package = 'MASS')\n",
    "Boston = as.data.frame(MASS::Boston)"
   ]
  },
  {
   "cell_type": "code",
   "execution_count": 56,
   "metadata": {},
   "outputs": [
    {
     "data": {
      "text/html": [
       "<ol class=list-inline>\n",
       "\t<li>'crim'</li>\n",
       "\t<li>'zn'</li>\n",
       "\t<li>'indus'</li>\n",
       "\t<li>'chas'</li>\n",
       "\t<li>'nox'</li>\n",
       "\t<li>'rm'</li>\n",
       "\t<li>'age'</li>\n",
       "\t<li>'dis'</li>\n",
       "\t<li>'rad'</li>\n",
       "\t<li>'tax'</li>\n",
       "\t<li>'ptratio'</li>\n",
       "\t<li>'black'</li>\n",
       "\t<li>'lstat'</li>\n",
       "\t<li>'medv'</li>\n",
       "</ol>\n"
      ],
      "text/latex": [
       "\\begin{enumerate*}\n",
       "\\item 'crim'\n",
       "\\item 'zn'\n",
       "\\item 'indus'\n",
       "\\item 'chas'\n",
       "\\item 'nox'\n",
       "\\item 'rm'\n",
       "\\item 'age'\n",
       "\\item 'dis'\n",
       "\\item 'rad'\n",
       "\\item 'tax'\n",
       "\\item 'ptratio'\n",
       "\\item 'black'\n",
       "\\item 'lstat'\n",
       "\\item 'medv'\n",
       "\\end{enumerate*}\n"
      ],
      "text/markdown": [
       "1. 'crim'\n",
       "2. 'zn'\n",
       "3. 'indus'\n",
       "4. 'chas'\n",
       "5. 'nox'\n",
       "6. 'rm'\n",
       "7. 'age'\n",
       "8. 'dis'\n",
       "9. 'rad'\n",
       "10. 'tax'\n",
       "11. 'ptratio'\n",
       "12. 'black'\n",
       "13. 'lstat'\n",
       "14. 'medv'\n",
       "\n",
       "\n"
      ],
      "text/plain": [
       " [1] \"crim\"    \"zn\"      \"indus\"   \"chas\"    \"nox\"     \"rm\"      \"age\"    \n",
       " [8] \"dis\"     \"rad\"     \"tax\"     \"ptratio\" \"black\"   \"lstat\"   \"medv\"   "
      ]
     },
     "metadata": {},
     "output_type": "display_data"
    }
   ],
   "source": [
    "names(Boston)"
   ]
  },
  {
   "cell_type": "code",
   "execution_count": 57,
   "metadata": {},
   "outputs": [
    {
     "data": {
      "text/html": [
       "506"
      ],
      "text/latex": [
       "506"
      ],
      "text/markdown": [
       "506"
      ],
      "text/plain": [
       "[1] 506"
      ]
     },
     "metadata": {},
     "output_type": "display_data"
    }
   ],
   "source": [
    "nrow(Boston)"
   ]
  },
  {
   "cell_type": "code",
   "execution_count": 58,
   "metadata": {},
   "outputs": [
    {
     "data": {
      "text/html": [
       "<ol class=list-inline>\n",
       "\t<li>336</li>\n",
       "\t<li>31</li>\n",
       "\t<li>52</li>\n",
       "\t<li>290</li>\n",
       "\t<li>448</li>\n",
       "\t<li>397</li>\n",
       "\t<li>445</li>\n",
       "\t<li>96</li>\n",
       "\t<li>129</li>\n",
       "\t<li>472</li>\n",
       "\t<li>155</li>\n",
       "\t<li>34</li>\n",
       "\t<li>237</li>\n",
       "\t<li>283</li>\n",
       "\t<li>240</li>\n",
       "\t<li>88</li>\n",
       "\t<li>253</li>\n",
       "\t<li>313</li>\n",
       "\t<li>432</li>\n",
       "\t<li>438</li>\n",
       "\t<li>450</li>\n",
       "\t<li>161</li>\n",
       "\t<li>71</li>\n",
       "\t<li>410</li>\n",
       "\t<li>467</li>\n",
       "\t<li>248</li>\n",
       "\t<li>477</li>\n",
       "\t<li>202</li>\n",
       "\t<li>400</li>\n",
       "\t<li>181</li>\n",
       "\t<li>232</li>\n",
       "\t<li>66</li>\n",
       "\t<li>176</li>\n",
       "\t<li>33</li>\n",
       "\t<li>325</li>\n",
       "\t<li>172</li>\n",
       "\t<li>346</li>\n",
       "\t<li>186</li>\n",
       "\t<li>289</li>\n",
       "\t<li>344</li>\n",
       "\t<li>429</li>\n",
       "\t<li>406</li>\n",
       "\t<li>446</li>\n",
       "\t<li>113</li>\n",
       "\t<li>112</li>\n",
       "\t<li>70</li>\n",
       "\t<li>359</li>\n",
       "\t<li>466</li>\n",
       "\t<li>320</li>\n",
       "\t<li>220</li>\n",
       "\t<li>366</li>\n",
       "\t<li>262</li>\n",
       "\t<li>150</li>\n",
       "\t<li>274</li>\n",
       "\t<li>334</li>\n",
       "\t<li>280</li>\n",
       "\t<li>207</li>\n",
       "\t<li>480</li>\n",
       "\t<li>136</li>\n",
       "\t<li>87</li>\n",
       "\t<li>77</li>\n",
       "\t<li>308</li>\n",
       "\t<li>102</li>\n",
       "\t<li>148</li>\n",
       "\t<li>259</li>\n",
       "\t<li>233</li>\n",
       "\t<li>312</li>\n",
       "\t<li>231</li>\n",
       "\t<li>89</li>\n",
       "\t<li>122</li>\n",
       "\t<li>173</li>\n",
       "\t<li>85</li>\n",
       "\t<li>310</li>\n",
       "\t<li>219</li>\n",
       "\t<li>459</li>\n",
       "\t<li>84</li>\n",
       "\t<li>27</li>\n",
       "\t<li>279</li>\n",
       "\t<li>119</li>\n",
       "\t<li>323</li>\n",
       "\t<li>43</li>\n",
       "\t<li>463</li>\n",
       "\t<li>145</li>\n",
       "\t<li>389</li>\n",
       "\t<li>430</li>\n",
       "\t<li>209</li>\n",
       "\t<li>224</li>\n",
       "\t<li>395</li>\n",
       "\t<li>86</li>\n",
       "\t<li>108</li>\n",
       "\t<li>449</li>\n",
       "\t<li>110</li>\n",
       "\t<li>178</li>\n",
       "\t<li>53</li>\n",
       "\t<li>306</li>\n",
       "\t<li>328</li>\n",
       "\t<li>355</li>\n",
       "\t<li>372</li>\n",
       "\t<li>139</li>\n",
       "\t<li>394</li>\n",
       "\t<li>171</li>\n",
       "\t<li>276</li>\n",
       "\t<li>8</li>\n",
       "\t<li>489</li>\n",
       "\t<li>183</li>\n",
       "\t<li>16</li>\n",
       "\t<li>315</li>\n",
       "\t<li>75</li>\n",
       "\t<li>479</li>\n",
       "\t<li>251</li>\n",
       "\t<li>436</li>\n",
       "\t<li>484</li>\n",
       "\t<li>80</li>\n",
       "\t<li>383</li>\n",
       "\t<li>249</li>\n",
       "\t<li>425</li>\n",
       "\t<li>151</li>\n",
       "\t<li>437</li>\n",
       "\t<li>5</li>\n",
       "\t<li>36</li>\n",
       "\t<li>14</li>\n",
       "\t<li>206</li>\n",
       "\t<li>369</li>\n",
       "\t<li>364</li>\n",
       "\t<li>109</li>\n",
       "\t<li>321</li>\n",
       "\t<li>368</li>\n",
       "\t<li>116</li>\n",
       "\t<li>300</li>\n",
       "\t<li>215</li>\n",
       "\t<li>44</li>\n",
       "\t<li>382</li>\n",
       "\t<li>335</li>\n",
       "\t<li>261</li>\n",
       "\t<li>381</li>\n",
       "\t<li>126</li>\n",
       "\t<li>342</li>\n",
       "\t<li>413</li>\n",
       "\t<li>505</li>\n",
       "\t<li>414</li>\n",
       "\t<li>179</li>\n",
       "\t<li>302</li>\n",
       "\t<li>79</li>\n",
       "\t<li>303</li>\n",
       "\t<li>424</li>\n",
       "\t<li>103</li>\n",
       "\t<li>239</li>\n",
       "\t<li>418</li>\n",
       "\t<li>349</li>\n",
       "\t<li>423</li>\n",
       "\t<li>1</li>\n",
       "\t<li>18</li>\n",
       "\t<li>371</li>\n",
       "\t<li>468</li>\n",
       "\t<li>166</li>\n",
       "\t<li>72</li>\n",
       "\t<li>501</li>\n",
       "\t<li>203</li>\n",
       "\t<li>217</li>\n",
       "\t<li>287</li>\n",
       "\t<li>24</li>\n",
       "\t<li>168</li>\n",
       "\t<li>260</li>\n",
       "\t<li>29</li>\n",
       "\t<li>99</li>\n",
       "\t<li>19</li>\n",
       "\t<li>6</li>\n",
       "\t<li>128</li>\n",
       "\t<li>201</li>\n",
       "\t<li>228</li>\n",
       "\t<li>218</li>\n",
       "\t<li>83</li>\n",
       "\t<li>478</li>\n",
       "\t<li>30</li>\n",
       "\t<li>419</li>\n",
       "\t<li>331</li>\n",
       "\t<li>45</li>\n",
       "\t<li>401</li>\n",
       "\t<li>362</li>\n",
       "\t<li>292</li>\n",
       "\t<li>407</li>\n",
       "\t<li>174</li>\n",
       "\t<li>49</li>\n",
       "\t<li>130</li>\n",
       "\t<li>396</li>\n",
       "\t<li>104</li>\n",
       "\t<li>370</li>\n",
       "\t<li>314</li>\n",
       "\t<li>208</li>\n",
       "\t<li>494</li>\n",
       "\t<li>476</li>\n",
       "\t<li>421</li>\n",
       "\t<li>403</li>\n",
       "\t<li>4</li>\n",
       "\t<li>127</li>\n",
       "\t<li>398</li>\n",
       "\t<li>246</li>\n",
       "\t<li>356</li>\n",
       "\t<li>141</li>\n",
       "\t<li>190</li>\n",
       "\t<li>417</li>\n",
       "\t<li>411</li>\n",
       "\t<li>481</li>\n",
       "\t<li>457</li>\n",
       "\t<li>309</li>\n",
       "\t<li>458</li>\n",
       "\t<li>92</li>\n",
       "\t<li>9</li>\n",
       "\t<li>15</li>\n",
       "\t<li>475</li>\n",
       "\t<li>307</li>\n",
       "\t<li>154</li>\n",
       "\t<li>318</li>\n",
       "\t<li>58</li>\n",
       "\t<li>149</li>\n",
       "\t<li>491</li>\n",
       "\t<li>175</li>\n",
       "\t<li>297</li>\n",
       "\t<li>267</li>\n",
       "\t<li>65</li>\n",
       "\t<li>281</li>\n",
       "\t<li>487</li>\n",
       "\t<li>322</li>\n",
       "\t<li>81</li>\n",
       "\t<li>111</li>\n",
       "\t<li>90</li>\n",
       "\t<li>124</li>\n",
       "\t<li>358</li>\n",
       "\t<li>268</li>\n",
       "\t<li>243</li>\n",
       "\t<li>242</li>\n",
       "\t<li>137</li>\n",
       "\t<li>37</li>\n",
       "\t<li>188</li>\n",
       "\t<li>252</li>\n",
       "\t<li>195</li>\n",
       "\t<li>198</li>\n",
       "\t<li>210</li>\n",
       "\t<li>214</li>\n",
       "\t<li>354</li>\n",
       "\t<li>433</li>\n",
       "\t<li>146</li>\n",
       "\t<li>326</li>\n",
       "\t<li>443</li>\n",
       "\t<li>263</li>\n",
       "\t<li>177</li>\n",
       "\t<li>498</li>\n",
       "\t<li>38</li>\n",
       "\t<li>216</li>\n",
       "\t<li>431</li>\n",
       "\t<li>311</li>\n",
       "\t<li>105</li>\n",
       "\t<li>162</li>\n",
       "\t<li>427</li>\n",
       "\t<li>245</li>\n",
       "\t<li>73</li>\n",
       "\t<li>48</li>\n",
       "\t<li>10</li>\n",
       "\t<li>485</li>\n",
       "\t<li>387</li>\n",
       "\t<li>441</li>\n",
       "\t<li>347</li>\n",
       "\t<li>266</li>\n",
       "\t<li>469</li>\n",
       "\t<li>375</li>\n",
       "\t<li>191</li>\n",
       "\t<li>426</li>\n",
       "\t<li>182</li>\n",
       "\t<li>332</li>\n",
       "\t<li>361</li>\n",
       "\t<li>2</li>\n",
       "\t<li>12</li>\n",
       "\t<li>226</li>\n",
       "\t<li>277</li>\n",
       "\t<li>184</li>\n",
       "\t<li>123</li>\n",
       "\t<li>26</li>\n",
       "\t<li>211</li>\n",
       "\t<li>455</li>\n",
       "\t<li>91</li>\n",
       "\t<li>348</li>\n",
       "\t<li>282</li>\n",
       "\t<li>189</li>\n",
       "\t<li>147</li>\n",
       "\t<li>21</li>\n",
       "\t<li>360</li>\n",
       "\t<li>295</li>\n",
       "\t<li>160</li>\n",
       "\t<li>490</li>\n",
       "\t<li>278</li>\n",
       "\t<li>132</li>\n",
       "\t<li>317</li>\n",
       "\t<li>298</li>\n",
       "\t<li>156</li>\n",
       "\t<li>78</li>\n",
       "\t<li>465</li>\n",
       "\t<li>304</li>\n",
       "\t<li>402</li>\n",
       "\t<li>56</li>\n",
       "\t<li>483</li>\n",
       "\t<li>138</li>\n",
       "\t<li>338</li>\n",
       "\t<li>60</li>\n",
       "\t<li>169</li>\n",
       "\t<li>258</li>\n",
       "\t<li>255</li>\n",
       "\t<li>399</li>\n",
       "\t<li>327</li>\n",
       "\t<li>352</li>\n",
       "\t<li>376</li>\n",
       "\t<li>55</li>\n",
       "\t<li>374</li>\n",
       "\t<li>319</li>\n",
       "\t<li>118</li>\n",
       "\t<li>35</li>\n",
       "\t<li>428</li>\n",
       "\t<li>470</li>\n",
       "\t<li>499</li>\n",
       "\t<li>46</li>\n",
       "\t<li>212</li>\n",
       "\t<li>461</li>\n",
       "\t<li>386</li>\n",
       "\t<li>345</li>\n",
       "\t<li>453</li>\n",
       "\t<li>340</li>\n",
       "\t<li>205</li>\n",
       "\t<li>115</li>\n",
       "\t<li>225</li>\n",
       "\t<li>41</li>\n",
       "\t<li>20</li>\n",
       "\t<li>264</li>\n",
       "\t<li>28</li>\n",
       "\t<li>464</li>\n",
       "\t<li>68</li>\n",
       "\t<li>270</li>\n",
       "\t<li>471</li>\n",
       "\t<li>13</li>\n",
       "\t<li>51</li>\n",
       "\t<li>69</li>\n",
       "\t<li>114</li>\n",
       "\t<li>142</li>\n",
       "\t<li>500</li>\n",
       "\t<li>131</li>\n",
       "\t<li>486</li>\n",
       "\t<li>227</li>\n",
       "\t<li>434</li>\n",
       "\t<li>164</li>\n",
       "\t<li>440</li>\n",
       "\t<li>301</li>\n",
       "\t<li>390</li>\n",
       "\t<li>269</li>\n",
       "\t<li>193</li>\n",
       "\t<li>333</li>\n",
       "\t<li>222</li>\n",
       "</ol>\n"
      ],
      "text/latex": [
       "\\begin{enumerate*}\n",
       "\\item 336\n",
       "\\item 31\n",
       "\\item 52\n",
       "\\item 290\n",
       "\\item 448\n",
       "\\item 397\n",
       "\\item 445\n",
       "\\item 96\n",
       "\\item 129\n",
       "\\item 472\n",
       "\\item 155\n",
       "\\item 34\n",
       "\\item 237\n",
       "\\item 283\n",
       "\\item 240\n",
       "\\item 88\n",
       "\\item 253\n",
       "\\item 313\n",
       "\\item 432\n",
       "\\item 438\n",
       "\\item 450\n",
       "\\item 161\n",
       "\\item 71\n",
       "\\item 410\n",
       "\\item 467\n",
       "\\item 248\n",
       "\\item 477\n",
       "\\item 202\n",
       "\\item 400\n",
       "\\item 181\n",
       "\\item 232\n",
       "\\item 66\n",
       "\\item 176\n",
       "\\item 33\n",
       "\\item 325\n",
       "\\item 172\n",
       "\\item 346\n",
       "\\item 186\n",
       "\\item 289\n",
       "\\item 344\n",
       "\\item 429\n",
       "\\item 406\n",
       "\\item 446\n",
       "\\item 113\n",
       "\\item 112\n",
       "\\item 70\n",
       "\\item 359\n",
       "\\item 466\n",
       "\\item 320\n",
       "\\item 220\n",
       "\\item 366\n",
       "\\item 262\n",
       "\\item 150\n",
       "\\item 274\n",
       "\\item 334\n",
       "\\item 280\n",
       "\\item 207\n",
       "\\item 480\n",
       "\\item 136\n",
       "\\item 87\n",
       "\\item 77\n",
       "\\item 308\n",
       "\\item 102\n",
       "\\item 148\n",
       "\\item 259\n",
       "\\item 233\n",
       "\\item 312\n",
       "\\item 231\n",
       "\\item 89\n",
       "\\item 122\n",
       "\\item 173\n",
       "\\item 85\n",
       "\\item 310\n",
       "\\item 219\n",
       "\\item 459\n",
       "\\item 84\n",
       "\\item 27\n",
       "\\item 279\n",
       "\\item 119\n",
       "\\item 323\n",
       "\\item 43\n",
       "\\item 463\n",
       "\\item 145\n",
       "\\item 389\n",
       "\\item 430\n",
       "\\item 209\n",
       "\\item 224\n",
       "\\item 395\n",
       "\\item 86\n",
       "\\item 108\n",
       "\\item 449\n",
       "\\item 110\n",
       "\\item 178\n",
       "\\item 53\n",
       "\\item 306\n",
       "\\item 328\n",
       "\\item 355\n",
       "\\item 372\n",
       "\\item 139\n",
       "\\item 394\n",
       "\\item 171\n",
       "\\item 276\n",
       "\\item 8\n",
       "\\item 489\n",
       "\\item 183\n",
       "\\item 16\n",
       "\\item 315\n",
       "\\item 75\n",
       "\\item 479\n",
       "\\item 251\n",
       "\\item 436\n",
       "\\item 484\n",
       "\\item 80\n",
       "\\item 383\n",
       "\\item 249\n",
       "\\item 425\n",
       "\\item 151\n",
       "\\item 437\n",
       "\\item 5\n",
       "\\item 36\n",
       "\\item 14\n",
       "\\item 206\n",
       "\\item 369\n",
       "\\item 364\n",
       "\\item 109\n",
       "\\item 321\n",
       "\\item 368\n",
       "\\item 116\n",
       "\\item 300\n",
       "\\item 215\n",
       "\\item 44\n",
       "\\item 382\n",
       "\\item 335\n",
       "\\item 261\n",
       "\\item 381\n",
       "\\item 126\n",
       "\\item 342\n",
       "\\item 413\n",
       "\\item 505\n",
       "\\item 414\n",
       "\\item 179\n",
       "\\item 302\n",
       "\\item 79\n",
       "\\item 303\n",
       "\\item 424\n",
       "\\item 103\n",
       "\\item 239\n",
       "\\item 418\n",
       "\\item 349\n",
       "\\item 423\n",
       "\\item 1\n",
       "\\item 18\n",
       "\\item 371\n",
       "\\item 468\n",
       "\\item 166\n",
       "\\item 72\n",
       "\\item 501\n",
       "\\item 203\n",
       "\\item 217\n",
       "\\item 287\n",
       "\\item 24\n",
       "\\item 168\n",
       "\\item 260\n",
       "\\item 29\n",
       "\\item 99\n",
       "\\item 19\n",
       "\\item 6\n",
       "\\item 128\n",
       "\\item 201\n",
       "\\item 228\n",
       "\\item 218\n",
       "\\item 83\n",
       "\\item 478\n",
       "\\item 30\n",
       "\\item 419\n",
       "\\item 331\n",
       "\\item 45\n",
       "\\item 401\n",
       "\\item 362\n",
       "\\item 292\n",
       "\\item 407\n",
       "\\item 174\n",
       "\\item 49\n",
       "\\item 130\n",
       "\\item 396\n",
       "\\item 104\n",
       "\\item 370\n",
       "\\item 314\n",
       "\\item 208\n",
       "\\item 494\n",
       "\\item 476\n",
       "\\item 421\n",
       "\\item 403\n",
       "\\item 4\n",
       "\\item 127\n",
       "\\item 398\n",
       "\\item 246\n",
       "\\item 356\n",
       "\\item 141\n",
       "\\item 190\n",
       "\\item 417\n",
       "\\item 411\n",
       "\\item 481\n",
       "\\item 457\n",
       "\\item 309\n",
       "\\item 458\n",
       "\\item 92\n",
       "\\item 9\n",
       "\\item 15\n",
       "\\item 475\n",
       "\\item 307\n",
       "\\item 154\n",
       "\\item 318\n",
       "\\item 58\n",
       "\\item 149\n",
       "\\item 491\n",
       "\\item 175\n",
       "\\item 297\n",
       "\\item 267\n",
       "\\item 65\n",
       "\\item 281\n",
       "\\item 487\n",
       "\\item 322\n",
       "\\item 81\n",
       "\\item 111\n",
       "\\item 90\n",
       "\\item 124\n",
       "\\item 358\n",
       "\\item 268\n",
       "\\item 243\n",
       "\\item 242\n",
       "\\item 137\n",
       "\\item 37\n",
       "\\item 188\n",
       "\\item 252\n",
       "\\item 195\n",
       "\\item 198\n",
       "\\item 210\n",
       "\\item 214\n",
       "\\item 354\n",
       "\\item 433\n",
       "\\item 146\n",
       "\\item 326\n",
       "\\item 443\n",
       "\\item 263\n",
       "\\item 177\n",
       "\\item 498\n",
       "\\item 38\n",
       "\\item 216\n",
       "\\item 431\n",
       "\\item 311\n",
       "\\item 105\n",
       "\\item 162\n",
       "\\item 427\n",
       "\\item 245\n",
       "\\item 73\n",
       "\\item 48\n",
       "\\item 10\n",
       "\\item 485\n",
       "\\item 387\n",
       "\\item 441\n",
       "\\item 347\n",
       "\\item 266\n",
       "\\item 469\n",
       "\\item 375\n",
       "\\item 191\n",
       "\\item 426\n",
       "\\item 182\n",
       "\\item 332\n",
       "\\item 361\n",
       "\\item 2\n",
       "\\item 12\n",
       "\\item 226\n",
       "\\item 277\n",
       "\\item 184\n",
       "\\item 123\n",
       "\\item 26\n",
       "\\item 211\n",
       "\\item 455\n",
       "\\item 91\n",
       "\\item 348\n",
       "\\item 282\n",
       "\\item 189\n",
       "\\item 147\n",
       "\\item 21\n",
       "\\item 360\n",
       "\\item 295\n",
       "\\item 160\n",
       "\\item 490\n",
       "\\item 278\n",
       "\\item 132\n",
       "\\item 317\n",
       "\\item 298\n",
       "\\item 156\n",
       "\\item 78\n",
       "\\item 465\n",
       "\\item 304\n",
       "\\item 402\n",
       "\\item 56\n",
       "\\item 483\n",
       "\\item 138\n",
       "\\item 338\n",
       "\\item 60\n",
       "\\item 169\n",
       "\\item 258\n",
       "\\item 255\n",
       "\\item 399\n",
       "\\item 327\n",
       "\\item 352\n",
       "\\item 376\n",
       "\\item 55\n",
       "\\item 374\n",
       "\\item 319\n",
       "\\item 118\n",
       "\\item 35\n",
       "\\item 428\n",
       "\\item 470\n",
       "\\item 499\n",
       "\\item 46\n",
       "\\item 212\n",
       "\\item 461\n",
       "\\item 386\n",
       "\\item 345\n",
       "\\item 453\n",
       "\\item 340\n",
       "\\item 205\n",
       "\\item 115\n",
       "\\item 225\n",
       "\\item 41\n",
       "\\item 20\n",
       "\\item 264\n",
       "\\item 28\n",
       "\\item 464\n",
       "\\item 68\n",
       "\\item 270\n",
       "\\item 471\n",
       "\\item 13\n",
       "\\item 51\n",
       "\\item 69\n",
       "\\item 114\n",
       "\\item 142\n",
       "\\item 500\n",
       "\\item 131\n",
       "\\item 486\n",
       "\\item 227\n",
       "\\item 434\n",
       "\\item 164\n",
       "\\item 440\n",
       "\\item 301\n",
       "\\item 390\n",
       "\\item 269\n",
       "\\item 193\n",
       "\\item 333\n",
       "\\item 222\n",
       "\\end{enumerate*}\n"
      ],
      "text/markdown": [
       "1. 336\n",
       "2. 31\n",
       "3. 52\n",
       "4. 290\n",
       "5. 448\n",
       "6. 397\n",
       "7. 445\n",
       "8. 96\n",
       "9. 129\n",
       "10. 472\n",
       "11. 155\n",
       "12. 34\n",
       "13. 237\n",
       "14. 283\n",
       "15. 240\n",
       "16. 88\n",
       "17. 253\n",
       "18. 313\n",
       "19. 432\n",
       "20. 438\n",
       "21. 450\n",
       "22. 161\n",
       "23. 71\n",
       "24. 410\n",
       "25. 467\n",
       "26. 248\n",
       "27. 477\n",
       "28. 202\n",
       "29. 400\n",
       "30. 181\n",
       "31. 232\n",
       "32. 66\n",
       "33. 176\n",
       "34. 33\n",
       "35. 325\n",
       "36. 172\n",
       "37. 346\n",
       "38. 186\n",
       "39. 289\n",
       "40. 344\n",
       "41. 429\n",
       "42. 406\n",
       "43. 446\n",
       "44. 113\n",
       "45. 112\n",
       "46. 70\n",
       "47. 359\n",
       "48. 466\n",
       "49. 320\n",
       "50. 220\n",
       "51. 366\n",
       "52. 262\n",
       "53. 150\n",
       "54. 274\n",
       "55. 334\n",
       "56. 280\n",
       "57. 207\n",
       "58. 480\n",
       "59. 136\n",
       "60. 87\n",
       "61. 77\n",
       "62. 308\n",
       "63. 102\n",
       "64. 148\n",
       "65. 259\n",
       "66. 233\n",
       "67. 312\n",
       "68. 231\n",
       "69. 89\n",
       "70. 122\n",
       "71. 173\n",
       "72. 85\n",
       "73. 310\n",
       "74. 219\n",
       "75. 459\n",
       "76. 84\n",
       "77. 27\n",
       "78. 279\n",
       "79. 119\n",
       "80. 323\n",
       "81. 43\n",
       "82. 463\n",
       "83. 145\n",
       "84. 389\n",
       "85. 430\n",
       "86. 209\n",
       "87. 224\n",
       "88. 395\n",
       "89. 86\n",
       "90. 108\n",
       "91. 449\n",
       "92. 110\n",
       "93. 178\n",
       "94. 53\n",
       "95. 306\n",
       "96. 328\n",
       "97. 355\n",
       "98. 372\n",
       "99. 139\n",
       "100. 394\n",
       "101. 171\n",
       "102. 276\n",
       "103. 8\n",
       "104. 489\n",
       "105. 183\n",
       "106. 16\n",
       "107. 315\n",
       "108. 75\n",
       "109. 479\n",
       "110. 251\n",
       "111. 436\n",
       "112. 484\n",
       "113. 80\n",
       "114. 383\n",
       "115. 249\n",
       "116. 425\n",
       "117. 151\n",
       "118. 437\n",
       "119. 5\n",
       "120. 36\n",
       "121. 14\n",
       "122. 206\n",
       "123. 369\n",
       "124. 364\n",
       "125. 109\n",
       "126. 321\n",
       "127. 368\n",
       "128. 116\n",
       "129. 300\n",
       "130. 215\n",
       "131. 44\n",
       "132. 382\n",
       "133. 335\n",
       "134. 261\n",
       "135. 381\n",
       "136. 126\n",
       "137. 342\n",
       "138. 413\n",
       "139. 505\n",
       "140. 414\n",
       "141. 179\n",
       "142. 302\n",
       "143. 79\n",
       "144. 303\n",
       "145. 424\n",
       "146. 103\n",
       "147. 239\n",
       "148. 418\n",
       "149. 349\n",
       "150. 423\n",
       "151. 1\n",
       "152. 18\n",
       "153. 371\n",
       "154. 468\n",
       "155. 166\n",
       "156. 72\n",
       "157. 501\n",
       "158. 203\n",
       "159. 217\n",
       "160. 287\n",
       "161. 24\n",
       "162. 168\n",
       "163. 260\n",
       "164. 29\n",
       "165. 99\n",
       "166. 19\n",
       "167. 6\n",
       "168. 128\n",
       "169. 201\n",
       "170. 228\n",
       "171. 218\n",
       "172. 83\n",
       "173. 478\n",
       "174. 30\n",
       "175. 419\n",
       "176. 331\n",
       "177. 45\n",
       "178. 401\n",
       "179. 362\n",
       "180. 292\n",
       "181. 407\n",
       "182. 174\n",
       "183. 49\n",
       "184. 130\n",
       "185. 396\n",
       "186. 104\n",
       "187. 370\n",
       "188. 314\n",
       "189. 208\n",
       "190. 494\n",
       "191. 476\n",
       "192. 421\n",
       "193. 403\n",
       "194. 4\n",
       "195. 127\n",
       "196. 398\n",
       "197. 246\n",
       "198. 356\n",
       "199. 141\n",
       "200. 190\n",
       "201. 417\n",
       "202. 411\n",
       "203. 481\n",
       "204. 457\n",
       "205. 309\n",
       "206. 458\n",
       "207. 92\n",
       "208. 9\n",
       "209. 15\n",
       "210. 475\n",
       "211. 307\n",
       "212. 154\n",
       "213. 318\n",
       "214. 58\n",
       "215. 149\n",
       "216. 491\n",
       "217. 175\n",
       "218. 297\n",
       "219. 267\n",
       "220. 65\n",
       "221. 281\n",
       "222. 487\n",
       "223. 322\n",
       "224. 81\n",
       "225. 111\n",
       "226. 90\n",
       "227. 124\n",
       "228. 358\n",
       "229. 268\n",
       "230. 243\n",
       "231. 242\n",
       "232. 137\n",
       "233. 37\n",
       "234. 188\n",
       "235. 252\n",
       "236. 195\n",
       "237. 198\n",
       "238. 210\n",
       "239. 214\n",
       "240. 354\n",
       "241. 433\n",
       "242. 146\n",
       "243. 326\n",
       "244. 443\n",
       "245. 263\n",
       "246. 177\n",
       "247. 498\n",
       "248. 38\n",
       "249. 216\n",
       "250. 431\n",
       "251. 311\n",
       "252. 105\n",
       "253. 162\n",
       "254. 427\n",
       "255. 245\n",
       "256. 73\n",
       "257. 48\n",
       "258. 10\n",
       "259. 485\n",
       "260. 387\n",
       "261. 441\n",
       "262. 347\n",
       "263. 266\n",
       "264. 469\n",
       "265. 375\n",
       "266. 191\n",
       "267. 426\n",
       "268. 182\n",
       "269. 332\n",
       "270. 361\n",
       "271. 2\n",
       "272. 12\n",
       "273. 226\n",
       "274. 277\n",
       "275. 184\n",
       "276. 123\n",
       "277. 26\n",
       "278. 211\n",
       "279. 455\n",
       "280. 91\n",
       "281. 348\n",
       "282. 282\n",
       "283. 189\n",
       "284. 147\n",
       "285. 21\n",
       "286. 360\n",
       "287. 295\n",
       "288. 160\n",
       "289. 490\n",
       "290. 278\n",
       "291. 132\n",
       "292. 317\n",
       "293. 298\n",
       "294. 156\n",
       "295. 78\n",
       "296. 465\n",
       "297. 304\n",
       "298. 402\n",
       "299. 56\n",
       "300. 483\n",
       "301. 138\n",
       "302. 338\n",
       "303. 60\n",
       "304. 169\n",
       "305. 258\n",
       "306. 255\n",
       "307. 399\n",
       "308. 327\n",
       "309. 352\n",
       "310. 376\n",
       "311. 55\n",
       "312. 374\n",
       "313. 319\n",
       "314. 118\n",
       "315. 35\n",
       "316. 428\n",
       "317. 470\n",
       "318. 499\n",
       "319. 46\n",
       "320. 212\n",
       "321. 461\n",
       "322. 386\n",
       "323. 345\n",
       "324. 453\n",
       "325. 340\n",
       "326. 205\n",
       "327. 115\n",
       "328. 225\n",
       "329. 41\n",
       "330. 20\n",
       "331. 264\n",
       "332. 28\n",
       "333. 464\n",
       "334. 68\n",
       "335. 270\n",
       "336. 471\n",
       "337. 13\n",
       "338. 51\n",
       "339. 69\n",
       "340. 114\n",
       "341. 142\n",
       "342. 500\n",
       "343. 131\n",
       "344. 486\n",
       "345. 227\n",
       "346. 434\n",
       "347. 164\n",
       "348. 440\n",
       "349. 301\n",
       "350. 390\n",
       "351. 269\n",
       "352. 193\n",
       "353. 333\n",
       "354. 222\n",
       "\n",
       "\n"
      ],
      "text/plain": [
       "  [1] 336  31  52 290 448 397 445  96 129 472 155  34 237 283 240  88 253 313\n",
       " [19] 432 438 450 161  71 410 467 248 477 202 400 181 232  66 176  33 325 172\n",
       " [37] 346 186 289 344 429 406 446 113 112  70 359 466 320 220 366 262 150 274\n",
       " [55] 334 280 207 480 136  87  77 308 102 148 259 233 312 231  89 122 173  85\n",
       " [73] 310 219 459  84  27 279 119 323  43 463 145 389 430 209 224 395  86 108\n",
       " [91] 449 110 178  53 306 328 355 372 139 394 171 276   8 489 183  16 315  75\n",
       "[109] 479 251 436 484  80 383 249 425 151 437   5  36  14 206 369 364 109 321\n",
       "[127] 368 116 300 215  44 382 335 261 381 126 342 413 505 414 179 302  79 303\n",
       "[145] 424 103 239 418 349 423   1  18 371 468 166  72 501 203 217 287  24 168\n",
       "[163] 260  29  99  19   6 128 201 228 218  83 478  30 419 331  45 401 362 292\n",
       "[181] 407 174  49 130 396 104 370 314 208 494 476 421 403   4 127 398 246 356\n",
       "[199] 141 190 417 411 481 457 309 458  92   9  15 475 307 154 318  58 149 491\n",
       "[217] 175 297 267  65 281 487 322  81 111  90 124 358 268 243 242 137  37 188\n",
       "[235] 252 195 198 210 214 354 433 146 326 443 263 177 498  38 216 431 311 105\n",
       "[253] 162 427 245  73  48  10 485 387 441 347 266 469 375 191 426 182 332 361\n",
       "[271]   2  12 226 277 184 123  26 211 455  91 348 282 189 147  21 360 295 160\n",
       "[289] 490 278 132 317 298 156  78 465 304 402  56 483 138 338  60 169 258 255\n",
       "[307] 399 327 352 376  55 374 319 118  35 428 470 499  46 212 461 386 345 453\n",
       "[325] 340 205 115 225  41  20 264  28 464  68 270 471  13  51  69 114 142 500\n",
       "[343] 131 486 227 434 164 440 301 390 269 193 333 222"
      ]
     },
     "metadata": {},
     "output_type": "display_data"
    }
   ],
   "source": [
    "idx = sample(1:nrow(Boston), size = nrow(Boston)*0.7, replace = F)\n",
    "idx"
   ]
  },
  {
   "cell_type": "code",
   "execution_count": 60,
   "metadata": {},
   "outputs": [],
   "source": [
    "Boston_train = Boston[idx,]\n",
    "Boston_test = Boston[-idx,]"
   ]
  },
  {
   "cell_type": "code",
   "execution_count": 61,
   "metadata": {},
   "outputs": [
    {
     "data": {
      "text/plain": [
       "\n",
       "Call:\n",
       "lm(formula = medv ~ ., data = Boston_train)\n",
       "\n",
       "Residuals:\n",
       "     Min       1Q   Median       3Q      Max \n",
       "-10.4827  -2.5420  -0.4671   1.2640  25.3536 \n",
       "\n",
       "Coefficients:\n",
       "              Estimate Std. Error t value Pr(>|t|)    \n",
       "(Intercept)  38.659985   5.982151   6.463 3.57e-10 ***\n",
       "crim         -0.129314   0.034608  -3.736 0.000219 ***\n",
       "zn            0.053107   0.017510   3.033 0.002608 ** \n",
       "indus         0.038960   0.074618   0.522 0.601921    \n",
       "chas          2.779289   1.036013   2.683 0.007660 ** \n",
       "nox         -18.490343   4.409837  -4.193 3.52e-05 ***\n",
       "rm            3.394072   0.506186   6.705 8.39e-11 ***\n",
       "age           0.014427   0.015844   0.911 0.363176    \n",
       "dis          -1.378328   0.237912  -5.793 1.57e-08 ***\n",
       "rad           0.359358   0.080463   4.466 1.09e-05 ***\n",
       "tax          -0.014874   0.004706  -3.161 0.001714 ** \n",
       "ptratio      -0.953650   0.155434  -6.135 2.36e-09 ***\n",
       "black         0.009048   0.003000   3.016 0.002755 ** \n",
       "lstat        -0.535187   0.058142  -9.205  < 2e-16 ***\n",
       "---\n",
       "Signif. codes:  0 '***' 0.001 '**' 0.01 '*' 0.05 '.' 0.1 ' ' 1\n",
       "\n",
       "Residual standard error: 4.642 on 340 degrees of freedom\n",
       "Multiple R-squared:  0.7413,\tAdjusted R-squared:  0.7314 \n",
       "F-statistic: 74.93 on 13 and 340 DF,  p-value: < 2.2e-16\n"
      ]
     },
     "metadata": {},
     "output_type": "display_data"
    }
   ],
   "source": [
    "lm.fit = lm(medv ~ ., data = Boston_train)\n",
    "summary(lm.fit)"
   ]
  },
  {
   "cell_type": "code",
   "execution_count": 62,
   "metadata": {},
   "outputs": [
    {
     "name": "stdout",
     "output_type": "stream",
     "text": [
      "Start:  AIC=1100.67\n",
      "medv ~ crim + zn + indus + chas + nox + rm + age + dis + rad + \n",
      "    tax + ptratio + black + lstat\n",
      "\n",
      "          Df Sum of Sq    RSS    AIC\n",
      "- indus    1      5.88 7333.7 1099.0\n",
      "- age      1     17.87 7345.6 1099.5\n",
      "<none>                 7327.8 1100.7\n",
      "- chas     1    155.11 7482.9 1106.1\n",
      "- black    1    196.04 7523.8 1108.0\n",
      "- zn       1    198.25 7526.0 1108.1\n",
      "- tax      1    215.35 7543.1 1108.9\n",
      "- crim     1    300.90 7628.7 1112.9\n",
      "- nox      1    378.91 7706.7 1116.5\n",
      "- rad      1    429.89 7757.7 1118.8\n",
      "- dis      1    723.38 8051.2 1132.0\n",
      "- ptratio  1    811.29 8139.1 1135.8\n",
      "- rm       1    968.98 8296.8 1142.6\n",
      "- lstat    1   1826.09 9153.9 1177.4\n",
      "\n",
      "Step:  AIC=1098.95\n",
      "medv ~ crim + zn + chas + nox + rm + age + dis + rad + tax + \n",
      "    ptratio + black + lstat\n",
      "\n",
      "          Df Sum of Sq    RSS    AIC\n",
      "- age      1     17.29 7350.9 1097.8\n",
      "<none>                 7333.7 1099.0\n",
      "- chas     1    168.46 7502.1 1105.0\n",
      "- zn       1    192.46 7526.1 1106.1\n",
      "- black    1    194.19 7527.8 1106.2\n",
      "- tax      1    230.97 7564.6 1107.9\n",
      "- crim     1    303.24 7636.9 1111.3\n",
      "- nox      1    384.02 7717.7 1115.0\n",
      "- rad      1    437.84 7771.5 1117.5\n",
      "- dis      1    761.43 8095.1 1131.9\n",
      "- ptratio  1    807.43 8141.1 1133.9\n",
      "- rm       1    963.10 8296.8 1140.6\n",
      "- lstat    1   1832.02 9165.7 1175.9\n",
      "\n",
      "Step:  AIC=1097.78\n",
      "medv ~ crim + zn + chas + nox + rm + dis + rad + tax + ptratio + \n",
      "    black + lstat\n",
      "\n",
      "          Df Sum of Sq    RSS    AIC\n",
      "<none>                 7350.9 1097.8\n",
      "- chas     1    177.47 7528.4 1104.2\n",
      "- zn       1    181.78 7532.7 1104.4\n",
      "- black    1    202.75 7553.7 1105.4\n",
      "- tax      1    229.95 7580.9 1106.7\n",
      "- crim     1    300.43 7651.4 1110.0\n",
      "- nox      1    368.14 7719.1 1113.1\n",
      "- rad      1    430.08 7781.0 1115.9\n",
      "- ptratio  1    793.75 8144.7 1132.1\n",
      "- dis      1    913.01 8264.0 1137.2\n",
      "- rm       1   1074.68 8425.6 1144.1\n",
      "- lstat    1   1972.71 9323.7 1179.9\n"
     ]
    },
    {
     "data": {
      "text/plain": [
       "\n",
       "Call:\n",
       "lm(formula = medv ~ crim + zn + chas + nox + rm + dis + rad + \n",
       "    tax + ptratio + black + lstat, data = Boston_train)\n",
       "\n",
       "Residuals:\n",
       "     Min       1Q   Median       3Q      Max \n",
       "-10.5001  -2.5851  -0.3407   1.1872  25.9315 \n",
       "\n",
       "Coefficients:\n",
       "              Estimate Std. Error t value Pr(>|t|)    \n",
       "(Intercept)  37.931958   5.929110   6.398 5.19e-10 ***\n",
       "crim         -0.129146   0.034543  -3.739 0.000217 ***\n",
       "zn            0.049927   0.017168   2.908 0.003874 ** \n",
       "chas          2.929757   1.019601   2.873 0.004314 ** \n",
       "nox         -16.804961   4.060572  -4.139 4.41e-05 ***\n",
       "rm            3.474306   0.491346   7.071 8.71e-12 ***\n",
       "dis          -1.460284   0.224056  -6.517 2.56e-10 ***\n",
       "rad           0.343687   0.076833   4.473 1.05e-05 ***\n",
       "tax          -0.013743   0.004202  -3.271 0.001182 ** \n",
       "ptratio      -0.931738   0.153324  -6.077 3.27e-09 ***\n",
       "black         0.009177   0.002988   3.071 0.002302 ** \n",
       "lstat        -0.511963   0.053440  -9.580  < 2e-16 ***\n",
       "---\n",
       "Signif. codes:  0 '***' 0.001 '**' 0.01 '*' 0.05 '.' 0.1 ' ' 1\n",
       "\n",
       "Residual standard error: 4.636 on 342 degrees of freedom\n",
       "Multiple R-squared:  0.7404,\tAdjusted R-squared:  0.7321 \n",
       "F-statistic: 88.69 on 11 and 342 DF,  p-value: < 2.2e-16\n"
      ]
     },
     "metadata": {},
     "output_type": "display_data"
    }
   ],
   "source": [
    "lm.fit2 = step(lm.fit, method = 'both')\n",
    "summary(lm.fit2)"
   ]
  },
  {
   "cell_type": "code",
   "execution_count": 64,
   "metadata": {},
   "outputs": [
    {
     "data": {
      "text/html": [
       "24.8501681341209"
      ],
      "text/latex": [
       "24.8501681341209"
      ],
      "text/markdown": [
       "24.8501681341209"
      ],
      "text/plain": [
       "[1] 24.85017"
      ]
     },
     "metadata": {},
     "output_type": "display_data"
    }
   ],
   "source": [
    "lm.yhat2 = predict(lm.fit2, newdata = Boston_test)\n",
    "mean((lm.yhat2-Boston_test$medv)^2)"
   ]
  },
  {
   "cell_type": "code",
   "execution_count": 65,
   "metadata": {},
   "outputs": [
    {
     "data": {
      "text/html": [
       "4.98499429629773"
      ],
      "text/latex": [
       "4.98499429629773"
      ],
      "text/markdown": [
       "4.98499429629773"
      ],
      "text/plain": [
       "[1] 4.984994"
      ]
     },
     "metadata": {},
     "output_type": "display_data"
    }
   ],
   "source": [
    "kk = mean((lm.yhat2-Boston_test$medv)^2)\n",
    "sqrt(kk)"
   ]
  },
  {
   "cell_type": "code",
   "execution_count": 66,
   "metadata": {},
   "outputs": [
    {
     "data": {
      "image/png": "[encoded data removed]",
      "text/plain": [
       "plot without title"
      ]
     },
     "metadata": {},
     "output_type": "display_data"
    }
   ],
   "source": [
    "plot(lm.yhat2, Boston_test$medv)\n",
    "abline(a = 0, b = 1, col = 2)"
   ]
  },
  {
   "cell_type": "code",
   "execution_count": 69,
   "metadata": {},
   "outputs": [
    {
     "name": "stdout",
     "output_type": "stream",
     "text": [
      "package 'tree' successfully unpacked and MD5 sums checked\n",
      "\n",
      "The downloaded binary packages are in\n",
      "\tC:\\Users\\14\\AppData\\Local\\Temp\\RtmpmqPG20\\downloaded_packages\n"
     ]
    }
   ],
   "source": [
    "install.packages('tree')"
   ]
  },
  {
   "cell_type": "code",
   "execution_count": 74,
   "metadata": {},
   "outputs": [],
   "source": [
    "library(tree)"
   ]
  },
  {
   "cell_type": "code",
   "execution_count": 71,
   "metadata": {},
   "outputs": [
    {
     "data": {
      "text/plain": [
       "\n",
       "Regression tree:\n",
       "tree(formula = medv ~ ., data = Boston_train)\n",
       "Variables actually used in tree construction:\n",
       "[1] \"lstat\" \"rm\"    \"dis\"   \"nox\"  \n",
       "Number of terminal nodes:  7 \n",
       "Residual mean deviance:  13.01 = 4516 / 347 \n",
       "Distribution of residuals:\n",
       "    Min.  1st Qu.   Median     Mean  3rd Qu.     Max. \n",
       "-18.0000  -2.1950  -0.1071   0.0000   2.2800  11.9400 "
      ]
     },
     "metadata": {},
     "output_type": "display_data"
    }
   ],
   "source": [
    "tree.fit = tree(medv ~ ., data = Boston_train)\n",
    "summary(tree.fit)"
   ]
  },
  {
   "cell_type": "code",
   "execution_count": 75,
   "metadata": {},
   "outputs": [
    {
     "data": {
      "image/png": "[encoded data removed]",
      "text/plain": [
       "plot without title"
      ]
     },
     "metadata": {},
     "output_type": "display_data"
    }
   ],
   "source": [
    "plot(tree.fit)\n",
    "text(tree.fit, pretty = 0)"
   ]
  },
  {
   "cell_type": "code",
   "execution_count": 77,
   "metadata": {},
   "outputs": [
    {
     "data": {
      "text/html": [
       "18.9601409208301"
      ],
      "text/latex": [
       "18.9601409208301"
      ],
      "text/markdown": [
       "18.9601409208301"
      ],
      "text/plain": [
       "[1] 18.96014"
      ]
     },
     "metadata": {},
     "output_type": "display_data"
    }
   ],
   "source": [
    "tree.yhat = predict(tree.fit, newdata = Boston_test)\n",
    "mean((tree.yhat-Boston_test$medv)^2)"
   ]
  },
  {
   "cell_type": "code",
   "execution_count": 78,
   "metadata": {},
   "outputs": [
    {
     "data": {
      "text/html": [
       "4.35432439315563"
      ],
      "text/latex": [
       "4.35432439315563"
      ],
      "text/markdown": [
       "4.35432439315563"
      ],
      "text/plain": [
       "[1] 4.354324"
      ]
     },
     "metadata": {},
     "output_type": "display_data"
    }
   ],
   "source": [
    "kk = mean((tree.yhat-Boston_test$medv)^2)\n",
    "sqrt(kk)"
   ]
  },
  {
   "cell_type": "markdown",
   "metadata": {},
   "source": [
    "# rpart를 활용한 의사결정트리 분석 방법"
   ]
  },
  {
   "cell_type": "code",
   "execution_count": 79,
   "metadata": {},
   "outputs": [],
   "source": [
    "library(rpart)"
   ]
  },
  {
   "cell_type": "code",
   "execution_count": 80,
   "metadata": {},
   "outputs": [
    {
     "name": "stdout",
     "output_type": "stream",
     "text": [
      "Call:\n",
      "rpart(formula = medv ~ ., data = Boston_train)\n",
      "  n= 354 \n",
      "\n",
      "          CP nsplit rel error    xerror       xstd\n",
      "1 0.45987344      0 1.0000000 1.0040490 0.10108839\n",
      "2 0.17200027      1 0.5401266 0.6060707 0.06802821\n",
      "3 0.06904410      2 0.3681263 0.4348375 0.05651588\n",
      "4 0.05794968      3 0.2990822 0.3910833 0.05358477\n",
      "5 0.02398269      4 0.2411325 0.3552807 0.05361344\n",
      "6 0.02328583      5 0.2171498 0.2999158 0.04048218\n",
      "7 0.01131570      6 0.1938640 0.2831452 0.04174953\n",
      "8 0.01000000      7 0.1825483 0.2709912 0.04115282\n",
      "\n",
      "Variable importance\n",
      "  lstat      rm   indus     nox    crim     age     dis     tax ptratio     rad \n",
      "     25      20      15      12      11      11       3       2       2       1 \n",
      "\n",
      "Node number 1: 354 observations,    complexity param=0.4598734\n",
      "  mean=22.21893, MSE=80.00233 \n",
      "  left son=2 (215 obs) right son=3 (139 obs)\n",
      "  Primary splits:\n",
      "      lstat   < 9.63     to the right, improve=0.4598734, (0 missing)\n",
      "      rm      < 6.803    to the left,  improve=0.4421950, (0 missing)\n",
      "      indus   < 6.66     to the right, improve=0.2774245, (0 missing)\n",
      "      ptratio < 18.75    to the right, improve=0.2472581, (0 missing)\n",
      "      nox     < 0.657    to the right, improve=0.2156801, (0 missing)\n",
      "  Surrogate splits:\n",
      "      indus < 7.625    to the right, agree=0.839, adj=0.590, (0 split)\n",
      "      nox   < 0.5175   to the right, agree=0.802, adj=0.496, (0 split)\n",
      "      rm    < 6.413    to the left,  agree=0.802, adj=0.496, (0 split)\n",
      "      crim  < 0.092825 to the right, agree=0.774, adj=0.424, (0 split)\n",
      "      age   < 58.75    to the right, agree=0.768, adj=0.410, (0 split)\n",
      "\n",
      "Node number 2: 215 observations,    complexity param=0.0690441\n",
      "  mean=17.34186, MSE=23.49211 \n",
      "  left son=4 (102 obs) right son=5 (113 obs)\n",
      "  Primary splits:\n",
      "      lstat   < 16.215   to the right, improve=0.3871435, (0 missing)\n",
      "      crim    < 5.84803  to the right, improve=0.3504797, (0 missing)\n",
      "      dis     < 2.07115  to the left,  improve=0.3336969, (0 missing)\n",
      "      nox     < 0.657    to the right, improve=0.3216326, (0 missing)\n",
      "      ptratio < 19.85    to the right, improve=0.2783615, (0 missing)\n",
      "  Surrogate splits:\n",
      "      age   < 91.25    to the right, agree=0.786, adj=0.549, (0 split)\n",
      "      crim  < 4.30505  to the right, agree=0.721, adj=0.412, (0 split)\n",
      "      dis   < 2.1146   to the left,  agree=0.712, adj=0.392, (0 split)\n",
      "      tax   < 434.5    to the right, agree=0.707, adj=0.382, (0 split)\n",
      "      indus < 16.01    to the right, agree=0.702, adj=0.373, (0 split)\n",
      "\n",
      "Node number 3: 139 observations,    complexity param=0.1720003\n",
      "  mean=29.76259, MSE=73.71241 \n",
      "  left son=6 (121 obs) right son=7 (18 obs)\n",
      "  Primary splits:\n",
      "      rm      < 7.445    to the left,  improve=0.4754223, (0 missing)\n",
      "      lstat   < 4.15     to the right, improve=0.3302573, (0 missing)\n",
      "      nox     < 0.574    to the left,  improve=0.2550987, (0 missing)\n",
      "      dis     < 2.90485  to the right, improve=0.2517297, (0 missing)\n",
      "      ptratio < 15.25    to the right, improve=0.2043064, (0 missing)\n",
      "  Surrogate splits:\n",
      "      ptratio < 14.75    to the right, agree=0.885, adj=0.111, (0 split)\n",
      "      lstat   < 3.21     to the right, agree=0.885, adj=0.111, (0 split)\n",
      "\n",
      "Node number 4: 102 observations,    complexity param=0.02328583\n",
      "  mean=14.16765, MSE=19.13199 \n",
      "  left son=8 (65 obs) right son=9 (37 obs)\n",
      "  Primary splits:\n",
      "      nox     < 0.603    to the right, improve=0.3379381, (0 missing)\n",
      "      ptratio < 19.6     to the right, improve=0.2869514, (0 missing)\n",
      "      crim    < 5.76921  to the right, improve=0.2833784, (0 missing)\n",
      "      dis     < 2.0037   to the left,  improve=0.2608846, (0 missing)\n",
      "      tax     < 551.5    to the right, improve=0.2384036, (0 missing)\n",
      "  Surrogate splits:\n",
      "      tax     < 366.5    to the right, agree=0.882, adj=0.676, (0 split)\n",
      "      dis     < 2.8804   to the left,  agree=0.873, adj=0.649, (0 split)\n",
      "      indus   < 15.995   to the right, agree=0.863, adj=0.622, (0 split)\n",
      "      crim    < 1.62073  to the right, agree=0.804, adj=0.459, (0 split)\n",
      "      ptratio < 19.6     to the right, agree=0.755, adj=0.324, (0 split)\n",
      "\n",
      "Node number 5: 113 observations\n",
      "  mean=20.20708, MSE=10.12349 \n",
      "\n",
      "Node number 6: 121 observations,    complexity param=0.05794968\n",
      "  mean=27.47934, MSE=41.37271 \n",
      "  left son=12 (78 obs) right son=13 (43 obs)\n",
      "  Primary splits:\n",
      "      rm    < 6.659    to the left,  improve=0.3278367, (0 missing)\n",
      "      age   < 96.2     to the left,  improve=0.2852503, (0 missing)\n",
      "      lstat < 5.44     to the right, improve=0.2781764, (0 missing)\n",
      "      dis   < 1.95265  to the right, improve=0.2360763, (0 missing)\n",
      "      nox   < 0.618    to the left,  improve=0.2217187, (0 missing)\n",
      "  Surrogate splits:\n",
      "      lstat   < 4.92     to the right, agree=0.752, adj=0.302, (0 split)\n",
      "      indus   < 4.01     to the right, agree=0.727, adj=0.233, (0 split)\n",
      "      ptratio < 15.25    to the right, agree=0.719, adj=0.209, (0 split)\n",
      "      zn      < 31.5     to the left,  agree=0.686, adj=0.116, (0 split)\n",
      "      tax     < 223      to the right, agree=0.686, adj=0.116, (0 split)\n",
      "\n",
      "Node number 7: 18 observations\n",
      "  mean=45.11111, MSE=20.48543 \n",
      "\n",
      "Node number 8: 65 observations\n",
      "  mean=12.24923, MSE=11.20188 \n",
      "\n",
      "Node number 9: 37 observations\n",
      "  mean=17.53784, MSE=15.23965 \n",
      "\n",
      "Node number 12: 78 observations,    complexity param=0.02398269\n",
      "  mean=24.74487, MSE=26.69914 \n",
      "  left son=24 (71 obs) right son=25 (7 obs)\n",
      "  Primary splits:\n",
      "      dis   < 2.6191   to the right, improve=0.3261459, (0 missing)\n",
      "      age   < 87.6     to the left,  improve=0.2904907, (0 missing)\n",
      "      indus < 13.375   to the left,  improve=0.2421566, (0 missing)\n",
      "      rad   < 7.5      to the left,  improve=0.2204522, (0 missing)\n",
      "      crim  < 0.710085 to the left,  improve=0.2013216, (0 missing)\n",
      "  Surrogate splits:\n",
      "      crim  < 1.031935 to the left,  agree=0.987, adj=0.857, (0 split)\n",
      "      indus < 16.01    to the left,  agree=0.987, adj=0.857, (0 split)\n",
      "      nox   < 0.5745   to the left,  agree=0.987, adj=0.857, (0 split)\n",
      "      age   < 87.6     to the left,  agree=0.974, adj=0.714, (0 split)\n",
      "      rad   < 16       to the left,  agree=0.962, adj=0.571, (0 split)\n",
      "\n",
      "Node number 13: 43 observations,    complexity param=0.0113157\n",
      "  mean=32.43953, MSE=29.82286 \n",
      "  left son=26 (18 obs) right son=27 (25 obs)\n",
      "  Primary splits:\n",
      "      lstat < 5.495    to the right, improve=0.24990200, (0 missing)\n",
      "      tax   < 391      to the left,  improve=0.17920460, (0 missing)\n",
      "      dis   < 2.77835  to the right, improve=0.14248310, (0 missing)\n",
      "      crim  < 0.43767  to the left,  improve=0.11597880, (0 missing)\n",
      "      rm    < 7.0115   to the left,  improve=0.07937269, (0 missing)\n",
      "  Surrogate splits:\n",
      "      age     < 46.6     to the right, agree=0.814, adj=0.556, (0 split)\n",
      "      dis     < 3.5466   to the left,  agree=0.791, adj=0.500, (0 split)\n",
      "      nox     < 0.465    to the right, agree=0.767, adj=0.444, (0 split)\n",
      "      crim    < 0.102345 to the right, agree=0.674, adj=0.222, (0 split)\n",
      "      ptratio < 13.9     to the left,  agree=0.674, adj=0.222, (0 split)\n",
      "\n",
      "Node number 24: 71 observations\n",
      "  mean=23.81831, MSE=8.449101 \n",
      "\n",
      "Node number 25: 7 observations\n",
      "  mean=34.14286, MSE=114.7767 \n",
      "\n",
      "Node number 26: 18 observations\n",
      "  mean=29.22222, MSE=16.02284 \n",
      "\n",
      "Node number 27: 25 observations\n",
      "  mean=34.756, MSE=26.94006 \n",
      "\n"
     ]
    }
   ],
   "source": [
    "rpart.fit = rpart(medv ~ ., data = Boston_train)\n",
    "summary(rpart.fit)"
   ]
  },
  {
   "cell_type": "code",
   "execution_count": 85,
   "metadata": {},
   "outputs": [
    {
     "data": {
      "image/png": "[encoded data removed]",
      "text/plain": [
       "plot without title"
      ]
     },
     "metadata": {},
     "output_type": "display_data"
    }
   ],
   "source": [
    "rpart.plot(rpart.fit, digits = 3, type = 0, extra = 1, fallen.leaves = F, cex = 1)"
   ]
  },
  {
   "cell_type": "code",
   "execution_count": 87,
   "metadata": {},
   "outputs": [
    {
     "data": {
      "text/html": [
       "4.9146841596879"
      ],
      "text/latex": [
       "4.9146841596879"
      ],
      "text/markdown": [
       "4.9146841596879"
      ],
      "text/plain": [
       "[1] 4.914684"
      ]
     },
     "metadata": {},
     "output_type": "display_data"
    }
   ],
   "source": [
    "rpart.yhat = predict(rpart.fit, newdata = Boston_test)\n",
    "kk = mean((rpart.yhat-Boston_test$medv)^2)\n",
    "sqrt(kk)"
   ]
  },
  {
   "cell_type": "markdown",
   "metadata": {},
   "source": [
    "# ANN 수치예측모형의 머신러닝 알고리즘 방법"
   ]
  },
  {
   "cell_type": "code",
   "execution_count": 88,
   "metadata": {},
   "outputs": [],
   "source": [
    "normalize = function(x){return((x-min(x))/max(x)-min(x))}\n",
    "Boston_train_norm = as.data.frame(sapply(Boston_train, normalize))\n",
    "Boston_test_norm = as.data.frame(sapply(Boston_test, normalize))"
   ]
  },
  {
   "cell_type": "code",
   "execution_count": 89,
   "metadata": {},
   "outputs": [],
   "source": [
    "library(nnet)"
   ]
  },
  {
   "cell_type": "code",
   "execution_count": 90,
   "metadata": {},
   "outputs": [
    {
     "name": "stdout",
     "output_type": "stream",
     "text": [
      "# weights:  76\n",
      "initial  value 9005.159721 \n",
      "final  value 7684.211516 \n",
      "converged\n"
     ]
    }
   ],
   "source": [
    "nnet.fit = nnet(medv ~ ., data = Boston_train_norm, size = 5)\n",
    "nnet.yhat = predict(nnet.fit, newdata = Boston_test_norm, type = 'raw')"
   ]
  },
  {
   "cell_type": "code",
   "execution_count": 91,
   "metadata": {},
   "outputs": [
    {
     "data": {
      "text/html": [
       "44.5895135526316"
      ],
      "text/latex": [
       "44.5895135526316"
      ],
      "text/markdown": [
       "44.5895135526316"
      ],
      "text/plain": [
       "[1] 44.58951"
      ]
     },
     "metadata": {},
     "output_type": "display_data"
    }
   ],
   "source": [
    "mean((nnet.yhat-Boston_test_norm$medv)^2)"
   ]
  },
  {
   "cell_type": "markdown",
   "metadata": {},
   "source": [
    "# ANN의 시각화를 위해서 시용하는 알고리즘 방법"
   ]
  },
  {
   "cell_type": "code",
   "execution_count": 103,
   "metadata": {},
   "outputs": [
    {
     "name": "stderr",
     "output_type": "stream",
     "text": [
      "Warning message:\n",
      "\"package 'neuralnet' is in use and will not be installed\""
     ]
    }
   ],
   "source": [
    "install.packages('neuralnet')"
   ]
  },
  {
   "cell_type": "code",
   "execution_count": 104,
   "metadata": {},
   "outputs": [],
   "source": [
    "library('neuralnet')"
   ]
  },
  {
   "cell_type": "code",
   "execution_count": 108,
   "metadata": {},
   "outputs": [],
   "source": [
    "neural.fit = neuralnet(medv ~ crim + zn + indus + chas + nox + rm + age + tax + ptratio + black + lstat, data = Boston_train_norm,\n",
    "                       hidden = 5, act.fct=\"tanh\")"
   ]
  },
  {
   "cell_type": "code",
   "execution_count": 109,
   "metadata": {},
   "outputs": [],
   "source": [
    "neural.result = compute(neural.fit, Boston_test_norm[1:13])"
   ]
  },
  {
   "cell_type": "code",
   "execution_count": 110,
   "metadata": {},
   "outputs": [
    {
     "data": {
      "text/html": [
       "4.11430364891619"
      ],
      "text/latex": [
       "4.11430364891619"
      ],
      "text/markdown": [
       "4.11430364891619"
      ],
      "text/plain": [
       "[1] 4.114304"
      ]
     },
     "metadata": {},
     "output_type": "display_data"
    }
   ],
   "source": [
    "neural.yhat = neural.result$net.result\n",
    "mean((neural.yhat-Boston_test_norm$medv)^2)"
   ]
  },
  {
   "cell_type": "code",
   "execution_count": 111,
   "metadata": {},
   "outputs": [
    {
     "data": {
      "text/html": [
       "2.02837463228965"
      ],
      "text/latex": [
       "2.02837463228965"
      ],
      "text/markdown": [
       "2.02837463228965"
      ],
      "text/plain": [
       "[1] 2.028375"
      ]
     },
     "metadata": {},
     "output_type": "display_data"
    }
   ],
   "source": [
    "kk = mean((neural.yhat-Boston_test_norm$medv)^2)\n",
    "sqrt(kk)"
   ]
  },
  {
   "cell_type": "code",
   "execution_count": 116,
   "metadata": {},
   "outputs": [],
   "source": [
    "plot(neural.fit)"
   ]
  },
  {
   "cell_type": "markdown",
   "metadata": {},
   "source": [
    "# RF model(앙상블) Method 수치머신러닝"
   ]
  },
  {
   "cell_type": "code",
   "execution_count": 106,
   "metadata": {},
   "outputs": [],
   "source": [
    "library('randomForest')"
   ]
  },
  {
   "cell_type": "code",
   "execution_count": 107,
   "metadata": {},
   "outputs": [
    {
     "data": {
      "text/plain": [
       "\n",
       "Call:\n",
       " randomForest(formula = medv ~ ., data = Boston_train, mtry = 6,      importance = T) \n",
       "               Type of random forest: regression\n",
       "                     Number of trees: 500\n",
       "No. of variables tried at each split: 6\n",
       "\n",
       "          Mean of squared residuals: 10.73175\n",
       "                    % Var explained: 86.59"
      ]
     },
     "metadata": {},
     "output_type": "display_data"
    }
   ],
   "source": [
    "set.seed(1)\n",
    "# 입력 변수는 6개\n",
    "rf.fit = randomForest(medv ~ ., data = Boston_train, mtry = 6, importance = T)\n",
    "rf.fit"
   ]
  },
  {
   "cell_type": "code",
   "execution_count": 117,
   "metadata": {},
   "outputs": [
    {
     "data": {
      "image/png": "[encoded data removed]",
      "text/plain": [
       "Plot with title \"rf.fit\""
      ]
     },
     "metadata": {},
     "output_type": "display_data"
    }
   ],
   "source": [
    "plot(rf.fit)"
   ]
  },
  {
   "cell_type": "code",
   "execution_count": 119,
   "metadata": {},
   "outputs": [
    {
     "data": {
      "text/html": [
       "<table>\n",
       "<thead><tr><th></th><th scope=col>%IncMSE</th><th scope=col>IncNodePurity</th></tr></thead>\n",
       "<tbody>\n",
       "\t<tr><th scope=row>crim</th><td>14.456856 </td><td>1539.98167</td></tr>\n",
       "\t<tr><th scope=row>zn</th><td> 3.127893 </td><td> 132.63237</td></tr>\n",
       "\t<tr><th scope=row>indus</th><td>11.667608 </td><td>1511.38790</td></tr>\n",
       "\t<tr><th scope=row>chas</th><td> 2.411280 </td><td>  61.56089</td></tr>\n",
       "\t<tr><th scope=row>nox</th><td>17.506839 </td><td>1181.65902</td></tr>\n",
       "\t<tr><th scope=row>rm</th><td>36.382657 </td><td>8659.73870</td></tr>\n",
       "\t<tr><th scope=row>age</th><td> 9.927984 </td><td> 648.85087</td></tr>\n",
       "\t<tr><th scope=row>dis</th><td>14.409945 </td><td>1740.71168</td></tr>\n",
       "\t<tr><th scope=row>rad</th><td> 3.516146 </td><td> 154.56343</td></tr>\n",
       "\t<tr><th scope=row>tax</th><td>13.306229 </td><td> 588.32093</td></tr>\n",
       "\t<tr><th scope=row>ptratio</th><td>15.072125 </td><td>1350.92130</td></tr>\n",
       "\t<tr><th scope=row>black</th><td> 7.526910 </td><td> 424.65217</td></tr>\n",
       "\t<tr><th scope=row>lstat</th><td>34.323286 </td><td>9902.37441</td></tr>\n",
       "</tbody>\n",
       "</table>\n"
      ],
      "text/latex": [
       "\\begin{tabular}{r|ll}\n",
       "  & \\%IncMSE & IncNodePurity\\\\\n",
       "\\hline\n",
       "\tcrim & 14.456856  & 1539.98167\\\\\n",
       "\tzn &  3.127893  &  132.63237\\\\\n",
       "\tindus & 11.667608  & 1511.38790\\\\\n",
       "\tchas &  2.411280  &   61.56089\\\\\n",
       "\tnox & 17.506839  & 1181.65902\\\\\n",
       "\trm & 36.382657  & 8659.73870\\\\\n",
       "\tage &  9.927984  &  648.85087\\\\\n",
       "\tdis & 14.409945  & 1740.71168\\\\\n",
       "\trad &  3.516146  &  154.56343\\\\\n",
       "\ttax & 13.306229  &  588.32093\\\\\n",
       "\tptratio & 15.072125  & 1350.92130\\\\\n",
       "\tblack &  7.526910  &  424.65217\\\\\n",
       "\tlstat & 34.323286  & 9902.37441\\\\\n",
       "\\end{tabular}\n"
      ],
      "text/markdown": [
       "\n",
       "| <!--/--> | %IncMSE | IncNodePurity |\n",
       "|---|---|---|\n",
       "| crim | 14.456856  | 1539.98167 |\n",
       "| zn |  3.127893  |  132.63237 |\n",
       "| indus | 11.667608  | 1511.38790 |\n",
       "| chas |  2.411280  |   61.56089 |\n",
       "| nox | 17.506839  | 1181.65902 |\n",
       "| rm | 36.382657  | 8659.73870 |\n",
       "| age |  9.927984  |  648.85087 |\n",
       "| dis | 14.409945  | 1740.71168 |\n",
       "| rad |  3.516146  |  154.56343 |\n",
       "| tax | 13.306229  |  588.32093 |\n",
       "| ptratio | 15.072125  | 1350.92130 |\n",
       "| black |  7.526910  |  424.65217 |\n",
       "| lstat | 34.323286  | 9902.37441 |\n",
       "\n"
      ],
      "text/plain": [
       "        %IncMSE   IncNodePurity\n",
       "crim    14.456856 1539.98167   \n",
       "zn       3.127893  132.63237   \n",
       "indus   11.667608 1511.38790   \n",
       "chas     2.411280   61.56089   \n",
       "nox     17.506839 1181.65902   \n",
       "rm      36.382657 8659.73870   \n",
       "age      9.927984  648.85087   \n",
       "dis     14.409945 1740.71168   \n",
       "rad      3.516146  154.56343   \n",
       "tax     13.306229  588.32093   \n",
       "ptratio 15.072125 1350.92130   \n",
       "black    7.526910  424.65217   \n",
       "lstat   34.323286 9902.37441   "
      ]
     },
     "metadata": {},
     "output_type": "display_data"
    }
   ],
   "source": [
    "# 노드를 결정할 때 가장 중요한 요인. 높을수록 중요하다.\n",
    "importance(rf.fit)"
   ]
  },
  {
   "cell_type": "code",
   "execution_count": 120,
   "metadata": {},
   "outputs": [
    {
     "data": {
      "image/png": "[encoded data removed]",
      "text/plain": [
       "plot without title"
      ]
     },
     "metadata": {},
     "output_type": "display_data"
    }
   ],
   "source": [
    "varImpPlot(rf.fit)"
   ]
  },
  {
   "cell_type": "code",
   "execution_count": 122,
   "metadata": {},
   "outputs": [
    {
     "data": {
      "text/html": [
       "12.260420685395"
      ],
      "text/latex": [
       "12.260420685395"
      ],
      "text/markdown": [
       "12.260420685395"
      ],
      "text/plain": [
       "[1] 12.26042"
      ]
     },
     "metadata": {},
     "output_type": "display_data"
    }
   ],
   "source": [
    "rf.yhat = predict(rf.fit, newdata = Boston_test)\n",
    "mean((rf.yhat - Boston_test$medv)^2)"
   ]
  },
  {
   "cell_type": "code",
   "execution_count": 123,
   "metadata": {},
   "outputs": [
    {
     "data": {
      "text/html": [
       "3.50148835288582"
      ],
      "text/latex": [
       "3.50148835288582"
      ],
      "text/markdown": [
       "3.50148835288582"
      ],
      "text/plain": [
       "[1] 3.501488"
      ]
     },
     "metadata": {},
     "output_type": "display_data"
    }
   ],
   "source": [
    "kk = mean((rf.yhat - Boston_test$medv)^2)\n",
    "sqrt(kk)"
   ]
  },
  {
   "cell_type": "markdown",
   "metadata": {},
   "source": [
    "# 자율학습 모델(unsupervised Model)"
   ]
  },
  {
   "cell_type": "markdown",
   "metadata": {},
   "source": [
    "## K - means Model method"
   ]
  },
  {
   "cell_type": "code",
   "execution_count": 132,
   "metadata": {},
   "outputs": [
    {
     "data": {
      "text/html": [
       "<table>\n",
       "<thead><tr><th scope=col>Sepal.Length</th><th scope=col>Sepal.Width</th><th scope=col>Petal.Length</th><th scope=col>Petal.Width</th></tr></thead>\n",
       "<tbody>\n",
       "\t<tr><td>5.1</td><td>3.5</td><td>1.4</td><td>0.2</td></tr>\n",
       "\t<tr><td>4.9</td><td>3.0</td><td>1.4</td><td>0.2</td></tr>\n",
       "\t<tr><td>4.7</td><td>3.2</td><td>1.3</td><td>0.2</td></tr>\n",
       "\t<tr><td>4.6</td><td>3.1</td><td>1.5</td><td>0.2</td></tr>\n",
       "\t<tr><td>5.0</td><td>3.6</td><td>1.4</td><td>0.2</td></tr>\n",
       "\t<tr><td>5.4</td><td>3.9</td><td>1.7</td><td>0.4</td></tr>\n",
       "</tbody>\n",
       "</table>\n"
      ],
      "text/latex": [
       "\\begin{tabular}{r|llll}\n",
       " Sepal.Length & Sepal.Width & Petal.Length & Petal.Width\\\\\n",
       "\\hline\n",
       "\t 5.1 & 3.5 & 1.4 & 0.2\\\\\n",
       "\t 4.9 & 3.0 & 1.4 & 0.2\\\\\n",
       "\t 4.7 & 3.2 & 1.3 & 0.2\\\\\n",
       "\t 4.6 & 3.1 & 1.5 & 0.2\\\\\n",
       "\t 5.0 & 3.6 & 1.4 & 0.2\\\\\n",
       "\t 5.4 & 3.9 & 1.7 & 0.4\\\\\n",
       "\\end{tabular}\n"
      ],
      "text/markdown": [
       "\n",
       "| Sepal.Length | Sepal.Width | Petal.Length | Petal.Width |\n",
       "|---|---|---|---|\n",
       "| 5.1 | 3.5 | 1.4 | 0.2 |\n",
       "| 4.9 | 3.0 | 1.4 | 0.2 |\n",
       "| 4.7 | 3.2 | 1.3 | 0.2 |\n",
       "| 4.6 | 3.1 | 1.5 | 0.2 |\n",
       "| 5.0 | 3.6 | 1.4 | 0.2 |\n",
       "| 5.4 | 3.9 | 1.7 | 0.4 |\n",
       "\n"
      ],
      "text/plain": [
       "  Sepal.Length Sepal.Width Petal.Length Petal.Width\n",
       "1 5.1          3.5         1.4          0.2        \n",
       "2 4.9          3.0         1.4          0.2        \n",
       "3 4.7          3.2         1.3          0.2        \n",
       "4 4.6          3.1         1.5          0.2        \n",
       "5 5.0          3.6         1.4          0.2        \n",
       "6 5.4          3.9         1.7          0.4        "
      ]
     },
     "metadata": {},
     "output_type": "display_data"
    }
   ],
   "source": [
    "iris2 = iris[, 1:4]\n",
    "head(iris2)"
   ]
  },
  {
   "cell_type": "code",
   "execution_count": 133,
   "metadata": {},
   "outputs": [],
   "source": [
    "km.out.withness = c()\n",
    "km.out.between = c()"
   ]
  },
  {
   "cell_type": "code",
   "execution_count": 136,
   "metadata": {},
   "outputs": [],
   "source": [
    "kk = c()"
   ]
  },
  {
   "cell_type": "code",
   "execution_count": 139,
   "metadata": {},
   "outputs": [],
   "source": [
    "for(i in 2:7){\n",
    "    set.seed(1)\n",
    "    km.out = kmeans(iris2, center = i)\n",
    "    km.out.withness[i - 1] = km.out$tot.withinss\n",
    "    km.out.between[i - 1] = km.out$betweenss\n",
    "    kk = c(kk, (paste0('k=', i)))\n",
    "}"
   ]
  },
  {
   "cell_type": "code",
   "execution_count": 145,
   "metadata": {},
   "outputs": [
    {
     "data": {
      "text/html": [
       "<table>\n",
       "<thead><tr><th scope=col>km.out.withness</th><th scope=col>km.out.between</th></tr></thead>\n",
       "<tbody>\n",
       "\t<tr><td>152.34795</td><td>529.0226 </td></tr>\n",
       "\t<tr><td> 78.85144</td><td>602.5192 </td></tr>\n",
       "\t<tr><td> 71.44525</td><td>609.9254 </td></tr>\n",
       "\t<tr><td> 49.82228</td><td>631.5483 </td></tr>\n",
       "\t<tr><td> 42.42155</td><td>638.9491 </td></tr>\n",
       "\t<tr><td> 40.63219</td><td>640.7384 </td></tr>\n",
       "</tbody>\n",
       "</table>\n"
      ],
      "text/latex": [
       "\\begin{tabular}{r|ll}\n",
       " km.out.withness & km.out.between\\\\\n",
       "\\hline\n",
       "\t 152.34795 & 529.0226 \\\\\n",
       "\t  78.85144 & 602.5192 \\\\\n",
       "\t  71.44525 & 609.9254 \\\\\n",
       "\t  49.82228 & 631.5483 \\\\\n",
       "\t  42.42155 & 638.9491 \\\\\n",
       "\t  40.63219 & 640.7384 \\\\\n",
       "\\end{tabular}\n"
      ],
      "text/markdown": [
       "\n",
       "| km.out.withness | km.out.between |\n",
       "|---|---|\n",
       "| 152.34795 | 529.0226  |\n",
       "|  78.85144 | 602.5192  |\n",
       "|  71.44525 | 609.9254  |\n",
       "|  49.82228 | 631.5483  |\n",
       "|  42.42155 | 638.9491  |\n",
       "|  40.63219 | 640.7384  |\n",
       "\n"
      ],
      "text/plain": [
       "  km.out.withness km.out.between\n",
       "1 152.34795       529.0226      \n",
       "2  78.85144       602.5192      \n",
       "3  71.44525       609.9254      \n",
       "4  49.82228       631.5483      \n",
       "5  42.42155       638.9491      \n",
       "6  40.63219       640.7384      "
      ]
     },
     "metadata": {},
     "output_type": "display_data"
    }
   ],
   "source": [
    "tt = data.frame(km.out.withness, km.out.between)\n",
    "tt"
   ]
  },
  {
   "cell_type": "code",
   "execution_count": 146,
   "metadata": {},
   "outputs": [
    {
     "name": "stderr",
     "output_type": "stream",
     "text": [
      "Warning message in plot.window(...):\n",
      "\"\"kk\"는 그래픽 매개변수가 아닙니다\"Warning message in plot.xy(xy, type, ...):\n",
      "\"\"kk\"는 그래픽 매개변수가 아닙니다\"Warning message in axis(side = side, at = at, labels = labels, ...):\n",
      "\"\"kk\"는 그래픽 매개변수가 아닙니다\"Warning message in axis(side = side, at = at, labels = labels, ...):\n",
      "\"\"kk\"는 그래픽 매개변수가 아닙니다\"Warning message in box(...):\n",
      "\"\"kk\"는 그래픽 매개변수가 아닙니다\"Warning message in title(...):\n",
      "\"\"kk\"는 그래픽 매개변수가 아닙니다\"Warning message in plot.window(...):\n",
      "\"\"kk\"는 그래픽 매개변수가 아닙니다\"Warning message in plot.xy(xy, type, ...):\n",
      "\"\"kk\"는 그래픽 매개변수가 아닙니다\"Warning message in axis(side = side, at = at, labels = labels, ...):\n",
      "\"\"kk\"는 그래픽 매개변수가 아닙니다\"Warning message in axis(side = side, at = at, labels = labels, ...):\n",
      "\"\"kk\"는 그래픽 매개변수가 아닙니다\"Warning message in box(...):\n",
      "\"\"kk\"는 그래픽 매개변수가 아닙니다\"Warning message in title(...):\n",
      "\"\"kk\"는 그래픽 매개변수가 아닙니다\""
     ]
    },
    {
     "data": {
      "image/png": "[encoded data removed]",
      "text/plain": [
       "plot without title"
      ]
     },
     "metadata": {},
     "output_type": "display_data"
    }
   ],
   "source": [
    "par(mfrow = c(1, 2))\n",
    "plot(kk = c(1:7), tt$km.out.withness, type = 'b')\n",
    "plot(kk = c(1:7), tt$km.out.between, type = 'b')"
   ]
  },
  {
   "cell_type": "code",
   "execution_count": 147,
   "metadata": {},
   "outputs": [
    {
     "data": {
      "text/html": [
       "<table>\n",
       "<thead><tr><th scope=col>Sepal.Length</th><th scope=col>Sepal.Width</th><th scope=col>Petal.Length</th><th scope=col>Petal.Width</th></tr></thead>\n",
       "<tbody>\n",
       "\t<tr><td>6.850000</td><td>3.073684</td><td>5.742105</td><td>2.071053</td></tr>\n",
       "\t<tr><td>5.901613</td><td>2.748387</td><td>4.393548</td><td>1.433871</td></tr>\n",
       "\t<tr><td>5.006000</td><td>3.428000</td><td>1.462000</td><td>0.246000</td></tr>\n",
       "</tbody>\n",
       "</table>\n"
      ],
      "text/latex": [
       "\\begin{tabular}{r|llll}\n",
       " Sepal.Length & Sepal.Width & Petal.Length & Petal.Width\\\\\n",
       "\\hline\n",
       "\t 6.850000 & 3.073684 & 5.742105 & 2.071053\\\\\n",
       "\t 5.901613 & 2.748387 & 4.393548 & 1.433871\\\\\n",
       "\t 5.006000 & 3.428000 & 1.462000 & 0.246000\\\\\n",
       "\\end{tabular}\n"
      ],
      "text/markdown": [
       "\n",
       "| Sepal.Length | Sepal.Width | Petal.Length | Petal.Width |\n",
       "|---|---|---|---|\n",
       "| 6.850000 | 3.073684 | 5.742105 | 2.071053 |\n",
       "| 5.901613 | 2.748387 | 4.393548 | 1.433871 |\n",
       "| 5.006000 | 3.428000 | 1.462000 | 0.246000 |\n",
       "\n"
      ],
      "text/plain": [
       "  Sepal.Length Sepal.Width Petal.Length Petal.Width\n",
       "1 6.850000     3.073684    5.742105     2.071053   \n",
       "2 5.901613     2.748387    4.393548     1.433871   \n",
       "3 5.006000     3.428000    1.462000     0.246000   "
      ]
     },
     "metadata": {},
     "output_type": "display_data"
    }
   ],
   "source": [
    "km.out.k3 = kmeans(iris2, centers = 3)\n",
    "km.out.k3$centers"
   ]
  },
  {
   "cell_type": "code",
   "execution_count": 148,
   "metadata": {},
   "outputs": [
    {
     "data": {
      "text/html": [
       "<ol class=list-inline>\n",
       "\t<li>3</li>\n",
       "\t<li>3</li>\n",
       "\t<li>3</li>\n",
       "\t<li>3</li>\n",
       "\t<li>3</li>\n",
       "\t<li>3</li>\n",
       "\t<li>3</li>\n",
       "\t<li>3</li>\n",
       "\t<li>3</li>\n",
       "\t<li>3</li>\n",
       "\t<li>3</li>\n",
       "\t<li>3</li>\n",
       "\t<li>3</li>\n",
       "\t<li>3</li>\n",
       "\t<li>3</li>\n",
       "\t<li>3</li>\n",
       "\t<li>3</li>\n",
       "\t<li>3</li>\n",
       "\t<li>3</li>\n",
       "\t<li>3</li>\n",
       "\t<li>3</li>\n",
       "\t<li>3</li>\n",
       "\t<li>3</li>\n",
       "\t<li>3</li>\n",
       "\t<li>3</li>\n",
       "\t<li>3</li>\n",
       "\t<li>3</li>\n",
       "\t<li>3</li>\n",
       "\t<li>3</li>\n",
       "\t<li>3</li>\n",
       "\t<li>3</li>\n",
       "\t<li>3</li>\n",
       "\t<li>3</li>\n",
       "\t<li>3</li>\n",
       "\t<li>3</li>\n",
       "\t<li>3</li>\n",
       "\t<li>3</li>\n",
       "\t<li>3</li>\n",
       "\t<li>3</li>\n",
       "\t<li>3</li>\n",
       "\t<li>3</li>\n",
       "\t<li>3</li>\n",
       "\t<li>3</li>\n",
       "\t<li>3</li>\n",
       "\t<li>3</li>\n",
       "\t<li>3</li>\n",
       "\t<li>3</li>\n",
       "\t<li>3</li>\n",
       "\t<li>3</li>\n",
       "\t<li>3</li>\n",
       "\t<li>2</li>\n",
       "\t<li>2</li>\n",
       "\t<li>1</li>\n",
       "\t<li>2</li>\n",
       "\t<li>2</li>\n",
       "\t<li>2</li>\n",
       "\t<li>2</li>\n",
       "\t<li>2</li>\n",
       "\t<li>2</li>\n",
       "\t<li>2</li>\n",
       "\t<li>2</li>\n",
       "\t<li>2</li>\n",
       "\t<li>2</li>\n",
       "\t<li>2</li>\n",
       "\t<li>2</li>\n",
       "\t<li>2</li>\n",
       "\t<li>2</li>\n",
       "\t<li>2</li>\n",
       "\t<li>2</li>\n",
       "\t<li>2</li>\n",
       "\t<li>2</li>\n",
       "\t<li>2</li>\n",
       "\t<li>2</li>\n",
       "\t<li>2</li>\n",
       "\t<li>2</li>\n",
       "\t<li>2</li>\n",
       "\t<li>2</li>\n",
       "\t<li>1</li>\n",
       "\t<li>2</li>\n",
       "\t<li>2</li>\n",
       "\t<li>2</li>\n",
       "\t<li>2</li>\n",
       "\t<li>2</li>\n",
       "\t<li>2</li>\n",
       "\t<li>2</li>\n",
       "\t<li>2</li>\n",
       "\t<li>2</li>\n",
       "\t<li>2</li>\n",
       "\t<li>2</li>\n",
       "\t<li>2</li>\n",
       "\t<li>2</li>\n",
       "\t<li>2</li>\n",
       "\t<li>2</li>\n",
       "\t<li>2</li>\n",
       "\t<li>2</li>\n",
       "\t<li>2</li>\n",
       "\t<li>2</li>\n",
       "\t<li>2</li>\n",
       "\t<li>2</li>\n",
       "\t<li>2</li>\n",
       "\t<li>1</li>\n",
       "\t<li>2</li>\n",
       "\t<li>1</li>\n",
       "\t<li>1</li>\n",
       "\t<li>1</li>\n",
       "\t<li>1</li>\n",
       "\t<li>2</li>\n",
       "\t<li>1</li>\n",
       "\t<li>1</li>\n",
       "\t<li>1</li>\n",
       "\t<li>1</li>\n",
       "\t<li>1</li>\n",
       "\t<li>1</li>\n",
       "\t<li>2</li>\n",
       "\t<li>2</li>\n",
       "\t<li>1</li>\n",
       "\t<li>1</li>\n",
       "\t<li>1</li>\n",
       "\t<li>1</li>\n",
       "\t<li>2</li>\n",
       "\t<li>1</li>\n",
       "\t<li>2</li>\n",
       "\t<li>1</li>\n",
       "\t<li>2</li>\n",
       "\t<li>1</li>\n",
       "\t<li>1</li>\n",
       "\t<li>2</li>\n",
       "\t<li>2</li>\n",
       "\t<li>1</li>\n",
       "\t<li>1</li>\n",
       "\t<li>1</li>\n",
       "\t<li>1</li>\n",
       "\t<li>1</li>\n",
       "\t<li>2</li>\n",
       "\t<li>1</li>\n",
       "\t<li>1</li>\n",
       "\t<li>1</li>\n",
       "\t<li>1</li>\n",
       "\t<li>2</li>\n",
       "\t<li>1</li>\n",
       "\t<li>1</li>\n",
       "\t<li>1</li>\n",
       "\t<li>2</li>\n",
       "\t<li>1</li>\n",
       "\t<li>1</li>\n",
       "\t<li>1</li>\n",
       "\t<li>2</li>\n",
       "\t<li>1</li>\n",
       "\t<li>1</li>\n",
       "\t<li>2</li>\n",
       "</ol>\n"
      ],
      "text/latex": [
       "\\begin{enumerate*}\n",
       "\\item 3\n",
       "\\item 3\n",
       "\\item 3\n",
       "\\item 3\n",
       "\\item 3\n",
       "\\item 3\n",
       "\\item 3\n",
       "\\item 3\n",
       "\\item 3\n",
       "\\item 3\n",
       "\\item 3\n",
       "\\item 3\n",
       "\\item 3\n",
       "\\item 3\n",
       "\\item 3\n",
       "\\item 3\n",
       "\\item 3\n",
       "\\item 3\n",
       "\\item 3\n",
       "\\item 3\n",
       "\\item 3\n",
       "\\item 3\n",
       "\\item 3\n",
       "\\item 3\n",
       "\\item 3\n",
       "\\item 3\n",
       "\\item 3\n",
       "\\item 3\n",
       "\\item 3\n",
       "\\item 3\n",
       "\\item 3\n",
       "\\item 3\n",
       "\\item 3\n",
       "\\item 3\n",
       "\\item 3\n",
       "\\item 3\n",
       "\\item 3\n",
       "\\item 3\n",
       "\\item 3\n",
       "\\item 3\n",
       "\\item 3\n",
       "\\item 3\n",
       "\\item 3\n",
       "\\item 3\n",
       "\\item 3\n",
       "\\item 3\n",
       "\\item 3\n",
       "\\item 3\n",
       "\\item 3\n",
       "\\item 3\n",
       "\\item 2\n",
       "\\item 2\n",
       "\\item 1\n",
       "\\item 2\n",
       "\\item 2\n",
       "\\item 2\n",
       "\\item 2\n",
       "\\item 2\n",
       "\\item 2\n",
       "\\item 2\n",
       "\\item 2\n",
       "\\item 2\n",
       "\\item 2\n",
       "\\item 2\n",
       "\\item 2\n",
       "\\item 2\n",
       "\\item 2\n",
       "\\item 2\n",
       "\\item 2\n",
       "\\item 2\n",
       "\\item 2\n",
       "\\item 2\n",
       "\\item 2\n",
       "\\item 2\n",
       "\\item 2\n",
       "\\item 2\n",
       "\\item 2\n",
       "\\item 1\n",
       "\\item 2\n",
       "\\item 2\n",
       "\\item 2\n",
       "\\item 2\n",
       "\\item 2\n",
       "\\item 2\n",
       "\\item 2\n",
       "\\item 2\n",
       "\\item 2\n",
       "\\item 2\n",
       "\\item 2\n",
       "\\item 2\n",
       "\\item 2\n",
       "\\item 2\n",
       "\\item 2\n",
       "\\item 2\n",
       "\\item 2\n",
       "\\item 2\n",
       "\\item 2\n",
       "\\item 2\n",
       "\\item 2\n",
       "\\item 2\n",
       "\\item 1\n",
       "\\item 2\n",
       "\\item 1\n",
       "\\item 1\n",
       "\\item 1\n",
       "\\item 1\n",
       "\\item 2\n",
       "\\item 1\n",
       "\\item 1\n",
       "\\item 1\n",
       "\\item 1\n",
       "\\item 1\n",
       "\\item 1\n",
       "\\item 2\n",
       "\\item 2\n",
       "\\item 1\n",
       "\\item 1\n",
       "\\item 1\n",
       "\\item 1\n",
       "\\item 2\n",
       "\\item 1\n",
       "\\item 2\n",
       "\\item 1\n",
       "\\item 2\n",
       "\\item 1\n",
       "\\item 1\n",
       "\\item 2\n",
       "\\item 2\n",
       "\\item 1\n",
       "\\item 1\n",
       "\\item 1\n",
       "\\item 1\n",
       "\\item 1\n",
       "\\item 2\n",
       "\\item 1\n",
       "\\item 1\n",
       "\\item 1\n",
       "\\item 1\n",
       "\\item 2\n",
       "\\item 1\n",
       "\\item 1\n",
       "\\item 1\n",
       "\\item 2\n",
       "\\item 1\n",
       "\\item 1\n",
       "\\item 1\n",
       "\\item 2\n",
       "\\item 1\n",
       "\\item 1\n",
       "\\item 2\n",
       "\\end{enumerate*}\n"
      ],
      "text/markdown": [
       "1. 3\n",
       "2. 3\n",
       "3. 3\n",
       "4. 3\n",
       "5. 3\n",
       "6. 3\n",
       "7. 3\n",
       "8. 3\n",
       "9. 3\n",
       "10. 3\n",
       "11. 3\n",
       "12. 3\n",
       "13. 3\n",
       "14. 3\n",
       "15. 3\n",
       "16. 3\n",
       "17. 3\n",
       "18. 3\n",
       "19. 3\n",
       "20. 3\n",
       "21. 3\n",
       "22. 3\n",
       "23. 3\n",
       "24. 3\n",
       "25. 3\n",
       "26. 3\n",
       "27. 3\n",
       "28. 3\n",
       "29. 3\n",
       "30. 3\n",
       "31. 3\n",
       "32. 3\n",
       "33. 3\n",
       "34. 3\n",
       "35. 3\n",
       "36. 3\n",
       "37. 3\n",
       "38. 3\n",
       "39. 3\n",
       "40. 3\n",
       "41. 3\n",
       "42. 3\n",
       "43. 3\n",
       "44. 3\n",
       "45. 3\n",
       "46. 3\n",
       "47. 3\n",
       "48. 3\n",
       "49. 3\n",
       "50. 3\n",
       "51. 2\n",
       "52. 2\n",
       "53. 1\n",
       "54. 2\n",
       "55. 2\n",
       "56. 2\n",
       "57. 2\n",
       "58. 2\n",
       "59. 2\n",
       "60. 2\n",
       "61. 2\n",
       "62. 2\n",
       "63. 2\n",
       "64. 2\n",
       "65. 2\n",
       "66. 2\n",
       "67. 2\n",
       "68. 2\n",
       "69. 2\n",
       "70. 2\n",
       "71. 2\n",
       "72. 2\n",
       "73. 2\n",
       "74. 2\n",
       "75. 2\n",
       "76. 2\n",
       "77. 2\n",
       "78. 1\n",
       "79. 2\n",
       "80. 2\n",
       "81. 2\n",
       "82. 2\n",
       "83. 2\n",
       "84. 2\n",
       "85. 2\n",
       "86. 2\n",
       "87. 2\n",
       "88. 2\n",
       "89. 2\n",
       "90. 2\n",
       "91. 2\n",
       "92. 2\n",
       "93. 2\n",
       "94. 2\n",
       "95. 2\n",
       "96. 2\n",
       "97. 2\n",
       "98. 2\n",
       "99. 2\n",
       "100. 2\n",
       "101. 1\n",
       "102. 2\n",
       "103. 1\n",
       "104. 1\n",
       "105. 1\n",
       "106. 1\n",
       "107. 2\n",
       "108. 1\n",
       "109. 1\n",
       "110. 1\n",
       "111. 1\n",
       "112. 1\n",
       "113. 1\n",
       "114. 2\n",
       "115. 2\n",
       "116. 1\n",
       "117. 1\n",
       "118. 1\n",
       "119. 1\n",
       "120. 2\n",
       "121. 1\n",
       "122. 2\n",
       "123. 1\n",
       "124. 2\n",
       "125. 1\n",
       "126. 1\n",
       "127. 2\n",
       "128. 2\n",
       "129. 1\n",
       "130. 1\n",
       "131. 1\n",
       "132. 1\n",
       "133. 1\n",
       "134. 2\n",
       "135. 1\n",
       "136. 1\n",
       "137. 1\n",
       "138. 1\n",
       "139. 2\n",
       "140. 1\n",
       "141. 1\n",
       "142. 1\n",
       "143. 2\n",
       "144. 1\n",
       "145. 1\n",
       "146. 1\n",
       "147. 2\n",
       "148. 1\n",
       "149. 1\n",
       "150. 2\n",
       "\n",
       "\n"
      ],
      "text/plain": [
       "  [1] 3 3 3 3 3 3 3 3 3 3 3 3 3 3 3 3 3 3 3 3 3 3 3 3 3 3 3 3 3 3 3 3 3 3 3 3 3\n",
       " [38] 3 3 3 3 3 3 3 3 3 3 3 3 3 2 2 1 2 2 2 2 2 2 2 2 2 2 2 2 2 2 2 2 2 2 2 2 2\n",
       " [75] 2 2 2 1 2 2 2 2 2 2 2 2 2 2 2 2 2 2 2 2 2 2 2 2 2 2 1 2 1 1 1 1 2 1 1 1 1\n",
       "[112] 1 1 2 2 1 1 1 1 2 1 2 1 2 1 1 2 2 1 1 1 1 1 2 1 1 1 1 2 1 1 1 2 1 1 1 2 1\n",
       "[149] 1 2"
      ]
     },
     "metadata": {},
     "output_type": "display_data"
    }
   ],
   "source": [
    "km.out.k3$cluster"
   ]
  },
  {
   "cell_type": "code",
   "execution_count": 149,
   "metadata": {},
   "outputs": [
    {
     "data": {
      "text/html": [
       "<ol class=list-inline>\n",
       "\t<li>38</li>\n",
       "\t<li>62</li>\n",
       "\t<li>50</li>\n",
       "</ol>\n"
      ],
      "text/latex": [
       "\\begin{enumerate*}\n",
       "\\item 38\n",
       "\\item 62\n",
       "\\item 50\n",
       "\\end{enumerate*}\n"
      ],
      "text/markdown": [
       "1. 38\n",
       "2. 62\n",
       "3. 50\n",
       "\n",
       "\n"
      ],
      "text/plain": [
       "[1] 38 62 50"
      ]
     },
     "metadata": {},
     "output_type": "display_data"
    }
   ],
   "source": [
    "km.out.k3$size"
   ]
  },
  {
   "cell_type": "code",
   "execution_count": 150,
   "metadata": {},
   "outputs": [
    {
     "data": {
      "text/plain": [
       "   \n",
       "    setosa versicolor virginica\n",
       "  1      0          2        36\n",
       "  2      0         48        14\n",
       "  3     50          0         0"
      ]
     },
     "metadata": {},
     "output_type": "display_data"
    }
   ],
   "source": [
    "table(km.out.k3$cluster, iris$Species)"
   ]
  },
  {
   "cell_type": "code",
   "execution_count": 154,
   "metadata": {},
   "outputs": [
    {
     "ename": "ERROR",
     "evalue": "Error in point(km.out.k3$centers, col = 1:3, pch = 16, 17, 18, cex = 5): 함수 \"point\"를 찾을 수 없습니다\n",
     "output_type": "error",
     "traceback": [
      "Error in point(km.out.k3$centers, col = 1:3, pch = 16, 17, 18, cex = 5): 함수 \"point\"를 찾을 수 없습니다\nTraceback:\n"
     ]
    },
    {
     "data": {
      "image/png": "[encoded data removed]",
      "text/plain": [
       "plot without title"
      ]
     },
     "metadata": {},
     "output_type": "display_data"
    }
   ],
   "source": [
    "plot(iris2[,1:2], col = km.out.k3$cluster, pch = ifelse(km.out.k3$cluster == 1, 16, ifelse(km.out.k3$cluster == 2, 17, 18)), cex = 2)\n",
    "point(km.out.k3$centers, col = 1:3, pch = 16, 17, 18, cex = 5)"
   ]
  },
  {
   "cell_type": "markdown",
   "metadata": {},
   "source": [
    "# USArrests"
   ]
  },
  {
   "cell_type": "code",
   "execution_count": 155,
   "metadata": {},
   "outputs": [
    {
     "data": {
      "image/png": "[encoded data removed]",
      "text/plain": [
       "Plot with title \"pc1\""
      ]
     },
     "metadata": {},
     "output_type": "display_data"
    }
   ],
   "source": [
    "pc1 = princomp(USArrests, cor = T)\n",
    "plot(pc1)"
   ]
  },
  {
   "cell_type": "code",
   "execution_count": 156,
   "metadata": {},
   "outputs": [
    {
     "data": {
      "text/plain": [
       "Importance of components:\n",
       "                          Comp.1    Comp.2    Comp.3     Comp.4\n",
       "Standard deviation     1.5748783 0.9948694 0.5971291 0.41644938\n",
       "Proportion of Variance 0.6200604 0.2474413 0.0891408 0.04335752\n",
       "Cumulative Proportion  0.6200604 0.8675017 0.9566425 1.00000000"
      ]
     },
     "metadata": {},
     "output_type": "display_data"
    }
   ],
   "source": [
    "summary(pc1)"
   ]
  },
  {
   "cell_type": "code",
   "execution_count": 157,
   "metadata": {},
   "outputs": [
    {
     "data": {
      "text/html": [
       "<dl class=dl-horizontal>\n",
       "\t<dt>Murder</dt>\n",
       "\t\t<dd>7.788</dd>\n",
       "\t<dt>Assault</dt>\n",
       "\t\t<dd>170.76</dd>\n",
       "\t<dt>UrbanPop</dt>\n",
       "\t\t<dd>65.54</dd>\n",
       "\t<dt>Rape</dt>\n",
       "\t\t<dd>21.232</dd>\n",
       "</dl>\n"
      ],
      "text/latex": [
       "\\begin{description*}\n",
       "\\item[Murder] 7.788\n",
       "\\item[Assault] 170.76\n",
       "\\item[UrbanPop] 65.54\n",
       "\\item[Rape] 21.232\n",
       "\\end{description*}\n"
      ],
      "text/markdown": [
       "Murder\n",
       ":   7.788Assault\n",
       ":   170.76UrbanPop\n",
       ":   65.54Rape\n",
       ":   21.232\n",
       "\n"
      ],
      "text/plain": [
       "  Murder  Assault UrbanPop     Rape \n",
       "   7.788  170.760   65.540   21.232 "
      ]
     },
     "metadata": {},
     "output_type": "display_data"
    }
   ],
   "source": [
    "pc1$center"
   ]
  },
  {
   "cell_type": "code",
   "execution_count": 159,
   "metadata": {},
   "outputs": [
    {
     "data": {
      "text/html": [
       "<dl class=dl-horizontal>\n",
       "\t<dt>Murder</dt>\n",
       "\t\t<dd>4.31173468571525</dd>\n",
       "\t<dt>Assault</dt>\n",
       "\t\t<dd>82.5000751514809</dd>\n",
       "\t<dt>UrbanPop</dt>\n",
       "\t\t<dd>14.3292846995236</dd>\n",
       "\t<dt>Rape</dt>\n",
       "\t\t<dd>9.27224762395828</dd>\n",
       "</dl>\n"
      ],
      "text/latex": [
       "\\begin{description*}\n",
       "\\item[Murder] 4.31173468571525\n",
       "\\item[Assault] 82.5000751514809\n",
       "\\item[UrbanPop] 14.3292846995236\n",
       "\\item[Rape] 9.27224762395828\n",
       "\\end{description*}\n"
      ],
      "text/markdown": [
       "Murder\n",
       ":   4.31173468571525Assault\n",
       ":   82.5000751514809UrbanPop\n",
       ":   14.3292846995236Rape\n",
       ":   9.27224762395828\n",
       "\n"
      ],
      "text/plain": [
       "   Murder   Assault  UrbanPop      Rape \n",
       " 4.311735 82.500075 14.329285  9.272248 "
      ]
     },
     "metadata": {},
     "output_type": "display_data"
    }
   ],
   "source": [
    "# 표준편차\n",
    "pc1$scale"
   ]
  },
  {
   "cell_type": "code",
   "execution_count": 161,
   "metadata": {},
   "outputs": [
    {
     "data": {
      "text/plain": [
       "\n",
       "Loadings:\n",
       "         Comp.1 Comp.2 Comp.3 Comp.4\n",
       "Murder    0.536  0.418  0.341  0.649\n",
       "Assault   0.583  0.188  0.268 -0.743\n",
       "UrbanPop  0.278 -0.873  0.378  0.134\n",
       "Rape      0.543 -0.167 -0.818       \n",
       "\n",
       "               Comp.1 Comp.2 Comp.3 Comp.4\n",
       "SS loadings      1.00   1.00   1.00   1.00\n",
       "Proportion Var   0.25   0.25   0.25   0.25\n",
       "Cumulative Var   0.25   0.50   0.75   1.00"
      ]
     },
     "metadata": {},
     "output_type": "display_data"
    }
   ],
   "source": [
    "pc1$loadings"
   ]
  },
  {
   "cell_type": "code",
   "execution_count": 162,
   "metadata": {},
   "outputs": [
    {
     "data": {
      "text/html": [
       "<table>\n",
       "<thead><tr><th></th><th scope=col>Comp.1</th><th scope=col>Comp.2</th><th scope=col>Comp.3</th><th scope=col>Comp.4</th></tr></thead>\n",
       "<tbody>\n",
       "\t<tr><th scope=row>Alabama</th><td> 0.98556588 </td><td> 1.13339238 </td><td> 0.44426879 </td><td> 0.156267145</td></tr>\n",
       "\t<tr><th scope=row>Alaska</th><td> 1.95013775 </td><td> 1.07321326 </td><td>-2.04000333 </td><td>-0.438583440</td></tr>\n",
       "\t<tr><th scope=row>Arizona</th><td> 1.76316354 </td><td>-0.74595678 </td><td>-0.05478082 </td><td>-0.834652924</td></tr>\n",
       "\t<tr><th scope=row>Arkansas</th><td>-0.14142029 </td><td> 1.11979678 </td><td>-0.11457369 </td><td>-0.182810896</td></tr>\n",
       "\t<tr><th scope=row>California</th><td> 2.52398013 </td><td>-1.54293399 </td><td>-0.59855680 </td><td>-0.341996478</td></tr>\n",
       "\t<tr><th scope=row>Colorado</th><td> 1.51456286 </td><td>-0.98755509 </td><td>-1.09500699 </td><td> 0.001464887</td></tr>\n",
       "\t<tr><th scope=row>Connecticut</th><td>-1.35864746 </td><td>-1.08892789 </td><td> 0.64325757 </td><td>-0.118469414</td></tr>\n",
       "\t<tr><th scope=row>Delaware</th><td> 0.04770931 </td><td>-0.32535892 </td><td> 0.71863294 </td><td>-0.881977637</td></tr>\n",
       "\t<tr><th scope=row>Florida</th><td> 3.01304227 </td><td> 0.03922851 </td><td> 0.57682949 </td><td>-0.096284752</td></tr>\n",
       "\t<tr><th scope=row>Georgia</th><td> 1.63928304 </td><td> 1.27894240 </td><td> 0.34246008 </td><td> 1.076796812</td></tr>\n",
       "\t<tr><th scope=row>Hawaii</th><td>-0.91265715 </td><td>-1.57046001 </td><td>-0.05078189 </td><td> 0.902806864</td></tr>\n",
       "\t<tr><th scope=row>Idaho</th><td>-1.63979985 </td><td> 0.21097292 </td><td>-0.25980134 </td><td>-0.499104101</td></tr>\n",
       "\t<tr><th scope=row>Illinois</th><td> 1.37891072 </td><td>-0.68184119 </td><td> 0.67749564 </td><td>-0.122021292</td></tr>\n",
       "\t<tr><th scope=row>Indiana</th><td>-0.50546136 </td><td>-0.15156254 </td><td>-0.22805484 </td><td> 0.424665700</td></tr>\n",
       "\t<tr><th scope=row>Iowa</th><td>-2.25364607 </td><td>-0.10405407 </td><td>-0.16456432 </td><td> 0.017555916</td></tr>\n",
       "\t<tr><th scope=row>Kansas</th><td>-0.79688112 </td><td>-0.27016470 </td><td>-0.02555331 </td><td> 0.206496428</td></tr>\n",
       "\t<tr><th scope=row>Kentucky</th><td>-0.75085907 </td><td> 0.95844029 </td><td> 0.02836942 </td><td> 0.670556671</td></tr>\n",
       "\t<tr><th scope=row>Louisiana</th><td> 1.56481798 </td><td> 0.87105466 </td><td> 0.78348036 </td><td> 0.454728038</td></tr>\n",
       "\t<tr><th scope=row>Maine</th><td>-2.39682949 </td><td> 0.37639158 </td><td> 0.06568239 </td><td>-0.330459817</td></tr>\n",
       "\t<tr><th scope=row>Maryland</th><td> 1.76336939 </td><td> 0.42765519 </td><td> 0.15725013 </td><td>-0.559069521</td></tr>\n",
       "\t<tr><th scope=row>Massachusetts</th><td>-0.48616629 </td><td>-1.47449650 </td><td> 0.60949748 </td><td>-0.179598963</td></tr>\n",
       "\t<tr><th scope=row>Michigan</th><td> 2.10844115 </td><td>-0.15539682 </td><td>-0.38486858 </td><td> 0.102372019</td></tr>\n",
       "\t<tr><th scope=row>Minnesota</th><td>-1.69268181 </td><td>-0.63226125 </td><td>-0.15307043 </td><td> 0.067316885</td></tr>\n",
       "\t<tr><th scope=row>Mississippi</th><td> 0.99649446 </td><td> 2.39379599 </td><td> 0.74080840 </td><td> 0.215508013</td></tr>\n",
       "\t<tr><th scope=row>Missouri</th><td> 0.69678733 </td><td>-0.26335479 </td><td>-0.37744383 </td><td> 0.225824461</td></tr>\n",
       "\t<tr><th scope=row>Montana</th><td>-1.18545191 </td><td> 0.53687437 </td><td>-0.24688932 </td><td> 0.123742227</td></tr>\n",
       "\t<tr><th scope=row>Nebraska</th><td>-1.26563654 </td><td>-0.19395373 </td><td>-0.17557391 </td><td> 0.015892888</td></tr>\n",
       "\t<tr><th scope=row>Nevada</th><td> 2.87439454 </td><td>-0.77560020 </td><td>-1.16338049 </td><td> 0.314515476</td></tr>\n",
       "\t<tr><th scope=row>New Hampshire</th><td>-2.38391541 </td><td>-0.01808229 </td><td>-0.03685539 </td><td>-0.033137338</td></tr>\n",
       "\t<tr><th scope=row>New Jersey</th><td> 0.18156611 </td><td>-1.44950571 </td><td> 0.76445355 </td><td> 0.243382700</td></tr>\n",
       "\t<tr><th scope=row>New Mexico</th><td> 1.98002375 </td><td> 0.14284878 </td><td>-0.18369218 </td><td>-0.339533597</td></tr>\n",
       "\t<tr><th scope=row>New York</th><td> 1.68257738 </td><td>-0.82318414 </td><td> 0.64307509 </td><td>-0.013484369</td></tr>\n",
       "\t<tr><th scope=row>North Carolina</th><td> 1.12337861 </td><td> 2.22800338 </td><td> 0.86357179 </td><td>-0.954381667</td></tr>\n",
       "\t<tr><th scope=row>North Dakota</th><td>-2.99222562 </td><td> 0.59911882 </td><td>-0.30127728 </td><td>-0.253987327</td></tr>\n",
       "\t<tr><th scope=row>Ohio</th><td>-0.22596542 </td><td>-0.74223824 </td><td> 0.03113912 </td><td> 0.473915911</td></tr>\n",
       "\t<tr><th scope=row>Oklahoma</th><td>-0.31178286 </td><td>-0.28785421 </td><td> 0.01530979 </td><td> 0.010332321</td></tr>\n",
       "\t<tr><th scope=row>Oregon</th><td> 0.05912208 </td><td>-0.54141145 </td><td>-0.93983298 </td><td>-0.237780688</td></tr>\n",
       "\t<tr><th scope=row>Pennsylvania</th><td>-0.88841582 </td><td>-0.57110035 </td><td> 0.40062871 </td><td> 0.359061124</td></tr>\n",
       "\t<tr><th scope=row>Rhode Island</th><td>-0.86377206 </td><td>-1.49197842 </td><td> 1.36994570 </td><td>-0.613569430</td></tr>\n",
       "\t<tr><th scope=row>South Carolina</th><td> 1.32072380 </td><td> 1.93340466 </td><td> 0.30053779 </td><td>-0.131466685</td></tr>\n",
       "\t<tr><th scope=row>South Dakota</th><td>-1.98777484 </td><td> 0.82334324 </td><td>-0.38929333 </td><td>-0.109571764</td></tr>\n",
       "\t<tr><th scope=row>Tennessee</th><td> 0.99974168 </td><td> 0.86025130 </td><td>-0.18808295 </td><td> 0.652864291</td></tr>\n",
       "\t<tr><th scope=row>Texas</th><td> 1.35513821 </td><td>-0.41248082 </td><td> 0.49206886 </td><td> 0.643195491</td></tr>\n",
       "\t<tr><th scope=row>Utah</th><td>-0.55056526 </td><td>-1.47150461 </td><td>-0.29372804 </td><td>-0.082314047</td></tr>\n",
       "\t<tr><th scope=row>Vermont</th><td>-2.80141174 </td><td> 1.40228806 </td><td>-0.84126309 </td><td>-0.144889914</td></tr>\n",
       "\t<tr><th scope=row>Virginia</th><td>-0.09633491 </td><td> 0.19973529 </td><td>-0.01171254 </td><td> 0.211370813</td></tr>\n",
       "\t<tr><th scope=row>Washington</th><td>-0.21690338 </td><td>-0.97012418 </td><td>-0.62487094 </td><td>-0.220847793</td></tr>\n",
       "\t<tr><th scope=row>West Virginia</th><td>-2.10858541 </td><td> 1.42484670 </td><td>-0.10477467 </td><td> 0.131908831</td></tr>\n",
       "\t<tr><th scope=row>Wisconsin</th><td>-2.07971417 </td><td>-0.61126862 </td><td> 0.13886500 </td><td> 0.184103743</td></tr>\n",
       "\t<tr><th scope=row>Wyoming</th><td>-0.62942666 </td><td> 0.32101297 </td><td> 0.24065923 </td><td>-0.166651801</td></tr>\n",
       "</tbody>\n",
       "</table>\n"
      ],
      "text/latex": [
       "\\begin{tabular}{r|llll}\n",
       "  & Comp.1 & Comp.2 & Comp.3 & Comp.4\\\\\n",
       "\\hline\n",
       "\tAlabama &  0.98556588  &  1.13339238  &  0.44426879  &  0.156267145\\\\\n",
       "\tAlaska &  1.95013775  &  1.07321326  & -2.04000333  & -0.438583440\\\\\n",
       "\tArizona &  1.76316354  & -0.74595678  & -0.05478082  & -0.834652924\\\\\n",
       "\tArkansas & -0.14142029  &  1.11979678  & -0.11457369  & -0.182810896\\\\\n",
       "\tCalifornia &  2.52398013  & -1.54293399  & -0.59855680  & -0.341996478\\\\\n",
       "\tColorado &  1.51456286  & -0.98755509  & -1.09500699  &  0.001464887\\\\\n",
       "\tConnecticut & -1.35864746  & -1.08892789  &  0.64325757  & -0.118469414\\\\\n",
       "\tDelaware &  0.04770931  & -0.32535892  &  0.71863294  & -0.881977637\\\\\n",
       "\tFlorida &  3.01304227  &  0.03922851  &  0.57682949  & -0.096284752\\\\\n",
       "\tGeorgia &  1.63928304  &  1.27894240  &  0.34246008  &  1.076796812\\\\\n",
       "\tHawaii & -0.91265715  & -1.57046001  & -0.05078189  &  0.902806864\\\\\n",
       "\tIdaho & -1.63979985  &  0.21097292  & -0.25980134  & -0.499104101\\\\\n",
       "\tIllinois &  1.37891072  & -0.68184119  &  0.67749564  & -0.122021292\\\\\n",
       "\tIndiana & -0.50546136  & -0.15156254  & -0.22805484  &  0.424665700\\\\\n",
       "\tIowa & -2.25364607  & -0.10405407  & -0.16456432  &  0.017555916\\\\\n",
       "\tKansas & -0.79688112  & -0.27016470  & -0.02555331  &  0.206496428\\\\\n",
       "\tKentucky & -0.75085907  &  0.95844029  &  0.02836942  &  0.670556671\\\\\n",
       "\tLouisiana &  1.56481798  &  0.87105466  &  0.78348036  &  0.454728038\\\\\n",
       "\tMaine & -2.39682949  &  0.37639158  &  0.06568239  & -0.330459817\\\\\n",
       "\tMaryland &  1.76336939  &  0.42765519  &  0.15725013  & -0.559069521\\\\\n",
       "\tMassachusetts & -0.48616629  & -1.47449650  &  0.60949748  & -0.179598963\\\\\n",
       "\tMichigan &  2.10844115  & -0.15539682  & -0.38486858  &  0.102372019\\\\\n",
       "\tMinnesota & -1.69268181  & -0.63226125  & -0.15307043  &  0.067316885\\\\\n",
       "\tMississippi &  0.99649446  &  2.39379599  &  0.74080840  &  0.215508013\\\\\n",
       "\tMissouri &  0.69678733  & -0.26335479  & -0.37744383  &  0.225824461\\\\\n",
       "\tMontana & -1.18545191  &  0.53687437  & -0.24688932  &  0.123742227\\\\\n",
       "\tNebraska & -1.26563654  & -0.19395373  & -0.17557391  &  0.015892888\\\\\n",
       "\tNevada &  2.87439454  & -0.77560020  & -1.16338049  &  0.314515476\\\\\n",
       "\tNew Hampshire & -2.38391541  & -0.01808229  & -0.03685539  & -0.033137338\\\\\n",
       "\tNew Jersey &  0.18156611  & -1.44950571  &  0.76445355  &  0.243382700\\\\\n",
       "\tNew Mexico &  1.98002375  &  0.14284878  & -0.18369218  & -0.339533597\\\\\n",
       "\tNew York &  1.68257738  & -0.82318414  &  0.64307509  & -0.013484369\\\\\n",
       "\tNorth Carolina &  1.12337861  &  2.22800338  &  0.86357179  & -0.954381667\\\\\n",
       "\tNorth Dakota & -2.99222562  &  0.59911882  & -0.30127728  & -0.253987327\\\\\n",
       "\tOhio & -0.22596542  & -0.74223824  &  0.03113912  &  0.473915911\\\\\n",
       "\tOklahoma & -0.31178286  & -0.28785421  &  0.01530979  &  0.010332321\\\\\n",
       "\tOregon &  0.05912208  & -0.54141145  & -0.93983298  & -0.237780688\\\\\n",
       "\tPennsylvania & -0.88841582  & -0.57110035  &  0.40062871  &  0.359061124\\\\\n",
       "\tRhode Island & -0.86377206  & -1.49197842  &  1.36994570  & -0.613569430\\\\\n",
       "\tSouth Carolina &  1.32072380  &  1.93340466  &  0.30053779  & -0.131466685\\\\\n",
       "\tSouth Dakota & -1.98777484  &  0.82334324  & -0.38929333  & -0.109571764\\\\\n",
       "\tTennessee &  0.99974168  &  0.86025130  & -0.18808295  &  0.652864291\\\\\n",
       "\tTexas &  1.35513821  & -0.41248082  &  0.49206886  &  0.643195491\\\\\n",
       "\tUtah & -0.55056526  & -1.47150461  & -0.29372804  & -0.082314047\\\\\n",
       "\tVermont & -2.80141174  &  1.40228806  & -0.84126309  & -0.144889914\\\\\n",
       "\tVirginia & -0.09633491  &  0.19973529  & -0.01171254  &  0.211370813\\\\\n",
       "\tWashington & -0.21690338  & -0.97012418  & -0.62487094  & -0.220847793\\\\\n",
       "\tWest Virginia & -2.10858541  &  1.42484670  & -0.10477467  &  0.131908831\\\\\n",
       "\tWisconsin & -2.07971417  & -0.61126862  &  0.13886500  &  0.184103743\\\\\n",
       "\tWyoming & -0.62942666  &  0.32101297  &  0.24065923  & -0.166651801\\\\\n",
       "\\end{tabular}\n"
      ],
      "text/markdown": [
       "\n",
       "| <!--/--> | Comp.1 | Comp.2 | Comp.3 | Comp.4 |\n",
       "|---|---|---|---|---|\n",
       "| Alabama |  0.98556588  |  1.13339238  |  0.44426879  |  0.156267145 |\n",
       "| Alaska |  1.95013775  |  1.07321326  | -2.04000333  | -0.438583440 |\n",
       "| Arizona |  1.76316354  | -0.74595678  | -0.05478082  | -0.834652924 |\n",
       "| Arkansas | -0.14142029  |  1.11979678  | -0.11457369  | -0.182810896 |\n",
       "| California |  2.52398013  | -1.54293399  | -0.59855680  | -0.341996478 |\n",
       "| Colorado |  1.51456286  | -0.98755509  | -1.09500699  |  0.001464887 |\n",
       "| Connecticut | -1.35864746  | -1.08892789  |  0.64325757  | -0.118469414 |\n",
       "| Delaware |  0.04770931  | -0.32535892  |  0.71863294  | -0.881977637 |\n",
       "| Florida |  3.01304227  |  0.03922851  |  0.57682949  | -0.096284752 |\n",
       "| Georgia |  1.63928304  |  1.27894240  |  0.34246008  |  1.076796812 |\n",
       "| Hawaii | -0.91265715  | -1.57046001  | -0.05078189  |  0.902806864 |\n",
       "| Idaho | -1.63979985  |  0.21097292  | -0.25980134  | -0.499104101 |\n",
       "| Illinois |  1.37891072  | -0.68184119  |  0.67749564  | -0.122021292 |\n",
       "| Indiana | -0.50546136  | -0.15156254  | -0.22805484  |  0.424665700 |\n",
       "| Iowa | -2.25364607  | -0.10405407  | -0.16456432  |  0.017555916 |\n",
       "| Kansas | -0.79688112  | -0.27016470  | -0.02555331  |  0.206496428 |\n",
       "| Kentucky | -0.75085907  |  0.95844029  |  0.02836942  |  0.670556671 |\n",
       "| Louisiana |  1.56481798  |  0.87105466  |  0.78348036  |  0.454728038 |\n",
       "| Maine | -2.39682949  |  0.37639158  |  0.06568239  | -0.330459817 |\n",
       "| Maryland |  1.76336939  |  0.42765519  |  0.15725013  | -0.559069521 |\n",
       "| Massachusetts | -0.48616629  | -1.47449650  |  0.60949748  | -0.179598963 |\n",
       "| Michigan |  2.10844115  | -0.15539682  | -0.38486858  |  0.102372019 |\n",
       "| Minnesota | -1.69268181  | -0.63226125  | -0.15307043  |  0.067316885 |\n",
       "| Mississippi |  0.99649446  |  2.39379599  |  0.74080840  |  0.215508013 |\n",
       "| Missouri |  0.69678733  | -0.26335479  | -0.37744383  |  0.225824461 |\n",
       "| Montana | -1.18545191  |  0.53687437  | -0.24688932  |  0.123742227 |\n",
       "| Nebraska | -1.26563654  | -0.19395373  | -0.17557391  |  0.015892888 |\n",
       "| Nevada |  2.87439454  | -0.77560020  | -1.16338049  |  0.314515476 |\n",
       "| New Hampshire | -2.38391541  | -0.01808229  | -0.03685539  | -0.033137338 |\n",
       "| New Jersey |  0.18156611  | -1.44950571  |  0.76445355  |  0.243382700 |\n",
       "| New Mexico |  1.98002375  |  0.14284878  | -0.18369218  | -0.339533597 |\n",
       "| New York |  1.68257738  | -0.82318414  |  0.64307509  | -0.013484369 |\n",
       "| North Carolina |  1.12337861  |  2.22800338  |  0.86357179  | -0.954381667 |\n",
       "| North Dakota | -2.99222562  |  0.59911882  | -0.30127728  | -0.253987327 |\n",
       "| Ohio | -0.22596542  | -0.74223824  |  0.03113912  |  0.473915911 |\n",
       "| Oklahoma | -0.31178286  | -0.28785421  |  0.01530979  |  0.010332321 |\n",
       "| Oregon |  0.05912208  | -0.54141145  | -0.93983298  | -0.237780688 |\n",
       "| Pennsylvania | -0.88841582  | -0.57110035  |  0.40062871  |  0.359061124 |\n",
       "| Rhode Island | -0.86377206  | -1.49197842  |  1.36994570  | -0.613569430 |\n",
       "| South Carolina |  1.32072380  |  1.93340466  |  0.30053779  | -0.131466685 |\n",
       "| South Dakota | -1.98777484  |  0.82334324  | -0.38929333  | -0.109571764 |\n",
       "| Tennessee |  0.99974168  |  0.86025130  | -0.18808295  |  0.652864291 |\n",
       "| Texas |  1.35513821  | -0.41248082  |  0.49206886  |  0.643195491 |\n",
       "| Utah | -0.55056526  | -1.47150461  | -0.29372804  | -0.082314047 |\n",
       "| Vermont | -2.80141174  |  1.40228806  | -0.84126309  | -0.144889914 |\n",
       "| Virginia | -0.09633491  |  0.19973529  | -0.01171254  |  0.211370813 |\n",
       "| Washington | -0.21690338  | -0.97012418  | -0.62487094  | -0.220847793 |\n",
       "| West Virginia | -2.10858541  |  1.42484670  | -0.10477467  |  0.131908831 |\n",
       "| Wisconsin | -2.07971417  | -0.61126862  |  0.13886500  |  0.184103743 |\n",
       "| Wyoming | -0.62942666  |  0.32101297  |  0.24065923  | -0.166651801 |\n",
       "\n"
      ],
      "text/plain": [
       "               Comp.1      Comp.2      Comp.3      Comp.4      \n",
       "Alabama         0.98556588  1.13339238  0.44426879  0.156267145\n",
       "Alaska          1.95013775  1.07321326 -2.04000333 -0.438583440\n",
       "Arizona         1.76316354 -0.74595678 -0.05478082 -0.834652924\n",
       "Arkansas       -0.14142029  1.11979678 -0.11457369 -0.182810896\n",
       "California      2.52398013 -1.54293399 -0.59855680 -0.341996478\n",
       "Colorado        1.51456286 -0.98755509 -1.09500699  0.001464887\n",
       "Connecticut    -1.35864746 -1.08892789  0.64325757 -0.118469414\n",
       "Delaware        0.04770931 -0.32535892  0.71863294 -0.881977637\n",
       "Florida         3.01304227  0.03922851  0.57682949 -0.096284752\n",
       "Georgia         1.63928304  1.27894240  0.34246008  1.076796812\n",
       "Hawaii         -0.91265715 -1.57046001 -0.05078189  0.902806864\n",
       "Idaho          -1.63979985  0.21097292 -0.25980134 -0.499104101\n",
       "Illinois        1.37891072 -0.68184119  0.67749564 -0.122021292\n",
       "Indiana        -0.50546136 -0.15156254 -0.22805484  0.424665700\n",
       "Iowa           -2.25364607 -0.10405407 -0.16456432  0.017555916\n",
       "Kansas         -0.79688112 -0.27016470 -0.02555331  0.206496428\n",
       "Kentucky       -0.75085907  0.95844029  0.02836942  0.670556671\n",
       "Louisiana       1.56481798  0.87105466  0.78348036  0.454728038\n",
       "Maine          -2.39682949  0.37639158  0.06568239 -0.330459817\n",
       "Maryland        1.76336939  0.42765519  0.15725013 -0.559069521\n",
       "Massachusetts  -0.48616629 -1.47449650  0.60949748 -0.179598963\n",
       "Michigan        2.10844115 -0.15539682 -0.38486858  0.102372019\n",
       "Minnesota      -1.69268181 -0.63226125 -0.15307043  0.067316885\n",
       "Mississippi     0.99649446  2.39379599  0.74080840  0.215508013\n",
       "Missouri        0.69678733 -0.26335479 -0.37744383  0.225824461\n",
       "Montana        -1.18545191  0.53687437 -0.24688932  0.123742227\n",
       "Nebraska       -1.26563654 -0.19395373 -0.17557391  0.015892888\n",
       "Nevada          2.87439454 -0.77560020 -1.16338049  0.314515476\n",
       "New Hampshire  -2.38391541 -0.01808229 -0.03685539 -0.033137338\n",
       "New Jersey      0.18156611 -1.44950571  0.76445355  0.243382700\n",
       "New Mexico      1.98002375  0.14284878 -0.18369218 -0.339533597\n",
       "New York        1.68257738 -0.82318414  0.64307509 -0.013484369\n",
       "North Carolina  1.12337861  2.22800338  0.86357179 -0.954381667\n",
       "North Dakota   -2.99222562  0.59911882 -0.30127728 -0.253987327\n",
       "Ohio           -0.22596542 -0.74223824  0.03113912  0.473915911\n",
       "Oklahoma       -0.31178286 -0.28785421  0.01530979  0.010332321\n",
       "Oregon          0.05912208 -0.54141145 -0.93983298 -0.237780688\n",
       "Pennsylvania   -0.88841582 -0.57110035  0.40062871  0.359061124\n",
       "Rhode Island   -0.86377206 -1.49197842  1.36994570 -0.613569430\n",
       "South Carolina  1.32072380  1.93340466  0.30053779 -0.131466685\n",
       "South Dakota   -1.98777484  0.82334324 -0.38929333 -0.109571764\n",
       "Tennessee       0.99974168  0.86025130 -0.18808295  0.652864291\n",
       "Texas           1.35513821 -0.41248082  0.49206886  0.643195491\n",
       "Utah           -0.55056526 -1.47150461 -0.29372804 -0.082314047\n",
       "Vermont        -2.80141174  1.40228806 -0.84126309 -0.144889914\n",
       "Virginia       -0.09633491  0.19973529 -0.01171254  0.211370813\n",
       "Washington     -0.21690338 -0.97012418 -0.62487094 -0.220847793\n",
       "West Virginia  -2.10858541  1.42484670 -0.10477467  0.131908831\n",
       "Wisconsin      -2.07971417 -0.61126862  0.13886500  0.184103743\n",
       "Wyoming        -0.62942666  0.32101297  0.24065923 -0.166651801"
      ]
     },
     "metadata": {},
     "output_type": "display_data"
    }
   ],
   "source": [
    "pc1$scores"
   ]
  },
  {
   "cell_type": "code",
   "execution_count": 163,
   "metadata": {},
   "outputs": [
    {
     "data": {
      "image/png": "[encoded data removed]",
      "text/plain": [
       "plot without title"
      ]
     },
     "metadata": {},
     "output_type": "display_data"
    }
   ],
   "source": [
    "plot(pc1$scores[,1], pc1$scores[,2], xlab = 'z1', ylab = 'z2')\n",
    "abline(v = 0, h = 0)"
   ]
  },
  {
   "cell_type": "code",
   "execution_count": 164,
   "metadata": {},
   "outputs": [
    {
     "data": {
      "image/png": "[encoded data removed]",
      "text/plain": [
       "plot without title"
      ]
     },
     "metadata": {},
     "output_type": "display_data"
    }
   ],
   "source": [
    "biplot(pc1, cex = 0.7)\n",
    "abline(v = 0, h = 0, col = 'gray')"
   ]
  },
  {
   "cell_type": "code",
   "execution_count": null,
   "metadata": {},
   "outputs": [],
   "source": []
  }
 ],
 "metadata": {
  "kernelspec": {
   "display_name": "R",
   "language": "R",
   "name": "ir"
  },
  "language_info": {
   "codemirror_mode": "r",
   "file_extension": ".r",
   "mimetype": "text/x-r-source",
   "name": "R",
   "pygments_lexer": "r",
   "version": "3.6.1"
  }
 },
 "nbformat": 4,
 "nbformat_minor": 4
}
