{
 "cells": [
  {
   "cell_type": "code",
   "execution_count": 3,
   "metadata": {},
   "outputs": [
    {
     "data": {
      "text/html": [
       "'d:/workspace/R_practice/data/R_data'"
      ],
      "text/latex": [
       "'d:/workspace/R\\_practice/data/R\\_data'"
      ],
      "text/markdown": [
       "'d:/workspace/R_practice/data/R_data'"
      ],
      "text/plain": [
       "[1] \"d:/workspace/R_practice/data/R_data\""
      ]
     },
     "metadata": {},
     "output_type": "display_data"
    }
   ],
   "source": [
    "getwd()"
   ]
  },
  {
   "cell_type": "code",
   "execution_count": 2,
   "metadata": {},
   "outputs": [],
   "source": [
    "setwd('d:/workspace/R_practice/data/R_data')"
   ]
  },
  {
   "cell_type": "code",
   "execution_count": 9,
   "metadata": {},
   "outputs": [],
   "source": [
    "require(arules)\n",
    "library('arulesViz')"
   ]
  },
  {
   "cell_type": "code",
   "execution_count": 13,
   "metadata": {},
   "outputs": [],
   "source": [
    "data(package = 'arules')\n",
    "data(Groceries)"
   ]
  },
  {
   "cell_type": "code",
   "execution_count": 14,
   "metadata": {},
   "outputs": [
    {
     "data": {
      "text/plain": [
       "transactions in sparse format with\n",
       " 9835 transactions (rows) and\n",
       " 169 items (columns)"
      ]
     },
     "metadata": {},
     "output_type": "display_data"
    }
   ],
   "source": [
    "Groceries"
   ]
  },
  {
   "cell_type": "code",
   "execution_count": 15,
   "metadata": {},
   "outputs": [
    {
     "name": "stdout",
     "output_type": "stream",
     "text": [
      "     items                     \n",
      "[1]  {citrus fruit,            \n",
      "      semi-finished bread,     \n",
      "      margarine,               \n",
      "      ready soups}             \n",
      "[2]  {tropical fruit,          \n",
      "      yogurt,                  \n",
      "      coffee}                  \n",
      "[3]  {whole milk}              \n",
      "[4]  {pip fruit,               \n",
      "      yogurt,                  \n",
      "      cream cheese ,           \n",
      "      meat spreads}            \n",
      "[5]  {other vegetables,        \n",
      "      whole milk,              \n",
      "      condensed milk,          \n",
      "      long life bakery product}\n",
      "[6]  {whole milk,              \n",
      "      butter,                  \n",
      "      yogurt,                  \n",
      "      rice,                    \n",
      "      abrasive cleaner}        \n",
      "[7]  {rolls/buns}              \n",
      "[8]  {other vegetables,        \n",
      "      UHT-milk,                \n",
      "      rolls/buns,              \n",
      "      bottled beer,            \n",
      "      liquor (appetizer)}      \n",
      "[9]  {pot plants}              \n",
      "[10] {whole milk,              \n",
      "      cereals}                 \n"
     ]
    }
   ],
   "source": [
    "inspect(Groceries[1:10])"
   ]
  },
  {
   "cell_type": "code",
   "execution_count": 16,
   "metadata": {},
   "outputs": [
    {
     "data": {
      "text/plain": [
       "transactions as itemMatrix in sparse format with\n",
       " 9835 rows (elements/itemsets/transactions) and\n",
       " 169 columns (items) and a density of 0.02609146 \n",
       "\n",
       "most frequent items:\n",
       "      whole milk other vegetables       rolls/buns             soda \n",
       "            2513             1903             1809             1715 \n",
       "          yogurt          (Other) \n",
       "            1372            34055 \n",
       "\n",
       "element (itemset/transaction) length distribution:\n",
       "sizes\n",
       "   1    2    3    4    5    6    7    8    9   10   11   12   13   14   15   16 \n",
       "2159 1643 1299 1005  855  645  545  438  350  246  182  117   78   77   55   46 \n",
       "  17   18   19   20   21   22   23   24   26   27   28   29   32 \n",
       "  29   14   14    9   11    4    6    1    1    1    1    3    1 \n",
       "\n",
       "   Min. 1st Qu.  Median    Mean 3rd Qu.    Max. \n",
       "  1.000   2.000   3.000   4.409   6.000  32.000 \n",
       "\n",
       "includes extended item information - examples:\n",
       "       labels  level2           level1\n",
       "1 frankfurter sausage meat and sausage\n",
       "2     sausage sausage meat and sausage\n",
       "3  liver loaf sausage meat and sausage"
      ]
     },
     "metadata": {},
     "output_type": "display_data"
    }
   ],
   "source": [
    "summary(Groceries)"
   ]
  },
  {
   "cell_type": "code",
   "execution_count": 19,
   "metadata": {},
   "outputs": [
    {
     "data": {
      "text/html": [
       "<dl class=dl-horizontal>\n",
       "\t<dt>whole milk</dt>\n",
       "\t\t<dd>2513</dd>\n",
       "\t<dt>other vegetables</dt>\n",
       "\t\t<dd>1903</dd>\n",
       "\t<dt>rolls/buns</dt>\n",
       "\t\t<dd>1809</dd>\n",
       "\t<dt>soda</dt>\n",
       "\t\t<dd>1715</dd>\n",
       "\t<dt>yogurt</dt>\n",
       "\t\t<dd>1372</dd>\n",
       "\t<dt>bottled water</dt>\n",
       "\t\t<dd>1087</dd>\n",
       "\t<dt>root vegetables</dt>\n",
       "\t\t<dd>1072</dd>\n",
       "\t<dt>tropical fruit</dt>\n",
       "\t\t<dd>1032</dd>\n",
       "\t<dt>shopping bags</dt>\n",
       "\t\t<dd>969</dd>\n",
       "\t<dt>sausage</dt>\n",
       "\t\t<dd>924</dd>\n",
       "</dl>\n"
      ],
      "text/latex": [
       "\\begin{description*}\n",
       "\\item[whole milk] 2513\n",
       "\\item[other vegetables] 1903\n",
       "\\item[rolls/buns] 1809\n",
       "\\item[soda] 1715\n",
       "\\item[yogurt] 1372\n",
       "\\item[bottled water] 1087\n",
       "\\item[root vegetables] 1072\n",
       "\\item[tropical fruit] 1032\n",
       "\\item[shopping bags] 969\n",
       "\\item[sausage] 924\n",
       "\\end{description*}\n"
      ],
      "text/markdown": [
       "whole milk\n",
       ":   2513other vegetables\n",
       ":   1903rolls/buns\n",
       ":   1809soda\n",
       ":   1715yogurt\n",
       ":   1372bottled water\n",
       ":   1087root vegetables\n",
       ":   1072tropical fruit\n",
       ":   1032shopping bags\n",
       ":   969sausage\n",
       ":   924\n",
       "\n"
      ],
      "text/plain": [
       "      whole milk other vegetables       rolls/buns             soda \n",
       "            2513             1903             1809             1715 \n",
       "          yogurt    bottled water  root vegetables   tropical fruit \n",
       "            1372             1087             1072             1032 \n",
       "   shopping bags          sausage \n",
       "             969              924 "
      ]
     },
     "metadata": {},
     "output_type": "display_data"
    }
   ],
   "source": [
    "head(sort(itemFrequency(Groceries, type = 'absolute'),decreasing = T), 10)"
   ]
  },
  {
   "cell_type": "code",
   "execution_count": 21,
   "metadata": {},
   "outputs": [
    {
     "data": {
      "text/html": [
       "<dl class=dl-horizontal>\n",
       "\t<dt>whole milk</dt>\n",
       "\t\t<dd>0.255516014234875</dd>\n",
       "\t<dt>other vegetables</dt>\n",
       "\t\t<dd>0.193492628368073</dd>\n",
       "\t<dt>rolls/buns</dt>\n",
       "\t\t<dd>0.183934926283681</dd>\n",
       "\t<dt>soda</dt>\n",
       "\t\t<dd>0.174377224199288</dd>\n",
       "\t<dt>yogurt</dt>\n",
       "\t\t<dd>0.139501779359431</dd>\n",
       "\t<dt>bottled water</dt>\n",
       "\t\t<dd>0.110523640061007</dd>\n",
       "\t<dt>root vegetables</dt>\n",
       "\t\t<dd>0.108998474834774</dd>\n",
       "\t<dt>tropical fruit</dt>\n",
       "\t\t<dd>0.10493136756482</dd>\n",
       "\t<dt>shopping bags</dt>\n",
       "\t\t<dd>0.0985256736146416</dd>\n",
       "\t<dt>sausage</dt>\n",
       "\t\t<dd>0.0939501779359431</dd>\n",
       "</dl>\n"
      ],
      "text/latex": [
       "\\begin{description*}\n",
       "\\item[whole milk] 0.255516014234875\n",
       "\\item[other vegetables] 0.193492628368073\n",
       "\\item[rolls/buns] 0.183934926283681\n",
       "\\item[soda] 0.174377224199288\n",
       "\\item[yogurt] 0.139501779359431\n",
       "\\item[bottled water] 0.110523640061007\n",
       "\\item[root vegetables] 0.108998474834774\n",
       "\\item[tropical fruit] 0.10493136756482\n",
       "\\item[shopping bags] 0.0985256736146416\n",
       "\\item[sausage] 0.0939501779359431\n",
       "\\end{description*}\n"
      ],
      "text/markdown": [
       "whole milk\n",
       ":   0.255516014234875other vegetables\n",
       ":   0.193492628368073rolls/buns\n",
       ":   0.183934926283681soda\n",
       ":   0.174377224199288yogurt\n",
       ":   0.139501779359431bottled water\n",
       ":   0.110523640061007root vegetables\n",
       ":   0.108998474834774tropical fruit\n",
       ":   0.10493136756482shopping bags\n",
       ":   0.0985256736146416sausage\n",
       ":   0.0939501779359431\n",
       "\n"
      ],
      "text/plain": [
       "      whole milk other vegetables       rolls/buns             soda \n",
       "      0.25551601       0.19349263       0.18393493       0.17437722 \n",
       "          yogurt    bottled water  root vegetables   tropical fruit \n",
       "      0.13950178       0.11052364       0.10899847       0.10493137 \n",
       "   shopping bags          sausage \n",
       "      0.09852567       0.09395018 "
      ]
     },
     "metadata": {},
     "output_type": "display_data"
    }
   ],
   "source": [
    "# relative = 상대도수(확률)\n",
    "head(sort(itemFrequency(Groceries, type = 'relative'),decreasing = T), 10)"
   ]
  },
  {
   "cell_type": "code",
   "execution_count": 23,
   "metadata": {},
   "outputs": [
    {
     "data": {
      "image/png": "[encoded data removed]",
      "text/plain": [
       "plot without title"
      ]
     },
     "metadata": {},
     "output_type": "display_data"
    }
   ],
   "source": [
    "par(mfrow = c(1,2))\n",
    "itemFrequencyPlot(Groceries, topN = 10, type = 'absolute')\n",
    "itemFrequencyPlot(Groceries, topN = 10, type = 'relative')"
   ]
  },
  {
   "cell_type": "code",
   "execution_count": 24,
   "metadata": {},
   "outputs": [
    {
     "name": "stdout",
     "output_type": "stream",
     "text": [
      "Apriori\n",
      "\n",
      "Parameter specification:\n",
      " confidence minval smax arem  aval originalSupport maxtime support minlen\n",
      "        0.8    0.1    1 none FALSE            TRUE       5     0.1      1\n",
      " maxlen target  ext\n",
      "     10  rules TRUE\n",
      "\n",
      "Algorithmic control:\n",
      " filter tree heap memopt load sort verbose\n",
      "    0.1 TRUE TRUE  FALSE TRUE    2    TRUE\n",
      "\n",
      "Absolute minimum support count: 983 \n",
      "\n",
      "set item appearances ...[0 item(s)] done [0.00s].\n",
      "set transactions ...[169 item(s), 9835 transaction(s)] done [0.00s].\n",
      "sorting and recoding items ... [8 item(s)] done [0.00s].\n",
      "creating transaction tree ... done [0.00s].\n",
      "checking subsets of size 1 2 done [0.00s].\n",
      "writing ... [0 rule(s)] done [0.00s].\n",
      "creating S4 object  ... done [0.00s].\n"
     ]
    },
    {
     "data": {
      "text/plain": [
       "set of 0 rules "
      ]
     },
     "metadata": {},
     "output_type": "display_data"
    }
   ],
   "source": [
    "apriori(Groceries)"
   ]
  },
  {
   "cell_type": "code",
   "execution_count": 27,
   "metadata": {},
   "outputs": [
    {
     "name": "stdout",
     "output_type": "stream",
     "text": [
      "Apriori\n",
      "\n",
      "Parameter specification:\n",
      " confidence minval smax arem  aval originalSupport maxtime support minlen\n",
      "        0.5    0.1    1 none FALSE            TRUE       5   0.005      2\n",
      " maxlen target  ext\n",
      "     10  rules TRUE\n",
      "\n",
      "Algorithmic control:\n",
      " filter tree heap memopt load sort verbose\n",
      "    0.1 TRUE TRUE  FALSE TRUE    2    TRUE\n",
      "\n",
      "Absolute minimum support count: 49 \n",
      "\n",
      "set item appearances ...[0 item(s)] done [0.00s].\n",
      "set transactions ...[169 item(s), 9835 transaction(s)] done [0.00s].\n",
      "sorting and recoding items ... [120 item(s)] done [0.00s].\n",
      "creating transaction tree ... done [0.00s].\n",
      "checking subsets of size 1 2 3 4 done [0.00s].\n",
      "writing ... [120 rule(s)] done [0.00s].\n",
      "creating S4 object  ... done [0.00s].\n"
     ]
    }
   ],
   "source": [
    "result_rules = apriori(Groceries, parameter = list(support = 0.005, confidence = 0.5, minlen = 2))"
   ]
  },
  {
   "cell_type": "code",
   "execution_count": 28,
   "metadata": {},
   "outputs": [
    {
     "data": {
      "text/plain": [
       "set of 120 rules\n",
       "\n",
       "rule length distribution (lhs + rhs):sizes\n",
       " 2  3  4 \n",
       " 1 98 21 \n",
       "\n",
       "   Min. 1st Qu.  Median    Mean 3rd Qu.    Max. \n",
       "  2.000   3.000   3.000   3.167   3.000   4.000 \n",
       "\n",
       "summary of quality measures:\n",
       "    support           confidence        coverage             lift      \n",
       " Min.   :0.005084   Min.   :0.5000   Min.   :0.008134   Min.   :1.957  \n",
       " 1st Qu.:0.005669   1st Qu.:0.5181   1st Qu.:0.010142   1st Qu.:2.091  \n",
       " Median :0.006202   Median :0.5445   Median :0.011490   Median :2.249  \n",
       " Mean   :0.007344   Mean   :0.5537   Mean   :0.013404   Mean   :2.379  \n",
       " 3rd Qu.:0.007982   3rd Qu.:0.5762   3rd Qu.:0.014667   3rd Qu.:2.643  \n",
       " Max.   :0.022267   Max.   :0.7000   Max.   :0.043416   Max.   :3.691  \n",
       "     count       \n",
       " Min.   : 50.00  \n",
       " 1st Qu.: 55.75  \n",
       " Median : 61.00  \n",
       " Mean   : 72.22  \n",
       " 3rd Qu.: 78.50  \n",
       " Max.   :219.00  \n",
       "\n",
       "mining info:\n",
       "      data ntransactions support confidence\n",
       " Groceries          9835   0.005        0.5"
      ]
     },
     "metadata": {},
     "output_type": "display_data"
    }
   ],
   "source": [
    "summary(result_rules)"
   ]
  },
  {
   "cell_type": "code",
   "execution_count": 30,
   "metadata": {},
   "outputs": [
    {
     "name": "stdout",
     "output_type": "stream",
     "text": [
      "    lhs                     rhs                    support confidence    coverage     lift count\n",
      "[1] {tropical fruit,                                                                            \n",
      "     curd}               => {yogurt}           0.005287239  0.5148515 0.010269446 3.690645    52\n",
      "[2] {citrus fruit,                                                                              \n",
      "     root vegetables,                                                                           \n",
      "     whole milk}         => {other vegetables} 0.005795628  0.6333333 0.009150991 3.273165    57\n",
      "[3] {pip fruit,                                                                                 \n",
      "     root vegetables,                                                                           \n",
      "     whole milk}         => {other vegetables} 0.005490595  0.6136364 0.008947636 3.171368    54\n",
      "[4] {pip fruit,                                                                                 \n",
      "     whipped/sour cream} => {other vegetables} 0.005592272  0.6043956 0.009252669 3.123610    55\n",
      "[5] {root vegetables,                                                                           \n",
      "     onions}             => {other vegetables} 0.005693950  0.6021505 0.009456024 3.112008    56\n"
     ]
    }
   ],
   "source": [
    "rules_lift = sort(result_rules, by = 'lift', decreasing = T)\n",
    "inspect(rules_lift[1:5])"
   ]
  },
  {
   "cell_type": "code",
   "execution_count": 31,
   "metadata": {},
   "outputs": [
    {
     "name": "stdout",
     "output_type": "stream",
     "text": [
      "    lhs                     rhs              support confidence    coverage     lift count\n",
      "[1] {tropical fruit,                                                                      \n",
      "     root vegetables,                                                                     \n",
      "     yogurt}             => {whole milk} 0.005693950  0.7000000 0.008134215 2.739554    56\n",
      "[2] {pip fruit,                                                                           \n",
      "     root vegetables,                                                                     \n",
      "     other vegetables}   => {whole milk} 0.005490595  0.6750000 0.008134215 2.641713    54\n",
      "[3] {butter,                                                                              \n",
      "     whipped/sour cream} => {whole milk} 0.006710727  0.6600000 0.010167768 2.583008    66\n",
      "[4] {pip fruit,                                                                           \n",
      "     whipped/sour cream} => {whole milk} 0.005998983  0.6483516 0.009252669 2.537421    59\n",
      "[5] {butter,                                                                              \n",
      "     yogurt}             => {whole milk} 0.009354347  0.6388889 0.014641586 2.500387    92\n"
     ]
    }
   ],
   "source": [
    "rules_confidence = sort(result_rules, by = 'confidence', decreasing = T)\n",
    "inspect(rules_confidence[1:5])"
   ]
  },
  {
   "cell_type": "code",
   "execution_count": 33,
   "metadata": {},
   "outputs": [
    {
     "data": {
      "text/plain": [
       "set of 94 rules "
      ]
     },
     "metadata": {},
     "output_type": "display_data"
    }
   ],
   "source": [
    "milk_rule = subset(rules_lift, items %in% 'whole milk')\n",
    "milk_rule"
   ]
  },
  {
   "cell_type": "code",
   "execution_count": 34,
   "metadata": {},
   "outputs": [
    {
     "name": "stdout",
     "output_type": "stream",
     "text": [
      "    lhs                     rhs                    support confidence    coverage     lift count\n",
      "[1] {citrus fruit,                                                                              \n",
      "     root vegetables,                                                                           \n",
      "     whole milk}         => {other vegetables} 0.005795628  0.6333333 0.009150991 3.273165    57\n",
      "[2] {pip fruit,                                                                                 \n",
      "     root vegetables,                                                                           \n",
      "     whole milk}         => {other vegetables} 0.005490595  0.6136364 0.008947636 3.171368    54\n",
      "[3] {tropical fruit,                                                                            \n",
      "     root vegetables,                                                                           \n",
      "     whole milk}         => {other vegetables} 0.007015760  0.5847458 0.011997966 3.022057    69\n",
      "[4] {root vegetables,                                                                           \n",
      "     whole milk,                                                                                \n",
      "     whipped/sour cream} => {other vegetables} 0.005185562  0.5483871 0.009456024 2.834150    51\n",
      "[5] {onions,                                                                                    \n",
      "     whole milk}         => {other vegetables} 0.006609049  0.5462185 0.012099644 2.822942    65\n"
     ]
    }
   ],
   "source": [
    "inspect(milk_rule[1:5])"
   ]
  },
  {
   "cell_type": "code",
   "execution_count": 35,
   "metadata": {},
   "outputs": [
    {
     "data": {
      "text/plain": [
       "set of 84 rules "
      ]
     },
     "metadata": {},
     "output_type": "display_data"
    }
   ],
   "source": [
    "rhs.milk_rule = subset(rules_lift, rhs %in% 'whole milk')\n",
    "rhs.milk_rule"
   ]
  },
  {
   "cell_type": "code",
   "execution_count": 37,
   "metadata": {},
   "outputs": [
    {
     "name": "stdout",
     "output_type": "stream",
     "text": [
      "    lhs                     rhs              support confidence    coverage     lift count\n",
      "[1] {tropical fruit,                                                                      \n",
      "     root vegetables,                                                                     \n",
      "     yogurt}             => {whole milk} 0.005693950  0.7000000 0.008134215 2.739554    56\n",
      "[2] {pip fruit,                                                                           \n",
      "     root vegetables,                                                                     \n",
      "     other vegetables}   => {whole milk} 0.005490595  0.6750000 0.008134215 2.641713    54\n",
      "[3] {butter,                                                                              \n",
      "     whipped/sour cream} => {whole milk} 0.006710727  0.6600000 0.010167768 2.583008    66\n",
      "[4] {pip fruit,                                                                           \n",
      "     whipped/sour cream} => {whole milk} 0.005998983  0.6483516 0.009252669 2.537421    59\n",
      "[5] {butter,                                                                              \n",
      "     yogurt}             => {whole milk} 0.009354347  0.6388889 0.014641586 2.500387    92\n"
     ]
    }
   ],
   "source": [
    "inspect(rhs.milk_rule[1:5])"
   ]
  },
  {
   "cell_type": "code",
   "execution_count": 38,
   "metadata": {},
   "outputs": [
    {
     "name": "stdout",
     "output_type": "stream",
     "text": [
      "Apriori\n",
      "\n",
      "Parameter specification:\n",
      " confidence minval smax arem  aval originalSupport maxtime support minlen\n",
      "        0.5    0.1    1 none FALSE            TRUE       5   0.005      2\n",
      " maxlen target  ext\n",
      "     10  rules TRUE\n",
      "\n",
      "Algorithmic control:\n",
      " filter tree heap memopt load sort verbose\n",
      "    0.1 TRUE TRUE  FALSE TRUE    2    TRUE\n",
      "\n",
      "Absolute minimum support count: 49 \n",
      "\n",
      "set item appearances ...[1 item(s)] done [0.00s].\n",
      "set transactions ...[169 item(s), 9835 transaction(s)] done [0.00s].\n",
      "sorting and recoding items ... [120 item(s)] done [0.00s].\n",
      "creating transaction tree ... done [0.00s].\n",
      "checking subsets of size 1 2 3 4 done [0.00s].\n",
      "writing ... [84 rule(s)] done [0.00s].\n",
      "creating S4 object  ... done [0.00s].\n",
      "    lhs                     rhs              support confidence    coverage     lift count\n",
      "[1] {tropical fruit,                                                                      \n",
      "     root vegetables,                                                                     \n",
      "     yogurt}             => {whole milk} 0.005693950  0.7000000 0.008134215 2.739554    56\n",
      "[2] {pip fruit,                                                                           \n",
      "     root vegetables,                                                                     \n",
      "     other vegetables}   => {whole milk} 0.005490595  0.6750000 0.008134215 2.641713    54\n",
      "[3] {butter,                                                                              \n",
      "     whipped/sour cream} => {whole milk} 0.006710727  0.6600000 0.010167768 2.583008    66\n",
      "[4] {pip fruit,                                                                           \n",
      "     whipped/sour cream} => {whole milk} 0.005998983  0.6483516 0.009252669 2.537421    59\n",
      "[5] {butter,                                                                              \n",
      "     yogurt}             => {whole milk} 0.009354347  0.6388889 0.014641586 2.500387    92\n"
     ]
    }
   ],
   "source": [
    "wholemilk_rule = apriori(Groceries, parameter = list(support = 0.005, confidence = 0.5,\n",
    "                                                     minlen = 2), appearance = list(default = 'lhs', rhs = 'whole milk'))\n",
    "wholemilk_rule = sort(wholemilk_rule, by = 'lift', decreasing = T)\n",
    "inspect(wholemilk_rule[1:5])"
   ]
  },
  {
   "cell_type": "code",
   "execution_count": 39,
   "metadata": {},
   "outputs": [
    {
     "data": {
      "image/png": "[encoded data removed]",
      "text/plain": [
       "Plot with title \"Graph for 10 rules\""
      ]
     },
     "metadata": {},
     "output_type": "display_data"
    }
   ],
   "source": [
    "plot(wholemilk_rule[1:10], method = 'graph', measure = 'lift', shading = 'confidence')"
   ]
  },
  {
   "cell_type": "code",
   "execution_count": null,
   "metadata": {},
   "outputs": [],
   "source": []
  }
 ],
 "metadata": {
  "kernelspec": {
   "display_name": "R",
   "language": "R",
   "name": "ir"
  },
  "language_info": {
   "codemirror_mode": "r",
   "file_extension": ".r",
   "mimetype": "text/x-r-source",
   "name": "R",
   "pygments_lexer": "r",
   "version": "3.6.1"
  }
 },
 "nbformat": 4,
 "nbformat_minor": 4
}
