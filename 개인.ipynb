{
 "cells": [
  {
   "cell_type": "markdown",
   "metadata": {},
   "source": [
    "# Team_Project"
   ]
  },
  {
   "cell_type": "code",
   "execution_count": 6,
   "metadata": {},
   "outputs": [],
   "source": [
    "setwd('D:/workspace/R_Practice/data/R_data')"
   ]
  },
  {
   "cell_type": "code",
   "execution_count": 7,
   "metadata": {},
   "outputs": [
    {
     "data": {
      "text/html": [
       "'D:/workspace/R_Practice/data/R_data'"
      ],
      "text/latex": [
       "'D:/workspace/R\\_Practice/data/R\\_data'"
      ],
      "text/markdown": [
       "'D:/workspace/R_Practice/data/R_data'"
      ],
      "text/plain": [
       "[1] \"D:/workspace/R_Practice/data/R_data\""
      ]
     },
     "metadata": {},
     "output_type": "display_data"
    }
   ],
   "source": [
    "getwd()"
   ]
  },
  {
   "cell_type": "code",
   "execution_count": 167,
   "metadata": {},
   "outputs": [],
   "source": [
    "library('dplyr')\n",
    "library('ggplot2')\n",
    "library('car')"
   ]
  },
  {
   "cell_type": "code",
   "execution_count": 234,
   "metadata": {},
   "outputs": [
    {
     "data": {
      "text/html": [
       "<table>\n",
       "<thead><tr><th scope=col>X</th><th scope=col>YM</th><th scope=col>CATEGORY</th><th scope=col>ITEM_CNT</th><th scope=col>QTY</th><th scope=col>PRICE</th><th scope=col>MAXTEMP</th><th scope=col>SALEDAY</th><th scope=col>RAIN_DAY</th><th scope=col>HOLIDAY</th></tr></thead>\n",
       "<tbody>\n",
       "\t<tr><td>1       </td><td>200901  </td><td>과즙음료</td><td>45      </td><td> 990    </td><td>2611    </td><td> 4      </td><td>126753  </td><td> 151    </td><td>12      </td></tr>\n",
       "\t<tr><td>2       </td><td>200902  </td><td>과즙음료</td><td>45      </td><td>1199    </td><td>2689    </td><td> 9      </td><td>113399  </td><td>3014    </td><td> 8      </td></tr>\n",
       "\t<tr><td>3       </td><td>200903  </td><td>과즙음료</td><td>43      </td><td>1102    </td><td>2735    </td><td>12      </td><td>129162  </td><td>1383    </td><td> 9      </td></tr>\n",
       "\t<tr><td>4       </td><td>200904  </td><td>과즙음료</td><td>42      </td><td>1326    </td><td>2807    </td><td>19      </td><td>126277  </td><td>3564    </td><td> 8      </td></tr>\n",
       "\t<tr><td>5       </td><td>200905  </td><td>과즙음료</td><td>46      </td><td>1672    </td><td>2674    </td><td>25      </td><td>129584  </td><td>9288    </td><td>12      </td></tr>\n",
       "\t<tr><td>6       </td><td>200906  </td><td>과즙음료</td><td>48      </td><td>1875    </td><td>2777    </td><td>27      </td><td>123218  </td><td>9998    </td><td> 8      </td></tr>\n",
       "</tbody>\n",
       "</table>\n"
      ],
      "text/latex": [
       "\\begin{tabular}{r|llllllllll}\n",
       " X & YM & CATEGORY & ITEM\\_CNT & QTY & PRICE & MAXTEMP & SALEDAY & RAIN\\_DAY & HOLIDAY\\\\\n",
       "\\hline\n",
       "\t 1        & 200901   & 과즙음료 & 45       &  990     & 2611     &  4       & 126753   &  151     & 12      \\\\\n",
       "\t 2        & 200902   & 과즙음료 & 45       & 1199     & 2689     &  9       & 113399   & 3014     &  8      \\\\\n",
       "\t 3        & 200903   & 과즙음료 & 43       & 1102     & 2735     & 12       & 129162   & 1383     &  9      \\\\\n",
       "\t 4        & 200904   & 과즙음료 & 42       & 1326     & 2807     & 19       & 126277   & 3564     &  8      \\\\\n",
       "\t 5        & 200905   & 과즙음료 & 46       & 1672     & 2674     & 25       & 129584   & 9288     & 12      \\\\\n",
       "\t 6        & 200906   & 과즙음료 & 48       & 1875     & 2777     & 27       & 123218   & 9998     &  8      \\\\\n",
       "\\end{tabular}\n"
      ],
      "text/markdown": [
       "\n",
       "| X | YM | CATEGORY | ITEM_CNT | QTY | PRICE | MAXTEMP | SALEDAY | RAIN_DAY | HOLIDAY |\n",
       "|---|---|---|---|---|---|---|---|---|---|\n",
       "| 1        | 200901   | 과즙음료 | 45       |  990     | 2611     |  4       | 126753   |  151     | 12       |\n",
       "| 2        | 200902   | 과즙음료 | 45       | 1199     | 2689     |  9       | 113399   | 3014     |  8       |\n",
       "| 3        | 200903   | 과즙음료 | 43       | 1102     | 2735     | 12       | 129162   | 1383     |  9       |\n",
       "| 4        | 200904   | 과즙음료 | 42       | 1326     | 2807     | 19       | 126277   | 3564     |  8       |\n",
       "| 5        | 200905   | 과즙음료 | 46       | 1672     | 2674     | 25       | 129584   | 9288     | 12       |\n",
       "| 6        | 200906   | 과즙음료 | 48       | 1875     | 2777     | 27       | 123218   | 9998     |  8       |\n",
       "\n"
      ],
      "text/plain": [
       "  X YM     CATEGORY ITEM_CNT QTY  PRICE MAXTEMP SALEDAY RAIN_DAY HOLIDAY\n",
       "1 1 200901 과즙음료 45        990 2611   4      126753   151     12     \n",
       "2 2 200902 과즙음료 45       1199 2689   9      113399  3014      8     \n",
       "3 3 200903 과즙음료 43       1102 2735  12      129162  1383      9     \n",
       "4 4 200904 과즙음료 42       1326 2807  19      126277  3564      8     \n",
       "5 5 200905 과즙음료 46       1672 2674  25      129584  9288     12     \n",
       "6 6 200906 과즙음료 48       1875 2777  27      123218  9998      8     "
      ]
     },
     "metadata": {},
     "output_type": "display_data"
    }
   ],
   "source": [
    "data = read.csv('sales_data_1.csv')\n",
    "head(data)"
   ]
  },
  {
   "cell_type": "code",
   "execution_count": 235,
   "metadata": {},
   "outputs": [
    {
     "data": {
      "text/html": [
       "<table>\n",
       "<thead><tr><th scope=col>X</th><th scope=col>YM</th><th scope=col>CATEGORY</th><th scope=col>ITEM_CNT</th><th scope=col>QTY</th><th scope=col>PRICE</th><th scope=col>MAXTEMP</th><th scope=col>SALEDAY</th><th scope=col>RAIN_DAY</th><th scope=col>HOLIDAY</th></tr></thead>\n",
       "<tbody>\n",
       "\t<tr><td>1       </td><td>200901  </td><td>과즙음료</td><td>45      </td><td> 990    </td><td>2611    </td><td> 4      </td><td>126753  </td><td> 151    </td><td>12      </td></tr>\n",
       "\t<tr><td>2       </td><td>200902  </td><td>과즙음료</td><td>45      </td><td>1199    </td><td>2689    </td><td> 9      </td><td>113399  </td><td>3014    </td><td> 8      </td></tr>\n",
       "\t<tr><td>3       </td><td>200903  </td><td>과즙음료</td><td>43      </td><td>1102    </td><td>2735    </td><td>12      </td><td>129162  </td><td>1383    </td><td> 9      </td></tr>\n",
       "\t<tr><td>4       </td><td>200904  </td><td>과즙음료</td><td>42      </td><td>1326    </td><td>2807    </td><td>19      </td><td>126277  </td><td>3564    </td><td> 8      </td></tr>\n",
       "\t<tr><td>5       </td><td>200905  </td><td>과즙음료</td><td>46      </td><td>1672    </td><td>2674    </td><td>25      </td><td>129584  </td><td>9288    </td><td>12      </td></tr>\n",
       "\t<tr><td>6       </td><td>200906  </td><td>과즙음료</td><td>48      </td><td>1875    </td><td>2777    </td><td>27      </td><td>123218  </td><td>9998    </td><td> 8      </td></tr>\n",
       "</tbody>\n",
       "</table>\n"
      ],
      "text/latex": [
       "\\begin{tabular}{r|llllllllll}\n",
       " X & YM & CATEGORY & ITEM\\_CNT & QTY & PRICE & MAXTEMP & SALEDAY & RAIN\\_DAY & HOLIDAY\\\\\n",
       "\\hline\n",
       "\t 1        & 200901   & 과즙음료 & 45       &  990     & 2611     &  4       & 126753   &  151     & 12      \\\\\n",
       "\t 2        & 200902   & 과즙음료 & 45       & 1199     & 2689     &  9       & 113399   & 3014     &  8      \\\\\n",
       "\t 3        & 200903   & 과즙음료 & 43       & 1102     & 2735     & 12       & 129162   & 1383     &  9      \\\\\n",
       "\t 4        & 200904   & 과즙음료 & 42       & 1326     & 2807     & 19       & 126277   & 3564     &  8      \\\\\n",
       "\t 5        & 200905   & 과즙음료 & 46       & 1672     & 2674     & 25       & 129584   & 9288     & 12      \\\\\n",
       "\t 6        & 200906   & 과즙음료 & 48       & 1875     & 2777     & 27       & 123218   & 9998     &  8      \\\\\n",
       "\\end{tabular}\n"
      ],
      "text/markdown": [
       "\n",
       "| X | YM | CATEGORY | ITEM_CNT | QTY | PRICE | MAXTEMP | SALEDAY | RAIN_DAY | HOLIDAY |\n",
       "|---|---|---|---|---|---|---|---|---|---|\n",
       "| 1        | 200901   | 과즙음료 | 45       |  990     | 2611     |  4       | 126753   |  151     | 12       |\n",
       "| 2        | 200902   | 과즙음료 | 45       | 1199     | 2689     |  9       | 113399   | 3014     |  8       |\n",
       "| 3        | 200903   | 과즙음료 | 43       | 1102     | 2735     | 12       | 129162   | 1383     |  9       |\n",
       "| 4        | 200904   | 과즙음료 | 42       | 1326     | 2807     | 19       | 126277   | 3564     |  8       |\n",
       "| 5        | 200905   | 과즙음료 | 46       | 1672     | 2674     | 25       | 129584   | 9288     | 12       |\n",
       "| 6        | 200906   | 과즙음료 | 48       | 1875     | 2777     | 27       | 123218   | 9998     |  8       |\n",
       "\n"
      ],
      "text/plain": [
       "  X YM     CATEGORY ITEM_CNT QTY  PRICE MAXTEMP SALEDAY RAIN_DAY HOLIDAY\n",
       "1 1 200901 과즙음료 45        990 2611   4      126753   151     12     \n",
       "2 2 200902 과즙음료 45       1199 2689   9      113399  3014      8     \n",
       "3 3 200903 과즙음료 43       1102 2735  12      129162  1383      9     \n",
       "4 4 200904 과즙음료 42       1326 2807  19      126277  3564      8     \n",
       "5 5 200905 과즙음료 46       1672 2674  25      129584  9288     12     \n",
       "6 6 200906 과즙음료 48       1875 2777  27      123218  9998      8     "
      ]
     },
     "metadata": {},
     "output_type": "display_data"
    }
   ],
   "source": [
    "fruit_data = data %>%\n",
    "                filter(CATEGORY == '과즙음료')\n",
    "vitamin_data = data %>%\n",
    "                filter(CATEGORY == '비타민음료')\n",
    "tea_data = data %>%\n",
    "            filter(CATEGORY == '차음료')\n",
    "head(fruit_data)"
   ]
  },
  {
   "cell_type": "code",
   "execution_count": 187,
   "metadata": {},
   "outputs": [
    {
     "data": {
      "text/plain": [
       "\n",
       "Call:\n",
       "lm(formula = QTY ~ YM + ITEM_CNT + PRICE + MAXTEMP + SALEDAY + \n",
       "    RAIN_DAY + HOLIDAY, data = fruit_data)\n",
       "\n",
       "Residuals:\n",
       "    Min      1Q  Median      3Q     Max \n",
       "-494.17 -125.23  -11.88   91.29  582.96 \n",
       "\n",
       "Coefficients:\n",
       "              Estimate Std. Error t value Pr(>|t|)    \n",
       "(Intercept) -3.685e+05  1.483e+05  -2.485 0.016205 *  \n",
       "YM           1.825e+00  7.392e-01   2.469 0.016881 *  \n",
       "ITEM_CNT     1.841e+01  4.954e+00   3.717 0.000493 ***\n",
       "PRICE        3.442e-01  1.426e-01   2.413 0.019365 *  \n",
       "MAXTEMP      5.438e+01  3.929e+00  13.840  < 2e-16 ***\n",
       "SALEDAY      1.213e-03  2.611e-03   0.465 0.644188    \n",
       "RAIN_DAY    -1.278e-02  3.815e-03  -3.350 0.001513 ** \n",
       "HOLIDAY      3.963e+01  2.335e+01   1.697 0.095638 .  \n",
       "---\n",
       "Signif. codes:  0 '***' 0.001 '**' 0.01 '*' 0.05 '.' 0.1 ' ' 1\n",
       "\n",
       "Residual standard error: 207.9 on 52 degrees of freedom\n",
       "Multiple R-squared:  0.9041,\tAdjusted R-squared:  0.8912 \n",
       "F-statistic: 70.07 on 7 and 52 DF,  p-value: < 2.2e-16\n"
      ]
     },
     "metadata": {},
     "output_type": "display_data"
    }
   ],
   "source": [
    "fruit_model = lm(QTY ~ YM + ITEM_CNT + PRICE + MAXTEMP + SALEDAY + RAIN_DAY + HOLIDAY, data = fruit_data)\n",
    "summary(fruit_model)"
   ]
  },
  {
   "cell_type": "code",
   "execution_count": 188,
   "metadata": {},
   "outputs": [
    {
     "data": {
      "text/html": [
       "<dl class=dl-horizontal>\n",
       "\t<dt>YM</dt>\n",
       "\t\t<dd>15.1844752846188</dd>\n",
       "\t<dt>ITEM_CNT</dt>\n",
       "\t\t<dd>3.19736517213202</dd>\n",
       "\t<dt>PRICE</dt>\n",
       "\t\t<dd>3.59029616113871</dd>\n",
       "\t<dt>MAXTEMP</dt>\n",
       "\t\t<dd>2.00247746374382</dd>\n",
       "\t<dt>SALEDAY</dt>\n",
       "\t\t<dd>16.831973839009</dd>\n",
       "\t<dt>RAIN_DAY</dt>\n",
       "\t\t<dd>2.08031360679463</dd>\n",
       "\t<dt>HOLIDAY</dt>\n",
       "\t\t<dd>1.04704182109065</dd>\n",
       "</dl>\n"
      ],
      "text/latex": [
       "\\begin{description*}\n",
       "\\item[YM] 15.1844752846188\n",
       "\\item[ITEM\\textbackslash{}\\_CNT] 3.19736517213202\n",
       "\\item[PRICE] 3.59029616113871\n",
       "\\item[MAXTEMP] 2.00247746374382\n",
       "\\item[SALEDAY] 16.831973839009\n",
       "\\item[RAIN\\textbackslash{}\\_DAY] 2.08031360679463\n",
       "\\item[HOLIDAY] 1.04704182109065\n",
       "\\end{description*}\n"
      ],
      "text/markdown": [
       "YM\n",
       ":   15.1844752846188ITEM_CNT\n",
       ":   3.19736517213202PRICE\n",
       ":   3.59029616113871MAXTEMP\n",
       ":   2.00247746374382SALEDAY\n",
       ":   16.831973839009RAIN_DAY\n",
       ":   2.08031360679463HOLIDAY\n",
       ":   1.04704182109065\n",
       "\n"
      ],
      "text/plain": [
       "       YM  ITEM_CNT     PRICE   MAXTEMP   SALEDAY  RAIN_DAY   HOLIDAY \n",
       "15.184475  3.197365  3.590296  2.002477 16.831974  2.080314  1.047042 "
      ]
     },
     "metadata": {},
     "output_type": "display_data"
    }
   ],
   "source": [
    "vif(fruit_model)"
   ]
  },
  {
   "cell_type": "code",
   "execution_count": 189,
   "metadata": {},
   "outputs": [
    {
     "data": {
      "text/plain": [
       "\n",
       "Call:\n",
       "lm(formula = QTY ~ YM + ITEM_CNT + PRICE + MAXTEMP + RAIN_DAY + \n",
       "    HOLIDAY, data = fruit_data)\n",
       "\n",
       "Residuals:\n",
       "    Min      1Q  Median      3Q     Max \n",
       "-492.97 -123.46   -6.15   93.01  576.50 \n",
       "\n",
       "Coefficients:\n",
       "              Estimate Std. Error t value Pr(>|t|)    \n",
       "(Intercept) -4.265e+05  7.923e+04  -5.383 1.70e-06 ***\n",
       "YM           2.115e+00  3.938e-01   5.370 1.78e-06 ***\n",
       "ITEM_CNT     1.911e+01  4.685e+00   4.080 0.000152 ***\n",
       "PRICE        3.210e-01  1.326e-01   2.421 0.018953 *  \n",
       "MAXTEMP      5.457e+01  3.878e+00  14.073  < 2e-16 ***\n",
       "RAIN_DAY    -1.293e-02  3.772e-03  -3.429 0.001181 ** \n",
       "HOLIDAY      4.013e+01  2.315e+01   1.733 0.088824 .  \n",
       "---\n",
       "Signif. codes:  0 '***' 0.001 '**' 0.01 '*' 0.05 '.' 0.1 ' ' 1\n",
       "\n",
       "Residual standard error: 206.3 on 53 degrees of freedom\n",
       "Multiple R-squared:  0.9037,\tAdjusted R-squared:  0.8928 \n",
       "F-statistic: 82.94 on 6 and 53 DF,  p-value: < 2.2e-16\n"
      ]
     },
     "metadata": {},
     "output_type": "display_data"
    }
   ],
   "source": [
    "fruit_model = lm(QTY ~ YM + ITEM_CNT + PRICE + MAXTEMP + RAIN_DAY + HOLIDAY, data = fruit_data)\n",
    "summary(fruit_model)"
   ]
  },
  {
   "cell_type": "code",
   "execution_count": 190,
   "metadata": {},
   "outputs": [
    {
     "data": {
      "text/html": [
       "<dl class=dl-horizontal>\n",
       "\t<dt>YM</dt>\n",
       "\t\t<dd>4.37350146353797</dd>\n",
       "\t<dt>ITEM_CNT</dt>\n",
       "\t\t<dd>2.9025000511299</dd>\n",
       "\t<dt>PRICE</dt>\n",
       "\t\t<dd>3.15089447660996</dd>\n",
       "\t<dt>MAXTEMP</dt>\n",
       "\t\t<dd>1.97983523863556</dd>\n",
       "\t<dt>RAIN_DAY</dt>\n",
       "\t\t<dd>2.06441937913378</dd>\n",
       "\t<dt>HOLIDAY</dt>\n",
       "\t\t<dd>1.04478577137326</dd>\n",
       "</dl>\n"
      ],
      "text/latex": [
       "\\begin{description*}\n",
       "\\item[YM] 4.37350146353797\n",
       "\\item[ITEM\\textbackslash{}\\_CNT] 2.9025000511299\n",
       "\\item[PRICE] 3.15089447660996\n",
       "\\item[MAXTEMP] 1.97983523863556\n",
       "\\item[RAIN\\textbackslash{}\\_DAY] 2.06441937913378\n",
       "\\item[HOLIDAY] 1.04478577137326\n",
       "\\end{description*}\n"
      ],
      "text/markdown": [
       "YM\n",
       ":   4.37350146353797ITEM_CNT\n",
       ":   2.9025000511299PRICE\n",
       ":   3.15089447660996MAXTEMP\n",
       ":   1.97983523863556RAIN_DAY\n",
       ":   2.06441937913378HOLIDAY\n",
       ":   1.04478577137326\n",
       "\n"
      ],
      "text/plain": [
       "      YM ITEM_CNT    PRICE  MAXTEMP RAIN_DAY  HOLIDAY \n",
       "4.373501 2.902500 3.150894 1.979835 2.064419 1.044786 "
      ]
     },
     "metadata": {},
     "output_type": "display_data"
    }
   ],
   "source": [
    "vif(fruit_model)"
   ]
  },
  {
   "cell_type": "code",
   "execution_count": 191,
   "metadata": {},
   "outputs": [
    {
     "data": {
      "text/plain": [
       "\n",
       "Call:\n",
       "lm(formula = QTY ~ ITEM_CNT + PRICE + MAXTEMP + RAIN_DAY + HOLIDAY, \n",
       "    data = fruit_data)\n",
       "\n",
       "Residuals:\n",
       "    Min      1Q  Median      3Q     Max \n",
       "-476.77 -153.41   15.86  135.34  628.15 \n",
       "\n",
       "Coefficients:\n",
       "              Estimate Std. Error t value Pr(>|t|)    \n",
       "(Intercept) -1.036e+03  4.285e+02  -2.418   0.0190 *  \n",
       "ITEM_CNT     3.895e+01  3.547e+00  10.981 2.25e-15 ***\n",
       "PRICE       -2.512e-01  9.718e-02  -2.585   0.0125 *  \n",
       "MAXTEMP      4.959e+01  4.636e+00  10.699 5.93e-15 ***\n",
       "RAIN_DAY    -1.226e-02  4.641e-03  -2.642   0.0108 *  \n",
       "HOLIDAY      5.707e+01  2.823e+01   2.021   0.0482 *  \n",
       "---\n",
       "Signif. codes:  0 '***' 0.001 '**' 0.01 '*' 0.05 '.' 0.1 ' ' 1\n",
       "\n",
       "Residual standard error: 254 on 54 degrees of freedom\n",
       "Multiple R-squared:  0.8514,\tAdjusted R-squared:  0.8376 \n",
       "F-statistic: 61.86 on 5 and 54 DF,  p-value: < 2.2e-16\n"
      ]
     },
     "metadata": {},
     "output_type": "display_data"
    }
   ],
   "source": [
    "fruit_model = lm(QTY ~ ITEM_CNT + PRICE + MAXTEMP + RAIN_DAY + HOLIDAY, data = fruit_data)\n",
    "summary(fruit_model)"
   ]
  },
  {
   "cell_type": "code",
   "execution_count": 192,
   "metadata": {},
   "outputs": [
    {
     "data": {
      "text/html": [
       "<dl class=dl-horizontal>\n",
       "\t<dt>ITEM_CNT</dt>\n",
       "\t\t<dd>1.09800518068308</dd>\n",
       "\t<dt>PRICE</dt>\n",
       "\t\t<dd>1.11662880939967</dd>\n",
       "\t<dt>MAXTEMP</dt>\n",
       "\t\t<dd>1.86662966874344</dd>\n",
       "\t<dt>RAIN_DAY</dt>\n",
       "\t\t<dd>2.06215113838337</dd>\n",
       "\t<dt>HOLIDAY</dt>\n",
       "\t\t<dd>1.02539409227262</dd>\n",
       "</dl>\n"
      ],
      "text/latex": [
       "\\begin{description*}\n",
       "\\item[ITEM\\textbackslash{}\\_CNT] 1.09800518068308\n",
       "\\item[PRICE] 1.11662880939967\n",
       "\\item[MAXTEMP] 1.86662966874344\n",
       "\\item[RAIN\\textbackslash{}\\_DAY] 2.06215113838337\n",
       "\\item[HOLIDAY] 1.02539409227262\n",
       "\\end{description*}\n"
      ],
      "text/markdown": [
       "ITEM_CNT\n",
       ":   1.09800518068308PRICE\n",
       ":   1.11662880939967MAXTEMP\n",
       ":   1.86662966874344RAIN_DAY\n",
       ":   2.06215113838337HOLIDAY\n",
       ":   1.02539409227262\n",
       "\n"
      ],
      "text/plain": [
       "ITEM_CNT    PRICE  MAXTEMP RAIN_DAY  HOLIDAY \n",
       "1.098005 1.116629 1.866630 2.062151 1.025394 "
      ]
     },
     "metadata": {},
     "output_type": "display_data"
    }
   ],
   "source": [
    "vif(fruit_model)"
   ]
  },
  {
   "cell_type": "code",
   "execution_count": 215,
   "metadata": {},
   "outputs": [
    {
     "data": {
      "text/html": [
       "0.621126382834238"
      ],
      "text/latex": [
       "0.621126382834238"
      ],
      "text/markdown": [
       "0.621126382834238"
      ],
      "text/plain": [
       "[1] 0.6211264"
      ]
     },
     "metadata": {},
     "output_type": "display_data"
    }
   ],
   "source": [
    "cor(fruit_data$QTY, fruit_data$ITEM_CNT)"
   ]
  },
  {
   "cell_type": "code",
   "execution_count": 211,
   "metadata": {},
   "outputs": [],
   "source": [
    "a = lm(QTY ~ ITEM_CNT, data = fruit_data)"
   ]
  },
  {
   "cell_type": "code",
   "execution_count": 209,
   "metadata": {},
   "outputs": [
    {
     "data": {
      "image/png": "[encoded data removed]",
      "text/plain": [
       "plot without title"
      ]
     },
     "metadata": {},
     "output_type": "display_data"
    }
   ],
   "source": [
    "plot(x = fruit_data$ITEM_CNT, y = fruit_data$QTY)\n",
    "abline(a, col = 2)"
   ]
  },
  {
   "cell_type": "code",
   "execution_count": null,
   "metadata": {},
   "outputs": [],
   "source": []
  },
  {
   "cell_type": "code",
   "execution_count": 228,
   "metadata": {},
   "outputs": [
    {
     "data": {
      "text/html": [
       "<table>\n",
       "<thead><tr><th scope=col>YM</th><th scope=col>MAXTEMP</th><th scope=col>QTY</th></tr></thead>\n",
       "<tbody>\n",
       "\t<tr><td>200901</td><td> 4    </td><td> 990  </td></tr>\n",
       "\t<tr><td>200902</td><td> 9    </td><td>1199  </td></tr>\n",
       "\t<tr><td>200903</td><td>12    </td><td>1102  </td></tr>\n",
       "\t<tr><td>200904</td><td>19    </td><td>1326  </td></tr>\n",
       "\t<tr><td>200905</td><td>25    </td><td>1672  </td></tr>\n",
       "\t<tr><td>200906</td><td>27    </td><td>1875  </td></tr>\n",
       "\t<tr><td>200907</td><td>28    </td><td>1663  </td></tr>\n",
       "\t<tr><td>200908</td><td>29    </td><td>1957  </td></tr>\n",
       "\t<tr><td>200909</td><td>27    </td><td>2021  </td></tr>\n",
       "\t<tr><td>200910</td><td>22    </td><td>1718  </td></tr>\n",
       "\t<tr><td>200911</td><td>12    </td><td>1204  </td></tr>\n",
       "\t<tr><td>200912</td><td> 5    </td><td>1147  </td></tr>\n",
       "</tbody>\n",
       "</table>\n"
      ],
      "text/latex": [
       "\\begin{tabular}{r|lll}\n",
       " YM & MAXTEMP & QTY\\\\\n",
       "\\hline\n",
       "\t 200901 &  4     &  990  \\\\\n",
       "\t 200902 &  9     & 1199  \\\\\n",
       "\t 200903 & 12     & 1102  \\\\\n",
       "\t 200904 & 19     & 1326  \\\\\n",
       "\t 200905 & 25     & 1672  \\\\\n",
       "\t 200906 & 27     & 1875  \\\\\n",
       "\t 200907 & 28     & 1663  \\\\\n",
       "\t 200908 & 29     & 1957  \\\\\n",
       "\t 200909 & 27     & 2021  \\\\\n",
       "\t 200910 & 22     & 1718  \\\\\n",
       "\t 200911 & 12     & 1204  \\\\\n",
       "\t 200912 &  5     & 1147  \\\\\n",
       "\\end{tabular}\n"
      ],
      "text/markdown": [
       "\n",
       "| YM | MAXTEMP | QTY |\n",
       "|---|---|---|\n",
       "| 200901 |  4     |  990   |\n",
       "| 200902 |  9     | 1199   |\n",
       "| 200903 | 12     | 1102   |\n",
       "| 200904 | 19     | 1326   |\n",
       "| 200905 | 25     | 1672   |\n",
       "| 200906 | 27     | 1875   |\n",
       "| 200907 | 28     | 1663   |\n",
       "| 200908 | 29     | 1957   |\n",
       "| 200909 | 27     | 2021   |\n",
       "| 200910 | 22     | 1718   |\n",
       "| 200911 | 12     | 1204   |\n",
       "| 200912 |  5     | 1147   |\n",
       "\n"
      ],
      "text/plain": [
       "   YM     MAXTEMP QTY \n",
       "1  200901  4       990\n",
       "2  200902  9      1199\n",
       "3  200903 12      1102\n",
       "4  200904 19      1326\n",
       "5  200905 25      1672\n",
       "6  200906 27      1875\n",
       "7  200907 28      1663\n",
       "8  200908 29      1957\n",
       "9  200909 27      2021\n",
       "10 200910 22      1718\n",
       "11 200911 12      1204\n",
       "12 200912  5      1147"
      ]
     },
     "metadata": {},
     "output_type": "display_data"
    }
   ],
   "source": [
    "fruit_data_2009 = fruit_data %>%\n",
    "                    select(YM, MAXTEMP, QTY) %>%\n",
    "                    filter(grepl('^2009', YM))\n",
    "fruit_data_2010 = fruit_data %>%\n",
    "                    select(YM, MAXTEMP, QTY) %>%\n",
    "                    filter(grepl('^2010', YM))\n",
    "fruit_data_2011 = fruit_data %>%\n",
    "                    select(YM, MAXTEMP, QTY) %>%\n",
    "                    filter(grepl('^2011', YM))\n",
    "fruit_data_2012 = fruit_data %>%\n",
    "                    select(YM, MAXTEMP, QTY) %>%\n",
    "                    filter(grepl('^2012', YM))\n",
    "fruit_data_2013 = fruit_data %>%\n",
    "                    select(YM, MAXTEMP, QTY) %>%\n",
    "                    filter(grepl('^2013', YM))\n",
    "\n",
    "fruit_data_2009"
   ]
  },
  {
   "cell_type": "code",
   "execution_count": 227,
   "metadata": {},
   "outputs": [
    {
     "data": {
      "image/png": "[encoded data removed]",
      "text/plain": [
       "plot without title"
      ]
     },
     "metadata": {},
     "output_type": "display_data"
    }
   ],
   "source": [
    "par(mfrow = c(3,2))\n",
    "plot(fruit_data_2009)\n",
    "plot(fruit_data_2010)\n",
    "plot(fruit_data_2011)\n",
    "plot(fruit_data_2012)\n",
    "plot(fruit_data_2013)"
   ]
  },
  {
   "cell_type": "code",
   "execution_count": 242,
   "metadata": {},
   "outputs": [
    {
     "data": {
      "text/html": [
       "<table>\n",
       "<thead><tr><th scope=col>M</th><th scope=col>y09</th><th scope=col>y10</th><th scope=col>y11</th><th scope=col>y12</th><th scope=col>y13</th><th scope=col>QTY_mean</th><th scope=col>Temp_mean</th></tr></thead>\n",
       "<tbody>\n",
       "\t<tr><td>200901</td><td>27    </td><td>226   </td><td> 581  </td><td> 481  </td><td> 432  </td><td>349.4 </td><td> 2.0  </td></tr>\n",
       "\t<tr><td>200902</td><td>29    </td><td>185   </td><td> 691  </td><td> 441  </td><td> 447  </td><td>358.6 </td><td> 6.6  </td></tr>\n",
       "\t<tr><td>200903</td><td>67    </td><td>229   </td><td> 452  </td><td> 545  </td><td> 623  </td><td>383.2 </td><td>11.0  </td></tr>\n",
       "\t<tr><td>200904</td><td>60    </td><td>326   </td><td> 511  </td><td> 659  </td><td>1089  </td><td>529.0 </td><td>16.8  </td></tr>\n",
       "\t<tr><td>200905</td><td>74    </td><td>445   </td><td> 660  </td><td> 771  </td><td>1524  </td><td>694.8 </td><td>23.6  </td></tr>\n",
       "\t<tr><td>200906</td><td>84    </td><td>438   </td><td>1088  </td><td> 776  </td><td> 978  </td><td>672.8 </td><td>27.6  </td></tr>\n",
       "\t<tr><td>200907</td><td>61    </td><td>387   </td><td> 992  </td><td> 893  </td><td>1036  </td><td>673.8 </td><td>28.8  </td></tr>\n",
       "\t<tr><td>200908</td><td>63    </td><td>599   </td><td>1022  </td><td>1338  </td><td>1155  </td><td>835.4 </td><td>30.0  </td></tr>\n",
       "\t<tr><td>200909</td><td>56    </td><td>728   </td><td> 991  </td><td> 792  </td><td> 822  </td><td>677.8 </td><td>26.2  </td></tr>\n",
       "\t<tr><td>200910</td><td>50    </td><td>916   </td><td> 734  </td><td>1222  </td><td> 730  </td><td>730.4 </td><td>20.8  </td></tr>\n",
       "\t<tr><td>200911</td><td>31    </td><td>687   </td><td> 554  </td><td> 833  </td><td> 502  </td><td>521.4 </td><td>12.8  </td></tr>\n",
       "\t<tr><td>200912</td><td>42    </td><td>601   </td><td> 460  </td><td> 727  </td><td> 345  </td><td>435.0 </td><td> 4.4  </td></tr>\n",
       "</tbody>\n",
       "</table>\n"
      ],
      "text/latex": [
       "\\begin{tabular}{r|llllllll}\n",
       " M & y09 & y10 & y11 & y12 & y13 & QTY\\_mean & Temp\\_mean\\\\\n",
       "\\hline\n",
       "\t 200901 & 27     & 226    &  581   &  481   &  432   & 349.4  &  2.0  \\\\\n",
       "\t 200902 & 29     & 185    &  691   &  441   &  447   & 358.6  &  6.6  \\\\\n",
       "\t 200903 & 67     & 229    &  452   &  545   &  623   & 383.2  & 11.0  \\\\\n",
       "\t 200904 & 60     & 326    &  511   &  659   & 1089   & 529.0  & 16.8  \\\\\n",
       "\t 200905 & 74     & 445    &  660   &  771   & 1524   & 694.8  & 23.6  \\\\\n",
       "\t 200906 & 84     & 438    & 1088   &  776   &  978   & 672.8  & 27.6  \\\\\n",
       "\t 200907 & 61     & 387    &  992   &  893   & 1036   & 673.8  & 28.8  \\\\\n",
       "\t 200908 & 63     & 599    & 1022   & 1338   & 1155   & 835.4  & 30.0  \\\\\n",
       "\t 200909 & 56     & 728    &  991   &  792   &  822   & 677.8  & 26.2  \\\\\n",
       "\t 200910 & 50     & 916    &  734   & 1222   &  730   & 730.4  & 20.8  \\\\\n",
       "\t 200911 & 31     & 687    &  554   &  833   &  502   & 521.4  & 12.8  \\\\\n",
       "\t 200912 & 42     & 601    &  460   &  727   &  345   & 435.0  &  4.4  \\\\\n",
       "\\end{tabular}\n"
      ],
      "text/markdown": [
       "\n",
       "| M | y09 | y10 | y11 | y12 | y13 | QTY_mean | Temp_mean |\n",
       "|---|---|---|---|---|---|---|---|\n",
       "| 200901 | 27     | 226    |  581   |  481   |  432   | 349.4  |  2.0   |\n",
       "| 200902 | 29     | 185    |  691   |  441   |  447   | 358.6  |  6.6   |\n",
       "| 200903 | 67     | 229    |  452   |  545   |  623   | 383.2  | 11.0   |\n",
       "| 200904 | 60     | 326    |  511   |  659   | 1089   | 529.0  | 16.8   |\n",
       "| 200905 | 74     | 445    |  660   |  771   | 1524   | 694.8  | 23.6   |\n",
       "| 200906 | 84     | 438    | 1088   |  776   |  978   | 672.8  | 27.6   |\n",
       "| 200907 | 61     | 387    |  992   |  893   | 1036   | 673.8  | 28.8   |\n",
       "| 200908 | 63     | 599    | 1022   | 1338   | 1155   | 835.4  | 30.0   |\n",
       "| 200909 | 56     | 728    |  991   |  792   |  822   | 677.8  | 26.2   |\n",
       "| 200910 | 50     | 916    |  734   | 1222   |  730   | 730.4  | 20.8   |\n",
       "| 200911 | 31     | 687    |  554   |  833   |  502   | 521.4  | 12.8   |\n",
       "| 200912 | 42     | 601    |  460   |  727   |  345   | 435.0  |  4.4   |\n",
       "\n"
      ],
      "text/plain": [
       "   M      y09 y10 y11  y12  y13  QTY_mean Temp_mean\n",
       "1  200901 27  226  581  481  432 349.4     2.0     \n",
       "2  200902 29  185  691  441  447 358.6     6.6     \n",
       "3  200903 67  229  452  545  623 383.2    11.0     \n",
       "4  200904 60  326  511  659 1089 529.0    16.8     \n",
       "5  200905 74  445  660  771 1524 694.8    23.6     \n",
       "6  200906 84  438 1088  776  978 672.8    27.6     \n",
       "7  200907 61  387  992  893 1036 673.8    28.8     \n",
       "8  200908 63  599 1022 1338 1155 835.4    30.0     \n",
       "9  200909 56  728  991  792  822 677.8    26.2     \n",
       "10 200910 50  916  734 1222  730 730.4    20.8     \n",
       "11 200911 31  687  554  833  502 521.4    12.8     \n",
       "12 200912 42  601  460  727  345 435.0     4.4     "
      ]
     },
     "metadata": {},
     "output_type": "display_data"
    }
   ],
   "source": [
    "vitamin_data_2009 = vitamin_data %>%\n",
    "                    select(YM, MAXTEMP, QTY) %>%\n",
    "                    filter(grepl('^2009', YM))\n",
    "vitamin_data_2010 = vitamin_data %>%\n",
    "                    select(YM, MAXTEMP, QTY) %>%\n",
    "                    filter(grepl('^2010', YM))\n",
    "vitamin_data_2011 = vitamin_data %>%\n",
    "                    select(YM, MAXTEMP, QTY) %>%\n",
    "                    filter(grepl('^2011', YM))\n",
    "vitamin_data_2012 = vitamin_data %>%\n",
    "                    select(YM, MAXTEMP, QTY) %>%\n",
    "                    filter(grepl('^2012', YM))\n",
    "vitamin_data_2013 = vitamin_data %>%\n",
    "                    select(YM, MAXTEMP, QTY) %>%\n",
    "                    filter(grepl('^2013', YM))\n",
    "\n",
    "vitamin_data_t = data.frame(vitamin_data_2009$YM, vitamin_data_2009$MAXTEMP)\n",
    "vitamin_data_t = cbind(vitamin_data_t, vitamin_data_2010$MAXTEMP, vitamin_data_2011$MAXTEMP, vitamin_data_2012$MAXTEMP,\n",
    "                       vitamin_data_2013$MAXTEMP)\n",
    "vitamin_data_t$t_mean = apply(vitamin_data_t[-c(1)], 1, mean)\n",
    "\n",
    "vitamin_data_ = data.frame(vitamin_data_2009$YM, vitamin_data_2009$QTY)\n",
    "vitamin_data_ = cbind(vitamin_data_, vitamin_data_2010$QTY, vitamin_data_2011$QTY, vitamin_data_2012$QTY, vitamin_data_2013$QTY)\n",
    "\n",
    "vitamin_data_$mean = apply(vitamin_data_[-c(1)], 1, mean)\n",
    "vitamin_data_ = cbind(vitamin_data_, vitamin_data_t$t_mean)\n",
    "colnames(vitamin_data_) = c('M', 'y09', 'y10', 'y11', 'y12', 'y13', 'QTY_mean', 'Temp_mean')\n",
    "\n",
    "vitamin_data_"
   ]
  },
  {
   "cell_type": "code",
   "execution_count": 93,
   "metadata": {},
   "outputs": [
    {
     "data": {
      "image/png": "[encoded data removed]",
      "text/plain": [
       "plot without title"
      ]
     },
     "metadata": {},
     "output_type": "display_data"
    }
   ],
   "source": [
    "par(mfrow = c(3, 2))\n",
    "plot(vitamin_data_2009)\n",
    "plot(vitamin_data_2010)\n",
    "plot(vitamin_data_2011)\n",
    "plot(vitamin_data_2012)\n",
    "plot(vitamin_data_2013)\n",
    "plot(vitamin_data_$mean)"
   ]
  },
  {
   "cell_type": "code",
   "execution_count": 241,
   "metadata": {},
   "outputs": [
    {
     "data": {
      "text/html": [
       "<table>\n",
       "<thead><tr><th scope=col>M</th><th scope=col>y09</th><th scope=col>y10</th><th scope=col>y11</th><th scope=col>y12</th><th scope=col>y13</th><th scope=col>QTY_mean</th><th scope=col>Temp_mean</th></tr></thead>\n",
       "<tbody>\n",
       "\t<tr><td>200901</td><td>1346  </td><td>1463  </td><td>1685  </td><td>2115  </td><td>2089  </td><td>1739.6</td><td> 2.0  </td></tr>\n",
       "\t<tr><td>200902</td><td>1260  </td><td>1336  </td><td>1648  </td><td>1804  </td><td>1880  </td><td>1585.6</td><td> 6.6  </td></tr>\n",
       "\t<tr><td>200903</td><td>1664  </td><td>1645  </td><td>2069  </td><td>2297  </td><td>2348  </td><td>2004.6</td><td>11.0  </td></tr>\n",
       "\t<tr><td>200904</td><td>2125  </td><td>1979  </td><td>2473  </td><td>3001  </td><td>2435  </td><td>2402.6</td><td>16.8  </td></tr>\n",
       "\t<tr><td>200905</td><td>2220  </td><td>2193  </td><td>2626  </td><td>3992  </td><td>3209  </td><td>2848.0</td><td>23.6  </td></tr>\n",
       "\t<tr><td>200906</td><td>2082  </td><td>2366  </td><td>2779  </td><td>3243  </td><td>3274  </td><td>2748.8</td><td>27.6  </td></tr>\n",
       "\t<tr><td>200907</td><td>2153  </td><td>2385  </td><td>2717  </td><td>3206  </td><td>3395  </td><td>2771.2</td><td>28.8  </td></tr>\n",
       "\t<tr><td>200908</td><td>2479  </td><td>2561  </td><td>2674  </td><td>3778  </td><td>3894  </td><td>3077.2</td><td>30.0  </td></tr>\n",
       "\t<tr><td>200909</td><td>2394  </td><td>2222  </td><td>2879  </td><td>2965  </td><td>3708  </td><td>2833.6</td><td>26.2  </td></tr>\n",
       "\t<tr><td>200910</td><td>2116  </td><td>2276  </td><td>2535  </td><td>3090  </td><td>3413  </td><td>2686.0</td><td>20.8  </td></tr>\n",
       "\t<tr><td>200911</td><td>1657  </td><td>1919  </td><td>2322  </td><td>2267  </td><td>2615  </td><td>2156.0</td><td>12.8  </td></tr>\n",
       "\t<tr><td>200912</td><td>1518  </td><td>1898  </td><td>2242  </td><td>2295  </td><td>2443  </td><td>2079.2</td><td> 4.4  </td></tr>\n",
       "</tbody>\n",
       "</table>\n"
      ],
      "text/latex": [
       "\\begin{tabular}{r|llllllll}\n",
       " M & y09 & y10 & y11 & y12 & y13 & QTY\\_mean & Temp\\_mean\\\\\n",
       "\\hline\n",
       "\t 200901 & 1346   & 1463   & 1685   & 2115   & 2089   & 1739.6 &  2.0  \\\\\n",
       "\t 200902 & 1260   & 1336   & 1648   & 1804   & 1880   & 1585.6 &  6.6  \\\\\n",
       "\t 200903 & 1664   & 1645   & 2069   & 2297   & 2348   & 2004.6 & 11.0  \\\\\n",
       "\t 200904 & 2125   & 1979   & 2473   & 3001   & 2435   & 2402.6 & 16.8  \\\\\n",
       "\t 200905 & 2220   & 2193   & 2626   & 3992   & 3209   & 2848.0 & 23.6  \\\\\n",
       "\t 200906 & 2082   & 2366   & 2779   & 3243   & 3274   & 2748.8 & 27.6  \\\\\n",
       "\t 200907 & 2153   & 2385   & 2717   & 3206   & 3395   & 2771.2 & 28.8  \\\\\n",
       "\t 200908 & 2479   & 2561   & 2674   & 3778   & 3894   & 3077.2 & 30.0  \\\\\n",
       "\t 200909 & 2394   & 2222   & 2879   & 2965   & 3708   & 2833.6 & 26.2  \\\\\n",
       "\t 200910 & 2116   & 2276   & 2535   & 3090   & 3413   & 2686.0 & 20.8  \\\\\n",
       "\t 200911 & 1657   & 1919   & 2322   & 2267   & 2615   & 2156.0 & 12.8  \\\\\n",
       "\t 200912 & 1518   & 1898   & 2242   & 2295   & 2443   & 2079.2 &  4.4  \\\\\n",
       "\\end{tabular}\n"
      ],
      "text/markdown": [
       "\n",
       "| M | y09 | y10 | y11 | y12 | y13 | QTY_mean | Temp_mean |\n",
       "|---|---|---|---|---|---|---|---|\n",
       "| 200901 | 1346   | 1463   | 1685   | 2115   | 2089   | 1739.6 |  2.0   |\n",
       "| 200902 | 1260   | 1336   | 1648   | 1804   | 1880   | 1585.6 |  6.6   |\n",
       "| 200903 | 1664   | 1645   | 2069   | 2297   | 2348   | 2004.6 | 11.0   |\n",
       "| 200904 | 2125   | 1979   | 2473   | 3001   | 2435   | 2402.6 | 16.8   |\n",
       "| 200905 | 2220   | 2193   | 2626   | 3992   | 3209   | 2848.0 | 23.6   |\n",
       "| 200906 | 2082   | 2366   | 2779   | 3243   | 3274   | 2748.8 | 27.6   |\n",
       "| 200907 | 2153   | 2385   | 2717   | 3206   | 3395   | 2771.2 | 28.8   |\n",
       "| 200908 | 2479   | 2561   | 2674   | 3778   | 3894   | 3077.2 | 30.0   |\n",
       "| 200909 | 2394   | 2222   | 2879   | 2965   | 3708   | 2833.6 | 26.2   |\n",
       "| 200910 | 2116   | 2276   | 2535   | 3090   | 3413   | 2686.0 | 20.8   |\n",
       "| 200911 | 1657   | 1919   | 2322   | 2267   | 2615   | 2156.0 | 12.8   |\n",
       "| 200912 | 1518   | 1898   | 2242   | 2295   | 2443   | 2079.2 |  4.4   |\n",
       "\n"
      ],
      "text/plain": [
       "   M      y09  y10  y11  y12  y13  QTY_mean Temp_mean\n",
       "1  200901 1346 1463 1685 2115 2089 1739.6    2.0     \n",
       "2  200902 1260 1336 1648 1804 1880 1585.6    6.6     \n",
       "3  200903 1664 1645 2069 2297 2348 2004.6   11.0     \n",
       "4  200904 2125 1979 2473 3001 2435 2402.6   16.8     \n",
       "5  200905 2220 2193 2626 3992 3209 2848.0   23.6     \n",
       "6  200906 2082 2366 2779 3243 3274 2748.8   27.6     \n",
       "7  200907 2153 2385 2717 3206 3395 2771.2   28.8     \n",
       "8  200908 2479 2561 2674 3778 3894 3077.2   30.0     \n",
       "9  200909 2394 2222 2879 2965 3708 2833.6   26.2     \n",
       "10 200910 2116 2276 2535 3090 3413 2686.0   20.8     \n",
       "11 200911 1657 1919 2322 2267 2615 2156.0   12.8     \n",
       "12 200912 1518 1898 2242 2295 2443 2079.2    4.4     "
      ]
     },
     "metadata": {},
     "output_type": "display_data"
    }
   ],
   "source": [
    "tea_data_2009 = tea_data %>%\n",
    "                    select(YM, MAXTEMP, QTY) %>%\n",
    "                    filter(grepl('^2009', YM))\n",
    "tea_data_2010 = tea_data %>%\n",
    "                    select(YM, MAXTEMP, QTY) %>%\n",
    "                    filter(grepl('^2010', YM))\n",
    "tea_data_2011 = tea_data %>%\n",
    "                    select(YM, MAXTEMP, QTY) %>%\n",
    "                    filter(grepl('^2011', YM))\n",
    "tea_data_2012 = tea_data %>%\n",
    "                    select(YM, MAXTEMP, QTY) %>%\n",
    "                    filter(grepl('^2012', YM))\n",
    "tea_data_2013 = tea_data %>%\n",
    "                    select(YM, MAXTEMP, QTY) %>%\n",
    "                    filter(grepl('^2013', YM))\n",
    "\n",
    "tea_data_t = data.frame(tea_data_2009$YM, tea_data_2009$MAXTEMP)\n",
    "tea_data_t = cbind(tea_data_t, tea_data_2010$MAXTEMP, tea_data_2011$MAXTEMP, tea_data_2012$MAXTEMP, tea_data_2013$MAXTEMP)\n",
    "tea_data_t$t_mean = apply(tea_data_t[-c(1)], 1, mean)\n",
    "\n",
    "tea_data_ = data.frame(tea_data_2009$YM, tea_data_2009$QTY)\n",
    "tea_data_ = cbind(tea_data_, tea_data_2010$QTY, tea_data_2011$QTY, tea_data_2012$QTY, tea_data_2013$QTY)\n",
    "\n",
    "tea_data_$mean = apply(tea_data_[-c(1)], 1, mean)\n",
    "tea_data_ = cbind(tea_data_, tea_data_t$t_mean)\n",
    "colnames(tea_data_) = c('M', 'y09', 'y10', 'y11', 'y12', 'y13', 'QTY_mean', 'Temp_mean')\n",
    "\n",
    "tea_data_"
   ]
  },
  {
   "cell_type": "code",
   "execution_count": 94,
   "metadata": {},
   "outputs": [
    {
     "data": {
      "image/png": "[encoded data removed]",
      "text/plain": [
       "plot without title"
      ]
     },
     "metadata": {},
     "output_type": "display_data"
    }
   ],
   "source": [
    "par(mfrow = c(3, 2))\n",
    "plot(tea_data_2009)\n",
    "plot(tea_data_2010)\n",
    "plot(tea_data_2011)\n",
    "plot(tea_data_2012)\n",
    "plot(tea_data_2013)\n",
    "plot(tea_data_$mean)"
   ]
  },
  {
   "cell_type": "code",
   "execution_count": 231,
   "metadata": {},
   "outputs": [
    {
     "data": {
      "text/html": [
       "<table>\n",
       "<thead><tr><th scope=col>fruit_data_2009.YM</th><th scope=col>fruit_data_2009.QTY</th><th scope=col>fruit_data_2010$QTY</th><th scope=col>fruit_data_2011$QTY</th><th scope=col>fruit_data_2012$QTY</th><th scope=col>fruit_data_2013$QTY</th></tr></thead>\n",
       "<tbody>\n",
       "\t<tr><td> 1  </td><td> 990</td><td>1106</td><td>1268</td><td>1402</td><td>1627</td></tr>\n",
       "\t<tr><td> 2  </td><td>1199</td><td>1361</td><td>1528</td><td>1859</td><td>1624</td></tr>\n",
       "\t<tr><td> 3  </td><td>1102</td><td>1432</td><td>1874</td><td>2566</td><td>2103</td></tr>\n",
       "\t<tr><td> 4  </td><td>1326</td><td>1750</td><td>2200</td><td>2475</td><td>2117</td></tr>\n",
       "\t<tr><td> 5  </td><td>1672</td><td>2204</td><td>3247</td><td>3653</td><td>2606</td></tr>\n",
       "\t<tr><td> 6  </td><td>1875</td><td>2366</td><td>2783</td><td>3474</td><td>2621</td></tr>\n",
       "\t<tr><td> 7  </td><td>1663</td><td>2681</td><td>2593</td><td>2568</td><td>2336</td></tr>\n",
       "\t<tr><td> 8  </td><td>1957</td><td>2321</td><td>2765</td><td>2854</td><td>2755</td></tr>\n",
       "\t<tr><td> 9  </td><td>2021</td><td>1963</td><td>2971</td><td>2744</td><td>2992</td></tr>\n",
       "\t<tr><td>10  </td><td>1718</td><td>2321</td><td>2459</td><td>2369</td><td>2563</td></tr>\n",
       "\t<tr><td>11  </td><td>1204</td><td>1548</td><td>2299</td><td>1833</td><td>1878</td></tr>\n",
       "\t<tr><td>12  </td><td>1147</td><td>1306</td><td>1823</td><td>1621</td><td>1770</td></tr>\n",
       "</tbody>\n",
       "</table>\n"
      ],
      "text/latex": [
       "\\begin{tabular}{r|llllll}\n",
       " fruit\\_data\\_2009.YM & fruit\\_data\\_2009.QTY & fruit\\_data\\_2010\\$QTY & fruit\\_data\\_2011\\$QTY & fruit\\_data\\_2012\\$QTY & fruit\\_data\\_2013\\$QTY\\\\\n",
       "\\hline\n",
       "\t  1   &  990 & 1106 & 1268 & 1402 & 1627\\\\\n",
       "\t  2   & 1199 & 1361 & 1528 & 1859 & 1624\\\\\n",
       "\t  3   & 1102 & 1432 & 1874 & 2566 & 2103\\\\\n",
       "\t  4   & 1326 & 1750 & 2200 & 2475 & 2117\\\\\n",
       "\t  5   & 1672 & 2204 & 3247 & 3653 & 2606\\\\\n",
       "\t  6   & 1875 & 2366 & 2783 & 3474 & 2621\\\\\n",
       "\t  7   & 1663 & 2681 & 2593 & 2568 & 2336\\\\\n",
       "\t  8   & 1957 & 2321 & 2765 & 2854 & 2755\\\\\n",
       "\t  9   & 2021 & 1963 & 2971 & 2744 & 2992\\\\\n",
       "\t 10   & 1718 & 2321 & 2459 & 2369 & 2563\\\\\n",
       "\t 11   & 1204 & 1548 & 2299 & 1833 & 1878\\\\\n",
       "\t 12   & 1147 & 1306 & 1823 & 1621 & 1770\\\\\n",
       "\\end{tabular}\n"
      ],
      "text/markdown": [
       "\n",
       "| fruit_data_2009.YM | fruit_data_2009.QTY | fruit_data_2010$QTY | fruit_data_2011$QTY | fruit_data_2012$QTY | fruit_data_2013$QTY |\n",
       "|---|---|---|---|---|---|\n",
       "|  1   |  990 | 1106 | 1268 | 1402 | 1627 |\n",
       "|  2   | 1199 | 1361 | 1528 | 1859 | 1624 |\n",
       "|  3   | 1102 | 1432 | 1874 | 2566 | 2103 |\n",
       "|  4   | 1326 | 1750 | 2200 | 2475 | 2117 |\n",
       "|  5   | 1672 | 2204 | 3247 | 3653 | 2606 |\n",
       "|  6   | 1875 | 2366 | 2783 | 3474 | 2621 |\n",
       "|  7   | 1663 | 2681 | 2593 | 2568 | 2336 |\n",
       "|  8   | 1957 | 2321 | 2765 | 2854 | 2755 |\n",
       "|  9   | 2021 | 1963 | 2971 | 2744 | 2992 |\n",
       "| 10   | 1718 | 2321 | 2459 | 2369 | 2563 |\n",
       "| 11   | 1204 | 1548 | 2299 | 1833 | 1878 |\n",
       "| 12   | 1147 | 1306 | 1823 | 1621 | 1770 |\n",
       "\n"
      ],
      "text/plain": [
       "   fruit_data_2009.YM fruit_data_2009.QTY fruit_data_2010$QTY\n",
       "1   1                  990                1106               \n",
       "2   2                 1199                1361               \n",
       "3   3                 1102                1432               \n",
       "4   4                 1326                1750               \n",
       "5   5                 1672                2204               \n",
       "6   6                 1875                2366               \n",
       "7   7                 1663                2681               \n",
       "8   8                 1957                2321               \n",
       "9   9                 2021                1963               \n",
       "10 10                 1718                2321               \n",
       "11 11                 1204                1548               \n",
       "12 12                 1147                1306               \n",
       "   fruit_data_2011$QTY fruit_data_2012$QTY fruit_data_2013$QTY\n",
       "1  1268                1402                1627               \n",
       "2  1528                1859                1624               \n",
       "3  1874                2566                2103               \n",
       "4  2200                2475                2117               \n",
       "5  3247                3653                2606               \n",
       "6  2783                3474                2621               \n",
       "7  2593                2568                2336               \n",
       "8  2765                2854                2755               \n",
       "9  2971                2744                2992               \n",
       "10 2459                2369                2563               \n",
       "11 2299                1833                1878               \n",
       "12 1823                1621                1770               "
      ]
     },
     "metadata": {},
     "output_type": "display_data"
    }
   ],
   "source": [
    "fruit_data_2009$YM = seq(1:12)\n",
    "fruit_data_2010$YM = seq(1:12)\n",
    "fruit_data_2011$YM = seq(1:12)\n",
    "fruit_data_2012$YM = seq(1:12)\n",
    "fruit_data_2013$YM = seq(1:12)\n",
    "\n",
    "fruit_data_t = data.frame(fruit_data_2009$YM, fruit_data_2009$MAXTEMP)\n",
    "fruit_data_t = cbind(fruit_data_t, fruit_data_2010$MAXTEMP, fruit_data_2011$MAXTEMP, fruit_data_2012$MAXTEMP, fruit_data_2013$MAXTEMP)\n",
    "fruit_data_t$t_mean = apply(fruit_data_t[-c(1)], 1, mean)\n",
    "\n",
    "fruit_data_ = data.frame(fruit_data_2009$YM, fruit_data_2009$QTY)\n",
    "fruit_data_ = cbind(fruit_data_, fruit_data_2010$QTY, fruit_data_2011$QTY, fruit_data_2012$QTY, fruit_data_2013$QTY)\n",
    "\n",
    "fruit_data_"
   ]
  },
  {
   "cell_type": "code",
   "execution_count": 232,
   "metadata": {},
   "outputs": [
    {
     "data": {
      "text/html": [
       "<table>\n",
       "<thead><tr><th scope=col>M</th><th scope=col>y09</th><th scope=col>y10</th><th scope=col>y11</th><th scope=col>y12</th><th scope=col>y13</th><th scope=col>QTY_mean</th><th scope=col>Temp_mean</th></tr></thead>\n",
       "<tbody>\n",
       "\t<tr><td> 1    </td><td> 990  </td><td>1106  </td><td>1268  </td><td>1402  </td><td>1627  </td><td>1278.6</td><td> 2.0  </td></tr>\n",
       "\t<tr><td> 2    </td><td>1199  </td><td>1361  </td><td>1528  </td><td>1859  </td><td>1624  </td><td>1514.2</td><td> 6.6  </td></tr>\n",
       "\t<tr><td> 3    </td><td>1102  </td><td>1432  </td><td>1874  </td><td>2566  </td><td>2103  </td><td>1815.4</td><td>11.0  </td></tr>\n",
       "\t<tr><td> 4    </td><td>1326  </td><td>1750  </td><td>2200  </td><td>2475  </td><td>2117  </td><td>1973.6</td><td>16.8  </td></tr>\n",
       "\t<tr><td> 5    </td><td>1672  </td><td>2204  </td><td>3247  </td><td>3653  </td><td>2606  </td><td>2676.4</td><td>23.6  </td></tr>\n",
       "\t<tr><td> 6    </td><td>1875  </td><td>2366  </td><td>2783  </td><td>3474  </td><td>2621  </td><td>2623.8</td><td>27.6  </td></tr>\n",
       "\t<tr><td> 7    </td><td>1663  </td><td>2681  </td><td>2593  </td><td>2568  </td><td>2336  </td><td>2368.2</td><td>28.8  </td></tr>\n",
       "\t<tr><td> 8    </td><td>1957  </td><td>2321  </td><td>2765  </td><td>2854  </td><td>2755  </td><td>2530.4</td><td>30.0  </td></tr>\n",
       "\t<tr><td> 9    </td><td>2021  </td><td>1963  </td><td>2971  </td><td>2744  </td><td>2992  </td><td>2538.2</td><td>26.2  </td></tr>\n",
       "\t<tr><td>10    </td><td>1718  </td><td>2321  </td><td>2459  </td><td>2369  </td><td>2563  </td><td>2286.0</td><td>20.8  </td></tr>\n",
       "\t<tr><td>11    </td><td>1204  </td><td>1548  </td><td>2299  </td><td>1833  </td><td>1878  </td><td>1752.4</td><td>12.8  </td></tr>\n",
       "\t<tr><td>12    </td><td>1147  </td><td>1306  </td><td>1823  </td><td>1621  </td><td>1770  </td><td>1533.4</td><td> 4.4  </td></tr>\n",
       "</tbody>\n",
       "</table>\n"
      ],
      "text/latex": [
       "\\begin{tabular}{r|llllllll}\n",
       " M & y09 & y10 & y11 & y12 & y13 & QTY\\_mean & Temp\\_mean\\\\\n",
       "\\hline\n",
       "\t  1     &  990   & 1106   & 1268   & 1402   & 1627   & 1278.6 &  2.0  \\\\\n",
       "\t  2     & 1199   & 1361   & 1528   & 1859   & 1624   & 1514.2 &  6.6  \\\\\n",
       "\t  3     & 1102   & 1432   & 1874   & 2566   & 2103   & 1815.4 & 11.0  \\\\\n",
       "\t  4     & 1326   & 1750   & 2200   & 2475   & 2117   & 1973.6 & 16.8  \\\\\n",
       "\t  5     & 1672   & 2204   & 3247   & 3653   & 2606   & 2676.4 & 23.6  \\\\\n",
       "\t  6     & 1875   & 2366   & 2783   & 3474   & 2621   & 2623.8 & 27.6  \\\\\n",
       "\t  7     & 1663   & 2681   & 2593   & 2568   & 2336   & 2368.2 & 28.8  \\\\\n",
       "\t  8     & 1957   & 2321   & 2765   & 2854   & 2755   & 2530.4 & 30.0  \\\\\n",
       "\t  9     & 2021   & 1963   & 2971   & 2744   & 2992   & 2538.2 & 26.2  \\\\\n",
       "\t 10     & 1718   & 2321   & 2459   & 2369   & 2563   & 2286.0 & 20.8  \\\\\n",
       "\t 11     & 1204   & 1548   & 2299   & 1833   & 1878   & 1752.4 & 12.8  \\\\\n",
       "\t 12     & 1147   & 1306   & 1823   & 1621   & 1770   & 1533.4 &  4.4  \\\\\n",
       "\\end{tabular}\n"
      ],
      "text/markdown": [
       "\n",
       "| M | y09 | y10 | y11 | y12 | y13 | QTY_mean | Temp_mean |\n",
       "|---|---|---|---|---|---|---|---|\n",
       "|  1     |  990   | 1106   | 1268   | 1402   | 1627   | 1278.6 |  2.0   |\n",
       "|  2     | 1199   | 1361   | 1528   | 1859   | 1624   | 1514.2 |  6.6   |\n",
       "|  3     | 1102   | 1432   | 1874   | 2566   | 2103   | 1815.4 | 11.0   |\n",
       "|  4     | 1326   | 1750   | 2200   | 2475   | 2117   | 1973.6 | 16.8   |\n",
       "|  5     | 1672   | 2204   | 3247   | 3653   | 2606   | 2676.4 | 23.6   |\n",
       "|  6     | 1875   | 2366   | 2783   | 3474   | 2621   | 2623.8 | 27.6   |\n",
       "|  7     | 1663   | 2681   | 2593   | 2568   | 2336   | 2368.2 | 28.8   |\n",
       "|  8     | 1957   | 2321   | 2765   | 2854   | 2755   | 2530.4 | 30.0   |\n",
       "|  9     | 2021   | 1963   | 2971   | 2744   | 2992   | 2538.2 | 26.2   |\n",
       "| 10     | 1718   | 2321   | 2459   | 2369   | 2563   | 2286.0 | 20.8   |\n",
       "| 11     | 1204   | 1548   | 2299   | 1833   | 1878   | 1752.4 | 12.8   |\n",
       "| 12     | 1147   | 1306   | 1823   | 1621   | 1770   | 1533.4 |  4.4   |\n",
       "\n"
      ],
      "text/plain": [
       "   M  y09  y10  y11  y12  y13  QTY_mean Temp_mean\n",
       "1   1  990 1106 1268 1402 1627 1278.6    2.0     \n",
       "2   2 1199 1361 1528 1859 1624 1514.2    6.6     \n",
       "3   3 1102 1432 1874 2566 2103 1815.4   11.0     \n",
       "4   4 1326 1750 2200 2475 2117 1973.6   16.8     \n",
       "5   5 1672 2204 3247 3653 2606 2676.4   23.6     \n",
       "6   6 1875 2366 2783 3474 2621 2623.8   27.6     \n",
       "7   7 1663 2681 2593 2568 2336 2368.2   28.8     \n",
       "8   8 1957 2321 2765 2854 2755 2530.4   30.0     \n",
       "9   9 2021 1963 2971 2744 2992 2538.2   26.2     \n",
       "10 10 1718 2321 2459 2369 2563 2286.0   20.8     \n",
       "11 11 1204 1548 2299 1833 1878 1752.4   12.8     \n",
       "12 12 1147 1306 1823 1621 1770 1533.4    4.4     "
      ]
     },
     "metadata": {},
     "output_type": "display_data"
    }
   ],
   "source": [
    "fruit_data_$mean = apply(fruit_data_[-c(1)], 1, mean)\n",
    "fruit_data_ = cbind(fruit_data_, fruit_data_t$t_mean)\n",
    "colnames(fruit_data_) = c('M', 'y09', 'y10', 'y11', 'y12', 'y13', 'QTY_mean', 'Temp_mean')\n",
    "fruit_data_"
   ]
  },
  {
   "cell_type": "code",
   "execution_count": 195,
   "metadata": {},
   "outputs": [
    {
     "data": {
      "image/png": "[encoded data removed]",
      "text/plain": [
       "plot without title"
      ]
     },
     "metadata": {},
     "output_type": "display_data"
    },
    {
     "data": {
      "image/png": "[encoded data removed]",
      "text/plain": [
       "plot without title"
      ]
     },
     "metadata": {},
     "output_type": "display_data"
    },
    {
     "data": {
      "image/png": "[encoded data removed]",
      "text/plain": [
       "plot without title"
      ]
     },
     "metadata": {},
     "output_type": "display_data"
    },
    {
     "data": {
      "image/png": "[encoded data removed]",
      "text/plain": [
       "plot without title"
      ]
     },
     "metadata": {},
     "output_type": "display_data"
    },
    {
     "data": {
      "image/png": "[encoded data removed]",
      "text/plain": [
       "plot without title"
      ]
     },
     "metadata": {},
     "output_type": "display_data"
    },
    {
     "data": {
      "image/png": "[encoded data removed]",
      "text/plain": [
       "plot without title"
      ]
     },
     "metadata": {},
     "output_type": "display_data"
    }
   ],
   "source": [
    "par(mfrow = c(3, 2))\n",
    "plot(fruit_data_2009)\n",
    "plot(fruit_data_2010)\n",
    "plot(fruit_data_2011)\n",
    "plot(fruit_data_2012)\n",
    "plot(fruit_data_2013)\n",
    "plot(fruit_data_$mean)"
   ]
  },
  {
   "cell_type": "code",
   "execution_count": 243,
   "metadata": {},
   "outputs": [
    {
     "data": {
      "text/html": [
       "<table>\n",
       "<thead><tr><th scope=col>M</th><th scope=col>QTY_mean</th><th scope=col>Temp_mean</th><th scope=col>group</th></tr></thead>\n",
       "<tbody>\n",
       "\t<tr><td>1         </td><td>1278.6    </td><td> 2.0      </td><td>fruit_temp</td></tr>\n",
       "\t<tr><td>2         </td><td>1514.2    </td><td> 6.6      </td><td>fruit_temp</td></tr>\n",
       "\t<tr><td>3         </td><td>1815.4    </td><td>11.0      </td><td>fruit_temp</td></tr>\n",
       "\t<tr><td>4         </td><td>1973.6    </td><td>16.8      </td><td>fruit_temp</td></tr>\n",
       "\t<tr><td>5         </td><td>2676.4    </td><td>23.6      </td><td>fruit_temp</td></tr>\n",
       "\t<tr><td>6         </td><td>2623.8    </td><td>27.6      </td><td>fruit_temp</td></tr>\n",
       "</tbody>\n",
       "</table>\n"
      ],
      "text/latex": [
       "\\begin{tabular}{r|llll}\n",
       " M & QTY\\_mean & Temp\\_mean & group\\\\\n",
       "\\hline\n",
       "\t 1            & 1278.6       &  2.0         & fruit\\_temp\\\\\n",
       "\t 2            & 1514.2       &  6.6         & fruit\\_temp\\\\\n",
       "\t 3            & 1815.4       & 11.0         & fruit\\_temp\\\\\n",
       "\t 4            & 1973.6       & 16.8         & fruit\\_temp\\\\\n",
       "\t 5            & 2676.4       & 23.6         & fruit\\_temp\\\\\n",
       "\t 6            & 2623.8       & 27.6         & fruit\\_temp\\\\\n",
       "\\end{tabular}\n"
      ],
      "text/markdown": [
       "\n",
       "| M | QTY_mean | Temp_mean | group |\n",
       "|---|---|---|---|\n",
       "| 1          | 1278.6     |  2.0       | fruit_temp |\n",
       "| 2          | 1514.2     |  6.6       | fruit_temp |\n",
       "| 3          | 1815.4     | 11.0       | fruit_temp |\n",
       "| 4          | 1973.6     | 16.8       | fruit_temp |\n",
       "| 5          | 2676.4     | 23.6       | fruit_temp |\n",
       "| 6          | 2623.8     | 27.6       | fruit_temp |\n",
       "\n"
      ],
      "text/plain": [
       "  M QTY_mean Temp_mean group     \n",
       "1 1 1278.6    2.0      fruit_temp\n",
       "2 2 1514.2    6.6      fruit_temp\n",
       "3 3 1815.4   11.0      fruit_temp\n",
       "4 4 1973.6   16.8      fruit_temp\n",
       "5 5 2676.4   23.6      fruit_temp\n",
       "6 6 2623.8   27.6      fruit_temp"
      ]
     },
     "metadata": {},
     "output_type": "display_data"
    }
   ],
   "source": [
    "fruit_data_1 = fruit_data_[-c(2:6)]\n",
    "fruit_data_1$group = 'fruit_temp'\n",
    "vitamin_data_1 = vitamin_data_[-c(2:6)]\n",
    "vitamin_data_1$group = 'vitamin_temp'\n",
    "tea_data_1 = tea_data_[-c(2:6)]\n",
    "tea_data_1$group = 'tea_temp'\n",
    "data_month = rbind(fruit_data_1, vitamin_data_1, tea_data_1)\n",
    "head(data_month)"
   ]
  },
  {
   "cell_type": "code",
   "execution_count": 247,
   "metadata": {},
   "outputs": [
    {
     "data": {
      "image/png": "[encoded data removed]",
      "text/plain": [
       "plot without title"
      ]
     },
     "metadata": {},
     "output_type": "display_data"
    }
   ],
   "source": [
    "ggplot(data = data_month) +\n",
    "    geom_line(aes(x = Temp_mean, y = QTY_mean, group = group, color = group), linetype = 1)"
   ]
  },
  {
   "cell_type": "code",
   "execution_count": 164,
   "metadata": {},
   "outputs": [
    {
     "data": {
      "text/plain": [
       "\n",
       "\tWelch Two Sample t-test\n",
       "\n",
       "data:  fruit_data_1$mean and tea_data_1$mean\n",
       "t = -1.6898, df = 21.999, p-value = 0.1052\n",
       "alternative hypothesis: true difference in means is not equal to 0\n",
       "95 percent confidence interval:\n",
       " -750.1909   76.5576\n",
       "sample estimates:\n",
       "mean of x mean of y \n",
       " 2074.217  2411.033 \n"
      ]
     },
     "metadata": {},
     "output_type": "display_data"
    }
   ],
   "source": [
    "t.test(fruit_data_1$mean, tea_data_1$mean)"
   ]
  },
  {
   "cell_type": "code",
   "execution_count": 161,
   "metadata": {},
   "outputs": [
    {
     "data": {
      "text/plain": [
       "\n",
       "\tOne-way analysis of means (not assuming equal variances)\n",
       "\n",
       "data:  mean and group\n",
       "F = 112, num df = 2.000, denom df = 17.428, p-value = 1.129e-10\n"
      ]
     },
     "metadata": {},
     "output_type": "display_data"
    }
   ],
   "source": [
    "oneway.test(formula = mean ~ group, data = data_month, var.equal = FALSE)"
   ]
  },
  {
   "cell_type": "code",
   "execution_count": 162,
   "metadata": {},
   "outputs": [
    {
     "data": {
      "text/plain": [
       "\n",
       "\tBartlett test of homogeneity of variances\n",
       "\n",
       "data:  mean by group\n",
       "Bartlett's K-squared = 11.969, df = 2, p-value = 0.002517\n"
      ]
     },
     "metadata": {},
     "output_type": "display_data"
    }
   ],
   "source": [
    "bartlett.test(mean ~ group, data = data_month)"
   ]
  },
  {
   "cell_type": "code",
   "execution_count": null,
   "metadata": {},
   "outputs": [],
   "source": []
  }
 ],
 "metadata": {
  "kernelspec": {
   "display_name": "R",
   "language": "R",
   "name": "ir"
  },
  "language_info": {
   "codemirror_mode": "r",
   "file_extension": ".r",
   "mimetype": "text/x-r-source",
   "name": "R",
   "pygments_lexer": "r",
   "version": "3.6.1"
  }
 },
 "nbformat": 4,
 "nbformat_minor": 4
}
