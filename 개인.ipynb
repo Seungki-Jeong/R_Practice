{
 "cells": [
  {
   "cell_type": "markdown",
   "metadata": {},
   "source": [
    "# Team_Project"
   ]
  },
  {
   "cell_type": "code",
   "execution_count": 1,
   "metadata": {},
   "outputs": [],
   "source": [
    "setwd('d:/workspace/R_practice/data/R_data')"
   ]
  },
  {
   "cell_type": "code",
   "execution_count": 2,
   "metadata": {},
   "outputs": [
    {
     "data": {
      "text/html": [
       "'d:/workspace/R_practice/data/R_data'"
      ],
      "text/latex": [
       "'d:/workspace/R\\_practice/data/R\\_data'"
      ],
      "text/markdown": [
       "'d:/workspace/R_practice/data/R_data'"
      ],
      "text/plain": [
       "[1] \"d:/workspace/R_practice/data/R_data\""
      ]
     },
     "metadata": {},
     "output_type": "display_data"
    }
   ],
   "source": [
    "getwd()"
   ]
  },
  {
   "cell_type": "code",
   "execution_count": 3,
   "metadata": {},
   "outputs": [
    {
     "name": "stderr",
     "output_type": "stream",
     "text": [
      "\n",
      "Attaching package: 'dplyr'\n",
      "\n",
      "The following objects are masked from 'package:stats':\n",
      "\n",
      "    filter, lag\n",
      "\n",
      "The following objects are masked from 'package:base':\n",
      "\n",
      "    intersect, setdiff, setequal, union\n",
      "\n",
      "Warning message:\n",
      "\"package 'ggplot2' was built under R version 3.6.3\"Warning message:\n",
      "\"package 'car' was built under R version 3.6.3\"Loading required package: carData\n",
      "Warning message:\n",
      "\"package 'carData' was built under R version 3.6.3\"\n",
      "Attaching package: 'car'\n",
      "\n",
      "The following object is masked from 'package:dplyr':\n",
      "\n",
      "    recode\n",
      "\n"
     ]
    }
   ],
   "source": [
    "library('dplyr')\n",
    "library('ggplot2')\n",
    "library('car')\n",
    "# library('corrplot')"
   ]
  },
  {
   "cell_type": "code",
   "execution_count": 4,
   "metadata": {},
   "outputs": [],
   "source": [
    "# install.packages('corrplot')"
   ]
  },
  {
   "cell_type": "code",
   "execution_count": 5,
   "metadata": {},
   "outputs": [
    {
     "data": {
      "text/html": [
       "<table>\n",
       "<thead><tr><th scope=col>X</th><th scope=col>YM</th><th scope=col>CATEGORY</th><th scope=col>ITEM_CNT</th><th scope=col>QTY</th><th scope=col>PRICE</th><th scope=col>MAXTEMP</th><th scope=col>SALEDAY</th><th scope=col>RAIN_DAY</th><th scope=col>HOLIDAY</th></tr></thead>\n",
       "<tbody>\n",
       "\t<tr><td>1       </td><td>200901  </td><td>과즙음료</td><td>45      </td><td> 990    </td><td>2611    </td><td> 4      </td><td>126753  </td><td> 151    </td><td>12      </td></tr>\n",
       "\t<tr><td>2       </td><td>200902  </td><td>과즙음료</td><td>45      </td><td>1199    </td><td>2689    </td><td> 9      </td><td>113399  </td><td>3014    </td><td> 8      </td></tr>\n",
       "\t<tr><td>3       </td><td>200903  </td><td>과즙음료</td><td>43      </td><td>1102    </td><td>2735    </td><td>12      </td><td>129162  </td><td>1383    </td><td> 9      </td></tr>\n",
       "\t<tr><td>4       </td><td>200904  </td><td>과즙음료</td><td>42      </td><td>1326    </td><td>2807    </td><td>19      </td><td>126277  </td><td>3564    </td><td> 8      </td></tr>\n",
       "\t<tr><td>5       </td><td>200905  </td><td>과즙음료</td><td>46      </td><td>1672    </td><td>2674    </td><td>25      </td><td>129584  </td><td>9288    </td><td>12      </td></tr>\n",
       "\t<tr><td>6       </td><td>200906  </td><td>과즙음료</td><td>48      </td><td>1875    </td><td>2777    </td><td>27      </td><td>123218  </td><td>9998    </td><td> 8      </td></tr>\n",
       "</tbody>\n",
       "</table>\n"
      ],
      "text/latex": [
       "\\begin{tabular}{r|llllllllll}\n",
       " X & YM & CATEGORY & ITEM\\_CNT & QTY & PRICE & MAXTEMP & SALEDAY & RAIN\\_DAY & HOLIDAY\\\\\n",
       "\\hline\n",
       "\t 1        & 200901   & 과즙음료 & 45       &  990     & 2611     &  4       & 126753   &  151     & 12      \\\\\n",
       "\t 2        & 200902   & 과즙음료 & 45       & 1199     & 2689     &  9       & 113399   & 3014     &  8      \\\\\n",
       "\t 3        & 200903   & 과즙음료 & 43       & 1102     & 2735     & 12       & 129162   & 1383     &  9      \\\\\n",
       "\t 4        & 200904   & 과즙음료 & 42       & 1326     & 2807     & 19       & 126277   & 3564     &  8      \\\\\n",
       "\t 5        & 200905   & 과즙음료 & 46       & 1672     & 2674     & 25       & 129584   & 9288     & 12      \\\\\n",
       "\t 6        & 200906   & 과즙음료 & 48       & 1875     & 2777     & 27       & 123218   & 9998     &  8      \\\\\n",
       "\\end{tabular}\n"
      ],
      "text/markdown": [
       "\n",
       "| X | YM | CATEGORY | ITEM_CNT | QTY | PRICE | MAXTEMP | SALEDAY | RAIN_DAY | HOLIDAY |\n",
       "|---|---|---|---|---|---|---|---|---|---|\n",
       "| 1        | 200901   | 과즙음료 | 45       |  990     | 2611     |  4       | 126753   |  151     | 12       |\n",
       "| 2        | 200902   | 과즙음료 | 45       | 1199     | 2689     |  9       | 113399   | 3014     |  8       |\n",
       "| 3        | 200903   | 과즙음료 | 43       | 1102     | 2735     | 12       | 129162   | 1383     |  9       |\n",
       "| 4        | 200904   | 과즙음료 | 42       | 1326     | 2807     | 19       | 126277   | 3564     |  8       |\n",
       "| 5        | 200905   | 과즙음료 | 46       | 1672     | 2674     | 25       | 129584   | 9288     | 12       |\n",
       "| 6        | 200906   | 과즙음료 | 48       | 1875     | 2777     | 27       | 123218   | 9998     |  8       |\n",
       "\n"
      ],
      "text/plain": [
       "  X YM     CATEGORY ITEM_CNT QTY  PRICE MAXTEMP SALEDAY RAIN_DAY HOLIDAY\n",
       "1 1 200901 과즙음료 45        990 2611   4      126753   151     12     \n",
       "2 2 200902 과즙음료 45       1199 2689   9      113399  3014      8     \n",
       "3 3 200903 과즙음료 43       1102 2735  12      129162  1383      9     \n",
       "4 4 200904 과즙음료 42       1326 2807  19      126277  3564      8     \n",
       "5 5 200905 과즙음료 46       1672 2674  25      129584  9288     12     \n",
       "6 6 200906 과즙음료 48       1875 2777  27      123218  9998      8     "
      ]
     },
     "metadata": {},
     "output_type": "display_data"
    }
   ],
   "source": [
    "data = read.csv('sales_data_1.csv')\n",
    "head(data)"
   ]
  },
  {
   "cell_type": "code",
   "execution_count": 6,
   "metadata": {},
   "outputs": [
    {
     "data": {
      "text/html": [
       "<table>\n",
       "<thead><tr><th scope=col>X</th><th scope=col>YM</th><th scope=col>CATEGORY</th><th scope=col>ITEM_CNT</th><th scope=col>QTY</th><th scope=col>PRICE</th><th scope=col>MAXTEMP</th><th scope=col>SALEDAY</th><th scope=col>RAIN_DAY</th><th scope=col>HOLIDAY</th></tr></thead>\n",
       "<tbody>\n",
       "\t<tr><td>1       </td><td>200901  </td><td>과즙음료</td><td>45      </td><td> 990    </td><td>2611    </td><td> 4      </td><td>126753  </td><td> 151    </td><td>12      </td></tr>\n",
       "\t<tr><td>2       </td><td>200902  </td><td>과즙음료</td><td>45      </td><td>1199    </td><td>2689    </td><td> 9      </td><td>113399  </td><td>3014    </td><td> 8      </td></tr>\n",
       "\t<tr><td>3       </td><td>200903  </td><td>과즙음료</td><td>43      </td><td>1102    </td><td>2735    </td><td>12      </td><td>129162  </td><td>1383    </td><td> 9      </td></tr>\n",
       "\t<tr><td>4       </td><td>200904  </td><td>과즙음료</td><td>42      </td><td>1326    </td><td>2807    </td><td>19      </td><td>126277  </td><td>3564    </td><td> 8      </td></tr>\n",
       "\t<tr><td>5       </td><td>200905  </td><td>과즙음료</td><td>46      </td><td>1672    </td><td>2674    </td><td>25      </td><td>129584  </td><td>9288    </td><td>12      </td></tr>\n",
       "\t<tr><td>6       </td><td>200906  </td><td>과즙음료</td><td>48      </td><td>1875    </td><td>2777    </td><td>27      </td><td>123218  </td><td>9998    </td><td> 8      </td></tr>\n",
       "</tbody>\n",
       "</table>\n"
      ],
      "text/latex": [
       "\\begin{tabular}{r|llllllllll}\n",
       " X & YM & CATEGORY & ITEM\\_CNT & QTY & PRICE & MAXTEMP & SALEDAY & RAIN\\_DAY & HOLIDAY\\\\\n",
       "\\hline\n",
       "\t 1        & 200901   & 과즙음료 & 45       &  990     & 2611     &  4       & 126753   &  151     & 12      \\\\\n",
       "\t 2        & 200902   & 과즙음료 & 45       & 1199     & 2689     &  9       & 113399   & 3014     &  8      \\\\\n",
       "\t 3        & 200903   & 과즙음료 & 43       & 1102     & 2735     & 12       & 129162   & 1383     &  9      \\\\\n",
       "\t 4        & 200904   & 과즙음료 & 42       & 1326     & 2807     & 19       & 126277   & 3564     &  8      \\\\\n",
       "\t 5        & 200905   & 과즙음료 & 46       & 1672     & 2674     & 25       & 129584   & 9288     & 12      \\\\\n",
       "\t 6        & 200906   & 과즙음료 & 48       & 1875     & 2777     & 27       & 123218   & 9998     &  8      \\\\\n",
       "\\end{tabular}\n"
      ],
      "text/markdown": [
       "\n",
       "| X | YM | CATEGORY | ITEM_CNT | QTY | PRICE | MAXTEMP | SALEDAY | RAIN_DAY | HOLIDAY |\n",
       "|---|---|---|---|---|---|---|---|---|---|\n",
       "| 1        | 200901   | 과즙음료 | 45       |  990     | 2611     |  4       | 126753   |  151     | 12       |\n",
       "| 2        | 200902   | 과즙음료 | 45       | 1199     | 2689     |  9       | 113399   | 3014     |  8       |\n",
       "| 3        | 200903   | 과즙음료 | 43       | 1102     | 2735     | 12       | 129162   | 1383     |  9       |\n",
       "| 4        | 200904   | 과즙음료 | 42       | 1326     | 2807     | 19       | 126277   | 3564     |  8       |\n",
       "| 5        | 200905   | 과즙음료 | 46       | 1672     | 2674     | 25       | 129584   | 9288     | 12       |\n",
       "| 6        | 200906   | 과즙음료 | 48       | 1875     | 2777     | 27       | 123218   | 9998     |  8       |\n",
       "\n"
      ],
      "text/plain": [
       "  X YM     CATEGORY ITEM_CNT QTY  PRICE MAXTEMP SALEDAY RAIN_DAY HOLIDAY\n",
       "1 1 200901 과즙음료 45        990 2611   4      126753   151     12     \n",
       "2 2 200902 과즙음료 45       1199 2689   9      113399  3014      8     \n",
       "3 3 200903 과즙음료 43       1102 2735  12      129162  1383      9     \n",
       "4 4 200904 과즙음료 42       1326 2807  19      126277  3564      8     \n",
       "5 5 200905 과즙음료 46       1672 2674  25      129584  9288     12     \n",
       "6 6 200906 과즙음료 48       1875 2777  27      123218  9998      8     "
      ]
     },
     "metadata": {},
     "output_type": "display_data"
    }
   ],
   "source": [
    "fruit_data = data %>%\n",
    "                filter(CATEGORY == '과즙음료')\n",
    "vitamin_data = data %>%\n",
    "                filter(CATEGORY == '비타민음료')\n",
    "tea_data = data %>%\n",
    "            filter(CATEGORY == '차음료')\n",
    "head(fruit_data)"
   ]
  },
  {
   "cell_type": "code",
   "execution_count": 7,
   "metadata": {
    "scrolled": true
   },
   "outputs": [],
   "source": [
    "a = cor(fruit_data[,c(4:10)])"
   ]
  },
  {
   "cell_type": "code",
   "execution_count": 8,
   "metadata": {},
   "outputs": [
    {
     "ename": "ERROR",
     "evalue": "Error in corrplot(a, method = \"number\", col = rainbow(1000)): 함수 \"corrplot\"를 찾을 수 없습니다\n",
     "output_type": "error",
     "traceback": [
      "Error in corrplot(a, method = \"number\", col = rainbow(1000)): 함수 \"corrplot\"를 찾을 수 없습니다\nTraceback:\n"
     ]
    }
   ],
   "source": [
    "# corrplot(a, method=\"number\", col = rainbow(1000))"
   ]
  },
  {
   "cell_type": "code",
   "execution_count": null,
   "metadata": {},
   "outputs": [],
   "source": [
    "b = cor(vitamin_data[,c(4:10)])"
   ]
  },
  {
   "cell_type": "code",
   "execution_count": null,
   "metadata": {},
   "outputs": [],
   "source": [
    "b"
   ]
  },
  {
   "cell_type": "code",
   "execution_count": null,
   "metadata": {},
   "outputs": [],
   "source": [
    "corrplot(b, method=\"number\", col = rainbow(1000))"
   ]
  },
  {
   "cell_type": "code",
   "execution_count": null,
   "metadata": {},
   "outputs": [],
   "source": [
    "c = cor(tea_data[,c(4:10)])"
   ]
  },
  {
   "cell_type": "code",
   "execution_count": null,
   "metadata": {},
   "outputs": [],
   "source": [
    "corrplot(c, method=\"number\", col = rainbow(1000))"
   ]
  },
  {
   "cell_type": "code",
   "execution_count": 10,
   "metadata": {},
   "outputs": [
    {
     "name": "stderr",
     "output_type": "stream",
     "text": [
      "Warning message:\n",
      "\"package 'leaps' was built under R version 3.6.3\""
     ]
    }
   ],
   "source": [
    "library('leaps')"
   ]
  },
  {
   "cell_type": "markdown",
   "metadata": {},
   "source": [
    "## 과즙 음료 모델 정의 ㅡㅡㅡㅡㅡㅡㅡㅡㅡㅡㅡㅡㅡㅡㅡㅡㅡㅡㅡㅡㅡㅡㅡㅡㅡㅡㅡㅡㅡㅡㅡ"
   ]
  },
  {
   "cell_type": "code",
   "execution_count": 11,
   "metadata": {},
   "outputs": [
    {
     "data": {
      "text/plain": [
       "Subset selection object\n",
       "Call: regsubsets.formula(QTY ~ YM + ITEM_CNT + PRICE + MAXTEMP + SALEDAY + \n",
       "    RAIN_DAY + HOLIDAY, data = fruit_data, nbest = 5)\n",
       "7 Variables  (and intercept)\n",
       "         Forced in Forced out\n",
       "YM           FALSE      FALSE\n",
       "ITEM_CNT     FALSE      FALSE\n",
       "PRICE        FALSE      FALSE\n",
       "MAXTEMP      FALSE      FALSE\n",
       "SALEDAY      FALSE      FALSE\n",
       "RAIN_DAY     FALSE      FALSE\n",
       "HOLIDAY      FALSE      FALSE\n",
       "5 subsets of each size up to 7\n",
       "Selection Algorithm: exhaustive\n",
       "         YM  ITEM_CNT PRICE MAXTEMP SALEDAY RAIN_DAY HOLIDAY\n",
       "1  ( 1 ) \" \" \" \"      \" \"   \"*\"     \" \"     \" \"      \" \"    \n",
       "1  ( 2 ) \" \" \"*\"      \" \"   \" \"     \" \"     \" \"      \" \"    \n",
       "1  ( 3 ) \" \" \" \"      \" \"   \" \"     \"*\"     \" \"      \" \"    \n",
       "1  ( 4 ) \"*\" \" \"      \" \"   \" \"     \" \"     \" \"      \" \"    \n",
       "1  ( 5 ) \" \" \" \"      \" \"   \" \"     \" \"     \"*\"      \" \"    \n",
       "2  ( 1 ) \" \" \"*\"      \" \"   \"*\"     \" \"     \" \"      \" \"    \n",
       "2  ( 2 ) \"*\" \" \"      \" \"   \"*\"     \" \"     \" \"      \" \"    \n",
       "2  ( 3 ) \" \" \" \"      \" \"   \"*\"     \"*\"     \" \"      \" \"    \n",
       "2  ( 4 ) \" \" \" \"      \" \"   \"*\"     \" \"     \" \"      \"*\"    \n",
       "2  ( 5 ) \" \" \"*\"      \" \"   \" \"     \" \"     \"*\"      \" \"    \n",
       "3  ( 1 ) \"*\" \"*\"      \" \"   \"*\"     \" \"     \" \"      \" \"    \n",
       "3  ( 2 ) \"*\" \" \"      \"*\"   \"*\"     \" \"     \" \"      \" \"    \n",
       "3  ( 3 ) \" \" \"*\"      \" \"   \"*\"     \"*\"     \" \"      \" \"    \n",
       "3  ( 4 ) \" \" \" \"      \"*\"   \"*\"     \"*\"     \" \"      \" \"    \n",
       "3  ( 5 ) \" \" \"*\"      \" \"   \"*\"     \" \"     \" \"      \"*\"    \n",
       "4  ( 1 ) \"*\" \"*\"      \" \"   \"*\"     \" \"     \"*\"      \" \"    \n",
       "4  ( 2 ) \" \" \"*\"      \" \"   \"*\"     \"*\"     \"*\"      \" \"    \n",
       "4  ( 3 ) \"*\" \"*\"      \"*\"   \"*\"     \" \"     \" \"      \" \"    \n",
       "4  ( 4 ) \"*\" \" \"      \"*\"   \"*\"     \" \"     \"*\"      \" \"    \n",
       "4  ( 5 ) \"*\" \"*\"      \" \"   \"*\"     \" \"     \" \"      \"*\"    \n",
       "5  ( 1 ) \"*\" \"*\"      \"*\"   \"*\"     \" \"     \"*\"      \" \"    \n",
       "5  ( 2 ) \"*\" \"*\"      \" \"   \"*\"     \" \"     \"*\"      \"*\"    \n",
       "5  ( 3 ) \"*\" \"*\"      \" \"   \"*\"     \"*\"     \"*\"      \" \"    \n",
       "5  ( 4 ) \" \" \"*\"      \"*\"   \"*\"     \"*\"     \"*\"      \" \"    \n",
       "5  ( 5 ) \" \" \"*\"      \" \"   \"*\"     \"*\"     \"*\"      \"*\"    \n",
       "6  ( 1 ) \"*\" \"*\"      \"*\"   \"*\"     \" \"     \"*\"      \"*\"    \n",
       "6  ( 2 ) \"*\" \"*\"      \"*\"   \"*\"     \"*\"     \"*\"      \" \"    \n",
       "6  ( 3 ) \"*\" \"*\"      \" \"   \"*\"     \"*\"     \"*\"      \"*\"    \n",
       "6  ( 4 ) \" \" \"*\"      \"*\"   \"*\"     \"*\"     \"*\"      \"*\"    \n",
       "6  ( 5 ) \"*\" \"*\"      \"*\"   \"*\"     \"*\"     \" \"      \"*\"    \n",
       "7  ( 1 ) \"*\" \"*\"      \"*\"   \"*\"     \"*\"     \"*\"      \"*\"    "
      ]
     },
     "metadata": {},
     "output_type": "display_data"
    }
   ],
   "source": [
    "leaps = regsubsets(QTY ~ YM + ITEM_CNT + PRICE + MAXTEMP + SALEDAY + RAIN_DAY + HOLIDAY, data = fruit_data, nbest = 5)\n",
    "summary(leaps)"
   ]
  },
  {
   "cell_type": "code",
   "execution_count": 12,
   "metadata": {
    "scrolled": false
   },
   "outputs": [
    {
     "data": {
      "image/png": "[encoded data removed]",
      "text/plain": [
       "plot without title"
      ]
     },
     "metadata": {},
     "output_type": "display_data"
    },
    {
     "data": {
      "image/png": "[encoded data removed]",
      "text/plain": [
       "plot without title"
      ]
     },
     "metadata": {},
     "output_type": "display_data"
    }
   ],
   "source": [
    "par(mfrow = c(1, 2))\n",
    "plot(leaps, scale = 'adjr2')\n",
    "plot(leaps, scale = 'Cp')\n",
    "plot(leaps, scale = 'bic')"
   ]
  },
  {
   "cell_type": "code",
   "execution_count": 49,
   "metadata": {},
   "outputs": [
    {
     "data": {
      "text/plain": [
       "\n",
       "Call:\n",
       "lm(formula = QTY ~ YM + ITEM_CNT + PRICE + MAXTEMP + RAIN_DAY + \n",
       "    HOLIDAY, data = fruit_data)\n",
       "\n",
       "Residuals:\n",
       "    Min      1Q  Median      3Q     Max \n",
       "-492.97 -123.46   -6.15   93.01  576.50 \n",
       "\n",
       "Coefficients:\n",
       "              Estimate Std. Error t value Pr(>|t|)    \n",
       "(Intercept) -4.265e+05  7.923e+04  -5.383 1.70e-06 ***\n",
       "YM           2.115e+00  3.938e-01   5.370 1.78e-06 ***\n",
       "ITEM_CNT     1.911e+01  4.685e+00   4.080 0.000152 ***\n",
       "PRICE        3.210e-01  1.326e-01   2.421 0.018953 *  \n",
       "MAXTEMP      5.457e+01  3.878e+00  14.073  < 2e-16 ***\n",
       "RAIN_DAY    -1.293e-02  3.772e-03  -3.429 0.001181 ** \n",
       "HOLIDAY      4.013e+01  2.315e+01   1.733 0.088824 .  \n",
       "---\n",
       "Signif. codes:  0 '***' 0.001 '**' 0.01 '*' 0.05 '.' 0.1 ' ' 1\n",
       "\n",
       "Residual standard error: 206.3 on 53 degrees of freedom\n",
       "Multiple R-squared:  0.9037,\tAdjusted R-squared:  0.8928 \n",
       "F-statistic: 82.94 on 6 and 53 DF,  p-value: < 2.2e-16\n"
      ]
     },
     "metadata": {},
     "output_type": "display_data"
    }
   ],
   "source": [
    "# SALEDAY 빠짐\n",
    "a = lm(QTY ~ YM + ITEM_CNT + PRICE + MAXTEMP + RAIN_DAY + HOLIDAY, data = fruit_data)\n",
    "summary(a)"
   ]
  },
  {
   "cell_type": "code",
   "execution_count": 50,
   "metadata": {},
   "outputs": [
    {
     "data": {
      "text/html": [
       "<dl class=dl-horizontal>\n",
       "\t<dt>YM</dt>\n",
       "\t\t<dd>4.37350146353797</dd>\n",
       "\t<dt>ITEM_CNT</dt>\n",
       "\t\t<dd>2.9025000511299</dd>\n",
       "\t<dt>PRICE</dt>\n",
       "\t\t<dd>3.15089447660996</dd>\n",
       "\t<dt>MAXTEMP</dt>\n",
       "\t\t<dd>1.97983523863556</dd>\n",
       "\t<dt>RAIN_DAY</dt>\n",
       "\t\t<dd>2.06441937913378</dd>\n",
       "\t<dt>HOLIDAY</dt>\n",
       "\t\t<dd>1.04478577137326</dd>\n",
       "</dl>\n"
      ],
      "text/latex": [
       "\\begin{description*}\n",
       "\\item[YM] 4.37350146353797\n",
       "\\item[ITEM\\textbackslash{}\\_CNT] 2.9025000511299\n",
       "\\item[PRICE] 3.15089447660996\n",
       "\\item[MAXTEMP] 1.97983523863556\n",
       "\\item[RAIN\\textbackslash{}\\_DAY] 2.06441937913378\n",
       "\\item[HOLIDAY] 1.04478577137326\n",
       "\\end{description*}\n"
      ],
      "text/markdown": [
       "YM\n",
       ":   4.37350146353797ITEM_CNT\n",
       ":   2.9025000511299PRICE\n",
       ":   3.15089447660996MAXTEMP\n",
       ":   1.97983523863556RAIN_DAY\n",
       ":   2.06441937913378HOLIDAY\n",
       ":   1.04478577137326\n",
       "\n"
      ],
      "text/plain": [
       "      YM ITEM_CNT    PRICE  MAXTEMP RAIN_DAY  HOLIDAY \n",
       "4.373501 2.902500 3.150894 1.979835 2.064419 1.044786 "
      ]
     },
     "metadata": {},
     "output_type": "display_data"
    }
   ],
   "source": [
    "vif(a)"
   ]
  },
  {
   "cell_type": "code",
   "execution_count": 54,
   "metadata": {},
   "outputs": [
    {
     "data": {
      "text/plain": [
       "\n",
       "Call:\n",
       "lm(formula = QTY ~ YM + ITEM_CNT + MAXTEMP + RAIN_DAY + HOLIDAY, \n",
       "    data = fruit_data)\n",
       "\n",
       "Residuals:\n",
       "   Min     1Q Median     3Q    Max \n",
       "-414.3 -128.5   15.8   86.6  606.6 \n",
       "\n",
       "Coefficients:\n",
       "              Estimate Std. Error t value Pr(>|t|)    \n",
       "(Intercept) -2.721e+05  4.907e+04  -5.546 9.02e-07 ***\n",
       "YM           1.349e+00  2.447e-01   5.511 1.02e-06 ***\n",
       "ITEM_CNT     2.712e+01  3.464e+00   7.830 1.86e-10 ***\n",
       "MAXTEMP      5.332e+01  4.012e+00  13.289  < 2e-16 ***\n",
       "RAIN_DAY    -1.409e-02  3.907e-03  -3.606 0.000678 ***\n",
       "HOLIDAY      4.162e+01  2.416e+01   1.723 0.090659 .  \n",
       "---\n",
       "Signif. codes:  0 '***' 0.001 '**' 0.01 '*' 0.05 '.' 0.1 ' ' 1\n",
       "\n",
       "Residual standard error: 215.4 on 54 degrees of freedom\n",
       "Multiple R-squared:  0.8931,\tAdjusted R-squared:  0.8832 \n",
       "F-statistic: 90.23 on 5 and 54 DF,  p-value: < 2.2e-16\n"
      ]
     },
     "metadata": {},
     "output_type": "display_data"
    }
   ],
   "source": [
    "# PRICE 빠짐\n",
    "a = lm(QTY ~ YM + ITEM_CNT + MAXTEMP + RAIN_DAY + HOLIDAY, data = fruit_data)\n",
    "summary(a)"
   ]
  },
  {
   "cell_type": "code",
   "execution_count": 55,
   "metadata": {},
   "outputs": [
    {
     "data": {
      "text/html": [
       "<dl class=dl-horizontal>\n",
       "\t<dt>YM</dt>\n",
       "\t\t<dd>1.5499020257233</dd>\n",
       "\t<dt>ITEM_CNT</dt>\n",
       "\t\t<dd>1.45561432310335</dd>\n",
       "\t<dt>MAXTEMP</dt>\n",
       "\t\t<dd>1.94458030167932</dd>\n",
       "\t<dt>RAIN_DAY</dt>\n",
       "\t\t<dd>2.03135927625782</dd>\n",
       "\t<dt>HOLIDAY</dt>\n",
       "\t\t<dd>1.04404498924379</dd>\n",
       "</dl>\n"
      ],
      "text/latex": [
       "\\begin{description*}\n",
       "\\item[YM] 1.5499020257233\n",
       "\\item[ITEM\\textbackslash{}\\_CNT] 1.45561432310335\n",
       "\\item[MAXTEMP] 1.94458030167932\n",
       "\\item[RAIN\\textbackslash{}\\_DAY] 2.03135927625782\n",
       "\\item[HOLIDAY] 1.04404498924379\n",
       "\\end{description*}\n"
      ],
      "text/markdown": [
       "YM\n",
       ":   1.5499020257233ITEM_CNT\n",
       ":   1.45561432310335MAXTEMP\n",
       ":   1.94458030167932RAIN_DAY\n",
       ":   2.03135927625782HOLIDAY\n",
       ":   1.04404498924379\n",
       "\n"
      ],
      "text/plain": [
       "      YM ITEM_CNT  MAXTEMP RAIN_DAY  HOLIDAY \n",
       "1.549902 1.455614 1.944580 2.031359 1.044045 "
      ]
     },
     "metadata": {},
     "output_type": "display_data"
    }
   ],
   "source": [
    "vif(a)"
   ]
  },
  {
   "cell_type": "code",
   "execution_count": 58,
   "metadata": {},
   "outputs": [
    {
     "data": {
      "text/plain": [
       "\n",
       "Call:\n",
       "lm(formula = QTY ~ YM + ITEM_CNT + MAXTEMP + HOLIDAY, data = fruit_data)\n",
       "\n",
       "Residuals:\n",
       "    Min      1Q  Median      3Q     Max \n",
       "-497.98 -144.79    9.68   94.97  724.57 \n",
       "\n",
       "Coefficients:\n",
       "              Estimate Std. Error t value Pr(>|t|)    \n",
       "(Intercept) -2.316e+05  5.272e+04  -4.393 5.14e-05 ***\n",
       "YM           1.147e+00  2.630e-01   4.362 5.70e-05 ***\n",
       "ITEM_CNT     2.650e+01  3.818e+00   6.941 4.72e-09 ***\n",
       "MAXTEMP      4.334e+01  3.207e+00  13.514  < 2e-16 ***\n",
       "HOLIDAY      5.141e+01  2.650e+01   1.940   0.0575 .  \n",
       "---\n",
       "Signif. codes:  0 '***' 0.001 '**' 0.01 '*' 0.05 '.' 0.1 ' ' 1\n",
       "\n",
       "Residual standard error: 237.8 on 55 degrees of freedom\n",
       "Multiple R-squared:  0.8674,\tAdjusted R-squared:  0.8577 \n",
       "F-statistic: 89.91 on 4 and 55 DF,  p-value: < 2.2e-16\n"
      ]
     },
     "metadata": {},
     "output_type": "display_data"
    }
   ],
   "source": [
    "# RAIN_DAY 빠짐\n",
    "a = lm(QTY ~ YM + ITEM_CNT + MAXTEMP + HOLIDAY, data = fruit_data)\n",
    "summary(a)"
   ]
  },
  {
   "cell_type": "code",
   "execution_count": 59,
   "metadata": {},
   "outputs": [
    {
     "data": {
      "text/html": [
       "<dl class=dl-horizontal>\n",
       "\t<dt>YM</dt>\n",
       "\t\t<dd>1.46910382716171</dd>\n",
       "\t<dt>ITEM_CNT</dt>\n",
       "\t\t<dd>1.45203618101156</dd>\n",
       "\t<dt>MAXTEMP</dt>\n",
       "\t\t<dd>1.0198512457639</dd>\n",
       "\t<dt>HOLIDAY</dt>\n",
       "\t\t<dd>1.03086853983701</dd>\n",
       "</dl>\n"
      ],
      "text/latex": [
       "\\begin{description*}\n",
       "\\item[YM] 1.46910382716171\n",
       "\\item[ITEM\\textbackslash{}\\_CNT] 1.45203618101156\n",
       "\\item[MAXTEMP] 1.0198512457639\n",
       "\\item[HOLIDAY] 1.03086853983701\n",
       "\\end{description*}\n"
      ],
      "text/markdown": [
       "YM\n",
       ":   1.46910382716171ITEM_CNT\n",
       ":   1.45203618101156MAXTEMP\n",
       ":   1.0198512457639HOLIDAY\n",
       ":   1.03086853983701\n",
       "\n"
      ],
      "text/plain": [
       "      YM ITEM_CNT  MAXTEMP  HOLIDAY \n",
       "1.469104 1.452036 1.019851 1.030869 "
      ]
     },
     "metadata": {},
     "output_type": "display_data"
    }
   ],
   "source": [
    "vif(a)"
   ]
  },
  {
   "cell_type": "code",
   "execution_count": 65,
   "metadata": {},
   "outputs": [
    {
     "data": {
      "text/plain": [
       "\n",
       "\tPearson's product-moment correlation\n",
       "\n",
       "data:  fruit_data$YM and fruit_data$QTY\n",
       "t = 4.1858, df = 58, p-value = 9.765e-05\n",
       "alternative hypothesis: true correlation is not equal to 0\n",
       "95 percent confidence interval:\n",
       " 0.2594775 0.6554277\n",
       "sample estimates:\n",
       "      cor \n",
       "0.4816663 \n"
      ]
     },
     "metadata": {},
     "output_type": "display_data"
    }
   ],
   "source": [
    "cor.test(fruit_data$YM, fruit_data$QTY)"
   ]
  },
  {
   "cell_type": "code",
   "execution_count": null,
   "metadata": {},
   "outputs": [],
   "source": []
  },
  {
   "cell_type": "code",
   "execution_count": 64,
   "metadata": {},
   "outputs": [
    {
     "data": {
      "text/plain": [
       "\n",
       "Call:\n",
       "lm(formula = QTY ~ YM + ITEM_CNT + MAXTEMP, data = fruit_data)\n",
       "\n",
       "Residuals:\n",
       "    Min      1Q  Median      3Q     Max \n",
       "-449.27 -140.25   -5.38   80.76  752.07 \n",
       "\n",
       "Coefficients:\n",
       "              Estimate Std. Error t value Pr(>|t|)    \n",
       "(Intercept) -2.488e+05  5.324e+04  -4.674 1.90e-05 ***\n",
       "YM           1.236e+00  2.654e-01   4.656 2.02e-05 ***\n",
       "ITEM_CNT     2.583e+01  3.895e+00   6.630 1.41e-08 ***\n",
       "MAXTEMP      4.344e+01  3.285e+00  13.222  < 2e-16 ***\n",
       "---\n",
       "Signif. codes:  0 '***' 0.001 '**' 0.01 '*' 0.05 '.' 0.1 ' ' 1\n",
       "\n",
       "Residual standard error: 243.6 on 56 degrees of freedom\n",
       "Multiple R-squared:  0.8583,\tAdjusted R-squared:  0.8507 \n",
       "F-statistic:   113 on 3 and 56 DF,  p-value: < 2.2e-16\n"
      ]
     },
     "metadata": {},
     "output_type": "display_data"
    }
   ],
   "source": [
    "# HOLIDAY 빠짐\n",
    "a = lm(QTY ~ YM + ITEM_CNT + MAXTEMP, data = fruit_data)\n",
    "summary(a)"
   ]
  },
  {
   "cell_type": "code",
   "execution_count": 61,
   "metadata": {},
   "outputs": [
    {
     "data": {
      "text/html": [
       "<dl class=dl-horizontal>\n",
       "\t<dt>YM</dt>\n",
       "\t\t<dd>1.42515233695996</dd>\n",
       "\t<dt>ITEM_CNT</dt>\n",
       "\t\t<dd>1.44000069977565</dd>\n",
       "\t<dt>MAXTEMP</dt>\n",
       "\t\t<dd>1.01962258786924</dd>\n",
       "</dl>\n"
      ],
      "text/latex": [
       "\\begin{description*}\n",
       "\\item[YM] 1.42515233695996\n",
       "\\item[ITEM\\textbackslash{}\\_CNT] 1.44000069977565\n",
       "\\item[MAXTEMP] 1.01962258786924\n",
       "\\end{description*}\n"
      ],
      "text/markdown": [
       "YM\n",
       ":   1.42515233695996ITEM_CNT\n",
       ":   1.44000069977565MAXTEMP\n",
       ":   1.01962258786924\n",
       "\n"
      ],
      "text/plain": [
       "      YM ITEM_CNT  MAXTEMP \n",
       "1.425152 1.440001 1.019623 "
      ]
     },
     "metadata": {},
     "output_type": "display_data"
    }
   ],
   "source": [
    "vif(a)"
   ]
  },
  {
   "cell_type": "code",
   "execution_count": 62,
   "metadata": {},
   "outputs": [
    {
     "data": {
      "text/plain": [
       "\n",
       "\tPearson's product-moment correlation\n",
       "\n",
       "data:  fruit_data$ITEM_CNT and fruit_data$QTY\n",
       "t = 6.0358, df = 58, p-value = 1.189e-07\n",
       "alternative hypothesis: true correlation is not equal to 0\n",
       "95 percent confidence interval:\n",
       " 0.4359612 0.7558404\n",
       "sample estimates:\n",
       "      cor \n",
       "0.6211264 \n"
      ]
     },
     "metadata": {},
     "output_type": "display_data"
    }
   ],
   "source": [
    "cor.test(fruit_data$ITEM_CNT, fruit_data$QTY)"
   ]
  },
  {
   "cell_type": "code",
   "execution_count": 63,
   "metadata": {},
   "outputs": [
    {
     "data": {
      "image/png": "[encoded data removed]",
      "text/plain": [
       "plot without title"
      ]
     },
     "metadata": {},
     "output_type": "display_data"
    }
   ],
   "source": [
    "a = lm(QTY ~ ITEM_CNT, data = fruit_data)\n",
    "plot(fruit_data$ITEM_CNT, fruit_data$QTY)\n",
    "abline(a, col = 2)"
   ]
  },
  {
   "cell_type": "markdown",
   "metadata": {},
   "source": [
    "## ㅡㅡㅡㅡㅡㅡㅡㅡㅡㅡㅡㅡㅡㅡㅡㅡㅡㅡㅡㅡㅡㅡㅡㅡㅡㅡㅡㅡ"
   ]
  },
  {
   "cell_type": "code",
   "execution_count": 17,
   "metadata": {},
   "outputs": [
    {
     "data": {
      "text/html": [
       "-0.0983803843818089"
      ],
      "text/latex": [
       "-0.0983803843818089"
      ],
      "text/markdown": [
       "-0.0983803843818089"
      ],
      "text/plain": [
       "[1] -0.09838038"
      ]
     },
     "metadata": {},
     "output_type": "display_data"
    }
   ],
   "source": [
    "cor(fruit_data$PRICE, fruit_data$QTY)"
   ]
  },
  {
   "cell_type": "code",
   "execution_count": 18,
   "metadata": {},
   "outputs": [
    {
     "data": {
      "text/plain": [
       "\n",
       "Call:\n",
       "lm(formula = QTY ~ PRICE, data = fruit_data)\n",
       "\n",
       "Residuals:\n",
       "     Min       1Q   Median       3Q      Max \n",
       "-1089.35  -483.42   -47.06   430.13  1665.92 \n",
       "\n",
       "Coefficients:\n",
       "             Estimate Std. Error t value Pr(>|t|)    \n",
       "(Intercept) 2529.6461   610.3934   4.144 0.000112 ***\n",
       "PRICE         -0.1725     0.2291  -0.753 0.454558    \n",
       "---\n",
       "Signif. codes:  0 '***' 0.001 '**' 0.01 '*' 0.05 '.' 0.1 ' ' 1\n",
       "\n",
       "Residual standard error: 632.7 on 58 degrees of freedom\n",
       "Multiple R-squared:  0.009679,\tAdjusted R-squared:  -0.007396 \n",
       "F-statistic: 0.5669 on 1 and 58 DF,  p-value: 0.4546\n"
      ]
     },
     "metadata": {},
     "output_type": "display_data"
    }
   ],
   "source": [
    "a = lm(QTY ~ PRICE, data = fruit_data)\n",
    "summary(a)"
   ]
  },
  {
   "cell_type": "code",
   "execution_count": 19,
   "metadata": {},
   "outputs": [
    {
     "data": {
      "image/png": "[encoded data removed]",
      "text/plain": [
       "plot without title"
      ]
     },
     "metadata": {},
     "output_type": "display_data"
    }
   ],
   "source": [
    "plot(fruit_data$PRICE, fruit_data$QTY)\n",
    "abline(a, col = 2)"
   ]
  },
  {
   "cell_type": "code",
   "execution_count": 20,
   "metadata": {},
   "outputs": [
    {
     "data": {
      "text/plain": [
       "\n",
       "Call:\n",
       "lm(formula = QTY ~ ITEM_CNT + MAXTEMP + RAIN_DAY + HOLIDAY, data = fruit_data)\n",
       "\n",
       "Residuals:\n",
       "    Min      1Q  Median      3Q     Max \n",
       "-559.08 -172.49   11.84  146.27  556.08 \n",
       "\n",
       "Coefficients:\n",
       "              Estimate Std. Error t value Pr(>|t|)    \n",
       "(Intercept) -1.689e+03  3.637e+02  -4.644 2.17e-05 ***\n",
       "ITEM_CNT     3.713e+01  3.652e+00  10.168 3.06e-14 ***\n",
       "MAXTEMP      4.838e+01  4.844e+00   9.987 5.85e-14 ***\n",
       "RAIN_DAY    -9.173e-03  4.711e-03  -1.947   0.0566 .  \n",
       "HOLIDAY      6.732e+01  2.936e+01   2.293   0.0257 *  \n",
       "---\n",
       "Signif. codes:  0 '***' 0.001 '**' 0.01 '*' 0.05 '.' 0.1 ' ' 1\n",
       "\n",
       "Residual standard error: 266.8 on 55 degrees of freedom\n",
       "Multiple R-squared:  0.833,\tAdjusted R-squared:  0.8208 \n",
       "F-statistic: 68.57 on 4 and 55 DF,  p-value: < 2.2e-16\n"
      ]
     },
     "metadata": {},
     "output_type": "display_data"
    }
   ],
   "source": [
    "a = lm(QTY ~ ITEM_CNT + MAXTEMP + RAIN_DAY + HOLIDAY, data = fruit_data)\n",
    "summary(a)"
   ]
  },
  {
   "cell_type": "code",
   "execution_count": 21,
   "metadata": {},
   "outputs": [
    {
     "data": {
      "text/html": [
       "0.475676597360213"
      ],
      "text/latex": [
       "0.475676597360213"
      ],
      "text/markdown": [
       "0.475676597360213"
      ],
      "text/plain": [
       "[1] 0.4756766"
      ]
     },
     "metadata": {},
     "output_type": "display_data"
    }
   ],
   "source": [
    "cor(fruit_data$RAIN_DAY, fruit_data$QTY)"
   ]
  },
  {
   "cell_type": "code",
   "execution_count": 22,
   "metadata": {},
   "outputs": [
    {
     "data": {
      "text/plain": [
       "\n",
       "Call:\n",
       "lm(formula = QTY ~ RAIN_DAY, data = fruit_data)\n",
       "\n",
       "Residuals:\n",
       "    Min      1Q  Median      3Q     Max \n",
       "-815.94 -441.85   -1.32  263.85 1790.09 \n",
       "\n",
       "Coefficients:\n",
       "             Estimate Std. Error t value Pr(>|t|)    \n",
       "(Intercept) 1.802e+03  9.796e+01  18.390  < 2e-16 ***\n",
       "RAIN_DAY    2.930e-02  7.115e-03   4.118 0.000123 ***\n",
       "---\n",
       "Signif. codes:  0 '***' 0.001 '**' 0.01 '*' 0.05 '.' 0.1 ' ' 1\n",
       "\n",
       "Residual standard error: 559.2 on 58 degrees of freedom\n",
       "Multiple R-squared:  0.2263,\tAdjusted R-squared:  0.2129 \n",
       "F-statistic: 16.96 on 1 and 58 DF,  p-value: 0.0001225\n"
      ]
     },
     "metadata": {},
     "output_type": "display_data"
    }
   ],
   "source": [
    "a = lm(QTY ~ RAIN_DAY, data = fruit_data)\n",
    "summary(a)"
   ]
  },
  {
   "cell_type": "code",
   "execution_count": 23,
   "metadata": {},
   "outputs": [
    {
     "data": {
      "image/png": "[encoded data removed]",
      "text/plain": [
       "plot without title"
      ]
     },
     "metadata": {},
     "output_type": "display_data"
    }
   ],
   "source": [
    "plot(fruit_data$RAIN_DAY, fruit_data$QTY)\n",
    "abline(a, col = 2)"
   ]
  },
  {
   "cell_type": "code",
   "execution_count": 24,
   "metadata": {},
   "outputs": [
    {
     "data": {
      "text/plain": [
       "\n",
       "Call:\n",
       "lm(formula = QTY ~ ITEM_CNT + MAXTEMP + HOLIDAY, data = fruit_data)\n",
       "\n",
       "Residuals:\n",
       "   Min     1Q Median     3Q    Max \n",
       "-631.6 -221.0   13.0  144.6  685.0 \n",
       "\n",
       "Coefficients:\n",
       "             Estimate Std. Error t value Pr(>|t|)    \n",
       "(Intercept) -1609.330    370.266  -4.346 5.89e-05 ***\n",
       "ITEM_CNT       35.682      3.663   9.741 1.17e-13 ***\n",
       "MAXTEMP        42.030      3.671  11.448 2.72e-16 ***\n",
       "HOLIDAY        71.405     30.008   2.380   0.0208 *  \n",
       "---\n",
       "Signif. codes:  0 '***' 0.001 '**' 0.01 '*' 0.05 '.' 0.1 ' ' 1\n",
       "\n",
       "Residual standard error: 273.4 on 56 degrees of freedom\n",
       "Multiple R-squared:  0.8215,\tAdjusted R-squared:  0.8119 \n",
       "F-statistic: 85.88 on 3 and 56 DF,  p-value: < 2.2e-16\n"
      ]
     },
     "metadata": {},
     "output_type": "display_data"
    }
   ],
   "source": [
    "# 설명력이 0.01수준 달라짐\n",
    "a = lm(QTY ~ ITEM_CNT + MAXTEMP + HOLIDAY, data = fruit_data)\n",
    "summary(a)"
   ]
  },
  {
   "cell_type": "code",
   "execution_count": 25,
   "metadata": {},
   "outputs": [
    {
     "data": {
      "text/plain": [
       "\n",
       "\tBartlett test of homogeneity of variances\n",
       "\n",
       "data:  QTY by as.factor(HOLIDAY)\n",
       "Bartlett's K-squared = 4.7898, df = 4, p-value = 0.3096\n"
      ]
     },
     "metadata": {},
     "output_type": "display_data"
    }
   ],
   "source": [
    "bartlett.test(QTY ~ as.factor(HOLIDAY), data = fruit_data)"
   ]
  },
  {
   "cell_type": "code",
   "execution_count": 26,
   "metadata": {},
   "outputs": [
    {
     "data": {
      "text/plain": [
       "                   Df   Sum Sq Mean Sq F value Pr(>F)  \n",
       "as.factor(HOLIDAY)  4  4900849 1225212   3.634 0.0107 *\n",
       "Residuals          55 18541111  337111                 \n",
       "---\n",
       "Signif. codes:  0 '***' 0.001 '**' 0.01 '*' 0.05 '.' 0.1 ' ' 1"
      ]
     },
     "metadata": {},
     "output_type": "display_data"
    }
   ],
   "source": [
    "a = aov(QTY ~ as.factor(HOLIDAY), data = fruit_data)\n",
    "summary(a)"
   ]
  },
  {
   "cell_type": "code",
   "execution_count": 27,
   "metadata": {},
   "outputs": [
    {
     "data": {
      "text/plain": [
       "  Tukey multiple comparisons of means\n",
       "    95% family-wise confidence level\n",
       "\n",
       "Fit: aov(formula = QTY ~ as.factor(HOLIDAY), data = fruit_data)\n",
       "\n",
       "$`as.factor(HOLIDAY)`\n",
       "            diff         lwr        upr     p adj\n",
       "9-8    163.10317  -420.42361  746.62996 0.9329426\n",
       "10-8   714.65179   115.38157 1313.92201 0.0117936\n",
       "11-8    29.08929  -696.66299  754.84156 0.9999619\n",
       "12-8   143.21429  -785.17115 1071.59972 0.9923413\n",
       "10-9   551.54861   -11.08969 1114.18691 0.0572624\n",
       "11-9  -134.01389  -829.82523  561.79746 0.9823274\n",
       "12-9   -19.88889  -925.06101  885.28323 0.9999965\n",
       "11-10 -685.56250 -1394.62859   23.50359 0.0627195\n",
       "12-10 -571.43750 -1486.83788  343.96288 0.4066145\n",
       "12-11  114.12500  -888.64588 1116.89588 0.9976323\n"
      ]
     },
     "metadata": {},
     "output_type": "display_data"
    }
   ],
   "source": [
    "TukeyHSD(a)"
   ]
  },
  {
   "cell_type": "code",
   "execution_count": 28,
   "metadata": {},
   "outputs": [
    {
     "data": {
      "image/png": "[encoded data removed]",
      "text/plain": [
       "plot without title"
      ]
     },
     "metadata": {},
     "output_type": "display_data"
    }
   ],
   "source": [
    "plot(fruit_data$HOLIDAY, fruit_data$QTY)"
   ]
  },
  {
   "cell_type": "code",
   "execution_count": 29,
   "metadata": {},
   "outputs": [
    {
     "data": {
      "text/plain": [
       "\n",
       "Call:\n",
       "lm(formula = QTY ~ ITEM_CNT + MAXTEMP, data = fruit_data)\n",
       "\n",
       "Residuals:\n",
       "    Min      1Q  Median      3Q     Max \n",
       "-524.38 -163.69  -32.57  162.39  725.28 \n",
       "\n",
       "Coefficients:\n",
       "            Estimate Std. Error t value Pr(>|t|)    \n",
       "(Intercept) -933.680    247.168  -3.778  0.00038 ***\n",
       "ITEM_CNT      35.727      3.810   9.378 3.76e-13 ***\n",
       "MAXTEMP       42.019      3.819  11.004 1.01e-15 ***\n",
       "---\n",
       "Signif. codes:  0 '***' 0.001 '**' 0.01 '*' 0.05 '.' 0.1 ' ' 1\n",
       "\n",
       "Residual standard error: 284.3 on 57 degrees of freedom\n",
       "Multiple R-squared:  0.8034,\tAdjusted R-squared:  0.7965 \n",
       "F-statistic: 116.5 on 2 and 57 DF,  p-value: < 2.2e-16\n"
      ]
     },
     "metadata": {},
     "output_type": "display_data"
    }
   ],
   "source": [
    "# 과즙음료 최종 모델\n",
    "a = lm(QTY ~ ITEM_CNT + MAXTEMP, data = fruit_data)\n",
    "summary(a)"
   ]
  },
  {
   "cell_type": "code",
   "execution_count": 30,
   "metadata": {},
   "outputs": [
    {
     "data": {
      "text/html": [
       "<dl class=dl-horizontal>\n",
       "\t<dt>ITEM_CNT</dt>\n",
       "\t\t<dd>1.01088117406286</dd>\n",
       "\t<dt>MAXTEMP</dt>\n",
       "\t\t<dd>1.01088117406286</dd>\n",
       "</dl>\n"
      ],
      "text/latex": [
       "\\begin{description*}\n",
       "\\item[ITEM\\textbackslash{}\\_CNT] 1.01088117406286\n",
       "\\item[MAXTEMP] 1.01088117406286\n",
       "\\end{description*}\n"
      ],
      "text/markdown": [
       "ITEM_CNT\n",
       ":   1.01088117406286MAXTEMP\n",
       ":   1.01088117406286\n",
       "\n"
      ],
      "text/plain": [
       "ITEM_CNT  MAXTEMP \n",
       "1.010881 1.010881 "
      ]
     },
     "metadata": {},
     "output_type": "display_data"
    }
   ],
   "source": [
    "vif(a)"
   ]
  },
  {
   "cell_type": "markdown",
   "metadata": {},
   "source": [
    "### ㅡㅡㅡㅡㅡㅡㅡㅡㅡㅡㅡㅡㅡㅡㅡㅡㅡㅡㅡㅡㅡㅡㅡㅡㅡㅡㅡㅡㅡㅡㅡㅡㅡㅡㅡㅡㅡㅡㅡㅡㅡㅡㅡㅡ"
   ]
  },
  {
   "cell_type": "markdown",
   "metadata": {},
   "source": [
    "### 차음료 모델 정의 ㅡㅡㅡㅡㅡㅡㅡㅡㅡㅡㅡㅡㅡㅡㅡㅡㅡㅡㅡㅡㅡㅡㅡㅡㅡㅡㅡㅡㅡㅡㅡㅡㅡㅡㅡㅡ"
   ]
  },
  {
   "cell_type": "code",
   "execution_count": 31,
   "metadata": {},
   "outputs": [
    {
     "data": {
      "text/plain": [
       "Subset selection object\n",
       "Call: regsubsets.formula(QTY ~ YM + ITEM_CNT + PRICE + MAXTEMP + SALEDAY + \n",
       "    RAIN_DAY + HOLIDAY, data = tea_data, nbest = 5)\n",
       "7 Variables  (and intercept)\n",
       "         Forced in Forced out\n",
       "YM           FALSE      FALSE\n",
       "ITEM_CNT     FALSE      FALSE\n",
       "PRICE        FALSE      FALSE\n",
       "MAXTEMP      FALSE      FALSE\n",
       "SALEDAY      FALSE      FALSE\n",
       "RAIN_DAY     FALSE      FALSE\n",
       "HOLIDAY      FALSE      FALSE\n",
       "5 subsets of each size up to 7\n",
       "Selection Algorithm: exhaustive\n",
       "         YM  ITEM_CNT PRICE MAXTEMP SALEDAY RAIN_DAY HOLIDAY\n",
       "1  ( 1 ) \" \" \" \"      \" \"   \"*\"     \" \"     \" \"      \" \"    \n",
       "1  ( 2 ) \" \" \" \"      \" \"   \" \"     \"*\"     \" \"      \" \"    \n",
       "1  ( 3 ) \"*\" \" \"      \" \"   \" \"     \" \"     \" \"      \" \"    \n",
       "1  ( 4 ) \" \" \"*\"      \" \"   \" \"     \" \"     \" \"      \" \"    \n",
       "1  ( 5 ) \" \" \" \"      \" \"   \" \"     \" \"     \"*\"      \" \"    \n",
       "2  ( 1 ) \" \" \" \"      \" \"   \"*\"     \"*\"     \" \"      \" \"    \n",
       "2  ( 2 ) \"*\" \" \"      \" \"   \"*\"     \" \"     \" \"      \" \"    \n",
       "2  ( 3 ) \" \" \" \"      \"*\"   \"*\"     \" \"     \" \"      \" \"    \n",
       "2  ( 4 ) \" \" \"*\"      \" \"   \"*\"     \" \"     \" \"      \" \"    \n",
       "2  ( 5 ) \" \" \" \"      \" \"   \" \"     \"*\"     \"*\"      \" \"    \n",
       "3  ( 1 ) \" \" \" \"      \" \"   \"*\"     \"*\"     \"*\"      \" \"    \n",
       "3  ( 2 ) \" \" \"*\"      \" \"   \"*\"     \"*\"     \" \"      \" \"    \n",
       "3  ( 3 ) \" \" \" \"      \" \"   \"*\"     \"*\"     \" \"      \"*\"    \n",
       "3  ( 4 ) \" \" \" \"      \"*\"   \"*\"     \"*\"     \" \"      \" \"    \n",
       "3  ( 5 ) \"*\" \" \"      \" \"   \"*\"     \"*\"     \" \"      \" \"    \n",
       "4  ( 1 ) \" \" \"*\"      \" \"   \"*\"     \"*\"     \"*\"      \" \"    \n",
       "4  ( 2 ) \" \" \"*\"      \" \"   \"*\"     \"*\"     \" \"      \"*\"    \n",
       "4  ( 3 ) \" \" \" \"      \" \"   \"*\"     \"*\"     \"*\"      \"*\"    \n",
       "4  ( 4 ) \" \" \"*\"      \"*\"   \"*\"     \"*\"     \" \"      \" \"    \n",
       "4  ( 5 ) \" \" \" \"      \"*\"   \"*\"     \"*\"     \"*\"      \" \"    \n",
       "5  ( 1 ) \" \" \"*\"      \" \"   \"*\"     \"*\"     \"*\"      \"*\"    \n",
       "5  ( 2 ) \" \" \"*\"      \"*\"   \"*\"     \"*\"     \"*\"      \" \"    \n",
       "5  ( 3 ) \"*\" \"*\"      \" \"   \"*\"     \"*\"     \"*\"      \" \"    \n",
       "5  ( 4 ) \" \" \"*\"      \"*\"   \"*\"     \"*\"     \" \"      \"*\"    \n",
       "5  ( 5 ) \"*\" \"*\"      \" \"   \"*\"     \"*\"     \" \"      \"*\"    \n",
       "6  ( 1 ) \" \" \"*\"      \"*\"   \"*\"     \"*\"     \"*\"      \"*\"    \n",
       "6  ( 2 ) \"*\" \"*\"      \" \"   \"*\"     \"*\"     \"*\"      \"*\"    \n",
       "6  ( 3 ) \"*\" \"*\"      \"*\"   \"*\"     \"*\"     \"*\"      \" \"    \n",
       "6  ( 4 ) \"*\" \"*\"      \"*\"   \"*\"     \"*\"     \" \"      \"*\"    \n",
       "6  ( 5 ) \"*\" \" \"      \"*\"   \"*\"     \"*\"     \"*\"      \"*\"    \n",
       "7  ( 1 ) \"*\" \"*\"      \"*\"   \"*\"     \"*\"     \"*\"      \"*\"    "
      ]
     },
     "metadata": {},
     "output_type": "display_data"
    }
   ],
   "source": [
    "leaps = regsubsets(QTY ~ YM + ITEM_CNT + PRICE + MAXTEMP + SALEDAY + RAIN_DAY + HOLIDAY, data = tea_data, nbest = 5)\n",
    "summary(leaps)"
   ]
  },
  {
   "cell_type": "code",
   "execution_count": 32,
   "metadata": {},
   "outputs": [
    {
     "data": {
      "image/png": "[encoded data removed]",
      "text/plain": [
       "plot without title"
      ]
     },
     "metadata": {},
     "output_type": "display_data"
    },
    {
     "data": {
      "image/png": "[encoded data removed]",
      "text/plain": [
       "plot without title"
      ]
     },
     "metadata": {},
     "output_type": "display_data"
    }
   ],
   "source": [
    "par(mfrow = c(1, 2))\n",
    "plot(leaps, scale = 'adjr2')\n",
    "plot(leaps, scale = 'Cp')\n",
    "plot(leaps, scale = 'bic')"
   ]
  },
  {
   "cell_type": "code",
   "execution_count": 33,
   "metadata": {},
   "outputs": [
    {
     "data": {
      "text/plain": [
       "\n",
       "Call:\n",
       "lm(formula = QTY ~ YM + ITEM_CNT + MAXTEMP + SALEDAY + RAIN_DAY + \n",
       "    HOLIDAY, data = tea_data)\n",
       "\n",
       "Residuals:\n",
       "    Min      1Q  Median      3Q     Max \n",
       "-469.73 -126.70   -8.18   98.20  843.55 \n",
       "\n",
       "Coefficients:\n",
       "              Estimate Std. Error t value Pr(>|t|)    \n",
       "(Intercept)  1.483e+04  1.618e+05   0.092 0.927287    \n",
       "YM          -7.294e-02  8.064e-01  -0.090 0.928271    \n",
       "ITEM_CNT    -2.075e+01  1.279e+01  -1.622 0.110759    \n",
       "MAXTEMP      4.984e+01  4.338e+00  11.488 5.27e-16 ***\n",
       "SALEDAY      1.155e-02  2.894e-03   3.992 0.000203 ***\n",
       "RAIN_DAY    -5.914e-03  4.100e-03  -1.442 0.155060    \n",
       "HOLIDAY      2.696e+01  2.533e+01   1.064 0.291994    \n",
       "---\n",
       "Signif. codes:  0 '***' 0.001 '**' 0.01 '*' 0.05 '.' 0.1 ' ' 1\n",
       "\n",
       "Residual standard error: 226.2 on 53 degrees of freedom\n",
       "Multiple R-squared:  0.8918,\tAdjusted R-squared:  0.8796 \n",
       "F-statistic: 72.81 on 6 and 53 DF,  p-value: < 2.2e-16\n"
      ]
     },
     "metadata": {},
     "output_type": "display_data"
    }
   ],
   "source": [
    "a = lm(QTY ~ YM + ITEM_CNT + MAXTEMP + SALEDAY + RAIN_DAY + HOLIDAY, data = tea_data)\n",
    "summary(a)"
   ]
  },
  {
   "cell_type": "code",
   "execution_count": 34,
   "metadata": {},
   "outputs": [
    {
     "data": {
      "text/html": [
       "<dl class=dl-horizontal>\n",
       "\t<dt>YM</dt>\n",
       "\t\t<dd>15.2670032796532</dd>\n",
       "\t<dt>ITEM_CNT</dt>\n",
       "\t\t<dd>2.29191980230906</dd>\n",
       "\t<dt>MAXTEMP</dt>\n",
       "\t\t<dd>2.0621275449406</dd>\n",
       "\t<dt>SALEDAY</dt>\n",
       "\t\t<dd>17.4723303848361</dd>\n",
       "\t<dt>RAIN_DAY</dt>\n",
       "\t\t<dd>2.02975555368777</dd>\n",
       "\t<dt>HOLIDAY</dt>\n",
       "\t\t<dd>1.04085311777043</dd>\n",
       "</dl>\n"
      ],
      "text/latex": [
       "\\begin{description*}\n",
       "\\item[YM] 15.2670032796532\n",
       "\\item[ITEM\\textbackslash{}\\_CNT] 2.29191980230906\n",
       "\\item[MAXTEMP] 2.0621275449406\n",
       "\\item[SALEDAY] 17.4723303848361\n",
       "\\item[RAIN\\textbackslash{}\\_DAY] 2.02975555368777\n",
       "\\item[HOLIDAY] 1.04085311777043\n",
       "\\end{description*}\n"
      ],
      "text/markdown": [
       "YM\n",
       ":   15.2670032796532ITEM_CNT\n",
       ":   2.29191980230906MAXTEMP\n",
       ":   2.0621275449406SALEDAY\n",
       ":   17.4723303848361RAIN_DAY\n",
       ":   2.02975555368777HOLIDAY\n",
       ":   1.04085311777043\n",
       "\n"
      ],
      "text/plain": [
       "       YM  ITEM_CNT   MAXTEMP   SALEDAY  RAIN_DAY   HOLIDAY \n",
       "15.267003  2.291920  2.062128 17.472330  2.029756  1.040853 "
      ]
     },
     "metadata": {},
     "output_type": "display_data"
    }
   ],
   "source": [
    "vif(a)"
   ]
  },
  {
   "cell_type": "code",
   "execution_count": 35,
   "metadata": {},
   "outputs": [
    {
     "data": {
      "text/plain": [
       "\n",
       "Call:\n",
       "lm(formula = QTY ~ YM + ITEM_CNT + MAXTEMP + SALEDAY + RAIN_DAY, \n",
       "    data = tea_data)\n",
       "\n",
       "Residuals:\n",
       "    Min      1Q  Median      3Q     Max \n",
       "-439.14 -153.76  -10.77  108.82  847.57 \n",
       "\n",
       "Coefficients:\n",
       "              Estimate Std. Error t value Pr(>|t|)    \n",
       "(Intercept)  9.821e+03  1.619e+05   0.061 0.951858    \n",
       "YM          -4.692e-02  8.070e-01  -0.058 0.953851    \n",
       "ITEM_CNT    -1.996e+01  1.279e+01  -1.561 0.124384    \n",
       "MAXTEMP      5.013e+01  4.334e+00  11.568 3.08e-16 ***\n",
       "SALEDAY      1.156e-02  2.897e-03   3.990 0.000201 ***\n",
       "RAIN_DAY    -6.424e-03  4.076e-03  -1.576 0.120876    \n",
       "---\n",
       "Signif. codes:  0 '***' 0.001 '**' 0.01 '*' 0.05 '.' 0.1 ' ' 1\n",
       "\n",
       "Residual standard error: 226.4 on 54 degrees of freedom\n",
       "Multiple R-squared:  0.8895,\tAdjusted R-squared:  0.8793 \n",
       "F-statistic: 86.93 on 5 and 54 DF,  p-value: < 2.2e-16\n"
      ]
     },
     "metadata": {},
     "output_type": "display_data"
    }
   ],
   "source": [
    "a = lm(QTY ~ YM + ITEM_CNT + MAXTEMP + SALEDAY + RAIN_DAY, data = tea_data)\n",
    "summary(a)"
   ]
  },
  {
   "cell_type": "code",
   "execution_count": 36,
   "metadata": {},
   "outputs": [
    {
     "data": {
      "text/html": [
       "<dl class=dl-horizontal>\n",
       "\t<dt>YM</dt>\n",
       "\t\t<dd>15.2529748237195</dd>\n",
       "\t<dt>ITEM_CNT</dt>\n",
       "\t\t<dd>2.28422186797753</dd>\n",
       "\t<dt>MAXTEMP</dt>\n",
       "\t\t<dd>2.05346631364848</dd>\n",
       "\t<dt>SALEDAY</dt>\n",
       "\t\t<dd>17.472213480731</dd>\n",
       "\t<dt>RAIN_DAY</dt>\n",
       "\t\t<dd>2.00193853958009</dd>\n",
       "</dl>\n"
      ],
      "text/latex": [
       "\\begin{description*}\n",
       "\\item[YM] 15.2529748237195\n",
       "\\item[ITEM\\textbackslash{}\\_CNT] 2.28422186797753\n",
       "\\item[MAXTEMP] 2.05346631364848\n",
       "\\item[SALEDAY] 17.472213480731\n",
       "\\item[RAIN\\textbackslash{}\\_DAY] 2.00193853958009\n",
       "\\end{description*}\n"
      ],
      "text/markdown": [
       "YM\n",
       ":   15.2529748237195ITEM_CNT\n",
       ":   2.28422186797753MAXTEMP\n",
       ":   2.05346631364848SALEDAY\n",
       ":   17.472213480731RAIN_DAY\n",
       ":   2.00193853958009\n",
       "\n"
      ],
      "text/plain": [
       "       YM  ITEM_CNT   MAXTEMP   SALEDAY  RAIN_DAY \n",
       "15.252975  2.284222  2.053466 17.472213  2.001939 "
      ]
     },
     "metadata": {},
     "output_type": "display_data"
    }
   ],
   "source": [
    "vif(a)"
   ]
  },
  {
   "cell_type": "code",
   "execution_count": 37,
   "metadata": {},
   "outputs": [
    {
     "data": {
      "text/plain": [
       "\n",
       "Call:\n",
       "lm(formula = QTY ~ MAXTEMP + SALEDAY, data = tea_data)\n",
       "\n",
       "Residuals:\n",
       "    Min      1Q  Median      3Q     Max \n",
       "-436.25 -138.38   -2.52  102.12  957.39 \n",
       "\n",
       "Coefficients:\n",
       "              Estimate Std. Error t value Pr(>|t|)    \n",
       "(Intercept) -1.705e+02  1.409e+02   -1.21    0.231    \n",
       "MAXTEMP      4.407e+01  3.078e+00   14.32   <2e-16 ***\n",
       "SALEDAY      9.957e-03  7.054e-04   14.12   <2e-16 ***\n",
       "---\n",
       "Signif. codes:  0 '***' 0.001 '**' 0.01 '*' 0.05 '.' 0.1 ' ' 1\n",
       "\n",
       "Residual standard error: 230.4 on 57 degrees of freedom\n",
       "Multiple R-squared:  0.8793,\tAdjusted R-squared:  0.875 \n",
       "F-statistic: 207.6 on 2 and 57 DF,  p-value: < 2.2e-16\n"
      ]
     },
     "metadata": {},
     "output_type": "display_data"
    }
   ],
   "source": [
    "a = lm(QTY ~ MAXTEMP + SALEDAY, data = tea_data)\n",
    "summary(a)"
   ]
  },
  {
   "cell_type": "code",
   "execution_count": 38,
   "metadata": {},
   "outputs": [
    {
     "data": {
      "text/html": [
       "<dl class=dl-horizontal>\n",
       "\t<dt>MAXTEMP</dt>\n",
       "\t\t<dd>1.00068445423221</dd>\n",
       "\t<dt>SALEDAY</dt>\n",
       "\t\t<dd>1.00068445423221</dd>\n",
       "</dl>\n"
      ],
      "text/latex": [
       "\\begin{description*}\n",
       "\\item[MAXTEMP] 1.00068445423221\n",
       "\\item[SALEDAY] 1.00068445423221\n",
       "\\end{description*}\n"
      ],
      "text/markdown": [
       "MAXTEMP\n",
       ":   1.00068445423221SALEDAY\n",
       ":   1.00068445423221\n",
       "\n"
      ],
      "text/plain": [
       " MAXTEMP  SALEDAY \n",
       "1.000684 1.000684 "
      ]
     },
     "metadata": {},
     "output_type": "display_data"
    }
   ],
   "source": [
    "vif(a)"
   ]
  },
  {
   "cell_type": "code",
   "execution_count": 39,
   "metadata": {},
   "outputs": [
    {
     "data": {
      "image/png": "[encoded data removed]",
      "text/plain": [
       "Plot with title \"\""
      ]
     },
     "metadata": {},
     "output_type": "display_data"
    }
   ],
   "source": [
    "par(mfrow = c(2,2))\n",
    "plot(a)"
   ]
  },
  {
   "cell_type": "code",
   "execution_count": 40,
   "metadata": {},
   "outputs": [
    {
     "data": {
      "text/html": [
       "0.667065799920347"
      ],
      "text/latex": [
       "0.667065799920347"
      ],
      "text/markdown": [
       "0.667065799920347"
      ],
      "text/plain": [
       "[1] 0.6670658"
      ]
     },
     "metadata": {},
     "output_type": "display_data"
    }
   ],
   "source": [
    "cor(tea_data$SALEDAY, tea_data$QTY)"
   ]
  },
  {
   "cell_type": "code",
   "execution_count": 41,
   "metadata": {},
   "outputs": [
    {
     "data": {
      "text/plain": [
       "\n",
       "Call:\n",
       "lm(formula = QTY ~ SALEDAY, data = tea_data)\n",
       "\n",
       "Residuals:\n",
       "   Min     1Q Median     3Q    Max \n",
       "-923.2 -438.4  138.2  315.9 1232.7 \n",
       "\n",
       "Coefficients:\n",
       "             Estimate Std. Error t value Pr(>|t|)    \n",
       "(Intercept) 5.550e+02  2.794e+02   1.986   0.0517 .  \n",
       "SALEDAY     1.022e-02  1.499e-03   6.819  5.9e-09 ***\n",
       "---\n",
       "Signif. codes:  0 '***' 0.001 '**' 0.01 '*' 0.05 '.' 0.1 ' ' 1\n",
       "\n",
       "Residual standard error: 489.6 on 58 degrees of freedom\n",
       "Multiple R-squared:  0.445,\tAdjusted R-squared:  0.4354 \n",
       "F-statistic:  46.5 on 1 and 58 DF,  p-value: 5.896e-09\n"
      ]
     },
     "metadata": {},
     "output_type": "display_data"
    }
   ],
   "source": [
    "a = lm(QTY ~ SALEDAY, data = tea_data)\n",
    "summary(a)"
   ]
  },
  {
   "cell_type": "code",
   "execution_count": 42,
   "metadata": {},
   "outputs": [
    {
     "data": {
      "image/png": "[encoded data removed]",
      "text/plain": [
       "plot without title"
      ]
     },
     "metadata": {},
     "output_type": "display_data"
    }
   ],
   "source": [
    "plot(tea_data$SALEDAY, tea_data$QTY)\n",
    "abline(a, col = 2)"
   ]
  },
  {
   "cell_type": "code",
   "execution_count": 43,
   "metadata": {},
   "outputs": [
    {
     "data": {
      "text/plain": [
       "\n",
       "Call:\n",
       "lm(formula = QTY ~ MAXTEMP + SALEDAY, data = tea_data)\n",
       "\n",
       "Residuals:\n",
       "    Min      1Q  Median      3Q     Max \n",
       "-436.25 -138.38   -2.52  102.12  957.39 \n",
       "\n",
       "Coefficients:\n",
       "              Estimate Std. Error t value Pr(>|t|)    \n",
       "(Intercept) -1.705e+02  1.409e+02   -1.21    0.231    \n",
       "MAXTEMP      4.407e+01  3.078e+00   14.32   <2e-16 ***\n",
       "SALEDAY      9.957e-03  7.054e-04   14.12   <2e-16 ***\n",
       "---\n",
       "Signif. codes:  0 '***' 0.001 '**' 0.01 '*' 0.05 '.' 0.1 ' ' 1\n",
       "\n",
       "Residual standard error: 230.4 on 57 degrees of freedom\n",
       "Multiple R-squared:  0.8793,\tAdjusted R-squared:  0.875 \n",
       "F-statistic: 207.6 on 2 and 57 DF,  p-value: < 2.2e-16\n"
      ]
     },
     "metadata": {},
     "output_type": "display_data"
    }
   ],
   "source": [
    "# 차음료 최종 모델\n",
    "a = lm(QTY ~ MAXTEMP + SALEDAY, data = tea_data)\n",
    "summary(a)"
   ]
  },
  {
   "cell_type": "markdown",
   "metadata": {},
   "source": [
    "# ㅡㅡㅡㅡㅡㅡㅡㅡㅡㅡㅡㅡㅡㅡㅡㅡㅡㅡㅡㅡㅡㅡㅡㅡㅡㅡㅡㅡㅡㅡㅡㅡㅡㅡ"
   ]
  },
  {
   "cell_type": "markdown",
   "metadata": {},
   "source": [
    "# 비타민 음료 모델 정의"
   ]
  },
  {
   "cell_type": "code",
   "execution_count": 44,
   "metadata": {},
   "outputs": [
    {
     "data": {
      "text/plain": [
       "Subset selection object\n",
       "Call: regsubsets.formula(QTY ~ YM + ITEM_CNT + PRICE + MAXTEMP + SALEDAY + \n",
       "    RAIN_DAY + HOLIDAY, data = vitamin_data, nbest = 5)\n",
       "7 Variables  (and intercept)\n",
       "         Forced in Forced out\n",
       "YM           FALSE      FALSE\n",
       "ITEM_CNT     FALSE      FALSE\n",
       "PRICE        FALSE      FALSE\n",
       "MAXTEMP      FALSE      FALSE\n",
       "SALEDAY      FALSE      FALSE\n",
       "RAIN_DAY     FALSE      FALSE\n",
       "HOLIDAY      FALSE      FALSE\n",
       "5 subsets of each size up to 7\n",
       "Selection Algorithm: exhaustive\n",
       "         YM  ITEM_CNT PRICE MAXTEMP SALEDAY RAIN_DAY HOLIDAY\n",
       "1  ( 1 ) \" \" \"*\"      \" \"   \" \"     \" \"     \" \"      \" \"    \n",
       "1  ( 2 ) \" \" \" \"      \"*\"   \" \"     \" \"     \" \"      \" \"    \n",
       "1  ( 3 ) \" \" \" \"      \" \"   \" \"     \"*\"     \" \"      \" \"    \n",
       "1  ( 4 ) \"*\" \" \"      \" \"   \" \"     \" \"     \" \"      \" \"    \n",
       "1  ( 5 ) \" \" \" \"      \" \"   \" \"     \" \"     \"*\"      \" \"    \n",
       "2  ( 1 ) \" \" \" \"      \"*\"   \"*\"     \" \"     \" \"      \" \"    \n",
       "2  ( 2 ) \" \" \"*\"      \" \"   \" \"     \" \"     \"*\"      \" \"    \n",
       "2  ( 3 ) \" \" \"*\"      \" \"   \"*\"     \" \"     \" \"      \" \"    \n",
       "2  ( 4 ) \" \" \" \"      \"*\"   \" \"     \" \"     \"*\"      \" \"    \n",
       "2  ( 5 ) \" \" \" \"      \" \"   \" \"     \"*\"     \"*\"      \" \"    \n",
       "3  ( 1 ) \" \" \"*\"      \"*\"   \"*\"     \" \"     \" \"      \" \"    \n",
       "3  ( 2 ) \" \" \" \"      \"*\"   \"*\"     \"*\"     \" \"      \" \"    \n",
       "3  ( 3 ) \" \" \"*\"      \"*\"   \" \"     \" \"     \"*\"      \" \"    \n",
       "3  ( 4 ) \" \" \" \"      \"*\"   \"*\"     \" \"     \"*\"      \" \"    \n",
       "3  ( 5 ) \"*\" \" \"      \"*\"   \"*\"     \" \"     \" \"      \" \"    \n",
       "4  ( 1 ) \" \" \"*\"      \"*\"   \"*\"     \" \"     \"*\"      \" \"    \n",
       "4  ( 2 ) \" \" \" \"      \"*\"   \"*\"     \"*\"     \"*\"      \" \"    \n",
       "4  ( 3 ) \"*\" \"*\"      \"*\"   \"*\"     \" \"     \" \"      \" \"    \n",
       "4  ( 4 ) \"*\" \" \"      \"*\"   \"*\"     \" \"     \"*\"      \" \"    \n",
       "4  ( 5 ) \" \" \"*\"      \"*\"   \"*\"     \"*\"     \" \"      \" \"    \n",
       "5  ( 1 ) \"*\" \"*\"      \"*\"   \"*\"     \" \"     \"*\"      \" \"    \n",
       "5  ( 2 ) \" \" \"*\"      \"*\"   \"*\"     \" \"     \"*\"      \"*\"    \n",
       "5  ( 3 ) \" \" \"*\"      \"*\"   \"*\"     \"*\"     \"*\"      \" \"    \n",
       "5  ( 4 ) \" \" \" \"      \"*\"   \"*\"     \"*\"     \"*\"      \"*\"    \n",
       "5  ( 5 ) \"*\" \" \"      \"*\"   \"*\"     \"*\"     \"*\"      \" \"    \n",
       "6  ( 1 ) \"*\" \"*\"      \"*\"   \"*\"     \"*\"     \"*\"      \" \"    \n",
       "6  ( 2 ) \"*\" \"*\"      \"*\"   \"*\"     \" \"     \"*\"      \"*\"    \n",
       "6  ( 3 ) \" \" \"*\"      \"*\"   \"*\"     \"*\"     \"*\"      \"*\"    \n",
       "6  ( 4 ) \"*\" \" \"      \"*\"   \"*\"     \"*\"     \"*\"      \"*\"    \n",
       "6  ( 5 ) \"*\" \"*\"      \"*\"   \" \"     \"*\"     \"*\"      \"*\"    \n",
       "7  ( 1 ) \"*\" \"*\"      \"*\"   \"*\"     \"*\"     \"*\"      \"*\"    "
      ]
     },
     "metadata": {},
     "output_type": "display_data"
    }
   ],
   "source": [
    "leaps = regsubsets(QTY ~ YM + ITEM_CNT + PRICE + MAXTEMP + SALEDAY + RAIN_DAY + HOLIDAY, data = vitamin_data, nbest = 5)\n",
    "summary(leaps)"
   ]
  },
  {
   "cell_type": "code",
   "execution_count": 45,
   "metadata": {},
   "outputs": [
    {
     "data": {
      "image/png": "[encoded data removed]",
      "text/plain": [
       "plot without title"
      ]
     },
     "metadata": {},
     "output_type": "display_data"
    },
    {
     "data": {
      "image/png": "[encoded data removed]",
      "text/plain": [
       "plot without title"
      ]
     },
     "metadata": {},
     "output_type": "display_data"
    }
   ],
   "source": [
    "par(mfrow = c(1, 2))\n",
    "plot(leaps, scale = 'adjr2')\n",
    "plot(leaps, scale = 'Cp')\n",
    "plot(leaps, scale = 'bic')"
   ]
  },
  {
   "cell_type": "code",
   "execution_count": 46,
   "metadata": {},
   "outputs": [
    {
     "data": {
      "text/plain": [
       "\n",
       "Call:\n",
       "lm(formula = QTY ~ YM + ITEM_CNT + PRICE + MAXTEMP + SALEDAY + \n",
       "    RAIN_DAY, data = vitamin_data)\n",
       "\n",
       "Residuals:\n",
       "    Min      1Q  Median      3Q     Max \n",
       "-441.99 -122.10  -19.42   74.28  552.37 \n",
       "\n",
       "Coefficients:\n",
       "              Estimate Std. Error t value Pr(>|t|)   \n",
       "(Intercept)  2.943e+05  2.040e+05   1.443  0.15489   \n",
       "YM          -1.473e+00  1.017e+00  -1.449  0.15333   \n",
       "ITEM_CNT     3.406e+01  1.929e+01   1.766  0.08312 . \n",
       "PRICE        7.551e-01  2.547e-01   2.964  0.00454 **\n",
       "MAXTEMP      7.608e+00  3.926e+00   1.938  0.05798 . \n",
       "SALEDAY      3.064e-03  2.389e-03   1.283  0.20521   \n",
       "RAIN_DAY     6.821e-03  3.684e-03   1.851  0.06968 . \n",
       "---\n",
       "Signif. codes:  0 '***' 0.001 '**' 0.01 '*' 0.05 '.' 0.1 ' ' 1\n",
       "\n",
       "Residual standard error: 202.3 on 53 degrees of freedom\n",
       "Multiple R-squared:  0.7369,\tAdjusted R-squared:  0.7072 \n",
       "F-statistic: 24.74 on 6 and 53 DF,  p-value: 9.355e-14\n"
      ]
     },
     "metadata": {},
     "output_type": "display_data"
    }
   ],
   "source": [
    "a = lm(QTY ~ YM + ITEM_CNT + PRICE + MAXTEMP + SALEDAY + RAIN_DAY, vitamin_data)\n",
    "summary(a)"
   ]
  },
  {
   "cell_type": "code",
   "execution_count": 47,
   "metadata": {},
   "outputs": [
    {
     "data": {
      "text/plain": [
       "\n",
       "Call:\n",
       "lm(formula = QTY ~ ITEM_CNT + PRICE + MAXTEMP + RAIN_DAY, data = vitamin_data)\n",
       "\n",
       "Residuals:\n",
       "    Min      1Q  Median      3Q     Max \n",
       "-422.62 -112.66  -43.05  107.77  574.78 \n",
       "\n",
       "Coefficients:\n",
       "              Estimate Std. Error t value Pr(>|t|)   \n",
       "(Intercept) -1.054e+03  3.653e+02  -2.885  0.00558 **\n",
       "ITEM_CNT     2.246e+01  8.909e+00   2.521  0.01462 * \n",
       "PRICE        6.854e-01  2.487e-01   2.756  0.00792 **\n",
       "MAXTEMP      8.875e+00  3.825e+00   2.320  0.02406 * \n",
       "RAIN_DAY     6.731e-03  3.692e-03   1.823  0.07374 . \n",
       "---\n",
       "Signif. codes:  0 '***' 0.001 '**' 0.01 '*' 0.05 '.' 0.1 ' ' 1\n",
       "\n",
       "Residual standard error: 202.9 on 55 degrees of freedom\n",
       "Multiple R-squared:  0.7254,\tAdjusted R-squared:  0.7054 \n",
       "F-statistic: 36.31 on 4 and 55 DF,  p-value: 7.716e-15\n"
      ]
     },
     "metadata": {},
     "output_type": "display_data"
    }
   ],
   "source": [
    "a = lm(QTY ~ ITEM_CNT + PRICE + MAXTEMP + RAIN_DAY, vitamin_data)\n",
    "summary(a)"
   ]
  },
  {
   "cell_type": "code",
   "execution_count": 48,
   "metadata": {},
   "outputs": [
    {
     "data": {
      "text/plain": [
       "\n",
       "Call:\n",
       "lm(formula = QTY ~ ITEM_CNT + PRICE + MAXTEMP, data = vitamin_data)\n",
       "\n",
       "Residuals:\n",
       "    Min      1Q  Median      3Q     Max \n",
       "-443.02 -114.74  -45.85  131.54  592.32 \n",
       "\n",
       "Coefficients:\n",
       "              Estimate Std. Error t value Pr(>|t|)    \n",
       "(Intercept) -1188.2848   365.0736  -3.255  0.00193 ** \n",
       "ITEM_CNT       23.0316     9.0860   2.535  0.01407 *  \n",
       "PRICE           0.7479     0.2514   2.975  0.00432 ** \n",
       "MAXTEMP        13.6824     2.8273   4.839 1.06e-05 ***\n",
       "---\n",
       "Signif. codes:  0 '***' 0.001 '**' 0.01 '*' 0.05 '.' 0.1 ' ' 1\n",
       "\n",
       "Residual standard error: 207.1 on 56 degrees of freedom\n",
       "Multiple R-squared:  0.7088,\tAdjusted R-squared:  0.6932 \n",
       "F-statistic: 45.43 on 3 and 56 DF,  p-value: 5.119e-15\n"
      ]
     },
     "metadata": {},
     "output_type": "display_data"
    }
   ],
   "source": [
    "a = lm(QTY ~ ITEM_CNT + PRICE + MAXTEMP, vitamin_data)\n",
    "summary(a)"
   ]
  },
  {
   "cell_type": "code",
   "execution_count": null,
   "metadata": {},
   "outputs": [],
   "source": [
    "cor(vitamin_data$PRICE, vitamin_data$QTY)"
   ]
  },
  {
   "cell_type": "code",
   "execution_count": null,
   "metadata": {},
   "outputs": [],
   "source": [
    "a = lm(QTY ~ PRICE, vitamin_data)\n",
    "summary(a)"
   ]
  },
  {
   "cell_type": "code",
   "execution_count": null,
   "metadata": {},
   "outputs": [],
   "source": [
    "plot(vitamin_data$PRICE, vitamin_data$QTY)\n",
    "abline(a, col = 2)"
   ]
  },
  {
   "cell_type": "code",
   "execution_count": null,
   "metadata": {},
   "outputs": [],
   "source": [
    "vitamin_data"
   ]
  },
  {
   "cell_type": "code",
   "execution_count": null,
   "metadata": {},
   "outputs": [],
   "source": [
    "vitamin_data_new = vitamin_data %>%\n",
    "    filter(PRICE != '1300')"
   ]
  },
  {
   "cell_type": "code",
   "execution_count": null,
   "metadata": {},
   "outputs": [],
   "source": [
    "a = lm(QTY ~ ITEM_CNT + PRICE + MAXTEMP, vitamin_data_new)\n",
    "summary(a)"
   ]
  },
  {
   "cell_type": "code",
   "execution_count": null,
   "metadata": {},
   "outputs": [],
   "source": [
    "cor(vitamin_data_new$PRICE, vitamin_data_new$QTY)"
   ]
  },
  {
   "cell_type": "code",
   "execution_count": null,
   "metadata": {},
   "outputs": [],
   "source": [
    "a = lm(QTY ~ PRICE, vitamin_data_new)\n",
    "summary(a)"
   ]
  },
  {
   "cell_type": "code",
   "execution_count": null,
   "metadata": {},
   "outputs": [],
   "source": [
    "plot(vitamin_data_new$PRICE, vitamin_data_new$QTY)\n",
    "abline(a, col = 2)"
   ]
  },
  {
   "cell_type": "code",
   "execution_count": null,
   "metadata": {},
   "outputs": [],
   "source": [
    "a = lm(QTY ~ ITEM_CNT + MAXTEMP, vitamin_data_new)\n",
    "summary(a)"
   ]
  },
  {
   "cell_type": "code",
   "execution_count": null,
   "metadata": {},
   "outputs": [],
   "source": [
    "cor(vitamin_data$ITEM_CNT, vitamin_data$QTY)"
   ]
  },
  {
   "cell_type": "code",
   "execution_count": null,
   "metadata": {},
   "outputs": [],
   "source": [
    "a = lm(QTY ~ ITEM_CNT, vitamin_data)\n",
    "summary(a)"
   ]
  },
  {
   "cell_type": "code",
   "execution_count": null,
   "metadata": {},
   "outputs": [],
   "source": [
    "plot(vitamin_data$ITEM_CNT, vitamin_data$QTY)\n",
    "abline(a, col = 2)"
   ]
  },
  {
   "cell_type": "code",
   "execution_count": null,
   "metadata": {},
   "outputs": [],
   "source": [
    "# 비타민 최종 모델\n",
    "a = lm(QTY ~ ITEM_CNT + MAXTEMP, vitamin_data_new)\n",
    "summary(a)"
   ]
  },
  {
   "cell_type": "markdown",
   "metadata": {},
   "source": [
    "## ㅡㅡㅡㅡㅡㅡㅡㅡㅡㅡㅡㅡㅡㅡㅡㅡㅡㅡㅡㅡㅡㅡㅡㅡㅡㅡㅡㅡㅡㅡㅡㅡㅡㅡㅡㅡㅡㅡ"
   ]
  },
  {
   "cell_type": "markdown",
   "metadata": {},
   "source": [
    "# 모델 정리"
   ]
  },
  {
   "cell_type": "code",
   "execution_count": null,
   "metadata": {},
   "outputs": [],
   "source": [
    "# 과즙음료 최종 모델\n",
    "a = lm(QTY ~ ITEM_CNT + MAXTEMP, data = fruit_data)\n",
    "summary(a)"
   ]
  },
  {
   "cell_type": "code",
   "execution_count": null,
   "metadata": {},
   "outputs": [],
   "source": [
    "leaps = regsubsets(QTY ~ ITEM_CNT + MAXTEMP, data = fruit_data, nbest = 5)\n",
    "summary(leaps)\n",
    "\n",
    "par(mfrow = c(1, 2))\n",
    "plot(leaps, scale = 'adjr2')\n",
    "plot(leaps, scale = 'Cp')\n",
    "plot(leaps, scale = 'bic')"
   ]
  },
  {
   "cell_type": "code",
   "execution_count": null,
   "metadata": {},
   "outputs": [],
   "source": [
    "# 차음료 최종 모델\n",
    "a = lm(QTY ~ MAXTEMP + SALEDAY, data = tea_data)\n",
    "summary(a)"
   ]
  },
  {
   "cell_type": "code",
   "execution_count": null,
   "metadata": {},
   "outputs": [],
   "source": [
    "# 비타민 최종 모델\n",
    "a = lm(QTY ~ ITEM_CNT + MAXTEMP, vitamin_data_new)\n",
    "summary(a)"
   ]
  },
  {
   "cell_type": "code",
   "execution_count": null,
   "metadata": {},
   "outputs": [],
   "source": []
  },
  {
   "cell_type": "code",
   "execution_count": null,
   "metadata": {},
   "outputs": [],
   "source": [
    "fruit_data_2009 = fruit_data %>%\n",
    "                    select(YM, MAXTEMP, QTY) %>%\n",
    "                    filter(grepl('^2009', YM))\n",
    "fruit_data_2010 = fruit_data %>%\n",
    "                    select(YM, MAXTEMP, QTY) %>%\n",
    "                    filter(grepl('^2010', YM))\n",
    "fruit_data_2011 = fruit_data %>%\n",
    "                    select(YM, MAXTEMP, QTY) %>%\n",
    "                    filter(grepl('^2011', YM))\n",
    "fruit_data_2012 = fruit_data %>%\n",
    "                    select(YM, MAXTEMP, QTY) %>%\n",
    "                    filter(grepl('^2012', YM))\n",
    "fruit_data_2013 = fruit_data %>%\n",
    "                    select(YM, MAXTEMP, QTY) %>%\n",
    "                    filter(grepl('^2013', YM))\n",
    "\n",
    "fruit_data_2009"
   ]
  },
  {
   "cell_type": "code",
   "execution_count": null,
   "metadata": {},
   "outputs": [],
   "source": [
    "par(mfrow = c(3,2))\n",
    "plot(fruit_data_2009$MAXTEMP, fruit_data_2009$QTY)\n",
    "plot(fruit_data_2010$MAXTEMP, fruit_data_2010$QTY)\n",
    "plot(fruit_data_2011$MAXTEMP, fruit_data_2011$QTY)\n",
    "plot(fruit_data_2012$MAXTEMP, fruit_data_2012$QTY)\n",
    "plot(fruit_data_2013$MAXTEMP, fruit_data_2013$QTY)"
   ]
  },
  {
   "cell_type": "code",
   "execution_count": null,
   "metadata": {},
   "outputs": [],
   "source": [
    "vitamin_data_2009 = vitamin_data %>%\n",
    "                    select(YM, MAXTEMP, QTY) %>%\n",
    "                    filter(grepl('^2009', YM))\n",
    "vitamin_data_2010 = vitamin_data %>%\n",
    "                    select(YM, MAXTEMP, QTY) %>%\n",
    "                    filter(grepl('^2010', YM))\n",
    "vitamin_data_2011 = vitamin_data %>%\n",
    "                    select(YM, MAXTEMP, QTY) %>%\n",
    "                    filter(grepl('^2011', YM))\n",
    "vitamin_data_2012 = vitamin_data %>%\n",
    "                    select(YM, MAXTEMP, QTY) %>%\n",
    "                    filter(grepl('^2012', YM))\n",
    "vitamin_data_2013 = vitamin_data %>%\n",
    "                    select(YM, MAXTEMP, QTY) %>%\n",
    "                    filter(grepl('^2013', YM))\n",
    "\n",
    "vitamin_data_2009$YM = seq(1:12)\n",
    "vitamin_data_2010$YM = seq(1:12)\n",
    "vitamin_data_2011$YM = seq(1:12)\n",
    "vitamin_data_2012$YM = seq(1:12)\n",
    "vitamin_data_2013$YM = seq(1:12)\n",
    "\n",
    "vitamin_data_t = data.frame(vitamin_data_2009$YM, vitamin_data_2009$MAXTEMP)\n",
    "vitamin_data_t = cbind(vitamin_data_t, vitamin_data_2010$MAXTEMP, vitamin_data_2011$MAXTEMP, vitamin_data_2012$MAXTEMP,\n",
    "                       vitamin_data_2013$MAXTEMP)\n",
    "vitamin_data_t$t_mean = apply(vitamin_data_t[-c(1)], 1, mean)\n",
    "\n",
    "vitamin_data_ = data.frame(vitamin_data_2009$YM, vitamin_data_2009$QTY)\n",
    "vitamin_data_ = cbind(vitamin_data_, vitamin_data_2010$QTY, vitamin_data_2011$QTY, vitamin_data_2012$QTY, vitamin_data_2013$QTY)\n",
    "\n",
    "vitamin_data_$mean = apply(vitamin_data_[-c(1)], 1, mean)\n",
    "vitamin_data_ = cbind(vitamin_data_, vitamin_data_t$t_mean)\n",
    "colnames(vitamin_data_) = c('M', 'y09', 'y10', 'y11', 'y12', 'y13', 'QTY_mean', 'Temp_mean')\n",
    "\n",
    "vitamin_data_"
   ]
  },
  {
   "cell_type": "code",
   "execution_count": null,
   "metadata": {},
   "outputs": [],
   "source": [
    "par(mfrow = c(3, 2))\n",
    "plot(vitamin_data_2009$MAXTEMP, vitamin_data_2009$QTY)\n",
    "plot(vitamin_data_2010$MAXTEMP, vitamin_data_2010$QTY)\n",
    "plot(vitamin_data_2011$MAXTEMP, vitamin_data_2011$QTY)\n",
    "plot(vitamin_data_2012$MAXTEMP, vitamin_data_2012$QTY)\n",
    "plot(vitamin_data_2013$MAXTEMP, vitamin_data_2013$QTY)\n",
    "plot(vitamin_data_$Temp_mean)"
   ]
  },
  {
   "cell_type": "code",
   "execution_count": null,
   "metadata": {},
   "outputs": [],
   "source": [
    "tea_data_2009 = tea_data %>%\n",
    "                    select(YM, MAXTEMP, QTY) %>%\n",
    "                    filter(grepl('^2009', YM))\n",
    "tea_data_2010 = tea_data %>%\n",
    "                    select(YM, MAXTEMP, QTY) %>%\n",
    "                    filter(grepl('^2010', YM))\n",
    "tea_data_2011 = tea_data %>%\n",
    "                    select(YM, MAXTEMP, QTY) %>%\n",
    "                    filter(grepl('^2011', YM))\n",
    "tea_data_2012 = tea_data %>%\n",
    "                    select(YM, MAXTEMP, QTY) %>%\n",
    "                    filter(grepl('^2012', YM))\n",
    "tea_data_2013 = tea_data %>%\n",
    "                    select(YM, MAXTEMP, QTY) %>%\n",
    "                    filter(grepl('^2013', YM))\n",
    "\n",
    "tea_data_2009$YM = seq(1:12)\n",
    "tea_data_2010$YM = seq(1:12)\n",
    "tea_data_2011$YM = seq(1:12)\n",
    "tea_data_2012$YM = seq(1:12)\n",
    "tea_data_2013$YM = seq(1:12)\n",
    "\n",
    "tea_data_t = data.frame(tea_data_2009$YM, tea_data_2009$MAXTEMP)\n",
    "tea_data_t = cbind(tea_data_t, tea_data_2010$MAXTEMP, tea_data_2011$MAXTEMP, tea_data_2012$MAXTEMP, tea_data_2013$MAXTEMP)\n",
    "tea_data_t$t_mean = apply(tea_data_t[-c(1)], 1, mean)\n",
    "\n",
    "tea_data_ = data.frame(tea_data_2009$YM, tea_data_2009$QTY)\n",
    "tea_data_ = cbind(tea_data_, tea_data_2010$QTY, tea_data_2011$QTY, tea_data_2012$QTY, tea_data_2013$QTY)\n",
    "\n",
    "tea_data_$mean = apply(tea_data_[-c(1)], 1, mean)\n",
    "tea_data_ = cbind(tea_data_, tea_data_t$t_mean)\n",
    "colnames(tea_data_) = c('M', 'y09', 'y10', 'y11', 'y12', 'y13', 'QTY_mean', 'Temp_mean')\n",
    "\n",
    "tea_data_"
   ]
  },
  {
   "cell_type": "code",
   "execution_count": null,
   "metadata": {},
   "outputs": [],
   "source": [
    "par(mfrow = c(3, 2))\n",
    "plot(tea_data_2009$MAXTEMP, tea_data_2009$QTY)\n",
    "plot(tea_data_2010$MAXTEMP, tea_data_2010$QTY)\n",
    "plot(tea_data_2011$MAXTEMP, tea_data_2011$QTY)\n",
    "plot(tea_data_2012$MAXTEMP, tea_data_2012$QTY)\n",
    "plot(tea_data_2013$MAXTEMP, tea_data_2013$QTY)\n",
    "plot(tea_data_$Temp_mean)"
   ]
  },
  {
   "cell_type": "code",
   "execution_count": null,
   "metadata": {},
   "outputs": [],
   "source": [
    "fruit_data_2009$YM = seq(1:12)\n",
    "fruit_data_2010$YM = seq(1:12)\n",
    "fruit_data_2011$YM = seq(1:12)\n",
    "fruit_data_2012$YM = seq(1:12)\n",
    "fruit_data_2013$YM = seq(1:12)\n",
    "\n",
    "fruit_data_t = data.frame(fruit_data_2009$YM, fruit_data_2009$MAXTEMP)\n",
    "fruit_data_t = cbind(fruit_data_t, fruit_data_2010$MAXTEMP, fruit_data_2011$MAXTEMP, fruit_data_2012$MAXTEMP, fruit_data_2013$MAXTEMP)\n",
    "fruit_data_t$t_mean = apply(fruit_data_t[-c(1)], 1, mean)\n",
    "\n",
    "fruit_data_ = data.frame(fruit_data_2009$YM, fruit_data_2009$QTY)\n",
    "fruit_data_ = cbind(fruit_data_, fruit_data_2010$QTY, fruit_data_2011$QTY, fruit_data_2012$QTY, fruit_data_2013$QTY)\n",
    "\n",
    "fruit_data_"
   ]
  },
  {
   "cell_type": "code",
   "execution_count": null,
   "metadata": {},
   "outputs": [],
   "source": [
    "fruit_data_$mean = apply(fruit_data_[-c(1)], 1, mean)\n",
    "fruit_data_ = cbind(fruit_data_, fruit_data_t$t_mean)\n",
    "colnames(fruit_data_) = c('M', 'y09', 'y10', 'y11', 'y12', 'y13', 'QTY_mean', 'Temp_mean')\n",
    "fruit_data_"
   ]
  },
  {
   "cell_type": "code",
   "execution_count": null,
   "metadata": {},
   "outputs": [],
   "source": [
    "fruit_data_1 = fruit_data_[-c(2:6)]\n",
    "fruit_data_1$group = 'fruit_temp'\n",
    "vitamin_data_1 = vitamin_data_[-c(2:6)]\n",
    "vitamin_data_1$group = 'vitamin_temp'\n",
    "tea_data_1 = tea_data_[-c(2:6)]\n",
    "tea_data_1$group = 'tea_temp'\n",
    "data_month = rbind(fruit_data_1, vitamin_data_1, tea_data_1)\n",
    "head(data_month)"
   ]
  },
  {
   "cell_type": "code",
   "execution_count": null,
   "metadata": {},
   "outputs": [],
   "source": [
    "ggplot(data = data_month) +\n",
    "    geom_line(aes(x = Temp_mean, y = QTY_mean, group = group, color = group), linetype = 1)"
   ]
  },
  {
   "cell_type": "code",
   "execution_count": null,
   "metadata": {},
   "outputs": [],
   "source": [
    "data_month = as.data.frame(data_month)\n",
    "data_month$M = as.integer(data_month$M)\n",
    "head(data_month)"
   ]
  },
  {
   "cell_type": "code",
   "execution_count": null,
   "metadata": {},
   "outputs": [],
   "source": [
    "data_month = data_month %>%\n",
    "        mutate(season = ntile(data_month$Temp_mean, 4))"
   ]
  },
  {
   "cell_type": "code",
   "execution_count": null,
   "metadata": {},
   "outputs": [],
   "source": [
    "data_month$season = as.factor(data_month$season)\n",
    "str(data_month)"
   ]
  },
  {
   "cell_type": "code",
   "execution_count": null,
   "metadata": {},
   "outputs": [],
   "source": [
    "a = aov(QTY_mean ~ season * group, data = data_month)\n",
    "summary(a)"
   ]
  },
  {
   "cell_type": "code",
   "execution_count": null,
   "metadata": {},
   "outputs": [],
   "source": [
    "TukeyHSD(a)"
   ]
  },
  {
   "cell_type": "code",
   "execution_count": null,
   "metadata": {},
   "outputs": [],
   "source": [
    "interaction.plot(data_month$season, data_month$group, data_month$QTY_mean, col = rainbow(3))"
   ]
  },
  {
   "cell_type": "code",
   "execution_count": null,
   "metadata": {},
   "outputs": [],
   "source": [
    "interaction.plot(data_month$group, data_month$season, data_month$QTY_mean, col = rainbow(3))"
   ]
  },
  {
   "cell_type": "code",
   "execution_count": null,
   "metadata": {},
   "outputs": [],
   "source": [
    "data_month"
   ]
  },
  {
   "cell_type": "code",
   "execution_count": null,
   "metadata": {},
   "outputs": [],
   "source": [
    "data_2013 = data  %>% \n",
    "                filter(grepl('^2013', YM))\n",
    "\n",
    "data_2013_fruit = data_2013  %>% \n",
    "                    filter(CATEGORY == '과즙음료')\n",
    "data_2013_vitamin = data_2013  %>% \n",
    "                        filter(CATEGORY == '비타민음료')\n",
    "data_2013_tea = data_2013  %>% \n",
    "                    filter(CATEGORY == '차음료')\n",
    "\n",
    "data_0912 = data  %>% \n",
    "                filter(!grepl('^2013', YM))\n",
    "\n",
    "data_0912_fruit = data_0912  %>% \n",
    "                    filter(CATEGORY == '과즙음료')\n",
    "data_0912_vitamin = data_0912  %>% \n",
    "                    filter(CATEGORY == '비타민음료')\n",
    "data_0912_vitamin = data_0912_vitamin  %>% \n",
    "                    filter(PRICE != 1300)\n",
    "\n",
    "data_0912_tea = data_0912  %>% \n",
    "                    filter(CATEGORY == '차음료')"
   ]
  },
  {
   "cell_type": "code",
   "execution_count": null,
   "metadata": {
    "scrolled": true
   },
   "outputs": [],
   "source": [
    "# 과즙음료 최종 모델\n",
    "fruit_model = lm(QTY ~ ITEM_CNT + MAXTEMP, data = data_0912_fruit)\n",
    "summary(fruit_model)"
   ]
  },
  {
   "cell_type": "code",
   "execution_count": null,
   "metadata": {},
   "outputs": [],
   "source": [
    "library(leaps)"
   ]
  },
  {
   "cell_type": "code",
   "execution_count": null,
   "metadata": {
    "scrolled": false
   },
   "outputs": [],
   "source": [
    "leaps = regsubsets(QTY ~ ITEM_CNT + MAXTEMP, data = data_0912_fruit, nbest = 5)\n",
    "summary(leaps)\n",
    "\n",
    "par(mfrow = c(1, 2))\n",
    "plot(leaps, scale = 'adjr2')\n",
    "plot(leaps, scale = 'Cp')\n",
    "plot(leaps, scale = 'bic')"
   ]
  },
  {
   "cell_type": "code",
   "execution_count": null,
   "metadata": {},
   "outputs": [],
   "source": [
    "# 차음료 최종 모델\n",
    "tea_model = lm(QTY ~ MAXTEMP + SALEDAY, data = data_0912_tea)\n",
    "summary(tea_model)"
   ]
  },
  {
   "cell_type": "code",
   "execution_count": null,
   "metadata": {},
   "outputs": [],
   "source": [
    "# 비타민 최종 모델\n",
    "vitamin_model = lm(QTY ~ ITEM_CNT + MAXTEMP, data_0912_vitamin)\n",
    "summary(vitamin_model)"
   ]
  },
  {
   "cell_type": "markdown",
   "metadata": {},
   "source": [
    "## 2013 과즙음료 예측"
   ]
  },
  {
   "cell_type": "code",
   "execution_count": null,
   "metadata": {},
   "outputs": [],
   "source": [
    "fruit_pre = as.data.frame(predict(fruit_model, data_2013_fruit, interval = 'predict'))\n",
    "fruit_pre = cbind(fruit_pre, data_2013_fruit$QTY)\n",
    "fruit_pre$acc[fruit_pre$'data_2013_fruit$QTY' >= fruit_pre$lwr & fruit_pre$'data_2013_fruit$QTY' <= fruit_pre$upr] = T\n",
    "fruit_pre$acc[is.na(fruit_pre$acc)] = F\n",
    "colnames(fruit_pre) = c('fit', 'lwr', 'upr', 'QTY', 'acc')\n",
    "fruit_pre"
   ]
  },
  {
   "cell_type": "code",
   "execution_count": null,
   "metadata": {},
   "outputs": [],
   "source": [
    "round(sum(fruit_pre$acc) / dim(fruit_pre)[1], 2)"
   ]
  },
  {
   "cell_type": "markdown",
   "metadata": {},
   "source": [
    "## 2013 차음료 예측"
   ]
  },
  {
   "cell_type": "code",
   "execution_count": null,
   "metadata": {},
   "outputs": [],
   "source": [
    "tea_pre = as.data.frame(predict(tea_model, data_2013_tea, interval = 'predict'))\n",
    "tea_pre = cbind(tea_pre, data_2013_tea$QTY)\n",
    "tea_pre$acc[tea_pre$'data_2013_tea$QTY' >= tea_pre$lwr & tea_pre$'data_2013_tea$QTY' <= tea_pre$upr] = T\n",
    "tea_pre$acc[is.na(tea_pre$acc)] = F\n",
    "colnames(tea_pre) = c('fit', 'lwr', 'upr', 'QTY', 'acc')\n",
    "tea_pre"
   ]
  },
  {
   "cell_type": "code",
   "execution_count": null,
   "metadata": {},
   "outputs": [],
   "source": [
    "round(sum(tea_pre$acc) / dim(tea_pre)[1], 2)"
   ]
  },
  {
   "cell_type": "markdown",
   "metadata": {},
   "source": [
    "## 2013 비타민 음료 예측"
   ]
  },
  {
   "cell_type": "code",
   "execution_count": null,
   "metadata": {},
   "outputs": [],
   "source": [
    "vitamin_pre = as.data.frame(predict(vitamin_model, data_2013_vitamin, interval = 'predict'))\n",
    "vitamin_pre = cbind(vitamin_pre, data_2013_vitamin$QTY)\n",
    "vitamin_pre$acc[vitamin_pre$'data_2013_vitamin$QTY' >= vitamin_pre$lwr & vitamin_pre$'data_2013_vitamin$QTY' <= vitamin_pre$upr] = T\n",
    "vitamin_pre$acc[is.na(vitamin_pre$acc)] = F\n",
    "colnames(vitamin_pre) = c('fit', 'lwr', 'upr', 'QTY', 'acc')\n",
    "vitamin_pre"
   ]
  },
  {
   "cell_type": "code",
   "execution_count": null,
   "metadata": {},
   "outputs": [],
   "source": [
    "round(sum(vitamin_pre$acc) / dim(vitamin_pre)[1], 2)"
   ]
  },
  {
   "cell_type": "markdown",
   "metadata": {},
   "source": [
    "# 전체"
   ]
  },
  {
   "cell_type": "code",
   "execution_count": null,
   "metadata": {},
   "outputs": [],
   "source": [
    "pred = rbind(fruit_pre, vitamin_pre, tea_pre)\n",
    "round(sum(pred$acc) / dim(pred)[1], 2)"
   ]
  },
  {
   "cell_type": "markdown",
   "metadata": {},
   "source": [
    "# 전체 회귀분석"
   ]
  },
  {
   "cell_type": "code",
   "execution_count": null,
   "metadata": {},
   "outputs": [],
   "source": [
    "a = lm(QTY ~ ITEM_CNT + PRICE + MAXTEMP + SALEDAY, data_0912)\n",
    "summary(a)"
   ]
  },
  {
   "cell_type": "code",
   "execution_count": null,
   "metadata": {},
   "outputs": [],
   "source": [
    "cor(data_0912$PRICE, data_0912$QTY)"
   ]
  },
  {
   "cell_type": "code",
   "execution_count": null,
   "metadata": {},
   "outputs": [],
   "source": [
    "plot(data_0912$PRICE, data_0912$QTY, col = data_0912$CATEGORY)"
   ]
  },
  {
   "cell_type": "code",
   "execution_count": null,
   "metadata": {},
   "outputs": [],
   "source": [
    "pre = as.data.frame(predict(a, data_2013, interval = 'predict'))\n",
    "pre = cbind(pre, data_2013$QTY)\n",
    "pre$acc[pre$'data_2013$QTY' >= pre$lwr & pre$'data_2013$QTY' <= pre$upr] = T\n",
    "pre$acc[is.na(pre$acc)] = F\n",
    "pre"
   ]
  },
  {
   "cell_type": "code",
   "execution_count": null,
   "metadata": {},
   "outputs": [],
   "source": [
    "round(sum(pre$acc) / dim(pre)[1], 2)"
   ]
  },
  {
   "cell_type": "code",
   "execution_count": null,
   "metadata": {},
   "outputs": [],
   "source": []
  }
 ],
 "metadata": {
  "kernelspec": {
   "display_name": "R",
   "language": "R",
   "name": "ir"
  },
  "language_info": {
   "codemirror_mode": "r",
   "file_extension": ".r",
   "mimetype": "text/x-r-source",
   "name": "R",
   "pygments_lexer": "r",
   "version": "3.6.1"
  }
 },
 "nbformat": 4,
 "nbformat_minor": 4
}
