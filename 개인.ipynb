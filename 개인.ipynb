{
 "cells": [
  {
   "cell_type": "markdown",
   "metadata": {},
   "source": [
    "# Team_Project"
   ]
  },
  {
   "cell_type": "code",
   "execution_count": 1,
   "metadata": {},
   "outputs": [],
   "source": [
    "setwd('d:/workspace/R_practice/data/R_data')"
   ]
  },
  {
   "cell_type": "code",
   "execution_count": 2,
   "metadata": {},
   "outputs": [
    {
     "data": {
      "text/html": [
       "'d:/workspace/R_practice/data/R_data'"
      ],
      "text/latex": [
       "'d:/workspace/R\\_practice/data/R\\_data'"
      ],
      "text/markdown": [
       "'d:/workspace/R_practice/data/R_data'"
      ],
      "text/plain": [
       "[1] \"d:/workspace/R_practice/data/R_data\""
      ]
     },
     "metadata": {},
     "output_type": "display_data"
    }
   ],
   "source": [
    "getwd()"
   ]
  },
  {
   "cell_type": "code",
   "execution_count": 3,
   "metadata": {},
   "outputs": [
    {
     "name": "stderr",
     "output_type": "stream",
     "text": [
      "\n",
      "Attaching package: 'dplyr'\n",
      "\n",
      "The following objects are masked from 'package:stats':\n",
      "\n",
      "    filter, lag\n",
      "\n",
      "The following objects are masked from 'package:base':\n",
      "\n",
      "    intersect, setdiff, setequal, union\n",
      "\n",
      "Warning message:\n",
      "\"package 'ggplot2' was built under R version 3.6.3\"Warning message:\n",
      "\"package 'car' was built under R version 3.6.3\"Loading required package: carData\n",
      "Warning message:\n",
      "\"package 'carData' was built under R version 3.6.3\"\n",
      "Attaching package: 'car'\n",
      "\n",
      "The following object is masked from 'package:dplyr':\n",
      "\n",
      "    recode\n",
      "\n"
     ]
    }
   ],
   "source": [
    "library('dplyr')\n",
    "library('ggplot2')\n",
    "library('car')\n",
    "# library('corrplot')"
   ]
  },
  {
   "cell_type": "code",
   "execution_count": 4,
   "metadata": {},
   "outputs": [],
   "source": [
    "# install.packages('corrplot')"
   ]
  },
  {
   "cell_type": "code",
   "execution_count": 5,
   "metadata": {},
   "outputs": [
    {
     "data": {
      "text/html": [
       "<table>\n",
       "<thead><tr><th scope=col>X</th><th scope=col>YM</th><th scope=col>CATEGORY</th><th scope=col>ITEM_CNT</th><th scope=col>QTY</th><th scope=col>PRICE</th><th scope=col>MAXTEMP</th><th scope=col>SALEDAY</th><th scope=col>RAIN_DAY</th><th scope=col>HOLIDAY</th></tr></thead>\n",
       "<tbody>\n",
       "\t<tr><td>1       </td><td>200901  </td><td>과즙음료</td><td>45      </td><td> 990    </td><td>2611    </td><td> 4      </td><td>126753  </td><td> 151    </td><td>12      </td></tr>\n",
       "\t<tr><td>2       </td><td>200902  </td><td>과즙음료</td><td>45      </td><td>1199    </td><td>2689    </td><td> 9      </td><td>113399  </td><td>3014    </td><td> 8      </td></tr>\n",
       "\t<tr><td>3       </td><td>200903  </td><td>과즙음료</td><td>43      </td><td>1102    </td><td>2735    </td><td>12      </td><td>129162  </td><td>1383    </td><td> 9      </td></tr>\n",
       "\t<tr><td>4       </td><td>200904  </td><td>과즙음료</td><td>42      </td><td>1326    </td><td>2807    </td><td>19      </td><td>126277  </td><td>3564    </td><td> 8      </td></tr>\n",
       "\t<tr><td>5       </td><td>200905  </td><td>과즙음료</td><td>46      </td><td>1672    </td><td>2674    </td><td>25      </td><td>129584  </td><td>9288    </td><td>12      </td></tr>\n",
       "\t<tr><td>6       </td><td>200906  </td><td>과즙음료</td><td>48      </td><td>1875    </td><td>2777    </td><td>27      </td><td>123218  </td><td>9998    </td><td> 8      </td></tr>\n",
       "</tbody>\n",
       "</table>\n"
      ],
      "text/latex": [
       "\\begin{tabular}{r|llllllllll}\n",
       " X & YM & CATEGORY & ITEM\\_CNT & QTY & PRICE & MAXTEMP & SALEDAY & RAIN\\_DAY & HOLIDAY\\\\\n",
       "\\hline\n",
       "\t 1        & 200901   & 과즙음료 & 45       &  990     & 2611     &  4       & 126753   &  151     & 12      \\\\\n",
       "\t 2        & 200902   & 과즙음료 & 45       & 1199     & 2689     &  9       & 113399   & 3014     &  8      \\\\\n",
       "\t 3        & 200903   & 과즙음료 & 43       & 1102     & 2735     & 12       & 129162   & 1383     &  9      \\\\\n",
       "\t 4        & 200904   & 과즙음료 & 42       & 1326     & 2807     & 19       & 126277   & 3564     &  8      \\\\\n",
       "\t 5        & 200905   & 과즙음료 & 46       & 1672     & 2674     & 25       & 129584   & 9288     & 12      \\\\\n",
       "\t 6        & 200906   & 과즙음료 & 48       & 1875     & 2777     & 27       & 123218   & 9998     &  8      \\\\\n",
       "\\end{tabular}\n"
      ],
      "text/markdown": [
       "\n",
       "| X | YM | CATEGORY | ITEM_CNT | QTY | PRICE | MAXTEMP | SALEDAY | RAIN_DAY | HOLIDAY |\n",
       "|---|---|---|---|---|---|---|---|---|---|\n",
       "| 1        | 200901   | 과즙음료 | 45       |  990     | 2611     |  4       | 126753   |  151     | 12       |\n",
       "| 2        | 200902   | 과즙음료 | 45       | 1199     | 2689     |  9       | 113399   | 3014     |  8       |\n",
       "| 3        | 200903   | 과즙음료 | 43       | 1102     | 2735     | 12       | 129162   | 1383     |  9       |\n",
       "| 4        | 200904   | 과즙음료 | 42       | 1326     | 2807     | 19       | 126277   | 3564     |  8       |\n",
       "| 5        | 200905   | 과즙음료 | 46       | 1672     | 2674     | 25       | 129584   | 9288     | 12       |\n",
       "| 6        | 200906   | 과즙음료 | 48       | 1875     | 2777     | 27       | 123218   | 9998     |  8       |\n",
       "\n"
      ],
      "text/plain": [
       "  X YM     CATEGORY ITEM_CNT QTY  PRICE MAXTEMP SALEDAY RAIN_DAY HOLIDAY\n",
       "1 1 200901 과즙음료 45        990 2611   4      126753   151     12     \n",
       "2 2 200902 과즙음료 45       1199 2689   9      113399  3014      8     \n",
       "3 3 200903 과즙음료 43       1102 2735  12      129162  1383      9     \n",
       "4 4 200904 과즙음료 42       1326 2807  19      126277  3564      8     \n",
       "5 5 200905 과즙음료 46       1672 2674  25      129584  9288     12     \n",
       "6 6 200906 과즙음료 48       1875 2777  27      123218  9998      8     "
      ]
     },
     "metadata": {},
     "output_type": "display_data"
    }
   ],
   "source": [
    "data = read.csv('sales_data_1.csv')\n",
    "head(data)"
   ]
  },
  {
   "cell_type": "code",
   "execution_count": 6,
   "metadata": {},
   "outputs": [
    {
     "data": {
      "text/html": [
       "<table>\n",
       "<thead><tr><th scope=col>X</th><th scope=col>YM</th><th scope=col>CATEGORY</th><th scope=col>ITEM_CNT</th><th scope=col>QTY</th><th scope=col>PRICE</th><th scope=col>MAXTEMP</th><th scope=col>SALEDAY</th><th scope=col>RAIN_DAY</th><th scope=col>HOLIDAY</th></tr></thead>\n",
       "<tbody>\n",
       "\t<tr><td>1       </td><td>200901  </td><td>과즙음료</td><td>45      </td><td> 990    </td><td>2611    </td><td> 4      </td><td>126753  </td><td> 151    </td><td>12      </td></tr>\n",
       "\t<tr><td>2       </td><td>200902  </td><td>과즙음료</td><td>45      </td><td>1199    </td><td>2689    </td><td> 9      </td><td>113399  </td><td>3014    </td><td> 8      </td></tr>\n",
       "\t<tr><td>3       </td><td>200903  </td><td>과즙음료</td><td>43      </td><td>1102    </td><td>2735    </td><td>12      </td><td>129162  </td><td>1383    </td><td> 9      </td></tr>\n",
       "\t<tr><td>4       </td><td>200904  </td><td>과즙음료</td><td>42      </td><td>1326    </td><td>2807    </td><td>19      </td><td>126277  </td><td>3564    </td><td> 8      </td></tr>\n",
       "\t<tr><td>5       </td><td>200905  </td><td>과즙음료</td><td>46      </td><td>1672    </td><td>2674    </td><td>25      </td><td>129584  </td><td>9288    </td><td>12      </td></tr>\n",
       "\t<tr><td>6       </td><td>200906  </td><td>과즙음료</td><td>48      </td><td>1875    </td><td>2777    </td><td>27      </td><td>123218  </td><td>9998    </td><td> 8      </td></tr>\n",
       "</tbody>\n",
       "</table>\n"
      ],
      "text/latex": [
       "\\begin{tabular}{r|llllllllll}\n",
       " X & YM & CATEGORY & ITEM\\_CNT & QTY & PRICE & MAXTEMP & SALEDAY & RAIN\\_DAY & HOLIDAY\\\\\n",
       "\\hline\n",
       "\t 1        & 200901   & 과즙음료 & 45       &  990     & 2611     &  4       & 126753   &  151     & 12      \\\\\n",
       "\t 2        & 200902   & 과즙음료 & 45       & 1199     & 2689     &  9       & 113399   & 3014     &  8      \\\\\n",
       "\t 3        & 200903   & 과즙음료 & 43       & 1102     & 2735     & 12       & 129162   & 1383     &  9      \\\\\n",
       "\t 4        & 200904   & 과즙음료 & 42       & 1326     & 2807     & 19       & 126277   & 3564     &  8      \\\\\n",
       "\t 5        & 200905   & 과즙음료 & 46       & 1672     & 2674     & 25       & 129584   & 9288     & 12      \\\\\n",
       "\t 6        & 200906   & 과즙음료 & 48       & 1875     & 2777     & 27       & 123218   & 9998     &  8      \\\\\n",
       "\\end{tabular}\n"
      ],
      "text/markdown": [
       "\n",
       "| X | YM | CATEGORY | ITEM_CNT | QTY | PRICE | MAXTEMP | SALEDAY | RAIN_DAY | HOLIDAY |\n",
       "|---|---|---|---|---|---|---|---|---|---|\n",
       "| 1        | 200901   | 과즙음료 | 45       |  990     | 2611     |  4       | 126753   |  151     | 12       |\n",
       "| 2        | 200902   | 과즙음료 | 45       | 1199     | 2689     |  9       | 113399   | 3014     |  8       |\n",
       "| 3        | 200903   | 과즙음료 | 43       | 1102     | 2735     | 12       | 129162   | 1383     |  9       |\n",
       "| 4        | 200904   | 과즙음료 | 42       | 1326     | 2807     | 19       | 126277   | 3564     |  8       |\n",
       "| 5        | 200905   | 과즙음료 | 46       | 1672     | 2674     | 25       | 129584   | 9288     | 12       |\n",
       "| 6        | 200906   | 과즙음료 | 48       | 1875     | 2777     | 27       | 123218   | 9998     |  8       |\n",
       "\n"
      ],
      "text/plain": [
       "  X YM     CATEGORY ITEM_CNT QTY  PRICE MAXTEMP SALEDAY RAIN_DAY HOLIDAY\n",
       "1 1 200901 과즙음료 45        990 2611   4      126753   151     12     \n",
       "2 2 200902 과즙음료 45       1199 2689   9      113399  3014      8     \n",
       "3 3 200903 과즙음료 43       1102 2735  12      129162  1383      9     \n",
       "4 4 200904 과즙음료 42       1326 2807  19      126277  3564      8     \n",
       "5 5 200905 과즙음료 46       1672 2674  25      129584  9288     12     \n",
       "6 6 200906 과즙음료 48       1875 2777  27      123218  9998      8     "
      ]
     },
     "metadata": {},
     "output_type": "display_data"
    }
   ],
   "source": [
    "fruit_data = data %>%\n",
    "                filter(CATEGORY == '과즙음료')\n",
    "vitamin_data = data %>%\n",
    "                filter(CATEGORY == '비타민음료')\n",
    "tea_data = data %>%\n",
    "            filter(CATEGORY == '차음료')\n",
    "head(fruit_data)"
   ]
  },
  {
   "cell_type": "code",
   "execution_count": 7,
   "metadata": {
    "scrolled": true
   },
   "outputs": [],
   "source": [
    "a = cor(fruit_data[,c(4:10)])"
   ]
  },
  {
   "cell_type": "code",
   "execution_count": 8,
   "metadata": {},
   "outputs": [],
   "source": [
    "# corrplot(a, method=\"number\", col = rainbow(1000))"
   ]
  },
  {
   "cell_type": "code",
   "execution_count": 9,
   "metadata": {},
   "outputs": [],
   "source": [
    "b = cor(vitamin_data[,c(4:10)])"
   ]
  },
  {
   "cell_type": "code",
   "execution_count": 10,
   "metadata": {},
   "outputs": [
    {
     "data": {
      "text/html": [
       "<table>\n",
       "<thead><tr><th></th><th scope=col>ITEM_CNT</th><th scope=col>QTY</th><th scope=col>PRICE</th><th scope=col>MAXTEMP</th><th scope=col>SALEDAY</th><th scope=col>RAIN_DAY</th><th scope=col>HOLIDAY</th></tr></thead>\n",
       "<tbody>\n",
       "\t<tr><th scope=row>ITEM_CNT</th><td>1.00000000   </td><td>0.7515737    </td><td> 0.85768871  </td><td> 0.0657196895</td><td>0.94217720   </td><td> 0.25896488  </td><td> 0.1358020307</td></tr>\n",
       "\t<tr><th scope=row>QTY</th><td>0.75157371   </td><td>1.0000000    </td><td> 0.72105041  </td><td> 0.3615501216</td><td>0.71192476   </td><td> 0.51181463  </td><td> 0.1201901927</td></tr>\n",
       "\t<tr><th scope=row>PRICE</th><td>0.85768871   </td><td>0.7210504    </td><td> 1.00000000  </td><td>-0.0447921578</td><td>0.82446317   </td><td> 0.20432138  </td><td> 0.1188034038</td></tr>\n",
       "\t<tr><th scope=row>MAXTEMP</th><td>0.06571969   </td><td>0.3615501    </td><td>-0.04479216  </td><td> 1.0000000000</td><td>0.02615313   </td><td> 0.67485293  </td><td>-0.0007330759</td></tr>\n",
       "\t<tr><th scope=row>SALEDAY</th><td>0.94217720   </td><td>0.7119248    </td><td> 0.82446317  </td><td> 0.0261531274</td><td>1.00000000   </td><td> 0.21351983  </td><td> 0.1509168646</td></tr>\n",
       "\t<tr><th scope=row>RAIN_DAY</th><td>0.25896488   </td><td>0.5118146    </td><td> 0.20432138  </td><td> 0.6748529252</td><td>0.21351983   </td><td> 1.00000000  </td><td>-0.0513513553</td></tr>\n",
       "\t<tr><th scope=row>HOLIDAY</th><td>0.13580203   </td><td>0.1201902    </td><td> 0.11880340  </td><td>-0.0007330759</td><td>0.15091686   </td><td>-0.05135136  </td><td> 1.0000000000</td></tr>\n",
       "</tbody>\n",
       "</table>\n"
      ],
      "text/latex": [
       "\\begin{tabular}{r|lllllll}\n",
       "  & ITEM\\_CNT & QTY & PRICE & MAXTEMP & SALEDAY & RAIN\\_DAY & HOLIDAY\\\\\n",
       "\\hline\n",
       "\tITEM\\_CNT & 1.00000000    & 0.7515737     &  0.85768871   &  0.0657196895 & 0.94217720    &  0.25896488   &  0.1358020307\\\\\n",
       "\tQTY & 0.75157371    & 1.0000000     &  0.72105041   &  0.3615501216 & 0.71192476    &  0.51181463   &  0.1201901927\\\\\n",
       "\tPRICE & 0.85768871    & 0.7210504     &  1.00000000   & -0.0447921578 & 0.82446317    &  0.20432138   &  0.1188034038\\\\\n",
       "\tMAXTEMP & 0.06571969    & 0.3615501     & -0.04479216   &  1.0000000000 & 0.02615313    &  0.67485293   & -0.0007330759\\\\\n",
       "\tSALEDAY & 0.94217720    & 0.7119248     &  0.82446317   &  0.0261531274 & 1.00000000    &  0.21351983   &  0.1509168646\\\\\n",
       "\tRAIN\\_DAY & 0.25896488    & 0.5118146     &  0.20432138   &  0.6748529252 & 0.21351983    &  1.00000000   & -0.0513513553\\\\\n",
       "\tHOLIDAY & 0.13580203    & 0.1201902     &  0.11880340   & -0.0007330759 & 0.15091686    & -0.05135136   &  1.0000000000\\\\\n",
       "\\end{tabular}\n"
      ],
      "text/markdown": [
       "\n",
       "| <!--/--> | ITEM_CNT | QTY | PRICE | MAXTEMP | SALEDAY | RAIN_DAY | HOLIDAY |\n",
       "|---|---|---|---|---|---|---|---|\n",
       "| ITEM_CNT | 1.00000000    | 0.7515737     |  0.85768871   |  0.0657196895 | 0.94217720    |  0.25896488   |  0.1358020307 |\n",
       "| QTY | 0.75157371    | 1.0000000     |  0.72105041   |  0.3615501216 | 0.71192476    |  0.51181463   |  0.1201901927 |\n",
       "| PRICE | 0.85768871    | 0.7210504     |  1.00000000   | -0.0447921578 | 0.82446317    |  0.20432138   |  0.1188034038 |\n",
       "| MAXTEMP | 0.06571969    | 0.3615501     | -0.04479216   |  1.0000000000 | 0.02615313    |  0.67485293   | -0.0007330759 |\n",
       "| SALEDAY | 0.94217720    | 0.7119248     |  0.82446317   |  0.0261531274 | 1.00000000    |  0.21351983   |  0.1509168646 |\n",
       "| RAIN_DAY | 0.25896488    | 0.5118146     |  0.20432138   |  0.6748529252 | 0.21351983    |  1.00000000   | -0.0513513553 |\n",
       "| HOLIDAY | 0.13580203    | 0.1201902     |  0.11880340   | -0.0007330759 | 0.15091686    | -0.05135136   |  1.0000000000 |\n",
       "\n"
      ],
      "text/plain": [
       "         ITEM_CNT   QTY       PRICE       MAXTEMP       SALEDAY    RAIN_DAY   \n",
       "ITEM_CNT 1.00000000 0.7515737  0.85768871  0.0657196895 0.94217720  0.25896488\n",
       "QTY      0.75157371 1.0000000  0.72105041  0.3615501216 0.71192476  0.51181463\n",
       "PRICE    0.85768871 0.7210504  1.00000000 -0.0447921578 0.82446317  0.20432138\n",
       "MAXTEMP  0.06571969 0.3615501 -0.04479216  1.0000000000 0.02615313  0.67485293\n",
       "SALEDAY  0.94217720 0.7119248  0.82446317  0.0261531274 1.00000000  0.21351983\n",
       "RAIN_DAY 0.25896488 0.5118146  0.20432138  0.6748529252 0.21351983  1.00000000\n",
       "HOLIDAY  0.13580203 0.1201902  0.11880340 -0.0007330759 0.15091686 -0.05135136\n",
       "         HOLIDAY      \n",
       "ITEM_CNT  0.1358020307\n",
       "QTY       0.1201901927\n",
       "PRICE     0.1188034038\n",
       "MAXTEMP  -0.0007330759\n",
       "SALEDAY   0.1509168646\n",
       "RAIN_DAY -0.0513513553\n",
       "HOLIDAY   1.0000000000"
      ]
     },
     "metadata": {},
     "output_type": "display_data"
    }
   ],
   "source": [
    "b"
   ]
  },
  {
   "cell_type": "code",
   "execution_count": 11,
   "metadata": {},
   "outputs": [],
   "source": [
    "# corrplot(b, method=\"number\", col = rainbow(1000))"
   ]
  },
  {
   "cell_type": "code",
   "execution_count": 12,
   "metadata": {},
   "outputs": [],
   "source": [
    "c = cor(tea_data[,c(4:10)])"
   ]
  },
  {
   "cell_type": "code",
   "execution_count": 13,
   "metadata": {},
   "outputs": [],
   "source": [
    "# corrplot(c, method=\"number\", col = rainbow(1000))"
   ]
  },
  {
   "cell_type": "code",
   "execution_count": 14,
   "metadata": {},
   "outputs": [
    {
     "name": "stderr",
     "output_type": "stream",
     "text": [
      "Warning message:\n",
      "\"package 'leaps' was built under R version 3.6.3\""
     ]
    }
   ],
   "source": [
    "library('leaps')"
   ]
  },
  {
   "cell_type": "markdown",
   "metadata": {},
   "source": [
    "## 과즙 음료 모델 정의 ㅡㅡㅡㅡㅡㅡㅡㅡㅡㅡㅡㅡㅡㅡㅡㅡㅡㅡㅡㅡㅡㅡㅡㅡㅡㅡㅡㅡㅡㅡㅡ"
   ]
  },
  {
   "cell_type": "code",
   "execution_count": 15,
   "metadata": {},
   "outputs": [
    {
     "data": {
      "text/plain": [
       "Subset selection object\n",
       "Call: regsubsets.formula(QTY ~ YM + ITEM_CNT + PRICE + MAXTEMP + SALEDAY + \n",
       "    RAIN_DAY + HOLIDAY, data = fruit_data, nbest = 5)\n",
       "7 Variables  (and intercept)\n",
       "         Forced in Forced out\n",
       "YM           FALSE      FALSE\n",
       "ITEM_CNT     FALSE      FALSE\n",
       "PRICE        FALSE      FALSE\n",
       "MAXTEMP      FALSE      FALSE\n",
       "SALEDAY      FALSE      FALSE\n",
       "RAIN_DAY     FALSE      FALSE\n",
       "HOLIDAY      FALSE      FALSE\n",
       "5 subsets of each size up to 7\n",
       "Selection Algorithm: exhaustive\n",
       "         YM  ITEM_CNT PRICE MAXTEMP SALEDAY RAIN_DAY HOLIDAY\n",
       "1  ( 1 ) \" \" \" \"      \" \"   \"*\"     \" \"     \" \"      \" \"    \n",
       "1  ( 2 ) \" \" \"*\"      \" \"   \" \"     \" \"     \" \"      \" \"    \n",
       "1  ( 3 ) \" \" \" \"      \" \"   \" \"     \"*\"     \" \"      \" \"    \n",
       "1  ( 4 ) \"*\" \" \"      \" \"   \" \"     \" \"     \" \"      \" \"    \n",
       "1  ( 5 ) \" \" \" \"      \" \"   \" \"     \" \"     \"*\"      \" \"    \n",
       "2  ( 1 ) \" \" \"*\"      \" \"   \"*\"     \" \"     \" \"      \" \"    \n",
       "2  ( 2 ) \"*\" \" \"      \" \"   \"*\"     \" \"     \" \"      \" \"    \n",
       "2  ( 3 ) \" \" \" \"      \" \"   \"*\"     \"*\"     \" \"      \" \"    \n",
       "2  ( 4 ) \" \" \" \"      \" \"   \"*\"     \" \"     \" \"      \"*\"    \n",
       "2  ( 5 ) \" \" \"*\"      \" \"   \" \"     \" \"     \"*\"      \" \"    \n",
       "3  ( 1 ) \"*\" \"*\"      \" \"   \"*\"     \" \"     \" \"      \" \"    \n",
       "3  ( 2 ) \"*\" \" \"      \"*\"   \"*\"     \" \"     \" \"      \" \"    \n",
       "3  ( 3 ) \" \" \"*\"      \" \"   \"*\"     \"*\"     \" \"      \" \"    \n",
       "3  ( 4 ) \" \" \" \"      \"*\"   \"*\"     \"*\"     \" \"      \" \"    \n",
       "3  ( 5 ) \" \" \"*\"      \" \"   \"*\"     \" \"     \" \"      \"*\"    \n",
       "4  ( 1 ) \"*\" \"*\"      \" \"   \"*\"     \" \"     \"*\"      \" \"    \n",
       "4  ( 2 ) \" \" \"*\"      \" \"   \"*\"     \"*\"     \"*\"      \" \"    \n",
       "4  ( 3 ) \"*\" \"*\"      \"*\"   \"*\"     \" \"     \" \"      \" \"    \n",
       "4  ( 4 ) \"*\" \" \"      \"*\"   \"*\"     \" \"     \"*\"      \" \"    \n",
       "4  ( 5 ) \"*\" \"*\"      \" \"   \"*\"     \" \"     \" \"      \"*\"    \n",
       "5  ( 1 ) \"*\" \"*\"      \"*\"   \"*\"     \" \"     \"*\"      \" \"    \n",
       "5  ( 2 ) \"*\" \"*\"      \" \"   \"*\"     \" \"     \"*\"      \"*\"    \n",
       "5  ( 3 ) \"*\" \"*\"      \" \"   \"*\"     \"*\"     \"*\"      \" \"    \n",
       "5  ( 4 ) \" \" \"*\"      \"*\"   \"*\"     \"*\"     \"*\"      \" \"    \n",
       "5  ( 5 ) \" \" \"*\"      \" \"   \"*\"     \"*\"     \"*\"      \"*\"    \n",
       "6  ( 1 ) \"*\" \"*\"      \"*\"   \"*\"     \" \"     \"*\"      \"*\"    \n",
       "6  ( 2 ) \"*\" \"*\"      \"*\"   \"*\"     \"*\"     \"*\"      \" \"    \n",
       "6  ( 3 ) \"*\" \"*\"      \" \"   \"*\"     \"*\"     \"*\"      \"*\"    \n",
       "6  ( 4 ) \" \" \"*\"      \"*\"   \"*\"     \"*\"     \"*\"      \"*\"    \n",
       "6  ( 5 ) \"*\" \"*\"      \"*\"   \"*\"     \"*\"     \" \"      \"*\"    \n",
       "7  ( 1 ) \"*\" \"*\"      \"*\"   \"*\"     \"*\"     \"*\"      \"*\"    "
      ]
     },
     "metadata": {},
     "output_type": "display_data"
    }
   ],
   "source": [
    "leaps = regsubsets(QTY ~ YM + ITEM_CNT + PRICE + MAXTEMP + SALEDAY + RAIN_DAY + HOLIDAY, data = fruit_data, nbest = 5)\n",
    "summary(leaps)"
   ]
  },
  {
   "cell_type": "code",
   "execution_count": 16,
   "metadata": {
    "scrolled": false
   },
   "outputs": [
    {
     "data": {
      "image/png": "[encoded data removed]",
      "text/plain": [
       "plot without title"
      ]
     },
     "metadata": {},
     "output_type": "display_data"
    },
    {
     "data": {
      "image/png": "[encoded data removed]",
      "text/plain": [
       "plot without title"
      ]
     },
     "metadata": {},
     "output_type": "display_data"
    }
   ],
   "source": [
    "par(mfrow = c(1, 2))\n",
    "plot(leaps, scale = 'adjr2')\n",
    "plot(leaps, scale = 'Cp')\n",
    "plot(leaps, scale = 'bic')"
   ]
  },
  {
   "cell_type": "code",
   "execution_count": 17,
   "metadata": {},
   "outputs": [
    {
     "data": {
      "text/plain": [
       "\n",
       "Call:\n",
       "lm(formula = QTY ~ YM + ITEM_CNT + PRICE + MAXTEMP + RAIN_DAY + \n",
       "    HOLIDAY, data = fruit_data)\n",
       "\n",
       "Residuals:\n",
       "    Min      1Q  Median      3Q     Max \n",
       "-492.97 -123.46   -6.15   93.01  576.50 \n",
       "\n",
       "Coefficients:\n",
       "              Estimate Std. Error t value Pr(>|t|)    \n",
       "(Intercept) -4.265e+05  7.923e+04  -5.383 1.70e-06 ***\n",
       "YM           2.115e+00  3.938e-01   5.370 1.78e-06 ***\n",
       "ITEM_CNT     1.911e+01  4.685e+00   4.080 0.000152 ***\n",
       "PRICE        3.210e-01  1.326e-01   2.421 0.018953 *  \n",
       "MAXTEMP      5.457e+01  3.878e+00  14.073  < 2e-16 ***\n",
       "RAIN_DAY    -1.293e-02  3.772e-03  -3.429 0.001181 ** \n",
       "HOLIDAY      4.013e+01  2.315e+01   1.733 0.088824 .  \n",
       "---\n",
       "Signif. codes:  0 '***' 0.001 '**' 0.01 '*' 0.05 '.' 0.1 ' ' 1\n",
       "\n",
       "Residual standard error: 206.3 on 53 degrees of freedom\n",
       "Multiple R-squared:  0.9037,\tAdjusted R-squared:  0.8928 \n",
       "F-statistic: 82.94 on 6 and 53 DF,  p-value: < 2.2e-16\n"
      ]
     },
     "metadata": {},
     "output_type": "display_data"
    }
   ],
   "source": [
    "# SALEDAY 빠짐\n",
    "a = lm(QTY ~ YM + ITEM_CNT + PRICE + MAXTEMP + RAIN_DAY + HOLIDAY, data = fruit_data)\n",
    "summary(a)"
   ]
  },
  {
   "cell_type": "code",
   "execution_count": 18,
   "metadata": {},
   "outputs": [
    {
     "data": {
      "text/html": [
       "<dl class=dl-horizontal>\n",
       "\t<dt>YM</dt>\n",
       "\t\t<dd>4.37350146353797</dd>\n",
       "\t<dt>ITEM_CNT</dt>\n",
       "\t\t<dd>2.9025000511299</dd>\n",
       "\t<dt>PRICE</dt>\n",
       "\t\t<dd>3.15089447660996</dd>\n",
       "\t<dt>MAXTEMP</dt>\n",
       "\t\t<dd>1.97983523863556</dd>\n",
       "\t<dt>RAIN_DAY</dt>\n",
       "\t\t<dd>2.06441937913378</dd>\n",
       "\t<dt>HOLIDAY</dt>\n",
       "\t\t<dd>1.04478577137326</dd>\n",
       "</dl>\n"
      ],
      "text/latex": [
       "\\begin{description*}\n",
       "\\item[YM] 4.37350146353797\n",
       "\\item[ITEM\\textbackslash{}\\_CNT] 2.9025000511299\n",
       "\\item[PRICE] 3.15089447660996\n",
       "\\item[MAXTEMP] 1.97983523863556\n",
       "\\item[RAIN\\textbackslash{}\\_DAY] 2.06441937913378\n",
       "\\item[HOLIDAY] 1.04478577137326\n",
       "\\end{description*}\n"
      ],
      "text/markdown": [
       "YM\n",
       ":   4.37350146353797ITEM_CNT\n",
       ":   2.9025000511299PRICE\n",
       ":   3.15089447660996MAXTEMP\n",
       ":   1.97983523863556RAIN_DAY\n",
       ":   2.06441937913378HOLIDAY\n",
       ":   1.04478577137326\n",
       "\n"
      ],
      "text/plain": [
       "      YM ITEM_CNT    PRICE  MAXTEMP RAIN_DAY  HOLIDAY \n",
       "4.373501 2.902500 3.150894 1.979835 2.064419 1.044786 "
      ]
     },
     "metadata": {},
     "output_type": "display_data"
    }
   ],
   "source": [
    "vif(a)"
   ]
  },
  {
   "cell_type": "code",
   "execution_count": 19,
   "metadata": {},
   "outputs": [
    {
     "data": {
      "text/plain": [
       "\n",
       "Call:\n",
       "lm(formula = QTY ~ YM + ITEM_CNT + MAXTEMP + RAIN_DAY + HOLIDAY, \n",
       "    data = fruit_data)\n",
       "\n",
       "Residuals:\n",
       "   Min     1Q Median     3Q    Max \n",
       "-414.3 -128.5   15.8   86.6  606.6 \n",
       "\n",
       "Coefficients:\n",
       "              Estimate Std. Error t value Pr(>|t|)    \n",
       "(Intercept) -2.721e+05  4.907e+04  -5.546 9.02e-07 ***\n",
       "YM           1.349e+00  2.447e-01   5.511 1.02e-06 ***\n",
       "ITEM_CNT     2.712e+01  3.464e+00   7.830 1.86e-10 ***\n",
       "MAXTEMP      5.332e+01  4.012e+00  13.289  < 2e-16 ***\n",
       "RAIN_DAY    -1.409e-02  3.907e-03  -3.606 0.000678 ***\n",
       "HOLIDAY      4.162e+01  2.416e+01   1.723 0.090659 .  \n",
       "---\n",
       "Signif. codes:  0 '***' 0.001 '**' 0.01 '*' 0.05 '.' 0.1 ' ' 1\n",
       "\n",
       "Residual standard error: 215.4 on 54 degrees of freedom\n",
       "Multiple R-squared:  0.8931,\tAdjusted R-squared:  0.8832 \n",
       "F-statistic: 90.23 on 5 and 54 DF,  p-value: < 2.2e-16\n"
      ]
     },
     "metadata": {},
     "output_type": "display_data"
    }
   ],
   "source": [
    "# PRICE 빠짐\n",
    "a = lm(QTY ~ YM + ITEM_CNT + MAXTEMP + RAIN_DAY + HOLIDAY, data = fruit_data)\n",
    "summary(a)"
   ]
  },
  {
   "cell_type": "code",
   "execution_count": 20,
   "metadata": {},
   "outputs": [
    {
     "data": {
      "text/html": [
       "<dl class=dl-horizontal>\n",
       "\t<dt>YM</dt>\n",
       "\t\t<dd>1.5499020257233</dd>\n",
       "\t<dt>ITEM_CNT</dt>\n",
       "\t\t<dd>1.45561432310335</dd>\n",
       "\t<dt>MAXTEMP</dt>\n",
       "\t\t<dd>1.94458030167932</dd>\n",
       "\t<dt>RAIN_DAY</dt>\n",
       "\t\t<dd>2.03135927625782</dd>\n",
       "\t<dt>HOLIDAY</dt>\n",
       "\t\t<dd>1.04404498924379</dd>\n",
       "</dl>\n"
      ],
      "text/latex": [
       "\\begin{description*}\n",
       "\\item[YM] 1.5499020257233\n",
       "\\item[ITEM\\textbackslash{}\\_CNT] 1.45561432310335\n",
       "\\item[MAXTEMP] 1.94458030167932\n",
       "\\item[RAIN\\textbackslash{}\\_DAY] 2.03135927625782\n",
       "\\item[HOLIDAY] 1.04404498924379\n",
       "\\end{description*}\n"
      ],
      "text/markdown": [
       "YM\n",
       ":   1.5499020257233ITEM_CNT\n",
       ":   1.45561432310335MAXTEMP\n",
       ":   1.94458030167932RAIN_DAY\n",
       ":   2.03135927625782HOLIDAY\n",
       ":   1.04404498924379\n",
       "\n"
      ],
      "text/plain": [
       "      YM ITEM_CNT  MAXTEMP RAIN_DAY  HOLIDAY \n",
       "1.549902 1.455614 1.944580 2.031359 1.044045 "
      ]
     },
     "metadata": {},
     "output_type": "display_data"
    }
   ],
   "source": [
    "vif(a)"
   ]
  },
  {
   "cell_type": "code",
   "execution_count": 21,
   "metadata": {},
   "outputs": [
    {
     "data": {
      "text/plain": [
       "\n",
       "Call:\n",
       "lm(formula = QTY ~ YM + ITEM_CNT + MAXTEMP + HOLIDAY, data = fruit_data)\n",
       "\n",
       "Residuals:\n",
       "    Min      1Q  Median      3Q     Max \n",
       "-497.98 -144.79    9.68   94.97  724.57 \n",
       "\n",
       "Coefficients:\n",
       "              Estimate Std. Error t value Pr(>|t|)    \n",
       "(Intercept) -2.316e+05  5.272e+04  -4.393 5.14e-05 ***\n",
       "YM           1.147e+00  2.630e-01   4.362 5.70e-05 ***\n",
       "ITEM_CNT     2.650e+01  3.818e+00   6.941 4.72e-09 ***\n",
       "MAXTEMP      4.334e+01  3.207e+00  13.514  < 2e-16 ***\n",
       "HOLIDAY      5.141e+01  2.650e+01   1.940   0.0575 .  \n",
       "---\n",
       "Signif. codes:  0 '***' 0.001 '**' 0.01 '*' 0.05 '.' 0.1 ' ' 1\n",
       "\n",
       "Residual standard error: 237.8 on 55 degrees of freedom\n",
       "Multiple R-squared:  0.8674,\tAdjusted R-squared:  0.8577 \n",
       "F-statistic: 89.91 on 4 and 55 DF,  p-value: < 2.2e-16\n"
      ]
     },
     "metadata": {},
     "output_type": "display_data"
    }
   ],
   "source": [
    "# RAIN_DAY 빠짐\n",
    "a = lm(QTY ~ YM + ITEM_CNT + MAXTEMP + HOLIDAY, data = fruit_data)\n",
    "summary(a)"
   ]
  },
  {
   "cell_type": "code",
   "execution_count": 22,
   "metadata": {},
   "outputs": [
    {
     "data": {
      "text/html": [
       "<dl class=dl-horizontal>\n",
       "\t<dt>YM</dt>\n",
       "\t\t<dd>1.46910382716171</dd>\n",
       "\t<dt>ITEM_CNT</dt>\n",
       "\t\t<dd>1.45203618101156</dd>\n",
       "\t<dt>MAXTEMP</dt>\n",
       "\t\t<dd>1.0198512457639</dd>\n",
       "\t<dt>HOLIDAY</dt>\n",
       "\t\t<dd>1.03086853983701</dd>\n",
       "</dl>\n"
      ],
      "text/latex": [
       "\\begin{description*}\n",
       "\\item[YM] 1.46910382716171\n",
       "\\item[ITEM\\textbackslash{}\\_CNT] 1.45203618101156\n",
       "\\item[MAXTEMP] 1.0198512457639\n",
       "\\item[HOLIDAY] 1.03086853983701\n",
       "\\end{description*}\n"
      ],
      "text/markdown": [
       "YM\n",
       ":   1.46910382716171ITEM_CNT\n",
       ":   1.45203618101156MAXTEMP\n",
       ":   1.0198512457639HOLIDAY\n",
       ":   1.03086853983701\n",
       "\n"
      ],
      "text/plain": [
       "      YM ITEM_CNT  MAXTEMP  HOLIDAY \n",
       "1.469104 1.452036 1.019851 1.030869 "
      ]
     },
     "metadata": {},
     "output_type": "display_data"
    }
   ],
   "source": [
    "vif(a)"
   ]
  },
  {
   "cell_type": "code",
   "execution_count": 23,
   "metadata": {},
   "outputs": [
    {
     "data": {
      "text/plain": [
       "\n",
       "\tPearson's product-moment correlation\n",
       "\n",
       "data:  fruit_data$YM and fruit_data$QTY\n",
       "t = 4.1858, df = 58, p-value = 9.765e-05\n",
       "alternative hypothesis: true correlation is not equal to 0\n",
       "95 percent confidence interval:\n",
       " 0.2594775 0.6554277\n",
       "sample estimates:\n",
       "      cor \n",
       "0.4816663 \n"
      ]
     },
     "metadata": {},
     "output_type": "display_data"
    }
   ],
   "source": [
    "cor.test(fruit_data$YM, fruit_data$QTY)"
   ]
  },
  {
   "cell_type": "code",
   "execution_count": null,
   "metadata": {},
   "outputs": [],
   "source": []
  },
  {
   "cell_type": "code",
   "execution_count": 24,
   "metadata": {},
   "outputs": [
    {
     "data": {
      "text/plain": [
       "\n",
       "Call:\n",
       "lm(formula = QTY ~ YM + ITEM_CNT + MAXTEMP, data = fruit_data)\n",
       "\n",
       "Residuals:\n",
       "    Min      1Q  Median      3Q     Max \n",
       "-449.27 -140.25   -5.38   80.76  752.07 \n",
       "\n",
       "Coefficients:\n",
       "              Estimate Std. Error t value Pr(>|t|)    \n",
       "(Intercept) -2.488e+05  5.324e+04  -4.674 1.90e-05 ***\n",
       "YM           1.236e+00  2.654e-01   4.656 2.02e-05 ***\n",
       "ITEM_CNT     2.583e+01  3.895e+00   6.630 1.41e-08 ***\n",
       "MAXTEMP      4.344e+01  3.285e+00  13.222  < 2e-16 ***\n",
       "---\n",
       "Signif. codes:  0 '***' 0.001 '**' 0.01 '*' 0.05 '.' 0.1 ' ' 1\n",
       "\n",
       "Residual standard error: 243.6 on 56 degrees of freedom\n",
       "Multiple R-squared:  0.8583,\tAdjusted R-squared:  0.8507 \n",
       "F-statistic:   113 on 3 and 56 DF,  p-value: < 2.2e-16\n"
      ]
     },
     "metadata": {},
     "output_type": "display_data"
    }
   ],
   "source": [
    "# HOLIDAY 빠짐\n",
    "a = lm(QTY ~ YM + ITEM_CNT + MAXTEMP, data = fruit_data)\n",
    "summary(a)"
   ]
  },
  {
   "cell_type": "code",
   "execution_count": 25,
   "metadata": {},
   "outputs": [
    {
     "data": {
      "text/html": [
       "<dl class=dl-horizontal>\n",
       "\t<dt>YM</dt>\n",
       "\t\t<dd>1.42515233695996</dd>\n",
       "\t<dt>ITEM_CNT</dt>\n",
       "\t\t<dd>1.44000069977565</dd>\n",
       "\t<dt>MAXTEMP</dt>\n",
       "\t\t<dd>1.01962258786924</dd>\n",
       "</dl>\n"
      ],
      "text/latex": [
       "\\begin{description*}\n",
       "\\item[YM] 1.42515233695996\n",
       "\\item[ITEM\\textbackslash{}\\_CNT] 1.44000069977565\n",
       "\\item[MAXTEMP] 1.01962258786924\n",
       "\\end{description*}\n"
      ],
      "text/markdown": [
       "YM\n",
       ":   1.42515233695996ITEM_CNT\n",
       ":   1.44000069977565MAXTEMP\n",
       ":   1.01962258786924\n",
       "\n"
      ],
      "text/plain": [
       "      YM ITEM_CNT  MAXTEMP \n",
       "1.425152 1.440001 1.019623 "
      ]
     },
     "metadata": {},
     "output_type": "display_data"
    }
   ],
   "source": [
    "vif(a)"
   ]
  },
  {
   "cell_type": "code",
   "execution_count": 118,
   "metadata": {},
   "outputs": [
    {
     "data": {
      "text/html": [
       "<table>\n",
       "<thead><tr><th scope=col>YM</th><th scope=col>MAXTEMP</th><th scope=col>QTY</th></tr></thead>\n",
       "<tbody>\n",
       "\t<tr><td> 1  </td><td> 4  </td><td> 990</td></tr>\n",
       "\t<tr><td> 2  </td><td> 9  </td><td>1199</td></tr>\n",
       "\t<tr><td> 3  </td><td>12  </td><td>1102</td></tr>\n",
       "\t<tr><td> 4  </td><td>19  </td><td>1326</td></tr>\n",
       "\t<tr><td> 5  </td><td>25  </td><td>1672</td></tr>\n",
       "\t<tr><td> 6  </td><td>27  </td><td>1875</td></tr>\n",
       "\t<tr><td> 7  </td><td>28  </td><td>1663</td></tr>\n",
       "\t<tr><td> 8  </td><td>29  </td><td>1957</td></tr>\n",
       "\t<tr><td> 9  </td><td>27  </td><td>2021</td></tr>\n",
       "\t<tr><td>10  </td><td>22  </td><td>1718</td></tr>\n",
       "\t<tr><td>11  </td><td>12  </td><td>1204</td></tr>\n",
       "\t<tr><td>12  </td><td> 5  </td><td>1147</td></tr>\n",
       "</tbody>\n",
       "</table>\n"
      ],
      "text/latex": [
       "\\begin{tabular}{r|lll}\n",
       " YM & MAXTEMP & QTY\\\\\n",
       "\\hline\n",
       "\t  1   &  4   &  990\\\\\n",
       "\t  2   &  9   & 1199\\\\\n",
       "\t  3   & 12   & 1102\\\\\n",
       "\t  4   & 19   & 1326\\\\\n",
       "\t  5   & 25   & 1672\\\\\n",
       "\t  6   & 27   & 1875\\\\\n",
       "\t  7   & 28   & 1663\\\\\n",
       "\t  8   & 29   & 1957\\\\\n",
       "\t  9   & 27   & 2021\\\\\n",
       "\t 10   & 22   & 1718\\\\\n",
       "\t 11   & 12   & 1204\\\\\n",
       "\t 12   &  5   & 1147\\\\\n",
       "\\end{tabular}\n"
      ],
      "text/markdown": [
       "\n",
       "| YM | MAXTEMP | QTY |\n",
       "|---|---|---|\n",
       "|  1   |  4   |  990 |\n",
       "|  2   |  9   | 1199 |\n",
       "|  3   | 12   | 1102 |\n",
       "|  4   | 19   | 1326 |\n",
       "|  5   | 25   | 1672 |\n",
       "|  6   | 27   | 1875 |\n",
       "|  7   | 28   | 1663 |\n",
       "|  8   | 29   | 1957 |\n",
       "|  9   | 27   | 2021 |\n",
       "| 10   | 22   | 1718 |\n",
       "| 11   | 12   | 1204 |\n",
       "| 12   |  5   | 1147 |\n",
       "\n"
      ],
      "text/plain": [
       "   YM MAXTEMP QTY \n",
       "1   1  4       990\n",
       "2   2  9      1199\n",
       "3   3 12      1102\n",
       "4   4 19      1326\n",
       "5   5 25      1672\n",
       "6   6 27      1875\n",
       "7   7 28      1663\n",
       "8   8 29      1957\n",
       "9   9 27      2021\n",
       "10 10 22      1718\n",
       "11 11 12      1204\n",
       "12 12  5      1147"
      ]
     },
     "metadata": {},
     "output_type": "display_data"
    }
   ],
   "source": [
    "fruit_data_2009"
   ]
  },
  {
   "cell_type": "code",
   "execution_count": 167,
   "metadata": {},
   "outputs": [
    {
     "data": {
      "text/html": [
       "<table>\n",
       "<thead><tr><th scope=col>X</th><th scope=col>YM</th><th scope=col>CATEGORY</th><th scope=col>ITEM_CNT</th><th scope=col>QTY</th><th scope=col>PRICE</th><th scope=col>MAXTEMP</th><th scope=col>SALEDAY</th><th scope=col>RAIN_DAY</th><th scope=col>HOLIDAY</th><th scope=col>year</th></tr></thead>\n",
       "<tbody>\n",
       "\t<tr><td>1       </td><td>1       </td><td>과즙음료</td><td>45      </td><td> 990    </td><td>2611    </td><td> 4      </td><td>126753  </td><td> 151    </td><td>12      </td><td>2009    </td></tr>\n",
       "\t<tr><td>2       </td><td>2       </td><td>과즙음료</td><td>45      </td><td>1199    </td><td>2689    </td><td> 9      </td><td>113399  </td><td>3014    </td><td> 8      </td><td>2009    </td></tr>\n",
       "\t<tr><td>3       </td><td>3       </td><td>과즙음료</td><td>43      </td><td>1102    </td><td>2735    </td><td>12      </td><td>129162  </td><td>1383    </td><td> 9      </td><td>2009    </td></tr>\n",
       "\t<tr><td>4       </td><td>4       </td><td>과즙음료</td><td>42      </td><td>1326    </td><td>2807    </td><td>19      </td><td>126277  </td><td>3564    </td><td> 8      </td><td>2009    </td></tr>\n",
       "\t<tr><td>5       </td><td>5       </td><td>과즙음료</td><td>46      </td><td>1672    </td><td>2674    </td><td>25      </td><td>129584  </td><td>9288    </td><td>12      </td><td>2009    </td></tr>\n",
       "\t<tr><td>6       </td><td>6       </td><td>과즙음료</td><td>48      </td><td>1875    </td><td>2777    </td><td>27      </td><td>123218  </td><td>9998    </td><td> 8      </td><td>2009    </td></tr>\n",
       "</tbody>\n",
       "</table>\n"
      ],
      "text/latex": [
       "\\begin{tabular}{r|lllllllllll}\n",
       " X & YM & CATEGORY & ITEM\\_CNT & QTY & PRICE & MAXTEMP & SALEDAY & RAIN\\_DAY & HOLIDAY & year\\\\\n",
       "\\hline\n",
       "\t 1        & 1        & 과즙음료 & 45       &  990     & 2611     &  4       & 126753   &  151     & 12       & 2009    \\\\\n",
       "\t 2        & 2        & 과즙음료 & 45       & 1199     & 2689     &  9       & 113399   & 3014     &  8       & 2009    \\\\\n",
       "\t 3        & 3        & 과즙음료 & 43       & 1102     & 2735     & 12       & 129162   & 1383     &  9       & 2009    \\\\\n",
       "\t 4        & 4        & 과즙음료 & 42       & 1326     & 2807     & 19       & 126277   & 3564     &  8       & 2009    \\\\\n",
       "\t 5        & 5        & 과즙음료 & 46       & 1672     & 2674     & 25       & 129584   & 9288     & 12       & 2009    \\\\\n",
       "\t 6        & 6        & 과즙음료 & 48       & 1875     & 2777     & 27       & 123218   & 9998     &  8       & 2009    \\\\\n",
       "\\end{tabular}\n"
      ],
      "text/markdown": [
       "\n",
       "| X | YM | CATEGORY | ITEM_CNT | QTY | PRICE | MAXTEMP | SALEDAY | RAIN_DAY | HOLIDAY | year |\n",
       "|---|---|---|---|---|---|---|---|---|---|---|\n",
       "| 1        | 1        | 과즙음료 | 45       |  990     | 2611     |  4       | 126753   |  151     | 12       | 2009     |\n",
       "| 2        | 2        | 과즙음료 | 45       | 1199     | 2689     |  9       | 113399   | 3014     |  8       | 2009     |\n",
       "| 3        | 3        | 과즙음료 | 43       | 1102     | 2735     | 12       | 129162   | 1383     |  9       | 2009     |\n",
       "| 4        | 4        | 과즙음료 | 42       | 1326     | 2807     | 19       | 126277   | 3564     |  8       | 2009     |\n",
       "| 5        | 5        | 과즙음료 | 46       | 1672     | 2674     | 25       | 129584   | 9288     | 12       | 2009     |\n",
       "| 6        | 6        | 과즙음료 | 48       | 1875     | 2777     | 27       | 123218   | 9998     |  8       | 2009     |\n",
       "\n"
      ],
      "text/plain": [
       "  X YM CATEGORY ITEM_CNT QTY  PRICE MAXTEMP SALEDAY RAIN_DAY HOLIDAY year\n",
       "1 1 1  과즙음료 45        990 2611   4      126753   151     12      2009\n",
       "2 2 2  과즙음료 45       1199 2689   9      113399  3014      8      2009\n",
       "3 3 3  과즙음료 43       1102 2735  12      129162  1383      9      2009\n",
       "4 4 4  과즙음료 42       1326 2807  19      126277  3564      8      2009\n",
       "5 5 5  과즙음료 46       1672 2674  25      129584  9288     12      2009\n",
       "6 6 6  과즙음료 48       1875 2777  27      123218  9998      8      2009"
      ]
     },
     "metadata": {},
     "output_type": "display_data"
    }
   ],
   "source": [
    "fruit_data_2009_month = fruit_data %>%\n",
    "                    filter(grepl('^2009', YM))\n",
    "fruit_data_2009_month$YM = as.factor(seq(1:12))\n",
    "fruit_data_2009_month$year = 2009\n",
    "\n",
    "fruit_data_2010_month = fruit_data %>%\n",
    "                    filter(grepl('^2010', YM))\n",
    "fruit_data_2010_month$YM = as.factor(seq(1:12))\n",
    "fruit_data_2010_month$year = 2010\n",
    "\n",
    "fruit_data_2011_month = fruit_data %>%\n",
    "                    filter(grepl('^2011', YM))\n",
    "fruit_data_2011_month$YM = as.factor(seq(1:12))\n",
    "fruit_data_2011_month$year = 2011\n",
    "\n",
    "fruit_data_2012_month = fruit_data %>%\n",
    "                    filter(grepl('^2012', YM))\n",
    "fruit_data_2012_month$YM = as.factor(seq(1:12))\n",
    "fruit_data_2012_month$year = 2012\n",
    "\n",
    "fruit_data_2013_month = fruit_data %>%\n",
    "                    filter(grepl('^2013', YM))\n",
    "fruit_data_2013_month$YM = as.factor(seq(1:12))\n",
    "fruit_data_2013_month$year = 2013\n",
    "\n",
    "\n",
    "fruit_data_ymonth = rbind(fruit_data_2009_month, fruit_data_2010_month, fruit_data_2011_month, fruit_data_2012_month, fruit_data_2013_month)\n",
    "fruit_data_ymonth = as.data.frame(fruit_data_ymonth)\n",
    "head(fruit_data_ymonth)\n",
    "# fruit_data_ymonth$year = as.factor(fruit_data_ymonth)"
   ]
  },
  {
   "cell_type": "code",
   "execution_count": 138,
   "metadata": {},
   "outputs": [
    {
     "data": {
      "text/plain": [
       "\n",
       "Call:\n",
       "lm(formula = QTY ~ YM + ITEM_CNT + MAXTEMP, data = fruit_data_ymonth)\n",
       "\n",
       "Residuals:\n",
       "    Min      1Q  Median      3Q     Max \n",
       "-577.39 -172.34  -32.91  175.61  669.71 \n",
       "\n",
       "Coefficients:\n",
       "             Estimate Std. Error t value Pr(>|t|)    \n",
       "(Intercept) -1045.315    265.657  -3.935 0.000279 ***\n",
       "YM2            93.804    213.322   0.440 0.662191    \n",
       "YM3           319.301    312.926   1.020 0.312888    \n",
       "YM4           178.860    471.086   0.380 0.705933    \n",
       "YM5           619.613    665.692   0.931 0.356827    \n",
       "YM6           398.766    782.586   0.510 0.612803    \n",
       "YM7            91.194    817.864   0.112 0.911703    \n",
       "YM8           201.422    853.206   0.236 0.814421    \n",
       "YM9           356.322    741.893   0.480 0.633299    \n",
       "YM10          218.141    587.373   0.371 0.712057    \n",
       "YM11          -91.331    365.493  -0.250 0.803790    \n",
       "YM12           -6.454    180.898  -0.036 0.971694    \n",
       "ITEM_CNT       37.455      3.638  10.294  1.6e-13 ***\n",
       "MAXTEMP        30.825     29.767   1.036 0.305820    \n",
       "---\n",
       "Signif. codes:  0 '***' 0.001 '**' 0.01 '*' 0.05 '.' 0.1 ' ' 1\n",
       "\n",
       "Residual standard error: 258.6 on 46 degrees of freedom\n",
       "Multiple R-squared:  0.8687,\tAdjusted R-squared:  0.8316 \n",
       "F-statistic: 23.42 on 13 and 46 DF,  p-value: 5.473e-16\n"
      ]
     },
     "metadata": {},
     "output_type": "display_data"
    }
   ],
   "source": [
    "a = lm(QTY ~ YM + ITEM_CNT + MAXTEMP, data = fruit_data_ymonth)\n",
    "summary(a)"
   ]
  },
  {
   "cell_type": "code",
   "execution_count": 139,
   "metadata": {},
   "outputs": [
    {
     "data": {
      "text/html": [
       "<table>\n",
       "<thead><tr><th></th><th scope=col>GVIF</th><th scope=col>Df</th><th scope=col>GVIF^(1/(2*Df))</th></tr></thead>\n",
       "<tbody>\n",
       "\t<tr><th scope=row>YM</th><td>78.403957</td><td>11       </td><td>1.219288 </td></tr>\n",
       "\t<tr><th scope=row>ITEM_CNT</th><td> 1.114295</td><td> 1       </td><td>1.055602 </td></tr>\n",
       "\t<tr><th scope=row>MAXTEMP</th><td>74.239869</td><td> 1       </td><td>8.616256 </td></tr>\n",
       "</tbody>\n",
       "</table>\n"
      ],
      "text/latex": [
       "\\begin{tabular}{r|lll}\n",
       "  & GVIF & Df & GVIF\\textasciicircum{}(1/(2*Df))\\\\\n",
       "\\hline\n",
       "\tYM & 78.403957 & 11        & 1.219288 \\\\\n",
       "\tITEM\\_CNT &  1.114295 &  1        & 1.055602 \\\\\n",
       "\tMAXTEMP & 74.239869 &  1        & 8.616256 \\\\\n",
       "\\end{tabular}\n"
      ],
      "text/markdown": [
       "\n",
       "| <!--/--> | GVIF | Df | GVIF^(1/(2*Df)) |\n",
       "|---|---|---|---|\n",
       "| YM | 78.403957 | 11        | 1.219288  |\n",
       "| ITEM_CNT |  1.114295 |  1        | 1.055602  |\n",
       "| MAXTEMP | 74.239869 |  1        | 8.616256  |\n",
       "\n"
      ],
      "text/plain": [
       "         GVIF      Df GVIF^(1/(2*Df))\n",
       "YM       78.403957 11 1.219288       \n",
       "ITEM_CNT  1.114295  1 1.055602       \n",
       "MAXTEMP  74.239869  1 8.616256       "
      ]
     },
     "metadata": {},
     "output_type": "display_data"
    }
   ],
   "source": [
    "vif(a)"
   ]
  },
  {
   "cell_type": "code",
   "execution_count": 169,
   "metadata": {},
   "outputs": [
    {
     "data": {
      "text/plain": [
       "\n",
       "Call:\n",
       "lm(formula = QTY ~ YM + ITEM_CNT + year, data = fruit_data_ymonth)\n",
       "\n",
       "Residuals:\n",
       "    Min      1Q  Median      3Q     Max \n",
       "-448.79 -106.10  -24.00   87.32  477.73 \n",
       "\n",
       "Coefficients:\n",
       "              Estimate Std. Error t value Pr(>|t|)    \n",
       "(Intercept) -2.214e+05  4.744e+04  -4.667 2.66e-05 ***\n",
       "YM2          2.356e+02  1.365e+02   1.726 0.091061 .  \n",
       "YM3          5.808e+02  1.366e+02   4.251 0.000103 ***\n",
       "YM4          6.510e+02  1.366e+02   4.765 1.93e-05 ***\n",
       "YM5          1.315e+03  1.369e+02   9.606 1.44e-12 ***\n",
       "YM6          1.230e+03  1.373e+02   8.954 1.21e-11 ***\n",
       "YM7          9.630e+02  1.375e+02   7.005 8.97e-09 ***\n",
       "YM8          1.114e+03  1.377e+02   8.094 2.15e-10 ***\n",
       "YM9          1.144e+03  1.373e+02   8.331 9.66e-11 ***\n",
       "YM10         8.533e+02  1.380e+02   6.185 1.53e-07 ***\n",
       "YM11         3.032e+02  1.383e+02   2.193 0.033425 *  \n",
       "YM12         1.172e+02  1.377e+02   0.852 0.398875    \n",
       "ITEM_CNT     2.752e+01  3.567e+00   7.714 7.84e-10 ***\n",
       "year         1.099e+02  2.365e+01   4.647 2.84e-05 ***\n",
       "---\n",
       "Signif. codes:  0 '***' 0.001 '**' 0.01 '*' 0.05 '.' 0.1 ' ' 1\n",
       "\n",
       "Residual standard error: 215.8 on 46 degrees of freedom\n",
       "Multiple R-squared:  0.9086,\tAdjusted R-squared:  0.8828 \n",
       "F-statistic: 35.17 on 13 and 46 DF,  p-value: < 2.2e-16\n"
      ]
     },
     "metadata": {},
     "output_type": "display_data"
    }
   ],
   "source": [
    "# 과즙음료 최종 모델\n",
    "a = lm(QTY ~ YM + ITEM_CNT + year, data = fruit_data_ymonth)\n",
    "summary(a)"
   ]
  },
  {
   "cell_type": "code",
   "execution_count": 154,
   "metadata": {},
   "outputs": [
    {
     "data": {
      "text/html": [
       "<table>\n",
       "<thead><tr><th></th><th scope=col>GVIF</th><th scope=col>Df</th><th scope=col>GVIF^(1/(2*Df))</th></tr></thead>\n",
       "<tbody>\n",
       "\t<tr><th scope=row>YM</th><td>1.097362</td><td>11      </td><td>1.004232</td></tr>\n",
       "\t<tr><th scope=row>ITEM_CNT</th><td>1.538035</td><td> 1      </td><td>1.240176</td></tr>\n",
       "\t<tr><th scope=row>year</th><td>1.440673</td><td> 1      </td><td>1.200280</td></tr>\n",
       "</tbody>\n",
       "</table>\n"
      ],
      "text/latex": [
       "\\begin{tabular}{r|lll}\n",
       "  & GVIF & Df & GVIF\\textasciicircum{}(1/(2*Df))\\\\\n",
       "\\hline\n",
       "\tYM & 1.097362 & 11       & 1.004232\\\\\n",
       "\tITEM\\_CNT & 1.538035 &  1       & 1.240176\\\\\n",
       "\tyear & 1.440673 &  1       & 1.200280\\\\\n",
       "\\end{tabular}\n"
      ],
      "text/markdown": [
       "\n",
       "| <!--/--> | GVIF | Df | GVIF^(1/(2*Df)) |\n",
       "|---|---|---|---|\n",
       "| YM | 1.097362 | 11       | 1.004232 |\n",
       "| ITEM_CNT | 1.538035 |  1       | 1.240176 |\n",
       "| year | 1.440673 |  1       | 1.200280 |\n",
       "\n"
      ],
      "text/plain": [
       "         GVIF     Df GVIF^(1/(2*Df))\n",
       "YM       1.097362 11 1.004232       \n",
       "ITEM_CNT 1.538035  1 1.240176       \n",
       "year     1.440673  1 1.200280       "
      ]
     },
     "metadata": {},
     "output_type": "display_data"
    }
   ],
   "source": [
    "vif(a)"
   ]
  },
  {
   "cell_type": "code",
   "execution_count": null,
   "metadata": {},
   "outputs": [],
   "source": []
  },
  {
   "cell_type": "code",
   "execution_count": 143,
   "metadata": {},
   "outputs": [
    {
     "data": {
      "text/plain": [
       "\n",
       "Call:\n",
       "lm(formula = QTY ~ YM + ITEM_CNT, data = fruit_data_ymonth)\n",
       "\n",
       "Residuals:\n",
       "   Min     1Q Median     3Q    Max \n",
       "-553.2 -164.7  -53.9  178.4  659.2 \n",
       "\n",
       "Coefficients:\n",
       "            Estimate Std. Error t value Pr(>|t|)    \n",
       "(Intercept) -937.069    244.416  -3.834 0.000374 ***\n",
       "YM2          235.600    163.703   1.439 0.156723    \n",
       "YM3          595.493    163.802   3.635 0.000686 ***\n",
       "YM4          636.307    163.802   3.885 0.000320 ***\n",
       "YM5         1287.750    164.052   7.850 4.27e-10 ***\n",
       "YM6         1191.130    164.386   7.246 3.47e-09 ***\n",
       "YM7          920.857    164.522   5.597 1.09e-06 ***\n",
       "YM8         1068.384    164.670   6.488 4.90e-08 ***\n",
       "YM9         1105.530    164.386   6.725 2.14e-08 ***\n",
       "YM10         801.974    164.915   4.863 1.34e-05 ***\n",
       "YM11         246.364    165.188   1.491 0.142534    \n",
       "YM12          71.384    164.670   0.433 0.666638    \n",
       "ITEM_CNT      36.683      3.564  10.293 1.25e-13 ***\n",
       "---\n",
       "Signif. codes:  0 '***' 0.001 '**' 0.01 '*' 0.05 '.' 0.1 ' ' 1\n",
       "\n",
       "Residual standard error: 258.8 on 47 degrees of freedom\n",
       "Multiple R-squared:  0.8657,\tAdjusted R-squared:  0.8314 \n",
       "F-statistic: 25.24 on 12 and 47 DF,  p-value: < 2.2e-16\n"
      ]
     },
     "metadata": {},
     "output_type": "display_data"
    }
   ],
   "source": [
    "a = lm(QTY ~ YM + ITEM_CNT, data = fruit_data_ymonth)\n",
    "summary(a)"
   ]
  },
  {
   "cell_type": "code",
   "execution_count": null,
   "metadata": {},
   "outputs": [],
   "source": []
  },
  {
   "cell_type": "code",
   "execution_count": 125,
   "metadata": {},
   "outputs": [
    {
     "data": {
      "text/plain": [
       "\n",
       "\tBartlett test of homogeneity of variances\n",
       "\n",
       "data:  fruit_month$QTY and fruit_month$YM\n",
       "Bartlett's K-squared = 10.125, df = 11, p-value = 0.5192\n"
      ]
     },
     "metadata": {},
     "output_type": "display_data"
    }
   ],
   "source": [
    "bartlett.test(fruit_month$QTY, fruit_month$YM)"
   ]
  },
  {
   "cell_type": "code",
   "execution_count": 126,
   "metadata": {},
   "outputs": [
    {
     "data": {
      "text/plain": [
       "            Df   Sum Sq Mean Sq F value   Pr(>F)    \n",
       "YM          11 13195559 1199596    5.62 1.04e-05 ***\n",
       "Residuals   48 10246402  213467                     \n",
       "---\n",
       "Signif. codes:  0 '***' 0.001 '**' 0.01 '*' 0.05 '.' 0.1 ' ' 1"
      ]
     },
     "metadata": {},
     "output_type": "display_data"
    }
   ],
   "source": [
    "a = aov(QTY ~ YM, data = fruit_month)\n",
    "summary(a)"
   ]
  },
  {
   "cell_type": "code",
   "execution_count": 127,
   "metadata": {},
   "outputs": [
    {
     "data": {
      "text/plain": [
       "  Tukey multiple comparisons of means\n",
       "    95% family-wise confidence level\n",
       "\n",
       "Fit: aov(formula = QTY ~ YM, data = fruit_month)\n",
       "\n",
       "$YM\n",
       "         diff          lwr         upr     p adj\n",
       "2-1     235.6  -767.770603 1238.970603 0.9995737\n",
       "3-1     536.8  -466.570603 1540.170603 0.7897165\n",
       "4-1     695.0  -308.370603 1698.370603 0.4393635\n",
       "5-1    1397.8   394.429397 2401.170603 0.0009295\n",
       "6-1    1345.2   341.829397 2348.570603 0.0016576\n",
       "7-1    1089.6    86.229397 2092.970603 0.0227689\n",
       "8-1    1251.8   248.429397 2255.170603 0.0044991\n",
       "9-1    1259.6   256.229397 2262.970603 0.0041457\n",
       "10-1   1007.4     4.029397 2010.770603 0.0482624\n",
       "11-1    473.8  -529.570603 1477.170603 0.8925092\n",
       "12-1    254.8  -748.570603 1258.170603 0.9991165\n",
       "3-2     301.2  -702.170603 1304.570603 0.9961022\n",
       "4-2     459.4  -543.970603 1462.770603 0.9106090\n",
       "5-2    1162.2   158.829397 2165.570603 0.0112443\n",
       "6-2    1109.6   106.229397 2112.970603 0.0188154\n",
       "7-2     854.0  -149.370603 1857.370603 0.1656001\n",
       "8-2    1016.2    12.829397 2019.570603 0.0446525\n",
       "9-2    1024.0    20.629397 2027.370603 0.0416557\n",
       "10-2    771.8  -231.570603 1775.170603 0.2865838\n",
       "11-2    238.2  -765.170603 1241.570603 0.9995274\n",
       "12-2     19.2  -984.170603 1022.570603 1.0000000\n",
       "4-3     158.2  -845.170603 1161.570603 0.9999917\n",
       "5-3     861.0  -142.370603 1864.370603 0.1574189\n",
       "6-3     808.4  -194.970603 1811.770603 0.2269548\n",
       "7-3     552.8  -450.570603 1556.170603 0.7581858\n",
       "8-3     715.0  -288.370603 1718.370603 0.3964483\n",
       "9-3     722.8  -280.570603 1726.170603 0.3802404\n",
       "10-3    470.6  -532.770603 1473.970603 0.8967115\n",
       "11-3    -63.0 -1066.370603  940.370603 1.0000000\n",
       "12-3   -282.0 -1285.370603  721.370603 0.9977992\n",
       "5-4     702.8  -300.570603 1706.170603 0.4224096\n",
       "6-4     650.2  -353.170603 1653.570603 0.5406423\n",
       "7-4     394.6  -608.770603 1397.970603 0.9673168\n",
       "8-4     556.8  -446.570603 1560.170603 0.7500209\n",
       "9-4     564.6  -438.770603 1567.970603 0.7338048\n",
       "10-4    312.4  -690.970603 1315.770603 0.9946917\n",
       "11-4   -221.2 -1224.570603  782.170603 0.9997660\n",
       "12-4   -440.2 -1443.570603  563.170603 0.9315205\n",
       "6-5     -52.6 -1055.970603  950.770603 1.0000000\n",
       "7-5    -308.2 -1311.570603  695.170603 0.9952627\n",
       "8-5    -146.0 -1149.370603  857.370603 0.9999964\n",
       "9-5    -138.2 -1141.570603  865.170603 0.9999979\n",
       "10-5   -390.4 -1393.770603  612.970603 0.9697250\n",
       "11-5   -924.0 -1927.370603   79.370603 0.0972720\n",
       "12-5  -1143.0 -2146.370603 -139.629397 0.0135978\n",
       "7-6    -255.6 -1258.970603  747.770603 0.9990908\n",
       "8-6     -93.4 -1096.770603  909.970603 1.0000000\n",
       "9-6     -85.6 -1088.970603  917.770603 1.0000000\n",
       "10-6   -337.8 -1341.170603  665.570603 0.9899289\n",
       "11-6   -871.4 -1874.770603  131.970603 0.1458469\n",
       "12-6  -1090.4 -2093.770603  -87.029397 0.0225972\n",
       "8-7     162.2  -841.170603 1165.570603 0.9999893\n",
       "9-7     170.0  -833.370603 1173.370603 0.9999827\n",
       "10-7    -82.2 -1085.570603  921.170603 1.0000000\n",
       "11-7   -615.8 -1619.170603  387.570603 0.6201823\n",
       "12-7   -834.8 -1838.170603  168.570603 0.1897060\n",
       "9-8       7.8  -995.570603 1011.170603 1.0000000\n",
       "10-8   -244.4 -1247.770603  758.970603 0.9993990\n",
       "11-8   -778.0 -1781.370603  225.370603 0.2758348\n",
       "12-8   -997.0 -2000.370603    6.370603 0.0528600\n",
       "10-9   -252.2 -1255.570603  751.170603 0.9991960\n",
       "11-9   -785.8 -1789.170603  217.570603 0.2626840\n",
       "12-9  -1004.8 -2008.170603   -1.429397 0.0493774\n",
       "11-10  -533.6 -1536.970603  469.770603 0.7957902\n",
       "12-10  -752.6 -1755.970603  250.770603 0.3214943\n",
       "12-11  -219.0 -1222.370603  784.370603 0.9997874\n"
      ]
     },
     "metadata": {},
     "output_type": "display_data"
    }
   ],
   "source": [
    "TukeyHSD(a)"
   ]
  },
  {
   "cell_type": "code",
   "execution_count": null,
   "metadata": {},
   "outputs": [],
   "source": []
  },
  {
   "cell_type": "code",
   "execution_count": 26,
   "metadata": {},
   "outputs": [
    {
     "data": {
      "text/plain": [
       "\n",
       "\tPearson's product-moment correlation\n",
       "\n",
       "data:  fruit_data$ITEM_CNT and fruit_data$QTY\n",
       "t = 6.0358, df = 58, p-value = 1.189e-07\n",
       "alternative hypothesis: true correlation is not equal to 0\n",
       "95 percent confidence interval:\n",
       " 0.4359612 0.7558404\n",
       "sample estimates:\n",
       "      cor \n",
       "0.6211264 \n"
      ]
     },
     "metadata": {},
     "output_type": "display_data"
    }
   ],
   "source": [
    "cor.test(fruit_data$ITEM_CNT, fruit_data$QTY)"
   ]
  },
  {
   "cell_type": "code",
   "execution_count": 27,
   "metadata": {},
   "outputs": [
    {
     "data": {
      "image/png": "[encoded data removed]",
      "text/plain": [
       "plot without title"
      ]
     },
     "metadata": {},
     "output_type": "display_data"
    }
   ],
   "source": [
    "a = lm(QTY ~ ITEM_CNT, data = fruit_data)\n",
    "plot(fruit_data$ITEM_CNT, fruit_data$QTY)\n",
    "abline(a, col = 2)"
   ]
  },
  {
   "cell_type": "markdown",
   "metadata": {},
   "source": [
    "## ㅡㅡㅡㅡㅡㅡㅡㅡㅡㅡㅡㅡㅡㅡㅡㅡㅡㅡㅡㅡㅡㅡㅡㅡㅡㅡㅡㅡ"
   ]
  },
  {
   "cell_type": "code",
   "execution_count": 28,
   "metadata": {},
   "outputs": [
    {
     "data": {
      "text/html": [
       "-0.0983803843818089"
      ],
      "text/latex": [
       "-0.0983803843818089"
      ],
      "text/markdown": [
       "-0.0983803843818089"
      ],
      "text/plain": [
       "[1] -0.09838038"
      ]
     },
     "metadata": {},
     "output_type": "display_data"
    }
   ],
   "source": [
    "cor(fruit_data$PRICE, fruit_data$QTY)"
   ]
  },
  {
   "cell_type": "code",
   "execution_count": 29,
   "metadata": {},
   "outputs": [
    {
     "data": {
      "text/plain": [
       "\n",
       "Call:\n",
       "lm(formula = QTY ~ PRICE, data = fruit_data)\n",
       "\n",
       "Residuals:\n",
       "     Min       1Q   Median       3Q      Max \n",
       "-1089.35  -483.42   -47.06   430.13  1665.92 \n",
       "\n",
       "Coefficients:\n",
       "             Estimate Std. Error t value Pr(>|t|)    \n",
       "(Intercept) 2529.6461   610.3934   4.144 0.000112 ***\n",
       "PRICE         -0.1725     0.2291  -0.753 0.454558    \n",
       "---\n",
       "Signif. codes:  0 '***' 0.001 '**' 0.01 '*' 0.05 '.' 0.1 ' ' 1\n",
       "\n",
       "Residual standard error: 632.7 on 58 degrees of freedom\n",
       "Multiple R-squared:  0.009679,\tAdjusted R-squared:  -0.007396 \n",
       "F-statistic: 0.5669 on 1 and 58 DF,  p-value: 0.4546\n"
      ]
     },
     "metadata": {},
     "output_type": "display_data"
    }
   ],
   "source": [
    "a = lm(QTY ~ PRICE, data = fruit_data)\n",
    "summary(a)"
   ]
  },
  {
   "cell_type": "code",
   "execution_count": 30,
   "metadata": {},
   "outputs": [
    {
     "data": {
      "image/png": "[encoded data removed]",
      "text/plain": [
       "plot without title"
      ]
     },
     "metadata": {},
     "output_type": "display_data"
    }
   ],
   "source": [
    "plot(fruit_data$PRICE, fruit_data$QTY)\n",
    "abline(a, col = 2)"
   ]
  },
  {
   "cell_type": "code",
   "execution_count": 31,
   "metadata": {},
   "outputs": [
    {
     "data": {
      "text/plain": [
       "\n",
       "Call:\n",
       "lm(formula = QTY ~ ITEM_CNT + MAXTEMP + RAIN_DAY + HOLIDAY, data = fruit_data)\n",
       "\n",
       "Residuals:\n",
       "    Min      1Q  Median      3Q     Max \n",
       "-559.08 -172.49   11.84  146.27  556.08 \n",
       "\n",
       "Coefficients:\n",
       "              Estimate Std. Error t value Pr(>|t|)    \n",
       "(Intercept) -1.689e+03  3.637e+02  -4.644 2.17e-05 ***\n",
       "ITEM_CNT     3.713e+01  3.652e+00  10.168 3.06e-14 ***\n",
       "MAXTEMP      4.838e+01  4.844e+00   9.987 5.85e-14 ***\n",
       "RAIN_DAY    -9.173e-03  4.711e-03  -1.947   0.0566 .  \n",
       "HOLIDAY      6.732e+01  2.936e+01   2.293   0.0257 *  \n",
       "---\n",
       "Signif. codes:  0 '***' 0.001 '**' 0.01 '*' 0.05 '.' 0.1 ' ' 1\n",
       "\n",
       "Residual standard error: 266.8 on 55 degrees of freedom\n",
       "Multiple R-squared:  0.833,\tAdjusted R-squared:  0.8208 \n",
       "F-statistic: 68.57 on 4 and 55 DF,  p-value: < 2.2e-16\n"
      ]
     },
     "metadata": {},
     "output_type": "display_data"
    }
   ],
   "source": [
    "a = lm(QTY ~ ITEM_CNT + MAXTEMP + RAIN_DAY + HOLIDAY, data = fruit_data)\n",
    "summary(a)"
   ]
  },
  {
   "cell_type": "code",
   "execution_count": 32,
   "metadata": {},
   "outputs": [
    {
     "data": {
      "text/html": [
       "0.475676597360213"
      ],
      "text/latex": [
       "0.475676597360213"
      ],
      "text/markdown": [
       "0.475676597360213"
      ],
      "text/plain": [
       "[1] 0.4756766"
      ]
     },
     "metadata": {},
     "output_type": "display_data"
    }
   ],
   "source": [
    "cor(fruit_data$RAIN_DAY, fruit_data$QTY)"
   ]
  },
  {
   "cell_type": "code",
   "execution_count": 33,
   "metadata": {},
   "outputs": [
    {
     "data": {
      "text/plain": [
       "\n",
       "Call:\n",
       "lm(formula = QTY ~ RAIN_DAY, data = fruit_data)\n",
       "\n",
       "Residuals:\n",
       "    Min      1Q  Median      3Q     Max \n",
       "-815.94 -441.85   -1.32  263.85 1790.09 \n",
       "\n",
       "Coefficients:\n",
       "             Estimate Std. Error t value Pr(>|t|)    \n",
       "(Intercept) 1.802e+03  9.796e+01  18.390  < 2e-16 ***\n",
       "RAIN_DAY    2.930e-02  7.115e-03   4.118 0.000123 ***\n",
       "---\n",
       "Signif. codes:  0 '***' 0.001 '**' 0.01 '*' 0.05 '.' 0.1 ' ' 1\n",
       "\n",
       "Residual standard error: 559.2 on 58 degrees of freedom\n",
       "Multiple R-squared:  0.2263,\tAdjusted R-squared:  0.2129 \n",
       "F-statistic: 16.96 on 1 and 58 DF,  p-value: 0.0001225\n"
      ]
     },
     "metadata": {},
     "output_type": "display_data"
    }
   ],
   "source": [
    "a = lm(QTY ~ RAIN_DAY, data = fruit_data)\n",
    "summary(a)"
   ]
  },
  {
   "cell_type": "code",
   "execution_count": 34,
   "metadata": {},
   "outputs": [
    {
     "data": {
      "image/png": "[encoded data removed]",
      "text/plain": [
       "plot without title"
      ]
     },
     "metadata": {},
     "output_type": "display_data"
    }
   ],
   "source": [
    "plot(fruit_data$RAIN_DAY, fruit_data$QTY)\n",
    "abline(a, col = 2)"
   ]
  },
  {
   "cell_type": "code",
   "execution_count": 35,
   "metadata": {},
   "outputs": [
    {
     "data": {
      "text/plain": [
       "\n",
       "Call:\n",
       "lm(formula = QTY ~ ITEM_CNT + MAXTEMP + HOLIDAY, data = fruit_data)\n",
       "\n",
       "Residuals:\n",
       "   Min     1Q Median     3Q    Max \n",
       "-631.6 -221.0   13.0  144.6  685.0 \n",
       "\n",
       "Coefficients:\n",
       "             Estimate Std. Error t value Pr(>|t|)    \n",
       "(Intercept) -1609.330    370.266  -4.346 5.89e-05 ***\n",
       "ITEM_CNT       35.682      3.663   9.741 1.17e-13 ***\n",
       "MAXTEMP        42.030      3.671  11.448 2.72e-16 ***\n",
       "HOLIDAY        71.405     30.008   2.380   0.0208 *  \n",
       "---\n",
       "Signif. codes:  0 '***' 0.001 '**' 0.01 '*' 0.05 '.' 0.1 ' ' 1\n",
       "\n",
       "Residual standard error: 273.4 on 56 degrees of freedom\n",
       "Multiple R-squared:  0.8215,\tAdjusted R-squared:  0.8119 \n",
       "F-statistic: 85.88 on 3 and 56 DF,  p-value: < 2.2e-16\n"
      ]
     },
     "metadata": {},
     "output_type": "display_data"
    }
   ],
   "source": [
    "# 설명력이 0.01수준 달라짐\n",
    "a = lm(QTY ~ ITEM_CNT + MAXTEMP + HOLIDAY, data = fruit_data)\n",
    "summary(a)"
   ]
  },
  {
   "cell_type": "code",
   "execution_count": 36,
   "metadata": {},
   "outputs": [
    {
     "data": {
      "text/plain": [
       "\n",
       "\tBartlett test of homogeneity of variances\n",
       "\n",
       "data:  QTY by as.factor(HOLIDAY)\n",
       "Bartlett's K-squared = 4.7898, df = 4, p-value = 0.3096\n"
      ]
     },
     "metadata": {},
     "output_type": "display_data"
    }
   ],
   "source": [
    "bartlett.test(QTY ~ as.factor(HOLIDAY), data = fruit_data)"
   ]
  },
  {
   "cell_type": "code",
   "execution_count": 37,
   "metadata": {},
   "outputs": [
    {
     "data": {
      "text/plain": [
       "                   Df   Sum Sq Mean Sq F value Pr(>F)  \n",
       "as.factor(HOLIDAY)  4  4900849 1225212   3.634 0.0107 *\n",
       "Residuals          55 18541111  337111                 \n",
       "---\n",
       "Signif. codes:  0 '***' 0.001 '**' 0.01 '*' 0.05 '.' 0.1 ' ' 1"
      ]
     },
     "metadata": {},
     "output_type": "display_data"
    }
   ],
   "source": [
    "a = aov(QTY ~ as.factor(HOLIDAY), data = fruit_data)\n",
    "summary(a)"
   ]
  },
  {
   "cell_type": "code",
   "execution_count": 38,
   "metadata": {},
   "outputs": [
    {
     "data": {
      "text/plain": [
       "  Tukey multiple comparisons of means\n",
       "    95% family-wise confidence level\n",
       "\n",
       "Fit: aov(formula = QTY ~ as.factor(HOLIDAY), data = fruit_data)\n",
       "\n",
       "$`as.factor(HOLIDAY)`\n",
       "            diff         lwr        upr     p adj\n",
       "9-8    163.10317  -420.42361  746.62996 0.9329426\n",
       "10-8   714.65179   115.38157 1313.92201 0.0117936\n",
       "11-8    29.08929  -696.66299  754.84156 0.9999619\n",
       "12-8   143.21429  -785.17115 1071.59972 0.9923413\n",
       "10-9   551.54861   -11.08969 1114.18691 0.0572624\n",
       "11-9  -134.01389  -829.82523  561.79746 0.9823274\n",
       "12-9   -19.88889  -925.06101  885.28323 0.9999965\n",
       "11-10 -685.56250 -1394.62859   23.50359 0.0627195\n",
       "12-10 -571.43750 -1486.83788  343.96288 0.4066145\n",
       "12-11  114.12500  -888.64588 1116.89588 0.9976323\n"
      ]
     },
     "metadata": {},
     "output_type": "display_data"
    }
   ],
   "source": [
    "TukeyHSD(a)"
   ]
  },
  {
   "cell_type": "code",
   "execution_count": 39,
   "metadata": {},
   "outputs": [
    {
     "data": {
      "image/png": "[encoded data removed]",
      "text/plain": [
       "plot without title"
      ]
     },
     "metadata": {},
     "output_type": "display_data"
    }
   ],
   "source": [
    "plot(fruit_data$HOLIDAY, fruit_data$QTY)"
   ]
  },
  {
   "cell_type": "code",
   "execution_count": 40,
   "metadata": {},
   "outputs": [
    {
     "data": {
      "text/plain": [
       "\n",
       "Call:\n",
       "lm(formula = QTY ~ ITEM_CNT + MAXTEMP, data = fruit_data)\n",
       "\n",
       "Residuals:\n",
       "    Min      1Q  Median      3Q     Max \n",
       "-524.38 -163.69  -32.57  162.39  725.28 \n",
       "\n",
       "Coefficients:\n",
       "            Estimate Std. Error t value Pr(>|t|)    \n",
       "(Intercept) -933.680    247.168  -3.778  0.00038 ***\n",
       "ITEM_CNT      35.727      3.810   9.378 3.76e-13 ***\n",
       "MAXTEMP       42.019      3.819  11.004 1.01e-15 ***\n",
       "---\n",
       "Signif. codes:  0 '***' 0.001 '**' 0.01 '*' 0.05 '.' 0.1 ' ' 1\n",
       "\n",
       "Residual standard error: 284.3 on 57 degrees of freedom\n",
       "Multiple R-squared:  0.8034,\tAdjusted R-squared:  0.7965 \n",
       "F-statistic: 116.5 on 2 and 57 DF,  p-value: < 2.2e-16\n"
      ]
     },
     "metadata": {},
     "output_type": "display_data"
    }
   ],
   "source": [
    "# 과즙음료 최종 모델\n",
    "a = lm(QTY ~ ITEM_CNT + MAXTEMP, data = fruit_data)\n",
    "summary(a)"
   ]
  },
  {
   "cell_type": "code",
   "execution_count": 41,
   "metadata": {},
   "outputs": [
    {
     "data": {
      "text/html": [
       "<dl class=dl-horizontal>\n",
       "\t<dt>ITEM_CNT</dt>\n",
       "\t\t<dd>1.01088117406286</dd>\n",
       "\t<dt>MAXTEMP</dt>\n",
       "\t\t<dd>1.01088117406286</dd>\n",
       "</dl>\n"
      ],
      "text/latex": [
       "\\begin{description*}\n",
       "\\item[ITEM\\textbackslash{}\\_CNT] 1.01088117406286\n",
       "\\item[MAXTEMP] 1.01088117406286\n",
       "\\end{description*}\n"
      ],
      "text/markdown": [
       "ITEM_CNT\n",
       ":   1.01088117406286MAXTEMP\n",
       ":   1.01088117406286\n",
       "\n"
      ],
      "text/plain": [
       "ITEM_CNT  MAXTEMP \n",
       "1.010881 1.010881 "
      ]
     },
     "metadata": {},
     "output_type": "display_data"
    }
   ],
   "source": [
    "vif(a)"
   ]
  },
  {
   "cell_type": "markdown",
   "metadata": {},
   "source": [
    "### ㅡㅡㅡㅡㅡㅡㅡㅡㅡㅡㅡㅡㅡㅡㅡㅡㅡㅡㅡㅡㅡㅡㅡㅡㅡㅡㅡㅡㅡㅡㅡㅡㅡㅡㅡㅡㅡㅡㅡㅡㅡㅡㅡㅡ"
   ]
  },
  {
   "cell_type": "markdown",
   "metadata": {},
   "source": [
    "### 차음료 모델 정의 ㅡㅡㅡㅡㅡㅡㅡㅡㅡㅡㅡㅡㅡㅡㅡㅡㅡㅡㅡㅡㅡㅡㅡㅡㅡㅡㅡㅡㅡㅡㅡㅡㅡㅡㅡㅡ"
   ]
  },
  {
   "cell_type": "code",
   "execution_count": 42,
   "metadata": {},
   "outputs": [
    {
     "data": {
      "text/plain": [
       "Subset selection object\n",
       "Call: regsubsets.formula(QTY ~ YM + ITEM_CNT + PRICE + MAXTEMP + SALEDAY + \n",
       "    RAIN_DAY + HOLIDAY, data = tea_data, nbest = 5)\n",
       "7 Variables  (and intercept)\n",
       "         Forced in Forced out\n",
       "YM           FALSE      FALSE\n",
       "ITEM_CNT     FALSE      FALSE\n",
       "PRICE        FALSE      FALSE\n",
       "MAXTEMP      FALSE      FALSE\n",
       "SALEDAY      FALSE      FALSE\n",
       "RAIN_DAY     FALSE      FALSE\n",
       "HOLIDAY      FALSE      FALSE\n",
       "5 subsets of each size up to 7\n",
       "Selection Algorithm: exhaustive\n",
       "         YM  ITEM_CNT PRICE MAXTEMP SALEDAY RAIN_DAY HOLIDAY\n",
       "1  ( 1 ) \" \" \" \"      \" \"   \"*\"     \" \"     \" \"      \" \"    \n",
       "1  ( 2 ) \" \" \" \"      \" \"   \" \"     \"*\"     \" \"      \" \"    \n",
       "1  ( 3 ) \"*\" \" \"      \" \"   \" \"     \" \"     \" \"      \" \"    \n",
       "1  ( 4 ) \" \" \"*\"      \" \"   \" \"     \" \"     \" \"      \" \"    \n",
       "1  ( 5 ) \" \" \" \"      \" \"   \" \"     \" \"     \"*\"      \" \"    \n",
       "2  ( 1 ) \" \" \" \"      \" \"   \"*\"     \"*\"     \" \"      \" \"    \n",
       "2  ( 2 ) \"*\" \" \"      \" \"   \"*\"     \" \"     \" \"      \" \"    \n",
       "2  ( 3 ) \" \" \" \"      \"*\"   \"*\"     \" \"     \" \"      \" \"    \n",
       "2  ( 4 ) \" \" \"*\"      \" \"   \"*\"     \" \"     \" \"      \" \"    \n",
       "2  ( 5 ) \" \" \" \"      \" \"   \" \"     \"*\"     \"*\"      \" \"    \n",
       "3  ( 1 ) \" \" \" \"      \" \"   \"*\"     \"*\"     \"*\"      \" \"    \n",
       "3  ( 2 ) \" \" \"*\"      \" \"   \"*\"     \"*\"     \" \"      \" \"    \n",
       "3  ( 3 ) \" \" \" \"      \" \"   \"*\"     \"*\"     \" \"      \"*\"    \n",
       "3  ( 4 ) \" \" \" \"      \"*\"   \"*\"     \"*\"     \" \"      \" \"    \n",
       "3  ( 5 ) \"*\" \" \"      \" \"   \"*\"     \"*\"     \" \"      \" \"    \n",
       "4  ( 1 ) \" \" \"*\"      \" \"   \"*\"     \"*\"     \"*\"      \" \"    \n",
       "4  ( 2 ) \" \" \"*\"      \" \"   \"*\"     \"*\"     \" \"      \"*\"    \n",
       "4  ( 3 ) \" \" \" \"      \" \"   \"*\"     \"*\"     \"*\"      \"*\"    \n",
       "4  ( 4 ) \" \" \"*\"      \"*\"   \"*\"     \"*\"     \" \"      \" \"    \n",
       "4  ( 5 ) \" \" \" \"      \"*\"   \"*\"     \"*\"     \"*\"      \" \"    \n",
       "5  ( 1 ) \" \" \"*\"      \" \"   \"*\"     \"*\"     \"*\"      \"*\"    \n",
       "5  ( 2 ) \" \" \"*\"      \"*\"   \"*\"     \"*\"     \"*\"      \" \"    \n",
       "5  ( 3 ) \"*\" \"*\"      \" \"   \"*\"     \"*\"     \"*\"      \" \"    \n",
       "5  ( 4 ) \" \" \"*\"      \"*\"   \"*\"     \"*\"     \" \"      \"*\"    \n",
       "5  ( 5 ) \"*\" \"*\"      \" \"   \"*\"     \"*\"     \" \"      \"*\"    \n",
       "6  ( 1 ) \" \" \"*\"      \"*\"   \"*\"     \"*\"     \"*\"      \"*\"    \n",
       "6  ( 2 ) \"*\" \"*\"      \" \"   \"*\"     \"*\"     \"*\"      \"*\"    \n",
       "6  ( 3 ) \"*\" \"*\"      \"*\"   \"*\"     \"*\"     \"*\"      \" \"    \n",
       "6  ( 4 ) \"*\" \"*\"      \"*\"   \"*\"     \"*\"     \" \"      \"*\"    \n",
       "6  ( 5 ) \"*\" \" \"      \"*\"   \"*\"     \"*\"     \"*\"      \"*\"    \n",
       "7  ( 1 ) \"*\" \"*\"      \"*\"   \"*\"     \"*\"     \"*\"      \"*\"    "
      ]
     },
     "metadata": {},
     "output_type": "display_data"
    }
   ],
   "source": [
    "leaps = regsubsets(QTY ~ YM + ITEM_CNT + PRICE + MAXTEMP + SALEDAY + RAIN_DAY + HOLIDAY, data = tea_data, nbest = 5)\n",
    "summary(leaps)"
   ]
  },
  {
   "cell_type": "code",
   "execution_count": 43,
   "metadata": {},
   "outputs": [
    {
     "data": {
      "image/png": "[encoded data removed]",
      "text/plain": [
       "plot without title"
      ]
     },
     "metadata": {},
     "output_type": "display_data"
    },
    {
     "data": {
      "image/png": "[encoded data removed]",
      "text/plain": [
       "plot without title"
      ]
     },
     "metadata": {},
     "output_type": "display_data"
    }
   ],
   "source": [
    "par(mfrow = c(1, 2))\n",
    "plot(leaps, scale = 'adjr2')\n",
    "plot(leaps, scale = 'Cp')\n",
    "plot(leaps, scale = 'bic')"
   ]
  },
  {
   "cell_type": "code",
   "execution_count": 155,
   "metadata": {},
   "outputs": [
    {
     "data": {
      "text/plain": [
       "\n",
       "Call:\n",
       "lm(formula = QTY ~ ITEM_CNT + MAXTEMP + SALEDAY + RAIN_DAY + \n",
       "    HOLIDAY, data = tea_data)\n",
       "\n",
       "Residuals:\n",
       "    Min      1Q  Median      3Q     Max \n",
       "-469.43 -130.19  -10.38   99.17  843.77 \n",
       "\n",
       "Coefficients:\n",
       "              Estimate Std. Error t value Pr(>|t|)    \n",
       "(Intercept) 201.300255 475.580566   0.423    0.674    \n",
       "ITEM_CNT    -20.560113  12.503982  -1.644    0.106    \n",
       "MAXTEMP      49.901120   4.237787  11.775  < 2e-16 ***\n",
       "SALEDAY       0.011307   0.001016  11.133 1.34e-15 ***\n",
       "RAIN_DAY     -0.005957   0.004034  -1.477    0.146    \n",
       "HOLIDAY      26.885867  25.080351   1.072    0.288    \n",
       "---\n",
       "Signif. codes:  0 '***' 0.001 '**' 0.01 '*' 0.05 '.' 0.1 ' ' 1\n",
       "\n",
       "Residual standard error: 224.1 on 54 degrees of freedom\n",
       "Multiple R-squared:  0.8918,\tAdjusted R-squared:  0.8818 \n",
       "F-statistic:    89 on 5 and 54 DF,  p-value: < 2.2e-16\n"
      ]
     },
     "metadata": {},
     "output_type": "display_data"
    }
   ],
   "source": [
    "a = lm(QTY ~ ITEM_CNT + MAXTEMP + SALEDAY + RAIN_DAY + HOLIDAY, data = tea_data)\n",
    "summary(a)"
   ]
  },
  {
   "cell_type": "code",
   "execution_count": 156,
   "metadata": {},
   "outputs": [
    {
     "data": {
      "text/html": [
       "<dl class=dl-horizontal>\n",
       "\t<dt>ITEM_CNT</dt>\n",
       "\t\t<dd>2.23031270148625</dd>\n",
       "\t<dt>MAXTEMP</dt>\n",
       "\t\t<dd>2.00487420430882</dd>\n",
       "\t<dt>SALEDAY</dt>\n",
       "\t\t<dd>2.19267120030647</dd>\n",
       "\t<dt>RAIN_DAY</dt>\n",
       "\t\t<dd>2.00177376930562</dd>\n",
       "\t<dt>HOLIDAY</dt>\n",
       "\t\t<dd>1.03989670465985</dd>\n",
       "</dl>\n"
      ],
      "text/latex": [
       "\\begin{description*}\n",
       "\\item[ITEM\\textbackslash{}\\_CNT] 2.23031270148625\n",
       "\\item[MAXTEMP] 2.00487420430882\n",
       "\\item[SALEDAY] 2.19267120030647\n",
       "\\item[RAIN\\textbackslash{}\\_DAY] 2.00177376930562\n",
       "\\item[HOLIDAY] 1.03989670465985\n",
       "\\end{description*}\n"
      ],
      "text/markdown": [
       "ITEM_CNT\n",
       ":   2.23031270148625MAXTEMP\n",
       ":   2.00487420430882SALEDAY\n",
       ":   2.19267120030647RAIN_DAY\n",
       ":   2.00177376930562HOLIDAY\n",
       ":   1.03989670465985\n",
       "\n"
      ],
      "text/plain": [
       "ITEM_CNT  MAXTEMP  SALEDAY RAIN_DAY  HOLIDAY \n",
       "2.230313 2.004874 2.192671 2.001774 1.039897 "
      ]
     },
     "metadata": {},
     "output_type": "display_data"
    }
   ],
   "source": [
    "vif(a)"
   ]
  },
  {
   "cell_type": "code",
   "execution_count": 157,
   "metadata": {},
   "outputs": [
    {
     "data": {
      "text/plain": [
       "\n",
       "Call:\n",
       "lm(formula = QTY ~ ITEM_CNT + MAXTEMP + SALEDAY + RAIN_DAY, data = tea_data)\n",
       "\n",
       "Residuals:\n",
       "    Min      1Q  Median      3Q     Max \n",
       "-439.01 -153.19  -10.17  111.11  847.70 \n",
       "\n",
       "Coefficients:\n",
       "              Estimate Std. Error t value Pr(>|t|)    \n",
       "(Intercept) 407.001584 435.740293   0.934    0.354    \n",
       "ITEM_CNT    -19.839826  12.502835  -1.587    0.118    \n",
       "MAXTEMP      50.176566   4.235722  11.846  < 2e-16 ***\n",
       "SALEDAY       0.011402   0.001013  11.255 6.84e-16 ***\n",
       "RAIN_DAY     -0.006452   0.004013  -1.608    0.114    \n",
       "---\n",
       "Signif. codes:  0 '***' 0.001 '**' 0.01 '*' 0.05 '.' 0.1 ' ' 1\n",
       "\n",
       "Residual standard error: 224.4 on 55 degrees of freedom\n",
       "Multiple R-squared:  0.8895,\tAdjusted R-squared:  0.8814 \n",
       "F-statistic: 110.7 on 4 and 55 DF,  p-value: < 2.2e-16\n"
      ]
     },
     "metadata": {},
     "output_type": "display_data"
    }
   ],
   "source": [
    "a = lm(QTY ~ ITEM_CNT + MAXTEMP + SALEDAY + RAIN_DAY, data = tea_data)\n",
    "summary(a)"
   ]
  },
  {
   "cell_type": "code",
   "execution_count": 158,
   "metadata": {},
   "outputs": [
    {
     "data": {
      "text/html": [
       "<dl class=dl-horizontal>\n",
       "\t<dt>ITEM_CNT</dt>\n",
       "\t\t<dd>2.22387250344804</dd>\n",
       "\t<dt>MAXTEMP</dt>\n",
       "\t\t<dd>1.99750363684047</dd>\n",
       "\t<dt>SALEDAY</dt>\n",
       "\t\t<dd>2.17593653538604</dd>\n",
       "\t<dt>RAIN_DAY</dt>\n",
       "\t\t<dd>1.97559840975972</dd>\n",
       "</dl>\n"
      ],
      "text/latex": [
       "\\begin{description*}\n",
       "\\item[ITEM\\textbackslash{}\\_CNT] 2.22387250344804\n",
       "\\item[MAXTEMP] 1.99750363684047\n",
       "\\item[SALEDAY] 2.17593653538604\n",
       "\\item[RAIN\\textbackslash{}\\_DAY] 1.97559840975972\n",
       "\\end{description*}\n"
      ],
      "text/markdown": [
       "ITEM_CNT\n",
       ":   2.22387250344804MAXTEMP\n",
       ":   1.99750363684047SALEDAY\n",
       ":   2.17593653538604RAIN_DAY\n",
       ":   1.97559840975972\n",
       "\n"
      ],
      "text/plain": [
       "ITEM_CNT  MAXTEMP  SALEDAY RAIN_DAY \n",
       "2.223873 1.997504 2.175937 1.975598 "
      ]
     },
     "metadata": {},
     "output_type": "display_data"
    }
   ],
   "source": [
    "vif(a)"
   ]
  },
  {
   "cell_type": "code",
   "execution_count": 159,
   "metadata": {},
   "outputs": [
    {
     "data": {
      "text/plain": [
       "\n",
       "Call:\n",
       "lm(formula = QTY ~ MAXTEMP + SALEDAY, data = tea_data)\n",
       "\n",
       "Residuals:\n",
       "    Min      1Q  Median      3Q     Max \n",
       "-436.25 -138.38   -2.52  102.12  957.39 \n",
       "\n",
       "Coefficients:\n",
       "              Estimate Std. Error t value Pr(>|t|)    \n",
       "(Intercept) -1.705e+02  1.409e+02   -1.21    0.231    \n",
       "MAXTEMP      4.407e+01  3.078e+00   14.32   <2e-16 ***\n",
       "SALEDAY      9.957e-03  7.054e-04   14.12   <2e-16 ***\n",
       "---\n",
       "Signif. codes:  0 '***' 0.001 '**' 0.01 '*' 0.05 '.' 0.1 ' ' 1\n",
       "\n",
       "Residual standard error: 230.4 on 57 degrees of freedom\n",
       "Multiple R-squared:  0.8793,\tAdjusted R-squared:  0.875 \n",
       "F-statistic: 207.6 on 2 and 57 DF,  p-value: < 2.2e-16\n"
      ]
     },
     "metadata": {},
     "output_type": "display_data"
    }
   ],
   "source": [
    "a = lm(QTY ~ MAXTEMP + SALEDAY, data = tea_data)\n",
    "summary(a)"
   ]
  },
  {
   "cell_type": "code",
   "execution_count": 160,
   "metadata": {},
   "outputs": [
    {
     "data": {
      "text/html": [
       "<dl class=dl-horizontal>\n",
       "\t<dt>MAXTEMP</dt>\n",
       "\t\t<dd>1.00068445423221</dd>\n",
       "\t<dt>SALEDAY</dt>\n",
       "\t\t<dd>1.00068445423221</dd>\n",
       "</dl>\n"
      ],
      "text/latex": [
       "\\begin{description*}\n",
       "\\item[MAXTEMP] 1.00068445423221\n",
       "\\item[SALEDAY] 1.00068445423221\n",
       "\\end{description*}\n"
      ],
      "text/markdown": [
       "MAXTEMP\n",
       ":   1.00068445423221SALEDAY\n",
       ":   1.00068445423221\n",
       "\n"
      ],
      "text/plain": [
       " MAXTEMP  SALEDAY \n",
       "1.000684 1.000684 "
      ]
     },
     "metadata": {},
     "output_type": "display_data"
    }
   ],
   "source": [
    "vif(a)"
   ]
  },
  {
   "cell_type": "code",
   "execution_count": 50,
   "metadata": {},
   "outputs": [
    {
     "data": {
      "image/png": "[encoded data removed]",
      "text/plain": [
       "Plot with title \"\""
      ]
     },
     "metadata": {},
     "output_type": "display_data"
    }
   ],
   "source": [
    "par(mfrow = c(2,2))\n",
    "plot(a)"
   ]
  },
  {
   "cell_type": "code",
   "execution_count": 51,
   "metadata": {},
   "outputs": [
    {
     "data": {
      "text/html": [
       "0.667065799920347"
      ],
      "text/latex": [
       "0.667065799920347"
      ],
      "text/markdown": [
       "0.667065799920347"
      ],
      "text/plain": [
       "[1] 0.6670658"
      ]
     },
     "metadata": {},
     "output_type": "display_data"
    }
   ],
   "source": [
    "cor(tea_data$SALEDAY, tea_data$QTY)"
   ]
  },
  {
   "cell_type": "code",
   "execution_count": 52,
   "metadata": {},
   "outputs": [
    {
     "data": {
      "text/plain": [
       "\n",
       "Call:\n",
       "lm(formula = QTY ~ SALEDAY, data = tea_data)\n",
       "\n",
       "Residuals:\n",
       "   Min     1Q Median     3Q    Max \n",
       "-923.2 -438.4  138.2  315.9 1232.7 \n",
       "\n",
       "Coefficients:\n",
       "             Estimate Std. Error t value Pr(>|t|)    \n",
       "(Intercept) 5.550e+02  2.794e+02   1.986   0.0517 .  \n",
       "SALEDAY     1.022e-02  1.499e-03   6.819  5.9e-09 ***\n",
       "---\n",
       "Signif. codes:  0 '***' 0.001 '**' 0.01 '*' 0.05 '.' 0.1 ' ' 1\n",
       "\n",
       "Residual standard error: 489.6 on 58 degrees of freedom\n",
       "Multiple R-squared:  0.445,\tAdjusted R-squared:  0.4354 \n",
       "F-statistic:  46.5 on 1 and 58 DF,  p-value: 5.896e-09\n"
      ]
     },
     "metadata": {},
     "output_type": "display_data"
    }
   ],
   "source": [
    "a = lm(QTY ~ SALEDAY, data = tea_data)\n",
    "summary(a)"
   ]
  },
  {
   "cell_type": "code",
   "execution_count": 53,
   "metadata": {},
   "outputs": [
    {
     "data": {
      "image/png": "[encoded data removed]",
      "text/plain": [
       "plot without title"
      ]
     },
     "metadata": {},
     "output_type": "display_data"
    }
   ],
   "source": [
    "plot(tea_data$SALEDAY, tea_data$QTY)\n",
    "abline(a, col = 2)"
   ]
  },
  {
   "cell_type": "code",
   "execution_count": 54,
   "metadata": {},
   "outputs": [
    {
     "data": {
      "text/plain": [
       "\n",
       "Call:\n",
       "lm(formula = QTY ~ MAXTEMP + SALEDAY, data = tea_data)\n",
       "\n",
       "Residuals:\n",
       "    Min      1Q  Median      3Q     Max \n",
       "-436.25 -138.38   -2.52  102.12  957.39 \n",
       "\n",
       "Coefficients:\n",
       "              Estimate Std. Error t value Pr(>|t|)    \n",
       "(Intercept) -1.705e+02  1.409e+02   -1.21    0.231    \n",
       "MAXTEMP      4.407e+01  3.078e+00   14.32   <2e-16 ***\n",
       "SALEDAY      9.957e-03  7.054e-04   14.12   <2e-16 ***\n",
       "---\n",
       "Signif. codes:  0 '***' 0.001 '**' 0.01 '*' 0.05 '.' 0.1 ' ' 1\n",
       "\n",
       "Residual standard error: 230.4 on 57 degrees of freedom\n",
       "Multiple R-squared:  0.8793,\tAdjusted R-squared:  0.875 \n",
       "F-statistic: 207.6 on 2 and 57 DF,  p-value: < 2.2e-16\n"
      ]
     },
     "metadata": {},
     "output_type": "display_data"
    }
   ],
   "source": [
    "# 차음료 최종 모델\n",
    "a = lm(QTY ~ MAXTEMP + SALEDAY, data = tea_data)\n",
    "summary(a)"
   ]
  },
  {
   "cell_type": "markdown",
   "metadata": {},
   "source": [
    "# ㅡㅡㅡㅡㅡㅡㅡㅡㅡㅡㅡㅡㅡㅡㅡㅡㅡㅡㅡㅡㅡㅡㅡㅡㅡㅡㅡㅡㅡㅡㅡㅡㅡㅡ"
   ]
  },
  {
   "cell_type": "markdown",
   "metadata": {},
   "source": [
    "# 비타민 음료 모델 정의"
   ]
  },
  {
   "cell_type": "code",
   "execution_count": 55,
   "metadata": {},
   "outputs": [
    {
     "data": {
      "text/plain": [
       "Subset selection object\n",
       "Call: regsubsets.formula(QTY ~ YM + ITEM_CNT + PRICE + MAXTEMP + SALEDAY + \n",
       "    RAIN_DAY + HOLIDAY, data = vitamin_data, nbest = 5)\n",
       "7 Variables  (and intercept)\n",
       "         Forced in Forced out\n",
       "YM           FALSE      FALSE\n",
       "ITEM_CNT     FALSE      FALSE\n",
       "PRICE        FALSE      FALSE\n",
       "MAXTEMP      FALSE      FALSE\n",
       "SALEDAY      FALSE      FALSE\n",
       "RAIN_DAY     FALSE      FALSE\n",
       "HOLIDAY      FALSE      FALSE\n",
       "5 subsets of each size up to 7\n",
       "Selection Algorithm: exhaustive\n",
       "         YM  ITEM_CNT PRICE MAXTEMP SALEDAY RAIN_DAY HOLIDAY\n",
       "1  ( 1 ) \" \" \"*\"      \" \"   \" \"     \" \"     \" \"      \" \"    \n",
       "1  ( 2 ) \" \" \" \"      \"*\"   \" \"     \" \"     \" \"      \" \"    \n",
       "1  ( 3 ) \" \" \" \"      \" \"   \" \"     \"*\"     \" \"      \" \"    \n",
       "1  ( 4 ) \"*\" \" \"      \" \"   \" \"     \" \"     \" \"      \" \"    \n",
       "1  ( 5 ) \" \" \" \"      \" \"   \" \"     \" \"     \"*\"      \" \"    \n",
       "2  ( 1 ) \" \" \" \"      \"*\"   \"*\"     \" \"     \" \"      \" \"    \n",
       "2  ( 2 ) \" \" \"*\"      \" \"   \" \"     \" \"     \"*\"      \" \"    \n",
       "2  ( 3 ) \" \" \"*\"      \" \"   \"*\"     \" \"     \" \"      \" \"    \n",
       "2  ( 4 ) \" \" \" \"      \"*\"   \" \"     \" \"     \"*\"      \" \"    \n",
       "2  ( 5 ) \" \" \" \"      \" \"   \" \"     \"*\"     \"*\"      \" \"    \n",
       "3  ( 1 ) \" \" \"*\"      \"*\"   \"*\"     \" \"     \" \"      \" \"    \n",
       "3  ( 2 ) \" \" \" \"      \"*\"   \"*\"     \"*\"     \" \"      \" \"    \n",
       "3  ( 3 ) \" \" \"*\"      \"*\"   \" \"     \" \"     \"*\"      \" \"    \n",
       "3  ( 4 ) \" \" \" \"      \"*\"   \"*\"     \" \"     \"*\"      \" \"    \n",
       "3  ( 5 ) \"*\" \" \"      \"*\"   \"*\"     \" \"     \" \"      \" \"    \n",
       "4  ( 1 ) \" \" \"*\"      \"*\"   \"*\"     \" \"     \"*\"      \" \"    \n",
       "4  ( 2 ) \" \" \" \"      \"*\"   \"*\"     \"*\"     \"*\"      \" \"    \n",
       "4  ( 3 ) \"*\" \"*\"      \"*\"   \"*\"     \" \"     \" \"      \" \"    \n",
       "4  ( 4 ) \"*\" \" \"      \"*\"   \"*\"     \" \"     \"*\"      \" \"    \n",
       "4  ( 5 ) \" \" \"*\"      \"*\"   \"*\"     \"*\"     \" \"      \" \"    \n",
       "5  ( 1 ) \"*\" \"*\"      \"*\"   \"*\"     \" \"     \"*\"      \" \"    \n",
       "5  ( 2 ) \" \" \"*\"      \"*\"   \"*\"     \" \"     \"*\"      \"*\"    \n",
       "5  ( 3 ) \" \" \"*\"      \"*\"   \"*\"     \"*\"     \"*\"      \" \"    \n",
       "5  ( 4 ) \" \" \" \"      \"*\"   \"*\"     \"*\"     \"*\"      \"*\"    \n",
       "5  ( 5 ) \"*\" \" \"      \"*\"   \"*\"     \"*\"     \"*\"      \" \"    \n",
       "6  ( 1 ) \"*\" \"*\"      \"*\"   \"*\"     \"*\"     \"*\"      \" \"    \n",
       "6  ( 2 ) \"*\" \"*\"      \"*\"   \"*\"     \" \"     \"*\"      \"*\"    \n",
       "6  ( 3 ) \" \" \"*\"      \"*\"   \"*\"     \"*\"     \"*\"      \"*\"    \n",
       "6  ( 4 ) \"*\" \" \"      \"*\"   \"*\"     \"*\"     \"*\"      \"*\"    \n",
       "6  ( 5 ) \"*\" \"*\"      \"*\"   \" \"     \"*\"     \"*\"      \"*\"    \n",
       "7  ( 1 ) \"*\" \"*\"      \"*\"   \"*\"     \"*\"     \"*\"      \"*\"    "
      ]
     },
     "metadata": {},
     "output_type": "display_data"
    }
   ],
   "source": [
    "leaps = regsubsets(QTY ~ YM + ITEM_CNT + PRICE + MAXTEMP + SALEDAY + RAIN_DAY + HOLIDAY, data = vitamin_data, nbest = 5)\n",
    "summary(leaps)"
   ]
  },
  {
   "cell_type": "code",
   "execution_count": 56,
   "metadata": {},
   "outputs": [
    {
     "data": {
      "image/png": "[encoded data removed]",
      "text/plain": [
       "plot without title"
      ]
     },
     "metadata": {},
     "output_type": "display_data"
    },
    {
     "data": {
      "image/png": "[encoded data removed]",
      "text/plain": [
       "plot without title"
      ]
     },
     "metadata": {},
     "output_type": "display_data"
    }
   ],
   "source": [
    "par(mfrow = c(1, 2))\n",
    "plot(leaps, scale = 'adjr2')\n",
    "plot(leaps, scale = 'Cp')\n",
    "plot(leaps, scale = 'bic')"
   ]
  },
  {
   "cell_type": "code",
   "execution_count": 161,
   "metadata": {},
   "outputs": [
    {
     "data": {
      "text/plain": [
       "\n",
       "Call:\n",
       "lm(formula = QTY ~ YM + ITEM_CNT + PRICE + MAXTEMP + SALEDAY + \n",
       "    RAIN_DAY, data = vitamin_data)\n",
       "\n",
       "Residuals:\n",
       "    Min      1Q  Median      3Q     Max \n",
       "-441.99 -122.10  -19.42   74.28  552.37 \n",
       "\n",
       "Coefficients:\n",
       "              Estimate Std. Error t value Pr(>|t|)   \n",
       "(Intercept)  2.943e+05  2.040e+05   1.443  0.15489   \n",
       "YM          -1.473e+00  1.017e+00  -1.449  0.15333   \n",
       "ITEM_CNT     3.406e+01  1.929e+01   1.766  0.08312 . \n",
       "PRICE        7.551e-01  2.547e-01   2.964  0.00454 **\n",
       "MAXTEMP      7.608e+00  3.926e+00   1.938  0.05798 . \n",
       "SALEDAY      3.064e-03  2.389e-03   1.283  0.20521   \n",
       "RAIN_DAY     6.821e-03  3.684e-03   1.851  0.06968 . \n",
       "---\n",
       "Signif. codes:  0 '***' 0.001 '**' 0.01 '*' 0.05 '.' 0.1 ' ' 1\n",
       "\n",
       "Residual standard error: 202.3 on 53 degrees of freedom\n",
       "Multiple R-squared:  0.7369,\tAdjusted R-squared:  0.7072 \n",
       "F-statistic: 24.74 on 6 and 53 DF,  p-value: 9.355e-14\n"
      ]
     },
     "metadata": {},
     "output_type": "display_data"
    }
   ],
   "source": [
    "a = lm(QTY ~ YM + ITEM_CNT + PRICE + MAXTEMP + SALEDAY + RAIN_DAY, vitamin_data)\n",
    "summary(a)"
   ]
  },
  {
   "cell_type": "code",
   "execution_count": 162,
   "metadata": {},
   "outputs": [
    {
     "data": {
      "text/plain": [
       "\n",
       "Call:\n",
       "lm(formula = QTY ~ ITEM_CNT + PRICE + MAXTEMP + RAIN_DAY, data = vitamin_data)\n",
       "\n",
       "Residuals:\n",
       "    Min      1Q  Median      3Q     Max \n",
       "-422.62 -112.66  -43.05  107.77  574.78 \n",
       "\n",
       "Coefficients:\n",
       "              Estimate Std. Error t value Pr(>|t|)   \n",
       "(Intercept) -1.054e+03  3.653e+02  -2.885  0.00558 **\n",
       "ITEM_CNT     2.246e+01  8.909e+00   2.521  0.01462 * \n",
       "PRICE        6.854e-01  2.487e-01   2.756  0.00792 **\n",
       "MAXTEMP      8.875e+00  3.825e+00   2.320  0.02406 * \n",
       "RAIN_DAY     6.731e-03  3.692e-03   1.823  0.07374 . \n",
       "---\n",
       "Signif. codes:  0 '***' 0.001 '**' 0.01 '*' 0.05 '.' 0.1 ' ' 1\n",
       "\n",
       "Residual standard error: 202.9 on 55 degrees of freedom\n",
       "Multiple R-squared:  0.7254,\tAdjusted R-squared:  0.7054 \n",
       "F-statistic: 36.31 on 4 and 55 DF,  p-value: 7.716e-15\n"
      ]
     },
     "metadata": {},
     "output_type": "display_data"
    }
   ],
   "source": [
    "a = lm(QTY ~ ITEM_CNT + PRICE + MAXTEMP + RAIN_DAY, vitamin_data)\n",
    "summary(a)"
   ]
  },
  {
   "cell_type": "code",
   "execution_count": 165,
   "metadata": {},
   "outputs": [
    {
     "data": {
      "text/plain": [
       "\n",
       "Call:\n",
       "lm(formula = QTY ~ ITEM_CNT + PRICE + MAXTEMP, data = vitamin_data)\n",
       "\n",
       "Residuals:\n",
       "    Min      1Q  Median      3Q     Max \n",
       "-443.02 -114.74  -45.85  131.54  592.32 \n",
       "\n",
       "Coefficients:\n",
       "              Estimate Std. Error t value Pr(>|t|)    \n",
       "(Intercept) -1188.2848   365.0736  -3.255  0.00193 ** \n",
       "ITEM_CNT       23.0316     9.0860   2.535  0.01407 *  \n",
       "PRICE           0.7479     0.2514   2.975  0.00432 ** \n",
       "MAXTEMP        13.6824     2.8273   4.839 1.06e-05 ***\n",
       "---\n",
       "Signif. codes:  0 '***' 0.001 '**' 0.01 '*' 0.05 '.' 0.1 ' ' 1\n",
       "\n",
       "Residual standard error: 207.1 on 56 degrees of freedom\n",
       "Multiple R-squared:  0.7088,\tAdjusted R-squared:  0.6932 \n",
       "F-statistic: 45.43 on 3 and 56 DF,  p-value: 5.119e-15\n"
      ]
     },
     "metadata": {},
     "output_type": "display_data"
    }
   ],
   "source": [
    "a = lm(QTY ~ ITEM_CNT + PRICE + MAXTEMP, vitamin_data)\n",
    "summary(a)"
   ]
  },
  {
   "cell_type": "code",
   "execution_count": 60,
   "metadata": {},
   "outputs": [
    {
     "data": {
      "text/html": [
       "0.721050407290398"
      ],
      "text/latex": [
       "0.721050407290398"
      ],
      "text/markdown": [
       "0.721050407290398"
      ],
      "text/plain": [
       "[1] 0.7210504"
      ]
     },
     "metadata": {},
     "output_type": "display_data"
    }
   ],
   "source": [
    "cor(vitamin_data$PRICE, vitamin_data$QTY)"
   ]
  },
  {
   "cell_type": "code",
   "execution_count": 61,
   "metadata": {},
   "outputs": [
    {
     "data": {
      "text/plain": [
       "\n",
       "Call:\n",
       "lm(formula = QTY ~ PRICE, data = vitamin_data)\n",
       "\n",
       "Residuals:\n",
       "    Min      1Q  Median      3Q     Max \n",
       "-510.73 -179.44    1.86   82.30  881.14 \n",
       "\n",
       "Coefficients:\n",
       "              Estimate Std. Error t value Pr(>|t|)    \n",
       "(Intercept) -1596.0629   275.6055  -5.791 3.00e-07 ***\n",
       "PRICE           1.2671     0.1599   7.925 8.17e-11 ***\n",
       "---\n",
       "Signif. codes:  0 '***' 0.001 '**' 0.01 '*' 0.05 '.' 0.1 ' ' 1\n",
       "\n",
       "Residual standard error: 261.2 on 58 degrees of freedom\n",
       "Multiple R-squared:  0.5199,\tAdjusted R-squared:  0.5116 \n",
       "F-statistic: 62.81 on 1 and 58 DF,  p-value: 8.17e-11\n"
      ]
     },
     "metadata": {},
     "output_type": "display_data"
    }
   ],
   "source": [
    "a = lm(QTY ~ PRICE, vitamin_data)\n",
    "summary(a)"
   ]
  },
  {
   "cell_type": "code",
   "execution_count": 62,
   "metadata": {},
   "outputs": [
    {
     "data": {
      "image/png": "[encoded data removed]",
      "text/plain": [
       "plot without title"
      ]
     },
     "metadata": {},
     "output_type": "display_data"
    }
   ],
   "source": [
    "plot(vitamin_data$PRICE, vitamin_data$QTY)\n",
    "abline(a, col = 2)"
   ]
  },
  {
   "cell_type": "code",
   "execution_count": 63,
   "metadata": {},
   "outputs": [
    {
     "data": {
      "text/html": [
       "<table>\n",
       "<thead><tr><th scope=col>X</th><th scope=col>YM</th><th scope=col>CATEGORY</th><th scope=col>ITEM_CNT</th><th scope=col>QTY</th><th scope=col>PRICE</th><th scope=col>MAXTEMP</th><th scope=col>SALEDAY</th><th scope=col>RAIN_DAY</th><th scope=col>HOLIDAY</th></tr></thead>\n",
       "<tbody>\n",
       "\t<tr><td> 61       </td><td>200901    </td><td>비타민음료</td><td> 1        </td><td>  27      </td><td>1300      </td><td> 4        </td><td>126753    </td><td>  151     </td><td>12        </td></tr>\n",
       "\t<tr><td> 62       </td><td>200902    </td><td>비타민음료</td><td> 2        </td><td>  29      </td><td>1300      </td><td> 9        </td><td>113399    </td><td> 3014     </td><td> 8        </td></tr>\n",
       "\t<tr><td> 63       </td><td>200903    </td><td>비타민음료</td><td> 2        </td><td>  67      </td><td>1300      </td><td>12        </td><td>129162    </td><td> 1383     </td><td> 9        </td></tr>\n",
       "\t<tr><td> 64       </td><td>200904    </td><td>비타민음료</td><td> 2        </td><td>  60      </td><td>1300      </td><td>19        </td><td>126277    </td><td> 3564     </td><td> 8        </td></tr>\n",
       "\t<tr><td> 65       </td><td>200905    </td><td>비타민음료</td><td> 2        </td><td>  74      </td><td>1300      </td><td>25        </td><td>129584    </td><td> 9288     </td><td>12        </td></tr>\n",
       "\t<tr><td> 66       </td><td>200906    </td><td>비타민음료</td><td> 2        </td><td>  84      </td><td>1300      </td><td>27        </td><td>123218    </td><td> 9998     </td><td> 8        </td></tr>\n",
       "\t<tr><td> 67       </td><td>200907    </td><td>비타민음료</td><td> 2        </td><td>  61      </td><td>1300      </td><td>28        </td><td>131083    </td><td>17405     </td><td> 8        </td></tr>\n",
       "\t<tr><td> 68       </td><td>200908    </td><td>비타민음료</td><td> 2        </td><td>  63      </td><td>1300      </td><td>29        </td><td>130040    </td><td> 7704     </td><td>10        </td></tr>\n",
       "\t<tr><td> 69       </td><td>200909    </td><td>비타민음료</td><td> 2        </td><td>  56      </td><td>1300      </td><td>27        </td><td>131989    </td><td> 4096     </td><td> 8        </td></tr>\n",
       "\t<tr><td> 70       </td><td>200910    </td><td>비타민음료</td><td> 2        </td><td>  50      </td><td>1300      </td><td>22        </td><td>136095    </td><td> 2824     </td><td>10        </td></tr>\n",
       "\t<tr><td> 71       </td><td>200911    </td><td>비타민음료</td><td> 2        </td><td>  31      </td><td>1300      </td><td>12        </td><td>136152    </td><td> 3684     </td><td> 9        </td></tr>\n",
       "\t<tr><td> 72       </td><td>200912    </td><td>비타민음료</td><td> 6        </td><td>  42      </td><td>1633      </td><td> 5        </td><td>137391    </td><td>  216     </td><td> 9        </td></tr>\n",
       "\t<tr><td> 73       </td><td>201001    </td><td>비타민음료</td><td> 6        </td><td> 226      </td><td>1633      </td><td> 2        </td><td>141145    </td><td>  792     </td><td>11        </td></tr>\n",
       "\t<tr><td> 74       </td><td>201002    </td><td>비타민음료</td><td> 6        </td><td> 185      </td><td>1633      </td><td> 7        </td><td>128528    </td><td> 4384     </td><td> 9        </td></tr>\n",
       "\t<tr><td> 75       </td><td>201003    </td><td>비타민음료</td><td> 6        </td><td> 229      </td><td>1633      </td><td>10        </td><td>145771    </td><td> 2940     </td><td> 9        </td></tr>\n",
       "\t<tr><td> 76       </td><td>201004    </td><td>비타민음료</td><td> 7        </td><td> 326      </td><td>1657      </td><td>15        </td><td>130412    </td><td> 5973     </td><td> 8        </td></tr>\n",
       "\t<tr><td> 77       </td><td>201005    </td><td>비타민음료</td><td> 7        </td><td> 445      </td><td>1657      </td><td>23        </td><td>143681    </td><td> 8656     </td><td>12        </td></tr>\n",
       "\t<tr><td> 78       </td><td>201006    </td><td>비타민음료</td><td> 5        </td><td> 438      </td><td>1780      </td><td>28        </td><td>145035    </td><td> 6325     </td><td> 8        </td></tr>\n",
       "\t<tr><td> 79       </td><td>201007    </td><td>비타민음료</td><td> 8        </td><td> 387      </td><td>1725      </td><td>29        </td><td>148561    </td><td>14930     </td><td> 9        </td></tr>\n",
       "\t<tr><td> 80       </td><td>201008    </td><td>비타민음료</td><td> 8        </td><td> 599      </td><td>1725      </td><td>31        </td><td>153056    </td><td>30531     </td><td> 9        </td></tr>\n",
       "\t<tr><td> 81       </td><td>201009    </td><td>비타민음료</td><td> 8        </td><td> 728      </td><td>1725      </td><td>27        </td><td>147804    </td><td>23150     </td><td>11        </td></tr>\n",
       "\t<tr><td> 82       </td><td>201010    </td><td>비타민음료</td><td> 8        </td><td> 916      </td><td>1725      </td><td>20        </td><td>155952    </td><td> 1337     </td><td>10        </td></tr>\n",
       "\t<tr><td> 83       </td><td>201011    </td><td>비타민음료</td><td> 8        </td><td> 687      </td><td>1725      </td><td>13        </td><td>154482    </td><td>    0     </td><td> 8        </td></tr>\n",
       "\t<tr><td> 84       </td><td>201012    </td><td>비타민음료</td><td> 9        </td><td> 601      </td><td>1744      </td><td> 5        </td><td>161292    </td><td>  886     </td><td> 8        </td></tr>\n",
       "\t<tr><td> 85       </td><td>201101    </td><td>비타민음료</td><td> 9        </td><td> 581      </td><td>1744      </td><td>-1        </td><td>163610    </td><td>   82     </td><td>10        </td></tr>\n",
       "\t<tr><td> 86       </td><td>201102    </td><td>비타민음료</td><td> 9        </td><td> 691      </td><td>1744      </td><td> 7        </td><td>149737    </td><td> 5587     </td><td>11        </td></tr>\n",
       "\t<tr><td> 87       </td><td>201103    </td><td>비타민음료</td><td> 9        </td><td> 452      </td><td>1744      </td><td>10        </td><td>169838    </td><td>  919     </td><td> 9        </td></tr>\n",
       "\t<tr><td> 88       </td><td>201104    </td><td>비타민음료</td><td> 9        </td><td> 511      </td><td>1744      </td><td>17        </td><td>167577    </td><td> 8244     </td><td> 9        </td></tr>\n",
       "\t<tr><td> 89       </td><td>201105    </td><td>비타민음료</td><td>12        </td><td> 660      </td><td>1758      </td><td>23        </td><td>176452    </td><td> 7345     </td><td>10        </td></tr>\n",
       "\t<tr><td> 90       </td><td>201106    </td><td>비타민음료</td><td>12        </td><td>1088      </td><td>1758      </td><td>27        </td><td>173664    </td><td>25001     </td><td> 9        </td></tr>\n",
       "\t<tr><td> 91       </td><td>201107    </td><td>비타민음료</td><td>11        </td><td> 992      </td><td>1800      </td><td>29        </td><td>182676    </td><td>43058     </td><td>10        </td></tr>\n",
       "\t<tr><td> 92       </td><td>201108    </td><td>비타민음료</td><td>11        </td><td>1022      </td><td>1800      </td><td>29        </td><td>186850    </td><td>20554     </td><td> 9        </td></tr>\n",
       "\t<tr><td> 93       </td><td>201109    </td><td>비타민음료</td><td>11        </td><td> 991      </td><td>1800      </td><td>26        </td><td>184270    </td><td> 5373     </td><td>10        </td></tr>\n",
       "\t<tr><td> 94       </td><td>201110    </td><td>비타민음료</td><td>10        </td><td> 734      </td><td>1830      </td><td>20        </td><td>194286    </td><td> 4146     </td><td>11        </td></tr>\n",
       "\t<tr><td> 95       </td><td>201111    </td><td>비타민음료</td><td>11        </td><td> 554      </td><td>1836      </td><td>16        </td><td>191703    </td><td>10027     </td><td> 8        </td></tr>\n",
       "\t<tr><td> 96       </td><td>201112    </td><td>비타민음료</td><td>11        </td><td> 460      </td><td>1836      </td><td> 5        </td><td>201541    </td><td>  489     </td><td> 9        </td></tr>\n",
       "\t<tr><td> 97       </td><td>201201    </td><td>비타민음료</td><td>11        </td><td> 481      </td><td>1836      </td><td> 3        </td><td>203133    </td><td>  362     </td><td>11        </td></tr>\n",
       "\t<tr><td> 98       </td><td>201202    </td><td>비타민음료</td><td>11        </td><td> 441      </td><td>1836      </td><td> 5        </td><td>186880    </td><td>  377     </td><td> 8        </td></tr>\n",
       "\t<tr><td> 99       </td><td>201203    </td><td>비타민음료</td><td>11        </td><td> 545      </td><td>1836      </td><td>11        </td><td>212945    </td><td> 6556     </td><td>10        </td></tr>\n",
       "\t<tr><td>100       </td><td>201204    </td><td>비타민음료</td><td>11        </td><td> 659      </td><td>1836      </td><td>18        </td><td>209151    </td><td>17042     </td><td> 9        </td></tr>\n",
       "\t<tr><td>101       </td><td>201205    </td><td>비타민음료</td><td>13        </td><td> 771      </td><td>1831      </td><td>24        </td><td>215673    </td><td> 2095     </td><td>10        </td></tr>\n",
       "\t<tr><td>102       </td><td>201206    </td><td>비타민음료</td><td>14        </td><td> 776      </td><td>1836      </td><td>28        </td><td>215525    </td><td> 8865     </td><td>10        </td></tr>\n",
       "\t<tr><td>103       </td><td>201207    </td><td>비타민음료</td><td>16        </td><td> 893      </td><td>1844      </td><td>29        </td><td>203590    </td><td>25076     </td><td> 9        </td></tr>\n",
       "\t<tr><td>104       </td><td>201208    </td><td>비타민음료</td><td>15        </td><td>1338      </td><td>1840      </td><td>30        </td><td>228142    </td><td>32385     </td><td> 9        </td></tr>\n",
       "\t<tr><td>105       </td><td>201209    </td><td>비타민음료</td><td>14        </td><td> 792      </td><td>1900      </td><td>25        </td><td>223581    </td><td>23569     </td><td>10        </td></tr>\n",
       "\t<tr><td>106       </td><td>201210    </td><td>비타민음료</td><td>14        </td><td>1222      </td><td>1900      </td><td>21        </td><td>233331    </td><td>11111     </td><td>10        </td></tr>\n",
       "\t<tr><td>107       </td><td>201211    </td><td>비타민음료</td><td>14        </td><td> 833      </td><td>1900      </td><td>11        </td><td>229144    </td><td> 4805     </td><td> 8        </td></tr>\n",
       "\t<tr><td>108       </td><td>201212    </td><td>비타민음료</td><td>14        </td><td> 727      </td><td>1900      </td><td> 2        </td><td>239129    </td><td> 3706     </td><td>11        </td></tr>\n",
       "\t<tr><td>109       </td><td>201301    </td><td>비타민음료</td><td>16        </td><td> 432      </td><td>1888      </td><td> 2        </td><td>240416    </td><td> 2528     </td><td> 9        </td></tr>\n",
       "\t<tr><td>110       </td><td>201302    </td><td>비타민음료</td><td>16        </td><td> 447      </td><td>1888      </td><td> 5        </td><td>217015    </td><td> 6667     </td><td> 9        </td></tr>\n",
       "\t<tr><td>111       </td><td>201303    </td><td>비타민음료</td><td>18        </td><td> 623      </td><td>1944      </td><td>12        </td><td>243648    </td><td> 4364     </td><td>11        </td></tr>\n",
       "\t<tr><td>112       </td><td>201304    </td><td>비타민음료</td><td>20        </td><td>1089      </td><td>1755      </td><td>15        </td><td>237340    </td><td> 6727     </td><td> 8        </td></tr>\n",
       "\t<tr><td>113       </td><td>201305    </td><td>비타민음료</td><td>21        </td><td>1524      </td><td>1767      </td><td>23        </td><td>245068    </td><td>17217     </td><td>10        </td></tr>\n",
       "\t<tr><td>114       </td><td>201306    </td><td>비타민음료</td><td>21        </td><td> 978      </td><td>1933      </td><td>28        </td><td>236180    </td><td> 7360     </td><td>11        </td></tr>\n",
       "\t<tr><td>115       </td><td>201307    </td><td>비타민음료</td><td>20        </td><td>1036      </td><td>1930      </td><td>29        </td><td>241687    </td><td>41344     </td><td> 8        </td></tr>\n",
       "\t<tr><td>116       </td><td>201308    </td><td>비타민음료</td><td>19        </td><td>1155      </td><td>1879      </td><td>31        </td><td>240142    </td><td>22284     </td><td>10        </td></tr>\n",
       "\t<tr><td>117       </td><td>201309    </td><td>비타민음료</td><td>20        </td><td> 822      </td><td>1885      </td><td>26        </td><td>231662    </td><td>13699     </td><td>12        </td></tr>\n",
       "\t<tr><td>118       </td><td>201310    </td><td>비타민음료</td><td>19        </td><td> 730      </td><td>1932      </td><td>21        </td><td>239981    </td><td> 3011     </td><td>10        </td></tr>\n",
       "\t<tr><td>119       </td><td>201311    </td><td>비타민음료</td><td>20        </td><td> 502      </td><td>1935      </td><td>12        </td><td>232854    </td><td> 2944     </td><td> 9        </td></tr>\n",
       "\t<tr><td>120       </td><td>201312    </td><td>비타민음료</td><td>20        </td><td> 345      </td><td>1935      </td><td> 5        </td><td>240458    </td><td>  202     </td><td>10        </td></tr>\n",
       "</tbody>\n",
       "</table>\n"
      ],
      "text/latex": [
       "\\begin{tabular}{r|llllllllll}\n",
       " X & YM & CATEGORY & ITEM\\_CNT & QTY & PRICE & MAXTEMP & SALEDAY & RAIN\\_DAY & HOLIDAY\\\\\n",
       "\\hline\n",
       "\t  61        & 200901     & 비타민음료 &  1         &   27       & 1300       &  4         & 126753     &   151      & 12        \\\\\n",
       "\t  62        & 200902     & 비타민음료 &  2         &   29       & 1300       &  9         & 113399     &  3014      &  8        \\\\\n",
       "\t  63        & 200903     & 비타민음료 &  2         &   67       & 1300       & 12         & 129162     &  1383      &  9        \\\\\n",
       "\t  64        & 200904     & 비타민음료 &  2         &   60       & 1300       & 19         & 126277     &  3564      &  8        \\\\\n",
       "\t  65        & 200905     & 비타민음료 &  2         &   74       & 1300       & 25         & 129584     &  9288      & 12        \\\\\n",
       "\t  66        & 200906     & 비타민음료 &  2         &   84       & 1300       & 27         & 123218     &  9998      &  8        \\\\\n",
       "\t  67        & 200907     & 비타민음료 &  2         &   61       & 1300       & 28         & 131083     & 17405      &  8        \\\\\n",
       "\t  68        & 200908     & 비타민음료 &  2         &   63       & 1300       & 29         & 130040     &  7704      & 10        \\\\\n",
       "\t  69        & 200909     & 비타민음료 &  2         &   56       & 1300       & 27         & 131989     &  4096      &  8        \\\\\n",
       "\t  70        & 200910     & 비타민음료 &  2         &   50       & 1300       & 22         & 136095     &  2824      & 10        \\\\\n",
       "\t  71        & 200911     & 비타민음료 &  2         &   31       & 1300       & 12         & 136152     &  3684      &  9        \\\\\n",
       "\t  72        & 200912     & 비타민음료 &  6         &   42       & 1633       &  5         & 137391     &   216      &  9        \\\\\n",
       "\t  73        & 201001     & 비타민음료 &  6         &  226       & 1633       &  2         & 141145     &   792      & 11        \\\\\n",
       "\t  74        & 201002     & 비타민음료 &  6         &  185       & 1633       &  7         & 128528     &  4384      &  9        \\\\\n",
       "\t  75        & 201003     & 비타민음료 &  6         &  229       & 1633       & 10         & 145771     &  2940      &  9        \\\\\n",
       "\t  76        & 201004     & 비타민음료 &  7         &  326       & 1657       & 15         & 130412     &  5973      &  8        \\\\\n",
       "\t  77        & 201005     & 비타민음료 &  7         &  445       & 1657       & 23         & 143681     &  8656      & 12        \\\\\n",
       "\t  78        & 201006     & 비타민음료 &  5         &  438       & 1780       & 28         & 145035     &  6325      &  8        \\\\\n",
       "\t  79        & 201007     & 비타민음료 &  8         &  387       & 1725       & 29         & 148561     & 14930      &  9        \\\\\n",
       "\t  80        & 201008     & 비타민음료 &  8         &  599       & 1725       & 31         & 153056     & 30531      &  9        \\\\\n",
       "\t  81        & 201009     & 비타민음료 &  8         &  728       & 1725       & 27         & 147804     & 23150      & 11        \\\\\n",
       "\t  82        & 201010     & 비타민음료 &  8         &  916       & 1725       & 20         & 155952     &  1337      & 10        \\\\\n",
       "\t  83        & 201011     & 비타민음료 &  8         &  687       & 1725       & 13         & 154482     &     0      &  8        \\\\\n",
       "\t  84        & 201012     & 비타민음료 &  9         &  601       & 1744       &  5         & 161292     &   886      &  8        \\\\\n",
       "\t  85        & 201101     & 비타민음료 &  9         &  581       & 1744       & -1         & 163610     &    82      & 10        \\\\\n",
       "\t  86        & 201102     & 비타민음료 &  9         &  691       & 1744       &  7         & 149737     &  5587      & 11        \\\\\n",
       "\t  87        & 201103     & 비타민음료 &  9         &  452       & 1744       & 10         & 169838     &   919      &  9        \\\\\n",
       "\t  88        & 201104     & 비타민음료 &  9         &  511       & 1744       & 17         & 167577     &  8244      &  9        \\\\\n",
       "\t  89        & 201105     & 비타민음료 & 12         &  660       & 1758       & 23         & 176452     &  7345      & 10        \\\\\n",
       "\t  90        & 201106     & 비타민음료 & 12         & 1088       & 1758       & 27         & 173664     & 25001      &  9        \\\\\n",
       "\t  91        & 201107     & 비타민음료 & 11         &  992       & 1800       & 29         & 182676     & 43058      & 10        \\\\\n",
       "\t  92        & 201108     & 비타민음료 & 11         & 1022       & 1800       & 29         & 186850     & 20554      &  9        \\\\\n",
       "\t  93        & 201109     & 비타민음료 & 11         &  991       & 1800       & 26         & 184270     &  5373      & 10        \\\\\n",
       "\t  94        & 201110     & 비타민음료 & 10         &  734       & 1830       & 20         & 194286     &  4146      & 11        \\\\\n",
       "\t  95        & 201111     & 비타민음료 & 11         &  554       & 1836       & 16         & 191703     & 10027      &  8        \\\\\n",
       "\t  96        & 201112     & 비타민음료 & 11         &  460       & 1836       &  5         & 201541     &   489      &  9        \\\\\n",
       "\t  97        & 201201     & 비타민음료 & 11         &  481       & 1836       &  3         & 203133     &   362      & 11        \\\\\n",
       "\t  98        & 201202     & 비타민음료 & 11         &  441       & 1836       &  5         & 186880     &   377      &  8        \\\\\n",
       "\t  99        & 201203     & 비타민음료 & 11         &  545       & 1836       & 11         & 212945     &  6556      & 10        \\\\\n",
       "\t 100        & 201204     & 비타민음료 & 11         &  659       & 1836       & 18         & 209151     & 17042      &  9        \\\\\n",
       "\t 101        & 201205     & 비타민음료 & 13         &  771       & 1831       & 24         & 215673     &  2095      & 10        \\\\\n",
       "\t 102        & 201206     & 비타민음료 & 14         &  776       & 1836       & 28         & 215525     &  8865      & 10        \\\\\n",
       "\t 103        & 201207     & 비타민음료 & 16         &  893       & 1844       & 29         & 203590     & 25076      &  9        \\\\\n",
       "\t 104        & 201208     & 비타민음료 & 15         & 1338       & 1840       & 30         & 228142     & 32385      &  9        \\\\\n",
       "\t 105        & 201209     & 비타민음료 & 14         &  792       & 1900       & 25         & 223581     & 23569      & 10        \\\\\n",
       "\t 106        & 201210     & 비타민음료 & 14         & 1222       & 1900       & 21         & 233331     & 11111      & 10        \\\\\n",
       "\t 107        & 201211     & 비타민음료 & 14         &  833       & 1900       & 11         & 229144     &  4805      &  8        \\\\\n",
       "\t 108        & 201212     & 비타민음료 & 14         &  727       & 1900       &  2         & 239129     &  3706      & 11        \\\\\n",
       "\t 109        & 201301     & 비타민음료 & 16         &  432       & 1888       &  2         & 240416     &  2528      &  9        \\\\\n",
       "\t 110        & 201302     & 비타민음료 & 16         &  447       & 1888       &  5         & 217015     &  6667      &  9        \\\\\n",
       "\t 111        & 201303     & 비타민음료 & 18         &  623       & 1944       & 12         & 243648     &  4364      & 11        \\\\\n",
       "\t 112        & 201304     & 비타민음료 & 20         & 1089       & 1755       & 15         & 237340     &  6727      &  8        \\\\\n",
       "\t 113        & 201305     & 비타민음료 & 21         & 1524       & 1767       & 23         & 245068     & 17217      & 10        \\\\\n",
       "\t 114        & 201306     & 비타민음료 & 21         &  978       & 1933       & 28         & 236180     &  7360      & 11        \\\\\n",
       "\t 115        & 201307     & 비타민음료 & 20         & 1036       & 1930       & 29         & 241687     & 41344      &  8        \\\\\n",
       "\t 116        & 201308     & 비타민음료 & 19         & 1155       & 1879       & 31         & 240142     & 22284      & 10        \\\\\n",
       "\t 117        & 201309     & 비타민음료 & 20         &  822       & 1885       & 26         & 231662     & 13699      & 12        \\\\\n",
       "\t 118        & 201310     & 비타민음료 & 19         &  730       & 1932       & 21         & 239981     &  3011      & 10        \\\\\n",
       "\t 119        & 201311     & 비타민음료 & 20         &  502       & 1935       & 12         & 232854     &  2944      &  9        \\\\\n",
       "\t 120        & 201312     & 비타민음료 & 20         &  345       & 1935       &  5         & 240458     &   202      & 10        \\\\\n",
       "\\end{tabular}\n"
      ],
      "text/markdown": [
       "\n",
       "| X | YM | CATEGORY | ITEM_CNT | QTY | PRICE | MAXTEMP | SALEDAY | RAIN_DAY | HOLIDAY |\n",
       "|---|---|---|---|---|---|---|---|---|---|\n",
       "|  61        | 200901     | 비타민음료 |  1         |   27       | 1300       |  4         | 126753     |   151      | 12         |\n",
       "|  62        | 200902     | 비타민음료 |  2         |   29       | 1300       |  9         | 113399     |  3014      |  8         |\n",
       "|  63        | 200903     | 비타민음료 |  2         |   67       | 1300       | 12         | 129162     |  1383      |  9         |\n",
       "|  64        | 200904     | 비타민음료 |  2         |   60       | 1300       | 19         | 126277     |  3564      |  8         |\n",
       "|  65        | 200905     | 비타민음료 |  2         |   74       | 1300       | 25         | 129584     |  9288      | 12         |\n",
       "|  66        | 200906     | 비타민음료 |  2         |   84       | 1300       | 27         | 123218     |  9998      |  8         |\n",
       "|  67        | 200907     | 비타민음료 |  2         |   61       | 1300       | 28         | 131083     | 17405      |  8         |\n",
       "|  68        | 200908     | 비타민음료 |  2         |   63       | 1300       | 29         | 130040     |  7704      | 10         |\n",
       "|  69        | 200909     | 비타민음료 |  2         |   56       | 1300       | 27         | 131989     |  4096      |  8         |\n",
       "|  70        | 200910     | 비타민음료 |  2         |   50       | 1300       | 22         | 136095     |  2824      | 10         |\n",
       "|  71        | 200911     | 비타민음료 |  2         |   31       | 1300       | 12         | 136152     |  3684      |  9         |\n",
       "|  72        | 200912     | 비타민음료 |  6         |   42       | 1633       |  5         | 137391     |   216      |  9         |\n",
       "|  73        | 201001     | 비타민음료 |  6         |  226       | 1633       |  2         | 141145     |   792      | 11         |\n",
       "|  74        | 201002     | 비타민음료 |  6         |  185       | 1633       |  7         | 128528     |  4384      |  9         |\n",
       "|  75        | 201003     | 비타민음료 |  6         |  229       | 1633       | 10         | 145771     |  2940      |  9         |\n",
       "|  76        | 201004     | 비타민음료 |  7         |  326       | 1657       | 15         | 130412     |  5973      |  8         |\n",
       "|  77        | 201005     | 비타민음료 |  7         |  445       | 1657       | 23         | 143681     |  8656      | 12         |\n",
       "|  78        | 201006     | 비타민음료 |  5         |  438       | 1780       | 28         | 145035     |  6325      |  8         |\n",
       "|  79        | 201007     | 비타민음료 |  8         |  387       | 1725       | 29         | 148561     | 14930      |  9         |\n",
       "|  80        | 201008     | 비타민음료 |  8         |  599       | 1725       | 31         | 153056     | 30531      |  9         |\n",
       "|  81        | 201009     | 비타민음료 |  8         |  728       | 1725       | 27         | 147804     | 23150      | 11         |\n",
       "|  82        | 201010     | 비타민음료 |  8         |  916       | 1725       | 20         | 155952     |  1337      | 10         |\n",
       "|  83        | 201011     | 비타민음료 |  8         |  687       | 1725       | 13         | 154482     |     0      |  8         |\n",
       "|  84        | 201012     | 비타민음료 |  9         |  601       | 1744       |  5         | 161292     |   886      |  8         |\n",
       "|  85        | 201101     | 비타민음료 |  9         |  581       | 1744       | -1         | 163610     |    82      | 10         |\n",
       "|  86        | 201102     | 비타민음료 |  9         |  691       | 1744       |  7         | 149737     |  5587      | 11         |\n",
       "|  87        | 201103     | 비타민음료 |  9         |  452       | 1744       | 10         | 169838     |   919      |  9         |\n",
       "|  88        | 201104     | 비타민음료 |  9         |  511       | 1744       | 17         | 167577     |  8244      |  9         |\n",
       "|  89        | 201105     | 비타민음료 | 12         |  660       | 1758       | 23         | 176452     |  7345      | 10         |\n",
       "|  90        | 201106     | 비타민음료 | 12         | 1088       | 1758       | 27         | 173664     | 25001      |  9         |\n",
       "|  91        | 201107     | 비타민음료 | 11         |  992       | 1800       | 29         | 182676     | 43058      | 10         |\n",
       "|  92        | 201108     | 비타민음료 | 11         | 1022       | 1800       | 29         | 186850     | 20554      |  9         |\n",
       "|  93        | 201109     | 비타민음료 | 11         |  991       | 1800       | 26         | 184270     |  5373      | 10         |\n",
       "|  94        | 201110     | 비타민음료 | 10         |  734       | 1830       | 20         | 194286     |  4146      | 11         |\n",
       "|  95        | 201111     | 비타민음료 | 11         |  554       | 1836       | 16         | 191703     | 10027      |  8         |\n",
       "|  96        | 201112     | 비타민음료 | 11         |  460       | 1836       |  5         | 201541     |   489      |  9         |\n",
       "|  97        | 201201     | 비타민음료 | 11         |  481       | 1836       |  3         | 203133     |   362      | 11         |\n",
       "|  98        | 201202     | 비타민음료 | 11         |  441       | 1836       |  5         | 186880     |   377      |  8         |\n",
       "|  99        | 201203     | 비타민음료 | 11         |  545       | 1836       | 11         | 212945     |  6556      | 10         |\n",
       "| 100        | 201204     | 비타민음료 | 11         |  659       | 1836       | 18         | 209151     | 17042      |  9         |\n",
       "| 101        | 201205     | 비타민음료 | 13         |  771       | 1831       | 24         | 215673     |  2095      | 10         |\n",
       "| 102        | 201206     | 비타민음료 | 14         |  776       | 1836       | 28         | 215525     |  8865      | 10         |\n",
       "| 103        | 201207     | 비타민음료 | 16         |  893       | 1844       | 29         | 203590     | 25076      |  9         |\n",
       "| 104        | 201208     | 비타민음료 | 15         | 1338       | 1840       | 30         | 228142     | 32385      |  9         |\n",
       "| 105        | 201209     | 비타민음료 | 14         |  792       | 1900       | 25         | 223581     | 23569      | 10         |\n",
       "| 106        | 201210     | 비타민음료 | 14         | 1222       | 1900       | 21         | 233331     | 11111      | 10         |\n",
       "| 107        | 201211     | 비타민음료 | 14         |  833       | 1900       | 11         | 229144     |  4805      |  8         |\n",
       "| 108        | 201212     | 비타민음료 | 14         |  727       | 1900       |  2         | 239129     |  3706      | 11         |\n",
       "| 109        | 201301     | 비타민음료 | 16         |  432       | 1888       |  2         | 240416     |  2528      |  9         |\n",
       "| 110        | 201302     | 비타민음료 | 16         |  447       | 1888       |  5         | 217015     |  6667      |  9         |\n",
       "| 111        | 201303     | 비타민음료 | 18         |  623       | 1944       | 12         | 243648     |  4364      | 11         |\n",
       "| 112        | 201304     | 비타민음료 | 20         | 1089       | 1755       | 15         | 237340     |  6727      |  8         |\n",
       "| 113        | 201305     | 비타민음료 | 21         | 1524       | 1767       | 23         | 245068     | 17217      | 10         |\n",
       "| 114        | 201306     | 비타민음료 | 21         |  978       | 1933       | 28         | 236180     |  7360      | 11         |\n",
       "| 115        | 201307     | 비타민음료 | 20         | 1036       | 1930       | 29         | 241687     | 41344      |  8         |\n",
       "| 116        | 201308     | 비타민음료 | 19         | 1155       | 1879       | 31         | 240142     | 22284      | 10         |\n",
       "| 117        | 201309     | 비타민음료 | 20         |  822       | 1885       | 26         | 231662     | 13699      | 12         |\n",
       "| 118        | 201310     | 비타민음료 | 19         |  730       | 1932       | 21         | 239981     |  3011      | 10         |\n",
       "| 119        | 201311     | 비타민음료 | 20         |  502       | 1935       | 12         | 232854     |  2944      |  9         |\n",
       "| 120        | 201312     | 비타민음료 | 20         |  345       | 1935       |  5         | 240458     |   202      | 10         |\n",
       "\n"
      ],
      "text/plain": [
       "   X   YM     CATEGORY   ITEM_CNT QTY  PRICE MAXTEMP SALEDAY RAIN_DAY HOLIDAY\n",
       "1   61 200901 비타민음료  1         27 1300   4      126753    151    12     \n",
       "2   62 200902 비타민음료  2         29 1300   9      113399   3014     8     \n",
       "3   63 200903 비타민음료  2         67 1300  12      129162   1383     9     \n",
       "4   64 200904 비타민음료  2         60 1300  19      126277   3564     8     \n",
       "5   65 200905 비타민음료  2         74 1300  25      129584   9288    12     \n",
       "6   66 200906 비타민음료  2         84 1300  27      123218   9998     8     \n",
       "7   67 200907 비타민음료  2         61 1300  28      131083  17405     8     \n",
       "8   68 200908 비타민음료  2         63 1300  29      130040   7704    10     \n",
       "9   69 200909 비타민음료  2         56 1300  27      131989   4096     8     \n",
       "10  70 200910 비타민음료  2         50 1300  22      136095   2824    10     \n",
       "11  71 200911 비타민음료  2         31 1300  12      136152   3684     9     \n",
       "12  72 200912 비타민음료  6         42 1633   5      137391    216     9     \n",
       "13  73 201001 비타민음료  6        226 1633   2      141145    792    11     \n",
       "14  74 201002 비타민음료  6        185 1633   7      128528   4384     9     \n",
       "15  75 201003 비타민음료  6        229 1633  10      145771   2940     9     \n",
       "16  76 201004 비타민음료  7        326 1657  15      130412   5973     8     \n",
       "17  77 201005 비타민음료  7        445 1657  23      143681   8656    12     \n",
       "18  78 201006 비타민음료  5        438 1780  28      145035   6325     8     \n",
       "19  79 201007 비타민음료  8        387 1725  29      148561  14930     9     \n",
       "20  80 201008 비타민음료  8        599 1725  31      153056  30531     9     \n",
       "21  81 201009 비타민음료  8        728 1725  27      147804  23150    11     \n",
       "22  82 201010 비타민음료  8        916 1725  20      155952   1337    10     \n",
       "23  83 201011 비타민음료  8        687 1725  13      154482      0     8     \n",
       "24  84 201012 비타민음료  9        601 1744   5      161292    886     8     \n",
       "25  85 201101 비타민음료  9        581 1744  -1      163610     82    10     \n",
       "26  86 201102 비타민음료  9        691 1744   7      149737   5587    11     \n",
       "27  87 201103 비타민음료  9        452 1744  10      169838    919     9     \n",
       "28  88 201104 비타민음료  9        511 1744  17      167577   8244     9     \n",
       "29  89 201105 비타민음료 12        660 1758  23      176452   7345    10     \n",
       "30  90 201106 비타민음료 12       1088 1758  27      173664  25001     9     \n",
       "31  91 201107 비타민음료 11        992 1800  29      182676  43058    10     \n",
       "32  92 201108 비타민음료 11       1022 1800  29      186850  20554     9     \n",
       "33  93 201109 비타민음료 11        991 1800  26      184270   5373    10     \n",
       "34  94 201110 비타민음료 10        734 1830  20      194286   4146    11     \n",
       "35  95 201111 비타민음료 11        554 1836  16      191703  10027     8     \n",
       "36  96 201112 비타민음료 11        460 1836   5      201541    489     9     \n",
       "37  97 201201 비타민음료 11        481 1836   3      203133    362    11     \n",
       "38  98 201202 비타민음료 11        441 1836   5      186880    377     8     \n",
       "39  99 201203 비타민음료 11        545 1836  11      212945   6556    10     \n",
       "40 100 201204 비타민음료 11        659 1836  18      209151  17042     9     \n",
       "41 101 201205 비타민음료 13        771 1831  24      215673   2095    10     \n",
       "42 102 201206 비타민음료 14        776 1836  28      215525   8865    10     \n",
       "43 103 201207 비타민음료 16        893 1844  29      203590  25076     9     \n",
       "44 104 201208 비타민음료 15       1338 1840  30      228142  32385     9     \n",
       "45 105 201209 비타민음료 14        792 1900  25      223581  23569    10     \n",
       "46 106 201210 비타민음료 14       1222 1900  21      233331  11111    10     \n",
       "47 107 201211 비타민음료 14        833 1900  11      229144   4805     8     \n",
       "48 108 201212 비타민음료 14        727 1900   2      239129   3706    11     \n",
       "49 109 201301 비타민음료 16        432 1888   2      240416   2528     9     \n",
       "50 110 201302 비타민음료 16        447 1888   5      217015   6667     9     \n",
       "51 111 201303 비타민음료 18        623 1944  12      243648   4364    11     \n",
       "52 112 201304 비타민음료 20       1089 1755  15      237340   6727     8     \n",
       "53 113 201305 비타민음료 21       1524 1767  23      245068  17217    10     \n",
       "54 114 201306 비타민음료 21        978 1933  28      236180   7360    11     \n",
       "55 115 201307 비타민음료 20       1036 1930  29      241687  41344     8     \n",
       "56 116 201308 비타민음료 19       1155 1879  31      240142  22284    10     \n",
       "57 117 201309 비타민음료 20        822 1885  26      231662  13699    12     \n",
       "58 118 201310 비타민음료 19        730 1932  21      239981   3011    10     \n",
       "59 119 201311 비타민음료 20        502 1935  12      232854   2944     9     \n",
       "60 120 201312 비타민음료 20        345 1935   5      240458    202    10     "
      ]
     },
     "metadata": {},
     "output_type": "display_data"
    }
   ],
   "source": [
    "vitamin_data"
   ]
  },
  {
   "cell_type": "code",
   "execution_count": 64,
   "metadata": {},
   "outputs": [],
   "source": [
    "vitamin_data_new = vitamin_data %>%\n",
    "    filter(PRICE != '1300')"
   ]
  },
  {
   "cell_type": "code",
   "execution_count": 65,
   "metadata": {},
   "outputs": [
    {
     "data": {
      "text/plain": [
       "\n",
       "Call:\n",
       "lm(formula = QTY ~ ITEM_CNT + PRICE + MAXTEMP, data = vitamin_data_new)\n",
       "\n",
       "Residuals:\n",
       "    Min      1Q  Median      3Q     Max \n",
       "-369.03 -145.86  -42.01  187.27  443.93 \n",
       "\n",
       "Coefficients:\n",
       "            Estimate Std. Error t value Pr(>|t|)    \n",
       "(Intercept) 466.6399   904.6961   0.516  0.60852    \n",
       "ITEM_CNT     33.3261    10.8076   3.084  0.00349 ** \n",
       "PRICE        -0.2581     0.5557  -0.465  0.64449    \n",
       "MAXTEMP      16.0747     3.1519   5.100 6.59e-06 ***\n",
       "---\n",
       "Signif. codes:  0 '***' 0.001 '**' 0.01 '*' 0.05 '.' 0.1 ' ' 1\n",
       "\n",
       "Residual standard error: 213.7 on 45 degrees of freedom\n",
       "Multiple R-squared:  0.5569,\tAdjusted R-squared:  0.5274 \n",
       "F-statistic: 18.86 on 3 and 45 DF,  p-value: 4.584e-08\n"
      ]
     },
     "metadata": {},
     "output_type": "display_data"
    }
   ],
   "source": [
    "a = lm(QTY ~ ITEM_CNT + PRICE + MAXTEMP, vitamin_data_new)\n",
    "summary(a)"
   ]
  },
  {
   "cell_type": "code",
   "execution_count": 66,
   "metadata": {},
   "outputs": [
    {
     "data": {
      "text/html": [
       "0.38458967932225"
      ],
      "text/latex": [
       "0.38458967932225"
      ],
      "text/markdown": [
       "0.38458967932225"
      ],
      "text/plain": [
       "[1] 0.3845897"
      ]
     },
     "metadata": {},
     "output_type": "display_data"
    }
   ],
   "source": [
    "cor(vitamin_data_new$PRICE, vitamin_data_new$QTY)"
   ]
  },
  {
   "cell_type": "code",
   "execution_count": 67,
   "metadata": {},
   "outputs": [
    {
     "data": {
      "text/plain": [
       "\n",
       "Call:\n",
       "lm(formula = QTY ~ PRICE, data = vitamin_data_new)\n",
       "\n",
       "Residuals:\n",
       "    Min      1Q  Median      3Q     Max \n",
       "-516.55 -219.36  -23.44  143.09  883.76 \n",
       "\n",
       "Coefficients:\n",
       "              Estimate Std. Error t value Pr(>|t|)   \n",
       "(Intercept) -1687.4818   832.6529  -2.027  0.04839 * \n",
       "PRICE           1.3173     0.4612   2.856  0.00636 **\n",
       "---\n",
       "Signif. codes:  0 '***' 0.001 '**' 0.01 '*' 0.05 '.' 0.1 ' ' 1\n",
       "\n",
       "Residual standard error: 290 on 47 degrees of freedom\n",
       "Multiple R-squared:  0.1479,\tAdjusted R-squared:  0.1298 \n",
       "F-statistic: 8.158 on 1 and 47 DF,  p-value: 0.006363\n"
      ]
     },
     "metadata": {},
     "output_type": "display_data"
    }
   ],
   "source": [
    "a = lm(QTY ~ PRICE, vitamin_data_new)\n",
    "summary(a)"
   ]
  },
  {
   "cell_type": "code",
   "execution_count": 68,
   "metadata": {},
   "outputs": [
    {
     "data": {
      "image/png": "[encoded data removed]",
      "text/plain": [
       "plot without title"
      ]
     },
     "metadata": {},
     "output_type": "display_data"
    }
   ],
   "source": [
    "plot(vitamin_data_new$PRICE, vitamin_data_new$QTY)\n",
    "abline(a, col = 2)"
   ]
  },
  {
   "cell_type": "code",
   "execution_count": 69,
   "metadata": {},
   "outputs": [
    {
     "data": {
      "text/plain": [
       "\n",
       "Call:\n",
       "lm(formula = QTY ~ ITEM_CNT + MAXTEMP, data = vitamin_data_new)\n",
       "\n",
       "Residuals:\n",
       "    Min      1Q  Median      3Q     Max \n",
       "-371.83 -152.35  -31.18  193.39  487.03 \n",
       "\n",
       "Coefficients:\n",
       "            Estimate Std. Error t value Pr(>|t|)    \n",
       "(Intercept)   48.652     93.642   0.520    0.606    \n",
       "ITEM_CNT      29.370      6.599   4.451 5.40e-05 ***\n",
       "MAXTEMP       16.154      3.120   5.177 4.84e-06 ***\n",
       "---\n",
       "Signif. codes:  0 '***' 0.001 '**' 0.01 '*' 0.05 '.' 0.1 ' ' 1\n",
       "\n",
       "Residual standard error: 211.9 on 46 degrees of freedom\n",
       "Multiple R-squared:  0.5548,\tAdjusted R-squared:  0.5355 \n",
       "F-statistic: 28.66 on 2 and 46 DF,  p-value: 8.251e-09\n"
      ]
     },
     "metadata": {},
     "output_type": "display_data"
    }
   ],
   "source": [
    "a = lm(QTY ~ ITEM_CNT + MAXTEMP, vitamin_data_new)\n",
    "summary(a)"
   ]
  },
  {
   "cell_type": "code",
   "execution_count": 70,
   "metadata": {},
   "outputs": [
    {
     "data": {
      "text/html": [
       "0.751573708084269"
      ],
      "text/latex": [
       "0.751573708084269"
      ],
      "text/markdown": [
       "0.751573708084269"
      ],
      "text/plain": [
       "[1] 0.7515737"
      ]
     },
     "metadata": {},
     "output_type": "display_data"
    }
   ],
   "source": [
    "cor(vitamin_data$ITEM_CNT, vitamin_data$QTY)"
   ]
  },
  {
   "cell_type": "code",
   "execution_count": 71,
   "metadata": {},
   "outputs": [
    {
     "data": {
      "text/plain": [
       "\n",
       "Call:\n",
       "lm(formula = QTY ~ ITEM_CNT, data = vitamin_data)\n",
       "\n",
       "Residuals:\n",
       "    Min      1Q  Median      3Q     Max \n",
       "-682.90 -122.66  -48.14  104.46  548.48 \n",
       "\n",
       "Coefficients:\n",
       "            Estimate Std. Error t value Pr(>|t|)    \n",
       "(Intercept)   74.376     65.705   1.132    0.262    \n",
       "ITEM_CNT      47.676      5.495   8.677 4.54e-12 ***\n",
       "---\n",
       "Signif. codes:  0 '***' 0.001 '**' 0.01 '*' 0.05 '.' 0.1 ' ' 1\n",
       "\n",
       "Residual standard error: 248.7 on 58 degrees of freedom\n",
       "Multiple R-squared:  0.5649,\tAdjusted R-squared:  0.5574 \n",
       "F-statistic: 75.29 on 1 and 58 DF,  p-value: 4.541e-12\n"
      ]
     },
     "metadata": {},
     "output_type": "display_data"
    }
   ],
   "source": [
    "a = lm(QTY ~ ITEM_CNT, vitamin_data)\n",
    "summary(a)"
   ]
  },
  {
   "cell_type": "code",
   "execution_count": 72,
   "metadata": {},
   "outputs": [
    {
     "data": {
      "image/png": "[encoded data removed]",
      "text/plain": [
       "plot without title"
      ]
     },
     "metadata": {},
     "output_type": "display_data"
    }
   ],
   "source": [
    "plot(vitamin_data$ITEM_CNT, vitamin_data$QTY)\n",
    "abline(a, col = 2)"
   ]
  },
  {
   "cell_type": "code",
   "execution_count": 73,
   "metadata": {},
   "outputs": [
    {
     "data": {
      "text/plain": [
       "\n",
       "Call:\n",
       "lm(formula = QTY ~ ITEM_CNT + MAXTEMP, data = vitamin_data_new)\n",
       "\n",
       "Residuals:\n",
       "    Min      1Q  Median      3Q     Max \n",
       "-371.83 -152.35  -31.18  193.39  487.03 \n",
       "\n",
       "Coefficients:\n",
       "            Estimate Std. Error t value Pr(>|t|)    \n",
       "(Intercept)   48.652     93.642   0.520    0.606    \n",
       "ITEM_CNT      29.370      6.599   4.451 5.40e-05 ***\n",
       "MAXTEMP       16.154      3.120   5.177 4.84e-06 ***\n",
       "---\n",
       "Signif. codes:  0 '***' 0.001 '**' 0.01 '*' 0.05 '.' 0.1 ' ' 1\n",
       "\n",
       "Residual standard error: 211.9 on 46 degrees of freedom\n",
       "Multiple R-squared:  0.5548,\tAdjusted R-squared:  0.5355 \n",
       "F-statistic: 28.66 on 2 and 46 DF,  p-value: 8.251e-09\n"
      ]
     },
     "metadata": {},
     "output_type": "display_data"
    }
   ],
   "source": [
    "# 비타민 최종 모델\n",
    "a = lm(QTY ~ ITEM_CNT + MAXTEMP, vitamin_data_new)\n",
    "summary(a)"
   ]
  },
  {
   "cell_type": "markdown",
   "metadata": {},
   "source": [
    "## ㅡㅡㅡㅡㅡㅡㅡㅡㅡㅡㅡㅡㅡㅡㅡㅡㅡㅡㅡㅡㅡㅡㅡㅡㅡㅡㅡㅡㅡㅡㅡㅡㅡㅡㅡㅡㅡㅡ"
   ]
  },
  {
   "cell_type": "markdown",
   "metadata": {},
   "source": [
    "# 모델 정리"
   ]
  },
  {
   "cell_type": "code",
   "execution_count": 74,
   "metadata": {},
   "outputs": [
    {
     "data": {
      "text/plain": [
       "\n",
       "Call:\n",
       "lm(formula = QTY ~ ITEM_CNT + MAXTEMP, data = fruit_data)\n",
       "\n",
       "Residuals:\n",
       "    Min      1Q  Median      3Q     Max \n",
       "-524.38 -163.69  -32.57  162.39  725.28 \n",
       "\n",
       "Coefficients:\n",
       "            Estimate Std. Error t value Pr(>|t|)    \n",
       "(Intercept) -933.680    247.168  -3.778  0.00038 ***\n",
       "ITEM_CNT      35.727      3.810   9.378 3.76e-13 ***\n",
       "MAXTEMP       42.019      3.819  11.004 1.01e-15 ***\n",
       "---\n",
       "Signif. codes:  0 '***' 0.001 '**' 0.01 '*' 0.05 '.' 0.1 ' ' 1\n",
       "\n",
       "Residual standard error: 284.3 on 57 degrees of freedom\n",
       "Multiple R-squared:  0.8034,\tAdjusted R-squared:  0.7965 \n",
       "F-statistic: 116.5 on 2 and 57 DF,  p-value: < 2.2e-16\n"
      ]
     },
     "metadata": {},
     "output_type": "display_data"
    }
   ],
   "source": [
    "# 과즙음료 최종 모델\n",
    "a = lm(QTY ~ ITEM_CNT + MAXTEMP, data = fruit_data)\n",
    "summary(a)"
   ]
  },
  {
   "cell_type": "code",
   "execution_count": 75,
   "metadata": {},
   "outputs": [
    {
     "data": {
      "text/plain": [
       "Subset selection object\n",
       "Call: regsubsets.formula(QTY ~ ITEM_CNT + MAXTEMP, data = fruit_data, \n",
       "    nbest = 5)\n",
       "2 Variables  (and intercept)\n",
       "         Forced in Forced out\n",
       "ITEM_CNT     FALSE      FALSE\n",
       "MAXTEMP      FALSE      FALSE\n",
       "5 subsets of each size up to 2\n",
       "Selection Algorithm: exhaustive\n",
       "         ITEM_CNT MAXTEMP\n",
       "1  ( 1 ) \" \"      \"*\"    \n",
       "1  ( 2 ) \"*\"      \" \"    \n",
       "2  ( 1 ) \"*\"      \"*\"    "
      ]
     },
     "metadata": {},
     "output_type": "display_data"
    },
    {
     "data": {
      "image/png": "[encoded data removed]",
      "text/plain": [
       "plot without title"
      ]
     },
     "metadata": {},
     "output_type": "display_data"
    },
    {
     "data": {
      "image/png": "[encoded data removed]",
      "text/plain": [
       "plot without title"
      ]
     },
     "metadata": {},
     "output_type": "display_data"
    }
   ],
   "source": [
    "leaps = regsubsets(QTY ~ ITEM_CNT + MAXTEMP, data = fruit_data, nbest = 5)\n",
    "summary(leaps)\n",
    "\n",
    "par(mfrow = c(1, 2))\n",
    "plot(leaps, scale = 'adjr2')\n",
    "plot(leaps, scale = 'Cp')\n",
    "plot(leaps, scale = 'bic')"
   ]
  },
  {
   "cell_type": "code",
   "execution_count": 76,
   "metadata": {},
   "outputs": [
    {
     "data": {
      "text/plain": [
       "\n",
       "Call:\n",
       "lm(formula = QTY ~ MAXTEMP + SALEDAY, data = tea_data)\n",
       "\n",
       "Residuals:\n",
       "    Min      1Q  Median      3Q     Max \n",
       "-436.25 -138.38   -2.52  102.12  957.39 \n",
       "\n",
       "Coefficients:\n",
       "              Estimate Std. Error t value Pr(>|t|)    \n",
       "(Intercept) -1.705e+02  1.409e+02   -1.21    0.231    \n",
       "MAXTEMP      4.407e+01  3.078e+00   14.32   <2e-16 ***\n",
       "SALEDAY      9.957e-03  7.054e-04   14.12   <2e-16 ***\n",
       "---\n",
       "Signif. codes:  0 '***' 0.001 '**' 0.01 '*' 0.05 '.' 0.1 ' ' 1\n",
       "\n",
       "Residual standard error: 230.4 on 57 degrees of freedom\n",
       "Multiple R-squared:  0.8793,\tAdjusted R-squared:  0.875 \n",
       "F-statistic: 207.6 on 2 and 57 DF,  p-value: < 2.2e-16\n"
      ]
     },
     "metadata": {},
     "output_type": "display_data"
    }
   ],
   "source": [
    "# 차음료 최종 모델\n",
    "a = lm(QTY ~ MAXTEMP + SALEDAY, data = tea_data)\n",
    "summary(a)"
   ]
  },
  {
   "cell_type": "code",
   "execution_count": 77,
   "metadata": {},
   "outputs": [
    {
     "data": {
      "text/plain": [
       "\n",
       "Call:\n",
       "lm(formula = QTY ~ ITEM_CNT + MAXTEMP, data = vitamin_data_new)\n",
       "\n",
       "Residuals:\n",
       "    Min      1Q  Median      3Q     Max \n",
       "-371.83 -152.35  -31.18  193.39  487.03 \n",
       "\n",
       "Coefficients:\n",
       "            Estimate Std. Error t value Pr(>|t|)    \n",
       "(Intercept)   48.652     93.642   0.520    0.606    \n",
       "ITEM_CNT      29.370      6.599   4.451 5.40e-05 ***\n",
       "MAXTEMP       16.154      3.120   5.177 4.84e-06 ***\n",
       "---\n",
       "Signif. codes:  0 '***' 0.001 '**' 0.01 '*' 0.05 '.' 0.1 ' ' 1\n",
       "\n",
       "Residual standard error: 211.9 on 46 degrees of freedom\n",
       "Multiple R-squared:  0.5548,\tAdjusted R-squared:  0.5355 \n",
       "F-statistic: 28.66 on 2 and 46 DF,  p-value: 8.251e-09\n"
      ]
     },
     "metadata": {},
     "output_type": "display_data"
    }
   ],
   "source": [
    "# 비타민 최종 모델\n",
    "a = lm(QTY ~ ITEM_CNT + MAXTEMP, vitamin_data_new)\n",
    "summary(a)"
   ]
  },
  {
   "cell_type": "code",
   "execution_count": null,
   "metadata": {},
   "outputs": [],
   "source": []
  },
  {
   "cell_type": "code",
   "execution_count": 78,
   "metadata": {},
   "outputs": [
    {
     "data": {
      "text/html": [
       "<table>\n",
       "<thead><tr><th scope=col>YM</th><th scope=col>MAXTEMP</th><th scope=col>QTY</th></tr></thead>\n",
       "<tbody>\n",
       "\t<tr><td>200901</td><td> 4    </td><td> 990  </td></tr>\n",
       "\t<tr><td>200902</td><td> 9    </td><td>1199  </td></tr>\n",
       "\t<tr><td>200903</td><td>12    </td><td>1102  </td></tr>\n",
       "\t<tr><td>200904</td><td>19    </td><td>1326  </td></tr>\n",
       "\t<tr><td>200905</td><td>25    </td><td>1672  </td></tr>\n",
       "\t<tr><td>200906</td><td>27    </td><td>1875  </td></tr>\n",
       "\t<tr><td>200907</td><td>28    </td><td>1663  </td></tr>\n",
       "\t<tr><td>200908</td><td>29    </td><td>1957  </td></tr>\n",
       "\t<tr><td>200909</td><td>27    </td><td>2021  </td></tr>\n",
       "\t<tr><td>200910</td><td>22    </td><td>1718  </td></tr>\n",
       "\t<tr><td>200911</td><td>12    </td><td>1204  </td></tr>\n",
       "\t<tr><td>200912</td><td> 5    </td><td>1147  </td></tr>\n",
       "</tbody>\n",
       "</table>\n"
      ],
      "text/latex": [
       "\\begin{tabular}{r|lll}\n",
       " YM & MAXTEMP & QTY\\\\\n",
       "\\hline\n",
       "\t 200901 &  4     &  990  \\\\\n",
       "\t 200902 &  9     & 1199  \\\\\n",
       "\t 200903 & 12     & 1102  \\\\\n",
       "\t 200904 & 19     & 1326  \\\\\n",
       "\t 200905 & 25     & 1672  \\\\\n",
       "\t 200906 & 27     & 1875  \\\\\n",
       "\t 200907 & 28     & 1663  \\\\\n",
       "\t 200908 & 29     & 1957  \\\\\n",
       "\t 200909 & 27     & 2021  \\\\\n",
       "\t 200910 & 22     & 1718  \\\\\n",
       "\t 200911 & 12     & 1204  \\\\\n",
       "\t 200912 &  5     & 1147  \\\\\n",
       "\\end{tabular}\n"
      ],
      "text/markdown": [
       "\n",
       "| YM | MAXTEMP | QTY |\n",
       "|---|---|---|\n",
       "| 200901 |  4     |  990   |\n",
       "| 200902 |  9     | 1199   |\n",
       "| 200903 | 12     | 1102   |\n",
       "| 200904 | 19     | 1326   |\n",
       "| 200905 | 25     | 1672   |\n",
       "| 200906 | 27     | 1875   |\n",
       "| 200907 | 28     | 1663   |\n",
       "| 200908 | 29     | 1957   |\n",
       "| 200909 | 27     | 2021   |\n",
       "| 200910 | 22     | 1718   |\n",
       "| 200911 | 12     | 1204   |\n",
       "| 200912 |  5     | 1147   |\n",
       "\n"
      ],
      "text/plain": [
       "   YM     MAXTEMP QTY \n",
       "1  200901  4       990\n",
       "2  200902  9      1199\n",
       "3  200903 12      1102\n",
       "4  200904 19      1326\n",
       "5  200905 25      1672\n",
       "6  200906 27      1875\n",
       "7  200907 28      1663\n",
       "8  200908 29      1957\n",
       "9  200909 27      2021\n",
       "10 200910 22      1718\n",
       "11 200911 12      1204\n",
       "12 200912  5      1147"
      ]
     },
     "metadata": {},
     "output_type": "display_data"
    }
   ],
   "source": [
    "fruit_data_2009 = fruit_data %>%\n",
    "                    select(YM, MAXTEMP, QTY) %>%\n",
    "                    filter(grepl('^2009', YM))\n",
    "fruit_data_2010 = fruit_data %>%\n",
    "                    select(YM, MAXTEMP, QTY) %>%\n",
    "                    filter(grepl('^2010', YM))\n",
    "fruit_data_2011 = fruit_data %>%\n",
    "                    select(YM, MAXTEMP, QTY) %>%\n",
    "                    filter(grepl('^2011', YM))\n",
    "fruit_data_2012 = fruit_data %>%\n",
    "                    select(YM, MAXTEMP, QTY) %>%\n",
    "                    filter(grepl('^2012', YM))\n",
    "fruit_data_2013 = fruit_data %>%\n",
    "                    select(YM, MAXTEMP, QTY) %>%\n",
    "                    filter(grepl('^2013', YM))\n",
    "\n",
    "fruit_data_2009"
   ]
  },
  {
   "cell_type": "code",
   "execution_count": 79,
   "metadata": {},
   "outputs": [
    {
     "data": {
      "image/png": "[encoded data removed]",
      "text/plain": [
       "plot without title"
      ]
     },
     "metadata": {},
     "output_type": "display_data"
    }
   ],
   "source": [
    "par(mfrow = c(3,2))\n",
    "plot(fruit_data_2009$MAXTEMP, fruit_data_2009$QTY)\n",
    "plot(fruit_data_2010$MAXTEMP, fruit_data_2010$QTY)\n",
    "plot(fruit_data_2011$MAXTEMP, fruit_data_2011$QTY)\n",
    "plot(fruit_data_2012$MAXTEMP, fruit_data_2012$QTY)\n",
    "plot(fruit_data_2013$MAXTEMP, fruit_data_2013$QTY)"
   ]
  },
  {
   "cell_type": "code",
   "execution_count": 80,
   "metadata": {},
   "outputs": [
    {
     "data": {
      "text/html": [
       "<table>\n",
       "<thead><tr><th scope=col>M</th><th scope=col>y09</th><th scope=col>y10</th><th scope=col>y11</th><th scope=col>y12</th><th scope=col>y13</th><th scope=col>QTY_mean</th><th scope=col>Temp_mean</th></tr></thead>\n",
       "<tbody>\n",
       "\t<tr><td> 1   </td><td>27   </td><td>226  </td><td> 581 </td><td> 481 </td><td> 432 </td><td>349.4</td><td> 2.0 </td></tr>\n",
       "\t<tr><td> 2   </td><td>29   </td><td>185  </td><td> 691 </td><td> 441 </td><td> 447 </td><td>358.6</td><td> 6.6 </td></tr>\n",
       "\t<tr><td> 3   </td><td>67   </td><td>229  </td><td> 452 </td><td> 545 </td><td> 623 </td><td>383.2</td><td>11.0 </td></tr>\n",
       "\t<tr><td> 4   </td><td>60   </td><td>326  </td><td> 511 </td><td> 659 </td><td>1089 </td><td>529.0</td><td>16.8 </td></tr>\n",
       "\t<tr><td> 5   </td><td>74   </td><td>445  </td><td> 660 </td><td> 771 </td><td>1524 </td><td>694.8</td><td>23.6 </td></tr>\n",
       "\t<tr><td> 6   </td><td>84   </td><td>438  </td><td>1088 </td><td> 776 </td><td> 978 </td><td>672.8</td><td>27.6 </td></tr>\n",
       "\t<tr><td> 7   </td><td>61   </td><td>387  </td><td> 992 </td><td> 893 </td><td>1036 </td><td>673.8</td><td>28.8 </td></tr>\n",
       "\t<tr><td> 8   </td><td>63   </td><td>599  </td><td>1022 </td><td>1338 </td><td>1155 </td><td>835.4</td><td>30.0 </td></tr>\n",
       "\t<tr><td> 9   </td><td>56   </td><td>728  </td><td> 991 </td><td> 792 </td><td> 822 </td><td>677.8</td><td>26.2 </td></tr>\n",
       "\t<tr><td>10   </td><td>50   </td><td>916  </td><td> 734 </td><td>1222 </td><td> 730 </td><td>730.4</td><td>20.8 </td></tr>\n",
       "\t<tr><td>11   </td><td>31   </td><td>687  </td><td> 554 </td><td> 833 </td><td> 502 </td><td>521.4</td><td>12.8 </td></tr>\n",
       "\t<tr><td>12   </td><td>42   </td><td>601  </td><td> 460 </td><td> 727 </td><td> 345 </td><td>435.0</td><td> 4.4 </td></tr>\n",
       "</tbody>\n",
       "</table>\n"
      ],
      "text/latex": [
       "\\begin{tabular}{r|llllllll}\n",
       " M & y09 & y10 & y11 & y12 & y13 & QTY\\_mean & Temp\\_mean\\\\\n",
       "\\hline\n",
       "\t  1    & 27    & 226   &  581  &  481  &  432  & 349.4 &  2.0 \\\\\n",
       "\t  2    & 29    & 185   &  691  &  441  &  447  & 358.6 &  6.6 \\\\\n",
       "\t  3    & 67    & 229   &  452  &  545  &  623  & 383.2 & 11.0 \\\\\n",
       "\t  4    & 60    & 326   &  511  &  659  & 1089  & 529.0 & 16.8 \\\\\n",
       "\t  5    & 74    & 445   &  660  &  771  & 1524  & 694.8 & 23.6 \\\\\n",
       "\t  6    & 84    & 438   & 1088  &  776  &  978  & 672.8 & 27.6 \\\\\n",
       "\t  7    & 61    & 387   &  992  &  893  & 1036  & 673.8 & 28.8 \\\\\n",
       "\t  8    & 63    & 599   & 1022  & 1338  & 1155  & 835.4 & 30.0 \\\\\n",
       "\t  9    & 56    & 728   &  991  &  792  &  822  & 677.8 & 26.2 \\\\\n",
       "\t 10    & 50    & 916   &  734  & 1222  &  730  & 730.4 & 20.8 \\\\\n",
       "\t 11    & 31    & 687   &  554  &  833  &  502  & 521.4 & 12.8 \\\\\n",
       "\t 12    & 42    & 601   &  460  &  727  &  345  & 435.0 &  4.4 \\\\\n",
       "\\end{tabular}\n"
      ],
      "text/markdown": [
       "\n",
       "| M | y09 | y10 | y11 | y12 | y13 | QTY_mean | Temp_mean |\n",
       "|---|---|---|---|---|---|---|---|\n",
       "|  1    | 27    | 226   |  581  |  481  |  432  | 349.4 |  2.0  |\n",
       "|  2    | 29    | 185   |  691  |  441  |  447  | 358.6 |  6.6  |\n",
       "|  3    | 67    | 229   |  452  |  545  |  623  | 383.2 | 11.0  |\n",
       "|  4    | 60    | 326   |  511  |  659  | 1089  | 529.0 | 16.8  |\n",
       "|  5    | 74    | 445   |  660  |  771  | 1524  | 694.8 | 23.6  |\n",
       "|  6    | 84    | 438   | 1088  |  776  |  978  | 672.8 | 27.6  |\n",
       "|  7    | 61    | 387   |  992  |  893  | 1036  | 673.8 | 28.8  |\n",
       "|  8    | 63    | 599   | 1022  | 1338  | 1155  | 835.4 | 30.0  |\n",
       "|  9    | 56    | 728   |  991  |  792  |  822  | 677.8 | 26.2  |\n",
       "| 10    | 50    | 916   |  734  | 1222  |  730  | 730.4 | 20.8  |\n",
       "| 11    | 31    | 687   |  554  |  833  |  502  | 521.4 | 12.8  |\n",
       "| 12    | 42    | 601   |  460  |  727  |  345  | 435.0 |  4.4  |\n",
       "\n"
      ],
      "text/plain": [
       "   M  y09 y10 y11  y12  y13  QTY_mean Temp_mean\n",
       "1   1 27  226  581  481  432 349.4     2.0     \n",
       "2   2 29  185  691  441  447 358.6     6.6     \n",
       "3   3 67  229  452  545  623 383.2    11.0     \n",
       "4   4 60  326  511  659 1089 529.0    16.8     \n",
       "5   5 74  445  660  771 1524 694.8    23.6     \n",
       "6   6 84  438 1088  776  978 672.8    27.6     \n",
       "7   7 61  387  992  893 1036 673.8    28.8     \n",
       "8   8 63  599 1022 1338 1155 835.4    30.0     \n",
       "9   9 56  728  991  792  822 677.8    26.2     \n",
       "10 10 50  916  734 1222  730 730.4    20.8     \n",
       "11 11 31  687  554  833  502 521.4    12.8     \n",
       "12 12 42  601  460  727  345 435.0     4.4     "
      ]
     },
     "metadata": {},
     "output_type": "display_data"
    }
   ],
   "source": [
    "vitamin_data_2009 = vitamin_data %>%\n",
    "                    select(YM, MAXTEMP, QTY) %>%\n",
    "                    filter(grepl('^2009', YM))\n",
    "vitamin_data_2010 = vitamin_data %>%\n",
    "                    select(YM, MAXTEMP, QTY) %>%\n",
    "                    filter(grepl('^2010', YM))\n",
    "vitamin_data_2011 = vitamin_data %>%\n",
    "                    select(YM, MAXTEMP, QTY) %>%\n",
    "                    filter(grepl('^2011', YM))\n",
    "vitamin_data_2012 = vitamin_data %>%\n",
    "                    select(YM, MAXTEMP, QTY) %>%\n",
    "                    filter(grepl('^2012', YM))\n",
    "vitamin_data_2013 = vitamin_data %>%\n",
    "                    select(YM, MAXTEMP, QTY) %>%\n",
    "                    filter(grepl('^2013', YM))\n",
    "\n",
    "vitamin_data_2009$YM = seq(1:12)\n",
    "vitamin_data_2010$YM = seq(1:12)\n",
    "vitamin_data_2011$YM = seq(1:12)\n",
    "vitamin_data_2012$YM = seq(1:12)\n",
    "vitamin_data_2013$YM = seq(1:12)\n",
    "\n",
    "vitamin_data_t = data.frame(vitamin_data_2009$YM, vitamin_data_2009$MAXTEMP)\n",
    "vitamin_data_t = cbind(vitamin_data_t, vitamin_data_2010$MAXTEMP, vitamin_data_2011$MAXTEMP, vitamin_data_2012$MAXTEMP,\n",
    "                       vitamin_data_2013$MAXTEMP)\n",
    "vitamin_data_t$t_mean = apply(vitamin_data_t[-c(1)], 1, mean)\n",
    "\n",
    "vitamin_data_ = data.frame(vitamin_data_2009$YM, vitamin_data_2009$QTY)\n",
    "vitamin_data_ = cbind(vitamin_data_, vitamin_data_2010$QTY, vitamin_data_2011$QTY, vitamin_data_2012$QTY, vitamin_data_2013$QTY)\n",
    "\n",
    "vitamin_data_$mean = apply(vitamin_data_[-c(1)], 1, mean)\n",
    "vitamin_data_ = cbind(vitamin_data_, vitamin_data_t$t_mean)\n",
    "colnames(vitamin_data_) = c('M', 'y09', 'y10', 'y11', 'y12', 'y13', 'QTY_mean', 'Temp_mean')\n",
    "\n",
    "vitamin_data_"
   ]
  },
  {
   "cell_type": "code",
   "execution_count": 81,
   "metadata": {},
   "outputs": [
    {
     "data": {
      "image/png": "[encoded data removed]",
      "text/plain": [
       "plot without title"
      ]
     },
     "metadata": {},
     "output_type": "display_data"
    }
   ],
   "source": [
    "par(mfrow = c(3, 2))\n",
    "plot(vitamin_data_2009$MAXTEMP, vitamin_data_2009$QTY)\n",
    "plot(vitamin_data_2010$MAXTEMP, vitamin_data_2010$QTY)\n",
    "plot(vitamin_data_2011$MAXTEMP, vitamin_data_2011$QTY)\n",
    "plot(vitamin_data_2012$MAXTEMP, vitamin_data_2012$QTY)\n",
    "plot(vitamin_data_2013$MAXTEMP, vitamin_data_2013$QTY)\n",
    "plot(vitamin_data_$Temp_mean)"
   ]
  },
  {
   "cell_type": "code",
   "execution_count": 82,
   "metadata": {},
   "outputs": [
    {
     "data": {
      "text/html": [
       "<table>\n",
       "<thead><tr><th scope=col>M</th><th scope=col>y09</th><th scope=col>y10</th><th scope=col>y11</th><th scope=col>y12</th><th scope=col>y13</th><th scope=col>QTY_mean</th><th scope=col>Temp_mean</th></tr></thead>\n",
       "<tbody>\n",
       "\t<tr><td> 1    </td><td>1346  </td><td>1463  </td><td>1685  </td><td>2115  </td><td>2089  </td><td>1739.6</td><td> 2.0  </td></tr>\n",
       "\t<tr><td> 2    </td><td>1260  </td><td>1336  </td><td>1648  </td><td>1804  </td><td>1880  </td><td>1585.6</td><td> 6.6  </td></tr>\n",
       "\t<tr><td> 3    </td><td>1664  </td><td>1645  </td><td>2069  </td><td>2297  </td><td>2348  </td><td>2004.6</td><td>11.0  </td></tr>\n",
       "\t<tr><td> 4    </td><td>2125  </td><td>1979  </td><td>2473  </td><td>3001  </td><td>2435  </td><td>2402.6</td><td>16.8  </td></tr>\n",
       "\t<tr><td> 5    </td><td>2220  </td><td>2193  </td><td>2626  </td><td>3992  </td><td>3209  </td><td>2848.0</td><td>23.6  </td></tr>\n",
       "\t<tr><td> 6    </td><td>2082  </td><td>2366  </td><td>2779  </td><td>3243  </td><td>3274  </td><td>2748.8</td><td>27.6  </td></tr>\n",
       "\t<tr><td> 7    </td><td>2153  </td><td>2385  </td><td>2717  </td><td>3206  </td><td>3395  </td><td>2771.2</td><td>28.8  </td></tr>\n",
       "\t<tr><td> 8    </td><td>2479  </td><td>2561  </td><td>2674  </td><td>3778  </td><td>3894  </td><td>3077.2</td><td>30.0  </td></tr>\n",
       "\t<tr><td> 9    </td><td>2394  </td><td>2222  </td><td>2879  </td><td>2965  </td><td>3708  </td><td>2833.6</td><td>26.2  </td></tr>\n",
       "\t<tr><td>10    </td><td>2116  </td><td>2276  </td><td>2535  </td><td>3090  </td><td>3413  </td><td>2686.0</td><td>20.8  </td></tr>\n",
       "\t<tr><td>11    </td><td>1657  </td><td>1919  </td><td>2322  </td><td>2267  </td><td>2615  </td><td>2156.0</td><td>12.8  </td></tr>\n",
       "\t<tr><td>12    </td><td>1518  </td><td>1898  </td><td>2242  </td><td>2295  </td><td>2443  </td><td>2079.2</td><td> 4.4  </td></tr>\n",
       "</tbody>\n",
       "</table>\n"
      ],
      "text/latex": [
       "\\begin{tabular}{r|llllllll}\n",
       " M & y09 & y10 & y11 & y12 & y13 & QTY\\_mean & Temp\\_mean\\\\\n",
       "\\hline\n",
       "\t  1     & 1346   & 1463   & 1685   & 2115   & 2089   & 1739.6 &  2.0  \\\\\n",
       "\t  2     & 1260   & 1336   & 1648   & 1804   & 1880   & 1585.6 &  6.6  \\\\\n",
       "\t  3     & 1664   & 1645   & 2069   & 2297   & 2348   & 2004.6 & 11.0  \\\\\n",
       "\t  4     & 2125   & 1979   & 2473   & 3001   & 2435   & 2402.6 & 16.8  \\\\\n",
       "\t  5     & 2220   & 2193   & 2626   & 3992   & 3209   & 2848.0 & 23.6  \\\\\n",
       "\t  6     & 2082   & 2366   & 2779   & 3243   & 3274   & 2748.8 & 27.6  \\\\\n",
       "\t  7     & 2153   & 2385   & 2717   & 3206   & 3395   & 2771.2 & 28.8  \\\\\n",
       "\t  8     & 2479   & 2561   & 2674   & 3778   & 3894   & 3077.2 & 30.0  \\\\\n",
       "\t  9     & 2394   & 2222   & 2879   & 2965   & 3708   & 2833.6 & 26.2  \\\\\n",
       "\t 10     & 2116   & 2276   & 2535   & 3090   & 3413   & 2686.0 & 20.8  \\\\\n",
       "\t 11     & 1657   & 1919   & 2322   & 2267   & 2615   & 2156.0 & 12.8  \\\\\n",
       "\t 12     & 1518   & 1898   & 2242   & 2295   & 2443   & 2079.2 &  4.4  \\\\\n",
       "\\end{tabular}\n"
      ],
      "text/markdown": [
       "\n",
       "| M | y09 | y10 | y11 | y12 | y13 | QTY_mean | Temp_mean |\n",
       "|---|---|---|---|---|---|---|---|\n",
       "|  1     | 1346   | 1463   | 1685   | 2115   | 2089   | 1739.6 |  2.0   |\n",
       "|  2     | 1260   | 1336   | 1648   | 1804   | 1880   | 1585.6 |  6.6   |\n",
       "|  3     | 1664   | 1645   | 2069   | 2297   | 2348   | 2004.6 | 11.0   |\n",
       "|  4     | 2125   | 1979   | 2473   | 3001   | 2435   | 2402.6 | 16.8   |\n",
       "|  5     | 2220   | 2193   | 2626   | 3992   | 3209   | 2848.0 | 23.6   |\n",
       "|  6     | 2082   | 2366   | 2779   | 3243   | 3274   | 2748.8 | 27.6   |\n",
       "|  7     | 2153   | 2385   | 2717   | 3206   | 3395   | 2771.2 | 28.8   |\n",
       "|  8     | 2479   | 2561   | 2674   | 3778   | 3894   | 3077.2 | 30.0   |\n",
       "|  9     | 2394   | 2222   | 2879   | 2965   | 3708   | 2833.6 | 26.2   |\n",
       "| 10     | 2116   | 2276   | 2535   | 3090   | 3413   | 2686.0 | 20.8   |\n",
       "| 11     | 1657   | 1919   | 2322   | 2267   | 2615   | 2156.0 | 12.8   |\n",
       "| 12     | 1518   | 1898   | 2242   | 2295   | 2443   | 2079.2 |  4.4   |\n",
       "\n"
      ],
      "text/plain": [
       "   M  y09  y10  y11  y12  y13  QTY_mean Temp_mean\n",
       "1   1 1346 1463 1685 2115 2089 1739.6    2.0     \n",
       "2   2 1260 1336 1648 1804 1880 1585.6    6.6     \n",
       "3   3 1664 1645 2069 2297 2348 2004.6   11.0     \n",
       "4   4 2125 1979 2473 3001 2435 2402.6   16.8     \n",
       "5   5 2220 2193 2626 3992 3209 2848.0   23.6     \n",
       "6   6 2082 2366 2779 3243 3274 2748.8   27.6     \n",
       "7   7 2153 2385 2717 3206 3395 2771.2   28.8     \n",
       "8   8 2479 2561 2674 3778 3894 3077.2   30.0     \n",
       "9   9 2394 2222 2879 2965 3708 2833.6   26.2     \n",
       "10 10 2116 2276 2535 3090 3413 2686.0   20.8     \n",
       "11 11 1657 1919 2322 2267 2615 2156.0   12.8     \n",
       "12 12 1518 1898 2242 2295 2443 2079.2    4.4     "
      ]
     },
     "metadata": {},
     "output_type": "display_data"
    }
   ],
   "source": [
    "tea_data_2009 = tea_data %>%\n",
    "                    select(YM, MAXTEMP, QTY) %>%\n",
    "                    filter(grepl('^2009', YM))\n",
    "tea_data_2010 = tea_data %>%\n",
    "                    select(YM, MAXTEMP, QTY) %>%\n",
    "                    filter(grepl('^2010', YM))\n",
    "tea_data_2011 = tea_data %>%\n",
    "                    select(YM, MAXTEMP, QTY) %>%\n",
    "                    filter(grepl('^2011', YM))\n",
    "tea_data_2012 = tea_data %>%\n",
    "                    select(YM, MAXTEMP, QTY) %>%\n",
    "                    filter(grepl('^2012', YM))\n",
    "tea_data_2013 = tea_data %>%\n",
    "                    select(YM, MAXTEMP, QTY) %>%\n",
    "                    filter(grepl('^2013', YM))\n",
    "\n",
    "tea_data_2009$YM = seq(1:12)\n",
    "tea_data_2010$YM = seq(1:12)\n",
    "tea_data_2011$YM = seq(1:12)\n",
    "tea_data_2012$YM = seq(1:12)\n",
    "tea_data_2013$YM = seq(1:12)\n",
    "\n",
    "tea_data_t = data.frame(tea_data_2009$YM, tea_data_2009$MAXTEMP)\n",
    "tea_data_t = cbind(tea_data_t, tea_data_2010$MAXTEMP, tea_data_2011$MAXTEMP, tea_data_2012$MAXTEMP, tea_data_2013$MAXTEMP)\n",
    "tea_data_t$t_mean = apply(tea_data_t[-c(1)], 1, mean)\n",
    "\n",
    "tea_data_ = data.frame(tea_data_2009$YM, tea_data_2009$QTY)\n",
    "tea_data_ = cbind(tea_data_, tea_data_2010$QTY, tea_data_2011$QTY, tea_data_2012$QTY, tea_data_2013$QTY)\n",
    "\n",
    "tea_data_$mean = apply(tea_data_[-c(1)], 1, mean)\n",
    "tea_data_ = cbind(tea_data_, tea_data_t$t_mean)\n",
    "colnames(tea_data_) = c('M', 'y09', 'y10', 'y11', 'y12', 'y13', 'QTY_mean', 'Temp_mean')\n",
    "\n",
    "tea_data_"
   ]
  },
  {
   "cell_type": "code",
   "execution_count": 83,
   "metadata": {},
   "outputs": [
    {
     "data": {
      "image/png": "[encoded data removed]",
      "text/plain": [
       "plot without title"
      ]
     },
     "metadata": {},
     "output_type": "display_data"
    }
   ],
   "source": [
    "par(mfrow = c(3, 2))\n",
    "plot(tea_data_2009$MAXTEMP, tea_data_2009$QTY)\n",
    "plot(tea_data_2010$MAXTEMP, tea_data_2010$QTY)\n",
    "plot(tea_data_2011$MAXTEMP, tea_data_2011$QTY)\n",
    "plot(tea_data_2012$MAXTEMP, tea_data_2012$QTY)\n",
    "plot(tea_data_2013$MAXTEMP, tea_data_2013$QTY)\n",
    "plot(tea_data_$Temp_mean)"
   ]
  },
  {
   "cell_type": "code",
   "execution_count": 84,
   "metadata": {},
   "outputs": [
    {
     "data": {
      "text/html": [
       "<table>\n",
       "<thead><tr><th scope=col>fruit_data_2009.YM</th><th scope=col>fruit_data_2009.QTY</th><th scope=col>fruit_data_2010$QTY</th><th scope=col>fruit_data_2011$QTY</th><th scope=col>fruit_data_2012$QTY</th><th scope=col>fruit_data_2013$QTY</th></tr></thead>\n",
       "<tbody>\n",
       "\t<tr><td> 1  </td><td> 990</td><td>1106</td><td>1268</td><td>1402</td><td>1627</td></tr>\n",
       "\t<tr><td> 2  </td><td>1199</td><td>1361</td><td>1528</td><td>1859</td><td>1624</td></tr>\n",
       "\t<tr><td> 3  </td><td>1102</td><td>1432</td><td>1874</td><td>2566</td><td>2103</td></tr>\n",
       "\t<tr><td> 4  </td><td>1326</td><td>1750</td><td>2200</td><td>2475</td><td>2117</td></tr>\n",
       "\t<tr><td> 5  </td><td>1672</td><td>2204</td><td>3247</td><td>3653</td><td>2606</td></tr>\n",
       "\t<tr><td> 6  </td><td>1875</td><td>2366</td><td>2783</td><td>3474</td><td>2621</td></tr>\n",
       "\t<tr><td> 7  </td><td>1663</td><td>2681</td><td>2593</td><td>2568</td><td>2336</td></tr>\n",
       "\t<tr><td> 8  </td><td>1957</td><td>2321</td><td>2765</td><td>2854</td><td>2755</td></tr>\n",
       "\t<tr><td> 9  </td><td>2021</td><td>1963</td><td>2971</td><td>2744</td><td>2992</td></tr>\n",
       "\t<tr><td>10  </td><td>1718</td><td>2321</td><td>2459</td><td>2369</td><td>2563</td></tr>\n",
       "\t<tr><td>11  </td><td>1204</td><td>1548</td><td>2299</td><td>1833</td><td>1878</td></tr>\n",
       "\t<tr><td>12  </td><td>1147</td><td>1306</td><td>1823</td><td>1621</td><td>1770</td></tr>\n",
       "</tbody>\n",
       "</table>\n"
      ],
      "text/latex": [
       "\\begin{tabular}{r|llllll}\n",
       " fruit\\_data\\_2009.YM & fruit\\_data\\_2009.QTY & fruit\\_data\\_2010\\$QTY & fruit\\_data\\_2011\\$QTY & fruit\\_data\\_2012\\$QTY & fruit\\_data\\_2013\\$QTY\\\\\n",
       "\\hline\n",
       "\t  1   &  990 & 1106 & 1268 & 1402 & 1627\\\\\n",
       "\t  2   & 1199 & 1361 & 1528 & 1859 & 1624\\\\\n",
       "\t  3   & 1102 & 1432 & 1874 & 2566 & 2103\\\\\n",
       "\t  4   & 1326 & 1750 & 2200 & 2475 & 2117\\\\\n",
       "\t  5   & 1672 & 2204 & 3247 & 3653 & 2606\\\\\n",
       "\t  6   & 1875 & 2366 & 2783 & 3474 & 2621\\\\\n",
       "\t  7   & 1663 & 2681 & 2593 & 2568 & 2336\\\\\n",
       "\t  8   & 1957 & 2321 & 2765 & 2854 & 2755\\\\\n",
       "\t  9   & 2021 & 1963 & 2971 & 2744 & 2992\\\\\n",
       "\t 10   & 1718 & 2321 & 2459 & 2369 & 2563\\\\\n",
       "\t 11   & 1204 & 1548 & 2299 & 1833 & 1878\\\\\n",
       "\t 12   & 1147 & 1306 & 1823 & 1621 & 1770\\\\\n",
       "\\end{tabular}\n"
      ],
      "text/markdown": [
       "\n",
       "| fruit_data_2009.YM | fruit_data_2009.QTY | fruit_data_2010$QTY | fruit_data_2011$QTY | fruit_data_2012$QTY | fruit_data_2013$QTY |\n",
       "|---|---|---|---|---|---|\n",
       "|  1   |  990 | 1106 | 1268 | 1402 | 1627 |\n",
       "|  2   | 1199 | 1361 | 1528 | 1859 | 1624 |\n",
       "|  3   | 1102 | 1432 | 1874 | 2566 | 2103 |\n",
       "|  4   | 1326 | 1750 | 2200 | 2475 | 2117 |\n",
       "|  5   | 1672 | 2204 | 3247 | 3653 | 2606 |\n",
       "|  6   | 1875 | 2366 | 2783 | 3474 | 2621 |\n",
       "|  7   | 1663 | 2681 | 2593 | 2568 | 2336 |\n",
       "|  8   | 1957 | 2321 | 2765 | 2854 | 2755 |\n",
       "|  9   | 2021 | 1963 | 2971 | 2744 | 2992 |\n",
       "| 10   | 1718 | 2321 | 2459 | 2369 | 2563 |\n",
       "| 11   | 1204 | 1548 | 2299 | 1833 | 1878 |\n",
       "| 12   | 1147 | 1306 | 1823 | 1621 | 1770 |\n",
       "\n"
      ],
      "text/plain": [
       "   fruit_data_2009.YM fruit_data_2009.QTY fruit_data_2010$QTY\n",
       "1   1                  990                1106               \n",
       "2   2                 1199                1361               \n",
       "3   3                 1102                1432               \n",
       "4   4                 1326                1750               \n",
       "5   5                 1672                2204               \n",
       "6   6                 1875                2366               \n",
       "7   7                 1663                2681               \n",
       "8   8                 1957                2321               \n",
       "9   9                 2021                1963               \n",
       "10 10                 1718                2321               \n",
       "11 11                 1204                1548               \n",
       "12 12                 1147                1306               \n",
       "   fruit_data_2011$QTY fruit_data_2012$QTY fruit_data_2013$QTY\n",
       "1  1268                1402                1627               \n",
       "2  1528                1859                1624               \n",
       "3  1874                2566                2103               \n",
       "4  2200                2475                2117               \n",
       "5  3247                3653                2606               \n",
       "6  2783                3474                2621               \n",
       "7  2593                2568                2336               \n",
       "8  2765                2854                2755               \n",
       "9  2971                2744                2992               \n",
       "10 2459                2369                2563               \n",
       "11 2299                1833                1878               \n",
       "12 1823                1621                1770               "
      ]
     },
     "metadata": {},
     "output_type": "display_data"
    }
   ],
   "source": [
    "fruit_data_2009$YM = seq(1:12)\n",
    "fruit_data_2010$YM = seq(1:12)\n",
    "fruit_data_2011$YM = seq(1:12)\n",
    "fruit_data_2012$YM = seq(1:12)\n",
    "fruit_data_2013$YM = seq(1:12)\n",
    "\n",
    "fruit_data_t = data.frame(fruit_data_2009$YM, fruit_data_2009$MAXTEMP)\n",
    "fruit_data_t = cbind(fruit_data_t, fruit_data_2010$MAXTEMP, fruit_data_2011$MAXTEMP, fruit_data_2012$MAXTEMP, fruit_data_2013$MAXTEMP)\n",
    "fruit_data_t$t_mean = apply(fruit_data_t[-c(1)], 1, mean)\n",
    "\n",
    "fruit_data_ = data.frame(fruit_data_2009$YM, fruit_data_2009$QTY)\n",
    "fruit_data_ = cbind(fruit_data_, fruit_data_2010$QTY, fruit_data_2011$QTY, fruit_data_2012$QTY, fruit_data_2013$QTY)\n",
    "\n",
    "fruit_data_"
   ]
  },
  {
   "cell_type": "code",
   "execution_count": 85,
   "metadata": {},
   "outputs": [
    {
     "data": {
      "text/html": [
       "<table>\n",
       "<thead><tr><th scope=col>M</th><th scope=col>y09</th><th scope=col>y10</th><th scope=col>y11</th><th scope=col>y12</th><th scope=col>y13</th><th scope=col>QTY_mean</th><th scope=col>Temp_mean</th></tr></thead>\n",
       "<tbody>\n",
       "\t<tr><td> 1    </td><td> 990  </td><td>1106  </td><td>1268  </td><td>1402  </td><td>1627  </td><td>1278.6</td><td> 2.0  </td></tr>\n",
       "\t<tr><td> 2    </td><td>1199  </td><td>1361  </td><td>1528  </td><td>1859  </td><td>1624  </td><td>1514.2</td><td> 6.6  </td></tr>\n",
       "\t<tr><td> 3    </td><td>1102  </td><td>1432  </td><td>1874  </td><td>2566  </td><td>2103  </td><td>1815.4</td><td>11.0  </td></tr>\n",
       "\t<tr><td> 4    </td><td>1326  </td><td>1750  </td><td>2200  </td><td>2475  </td><td>2117  </td><td>1973.6</td><td>16.8  </td></tr>\n",
       "\t<tr><td> 5    </td><td>1672  </td><td>2204  </td><td>3247  </td><td>3653  </td><td>2606  </td><td>2676.4</td><td>23.6  </td></tr>\n",
       "\t<tr><td> 6    </td><td>1875  </td><td>2366  </td><td>2783  </td><td>3474  </td><td>2621  </td><td>2623.8</td><td>27.6  </td></tr>\n",
       "\t<tr><td> 7    </td><td>1663  </td><td>2681  </td><td>2593  </td><td>2568  </td><td>2336  </td><td>2368.2</td><td>28.8  </td></tr>\n",
       "\t<tr><td> 8    </td><td>1957  </td><td>2321  </td><td>2765  </td><td>2854  </td><td>2755  </td><td>2530.4</td><td>30.0  </td></tr>\n",
       "\t<tr><td> 9    </td><td>2021  </td><td>1963  </td><td>2971  </td><td>2744  </td><td>2992  </td><td>2538.2</td><td>26.2  </td></tr>\n",
       "\t<tr><td>10    </td><td>1718  </td><td>2321  </td><td>2459  </td><td>2369  </td><td>2563  </td><td>2286.0</td><td>20.8  </td></tr>\n",
       "\t<tr><td>11    </td><td>1204  </td><td>1548  </td><td>2299  </td><td>1833  </td><td>1878  </td><td>1752.4</td><td>12.8  </td></tr>\n",
       "\t<tr><td>12    </td><td>1147  </td><td>1306  </td><td>1823  </td><td>1621  </td><td>1770  </td><td>1533.4</td><td> 4.4  </td></tr>\n",
       "</tbody>\n",
       "</table>\n"
      ],
      "text/latex": [
       "\\begin{tabular}{r|llllllll}\n",
       " M & y09 & y10 & y11 & y12 & y13 & QTY\\_mean & Temp\\_mean\\\\\n",
       "\\hline\n",
       "\t  1     &  990   & 1106   & 1268   & 1402   & 1627   & 1278.6 &  2.0  \\\\\n",
       "\t  2     & 1199   & 1361   & 1528   & 1859   & 1624   & 1514.2 &  6.6  \\\\\n",
       "\t  3     & 1102   & 1432   & 1874   & 2566   & 2103   & 1815.4 & 11.0  \\\\\n",
       "\t  4     & 1326   & 1750   & 2200   & 2475   & 2117   & 1973.6 & 16.8  \\\\\n",
       "\t  5     & 1672   & 2204   & 3247   & 3653   & 2606   & 2676.4 & 23.6  \\\\\n",
       "\t  6     & 1875   & 2366   & 2783   & 3474   & 2621   & 2623.8 & 27.6  \\\\\n",
       "\t  7     & 1663   & 2681   & 2593   & 2568   & 2336   & 2368.2 & 28.8  \\\\\n",
       "\t  8     & 1957   & 2321   & 2765   & 2854   & 2755   & 2530.4 & 30.0  \\\\\n",
       "\t  9     & 2021   & 1963   & 2971   & 2744   & 2992   & 2538.2 & 26.2  \\\\\n",
       "\t 10     & 1718   & 2321   & 2459   & 2369   & 2563   & 2286.0 & 20.8  \\\\\n",
       "\t 11     & 1204   & 1548   & 2299   & 1833   & 1878   & 1752.4 & 12.8  \\\\\n",
       "\t 12     & 1147   & 1306   & 1823   & 1621   & 1770   & 1533.4 &  4.4  \\\\\n",
       "\\end{tabular}\n"
      ],
      "text/markdown": [
       "\n",
       "| M | y09 | y10 | y11 | y12 | y13 | QTY_mean | Temp_mean |\n",
       "|---|---|---|---|---|---|---|---|\n",
       "|  1     |  990   | 1106   | 1268   | 1402   | 1627   | 1278.6 |  2.0   |\n",
       "|  2     | 1199   | 1361   | 1528   | 1859   | 1624   | 1514.2 |  6.6   |\n",
       "|  3     | 1102   | 1432   | 1874   | 2566   | 2103   | 1815.4 | 11.0   |\n",
       "|  4     | 1326   | 1750   | 2200   | 2475   | 2117   | 1973.6 | 16.8   |\n",
       "|  5     | 1672   | 2204   | 3247   | 3653   | 2606   | 2676.4 | 23.6   |\n",
       "|  6     | 1875   | 2366   | 2783   | 3474   | 2621   | 2623.8 | 27.6   |\n",
       "|  7     | 1663   | 2681   | 2593   | 2568   | 2336   | 2368.2 | 28.8   |\n",
       "|  8     | 1957   | 2321   | 2765   | 2854   | 2755   | 2530.4 | 30.0   |\n",
       "|  9     | 2021   | 1963   | 2971   | 2744   | 2992   | 2538.2 | 26.2   |\n",
       "| 10     | 1718   | 2321   | 2459   | 2369   | 2563   | 2286.0 | 20.8   |\n",
       "| 11     | 1204   | 1548   | 2299   | 1833   | 1878   | 1752.4 | 12.8   |\n",
       "| 12     | 1147   | 1306   | 1823   | 1621   | 1770   | 1533.4 |  4.4   |\n",
       "\n"
      ],
      "text/plain": [
       "   M  y09  y10  y11  y12  y13  QTY_mean Temp_mean\n",
       "1   1  990 1106 1268 1402 1627 1278.6    2.0     \n",
       "2   2 1199 1361 1528 1859 1624 1514.2    6.6     \n",
       "3   3 1102 1432 1874 2566 2103 1815.4   11.0     \n",
       "4   4 1326 1750 2200 2475 2117 1973.6   16.8     \n",
       "5   5 1672 2204 3247 3653 2606 2676.4   23.6     \n",
       "6   6 1875 2366 2783 3474 2621 2623.8   27.6     \n",
       "7   7 1663 2681 2593 2568 2336 2368.2   28.8     \n",
       "8   8 1957 2321 2765 2854 2755 2530.4   30.0     \n",
       "9   9 2021 1963 2971 2744 2992 2538.2   26.2     \n",
       "10 10 1718 2321 2459 2369 2563 2286.0   20.8     \n",
       "11 11 1204 1548 2299 1833 1878 1752.4   12.8     \n",
       "12 12 1147 1306 1823 1621 1770 1533.4    4.4     "
      ]
     },
     "metadata": {},
     "output_type": "display_data"
    }
   ],
   "source": [
    "fruit_data_$mean = apply(fruit_data_[-c(1)], 1, mean)\n",
    "fruit_data_ = cbind(fruit_data_, fruit_data_t$t_mean)\n",
    "colnames(fruit_data_) = c('M', 'y09', 'y10', 'y11', 'y12', 'y13', 'QTY_mean', 'Temp_mean')\n",
    "fruit_data_"
   ]
  },
  {
   "cell_type": "code",
   "execution_count": 86,
   "metadata": {},
   "outputs": [
    {
     "data": {
      "text/html": [
       "<table>\n",
       "<thead><tr><th scope=col>M</th><th scope=col>QTY_mean</th><th scope=col>Temp_mean</th><th scope=col>group</th></tr></thead>\n",
       "<tbody>\n",
       "\t<tr><td>1         </td><td>1278.6    </td><td> 2.0      </td><td>fruit_temp</td></tr>\n",
       "\t<tr><td>2         </td><td>1514.2    </td><td> 6.6      </td><td>fruit_temp</td></tr>\n",
       "\t<tr><td>3         </td><td>1815.4    </td><td>11.0      </td><td>fruit_temp</td></tr>\n",
       "\t<tr><td>4         </td><td>1973.6    </td><td>16.8      </td><td>fruit_temp</td></tr>\n",
       "\t<tr><td>5         </td><td>2676.4    </td><td>23.6      </td><td>fruit_temp</td></tr>\n",
       "\t<tr><td>6         </td><td>2623.8    </td><td>27.6      </td><td>fruit_temp</td></tr>\n",
       "</tbody>\n",
       "</table>\n"
      ],
      "text/latex": [
       "\\begin{tabular}{r|llll}\n",
       " M & QTY\\_mean & Temp\\_mean & group\\\\\n",
       "\\hline\n",
       "\t 1            & 1278.6       &  2.0         & fruit\\_temp\\\\\n",
       "\t 2            & 1514.2       &  6.6         & fruit\\_temp\\\\\n",
       "\t 3            & 1815.4       & 11.0         & fruit\\_temp\\\\\n",
       "\t 4            & 1973.6       & 16.8         & fruit\\_temp\\\\\n",
       "\t 5            & 2676.4       & 23.6         & fruit\\_temp\\\\\n",
       "\t 6            & 2623.8       & 27.6         & fruit\\_temp\\\\\n",
       "\\end{tabular}\n"
      ],
      "text/markdown": [
       "\n",
       "| M | QTY_mean | Temp_mean | group |\n",
       "|---|---|---|---|\n",
       "| 1          | 1278.6     |  2.0       | fruit_temp |\n",
       "| 2          | 1514.2     |  6.6       | fruit_temp |\n",
       "| 3          | 1815.4     | 11.0       | fruit_temp |\n",
       "| 4          | 1973.6     | 16.8       | fruit_temp |\n",
       "| 5          | 2676.4     | 23.6       | fruit_temp |\n",
       "| 6          | 2623.8     | 27.6       | fruit_temp |\n",
       "\n"
      ],
      "text/plain": [
       "  M QTY_mean Temp_mean group     \n",
       "1 1 1278.6    2.0      fruit_temp\n",
       "2 2 1514.2    6.6      fruit_temp\n",
       "3 3 1815.4   11.0      fruit_temp\n",
       "4 4 1973.6   16.8      fruit_temp\n",
       "5 5 2676.4   23.6      fruit_temp\n",
       "6 6 2623.8   27.6      fruit_temp"
      ]
     },
     "metadata": {},
     "output_type": "display_data"
    }
   ],
   "source": [
    "fruit_data_1 = fruit_data_[-c(2:6)]\n",
    "fruit_data_1$group = 'fruit_temp'\n",
    "vitamin_data_1 = vitamin_data_[-c(2:6)]\n",
    "vitamin_data_1$group = 'vitamin_temp'\n",
    "tea_data_1 = tea_data_[-c(2:6)]\n",
    "tea_data_1$group = 'tea_temp'\n",
    "data_month = rbind(fruit_data_1, vitamin_data_1, tea_data_1)\n",
    "head(data_month)"
   ]
  },
  {
   "cell_type": "code",
   "execution_count": 87,
   "metadata": {},
   "outputs": [
    {
     "data": {
      "image/png": "[encoded data removed]",
      "text/plain": [
       "plot without title"
      ]
     },
     "metadata": {},
     "output_type": "display_data"
    }
   ],
   "source": [
    "ggplot(data = data_month) +\n",
    "    geom_line(aes(x = Temp_mean, y = QTY_mean, group = group, color = group), linetype = 1)"
   ]
  },
  {
   "cell_type": "code",
   "execution_count": 88,
   "metadata": {},
   "outputs": [
    {
     "data": {
      "text/html": [
       "<table>\n",
       "<thead><tr><th scope=col>M</th><th scope=col>QTY_mean</th><th scope=col>Temp_mean</th><th scope=col>group</th></tr></thead>\n",
       "<tbody>\n",
       "\t<tr><td>1         </td><td>1278.6    </td><td> 2.0      </td><td>fruit_temp</td></tr>\n",
       "\t<tr><td>2         </td><td>1514.2    </td><td> 6.6      </td><td>fruit_temp</td></tr>\n",
       "\t<tr><td>3         </td><td>1815.4    </td><td>11.0      </td><td>fruit_temp</td></tr>\n",
       "\t<tr><td>4         </td><td>1973.6    </td><td>16.8      </td><td>fruit_temp</td></tr>\n",
       "\t<tr><td>5         </td><td>2676.4    </td><td>23.6      </td><td>fruit_temp</td></tr>\n",
       "\t<tr><td>6         </td><td>2623.8    </td><td>27.6      </td><td>fruit_temp</td></tr>\n",
       "</tbody>\n",
       "</table>\n"
      ],
      "text/latex": [
       "\\begin{tabular}{r|llll}\n",
       " M & QTY\\_mean & Temp\\_mean & group\\\\\n",
       "\\hline\n",
       "\t 1            & 1278.6       &  2.0         & fruit\\_temp\\\\\n",
       "\t 2            & 1514.2       &  6.6         & fruit\\_temp\\\\\n",
       "\t 3            & 1815.4       & 11.0         & fruit\\_temp\\\\\n",
       "\t 4            & 1973.6       & 16.8         & fruit\\_temp\\\\\n",
       "\t 5            & 2676.4       & 23.6         & fruit\\_temp\\\\\n",
       "\t 6            & 2623.8       & 27.6         & fruit\\_temp\\\\\n",
       "\\end{tabular}\n"
      ],
      "text/markdown": [
       "\n",
       "| M | QTY_mean | Temp_mean | group |\n",
       "|---|---|---|---|\n",
       "| 1          | 1278.6     |  2.0       | fruit_temp |\n",
       "| 2          | 1514.2     |  6.6       | fruit_temp |\n",
       "| 3          | 1815.4     | 11.0       | fruit_temp |\n",
       "| 4          | 1973.6     | 16.8       | fruit_temp |\n",
       "| 5          | 2676.4     | 23.6       | fruit_temp |\n",
       "| 6          | 2623.8     | 27.6       | fruit_temp |\n",
       "\n"
      ],
      "text/plain": [
       "  M QTY_mean Temp_mean group     \n",
       "1 1 1278.6    2.0      fruit_temp\n",
       "2 2 1514.2    6.6      fruit_temp\n",
       "3 3 1815.4   11.0      fruit_temp\n",
       "4 4 1973.6   16.8      fruit_temp\n",
       "5 5 2676.4   23.6      fruit_temp\n",
       "6 6 2623.8   27.6      fruit_temp"
      ]
     },
     "metadata": {},
     "output_type": "display_data"
    }
   ],
   "source": [
    "data_month = as.data.frame(data_month)\n",
    "data_month$M = as.integer(data_month$M)\n",
    "head(data_month)"
   ]
  },
  {
   "cell_type": "code",
   "execution_count": 89,
   "metadata": {},
   "outputs": [],
   "source": [
    "data_month = data_month %>%\n",
    "        mutate(season = ntile(data_month$Temp_mean, 4))"
   ]
  },
  {
   "cell_type": "code",
   "execution_count": 90,
   "metadata": {},
   "outputs": [
    {
     "name": "stdout",
     "output_type": "stream",
     "text": [
      "'data.frame':\t36 obs. of  5 variables:\n",
      " $ M        : int  1 2 3 4 5 6 7 8 9 10 ...\n",
      " $ QTY_mean : num  1279 1514 1815 1974 2676 ...\n",
      " $ Temp_mean: num  2 6.6 11 16.8 23.6 27.6 28.8 30 26.2 20.8 ...\n",
      " $ group    : chr  \"fruit_temp\" \"fruit_temp\" \"fruit_temp\" \"fruit_temp\" ...\n",
      " $ season   : Factor w/ 4 levels \"1\",\"2\",\"3\",\"4\": 1 1 2 2 3 4 4 4 3 3 ...\n"
     ]
    }
   ],
   "source": [
    "data_month$season = as.factor(data_month$season)\n",
    "str(data_month)"
   ]
  },
  {
   "cell_type": "code",
   "execution_count": 91,
   "metadata": {},
   "outputs": [
    {
     "data": {
      "text/plain": [
       "             Df   Sum Sq  Mean Sq F value   Pr(>F)    \n",
       "season        3  4308384  1436128  68.037 7.04e-12 ***\n",
       "group         2 23013922 11506961 545.142  < 2e-16 ***\n",
       "season:group  6   724583   120764   5.721 0.000826 ***\n",
       "Residuals    24   506597    21108                     \n",
       "---\n",
       "Signif. codes:  0 '***' 0.001 '**' 0.01 '*' 0.05 '.' 0.1 ' ' 1"
      ]
     },
     "metadata": {},
     "output_type": "display_data"
    }
   ],
   "source": [
    "a = aov(QTY_mean ~ season * group, data = data_month)\n",
    "summary(a)"
   ]
  },
  {
   "cell_type": "code",
   "execution_count": 92,
   "metadata": {},
   "outputs": [
    {
     "data": {
      "text/plain": [
       "  Tukey multiple comparisons of means\n",
       "    95% family-wise confidence level\n",
       "\n",
       "Fit: aov(formula = QTY_mean ~ season * group, data = data_month)\n",
       "\n",
       "$season\n",
       "         diff       lwr       upr     p adj\n",
       "2-1 296.06667  107.1330  485.0003 0.0012457\n",
       "3-1 788.62222  599.6885  977.5559 0.0000000\n",
       "4-1 825.33333  636.3997 1014.2670 0.0000000\n",
       "3-2 492.55556  303.6219  681.4892 0.0000011\n",
       "4-2 529.26667  340.3330  718.2003 0.0000003\n",
       "4-3  36.71111 -152.2226  225.6448 0.9493752\n",
       "\n",
       "$group\n",
       "                              diff        lwr        upr    p adj\n",
       "tea_temp-fruit_temp       336.8167   188.6951   484.9383 2.19e-05\n",
       "vitamin_temp-fruit_temp -1502.4167 -1650.5383 -1354.2951 0.00e+00\n",
       "vitamin_temp-tea_temp   -1839.2333 -1987.3549 -1691.1117 0.00e+00\n",
       "\n",
       "$`season:group`\n",
       "                                      diff         lwr        upr     p adj\n",
       "2:fruit_temp-1:fruit_temp       405.066667   -22.65471   832.7880 0.0748781\n",
       "3:fruit_temp-1:fruit_temp      1058.133333   630.41195  1485.8547 0.0000003\n",
       "4:fruit_temp-1:fruit_temp      1065.400000   637.67862  1493.1214 0.0000002\n",
       "1:tea_temp-1:fruit_temp         359.400000   -68.32138   787.1214 0.1599535\n",
       "2:tea_temp-1:fruit_temp         745.666667   317.94529  1173.3880 0.0000895\n",
       "3:tea_temp-1:fruit_temp        1347.133333   919.41195  1774.8547 0.0000000\n",
       "4:tea_temp-1:fruit_temp        1423.666667   995.94529  1851.3880 0.0000000\n",
       "1:vitamin_temp-1:fruit_temp   -1061.066667 -1488.78805  -633.3453 0.0000002\n",
       "2:vitamin_temp-1:fruit_temp    -964.200000 -1391.92138  -536.4786 0.0000013\n",
       "3:vitamin_temp-1:fruit_temp    -741.066667 -1168.78805  -313.3453 0.0000981\n",
       "4:vitamin_temp-1:fruit_temp    -714.733333 -1142.45471  -287.0120 0.0001664\n",
       "3:fruit_temp-2:fruit_temp       653.066667   225.34529  1080.7880 0.0005801\n",
       "4:fruit_temp-2:fruit_temp       660.333333   232.61195  1088.0547 0.0005004\n",
       "1:tea_temp-2:fruit_temp         -45.666667  -473.38805   382.0547 0.9999997\n",
       "2:tea_temp-2:fruit_temp         340.600000   -87.12138   768.3214 0.2128941\n",
       "3:tea_temp-2:fruit_temp         942.066667   514.34529  1369.7880 0.0000020\n",
       "4:tea_temp-2:fruit_temp        1018.600000   590.87862  1446.3214 0.0000005\n",
       "1:vitamin_temp-2:fruit_temp   -1466.133333 -1893.85471 -1038.4120 0.0000000\n",
       "2:vitamin_temp-2:fruit_temp   -1369.266667 -1796.98805  -941.5453 0.0000000\n",
       "3:vitamin_temp-2:fruit_temp   -1146.133333 -1573.85471  -718.4120 0.0000001\n",
       "4:vitamin_temp-2:fruit_temp   -1119.800000 -1547.52138  -692.0786 0.0000001\n",
       "4:fruit_temp-3:fruit_temp         7.266667  -420.45471   434.9880 1.0000000\n",
       "1:tea_temp-3:fruit_temp        -698.733333 -1126.45471  -271.0120 0.0002298\n",
       "2:tea_temp-3:fruit_temp        -312.466667  -740.18805   115.2547 0.3151198\n",
       "3:tea_temp-3:fruit_temp         289.000000  -138.72138   716.7214 0.4208376\n",
       "4:tea_temp-3:fruit_temp         365.533333   -62.18805   793.2547 0.1451746\n",
       "1:vitamin_temp-3:fruit_temp   -2119.200000 -2546.92138 -1691.4786 0.0000000\n",
       "2:vitamin_temp-3:fruit_temp   -2022.333333 -2450.05471 -1594.6120 0.0000000\n",
       "3:vitamin_temp-3:fruit_temp   -1799.200000 -2226.92138 -1371.4786 0.0000000\n",
       "4:vitamin_temp-3:fruit_temp   -1772.866667 -2200.58805 -1345.1453 0.0000000\n",
       "1:tea_temp-4:fruit_temp        -706.000000 -1133.72138  -278.2786 0.0001984\n",
       "2:tea_temp-4:fruit_temp        -319.733333  -747.45471   107.9880 0.2860353\n",
       "3:tea_temp-4:fruit_temp         281.733333  -145.98805   709.4547 0.4567188\n",
       "4:tea_temp-4:fruit_temp         358.266667   -69.45471   785.9880 0.1628138\n",
       "1:vitamin_temp-4:fruit_temp   -2126.466667 -2554.18805 -1698.7453 0.0000000\n",
       "2:vitamin_temp-4:fruit_temp   -2029.600000 -2457.32138 -1601.8786 0.0000000\n",
       "3:vitamin_temp-4:fruit_temp   -1806.466667 -2234.18805 -1378.7453 0.0000000\n",
       "4:vitamin_temp-4:fruit_temp   -1780.133333 -2207.85471 -1352.4120 0.0000000\n",
       "2:tea_temp-1:tea_temp           386.266667   -41.45471   813.9880 0.1033598\n",
       "3:tea_temp-1:tea_temp           987.733333   560.01195  1415.4547 0.0000009\n",
       "4:tea_temp-1:tea_temp          1064.266667   636.54529  1491.9880 0.0000002\n",
       "1:vitamin_temp-1:tea_temp     -1420.466667 -1848.18805  -992.7453 0.0000000\n",
       "2:vitamin_temp-1:tea_temp     -1323.600000 -1751.32138  -895.8786 0.0000000\n",
       "3:vitamin_temp-1:tea_temp     -1100.466667 -1528.18805  -672.7453 0.0000001\n",
       "4:vitamin_temp-1:tea_temp     -1074.133333 -1501.85471  -646.4120 0.0000002\n",
       "3:tea_temp-2:tea_temp           601.466667   173.74529  1029.1880 0.0016578\n",
       "4:tea_temp-2:tea_temp           678.000000   250.27862  1105.7214 0.0003496\n",
       "1:vitamin_temp-2:tea_temp     -1806.733333 -2234.45471 -1379.0120 0.0000000\n",
       "2:vitamin_temp-2:tea_temp     -1709.866667 -2137.58805 -1282.1453 0.0000000\n",
       "3:vitamin_temp-2:tea_temp     -1486.733333 -1914.45471 -1059.0120 0.0000000\n",
       "4:vitamin_temp-2:tea_temp     -1460.400000 -1888.12138 -1032.6786 0.0000000\n",
       "4:tea_temp-3:tea_temp            76.533333  -351.18805   504.2547 0.9999314\n",
       "1:vitamin_temp-3:tea_temp     -2408.200000 -2835.92138 -1980.4786 0.0000000\n",
       "2:vitamin_temp-3:tea_temp     -2311.333333 -2739.05471 -1883.6120 0.0000000\n",
       "3:vitamin_temp-3:tea_temp     -2088.200000 -2515.92138 -1660.4786 0.0000000\n",
       "4:vitamin_temp-3:tea_temp     -2061.866667 -2489.58805 -1634.1453 0.0000000\n",
       "1:vitamin_temp-4:tea_temp     -2484.733333 -2912.45471 -2057.0120 0.0000000\n",
       "2:vitamin_temp-4:tea_temp     -2387.866667 -2815.58805 -1960.1453 0.0000000\n",
       "3:vitamin_temp-4:tea_temp     -2164.733333 -2592.45471 -1737.0120 0.0000000\n",
       "4:vitamin_temp-4:tea_temp     -2138.400000 -2566.12138 -1710.6786 0.0000000\n",
       "2:vitamin_temp-1:vitamin_temp    96.866667  -330.85471   524.5880 0.9993579\n",
       "3:vitamin_temp-1:vitamin_temp   320.000000  -107.72138   747.7214 0.2850031\n",
       "4:vitamin_temp-1:vitamin_temp   346.333333   -81.38805   774.0547 0.1954843\n",
       "3:vitamin_temp-2:vitamin_temp   223.133333  -204.58805   650.8547 0.7592023\n",
       "4:vitamin_temp-2:vitamin_temp   249.466667  -178.25471   677.1880 0.6255551\n",
       "4:vitamin_temp-3:vitamin_temp    26.333333  -401.38805   454.0547 1.0000000\n"
      ]
     },
     "metadata": {},
     "output_type": "display_data"
    }
   ],
   "source": [
    "TukeyHSD(a)"
   ]
  },
  {
   "cell_type": "code",
   "execution_count": 93,
   "metadata": {},
   "outputs": [
    {
     "data": {
      "image/png": "[encoded data removed]",
      "text/plain": [
       "plot without title"
      ]
     },
     "metadata": {},
     "output_type": "display_data"
    }
   ],
   "source": [
    "interaction.plot(data_month$season, data_month$group, data_month$QTY_mean, col = rainbow(3))"
   ]
  },
  {
   "cell_type": "code",
   "execution_count": 94,
   "metadata": {},
   "outputs": [
    {
     "data": {
      "image/png": "[encoded data removed]",
      "text/plain": [
       "plot without title"
      ]
     },
     "metadata": {},
     "output_type": "display_data"
    }
   ],
   "source": [
    "interaction.plot(data_month$group, data_month$season, data_month$QTY_mean, col = rainbow(3))"
   ]
  },
  {
   "cell_type": "code",
   "execution_count": 95,
   "metadata": {},
   "outputs": [
    {
     "data": {
      "text/html": [
       "<table>\n",
       "<thead><tr><th scope=col>M</th><th scope=col>QTY_mean</th><th scope=col>Temp_mean</th><th scope=col>group</th><th scope=col>season</th></tr></thead>\n",
       "<tbody>\n",
       "\t<tr><td> 1          </td><td>1278.6      </td><td> 2.0        </td><td>fruit_temp  </td><td>1           </td></tr>\n",
       "\t<tr><td> 2          </td><td>1514.2      </td><td> 6.6        </td><td>fruit_temp  </td><td>1           </td></tr>\n",
       "\t<tr><td> 3          </td><td>1815.4      </td><td>11.0        </td><td>fruit_temp  </td><td>2           </td></tr>\n",
       "\t<tr><td> 4          </td><td>1973.6      </td><td>16.8        </td><td>fruit_temp  </td><td>2           </td></tr>\n",
       "\t<tr><td> 5          </td><td>2676.4      </td><td>23.6        </td><td>fruit_temp  </td><td>3           </td></tr>\n",
       "\t<tr><td> 6          </td><td>2623.8      </td><td>27.6        </td><td>fruit_temp  </td><td>4           </td></tr>\n",
       "\t<tr><td> 7          </td><td>2368.2      </td><td>28.8        </td><td>fruit_temp  </td><td>4           </td></tr>\n",
       "\t<tr><td> 8          </td><td>2530.4      </td><td>30.0        </td><td>fruit_temp  </td><td>4           </td></tr>\n",
       "\t<tr><td> 9          </td><td>2538.2      </td><td>26.2        </td><td>fruit_temp  </td><td>3           </td></tr>\n",
       "\t<tr><td>10          </td><td>2286.0      </td><td>20.8        </td><td>fruit_temp  </td><td>3           </td></tr>\n",
       "\t<tr><td>11          </td><td>1752.4      </td><td>12.8        </td><td>fruit_temp  </td><td>2           </td></tr>\n",
       "\t<tr><td>12          </td><td>1533.4      </td><td> 4.4        </td><td>fruit_temp  </td><td>1           </td></tr>\n",
       "\t<tr><td> 1          </td><td> 349.4      </td><td> 2.0        </td><td>vitamin_temp</td><td>1           </td></tr>\n",
       "\t<tr><td> 2          </td><td> 358.6      </td><td> 6.6        </td><td>vitamin_temp</td><td>1           </td></tr>\n",
       "\t<tr><td> 3          </td><td> 383.2      </td><td>11.0        </td><td>vitamin_temp</td><td>2           </td></tr>\n",
       "\t<tr><td> 4          </td><td> 529.0      </td><td>16.8        </td><td>vitamin_temp</td><td>2           </td></tr>\n",
       "\t<tr><td> 5          </td><td> 694.8      </td><td>23.6        </td><td>vitamin_temp</td><td>3           </td></tr>\n",
       "\t<tr><td> 6          </td><td> 672.8      </td><td>27.6        </td><td>vitamin_temp</td><td>4           </td></tr>\n",
       "\t<tr><td> 7          </td><td> 673.8      </td><td>28.8        </td><td>vitamin_temp</td><td>4           </td></tr>\n",
       "\t<tr><td> 8          </td><td> 835.4      </td><td>30.0        </td><td>vitamin_temp</td><td>4           </td></tr>\n",
       "\t<tr><td> 9          </td><td> 677.8      </td><td>26.2        </td><td>vitamin_temp</td><td>3           </td></tr>\n",
       "\t<tr><td>10          </td><td> 730.4      </td><td>20.8        </td><td>vitamin_temp</td><td>3           </td></tr>\n",
       "\t<tr><td>11          </td><td> 521.4      </td><td>12.8        </td><td>vitamin_temp</td><td>2           </td></tr>\n",
       "\t<tr><td>12          </td><td> 435.0      </td><td> 4.4        </td><td>vitamin_temp</td><td>1           </td></tr>\n",
       "\t<tr><td> 1          </td><td>1739.6      </td><td> 2.0        </td><td>tea_temp    </td><td>1           </td></tr>\n",
       "\t<tr><td> 2          </td><td>1585.6      </td><td> 6.6        </td><td>tea_temp    </td><td>1           </td></tr>\n",
       "\t<tr><td> 3          </td><td>2004.6      </td><td>11.0        </td><td>tea_temp    </td><td>2           </td></tr>\n",
       "\t<tr><td> 4          </td><td>2402.6      </td><td>16.8        </td><td>tea_temp    </td><td>2           </td></tr>\n",
       "\t<tr><td> 5          </td><td>2848.0      </td><td>23.6        </td><td>tea_temp    </td><td>3           </td></tr>\n",
       "\t<tr><td> 6          </td><td>2748.8      </td><td>27.6        </td><td>tea_temp    </td><td>4           </td></tr>\n",
       "\t<tr><td> 7          </td><td>2771.2      </td><td>28.8        </td><td>tea_temp    </td><td>4           </td></tr>\n",
       "\t<tr><td> 8          </td><td>3077.2      </td><td>30.0        </td><td>tea_temp    </td><td>4           </td></tr>\n",
       "\t<tr><td> 9          </td><td>2833.6      </td><td>26.2        </td><td>tea_temp    </td><td>3           </td></tr>\n",
       "\t<tr><td>10          </td><td>2686.0      </td><td>20.8        </td><td>tea_temp    </td><td>3           </td></tr>\n",
       "\t<tr><td>11          </td><td>2156.0      </td><td>12.8        </td><td>tea_temp    </td><td>2           </td></tr>\n",
       "\t<tr><td>12          </td><td>2079.2      </td><td> 4.4        </td><td>tea_temp    </td><td>1           </td></tr>\n",
       "</tbody>\n",
       "</table>\n"
      ],
      "text/latex": [
       "\\begin{tabular}{r|lllll}\n",
       " M & QTY\\_mean & Temp\\_mean & group & season\\\\\n",
       "\\hline\n",
       "\t  1             & 1278.6         &  2.0           & fruit\\_temp   & 1             \\\\\n",
       "\t  2             & 1514.2         &  6.6           & fruit\\_temp   & 1             \\\\\n",
       "\t  3             & 1815.4         & 11.0           & fruit\\_temp   & 2             \\\\\n",
       "\t  4             & 1973.6         & 16.8           & fruit\\_temp   & 2             \\\\\n",
       "\t  5             & 2676.4         & 23.6           & fruit\\_temp   & 3             \\\\\n",
       "\t  6             & 2623.8         & 27.6           & fruit\\_temp   & 4             \\\\\n",
       "\t  7             & 2368.2         & 28.8           & fruit\\_temp   & 4             \\\\\n",
       "\t  8             & 2530.4         & 30.0           & fruit\\_temp   & 4             \\\\\n",
       "\t  9             & 2538.2         & 26.2           & fruit\\_temp   & 3             \\\\\n",
       "\t 10             & 2286.0         & 20.8           & fruit\\_temp   & 3             \\\\\n",
       "\t 11             & 1752.4         & 12.8           & fruit\\_temp   & 2             \\\\\n",
       "\t 12             & 1533.4         &  4.4           & fruit\\_temp   & 1             \\\\\n",
       "\t  1             &  349.4         &  2.0           & vitamin\\_temp & 1             \\\\\n",
       "\t  2             &  358.6         &  6.6           & vitamin\\_temp & 1             \\\\\n",
       "\t  3             &  383.2         & 11.0           & vitamin\\_temp & 2             \\\\\n",
       "\t  4             &  529.0         & 16.8           & vitamin\\_temp & 2             \\\\\n",
       "\t  5             &  694.8         & 23.6           & vitamin\\_temp & 3             \\\\\n",
       "\t  6             &  672.8         & 27.6           & vitamin\\_temp & 4             \\\\\n",
       "\t  7             &  673.8         & 28.8           & vitamin\\_temp & 4             \\\\\n",
       "\t  8             &  835.4         & 30.0           & vitamin\\_temp & 4             \\\\\n",
       "\t  9             &  677.8         & 26.2           & vitamin\\_temp & 3             \\\\\n",
       "\t 10             &  730.4         & 20.8           & vitamin\\_temp & 3             \\\\\n",
       "\t 11             &  521.4         & 12.8           & vitamin\\_temp & 2             \\\\\n",
       "\t 12             &  435.0         &  4.4           & vitamin\\_temp & 1             \\\\\n",
       "\t  1             & 1739.6         &  2.0           & tea\\_temp     & 1             \\\\\n",
       "\t  2             & 1585.6         &  6.6           & tea\\_temp     & 1             \\\\\n",
       "\t  3             & 2004.6         & 11.0           & tea\\_temp     & 2             \\\\\n",
       "\t  4             & 2402.6         & 16.8           & tea\\_temp     & 2             \\\\\n",
       "\t  5             & 2848.0         & 23.6           & tea\\_temp     & 3             \\\\\n",
       "\t  6             & 2748.8         & 27.6           & tea\\_temp     & 4             \\\\\n",
       "\t  7             & 2771.2         & 28.8           & tea\\_temp     & 4             \\\\\n",
       "\t  8             & 3077.2         & 30.0           & tea\\_temp     & 4             \\\\\n",
       "\t  9             & 2833.6         & 26.2           & tea\\_temp     & 3             \\\\\n",
       "\t 10             & 2686.0         & 20.8           & tea\\_temp     & 3             \\\\\n",
       "\t 11             & 2156.0         & 12.8           & tea\\_temp     & 2             \\\\\n",
       "\t 12             & 2079.2         &  4.4           & tea\\_temp     & 1             \\\\\n",
       "\\end{tabular}\n"
      ],
      "text/markdown": [
       "\n",
       "| M | QTY_mean | Temp_mean | group | season |\n",
       "|---|---|---|---|---|\n",
       "|  1           | 1278.6       |  2.0         | fruit_temp   | 1            |\n",
       "|  2           | 1514.2       |  6.6         | fruit_temp   | 1            |\n",
       "|  3           | 1815.4       | 11.0         | fruit_temp   | 2            |\n",
       "|  4           | 1973.6       | 16.8         | fruit_temp   | 2            |\n",
       "|  5           | 2676.4       | 23.6         | fruit_temp   | 3            |\n",
       "|  6           | 2623.8       | 27.6         | fruit_temp   | 4            |\n",
       "|  7           | 2368.2       | 28.8         | fruit_temp   | 4            |\n",
       "|  8           | 2530.4       | 30.0         | fruit_temp   | 4            |\n",
       "|  9           | 2538.2       | 26.2         | fruit_temp   | 3            |\n",
       "| 10           | 2286.0       | 20.8         | fruit_temp   | 3            |\n",
       "| 11           | 1752.4       | 12.8         | fruit_temp   | 2            |\n",
       "| 12           | 1533.4       |  4.4         | fruit_temp   | 1            |\n",
       "|  1           |  349.4       |  2.0         | vitamin_temp | 1            |\n",
       "|  2           |  358.6       |  6.6         | vitamin_temp | 1            |\n",
       "|  3           |  383.2       | 11.0         | vitamin_temp | 2            |\n",
       "|  4           |  529.0       | 16.8         | vitamin_temp | 2            |\n",
       "|  5           |  694.8       | 23.6         | vitamin_temp | 3            |\n",
       "|  6           |  672.8       | 27.6         | vitamin_temp | 4            |\n",
       "|  7           |  673.8       | 28.8         | vitamin_temp | 4            |\n",
       "|  8           |  835.4       | 30.0         | vitamin_temp | 4            |\n",
       "|  9           |  677.8       | 26.2         | vitamin_temp | 3            |\n",
       "| 10           |  730.4       | 20.8         | vitamin_temp | 3            |\n",
       "| 11           |  521.4       | 12.8         | vitamin_temp | 2            |\n",
       "| 12           |  435.0       |  4.4         | vitamin_temp | 1            |\n",
       "|  1           | 1739.6       |  2.0         | tea_temp     | 1            |\n",
       "|  2           | 1585.6       |  6.6         | tea_temp     | 1            |\n",
       "|  3           | 2004.6       | 11.0         | tea_temp     | 2            |\n",
       "|  4           | 2402.6       | 16.8         | tea_temp     | 2            |\n",
       "|  5           | 2848.0       | 23.6         | tea_temp     | 3            |\n",
       "|  6           | 2748.8       | 27.6         | tea_temp     | 4            |\n",
       "|  7           | 2771.2       | 28.8         | tea_temp     | 4            |\n",
       "|  8           | 3077.2       | 30.0         | tea_temp     | 4            |\n",
       "|  9           | 2833.6       | 26.2         | tea_temp     | 3            |\n",
       "| 10           | 2686.0       | 20.8         | tea_temp     | 3            |\n",
       "| 11           | 2156.0       | 12.8         | tea_temp     | 2            |\n",
       "| 12           | 2079.2       |  4.4         | tea_temp     | 1            |\n",
       "\n"
      ],
      "text/plain": [
       "   M  QTY_mean Temp_mean group        season\n",
       "1   1 1278.6    2.0      fruit_temp   1     \n",
       "2   2 1514.2    6.6      fruit_temp   1     \n",
       "3   3 1815.4   11.0      fruit_temp   2     \n",
       "4   4 1973.6   16.8      fruit_temp   2     \n",
       "5   5 2676.4   23.6      fruit_temp   3     \n",
       "6   6 2623.8   27.6      fruit_temp   4     \n",
       "7   7 2368.2   28.8      fruit_temp   4     \n",
       "8   8 2530.4   30.0      fruit_temp   4     \n",
       "9   9 2538.2   26.2      fruit_temp   3     \n",
       "10 10 2286.0   20.8      fruit_temp   3     \n",
       "11 11 1752.4   12.8      fruit_temp   2     \n",
       "12 12 1533.4    4.4      fruit_temp   1     \n",
       "13  1  349.4    2.0      vitamin_temp 1     \n",
       "14  2  358.6    6.6      vitamin_temp 1     \n",
       "15  3  383.2   11.0      vitamin_temp 2     \n",
       "16  4  529.0   16.8      vitamin_temp 2     \n",
       "17  5  694.8   23.6      vitamin_temp 3     \n",
       "18  6  672.8   27.6      vitamin_temp 4     \n",
       "19  7  673.8   28.8      vitamin_temp 4     \n",
       "20  8  835.4   30.0      vitamin_temp 4     \n",
       "21  9  677.8   26.2      vitamin_temp 3     \n",
       "22 10  730.4   20.8      vitamin_temp 3     \n",
       "23 11  521.4   12.8      vitamin_temp 2     \n",
       "24 12  435.0    4.4      vitamin_temp 1     \n",
       "25  1 1739.6    2.0      tea_temp     1     \n",
       "26  2 1585.6    6.6      tea_temp     1     \n",
       "27  3 2004.6   11.0      tea_temp     2     \n",
       "28  4 2402.6   16.8      tea_temp     2     \n",
       "29  5 2848.0   23.6      tea_temp     3     \n",
       "30  6 2748.8   27.6      tea_temp     4     \n",
       "31  7 2771.2   28.8      tea_temp     4     \n",
       "32  8 3077.2   30.0      tea_temp     4     \n",
       "33  9 2833.6   26.2      tea_temp     3     \n",
       "34 10 2686.0   20.8      tea_temp     3     \n",
       "35 11 2156.0   12.8      tea_temp     2     \n",
       "36 12 2079.2    4.4      tea_temp     1     "
      ]
     },
     "metadata": {},
     "output_type": "display_data"
    }
   ],
   "source": [
    "data_month"
   ]
  },
  {
   "cell_type": "code",
   "execution_count": 171,
   "metadata": {},
   "outputs": [],
   "source": [
    "fruit_data_2009_month = fruit_data %>%\n",
    "                    filter(grepl('^2009', YM))\n",
    "fruit_data_2009_month$YM = as.factor(seq(1:12))\n",
    "fruit_data_2009_month$year = 2009\n",
    "\n",
    "fruit_data_2010_month = fruit_data %>%\n",
    "                    filter(grepl('^2010', YM))\n",
    "fruit_data_2010_month$YM = as.factor(seq(1:12))\n",
    "fruit_data_2010_month$year = 2010\n",
    "\n",
    "fruit_data_2011_month = fruit_data %>%\n",
    "                    filter(grepl('^2011', YM))\n",
    "fruit_data_2011_month$YM = as.factor(seq(1:12))\n",
    "fruit_data_2011_month$year = 2011\n",
    "\n",
    "fruit_data_2012_month = fruit_data %>%\n",
    "                    filter(grepl('^2012', YM))\n",
    "fruit_data_2012_month$YM = as.factor(seq(1:12))\n",
    "fruit_data_2012_month$year = 2012\n",
    "\n",
    "fruit_data_2013_month = fruit_data %>%\n",
    "                    filter(grepl('^2013', YM))\n",
    "fruit_data_2013_month$YM = as.factor(seq(1:12))\n",
    "fruit_data_2013_month$year = 2013\n",
    "\n",
    "\n",
    "fruit_data_ymonth_0912 = rbind(fruit_data_2009_month, fruit_data_2010_month, fruit_data_2011_month, fruit_data_2012_month)"
   ]
  },
  {
   "cell_type": "code",
   "execution_count": 96,
   "metadata": {},
   "outputs": [],
   "source": [
    "data_2013 = data  %>% \n",
    "                filter(grepl('^2013', YM))\n",
    "\n",
    "data_2013_fruit = data_2013  %>% \n",
    "                    filter(CATEGORY == '과즙음료')\n",
    "data_2013_vitamin = data_2013  %>% \n",
    "                        filter(CATEGORY == '비타민음료')\n",
    "data_2013_tea = data_2013  %>% \n",
    "                    filter(CATEGORY == '차음료')\n",
    "\n",
    "data_0912 = data  %>% \n",
    "                filter(!grepl('^2013', YM))\n",
    "\n",
    "data_0912_fruit = data_0912  %>% \n",
    "                    filter(CATEGORY == '과즙음료')\n",
    "data_0912_vitamin = data_0912  %>% \n",
    "                    filter(CATEGORY == '비타민음료')\n",
    "data_0912_vitamin = data_0912_vitamin  %>% \n",
    "                    filter(PRICE != 1300)\n",
    "\n",
    "data_0912_tea = data_0912  %>% \n",
    "                    filter(CATEGORY == '차음료')"
   ]
  },
  {
   "cell_type": "code",
   "execution_count": 172,
   "metadata": {
    "scrolled": true
   },
   "outputs": [
    {
     "data": {
      "text/plain": [
       "\n",
       "Call:\n",
       "lm(formula = QTY ~ YM + ITEM_CNT + year, data = fruit_data_ymonth_0912)\n",
       "\n",
       "Residuals:\n",
       "    Min      1Q  Median      3Q     Max \n",
       "-356.83 -133.85  -43.91   97.93  455.48 \n",
       "\n",
       "Coefficients:\n",
       "              Estimate Std. Error t value Pr(>|t|)    \n",
       "(Intercept) -1.769e+05  1.243e+05  -1.424 0.163594    \n",
       "YM2          3.105e+02  1.590e+02   1.952 0.059167 .  \n",
       "YM3          6.131e+02  1.596e+02   3.842 0.000509 ***\n",
       "YM4          6.623e+02  1.601e+02   4.137 0.000219 ***\n",
       "YM5          1.380e+03  1.613e+02   8.557 5.38e-10 ***\n",
       "YM6          1.219e+03  1.660e+02   7.347 1.63e-08 ***\n",
       "YM7          9.786e+02  1.655e+02   5.914 1.11e-06 ***\n",
       "YM8          1.077e+03  1.655e+02   6.506 1.91e-07 ***\n",
       "YM9          1.042e+03  1.646e+02   6.334 3.18e-07 ***\n",
       "YM10         8.191e+02  1.655e+02   4.950 1.99e-05 ***\n",
       "YM11         3.310e+02  1.650e+02   2.006 0.052882 .  \n",
       "YM12         1.072e+02  1.637e+02   0.654 0.517212    \n",
       "ITEM_CNT     3.054e+01  6.789e+00   4.498 7.61e-05 ***\n",
       "year         8.769e+01  6.198e+01   1.415 0.166248    \n",
       "---\n",
       "Signif. codes:  0 '***' 0.001 '**' 0.01 '*' 0.05 '.' 0.1 ' ' 1\n",
       "\n",
       "Residual standard error: 224.9 on 34 degrees of freedom\n",
       "Multiple R-squared:  0.9166,\tAdjusted R-squared:  0.8847 \n",
       "F-statistic: 28.75 on 13 and 34 DF,  p-value: 1.52e-14\n"
      ]
     },
     "metadata": {},
     "output_type": "display_data"
    }
   ],
   "source": [
    "# 과즙음료 최종 모델\n",
    "fruit_model = lm(QTY ~ YM + ITEM_CNT + year, data = fruit_data_ymonth_0912)\n",
    "summary(fruit_model)"
   ]
  },
  {
   "cell_type": "code",
   "execution_count": 173,
   "metadata": {},
   "outputs": [
    {
     "data": {
      "text/plain": [
       "\n",
       "Call:\n",
       "lm(formula = QTY ~ MAXTEMP + SALEDAY, data = data_0912_tea)\n",
       "\n",
       "Residuals:\n",
       "    Min      1Q  Median      3Q     Max \n",
       "-429.01 -117.56    2.35   73.97  920.63 \n",
       "\n",
       "Coefficients:\n",
       "              Estimate Std. Error t value Pr(>|t|)    \n",
       "(Intercept) -2.428e+02  1.556e+02  -1.561    0.126    \n",
       "MAXTEMP      4.017e+01  3.147e+00  12.765   <2e-16 ***\n",
       "SALEDAY      1.090e-02  8.585e-04  12.692   <2e-16 ***\n",
       "---\n",
       "Signif. codes:  0 '***' 0.001 '**' 0.01 '*' 0.05 '.' 0.1 ' ' 1\n",
       "\n",
       "Residual standard error: 209.7 on 45 degrees of freedom\n",
       "Multiple R-squared:  0.8815,\tAdjusted R-squared:  0.8762 \n",
       "F-statistic: 167.3 on 2 and 45 DF,  p-value: < 2.2e-16\n"
      ]
     },
     "metadata": {},
     "output_type": "display_data"
    }
   ],
   "source": [
    "# 차음료 최종 모델\n",
    "tea_model = lm(QTY ~ MAXTEMP + SALEDAY, data = data_0912_tea)\n",
    "summary(tea_model)"
   ]
  },
  {
   "cell_type": "code",
   "execution_count": 174,
   "metadata": {},
   "outputs": [
    {
     "data": {
      "text/plain": [
       "\n",
       "Call:\n",
       "lm(formula = QTY ~ ITEM_CNT + MAXTEMP, data = data_0912_vitamin)\n",
       "\n",
       "Residuals:\n",
       "    Min      1Q  Median      3Q     Max \n",
       "-268.01 -107.41  -54.55  159.06  363.94 \n",
       "\n",
       "Coefficients:\n",
       "            Estimate Std. Error t value Pr(>|t|)    \n",
       "(Intercept) -168.348    107.900  -1.560 0.127970    \n",
       "ITEM_CNT      61.455     10.378   5.922 1.09e-06 ***\n",
       "MAXTEMP       11.439      2.979   3.840 0.000511 ***\n",
       "---\n",
       "Signif. codes:  0 '***' 0.001 '**' 0.01 '*' 0.05 '.' 0.1 ' ' 1\n",
       "\n",
       "Residual standard error: 173 on 34 degrees of freedom\n",
       "Multiple R-squared:  0.6611,\tAdjusted R-squared:  0.6412 \n",
       "F-statistic: 33.16 on 2 and 34 DF,  p-value: 1.026e-08\n"
      ]
     },
     "metadata": {},
     "output_type": "display_data"
    }
   ],
   "source": [
    "# 비타민 최종 모델\n",
    "vitamin_model = lm(QTY ~ ITEM_CNT + MAXTEMP, data_0912_vitamin)\n",
    "summary(vitamin_model)"
   ]
  },
  {
   "cell_type": "markdown",
   "metadata": {},
   "source": [
    "## 2013 과즙음료 예측"
   ]
  },
  {
   "cell_type": "code",
   "execution_count": 177,
   "metadata": {},
   "outputs": [
    {
     "data": {
      "text/html": [
       "<table>\n",
       "<thead><tr><th scope=col>fit</th><th scope=col>lwr</th><th scope=col>upr</th><th scope=col>QTY</th><th scope=col>acc</th></tr></thead>\n",
       "<tbody>\n",
       "\t<tr><td>1509.964 </td><td> 929.2001</td><td>2090.728 </td><td>1627     </td><td>TRUE     </td></tr>\n",
       "\t<tr><td>1881.558 </td><td>1313.7764</td><td>2449.340 </td><td>1624     </td><td>TRUE     </td></tr>\n",
       "\t<tr><td>2123.040 </td><td>1552.8044</td><td>2693.275 </td><td>2103     </td><td>TRUE     </td></tr>\n",
       "\t<tr><td>2080.621 </td><td>1463.6860</td><td>2697.556 </td><td>2117     </td><td>TRUE     </td></tr>\n",
       "\t<tr><td>2859.775 </td><td>2248.0194</td><td>3471.530 </td><td>2606     </td><td>TRUE     </td></tr>\n",
       "\t<tr><td>2515.434 </td><td>1833.7069</td><td>3197.161 </td><td>2621     </td><td>TRUE     </td></tr>\n",
       "\t<tr><td>2366.432 </td><td>1711.8240</td><td>3021.040 </td><td>2336     </td><td>TRUE     </td></tr>\n",
       "\t<tr><td>2525.508 </td><td>1886.5957</td><td>3164.420 </td><td>2755     </td><td>TRUE     </td></tr>\n",
       "\t<tr><td>2430.201 </td><td>1779.5912</td><td>3080.811 </td><td>2992     </td><td>TRUE     </td></tr>\n",
       "\t<tr><td>2359.621 </td><td>1742.6860</td><td>2976.556 </td><td>2563     </td><td>TRUE     </td></tr>\n",
       "\t<tr><td>1993.657 </td><td>1404.2721</td><td>2583.042 </td><td>1878     </td><td>TRUE     </td></tr>\n",
       "\t<tr><td>1678.197 </td><td>1074.7794</td><td>2281.614 </td><td>1770     </td><td>TRUE     </td></tr>\n",
       "</tbody>\n",
       "</table>\n"
      ],
      "text/latex": [
       "\\begin{tabular}{r|lllll}\n",
       " fit & lwr & upr & QTY & acc\\\\\n",
       "\\hline\n",
       "\t 1509.964  &  929.2001 & 2090.728  & 1627      & TRUE     \\\\\n",
       "\t 1881.558  & 1313.7764 & 2449.340  & 1624      & TRUE     \\\\\n",
       "\t 2123.040  & 1552.8044 & 2693.275  & 2103      & TRUE     \\\\\n",
       "\t 2080.621  & 1463.6860 & 2697.556  & 2117      & TRUE     \\\\\n",
       "\t 2859.775  & 2248.0194 & 3471.530  & 2606      & TRUE     \\\\\n",
       "\t 2515.434  & 1833.7069 & 3197.161  & 2621      & TRUE     \\\\\n",
       "\t 2366.432  & 1711.8240 & 3021.040  & 2336      & TRUE     \\\\\n",
       "\t 2525.508  & 1886.5957 & 3164.420  & 2755      & TRUE     \\\\\n",
       "\t 2430.201  & 1779.5912 & 3080.811  & 2992      & TRUE     \\\\\n",
       "\t 2359.621  & 1742.6860 & 2976.556  & 2563      & TRUE     \\\\\n",
       "\t 1993.657  & 1404.2721 & 2583.042  & 1878      & TRUE     \\\\\n",
       "\t 1678.197  & 1074.7794 & 2281.614  & 1770      & TRUE     \\\\\n",
       "\\end{tabular}\n"
      ],
      "text/markdown": [
       "\n",
       "| fit | lwr | upr | QTY | acc |\n",
       "|---|---|---|---|---|\n",
       "| 1509.964  |  929.2001 | 2090.728  | 1627      | TRUE      |\n",
       "| 1881.558  | 1313.7764 | 2449.340  | 1624      | TRUE      |\n",
       "| 2123.040  | 1552.8044 | 2693.275  | 2103      | TRUE      |\n",
       "| 2080.621  | 1463.6860 | 2697.556  | 2117      | TRUE      |\n",
       "| 2859.775  | 2248.0194 | 3471.530  | 2606      | TRUE      |\n",
       "| 2515.434  | 1833.7069 | 3197.161  | 2621      | TRUE      |\n",
       "| 2366.432  | 1711.8240 | 3021.040  | 2336      | TRUE      |\n",
       "| 2525.508  | 1886.5957 | 3164.420  | 2755      | TRUE      |\n",
       "| 2430.201  | 1779.5912 | 3080.811  | 2992      | TRUE      |\n",
       "| 2359.621  | 1742.6860 | 2976.556  | 2563      | TRUE      |\n",
       "| 1993.657  | 1404.2721 | 2583.042  | 1878      | TRUE      |\n",
       "| 1678.197  | 1074.7794 | 2281.614  | 1770      | TRUE      |\n",
       "\n"
      ],
      "text/plain": [
       "   fit      lwr       upr      QTY  acc \n",
       "1  1509.964  929.2001 2090.728 1627 TRUE\n",
       "2  1881.558 1313.7764 2449.340 1624 TRUE\n",
       "3  2123.040 1552.8044 2693.275 2103 TRUE\n",
       "4  2080.621 1463.6860 2697.556 2117 TRUE\n",
       "5  2859.775 2248.0194 3471.530 2606 TRUE\n",
       "6  2515.434 1833.7069 3197.161 2621 TRUE\n",
       "7  2366.432 1711.8240 3021.040 2336 TRUE\n",
       "8  2525.508 1886.5957 3164.420 2755 TRUE\n",
       "9  2430.201 1779.5912 3080.811 2992 TRUE\n",
       "10 2359.621 1742.6860 2976.556 2563 TRUE\n",
       "11 1993.657 1404.2721 2583.042 1878 TRUE\n",
       "12 1678.197 1074.7794 2281.614 1770 TRUE"
      ]
     },
     "metadata": {},
     "output_type": "display_data"
    }
   ],
   "source": [
    "fruit_pre = as.data.frame(predict(fruit_model, fruit_data_2013_month, interval = 'predict'))\n",
    "fruit_pre = cbind(fruit_pre, data_2013_fruit$QTY)\n",
    "fruit_pre$acc[fruit_pre$'data_2013_fruit$QTY' >= fruit_pre$lwr & fruit_pre$'data_2013_fruit$QTY' <= fruit_pre$upr] = T\n",
    "fruit_pre$acc[is.na(fruit_pre$acc)] = F\n",
    "colnames(fruit_pre) = c('fit', 'lwr', 'upr', 'QTY', 'acc')\n",
    "fruit_pre"
   ]
  },
  {
   "cell_type": "code",
   "execution_count": 178,
   "metadata": {},
   "outputs": [
    {
     "data": {
      "text/html": [
       "1"
      ],
      "text/latex": [
       "1"
      ],
      "text/markdown": [
       "1"
      ],
      "text/plain": [
       "[1] 1"
      ]
     },
     "metadata": {},
     "output_type": "display_data"
    }
   ],
   "source": [
    "round(sum(fruit_pre$acc) / dim(fruit_pre)[1], 2)"
   ]
  },
  {
   "cell_type": "markdown",
   "metadata": {},
   "source": [
    "## 2013 차음료 예측"
   ]
  },
  {
   "cell_type": "code",
   "execution_count": 179,
   "metadata": {},
   "outputs": [
    {
     "data": {
      "text/html": [
       "<table>\n",
       "<thead><tr><th scope=col>fit</th><th scope=col>lwr</th><th scope=col>upr</th><th scope=col>QTY</th><th scope=col>acc</th></tr></thead>\n",
       "<tbody>\n",
       "\t<tr><td>2457.356</td><td>2000.805</td><td>2913.907</td><td>2089    </td><td> TRUE   </td></tr>\n",
       "\t<tr><td>2322.853</td><td>1879.964</td><td>2765.742</td><td>1880    </td><td> TRUE   </td></tr>\n",
       "\t<tr><td>2894.227</td><td>2446.027</td><td>3342.428</td><td>2348    </td><td>FALSE   </td></tr>\n",
       "\t<tr><td>2945.985</td><td>2502.156</td><td>3389.815</td><td>2435    </td><td>FALSE   </td></tr>\n",
       "\t<tr><td>3351.519</td><td>2903.325</td><td>3799.712</td><td>3209    </td><td> TRUE   </td></tr>\n",
       "\t<tr><td>3455.493</td><td>3008.305</td><td>3902.681</td><td>3274    </td><td> TRUE   </td></tr>\n",
       "\t<tr><td>3555.667</td><td>3104.991</td><td>4006.344</td><td>3395    </td><td> TRUE   </td></tr>\n",
       "\t<tr><td>3619.162</td><td>3167.123</td><td>4071.201</td><td>3894    </td><td> TRUE   </td></tr>\n",
       "\t<tr><td>3325.930</td><td>2882.313</td><td>3769.547</td><td>3708    </td><td> TRUE   </td></tr>\n",
       "\t<tr><td>3215.755</td><td>2770.771</td><td>3660.739</td><td>3413    </td><td> TRUE   </td></tr>\n",
       "\t<tr><td>2776.606</td><td>2333.562</td><td>3219.649</td><td>2615    </td><td> TRUE   </td></tr>\n",
       "\t<tr><td>2578.310</td><td>2125.637</td><td>3030.983</td><td>2443    </td><td> TRUE   </td></tr>\n",
       "</tbody>\n",
       "</table>\n"
      ],
      "text/latex": [
       "\\begin{tabular}{r|lllll}\n",
       " fit & lwr & upr & QTY & acc\\\\\n",
       "\\hline\n",
       "\t 2457.356 & 2000.805 & 2913.907 & 2089     &  TRUE   \\\\\n",
       "\t 2322.853 & 1879.964 & 2765.742 & 1880     &  TRUE   \\\\\n",
       "\t 2894.227 & 2446.027 & 3342.428 & 2348     & FALSE   \\\\\n",
       "\t 2945.985 & 2502.156 & 3389.815 & 2435     & FALSE   \\\\\n",
       "\t 3351.519 & 2903.325 & 3799.712 & 3209     &  TRUE   \\\\\n",
       "\t 3455.493 & 3008.305 & 3902.681 & 3274     &  TRUE   \\\\\n",
       "\t 3555.667 & 3104.991 & 4006.344 & 3395     &  TRUE   \\\\\n",
       "\t 3619.162 & 3167.123 & 4071.201 & 3894     &  TRUE   \\\\\n",
       "\t 3325.930 & 2882.313 & 3769.547 & 3708     &  TRUE   \\\\\n",
       "\t 3215.755 & 2770.771 & 3660.739 & 3413     &  TRUE   \\\\\n",
       "\t 2776.606 & 2333.562 & 3219.649 & 2615     &  TRUE   \\\\\n",
       "\t 2578.310 & 2125.637 & 3030.983 & 2443     &  TRUE   \\\\\n",
       "\\end{tabular}\n"
      ],
      "text/markdown": [
       "\n",
       "| fit | lwr | upr | QTY | acc |\n",
       "|---|---|---|---|---|\n",
       "| 2457.356 | 2000.805 | 2913.907 | 2089     |  TRUE    |\n",
       "| 2322.853 | 1879.964 | 2765.742 | 1880     |  TRUE    |\n",
       "| 2894.227 | 2446.027 | 3342.428 | 2348     | FALSE    |\n",
       "| 2945.985 | 2502.156 | 3389.815 | 2435     | FALSE    |\n",
       "| 3351.519 | 2903.325 | 3799.712 | 3209     |  TRUE    |\n",
       "| 3455.493 | 3008.305 | 3902.681 | 3274     |  TRUE    |\n",
       "| 3555.667 | 3104.991 | 4006.344 | 3395     |  TRUE    |\n",
       "| 3619.162 | 3167.123 | 4071.201 | 3894     |  TRUE    |\n",
       "| 3325.930 | 2882.313 | 3769.547 | 3708     |  TRUE    |\n",
       "| 3215.755 | 2770.771 | 3660.739 | 3413     |  TRUE    |\n",
       "| 2776.606 | 2333.562 | 3219.649 | 2615     |  TRUE    |\n",
       "| 2578.310 | 2125.637 | 3030.983 | 2443     |  TRUE    |\n",
       "\n"
      ],
      "text/plain": [
       "   fit      lwr      upr      QTY  acc  \n",
       "1  2457.356 2000.805 2913.907 2089  TRUE\n",
       "2  2322.853 1879.964 2765.742 1880  TRUE\n",
       "3  2894.227 2446.027 3342.428 2348 FALSE\n",
       "4  2945.985 2502.156 3389.815 2435 FALSE\n",
       "5  3351.519 2903.325 3799.712 3209  TRUE\n",
       "6  3455.493 3008.305 3902.681 3274  TRUE\n",
       "7  3555.667 3104.991 4006.344 3395  TRUE\n",
       "8  3619.162 3167.123 4071.201 3894  TRUE\n",
       "9  3325.930 2882.313 3769.547 3708  TRUE\n",
       "10 3215.755 2770.771 3660.739 3413  TRUE\n",
       "11 2776.606 2333.562 3219.649 2615  TRUE\n",
       "12 2578.310 2125.637 3030.983 2443  TRUE"
      ]
     },
     "metadata": {},
     "output_type": "display_data"
    }
   ],
   "source": [
    "tea_pre = as.data.frame(predict(tea_model, data_2013_tea, interval = 'predict'))\n",
    "tea_pre = cbind(tea_pre, data_2013_tea$QTY)\n",
    "tea_pre$acc[tea_pre$'data_2013_tea$QTY' >= tea_pre$lwr & tea_pre$'data_2013_tea$QTY' <= tea_pre$upr] = T\n",
    "tea_pre$acc[is.na(tea_pre$acc)] = F\n",
    "colnames(tea_pre) = c('fit', 'lwr', 'upr', 'QTY', 'acc')\n",
    "tea_pre"
   ]
  },
  {
   "cell_type": "code",
   "execution_count": 180,
   "metadata": {},
   "outputs": [
    {
     "data": {
      "text/html": [
       "0.83"
      ],
      "text/latex": [
       "0.83"
      ],
      "text/markdown": [
       "0.83"
      ],
      "text/plain": [
       "[1] 0.83"
      ]
     },
     "metadata": {},
     "output_type": "display_data"
    }
   ],
   "source": [
    "round(sum(tea_pre$acc) / dim(tea_pre)[1], 2)"
   ]
  },
  {
   "cell_type": "markdown",
   "metadata": {},
   "source": [
    "## 2013 비타민 음료 예측"
   ]
  },
  {
   "cell_type": "code",
   "execution_count": 181,
   "metadata": {},
   "outputs": [
    {
     "data": {
      "text/html": [
       "<table>\n",
       "<thead><tr><th scope=col>fit</th><th scope=col>lwr</th><th scope=col>upr</th><th scope=col>QTY</th><th scope=col>acc</th></tr></thead>\n",
       "<tbody>\n",
       "\t<tr><td> 837.8060</td><td> 442.3751</td><td>1233.237 </td><td> 432     </td><td>FALSE    </td></tr>\n",
       "\t<tr><td> 872.1218</td><td> 481.9783</td><td>1262.265 </td><td> 447     </td><td>FALSE    </td></tr>\n",
       "\t<tr><td>1075.1016</td><td> 677.6437</td><td>1472.560 </td><td> 623     </td><td>FALSE    </td></tr>\n",
       "\t<tr><td>1232.3270</td><td> 818.0091</td><td>1646.645 </td><td>1089     </td><td> TRUE    </td></tr>\n",
       "\t<tr><td>1385.2906</td><td> 965.3553</td><td>1805.226 </td><td>1524     </td><td> TRUE    </td></tr>\n",
       "\t<tr><td>1442.4836</td><td>1023.1879</td><td>1861.779 </td><td> 978     </td><td>FALSE    </td></tr>\n",
       "\t<tr><td>1392.4675</td><td> 983.1952</td><td>1801.740 </td><td>1036     </td><td> TRUE    </td></tr>\n",
       "\t<tr><td>1353.8899</td><td> 953.0299</td><td>1754.750 </td><td>1155     </td><td> TRUE    </td></tr>\n",
       "\t<tr><td>1358.1516</td><td> 949.2691</td><td>1767.034 </td><td> 822     </td><td>FALSE    </td></tr>\n",
       "\t<tr><td>1239.5038</td><td> 839.4351</td><td>1639.573 </td><td> 730     </td><td>FALSE    </td></tr>\n",
       "\t<tr><td>1198.0112</td><td> 780.3766</td><td>1615.646 </td><td> 502     </td><td>FALSE    </td></tr>\n",
       "\t<tr><td>1117.9409</td><td> 689.6626</td><td>1546.219 </td><td> 345     </td><td>FALSE    </td></tr>\n",
       "</tbody>\n",
       "</table>\n"
      ],
      "text/latex": [
       "\\begin{tabular}{r|lllll}\n",
       " fit & lwr & upr & QTY & acc\\\\\n",
       "\\hline\n",
       "\t  837.8060 &  442.3751 & 1233.237  &  432      & FALSE    \\\\\n",
       "\t  872.1218 &  481.9783 & 1262.265  &  447      & FALSE    \\\\\n",
       "\t 1075.1016 &  677.6437 & 1472.560  &  623      & FALSE    \\\\\n",
       "\t 1232.3270 &  818.0091 & 1646.645  & 1089      &  TRUE    \\\\\n",
       "\t 1385.2906 &  965.3553 & 1805.226  & 1524      &  TRUE    \\\\\n",
       "\t 1442.4836 & 1023.1879 & 1861.779  &  978      & FALSE    \\\\\n",
       "\t 1392.4675 &  983.1952 & 1801.740  & 1036      &  TRUE    \\\\\n",
       "\t 1353.8899 &  953.0299 & 1754.750  & 1155      &  TRUE    \\\\\n",
       "\t 1358.1516 &  949.2691 & 1767.034  &  822      & FALSE    \\\\\n",
       "\t 1239.5038 &  839.4351 & 1639.573  &  730      & FALSE    \\\\\n",
       "\t 1198.0112 &  780.3766 & 1615.646  &  502      & FALSE    \\\\\n",
       "\t 1117.9409 &  689.6626 & 1546.219  &  345      & FALSE    \\\\\n",
       "\\end{tabular}\n"
      ],
      "text/markdown": [
       "\n",
       "| fit | lwr | upr | QTY | acc |\n",
       "|---|---|---|---|---|\n",
       "|  837.8060 |  442.3751 | 1233.237  |  432      | FALSE     |\n",
       "|  872.1218 |  481.9783 | 1262.265  |  447      | FALSE     |\n",
       "| 1075.1016 |  677.6437 | 1472.560  |  623      | FALSE     |\n",
       "| 1232.3270 |  818.0091 | 1646.645  | 1089      |  TRUE     |\n",
       "| 1385.2906 |  965.3553 | 1805.226  | 1524      |  TRUE     |\n",
       "| 1442.4836 | 1023.1879 | 1861.779  |  978      | FALSE     |\n",
       "| 1392.4675 |  983.1952 | 1801.740  | 1036      |  TRUE     |\n",
       "| 1353.8899 |  953.0299 | 1754.750  | 1155      |  TRUE     |\n",
       "| 1358.1516 |  949.2691 | 1767.034  |  822      | FALSE     |\n",
       "| 1239.5038 |  839.4351 | 1639.573  |  730      | FALSE     |\n",
       "| 1198.0112 |  780.3766 | 1615.646  |  502      | FALSE     |\n",
       "| 1117.9409 |  689.6626 | 1546.219  |  345      | FALSE     |\n",
       "\n"
      ],
      "text/plain": [
       "   fit       lwr       upr      QTY  acc  \n",
       "1   837.8060  442.3751 1233.237  432 FALSE\n",
       "2   872.1218  481.9783 1262.265  447 FALSE\n",
       "3  1075.1016  677.6437 1472.560  623 FALSE\n",
       "4  1232.3270  818.0091 1646.645 1089  TRUE\n",
       "5  1385.2906  965.3553 1805.226 1524  TRUE\n",
       "6  1442.4836 1023.1879 1861.779  978 FALSE\n",
       "7  1392.4675  983.1952 1801.740 1036  TRUE\n",
       "8  1353.8899  953.0299 1754.750 1155  TRUE\n",
       "9  1358.1516  949.2691 1767.034  822 FALSE\n",
       "10 1239.5038  839.4351 1639.573  730 FALSE\n",
       "11 1198.0112  780.3766 1615.646  502 FALSE\n",
       "12 1117.9409  689.6626 1546.219  345 FALSE"
      ]
     },
     "metadata": {},
     "output_type": "display_data"
    }
   ],
   "source": [
    "vitamin_pre = as.data.frame(predict(vitamin_model, data_2013_vitamin, interval = 'predict'))\n",
    "vitamin_pre = cbind(vitamin_pre, data_2013_vitamin$QTY)\n",
    "vitamin_pre$acc[vitamin_pre$'data_2013_vitamin$QTY' >= vitamin_pre$lwr & vitamin_pre$'data_2013_vitamin$QTY' <= vitamin_pre$upr] = T\n",
    "vitamin_pre$acc[is.na(vitamin_pre$acc)] = F\n",
    "colnames(vitamin_pre) = c('fit', 'lwr', 'upr', 'QTY', 'acc')\n",
    "vitamin_pre"
   ]
  },
  {
   "cell_type": "code",
   "execution_count": 182,
   "metadata": {},
   "outputs": [
    {
     "data": {
      "text/html": [
       "0.33"
      ],
      "text/latex": [
       "0.33"
      ],
      "text/markdown": [
       "0.33"
      ],
      "text/plain": [
       "[1] 0.33"
      ]
     },
     "metadata": {},
     "output_type": "display_data"
    }
   ],
   "source": [
    "round(sum(vitamin_pre$acc) / dim(vitamin_pre)[1], 2)"
   ]
  },
  {
   "cell_type": "markdown",
   "metadata": {},
   "source": [
    "# 전체"
   ]
  },
  {
   "cell_type": "code",
   "execution_count": 108,
   "metadata": {},
   "outputs": [
    {
     "data": {
      "text/html": [
       "0.69"
      ],
      "text/latex": [
       "0.69"
      ],
      "text/markdown": [
       "0.69"
      ],
      "text/plain": [
       "[1] 0.69"
      ]
     },
     "metadata": {},
     "output_type": "display_data"
    }
   ],
   "source": [
    "pred = rbind(fruit_pre, vitamin_pre, tea_pre)\n",
    "round(sum(pred$acc) / dim(pred)[1], 2)"
   ]
  },
  {
   "cell_type": "markdown",
   "metadata": {},
   "source": [
    "# 전체 회귀분석"
   ]
  },
  {
   "cell_type": "code",
   "execution_count": 109,
   "metadata": {},
   "outputs": [
    {
     "data": {
      "text/plain": [
       "\n",
       "Call:\n",
       "lm(formula = QTY ~ ITEM_CNT + PRICE + MAXTEMP + SALEDAY, data = data_0912)\n",
       "\n",
       "Residuals:\n",
       "    Min      1Q  Median      3Q     Max \n",
       "-874.00 -203.80   23.28  198.29 1328.68 \n",
       "\n",
       "Coefficients:\n",
       "              Estimate Std. Error t value Pr(>|t|)    \n",
       "(Intercept) -89.345121 170.153881  -0.525      0.6    \n",
       "ITEM_CNT     39.902972   1.537457  25.954  < 2e-16 ***\n",
       "PRICE        -0.643810   0.056907 -11.313  < 2e-16 ***\n",
       "MAXTEMP      27.486726   3.002391   9.155 6.23e-16 ***\n",
       "SALEDAY       0.005507   0.000833   6.611 7.56e-10 ***\n",
       "---\n",
       "Signif. codes:  0 '***' 0.001 '**' 0.01 '*' 0.05 '.' 0.1 ' ' 1\n",
       "\n",
       "Residual standard error: 345.8 on 139 degrees of freedom\n",
       "Multiple R-squared:  0.8739,\tAdjusted R-squared:  0.8702 \n",
       "F-statistic: 240.7 on 4 and 139 DF,  p-value: < 2.2e-16\n"
      ]
     },
     "metadata": {},
     "output_type": "display_data"
    }
   ],
   "source": [
    "a = lm(QTY ~ ITEM_CNT + PRICE + MAXTEMP + SALEDAY, data_0912)\n",
    "summary(a)"
   ]
  },
  {
   "cell_type": "code",
   "execution_count": 110,
   "metadata": {},
   "outputs": [
    {
     "data": {
      "text/html": [
       "0.190401110519674"
      ],
      "text/latex": [
       "0.190401110519674"
      ],
      "text/markdown": [
       "0.190401110519674"
      ],
      "text/plain": [
       "[1] 0.1904011"
      ]
     },
     "metadata": {},
     "output_type": "display_data"
    }
   ],
   "source": [
    "cor(data_0912$PRICE, data_0912$QTY)"
   ]
  },
  {
   "cell_type": "code",
   "execution_count": 111,
   "metadata": {},
   "outputs": [
    {
     "data": {
      "image/png": "[encoded data removed]",
      "text/plain": [
       "plot without title"
      ]
     },
     "metadata": {},
     "output_type": "display_data"
    }
   ],
   "source": [
    "plot(data_0912$PRICE, data_0912$QTY, col = data_0912$CATEGORY)"
   ]
  },
  {
   "cell_type": "code",
   "execution_count": 112,
   "metadata": {},
   "outputs": [
    {
     "data": {
      "text/html": [
       "<table>\n",
       "<thead><tr><th scope=col>fit</th><th scope=col>lwr</th><th scope=col>upr</th><th scope=col>data_2013$QTY</th><th scope=col>acc</th></tr></thead>\n",
       "<tbody>\n",
       "\t<tr><td>2397.4470  </td><td>1693.348047</td><td>3101.546   </td><td>1627       </td><td>FALSE      </td></tr>\n",
       "\t<tr><td>2332.3370  </td><td>1635.360411</td><td>3029.314   </td><td>1624       </td><td>FALSE      </td></tr>\n",
       "\t<tr><td>2566.5020  </td><td>1867.463601</td><td>3265.540   </td><td>2103       </td><td> TRUE      </td></tr>\n",
       "\t<tr><td>2450.0912  </td><td>1753.498735</td><td>3146.684   </td><td>2117       </td><td> TRUE      </td></tr>\n",
       "\t<tr><td>2809.0894  </td><td>2110.129202</td><td>3508.050   </td><td>2606       </td><td> TRUE      </td></tr>\n",
       "\t<tr><td>2952.3785  </td><td>2254.323911</td><td>3650.433   </td><td>2621       </td><td> TRUE      </td></tr>\n",
       "\t<tr><td>3146.6412  </td><td>2446.179164</td><td>3847.103   </td><td>2336       </td><td>FALSE      </td></tr>\n",
       "\t<tr><td>3259.3920  </td><td>2557.945628</td><td>3960.838   </td><td>2755       </td><td> TRUE      </td></tr>\n",
       "\t<tr><td>3014.1221  </td><td>2317.363263</td><td>3710.881   </td><td>2992       </td><td> TRUE      </td></tr>\n",
       "\t<tr><td>3141.3318  </td><td>2442.548128</td><td>3840.115   </td><td>2563       </td><td> TRUE      </td></tr>\n",
       "\t<tr><td>2998.2183  </td><td>2299.064321</td><td>3697.372   </td><td>1878       </td><td>FALSE      </td></tr>\n",
       "\t<tr><td>2717.6778  </td><td>2014.107902</td><td>3421.248   </td><td>1770       </td><td>FALSE      </td></tr>\n",
       "\t<tr><td> 712.5750  </td><td>   5.068662</td><td>1420.081   </td><td> 432       </td><td> TRUE      </td></tr>\n",
       "\t<tr><td> 666.1619  </td><td> -33.029263</td><td>1365.353   </td><td> 447       </td><td> TRUE      </td></tr>\n",
       "\t<tr><td>1048.9941  </td><td> 346.018302</td><td>1751.970   </td><td> 623       </td><td> TRUE      </td></tr>\n",
       "\t<tr><td>1298.2010  </td><td> 599.277264</td><td>1997.125   </td><td>1089       </td><td> TRUE      </td></tr>\n",
       "\t<tr><td>1592.8315  </td><td> 891.251634</td><td>2294.411   </td><td>1524       </td><td> TRUE      </td></tr>\n",
       "\t<tr><td>1574.4450  </td><td> 872.759334</td><td>2276.131   </td><td> 978       </td><td> TRUE      </td></tr>\n",
       "\t<tr><td>1594.2881  </td><td> 890.112119</td><td>2298.464   </td><td>1036       </td><td> TRUE      </td></tr>\n",
       "\t<tr><td>1633.6843  </td><td> 928.693466</td><td>2338.675   </td><td>1155       </td><td> TRUE      </td></tr>\n",
       "\t<tr><td>1485.5900  </td><td> 786.067350</td><td>2185.113   </td><td> 822       </td><td> TRUE      </td></tr>\n",
       "\t<tr><td>1323.8085  </td><td> 622.818309</td><td>2024.799   </td><td> 730       </td><td> TRUE      </td></tr>\n",
       "\t<tr><td>1075.1499  </td><td> 376.127135</td><td>1774.173   </td><td> 502       </td><td> TRUE      </td></tr>\n",
       "\t<tr><td> 924.6193  </td><td> 220.237432</td><td>1629.001   </td><td> 345       </td><td> TRUE      </td></tr>\n",
       "\t<tr><td>2254.0627  </td><td>1548.341814</td><td>2959.784   </td><td>2089       </td><td> TRUE      </td></tr>\n",
       "\t<tr><td>2178.0475  </td><td>1479.899937</td><td>2876.195   </td><td>1880       </td><td> TRUE      </td></tr>\n",
       "\t<tr><td>2561.5367  </td><td>1860.595737</td><td>3262.478   </td><td>2348       </td><td> TRUE      </td></tr>\n",
       "\t<tr><td>2653.0235  </td><td>1954.314981</td><td>3351.732   </td><td>2435       </td><td> TRUE      </td></tr>\n",
       "\t<tr><td>2909.0386  </td><td>2208.295216</td><td>3609.782   </td><td>3209       </td><td> TRUE      </td></tr>\n",
       "\t<tr><td>3025.1951  </td><td>2325.107949</td><td>3725.282   </td><td>3274       </td><td> TRUE      </td></tr>\n",
       "\t<tr><td>3083.0098  </td><td>2381.038438</td><td>3784.981   </td><td>3395       </td><td> TRUE      </td></tr>\n",
       "\t<tr><td>3078.6270  </td><td>2376.253199</td><td>3781.001   </td><td>3894       </td><td>FALSE      </td></tr>\n",
       "\t<tr><td>2856.5210  </td><td>2158.807360</td><td>3554.235   </td><td>3708       </td><td>FALSE      </td></tr>\n",
       "\t<tr><td>2764.9015  </td><td>2066.343111</td><td>3463.460   </td><td>3413       </td><td> TRUE      </td></tr>\n",
       "\t<tr><td>2521.3934  </td><td>1823.382115</td><td>3219.405   </td><td>2615       </td><td> TRUE      </td></tr>\n",
       "\t<tr><td>2370.8628  </td><td>1667.322110</td><td>3074.404   </td><td>2443       </td><td> TRUE      </td></tr>\n",
       "</tbody>\n",
       "</table>\n"
      ],
      "text/latex": [
       "\\begin{tabular}{r|lllll}\n",
       " fit & lwr & upr & data\\_2013\\$QTY & acc\\\\\n",
       "\\hline\n",
       "\t 2397.4470   & 1693.348047 & 3101.546    & 1627        & FALSE      \\\\\n",
       "\t 2332.3370   & 1635.360411 & 3029.314    & 1624        & FALSE      \\\\\n",
       "\t 2566.5020   & 1867.463601 & 3265.540    & 2103        &  TRUE      \\\\\n",
       "\t 2450.0912   & 1753.498735 & 3146.684    & 2117        &  TRUE      \\\\\n",
       "\t 2809.0894   & 2110.129202 & 3508.050    & 2606        &  TRUE      \\\\\n",
       "\t 2952.3785   & 2254.323911 & 3650.433    & 2621        &  TRUE      \\\\\n",
       "\t 3146.6412   & 2446.179164 & 3847.103    & 2336        & FALSE      \\\\\n",
       "\t 3259.3920   & 2557.945628 & 3960.838    & 2755        &  TRUE      \\\\\n",
       "\t 3014.1221   & 2317.363263 & 3710.881    & 2992        &  TRUE      \\\\\n",
       "\t 3141.3318   & 2442.548128 & 3840.115    & 2563        &  TRUE      \\\\\n",
       "\t 2998.2183   & 2299.064321 & 3697.372    & 1878        & FALSE      \\\\\n",
       "\t 2717.6778   & 2014.107902 & 3421.248    & 1770        & FALSE      \\\\\n",
       "\t  712.5750   &    5.068662 & 1420.081    &  432        &  TRUE      \\\\\n",
       "\t  666.1619   &  -33.029263 & 1365.353    &  447        &  TRUE      \\\\\n",
       "\t 1048.9941   &  346.018302 & 1751.970    &  623        &  TRUE      \\\\\n",
       "\t 1298.2010   &  599.277264 & 1997.125    & 1089        &  TRUE      \\\\\n",
       "\t 1592.8315   &  891.251634 & 2294.411    & 1524        &  TRUE      \\\\\n",
       "\t 1574.4450   &  872.759334 & 2276.131    &  978        &  TRUE      \\\\\n",
       "\t 1594.2881   &  890.112119 & 2298.464    & 1036        &  TRUE      \\\\\n",
       "\t 1633.6843   &  928.693466 & 2338.675    & 1155        &  TRUE      \\\\\n",
       "\t 1485.5900   &  786.067350 & 2185.113    &  822        &  TRUE      \\\\\n",
       "\t 1323.8085   &  622.818309 & 2024.799    &  730        &  TRUE      \\\\\n",
       "\t 1075.1499   &  376.127135 & 1774.173    &  502        &  TRUE      \\\\\n",
       "\t  924.6193   &  220.237432 & 1629.001    &  345        &  TRUE      \\\\\n",
       "\t 2254.0627   & 1548.341814 & 2959.784    & 2089        &  TRUE      \\\\\n",
       "\t 2178.0475   & 1479.899937 & 2876.195    & 1880        &  TRUE      \\\\\n",
       "\t 2561.5367   & 1860.595737 & 3262.478    & 2348        &  TRUE      \\\\\n",
       "\t 2653.0235   & 1954.314981 & 3351.732    & 2435        &  TRUE      \\\\\n",
       "\t 2909.0386   & 2208.295216 & 3609.782    & 3209        &  TRUE      \\\\\n",
       "\t 3025.1951   & 2325.107949 & 3725.282    & 3274        &  TRUE      \\\\\n",
       "\t 3083.0098   & 2381.038438 & 3784.981    & 3395        &  TRUE      \\\\\n",
       "\t 3078.6270   & 2376.253199 & 3781.001    & 3894        & FALSE      \\\\\n",
       "\t 2856.5210   & 2158.807360 & 3554.235    & 3708        & FALSE      \\\\\n",
       "\t 2764.9015   & 2066.343111 & 3463.460    & 3413        &  TRUE      \\\\\n",
       "\t 2521.3934   & 1823.382115 & 3219.405    & 2615        &  TRUE      \\\\\n",
       "\t 2370.8628   & 1667.322110 & 3074.404    & 2443        &  TRUE      \\\\\n",
       "\\end{tabular}\n"
      ],
      "text/markdown": [
       "\n",
       "| fit | lwr | upr | data_2013$QTY | acc |\n",
       "|---|---|---|---|---|\n",
       "| 2397.4470   | 1693.348047 | 3101.546    | 1627        | FALSE       |\n",
       "| 2332.3370   | 1635.360411 | 3029.314    | 1624        | FALSE       |\n",
       "| 2566.5020   | 1867.463601 | 3265.540    | 2103        |  TRUE       |\n",
       "| 2450.0912   | 1753.498735 | 3146.684    | 2117        |  TRUE       |\n",
       "| 2809.0894   | 2110.129202 | 3508.050    | 2606        |  TRUE       |\n",
       "| 2952.3785   | 2254.323911 | 3650.433    | 2621        |  TRUE       |\n",
       "| 3146.6412   | 2446.179164 | 3847.103    | 2336        | FALSE       |\n",
       "| 3259.3920   | 2557.945628 | 3960.838    | 2755        |  TRUE       |\n",
       "| 3014.1221   | 2317.363263 | 3710.881    | 2992        |  TRUE       |\n",
       "| 3141.3318   | 2442.548128 | 3840.115    | 2563        |  TRUE       |\n",
       "| 2998.2183   | 2299.064321 | 3697.372    | 1878        | FALSE       |\n",
       "| 2717.6778   | 2014.107902 | 3421.248    | 1770        | FALSE       |\n",
       "|  712.5750   |    5.068662 | 1420.081    |  432        |  TRUE       |\n",
       "|  666.1619   |  -33.029263 | 1365.353    |  447        |  TRUE       |\n",
       "| 1048.9941   |  346.018302 | 1751.970    |  623        |  TRUE       |\n",
       "| 1298.2010   |  599.277264 | 1997.125    | 1089        |  TRUE       |\n",
       "| 1592.8315   |  891.251634 | 2294.411    | 1524        |  TRUE       |\n",
       "| 1574.4450   |  872.759334 | 2276.131    |  978        |  TRUE       |\n",
       "| 1594.2881   |  890.112119 | 2298.464    | 1036        |  TRUE       |\n",
       "| 1633.6843   |  928.693466 | 2338.675    | 1155        |  TRUE       |\n",
       "| 1485.5900   |  786.067350 | 2185.113    |  822        |  TRUE       |\n",
       "| 1323.8085   |  622.818309 | 2024.799    |  730        |  TRUE       |\n",
       "| 1075.1499   |  376.127135 | 1774.173    |  502        |  TRUE       |\n",
       "|  924.6193   |  220.237432 | 1629.001    |  345        |  TRUE       |\n",
       "| 2254.0627   | 1548.341814 | 2959.784    | 2089        |  TRUE       |\n",
       "| 2178.0475   | 1479.899937 | 2876.195    | 1880        |  TRUE       |\n",
       "| 2561.5367   | 1860.595737 | 3262.478    | 2348        |  TRUE       |\n",
       "| 2653.0235   | 1954.314981 | 3351.732    | 2435        |  TRUE       |\n",
       "| 2909.0386   | 2208.295216 | 3609.782    | 3209        |  TRUE       |\n",
       "| 3025.1951   | 2325.107949 | 3725.282    | 3274        |  TRUE       |\n",
       "| 3083.0098   | 2381.038438 | 3784.981    | 3395        |  TRUE       |\n",
       "| 3078.6270   | 2376.253199 | 3781.001    | 3894        | FALSE       |\n",
       "| 2856.5210   | 2158.807360 | 3554.235    | 3708        | FALSE       |\n",
       "| 2764.9015   | 2066.343111 | 3463.460    | 3413        |  TRUE       |\n",
       "| 2521.3934   | 1823.382115 | 3219.405    | 2615        |  TRUE       |\n",
       "| 2370.8628   | 1667.322110 | 3074.404    | 2443        |  TRUE       |\n",
       "\n"
      ],
      "text/plain": [
       "   fit       lwr         upr      data_2013$QTY acc  \n",
       "1  2397.4470 1693.348047 3101.546 1627          FALSE\n",
       "2  2332.3370 1635.360411 3029.314 1624          FALSE\n",
       "3  2566.5020 1867.463601 3265.540 2103           TRUE\n",
       "4  2450.0912 1753.498735 3146.684 2117           TRUE\n",
       "5  2809.0894 2110.129202 3508.050 2606           TRUE\n",
       "6  2952.3785 2254.323911 3650.433 2621           TRUE\n",
       "7  3146.6412 2446.179164 3847.103 2336          FALSE\n",
       "8  3259.3920 2557.945628 3960.838 2755           TRUE\n",
       "9  3014.1221 2317.363263 3710.881 2992           TRUE\n",
       "10 3141.3318 2442.548128 3840.115 2563           TRUE\n",
       "11 2998.2183 2299.064321 3697.372 1878          FALSE\n",
       "12 2717.6778 2014.107902 3421.248 1770          FALSE\n",
       "13  712.5750    5.068662 1420.081  432           TRUE\n",
       "14  666.1619  -33.029263 1365.353  447           TRUE\n",
       "15 1048.9941  346.018302 1751.970  623           TRUE\n",
       "16 1298.2010  599.277264 1997.125 1089           TRUE\n",
       "17 1592.8315  891.251634 2294.411 1524           TRUE\n",
       "18 1574.4450  872.759334 2276.131  978           TRUE\n",
       "19 1594.2881  890.112119 2298.464 1036           TRUE\n",
       "20 1633.6843  928.693466 2338.675 1155           TRUE\n",
       "21 1485.5900  786.067350 2185.113  822           TRUE\n",
       "22 1323.8085  622.818309 2024.799  730           TRUE\n",
       "23 1075.1499  376.127135 1774.173  502           TRUE\n",
       "24  924.6193  220.237432 1629.001  345           TRUE\n",
       "25 2254.0627 1548.341814 2959.784 2089           TRUE\n",
       "26 2178.0475 1479.899937 2876.195 1880           TRUE\n",
       "27 2561.5367 1860.595737 3262.478 2348           TRUE\n",
       "28 2653.0235 1954.314981 3351.732 2435           TRUE\n",
       "29 2909.0386 2208.295216 3609.782 3209           TRUE\n",
       "30 3025.1951 2325.107949 3725.282 3274           TRUE\n",
       "31 3083.0098 2381.038438 3784.981 3395           TRUE\n",
       "32 3078.6270 2376.253199 3781.001 3894          FALSE\n",
       "33 2856.5210 2158.807360 3554.235 3708          FALSE\n",
       "34 2764.9015 2066.343111 3463.460 3413           TRUE\n",
       "35 2521.3934 1823.382115 3219.405 2615           TRUE\n",
       "36 2370.8628 1667.322110 3074.404 2443           TRUE"
      ]
     },
     "metadata": {},
     "output_type": "display_data"
    }
   ],
   "source": [
    "pre = as.data.frame(predict(a, data_2013, interval = 'predict'))\n",
    "pre = cbind(pre, data_2013$QTY)\n",
    "pre$acc[pre$'data_2013$QTY' >= pre$lwr & pre$'data_2013$QTY' <= pre$upr] = T\n",
    "pre$acc[is.na(pre$acc)] = F\n",
    "pre"
   ]
  },
  {
   "cell_type": "code",
   "execution_count": 113,
   "metadata": {},
   "outputs": [
    {
     "data": {
      "text/html": [
       "0.81"
      ],
      "text/latex": [
       "0.81"
      ],
      "text/markdown": [
       "0.81"
      ],
      "text/plain": [
       "[1] 0.81"
      ]
     },
     "metadata": {},
     "output_type": "display_data"
    }
   ],
   "source": [
    "round(sum(pre$acc) / dim(pre)[1], 2)"
   ]
  },
  {
   "cell_type": "code",
   "execution_count": null,
   "metadata": {},
   "outputs": [],
   "source": []
  }
 ],
 "metadata": {
  "kernelspec": {
   "display_name": "R",
   "language": "R",
   "name": "ir"
  },
  "language_info": {
   "codemirror_mode": "r",
   "file_extension": ".r",
   "mimetype": "text/x-r-source",
   "name": "R",
   "pygments_lexer": "r",
   "version": "3.6.1"
  }
 },
 "nbformat": 4,
 "nbformat_minor": 4
}
