{
 "cells": [
  {
   "cell_type": "markdown",
   "metadata": {},
   "source": [
    "# Team_Project"
   ]
  },
  {
   "cell_type": "code",
   "execution_count": 1,
   "metadata": {},
   "outputs": [],
   "source": [
    "setwd('D:/workspace/R_Practice/data/R_data')"
   ]
  },
  {
   "cell_type": "code",
   "execution_count": 2,
   "metadata": {},
   "outputs": [
    {
     "data": {
      "text/html": [
       "'D:/workspace/R_Practice/data/R_data'"
      ],
      "text/latex": [
       "'D:/workspace/R\\_Practice/data/R\\_data'"
      ],
      "text/markdown": [
       "'D:/workspace/R_Practice/data/R_data'"
      ],
      "text/plain": [
       "[1] \"D:/workspace/R_Practice/data/R_data\""
      ]
     },
     "metadata": {},
     "output_type": "display_data"
    }
   ],
   "source": [
    "getwd()"
   ]
  },
  {
   "cell_type": "code",
   "execution_count": 3,
   "metadata": {},
   "outputs": [
    {
     "name": "stderr",
     "output_type": "stream",
     "text": [
      "\n",
      "Attaching package: 'dplyr'\n",
      "\n",
      "The following objects are masked from 'package:stats':\n",
      "\n",
      "    filter, lag\n",
      "\n",
      "The following objects are masked from 'package:base':\n",
      "\n",
      "    intersect, setdiff, setequal, union\n",
      "\n",
      "Registered S3 methods overwritten by 'ggplot2':\n",
      "  method         from \n",
      "  [.quosures     rlang\n",
      "  c.quosures     rlang\n",
      "  print.quosures rlang\n",
      "Warning message:\n",
      "\"package 'car' was built under R version 3.6.3\"Loading required package: carData\n",
      "Warning message:\n",
      "\"package 'carData' was built under R version 3.6.3\"\n",
      "Attaching package: 'car'\n",
      "\n",
      "The following object is masked from 'package:dplyr':\n",
      "\n",
      "    recode\n",
      "\n"
     ]
    }
   ],
   "source": [
    "library('dplyr')\n",
    "library('ggplot2')\n",
    "library('car')"
   ]
  },
  {
   "cell_type": "code",
   "execution_count": 168,
   "metadata": {},
   "outputs": [
    {
     "data": {
      "text/html": [
       "<table>\n",
       "<thead><tr><th scope=col>X</th><th scope=col>YM</th><th scope=col>CATEGORY</th><th scope=col>ITEM_CNT</th><th scope=col>QTY</th><th scope=col>PRICE</th><th scope=col>MAXTEMP</th><th scope=col>SALEDAY</th><th scope=col>RAIN_DAY</th><th scope=col>HOLIDAY</th></tr></thead>\n",
       "<tbody>\n",
       "\t<tr><td>1       </td><td>200901  </td><td>과즙음료</td><td>45      </td><td> 990    </td><td>2611    </td><td> 4      </td><td>126753  </td><td> 151    </td><td>12      </td></tr>\n",
       "\t<tr><td>2       </td><td>200902  </td><td>과즙음료</td><td>45      </td><td>1199    </td><td>2689    </td><td> 9      </td><td>113399  </td><td>3014    </td><td> 8      </td></tr>\n",
       "\t<tr><td>3       </td><td>200903  </td><td>과즙음료</td><td>43      </td><td>1102    </td><td>2735    </td><td>12      </td><td>129162  </td><td>1383    </td><td> 9      </td></tr>\n",
       "\t<tr><td>4       </td><td>200904  </td><td>과즙음료</td><td>42      </td><td>1326    </td><td>2807    </td><td>19      </td><td>126277  </td><td>3564    </td><td> 8      </td></tr>\n",
       "\t<tr><td>5       </td><td>200905  </td><td>과즙음료</td><td>46      </td><td>1672    </td><td>2674    </td><td>25      </td><td>129584  </td><td>9288    </td><td>12      </td></tr>\n",
       "\t<tr><td>6       </td><td>200906  </td><td>과즙음료</td><td>48      </td><td>1875    </td><td>2777    </td><td>27      </td><td>123218  </td><td>9998    </td><td> 8      </td></tr>\n",
       "</tbody>\n",
       "</table>\n"
      ],
      "text/latex": [
       "\\begin{tabular}{r|llllllllll}\n",
       " X & YM & CATEGORY & ITEM\\_CNT & QTY & PRICE & MAXTEMP & SALEDAY & RAIN\\_DAY & HOLIDAY\\\\\n",
       "\\hline\n",
       "\t 1        & 200901   & 과즙음료 & 45       &  990     & 2611     &  4       & 126753   &  151     & 12      \\\\\n",
       "\t 2        & 200902   & 과즙음료 & 45       & 1199     & 2689     &  9       & 113399   & 3014     &  8      \\\\\n",
       "\t 3        & 200903   & 과즙음료 & 43       & 1102     & 2735     & 12       & 129162   & 1383     &  9      \\\\\n",
       "\t 4        & 200904   & 과즙음료 & 42       & 1326     & 2807     & 19       & 126277   & 3564     &  8      \\\\\n",
       "\t 5        & 200905   & 과즙음료 & 46       & 1672     & 2674     & 25       & 129584   & 9288     & 12      \\\\\n",
       "\t 6        & 200906   & 과즙음료 & 48       & 1875     & 2777     & 27       & 123218   & 9998     &  8      \\\\\n",
       "\\end{tabular}\n"
      ],
      "text/markdown": [
       "\n",
       "| X | YM | CATEGORY | ITEM_CNT | QTY | PRICE | MAXTEMP | SALEDAY | RAIN_DAY | HOLIDAY |\n",
       "|---|---|---|---|---|---|---|---|---|---|\n",
       "| 1        | 200901   | 과즙음료 | 45       |  990     | 2611     |  4       | 126753   |  151     | 12       |\n",
       "| 2        | 200902   | 과즙음료 | 45       | 1199     | 2689     |  9       | 113399   | 3014     |  8       |\n",
       "| 3        | 200903   | 과즙음료 | 43       | 1102     | 2735     | 12       | 129162   | 1383     |  9       |\n",
       "| 4        | 200904   | 과즙음료 | 42       | 1326     | 2807     | 19       | 126277   | 3564     |  8       |\n",
       "| 5        | 200905   | 과즙음료 | 46       | 1672     | 2674     | 25       | 129584   | 9288     | 12       |\n",
       "| 6        | 200906   | 과즙음료 | 48       | 1875     | 2777     | 27       | 123218   | 9998     |  8       |\n",
       "\n"
      ],
      "text/plain": [
       "  X YM     CATEGORY ITEM_CNT QTY  PRICE MAXTEMP SALEDAY RAIN_DAY HOLIDAY\n",
       "1 1 200901 과즙음료 45        990 2611   4      126753   151     12     \n",
       "2 2 200902 과즙음료 45       1199 2689   9      113399  3014      8     \n",
       "3 3 200903 과즙음료 43       1102 2735  12      129162  1383      9     \n",
       "4 4 200904 과즙음료 42       1326 2807  19      126277  3564      8     \n",
       "5 5 200905 과즙음료 46       1672 2674  25      129584  9288     12     \n",
       "6 6 200906 과즙음료 48       1875 2777  27      123218  9998      8     "
      ]
     },
     "metadata": {},
     "output_type": "display_data"
    }
   ],
   "source": [
    "data = read.csv('sales_data_1.csv')\n",
    "head(data)"
   ]
  },
  {
   "cell_type": "code",
   "execution_count": 169,
   "metadata": {},
   "outputs": [
    {
     "data": {
      "text/html": [
       "<table>\n",
       "<thead><tr><th scope=col>X</th><th scope=col>YM</th><th scope=col>CATEGORY</th><th scope=col>ITEM_CNT</th><th scope=col>QTY</th><th scope=col>PRICE</th><th scope=col>MAXTEMP</th><th scope=col>SALEDAY</th><th scope=col>RAIN_DAY</th><th scope=col>HOLIDAY</th></tr></thead>\n",
       "<tbody>\n",
       "\t<tr><td>1       </td><td>200901  </td><td>과즙음료</td><td>45      </td><td> 990    </td><td>2611    </td><td> 4      </td><td>126753  </td><td> 151    </td><td>12      </td></tr>\n",
       "\t<tr><td>2       </td><td>200902  </td><td>과즙음료</td><td>45      </td><td>1199    </td><td>2689    </td><td> 9      </td><td>113399  </td><td>3014    </td><td> 8      </td></tr>\n",
       "\t<tr><td>3       </td><td>200903  </td><td>과즙음료</td><td>43      </td><td>1102    </td><td>2735    </td><td>12      </td><td>129162  </td><td>1383    </td><td> 9      </td></tr>\n",
       "\t<tr><td>4       </td><td>200904  </td><td>과즙음료</td><td>42      </td><td>1326    </td><td>2807    </td><td>19      </td><td>126277  </td><td>3564    </td><td> 8      </td></tr>\n",
       "\t<tr><td>5       </td><td>200905  </td><td>과즙음료</td><td>46      </td><td>1672    </td><td>2674    </td><td>25      </td><td>129584  </td><td>9288    </td><td>12      </td></tr>\n",
       "\t<tr><td>6       </td><td>200906  </td><td>과즙음료</td><td>48      </td><td>1875    </td><td>2777    </td><td>27      </td><td>123218  </td><td>9998    </td><td> 8      </td></tr>\n",
       "</tbody>\n",
       "</table>\n"
      ],
      "text/latex": [
       "\\begin{tabular}{r|llllllllll}\n",
       " X & YM & CATEGORY & ITEM\\_CNT & QTY & PRICE & MAXTEMP & SALEDAY & RAIN\\_DAY & HOLIDAY\\\\\n",
       "\\hline\n",
       "\t 1        & 200901   & 과즙음료 & 45       &  990     & 2611     &  4       & 126753   &  151     & 12      \\\\\n",
       "\t 2        & 200902   & 과즙음료 & 45       & 1199     & 2689     &  9       & 113399   & 3014     &  8      \\\\\n",
       "\t 3        & 200903   & 과즙음료 & 43       & 1102     & 2735     & 12       & 129162   & 1383     &  9      \\\\\n",
       "\t 4        & 200904   & 과즙음료 & 42       & 1326     & 2807     & 19       & 126277   & 3564     &  8      \\\\\n",
       "\t 5        & 200905   & 과즙음료 & 46       & 1672     & 2674     & 25       & 129584   & 9288     & 12      \\\\\n",
       "\t 6        & 200906   & 과즙음료 & 48       & 1875     & 2777     & 27       & 123218   & 9998     &  8      \\\\\n",
       "\\end{tabular}\n"
      ],
      "text/markdown": [
       "\n",
       "| X | YM | CATEGORY | ITEM_CNT | QTY | PRICE | MAXTEMP | SALEDAY | RAIN_DAY | HOLIDAY |\n",
       "|---|---|---|---|---|---|---|---|---|---|\n",
       "| 1        | 200901   | 과즙음료 | 45       |  990     | 2611     |  4       | 126753   |  151     | 12       |\n",
       "| 2        | 200902   | 과즙음료 | 45       | 1199     | 2689     |  9       | 113399   | 3014     |  8       |\n",
       "| 3        | 200903   | 과즙음료 | 43       | 1102     | 2735     | 12       | 129162   | 1383     |  9       |\n",
       "| 4        | 200904   | 과즙음료 | 42       | 1326     | 2807     | 19       | 126277   | 3564     |  8       |\n",
       "| 5        | 200905   | 과즙음료 | 46       | 1672     | 2674     | 25       | 129584   | 9288     | 12       |\n",
       "| 6        | 200906   | 과즙음료 | 48       | 1875     | 2777     | 27       | 123218   | 9998     |  8       |\n",
       "\n"
      ],
      "text/plain": [
       "  X YM     CATEGORY ITEM_CNT QTY  PRICE MAXTEMP SALEDAY RAIN_DAY HOLIDAY\n",
       "1 1 200901 과즙음료 45        990 2611   4      126753   151     12     \n",
       "2 2 200902 과즙음료 45       1199 2689   9      113399  3014      8     \n",
       "3 3 200903 과즙음료 43       1102 2735  12      129162  1383      9     \n",
       "4 4 200904 과즙음료 42       1326 2807  19      126277  3564      8     \n",
       "5 5 200905 과즙음료 46       1672 2674  25      129584  9288     12     \n",
       "6 6 200906 과즙음료 48       1875 2777  27      123218  9998      8     "
      ]
     },
     "metadata": {},
     "output_type": "display_data"
    }
   ],
   "source": [
    "fruit_data = data %>%\n",
    "                filter(CATEGORY == '과즙음료')\n",
    "vitamin_data = data %>%\n",
    "                filter(CATEGORY == '비타민음료')\n",
    "tea_data = data %>%\n",
    "            filter(CATEGORY == '차음료')\n",
    "head(fruit_data)"
   ]
  },
  {
   "cell_type": "code",
   "execution_count": 170,
   "metadata": {},
   "outputs": [
    {
     "data": {
      "text/html": [
       "<table>\n",
       "<thead><tr><th></th><th scope=col>ITEM_CNT</th><th scope=col>QTY</th><th scope=col>PRICE</th><th scope=col>MAXTEMP</th><th scope=col>SALEDAY</th><th scope=col>RAIN_DAY</th><th scope=col>HOLIDAY</th></tr></thead>\n",
       "<tbody>\n",
       "\t<tr><th scope=row>ITEM_CNT</th><td>1.000000000  </td><td> 0.62112638  </td><td> 0.13251757  </td><td> 0.1037499329</td><td> 0.54132421  </td><td> 0.21937484  </td><td> 0.0051196706</td></tr>\n",
       "\t<tr><th scope=row>QTY</th><td>0.621126383  </td><td> 1.00000000  </td><td>-0.09838038  </td><td> 0.7071806840</td><td> 0.50189095  </td><td> 0.47567660  </td><td> 0.1367153610</td></tr>\n",
       "\t<tr><th scope=row>PRICE</th><td>0.132517570  </td><td>-0.09838038  </td><td> 1.00000000  </td><td>-0.0843639944</td><td>-0.61948901  </td><td>-0.21129511  </td><td>-0.1157278564</td></tr>\n",
       "\t<tr><th scope=row>MAXTEMP</th><td>0.103749933  </td><td> 0.70718068  </td><td>-0.08436399  </td><td> 1.0000000000</td><td> 0.02615313  </td><td> 0.67485293  </td><td>-0.0007330759</td></tr>\n",
       "\t<tr><th scope=row>SALEDAY</th><td>0.541324210  </td><td> 0.50189095  </td><td>-0.61948901  </td><td> 0.0261531274</td><td> 1.00000000  </td><td> 0.21351983  </td><td> 0.1509168646</td></tr>\n",
       "\t<tr><th scope=row>RAIN_DAY</th><td>0.219374840  </td><td> 0.47567660  </td><td>-0.21129511  </td><td> 0.6748529252</td><td> 0.21351983  </td><td> 1.00000000  </td><td>-0.0513513553</td></tr>\n",
       "\t<tr><th scope=row>HOLIDAY</th><td>0.005119671  </td><td> 0.13671536  </td><td>-0.11572786  </td><td>-0.0007330759</td><td> 0.15091686  </td><td>-0.05135136  </td><td> 1.0000000000</td></tr>\n",
       "</tbody>\n",
       "</table>\n"
      ],
      "text/latex": [
       "\\begin{tabular}{r|lllllll}\n",
       "  & ITEM\\_CNT & QTY & PRICE & MAXTEMP & SALEDAY & RAIN\\_DAY & HOLIDAY\\\\\n",
       "\\hline\n",
       "\tITEM\\_CNT & 1.000000000   &  0.62112638   &  0.13251757   &  0.1037499329 &  0.54132421   &  0.21937484   &  0.0051196706\\\\\n",
       "\tQTY & 0.621126383   &  1.00000000   & -0.09838038   &  0.7071806840 &  0.50189095   &  0.47567660   &  0.1367153610\\\\\n",
       "\tPRICE & 0.132517570   & -0.09838038   &  1.00000000   & -0.0843639944 & -0.61948901   & -0.21129511   & -0.1157278564\\\\\n",
       "\tMAXTEMP & 0.103749933   &  0.70718068   & -0.08436399   &  1.0000000000 &  0.02615313   &  0.67485293   & -0.0007330759\\\\\n",
       "\tSALEDAY & 0.541324210   &  0.50189095   & -0.61948901   &  0.0261531274 &  1.00000000   &  0.21351983   &  0.1509168646\\\\\n",
       "\tRAIN\\_DAY & 0.219374840   &  0.47567660   & -0.21129511   &  0.6748529252 &  0.21351983   &  1.00000000   & -0.0513513553\\\\\n",
       "\tHOLIDAY & 0.005119671   &  0.13671536   & -0.11572786   & -0.0007330759 &  0.15091686   & -0.05135136   &  1.0000000000\\\\\n",
       "\\end{tabular}\n"
      ],
      "text/markdown": [
       "\n",
       "| <!--/--> | ITEM_CNT | QTY | PRICE | MAXTEMP | SALEDAY | RAIN_DAY | HOLIDAY |\n",
       "|---|---|---|---|---|---|---|---|\n",
       "| ITEM_CNT | 1.000000000   |  0.62112638   |  0.13251757   |  0.1037499329 |  0.54132421   |  0.21937484   |  0.0051196706 |\n",
       "| QTY | 0.621126383   |  1.00000000   | -0.09838038   |  0.7071806840 |  0.50189095   |  0.47567660   |  0.1367153610 |\n",
       "| PRICE | 0.132517570   | -0.09838038   |  1.00000000   | -0.0843639944 | -0.61948901   | -0.21129511   | -0.1157278564 |\n",
       "| MAXTEMP | 0.103749933   |  0.70718068   | -0.08436399   |  1.0000000000 |  0.02615313   |  0.67485293   | -0.0007330759 |\n",
       "| SALEDAY | 0.541324210   |  0.50189095   | -0.61948901   |  0.0261531274 |  1.00000000   |  0.21351983   |  0.1509168646 |\n",
       "| RAIN_DAY | 0.219374840   |  0.47567660   | -0.21129511   |  0.6748529252 |  0.21351983   |  1.00000000   | -0.0513513553 |\n",
       "| HOLIDAY | 0.005119671   |  0.13671536   | -0.11572786   | -0.0007330759 |  0.15091686   | -0.05135136   |  1.0000000000 |\n",
       "\n"
      ],
      "text/plain": [
       "         ITEM_CNT    QTY         PRICE       MAXTEMP       SALEDAY    \n",
       "ITEM_CNT 1.000000000  0.62112638  0.13251757  0.1037499329  0.54132421\n",
       "QTY      0.621126383  1.00000000 -0.09838038  0.7071806840  0.50189095\n",
       "PRICE    0.132517570 -0.09838038  1.00000000 -0.0843639944 -0.61948901\n",
       "MAXTEMP  0.103749933  0.70718068 -0.08436399  1.0000000000  0.02615313\n",
       "SALEDAY  0.541324210  0.50189095 -0.61948901  0.0261531274  1.00000000\n",
       "RAIN_DAY 0.219374840  0.47567660 -0.21129511  0.6748529252  0.21351983\n",
       "HOLIDAY  0.005119671  0.13671536 -0.11572786 -0.0007330759  0.15091686\n",
       "         RAIN_DAY    HOLIDAY      \n",
       "ITEM_CNT  0.21937484  0.0051196706\n",
       "QTY       0.47567660  0.1367153610\n",
       "PRICE    -0.21129511 -0.1157278564\n",
       "MAXTEMP   0.67485293 -0.0007330759\n",
       "SALEDAY   0.21351983  0.1509168646\n",
       "RAIN_DAY  1.00000000 -0.0513513553\n",
       "HOLIDAY  -0.05135136  1.0000000000"
      ]
     },
     "metadata": {},
     "output_type": "display_data"
    }
   ],
   "source": [
    "cor(fruit_data[,c(4:10)])"
   ]
  },
  {
   "cell_type": "code",
   "execution_count": 172,
   "metadata": {},
   "outputs": [
    {
     "data": {
      "text/html": [
       "<table>\n",
       "<thead><tr><th></th><th scope=col>ITEM_CNT</th><th scope=col>QTY</th><th scope=col>PRICE</th><th scope=col>MAXTEMP</th><th scope=col>SALEDAY</th><th scope=col>RAIN_DAY</th><th scope=col>HOLIDAY</th></tr></thead>\n",
       "<tbody>\n",
       "\t<tr><th scope=row>ITEM_CNT</th><td>1.00000000   </td><td>0.7515737    </td><td> 0.85768871  </td><td> 0.0657196895</td><td>0.94217720   </td><td> 0.25896488  </td><td> 0.1358020307</td></tr>\n",
       "\t<tr><th scope=row>QTY</th><td>0.75157371   </td><td>1.0000000    </td><td> 0.72105041  </td><td> 0.3615501216</td><td>0.71192476   </td><td> 0.51181463  </td><td> 0.1201901927</td></tr>\n",
       "\t<tr><th scope=row>PRICE</th><td>0.85768871   </td><td>0.7210504    </td><td> 1.00000000  </td><td>-0.0447921578</td><td>0.82446317   </td><td> 0.20432138  </td><td> 0.1188034038</td></tr>\n",
       "\t<tr><th scope=row>MAXTEMP</th><td>0.06571969   </td><td>0.3615501    </td><td>-0.04479216  </td><td> 1.0000000000</td><td>0.02615313   </td><td> 0.67485293  </td><td>-0.0007330759</td></tr>\n",
       "\t<tr><th scope=row>SALEDAY</th><td>0.94217720   </td><td>0.7119248    </td><td> 0.82446317  </td><td> 0.0261531274</td><td>1.00000000   </td><td> 0.21351983  </td><td> 0.1509168646</td></tr>\n",
       "\t<tr><th scope=row>RAIN_DAY</th><td>0.25896488   </td><td>0.5118146    </td><td> 0.20432138  </td><td> 0.6748529252</td><td>0.21351983   </td><td> 1.00000000  </td><td>-0.0513513553</td></tr>\n",
       "\t<tr><th scope=row>HOLIDAY</th><td>0.13580203   </td><td>0.1201902    </td><td> 0.11880340  </td><td>-0.0007330759</td><td>0.15091686   </td><td>-0.05135136  </td><td> 1.0000000000</td></tr>\n",
       "</tbody>\n",
       "</table>\n"
      ],
      "text/latex": [
       "\\begin{tabular}{r|lllllll}\n",
       "  & ITEM\\_CNT & QTY & PRICE & MAXTEMP & SALEDAY & RAIN\\_DAY & HOLIDAY\\\\\n",
       "\\hline\n",
       "\tITEM\\_CNT & 1.00000000    & 0.7515737     &  0.85768871   &  0.0657196895 & 0.94217720    &  0.25896488   &  0.1358020307\\\\\n",
       "\tQTY & 0.75157371    & 1.0000000     &  0.72105041   &  0.3615501216 & 0.71192476    &  0.51181463   &  0.1201901927\\\\\n",
       "\tPRICE & 0.85768871    & 0.7210504     &  1.00000000   & -0.0447921578 & 0.82446317    &  0.20432138   &  0.1188034038\\\\\n",
       "\tMAXTEMP & 0.06571969    & 0.3615501     & -0.04479216   &  1.0000000000 & 0.02615313    &  0.67485293   & -0.0007330759\\\\\n",
       "\tSALEDAY & 0.94217720    & 0.7119248     &  0.82446317   &  0.0261531274 & 1.00000000    &  0.21351983   &  0.1509168646\\\\\n",
       "\tRAIN\\_DAY & 0.25896488    & 0.5118146     &  0.20432138   &  0.6748529252 & 0.21351983    &  1.00000000   & -0.0513513553\\\\\n",
       "\tHOLIDAY & 0.13580203    & 0.1201902     &  0.11880340   & -0.0007330759 & 0.15091686    & -0.05135136   &  1.0000000000\\\\\n",
       "\\end{tabular}\n"
      ],
      "text/markdown": [
       "\n",
       "| <!--/--> | ITEM_CNT | QTY | PRICE | MAXTEMP | SALEDAY | RAIN_DAY | HOLIDAY |\n",
       "|---|---|---|---|---|---|---|---|\n",
       "| ITEM_CNT | 1.00000000    | 0.7515737     |  0.85768871   |  0.0657196895 | 0.94217720    |  0.25896488   |  0.1358020307 |\n",
       "| QTY | 0.75157371    | 1.0000000     |  0.72105041   |  0.3615501216 | 0.71192476    |  0.51181463   |  0.1201901927 |\n",
       "| PRICE | 0.85768871    | 0.7210504     |  1.00000000   | -0.0447921578 | 0.82446317    |  0.20432138   |  0.1188034038 |\n",
       "| MAXTEMP | 0.06571969    | 0.3615501     | -0.04479216   |  1.0000000000 | 0.02615313    |  0.67485293   | -0.0007330759 |\n",
       "| SALEDAY | 0.94217720    | 0.7119248     |  0.82446317   |  0.0261531274 | 1.00000000    |  0.21351983   |  0.1509168646 |\n",
       "| RAIN_DAY | 0.25896488    | 0.5118146     |  0.20432138   |  0.6748529252 | 0.21351983    |  1.00000000   | -0.0513513553 |\n",
       "| HOLIDAY | 0.13580203    | 0.1201902     |  0.11880340   | -0.0007330759 | 0.15091686    | -0.05135136   |  1.0000000000 |\n",
       "\n"
      ],
      "text/plain": [
       "         ITEM_CNT   QTY       PRICE       MAXTEMP       SALEDAY    RAIN_DAY   \n",
       "ITEM_CNT 1.00000000 0.7515737  0.85768871  0.0657196895 0.94217720  0.25896488\n",
       "QTY      0.75157371 1.0000000  0.72105041  0.3615501216 0.71192476  0.51181463\n",
       "PRICE    0.85768871 0.7210504  1.00000000 -0.0447921578 0.82446317  0.20432138\n",
       "MAXTEMP  0.06571969 0.3615501 -0.04479216  1.0000000000 0.02615313  0.67485293\n",
       "SALEDAY  0.94217720 0.7119248  0.82446317  0.0261531274 1.00000000  0.21351983\n",
       "RAIN_DAY 0.25896488 0.5118146  0.20432138  0.6748529252 0.21351983  1.00000000\n",
       "HOLIDAY  0.13580203 0.1201902  0.11880340 -0.0007330759 0.15091686 -0.05135136\n",
       "         HOLIDAY      \n",
       "ITEM_CNT  0.1358020307\n",
       "QTY       0.1201901927\n",
       "PRICE     0.1188034038\n",
       "MAXTEMP  -0.0007330759\n",
       "SALEDAY   0.1509168646\n",
       "RAIN_DAY -0.0513513553\n",
       "HOLIDAY   1.0000000000"
      ]
     },
     "metadata": {},
     "output_type": "display_data"
    }
   ],
   "source": [
    "cor(vitamin_data[,c(4:10)])"
   ]
  },
  {
   "cell_type": "code",
   "execution_count": 173,
   "metadata": {},
   "outputs": [
    {
     "data": {
      "text/html": [
       "<table>\n",
       "<thead><tr><th></th><th scope=col>ITEM_CNT</th><th scope=col>QTY</th><th scope=col>PRICE</th><th scope=col>MAXTEMP</th><th scope=col>SALEDAY</th><th scope=col>RAIN_DAY</th><th scope=col>HOLIDAY</th></tr></thead>\n",
       "<tbody>\n",
       "\t<tr><th scope=row>ITEM_CNT</th><td>1.0000000    </td><td>0.5704122    </td><td> 0.70276692  </td><td> 0.2392536817</td><td>0.70821785   </td><td> 0.29735950  </td><td> 0.1415037482</td></tr>\n",
       "\t<tr><th scope=row>QTY</th><td>0.5704122    </td><td>1.0000000    </td><td> 0.51443998  </td><td> 0.6762249882</td><td>0.66706580   </td><td> 0.53253647  </td><td> 0.1490117845</td></tr>\n",
       "\t<tr><th scope=row>PRICE</th><td>0.7027669    </td><td>0.5144400    </td><td> 1.00000000  </td><td>-0.0209906744</td><td>0.79781578   </td><td> 0.11965126  </td><td> 0.1516141402</td></tr>\n",
       "\t<tr><th scope=row>MAXTEMP</th><td>0.2392537    </td><td>0.6762250    </td><td>-0.02099067  </td><td> 1.0000000000</td><td>0.02615313   </td><td> 0.67485293  </td><td>-0.0007330759</td></tr>\n",
       "\t<tr><th scope=row>SALEDAY</th><td>0.7082179    </td><td>0.6670658    </td><td> 0.79781578  </td><td> 0.0261531274</td><td>1.00000000   </td><td> 0.21351983  </td><td> 0.1509168646</td></tr>\n",
       "\t<tr><th scope=row>RAIN_DAY</th><td>0.2973595    </td><td>0.5325365    </td><td> 0.11965126  </td><td> 0.6748529252</td><td>0.21351983   </td><td> 1.00000000  </td><td>-0.0513513553</td></tr>\n",
       "\t<tr><th scope=row>HOLIDAY</th><td>0.1415037    </td><td>0.1490118    </td><td> 0.15161414  </td><td>-0.0007330759</td><td>0.15091686   </td><td>-0.05135136  </td><td> 1.0000000000</td></tr>\n",
       "</tbody>\n",
       "</table>\n"
      ],
      "text/latex": [
       "\\begin{tabular}{r|lllllll}\n",
       "  & ITEM\\_CNT & QTY & PRICE & MAXTEMP & SALEDAY & RAIN\\_DAY & HOLIDAY\\\\\n",
       "\\hline\n",
       "\tITEM\\_CNT & 1.0000000     & 0.5704122     &  0.70276692   &  0.2392536817 & 0.70821785    &  0.29735950   &  0.1415037482\\\\\n",
       "\tQTY & 0.5704122     & 1.0000000     &  0.51443998   &  0.6762249882 & 0.66706580    &  0.53253647   &  0.1490117845\\\\\n",
       "\tPRICE & 0.7027669     & 0.5144400     &  1.00000000   & -0.0209906744 & 0.79781578    &  0.11965126   &  0.1516141402\\\\\n",
       "\tMAXTEMP & 0.2392537     & 0.6762250     & -0.02099067   &  1.0000000000 & 0.02615313    &  0.67485293   & -0.0007330759\\\\\n",
       "\tSALEDAY & 0.7082179     & 0.6670658     &  0.79781578   &  0.0261531274 & 1.00000000    &  0.21351983   &  0.1509168646\\\\\n",
       "\tRAIN\\_DAY & 0.2973595     & 0.5325365     &  0.11965126   &  0.6748529252 & 0.21351983    &  1.00000000   & -0.0513513553\\\\\n",
       "\tHOLIDAY & 0.1415037     & 0.1490118     &  0.15161414   & -0.0007330759 & 0.15091686    & -0.05135136   &  1.0000000000\\\\\n",
       "\\end{tabular}\n"
      ],
      "text/markdown": [
       "\n",
       "| <!--/--> | ITEM_CNT | QTY | PRICE | MAXTEMP | SALEDAY | RAIN_DAY | HOLIDAY |\n",
       "|---|---|---|---|---|---|---|---|\n",
       "| ITEM_CNT | 1.0000000     | 0.5704122     |  0.70276692   |  0.2392536817 | 0.70821785    |  0.29735950   |  0.1415037482 |\n",
       "| QTY | 0.5704122     | 1.0000000     |  0.51443998   |  0.6762249882 | 0.66706580    |  0.53253647   |  0.1490117845 |\n",
       "| PRICE | 0.7027669     | 0.5144400     |  1.00000000   | -0.0209906744 | 0.79781578    |  0.11965126   |  0.1516141402 |\n",
       "| MAXTEMP | 0.2392537     | 0.6762250     | -0.02099067   |  1.0000000000 | 0.02615313    |  0.67485293   | -0.0007330759 |\n",
       "| SALEDAY | 0.7082179     | 0.6670658     |  0.79781578   |  0.0261531274 | 1.00000000    |  0.21351983   |  0.1509168646 |\n",
       "| RAIN_DAY | 0.2973595     | 0.5325365     |  0.11965126   |  0.6748529252 | 0.21351983    |  1.00000000   | -0.0513513553 |\n",
       "| HOLIDAY | 0.1415037     | 0.1490118     |  0.15161414   | -0.0007330759 | 0.15091686    | -0.05135136   |  1.0000000000 |\n",
       "\n"
      ],
      "text/plain": [
       "         ITEM_CNT  QTY       PRICE       MAXTEMP       SALEDAY    RAIN_DAY   \n",
       "ITEM_CNT 1.0000000 0.5704122  0.70276692  0.2392536817 0.70821785  0.29735950\n",
       "QTY      0.5704122 1.0000000  0.51443998  0.6762249882 0.66706580  0.53253647\n",
       "PRICE    0.7027669 0.5144400  1.00000000 -0.0209906744 0.79781578  0.11965126\n",
       "MAXTEMP  0.2392537 0.6762250 -0.02099067  1.0000000000 0.02615313  0.67485293\n",
       "SALEDAY  0.7082179 0.6670658  0.79781578  0.0261531274 1.00000000  0.21351983\n",
       "RAIN_DAY 0.2973595 0.5325365  0.11965126  0.6748529252 0.21351983  1.00000000\n",
       "HOLIDAY  0.1415037 0.1490118  0.15161414 -0.0007330759 0.15091686 -0.05135136\n",
       "         HOLIDAY      \n",
       "ITEM_CNT  0.1415037482\n",
       "QTY       0.1490117845\n",
       "PRICE     0.1516141402\n",
       "MAXTEMP  -0.0007330759\n",
       "SALEDAY   0.1509168646\n",
       "RAIN_DAY -0.0513513553\n",
       "HOLIDAY   1.0000000000"
      ]
     },
     "metadata": {},
     "output_type": "display_data"
    }
   ],
   "source": [
    "cor(tea_data[,c(4:10)])"
   ]
  },
  {
   "cell_type": "code",
   "execution_count": 90,
   "metadata": {},
   "outputs": [],
   "source": [
    "library('leaps')"
   ]
  },
  {
   "cell_type": "code",
   "execution_count": 104,
   "metadata": {},
   "outputs": [
    {
     "data": {
      "text/plain": [
       "Subset selection object\n",
       "Call: regsubsets.formula(QTY ~ YM + ITEM_CNT + PRICE + MAXTEMP + SALEDAY + \n",
       "    RAIN_DAY + HOLIDAY, data = fruit_data, nbest = 5)\n",
       "7 Variables  (and intercept)\n",
       "         Forced in Forced out\n",
       "YM           FALSE      FALSE\n",
       "ITEM_CNT     FALSE      FALSE\n",
       "PRICE        FALSE      FALSE\n",
       "MAXTEMP      FALSE      FALSE\n",
       "SALEDAY      FALSE      FALSE\n",
       "RAIN_DAY     FALSE      FALSE\n",
       "HOLIDAY      FALSE      FALSE\n",
       "5 subsets of each size up to 7\n",
       "Selection Algorithm: exhaustive\n",
       "         YM  ITEM_CNT PRICE MAXTEMP SALEDAY RAIN_DAY HOLIDAY\n",
       "1  ( 1 ) \" \" \" \"      \" \"   \"*\"     \" \"     \" \"      \" \"    \n",
       "1  ( 2 ) \" \" \"*\"      \" \"   \" \"     \" \"     \" \"      \" \"    \n",
       "1  ( 3 ) \" \" \" \"      \" \"   \" \"     \"*\"     \" \"      \" \"    \n",
       "1  ( 4 ) \"*\" \" \"      \" \"   \" \"     \" \"     \" \"      \" \"    \n",
       "1  ( 5 ) \" \" \" \"      \" \"   \" \"     \" \"     \"*\"      \" \"    \n",
       "2  ( 1 ) \" \" \"*\"      \" \"   \"*\"     \" \"     \" \"      \" \"    \n",
       "2  ( 2 ) \"*\" \" \"      \" \"   \"*\"     \" \"     \" \"      \" \"    \n",
       "2  ( 3 ) \" \" \" \"      \" \"   \"*\"     \"*\"     \" \"      \" \"    \n",
       "2  ( 4 ) \" \" \" \"      \" \"   \"*\"     \" \"     \" \"      \"*\"    \n",
       "2  ( 5 ) \" \" \"*\"      \" \"   \" \"     \" \"     \"*\"      \" \"    \n",
       "3  ( 1 ) \"*\" \"*\"      \" \"   \"*\"     \" \"     \" \"      \" \"    \n",
       "3  ( 2 ) \"*\" \" \"      \"*\"   \"*\"     \" \"     \" \"      \" \"    \n",
       "3  ( 3 ) \" \" \"*\"      \" \"   \"*\"     \"*\"     \" \"      \" \"    \n",
       "3  ( 4 ) \" \" \" \"      \"*\"   \"*\"     \"*\"     \" \"      \" \"    \n",
       "3  ( 5 ) \" \" \"*\"      \" \"   \"*\"     \" \"     \" \"      \"*\"    \n",
       "4  ( 1 ) \"*\" \"*\"      \" \"   \"*\"     \" \"     \"*\"      \" \"    \n",
       "4  ( 2 ) \" \" \"*\"      \" \"   \"*\"     \"*\"     \"*\"      \" \"    \n",
       "4  ( 3 ) \"*\" \"*\"      \"*\"   \"*\"     \" \"     \" \"      \" \"    \n",
       "4  ( 4 ) \"*\" \" \"      \"*\"   \"*\"     \" \"     \"*\"      \" \"    \n",
       "4  ( 5 ) \"*\" \"*\"      \" \"   \"*\"     \" \"     \" \"      \"*\"    \n",
       "5  ( 1 ) \"*\" \"*\"      \"*\"   \"*\"     \" \"     \"*\"      \" \"    \n",
       "5  ( 2 ) \"*\" \"*\"      \" \"   \"*\"     \" \"     \"*\"      \"*\"    \n",
       "5  ( 3 ) \"*\" \"*\"      \" \"   \"*\"     \"*\"     \"*\"      \" \"    \n",
       "5  ( 4 ) \" \" \"*\"      \"*\"   \"*\"     \"*\"     \"*\"      \" \"    \n",
       "5  ( 5 ) \" \" \"*\"      \" \"   \"*\"     \"*\"     \"*\"      \"*\"    \n",
       "6  ( 1 ) \"*\" \"*\"      \"*\"   \"*\"     \" \"     \"*\"      \"*\"    \n",
       "6  ( 2 ) \"*\" \"*\"      \"*\"   \"*\"     \"*\"     \"*\"      \" \"    \n",
       "6  ( 3 ) \"*\" \"*\"      \" \"   \"*\"     \"*\"     \"*\"      \"*\"    \n",
       "6  ( 4 ) \" \" \"*\"      \"*\"   \"*\"     \"*\"     \"*\"      \"*\"    \n",
       "6  ( 5 ) \"*\" \"*\"      \"*\"   \"*\"     \"*\"     \" \"      \"*\"    \n",
       "7  ( 1 ) \"*\" \"*\"      \"*\"   \"*\"     \"*\"     \"*\"      \"*\"    "
      ]
     },
     "metadata": {},
     "output_type": "display_data"
    }
   ],
   "source": [
    "leaps = regsubsets(QTY ~ YM + ITEM_CNT + PRICE + MAXTEMP + SALEDAY + RAIN_DAY + HOLIDAY, data = fruit_data, nbest = 5)\n",
    "summary(leaps)"
   ]
  },
  {
   "cell_type": "code",
   "execution_count": 96,
   "metadata": {},
   "outputs": [
    {
     "data": {
      "image/png": "[encoded data removed]",
      "text/plain": [
       "plot without title"
      ]
     },
     "metadata": {},
     "output_type": "display_data"
    },
    {
     "data": {
      "image/png": "[encoded data removed]",
      "text/plain": [
       "plot without title"
      ]
     },
     "metadata": {},
     "output_type": "display_data"
    }
   ],
   "source": [
    "par(mfrow = c(1, 2))\n",
    "plot(leaps, scale = 'adjr2')\n",
    "plot(leaps, scale = 'Cp')\n",
    "plot(leaps, scale = 'bic')"
   ]
  },
  {
   "cell_type": "code",
   "execution_count": 100,
   "metadata": {},
   "outputs": [
    {
     "data": {
      "text/plain": [
       "\n",
       "Call:\n",
       "lm(formula = QTY ~ YM + ITEM_CNT + PRICE + MAXTEMP + RAIN_DAY + \n",
       "    HOLIDAY, data = fruit_data)\n",
       "\n",
       "Residuals:\n",
       "    Min      1Q  Median      3Q     Max \n",
       "-492.97 -123.46   -6.15   93.01  576.50 \n",
       "\n",
       "Coefficients:\n",
       "              Estimate Std. Error t value Pr(>|t|)    \n",
       "(Intercept) -4.265e+05  7.923e+04  -5.383 1.70e-06 ***\n",
       "YM           2.115e+00  3.938e-01   5.370 1.78e-06 ***\n",
       "ITEM_CNT     1.911e+01  4.685e+00   4.080 0.000152 ***\n",
       "PRICE        3.210e-01  1.326e-01   2.421 0.018953 *  \n",
       "MAXTEMP      5.457e+01  3.878e+00  14.073  < 2e-16 ***\n",
       "RAIN_DAY    -1.293e-02  3.772e-03  -3.429 0.001181 ** \n",
       "HOLIDAY      4.013e+01  2.315e+01   1.733 0.088824 .  \n",
       "---\n",
       "Signif. codes:  0 '***' 0.001 '**' 0.01 '*' 0.05 '.' 0.1 ' ' 1\n",
       "\n",
       "Residual standard error: 206.3 on 53 degrees of freedom\n",
       "Multiple R-squared:  0.9037,\tAdjusted R-squared:  0.8928 \n",
       "F-statistic: 82.94 on 6 and 53 DF,  p-value: < 2.2e-16\n"
      ]
     },
     "metadata": {},
     "output_type": "display_data"
    }
   ],
   "source": [
    "a = lm(QTY ~ YM + ITEM_CNT + PRICE + MAXTEMP + RAIN_DAY + HOLIDAY, data = fruit_data)\n",
    "summary(a)"
   ]
  },
  {
   "cell_type": "code",
   "execution_count": 101,
   "metadata": {},
   "outputs": [
    {
     "data": {
      "text/html": [
       "<dl class=dl-horizontal>\n",
       "\t<dt>YM</dt>\n",
       "\t\t<dd>4.37350146353797</dd>\n",
       "\t<dt>ITEM_CNT</dt>\n",
       "\t\t<dd>2.9025000511299</dd>\n",
       "\t<dt>PRICE</dt>\n",
       "\t\t<dd>3.15089447660996</dd>\n",
       "\t<dt>MAXTEMP</dt>\n",
       "\t\t<dd>1.97983523863556</dd>\n",
       "\t<dt>RAIN_DAY</dt>\n",
       "\t\t<dd>2.06441937913378</dd>\n",
       "\t<dt>HOLIDAY</dt>\n",
       "\t\t<dd>1.04478577137326</dd>\n",
       "</dl>\n"
      ],
      "text/latex": [
       "\\begin{description*}\n",
       "\\item[YM] 4.37350146353797\n",
       "\\item[ITEM\\textbackslash{}\\_CNT] 2.9025000511299\n",
       "\\item[PRICE] 3.15089447660996\n",
       "\\item[MAXTEMP] 1.97983523863556\n",
       "\\item[RAIN\\textbackslash{}\\_DAY] 2.06441937913378\n",
       "\\item[HOLIDAY] 1.04478577137326\n",
       "\\end{description*}\n"
      ],
      "text/markdown": [
       "YM\n",
       ":   4.37350146353797ITEM_CNT\n",
       ":   2.9025000511299PRICE\n",
       ":   3.15089447660996MAXTEMP\n",
       ":   1.97983523863556RAIN_DAY\n",
       ":   2.06441937913378HOLIDAY\n",
       ":   1.04478577137326\n",
       "\n"
      ],
      "text/plain": [
       "      YM ITEM_CNT    PRICE  MAXTEMP RAIN_DAY  HOLIDAY \n",
       "4.373501 2.902500 3.150894 1.979835 2.064419 1.044786 "
      ]
     },
     "metadata": {},
     "output_type": "display_data"
    }
   ],
   "source": [
    "vif(a)"
   ]
  },
  {
   "cell_type": "code",
   "execution_count": 118,
   "metadata": {},
   "outputs": [
    {
     "data": {
      "text/plain": [
       "\n",
       "Call:\n",
       "lm(formula = QTY ~ ITEM_CNT + PRICE + MAXTEMP + RAIN_DAY + HOLIDAY, \n",
       "    data = fruit_data)\n",
       "\n",
       "Residuals:\n",
       "    Min      1Q  Median      3Q     Max \n",
       "-476.77 -153.41   15.86  135.34  628.15 \n",
       "\n",
       "Coefficients:\n",
       "              Estimate Std. Error t value Pr(>|t|)    \n",
       "(Intercept) -1.036e+03  4.285e+02  -2.418   0.0190 *  \n",
       "ITEM_CNT     3.895e+01  3.547e+00  10.981 2.25e-15 ***\n",
       "PRICE       -2.512e-01  9.718e-02  -2.585   0.0125 *  \n",
       "MAXTEMP      4.959e+01  4.636e+00  10.699 5.93e-15 ***\n",
       "RAIN_DAY    -1.226e-02  4.641e-03  -2.642   0.0108 *  \n",
       "HOLIDAY      5.707e+01  2.823e+01   2.021   0.0482 *  \n",
       "---\n",
       "Signif. codes:  0 '***' 0.001 '**' 0.01 '*' 0.05 '.' 0.1 ' ' 1\n",
       "\n",
       "Residual standard error: 254 on 54 degrees of freedom\n",
       "Multiple R-squared:  0.8514,\tAdjusted R-squared:  0.8376 \n",
       "F-statistic: 61.86 on 5 and 54 DF,  p-value: < 2.2e-16\n"
      ]
     },
     "metadata": {},
     "output_type": "display_data"
    }
   ],
   "source": [
    "a = lm(QTY ~ ITEM_CNT + PRICE + MAXTEMP + RAIN_DAY + HOLIDAY, data = fruit_data)\n",
    "summary(a)"
   ]
  },
  {
   "cell_type": "code",
   "execution_count": 119,
   "metadata": {},
   "outputs": [
    {
     "data": {
      "text/html": [
       "<dl class=dl-horizontal>\n",
       "\t<dt>ITEM_CNT</dt>\n",
       "\t\t<dd>1.09800518068308</dd>\n",
       "\t<dt>PRICE</dt>\n",
       "\t\t<dd>1.11662880939967</dd>\n",
       "\t<dt>MAXTEMP</dt>\n",
       "\t\t<dd>1.86662966874344</dd>\n",
       "\t<dt>RAIN_DAY</dt>\n",
       "\t\t<dd>2.06215113838337</dd>\n",
       "\t<dt>HOLIDAY</dt>\n",
       "\t\t<dd>1.02539409227262</dd>\n",
       "</dl>\n"
      ],
      "text/latex": [
       "\\begin{description*}\n",
       "\\item[ITEM\\textbackslash{}\\_CNT] 1.09800518068308\n",
       "\\item[PRICE] 1.11662880939967\n",
       "\\item[MAXTEMP] 1.86662966874344\n",
       "\\item[RAIN\\textbackslash{}\\_DAY] 2.06215113838337\n",
       "\\item[HOLIDAY] 1.02539409227262\n",
       "\\end{description*}\n"
      ],
      "text/markdown": [
       "ITEM_CNT\n",
       ":   1.09800518068308PRICE\n",
       ":   1.11662880939967MAXTEMP\n",
       ":   1.86662966874344RAIN_DAY\n",
       ":   2.06215113838337HOLIDAY\n",
       ":   1.02539409227262\n",
       "\n"
      ],
      "text/plain": [
       "ITEM_CNT    PRICE  MAXTEMP RAIN_DAY  HOLIDAY \n",
       "1.098005 1.116629 1.866630 2.062151 1.025394 "
      ]
     },
     "metadata": {},
     "output_type": "display_data"
    }
   ],
   "source": [
    "vif(a)"
   ]
  },
  {
   "cell_type": "code",
   "execution_count": 121,
   "metadata": {},
   "outputs": [
    {
     "data": {
      "text/html": [
       "-0.0983803843818089"
      ],
      "text/latex": [
       "-0.0983803843818089"
      ],
      "text/markdown": [
       "-0.0983803843818089"
      ],
      "text/plain": [
       "[1] -0.09838038"
      ]
     },
     "metadata": {},
     "output_type": "display_data"
    }
   ],
   "source": [
    "cor(fruit_data$PRICE, fruit_data$QTY)"
   ]
  },
  {
   "cell_type": "code",
   "execution_count": 122,
   "metadata": {},
   "outputs": [
    {
     "data": {
      "text/plain": [
       "\n",
       "Call:\n",
       "lm(formula = QTY ~ PRICE, data = fruit_data)\n",
       "\n",
       "Residuals:\n",
       "     Min       1Q   Median       3Q      Max \n",
       "-1089.35  -483.42   -47.06   430.13  1665.92 \n",
       "\n",
       "Coefficients:\n",
       "             Estimate Std. Error t value Pr(>|t|)    \n",
       "(Intercept) 2529.6461   610.3934   4.144 0.000112 ***\n",
       "PRICE         -0.1725     0.2291  -0.753 0.454558    \n",
       "---\n",
       "Signif. codes:  0 '***' 0.001 '**' 0.01 '*' 0.05 '.' 0.1 ' ' 1\n",
       "\n",
       "Residual standard error: 632.7 on 58 degrees of freedom\n",
       "Multiple R-squared:  0.009679,\tAdjusted R-squared:  -0.007396 \n",
       "F-statistic: 0.5669 on 1 and 58 DF,  p-value: 0.4546\n"
      ]
     },
     "metadata": {},
     "output_type": "display_data"
    }
   ],
   "source": [
    "a = lm(QTY ~ PRICE, data = fruit_data)\n",
    "summary(a)"
   ]
  },
  {
   "cell_type": "code",
   "execution_count": 123,
   "metadata": {},
   "outputs": [
    {
     "data": {
      "image/png": "[encoded data removed]",
      "text/plain": [
       "plot without title"
      ]
     },
     "metadata": {},
     "output_type": "display_data"
    }
   ],
   "source": [
    "plot(fruit_data$PRICE, fruit_data$QTY)\n",
    "abline(a, col = 2)"
   ]
  },
  {
   "cell_type": "code",
   "execution_count": 125,
   "metadata": {},
   "outputs": [
    {
     "data": {
      "text/plain": [
       "\n",
       "Call:\n",
       "lm(formula = QTY ~ ITEM_CNT + MAXTEMP + RAIN_DAY + HOLIDAY, data = fruit_data)\n",
       "\n",
       "Residuals:\n",
       "    Min      1Q  Median      3Q     Max \n",
       "-559.08 -172.49   11.84  146.27  556.08 \n",
       "\n",
       "Coefficients:\n",
       "              Estimate Std. Error t value Pr(>|t|)    \n",
       "(Intercept) -1.689e+03  3.637e+02  -4.644 2.17e-05 ***\n",
       "ITEM_CNT     3.713e+01  3.652e+00  10.168 3.06e-14 ***\n",
       "MAXTEMP      4.838e+01  4.844e+00   9.987 5.85e-14 ***\n",
       "RAIN_DAY    -9.173e-03  4.711e-03  -1.947   0.0566 .  \n",
       "HOLIDAY      6.732e+01  2.936e+01   2.293   0.0257 *  \n",
       "---\n",
       "Signif. codes:  0 '***' 0.001 '**' 0.01 '*' 0.05 '.' 0.1 ' ' 1\n",
       "\n",
       "Residual standard error: 266.8 on 55 degrees of freedom\n",
       "Multiple R-squared:  0.833,\tAdjusted R-squared:  0.8208 \n",
       "F-statistic: 68.57 on 4 and 55 DF,  p-value: < 2.2e-16\n"
      ]
     },
     "metadata": {},
     "output_type": "display_data"
    }
   ],
   "source": [
    "a = lm(QTY ~ ITEM_CNT + MAXTEMP + RAIN_DAY + HOLIDAY, data = fruit_data)\n",
    "summary(a)"
   ]
  },
  {
   "cell_type": "code",
   "execution_count": 127,
   "metadata": {},
   "outputs": [
    {
     "data": {
      "text/html": [
       "0.475676597360213"
      ],
      "text/latex": [
       "0.475676597360213"
      ],
      "text/markdown": [
       "0.475676597360213"
      ],
      "text/plain": [
       "[1] 0.4756766"
      ]
     },
     "metadata": {},
     "output_type": "display_data"
    }
   ],
   "source": [
    "cor(fruit_data$RAIN_DAY, fruit_data$QTY)"
   ]
  },
  {
   "cell_type": "code",
   "execution_count": 128,
   "metadata": {},
   "outputs": [
    {
     "data": {
      "text/plain": [
       "\n",
       "Call:\n",
       "lm(formula = QTY ~ RAIN_DAY, data = fruit_data)\n",
       "\n",
       "Residuals:\n",
       "    Min      1Q  Median      3Q     Max \n",
       "-815.94 -441.85   -1.32  263.85 1790.09 \n",
       "\n",
       "Coefficients:\n",
       "             Estimate Std. Error t value Pr(>|t|)    \n",
       "(Intercept) 1.802e+03  9.796e+01  18.390  < 2e-16 ***\n",
       "RAIN_DAY    2.930e-02  7.115e-03   4.118 0.000123 ***\n",
       "---\n",
       "Signif. codes:  0 '***' 0.001 '**' 0.01 '*' 0.05 '.' 0.1 ' ' 1\n",
       "\n",
       "Residual standard error: 559.2 on 58 degrees of freedom\n",
       "Multiple R-squared:  0.2263,\tAdjusted R-squared:  0.2129 \n",
       "F-statistic: 16.96 on 1 and 58 DF,  p-value: 0.0001225\n"
      ]
     },
     "metadata": {},
     "output_type": "display_data"
    }
   ],
   "source": [
    "a = lm(QTY ~ RAIN_DAY, data = fruit_data)\n",
    "summary(a)"
   ]
  },
  {
   "cell_type": "code",
   "execution_count": 129,
   "metadata": {},
   "outputs": [
    {
     "data": {
      "image/png": "[encoded data removed]",
      "text/plain": [
       "plot without title"
      ]
     },
     "metadata": {},
     "output_type": "display_data"
    }
   ],
   "source": [
    "plot(fruit_data$RAIN_DAY, fruit_data$QTY)\n",
    "abline(a, col = 2)"
   ]
  },
  {
   "cell_type": "code",
   "execution_count": 156,
   "metadata": {},
   "outputs": [
    {
     "data": {
      "text/plain": [
       "\n",
       "Call:\n",
       "lm(formula = QTY ~ ITEM_CNT + MAXTEMP + HOLIDAY, data = fruit_data)\n",
       "\n",
       "Residuals:\n",
       "   Min     1Q Median     3Q    Max \n",
       "-631.6 -221.0   13.0  144.6  685.0 \n",
       "\n",
       "Coefficients:\n",
       "             Estimate Std. Error t value Pr(>|t|)    \n",
       "(Intercept) -1609.330    370.266  -4.346 5.89e-05 ***\n",
       "ITEM_CNT       35.682      3.663   9.741 1.17e-13 ***\n",
       "MAXTEMP        42.030      3.671  11.448 2.72e-16 ***\n",
       "HOLIDAY        71.405     30.008   2.380   0.0208 *  \n",
       "---\n",
       "Signif. codes:  0 '***' 0.001 '**' 0.01 '*' 0.05 '.' 0.1 ' ' 1\n",
       "\n",
       "Residual standard error: 273.4 on 56 degrees of freedom\n",
       "Multiple R-squared:  0.8215,\tAdjusted R-squared:  0.8119 \n",
       "F-statistic: 85.88 on 3 and 56 DF,  p-value: < 2.2e-16\n"
      ]
     },
     "metadata": {},
     "output_type": "display_data"
    }
   ],
   "source": [
    "# 설명력이 0.01수준 달라짐\n",
    "a = lm(QTY ~ ITEM_CNT + MAXTEMP + HOLIDAY, data = fruit_data)\n",
    "summary(a)"
   ]
  },
  {
   "cell_type": "code",
   "execution_count": 147,
   "metadata": {},
   "outputs": [
    {
     "data": {
      "text/plain": [
       "\n",
       "\tBartlett test of homogeneity of variances\n",
       "\n",
       "data:  QTY by as.factor(HOLIDAY)\n",
       "Bartlett's K-squared = 4.7898, df = 4, p-value = 0.3096\n"
      ]
     },
     "metadata": {},
     "output_type": "display_data"
    }
   ],
   "source": [
    "bartlett.test(QTY ~ as.factor(HOLIDAY), data = fruit_data)"
   ]
  },
  {
   "cell_type": "code",
   "execution_count": 152,
   "metadata": {},
   "outputs": [
    {
     "data": {
      "text/plain": [
       "                   Df   Sum Sq Mean Sq F value Pr(>F)  \n",
       "as.factor(HOLIDAY)  4  4900849 1225212   3.634 0.0107 *\n",
       "Residuals          55 18541111  337111                 \n",
       "---\n",
       "Signif. codes:  0 '***' 0.001 '**' 0.01 '*' 0.05 '.' 0.1 ' ' 1"
      ]
     },
     "metadata": {},
     "output_type": "display_data"
    }
   ],
   "source": [
    "a = aov(QTY ~ as.factor(HOLIDAY), data = fruit_data)\n",
    "summary(a)"
   ]
  },
  {
   "cell_type": "code",
   "execution_count": 153,
   "metadata": {},
   "outputs": [
    {
     "data": {
      "text/plain": [
       "  Tukey multiple comparisons of means\n",
       "    95% family-wise confidence level\n",
       "\n",
       "Fit: aov(formula = QTY ~ as.factor(HOLIDAY), data = fruit_data)\n",
       "\n",
       "$`as.factor(HOLIDAY)`\n",
       "            diff         lwr        upr     p adj\n",
       "9-8    163.10317  -420.42361  746.62996 0.9329426\n",
       "10-8   714.65179   115.38157 1313.92201 0.0117936\n",
       "11-8    29.08929  -696.66299  754.84156 0.9999619\n",
       "12-8   143.21429  -785.17115 1071.59972 0.9923413\n",
       "10-9   551.54861   -11.08969 1114.18691 0.0572624\n",
       "11-9  -134.01389  -829.82523  561.79746 0.9823274\n",
       "12-9   -19.88889  -925.06101  885.28323 0.9999965\n",
       "11-10 -685.56250 -1394.62859   23.50359 0.0627195\n",
       "12-10 -571.43750 -1486.83788  343.96288 0.4066145\n",
       "12-11  114.12500  -888.64588 1116.89588 0.9976323\n"
      ]
     },
     "metadata": {},
     "output_type": "display_data"
    }
   ],
   "source": [
    "TukeyHSD(a)"
   ]
  },
  {
   "cell_type": "code",
   "execution_count": 154,
   "metadata": {},
   "outputs": [
    {
     "data": {
      "image/png": "[encoded data removed]",
      "text/plain": [
       "plot without title"
      ]
     },
     "metadata": {},
     "output_type": "display_data"
    }
   ],
   "source": [
    "plot(fruit_data$HOLIDAY, fruit_data$QTY)"
   ]
  },
  {
   "cell_type": "code",
   "execution_count": 157,
   "metadata": {},
   "outputs": [
    {
     "data": {
      "text/plain": [
       "\n",
       "Call:\n",
       "lm(formula = QTY ~ ITEM_CNT + MAXTEMP + HOLIDAY, data = fruit_data)\n",
       "\n",
       "Residuals:\n",
       "   Min     1Q Median     3Q    Max \n",
       "-631.6 -221.0   13.0  144.6  685.0 \n",
       "\n",
       "Coefficients:\n",
       "             Estimate Std. Error t value Pr(>|t|)    \n",
       "(Intercept) -1609.330    370.266  -4.346 5.89e-05 ***\n",
       "ITEM_CNT       35.682      3.663   9.741 1.17e-13 ***\n",
       "MAXTEMP        42.030      3.671  11.448 2.72e-16 ***\n",
       "HOLIDAY        71.405     30.008   2.380   0.0208 *  \n",
       "---\n",
       "Signif. codes:  0 '***' 0.001 '**' 0.01 '*' 0.05 '.' 0.1 ' ' 1\n",
       "\n",
       "Residual standard error: 273.4 on 56 degrees of freedom\n",
       "Multiple R-squared:  0.8215,\tAdjusted R-squared:  0.8119 \n",
       "F-statistic: 85.88 on 3 and 56 DF,  p-value: < 2.2e-16\n"
      ]
     },
     "metadata": {},
     "output_type": "display_data"
    }
   ],
   "source": [
    "# 최종 모델\n",
    "a = lm(QTY ~ ITEM_CNT + MAXTEMP + HOLIDAY, data = fruit_data)\n",
    "summary(a)"
   ]
  },
  {
   "cell_type": "code",
   "execution_count": 160,
   "metadata": {},
   "outputs": [
    {
     "data": {
      "text/html": [
       "<dl class=dl-horizontal>\n",
       "\t<dt>ITEM_CNT</dt>\n",
       "\t\t<dd>1.0109087610949</dd>\n",
       "\t<dt>MAXTEMP</dt>\n",
       "\t\t<dd>1.0108828073868</dd>\n",
       "\t<dt>HOLIDAY</dt>\n",
       "\t\t<dd>1.00002782749916</dd>\n",
       "</dl>\n"
      ],
      "text/latex": [
       "\\begin{description*}\n",
       "\\item[ITEM\\textbackslash{}\\_CNT] 1.0109087610949\n",
       "\\item[MAXTEMP] 1.0108828073868\n",
       "\\item[HOLIDAY] 1.00002782749916\n",
       "\\end{description*}\n"
      ],
      "text/markdown": [
       "ITEM_CNT\n",
       ":   1.0109087610949MAXTEMP\n",
       ":   1.0108828073868HOLIDAY\n",
       ":   1.00002782749916\n",
       "\n"
      ],
      "text/plain": [
       "ITEM_CNT  MAXTEMP  HOLIDAY \n",
       "1.010909 1.010883 1.000028 "
      ]
     },
     "metadata": {},
     "output_type": "display_data"
    }
   ],
   "source": [
    "vif(a)"
   ]
  },
  {
   "cell_type": "code",
   "execution_count": 12,
   "metadata": {},
   "outputs": [
    {
     "data": {
      "text/html": [
       "0.621126382834238"
      ],
      "text/latex": [
       "0.621126382834238"
      ],
      "text/markdown": [
       "0.621126382834238"
      ],
      "text/plain": [
       "[1] 0.6211264"
      ]
     },
     "metadata": {},
     "output_type": "display_data"
    }
   ],
   "source": [
    "cor(fruit_data$QTY, fruit_data$ITEM_CNT)"
   ]
  },
  {
   "cell_type": "code",
   "execution_count": 13,
   "metadata": {},
   "outputs": [],
   "source": [
    "a = lm(QTY ~ ITEM_CNT, data = fruit_data)"
   ]
  },
  {
   "cell_type": "code",
   "execution_count": 14,
   "metadata": {},
   "outputs": [
    {
     "data": {
      "image/png": "[encoded data removed]",
      "text/plain": [
       "plot without title"
      ]
     },
     "metadata": {},
     "output_type": "display_data"
    }
   ],
   "source": [
    "plot(x = fruit_data$ITEM_CNT, y = fruit_data$QTY)\n",
    "abline(a, col = 2)"
   ]
  },
  {
   "cell_type": "code",
   "execution_count": 79,
   "metadata": {},
   "outputs": [
    {
     "data": {
      "text/html": [
       "0.475676597360213"
      ],
      "text/latex": [
       "0.475676597360213"
      ],
      "text/markdown": [
       "0.475676597360213"
      ],
      "text/plain": [
       "[1] 0.4756766"
      ]
     },
     "metadata": {},
     "output_type": "display_data"
    }
   ],
   "source": [
    "cor(fruit_data$RAIN_DAY, fruit_data$QTY)"
   ]
  },
  {
   "cell_type": "code",
   "execution_count": 80,
   "metadata": {},
   "outputs": [
    {
     "data": {
      "text/plain": [
       "\n",
       "Call:\n",
       "lm(formula = QTY ~ RAIN_DAY, data = fruit_data)\n",
       "\n",
       "Residuals:\n",
       "    Min      1Q  Median      3Q     Max \n",
       "-815.94 -441.85   -1.32  263.85 1790.09 \n",
       "\n",
       "Coefficients:\n",
       "             Estimate Std. Error t value Pr(>|t|)    \n",
       "(Intercept) 1.802e+03  9.796e+01  18.390  < 2e-16 ***\n",
       "RAIN_DAY    2.930e-02  7.115e-03   4.118 0.000123 ***\n",
       "---\n",
       "Signif. codes:  0 '***' 0.001 '**' 0.01 '*' 0.05 '.' 0.1 ' ' 1\n",
       "\n",
       "Residual standard error: 559.2 on 58 degrees of freedom\n",
       "Multiple R-squared:  0.2263,\tAdjusted R-squared:  0.2129 \n",
       "F-statistic: 16.96 on 1 and 58 DF,  p-value: 0.0001225\n"
      ]
     },
     "metadata": {},
     "output_type": "display_data"
    }
   ],
   "source": [
    "a = lm(QTY ~ RAIN_DAY, data = fruit_data)\n",
    "summary(a)"
   ]
  },
  {
   "cell_type": "code",
   "execution_count": 81,
   "metadata": {},
   "outputs": [
    {
     "data": {
      "image/png": "[encoded data removed]",
      "text/plain": [
       "plot without title"
      ]
     },
     "metadata": {},
     "output_type": "display_data"
    }
   ],
   "source": [
    "plot(fruit_data$RAIN_DAY, fruit_data$QTY)\n",
    "abline(a, col = 2)"
   ]
  },
  {
   "cell_type": "code",
   "execution_count": 15,
   "metadata": {},
   "outputs": [
    {
     "data": {
      "text/html": [
       "<table>\n",
       "<thead><tr><th scope=col>YM</th><th scope=col>MAXTEMP</th><th scope=col>QTY</th></tr></thead>\n",
       "<tbody>\n",
       "\t<tr><td>200901</td><td> 4    </td><td> 990  </td></tr>\n",
       "\t<tr><td>200902</td><td> 9    </td><td>1199  </td></tr>\n",
       "\t<tr><td>200903</td><td>12    </td><td>1102  </td></tr>\n",
       "\t<tr><td>200904</td><td>19    </td><td>1326  </td></tr>\n",
       "\t<tr><td>200905</td><td>25    </td><td>1672  </td></tr>\n",
       "\t<tr><td>200906</td><td>27    </td><td>1875  </td></tr>\n",
       "\t<tr><td>200907</td><td>28    </td><td>1663  </td></tr>\n",
       "\t<tr><td>200908</td><td>29    </td><td>1957  </td></tr>\n",
       "\t<tr><td>200909</td><td>27    </td><td>2021  </td></tr>\n",
       "\t<tr><td>200910</td><td>22    </td><td>1718  </td></tr>\n",
       "\t<tr><td>200911</td><td>12    </td><td>1204  </td></tr>\n",
       "\t<tr><td>200912</td><td> 5    </td><td>1147  </td></tr>\n",
       "</tbody>\n",
       "</table>\n"
      ],
      "text/latex": [
       "\\begin{tabular}{r|lll}\n",
       " YM & MAXTEMP & QTY\\\\\n",
       "\\hline\n",
       "\t 200901 &  4     &  990  \\\\\n",
       "\t 200902 &  9     & 1199  \\\\\n",
       "\t 200903 & 12     & 1102  \\\\\n",
       "\t 200904 & 19     & 1326  \\\\\n",
       "\t 200905 & 25     & 1672  \\\\\n",
       "\t 200906 & 27     & 1875  \\\\\n",
       "\t 200907 & 28     & 1663  \\\\\n",
       "\t 200908 & 29     & 1957  \\\\\n",
       "\t 200909 & 27     & 2021  \\\\\n",
       "\t 200910 & 22     & 1718  \\\\\n",
       "\t 200911 & 12     & 1204  \\\\\n",
       "\t 200912 &  5     & 1147  \\\\\n",
       "\\end{tabular}\n"
      ],
      "text/markdown": [
       "\n",
       "| YM | MAXTEMP | QTY |\n",
       "|---|---|---|\n",
       "| 200901 |  4     |  990   |\n",
       "| 200902 |  9     | 1199   |\n",
       "| 200903 | 12     | 1102   |\n",
       "| 200904 | 19     | 1326   |\n",
       "| 200905 | 25     | 1672   |\n",
       "| 200906 | 27     | 1875   |\n",
       "| 200907 | 28     | 1663   |\n",
       "| 200908 | 29     | 1957   |\n",
       "| 200909 | 27     | 2021   |\n",
       "| 200910 | 22     | 1718   |\n",
       "| 200911 | 12     | 1204   |\n",
       "| 200912 |  5     | 1147   |\n",
       "\n"
      ],
      "text/plain": [
       "   YM     MAXTEMP QTY \n",
       "1  200901  4       990\n",
       "2  200902  9      1199\n",
       "3  200903 12      1102\n",
       "4  200904 19      1326\n",
       "5  200905 25      1672\n",
       "6  200906 27      1875\n",
       "7  200907 28      1663\n",
       "8  200908 29      1957\n",
       "9  200909 27      2021\n",
       "10 200910 22      1718\n",
       "11 200911 12      1204\n",
       "12 200912  5      1147"
      ]
     },
     "metadata": {},
     "output_type": "display_data"
    }
   ],
   "source": [
    "fruit_data_2009 = fruit_data %>%\n",
    "                    select(YM, MAXTEMP, QTY) %>%\n",
    "                    filter(grepl('^2009', YM))\n",
    "fruit_data_2010 = fruit_data %>%\n",
    "                    select(YM, MAXTEMP, QTY) %>%\n",
    "                    filter(grepl('^2010', YM))\n",
    "fruit_data_2011 = fruit_data %>%\n",
    "                    select(YM, MAXTEMP, QTY) %>%\n",
    "                    filter(grepl('^2011', YM))\n",
    "fruit_data_2012 = fruit_data %>%\n",
    "                    select(YM, MAXTEMP, QTY) %>%\n",
    "                    filter(grepl('^2012', YM))\n",
    "fruit_data_2013 = fruit_data %>%\n",
    "                    select(YM, MAXTEMP, QTY) %>%\n",
    "                    filter(grepl('^2013', YM))\n",
    "\n",
    "fruit_data_2009"
   ]
  },
  {
   "cell_type": "code",
   "execution_count": 16,
   "metadata": {},
   "outputs": [
    {
     "data": {
      "image/png": "[encoded data removed]",
      "text/plain": [
       "plot without title"
      ]
     },
     "metadata": {},
     "output_type": "display_data"
    }
   ],
   "source": [
    "par(mfrow = c(3,2))\n",
    "plot(fruit_data_2009$MAXTEMP, fruit_data_2009$QTY)\n",
    "plot(fruit_data_2010$MAXTEMP, fruit_data_2010$QTY)\n",
    "plot(fruit_data_2011$MAXTEMP, fruit_data_2011$QTY)\n",
    "plot(fruit_data_2012$MAXTEMP, fruit_data_2012$QTY)\n",
    "plot(fruit_data_2013$MAXTEMP, fruit_data_2013$QTY)"
   ]
  },
  {
   "cell_type": "code",
   "execution_count": 17,
   "metadata": {},
   "outputs": [
    {
     "data": {
      "text/html": [
       "<table>\n",
       "<thead><tr><th scope=col>M</th><th scope=col>y09</th><th scope=col>y10</th><th scope=col>y11</th><th scope=col>y12</th><th scope=col>y13</th><th scope=col>QTY_mean</th><th scope=col>Temp_mean</th></tr></thead>\n",
       "<tbody>\n",
       "\t<tr><td> 1   </td><td>27   </td><td>226  </td><td> 581 </td><td> 481 </td><td> 432 </td><td>349.4</td><td> 2.0 </td></tr>\n",
       "\t<tr><td> 2   </td><td>29   </td><td>185  </td><td> 691 </td><td> 441 </td><td> 447 </td><td>358.6</td><td> 6.6 </td></tr>\n",
       "\t<tr><td> 3   </td><td>67   </td><td>229  </td><td> 452 </td><td> 545 </td><td> 623 </td><td>383.2</td><td>11.0 </td></tr>\n",
       "\t<tr><td> 4   </td><td>60   </td><td>326  </td><td> 511 </td><td> 659 </td><td>1089 </td><td>529.0</td><td>16.8 </td></tr>\n",
       "\t<tr><td> 5   </td><td>74   </td><td>445  </td><td> 660 </td><td> 771 </td><td>1524 </td><td>694.8</td><td>23.6 </td></tr>\n",
       "\t<tr><td> 6   </td><td>84   </td><td>438  </td><td>1088 </td><td> 776 </td><td> 978 </td><td>672.8</td><td>27.6 </td></tr>\n",
       "\t<tr><td> 7   </td><td>61   </td><td>387  </td><td> 992 </td><td> 893 </td><td>1036 </td><td>673.8</td><td>28.8 </td></tr>\n",
       "\t<tr><td> 8   </td><td>63   </td><td>599  </td><td>1022 </td><td>1338 </td><td>1155 </td><td>835.4</td><td>30.0 </td></tr>\n",
       "\t<tr><td> 9   </td><td>56   </td><td>728  </td><td> 991 </td><td> 792 </td><td> 822 </td><td>677.8</td><td>26.2 </td></tr>\n",
       "\t<tr><td>10   </td><td>50   </td><td>916  </td><td> 734 </td><td>1222 </td><td> 730 </td><td>730.4</td><td>20.8 </td></tr>\n",
       "\t<tr><td>11   </td><td>31   </td><td>687  </td><td> 554 </td><td> 833 </td><td> 502 </td><td>521.4</td><td>12.8 </td></tr>\n",
       "\t<tr><td>12   </td><td>42   </td><td>601  </td><td> 460 </td><td> 727 </td><td> 345 </td><td>435.0</td><td> 4.4 </td></tr>\n",
       "</tbody>\n",
       "</table>\n"
      ],
      "text/latex": [
       "\\begin{tabular}{r|llllllll}\n",
       " M & y09 & y10 & y11 & y12 & y13 & QTY\\_mean & Temp\\_mean\\\\\n",
       "\\hline\n",
       "\t  1    & 27    & 226   &  581  &  481  &  432  & 349.4 &  2.0 \\\\\n",
       "\t  2    & 29    & 185   &  691  &  441  &  447  & 358.6 &  6.6 \\\\\n",
       "\t  3    & 67    & 229   &  452  &  545  &  623  & 383.2 & 11.0 \\\\\n",
       "\t  4    & 60    & 326   &  511  &  659  & 1089  & 529.0 & 16.8 \\\\\n",
       "\t  5    & 74    & 445   &  660  &  771  & 1524  & 694.8 & 23.6 \\\\\n",
       "\t  6    & 84    & 438   & 1088  &  776  &  978  & 672.8 & 27.6 \\\\\n",
       "\t  7    & 61    & 387   &  992  &  893  & 1036  & 673.8 & 28.8 \\\\\n",
       "\t  8    & 63    & 599   & 1022  & 1338  & 1155  & 835.4 & 30.0 \\\\\n",
       "\t  9    & 56    & 728   &  991  &  792  &  822  & 677.8 & 26.2 \\\\\n",
       "\t 10    & 50    & 916   &  734  & 1222  &  730  & 730.4 & 20.8 \\\\\n",
       "\t 11    & 31    & 687   &  554  &  833  &  502  & 521.4 & 12.8 \\\\\n",
       "\t 12    & 42    & 601   &  460  &  727  &  345  & 435.0 &  4.4 \\\\\n",
       "\\end{tabular}\n"
      ],
      "text/markdown": [
       "\n",
       "| M | y09 | y10 | y11 | y12 | y13 | QTY_mean | Temp_mean |\n",
       "|---|---|---|---|---|---|---|---|\n",
       "|  1    | 27    | 226   |  581  |  481  |  432  | 349.4 |  2.0  |\n",
       "|  2    | 29    | 185   |  691  |  441  |  447  | 358.6 |  6.6  |\n",
       "|  3    | 67    | 229   |  452  |  545  |  623  | 383.2 | 11.0  |\n",
       "|  4    | 60    | 326   |  511  |  659  | 1089  | 529.0 | 16.8  |\n",
       "|  5    | 74    | 445   |  660  |  771  | 1524  | 694.8 | 23.6  |\n",
       "|  6    | 84    | 438   | 1088  |  776  |  978  | 672.8 | 27.6  |\n",
       "|  7    | 61    | 387   |  992  |  893  | 1036  | 673.8 | 28.8  |\n",
       "|  8    | 63    | 599   | 1022  | 1338  | 1155  | 835.4 | 30.0  |\n",
       "|  9    | 56    | 728   |  991  |  792  |  822  | 677.8 | 26.2  |\n",
       "| 10    | 50    | 916   |  734  | 1222  |  730  | 730.4 | 20.8  |\n",
       "| 11    | 31    | 687   |  554  |  833  |  502  | 521.4 | 12.8  |\n",
       "| 12    | 42    | 601   |  460  |  727  |  345  | 435.0 |  4.4  |\n",
       "\n"
      ],
      "text/plain": [
       "   M  y09 y10 y11  y12  y13  QTY_mean Temp_mean\n",
       "1   1 27  226  581  481  432 349.4     2.0     \n",
       "2   2 29  185  691  441  447 358.6     6.6     \n",
       "3   3 67  229  452  545  623 383.2    11.0     \n",
       "4   4 60  326  511  659 1089 529.0    16.8     \n",
       "5   5 74  445  660  771 1524 694.8    23.6     \n",
       "6   6 84  438 1088  776  978 672.8    27.6     \n",
       "7   7 61  387  992  893 1036 673.8    28.8     \n",
       "8   8 63  599 1022 1338 1155 835.4    30.0     \n",
       "9   9 56  728  991  792  822 677.8    26.2     \n",
       "10 10 50  916  734 1222  730 730.4    20.8     \n",
       "11 11 31  687  554  833  502 521.4    12.8     \n",
       "12 12 42  601  460  727  345 435.0     4.4     "
      ]
     },
     "metadata": {},
     "output_type": "display_data"
    }
   ],
   "source": [
    "vitamin_data_2009 = vitamin_data %>%\n",
    "                    select(YM, MAXTEMP, QTY) %>%\n",
    "                    filter(grepl('^2009', YM))\n",
    "vitamin_data_2010 = vitamin_data %>%\n",
    "                    select(YM, MAXTEMP, QTY) %>%\n",
    "                    filter(grepl('^2010', YM))\n",
    "vitamin_data_2011 = vitamin_data %>%\n",
    "                    select(YM, MAXTEMP, QTY) %>%\n",
    "                    filter(grepl('^2011', YM))\n",
    "vitamin_data_2012 = vitamin_data %>%\n",
    "                    select(YM, MAXTEMP, QTY) %>%\n",
    "                    filter(grepl('^2012', YM))\n",
    "vitamin_data_2013 = vitamin_data %>%\n",
    "                    select(YM, MAXTEMP, QTY) %>%\n",
    "                    filter(grepl('^2013', YM))\n",
    "\n",
    "vitamin_data_2009$YM = seq(1:12)\n",
    "vitamin_data_2010$YM = seq(1:12)\n",
    "vitamin_data_2011$YM = seq(1:12)\n",
    "vitamin_data_2012$YM = seq(1:12)\n",
    "vitamin_data_2013$YM = seq(1:12)\n",
    "\n",
    "vitamin_data_t = data.frame(vitamin_data_2009$YM, vitamin_data_2009$MAXTEMP)\n",
    "vitamin_data_t = cbind(vitamin_data_t, vitamin_data_2010$MAXTEMP, vitamin_data_2011$MAXTEMP, vitamin_data_2012$MAXTEMP,\n",
    "                       vitamin_data_2013$MAXTEMP)\n",
    "vitamin_data_t$t_mean = apply(vitamin_data_t[-c(1)], 1, mean)\n",
    "\n",
    "vitamin_data_ = data.frame(vitamin_data_2009$YM, vitamin_data_2009$QTY)\n",
    "vitamin_data_ = cbind(vitamin_data_, vitamin_data_2010$QTY, vitamin_data_2011$QTY, vitamin_data_2012$QTY, vitamin_data_2013$QTY)\n",
    "\n",
    "vitamin_data_$mean = apply(vitamin_data_[-c(1)], 1, mean)\n",
    "vitamin_data_ = cbind(vitamin_data_, vitamin_data_t$t_mean)\n",
    "colnames(vitamin_data_) = c('M', 'y09', 'y10', 'y11', 'y12', 'y13', 'QTY_mean', 'Temp_mean')\n",
    "\n",
    "vitamin_data_"
   ]
  },
  {
   "cell_type": "code",
   "execution_count": 18,
   "metadata": {},
   "outputs": [
    {
     "data": {
      "image/png": "[encoded data removed]",
      "text/plain": [
       "plot without title"
      ]
     },
     "metadata": {},
     "output_type": "display_data"
    }
   ],
   "source": [
    "par(mfrow = c(3, 2))\n",
    "plot(vitamin_data_2009$MAXTEMP, vitamin_data_2009$QTY)\n",
    "plot(vitamin_data_2010$MAXTEMP, vitamin_data_2010$QTY)\n",
    "plot(vitamin_data_2011$MAXTEMP, vitamin_data_2011$QTY)\n",
    "plot(vitamin_data_2012$MAXTEMP, vitamin_data_2012$QTY)\n",
    "plot(vitamin_data_2013$MAXTEMP, vitamin_data_2013$QTY)\n",
    "plot(vitamin_data_$Temp_mean)"
   ]
  },
  {
   "cell_type": "code",
   "execution_count": 19,
   "metadata": {},
   "outputs": [
    {
     "data": {
      "text/html": [
       "<table>\n",
       "<thead><tr><th scope=col>M</th><th scope=col>y09</th><th scope=col>y10</th><th scope=col>y11</th><th scope=col>y12</th><th scope=col>y13</th><th scope=col>QTY_mean</th><th scope=col>Temp_mean</th></tr></thead>\n",
       "<tbody>\n",
       "\t<tr><td> 1    </td><td>1346  </td><td>1463  </td><td>1685  </td><td>2115  </td><td>2089  </td><td>1739.6</td><td> 2.0  </td></tr>\n",
       "\t<tr><td> 2    </td><td>1260  </td><td>1336  </td><td>1648  </td><td>1804  </td><td>1880  </td><td>1585.6</td><td> 6.6  </td></tr>\n",
       "\t<tr><td> 3    </td><td>1664  </td><td>1645  </td><td>2069  </td><td>2297  </td><td>2348  </td><td>2004.6</td><td>11.0  </td></tr>\n",
       "\t<tr><td> 4    </td><td>2125  </td><td>1979  </td><td>2473  </td><td>3001  </td><td>2435  </td><td>2402.6</td><td>16.8  </td></tr>\n",
       "\t<tr><td> 5    </td><td>2220  </td><td>2193  </td><td>2626  </td><td>3992  </td><td>3209  </td><td>2848.0</td><td>23.6  </td></tr>\n",
       "\t<tr><td> 6    </td><td>2082  </td><td>2366  </td><td>2779  </td><td>3243  </td><td>3274  </td><td>2748.8</td><td>27.6  </td></tr>\n",
       "\t<tr><td> 7    </td><td>2153  </td><td>2385  </td><td>2717  </td><td>3206  </td><td>3395  </td><td>2771.2</td><td>28.8  </td></tr>\n",
       "\t<tr><td> 8    </td><td>2479  </td><td>2561  </td><td>2674  </td><td>3778  </td><td>3894  </td><td>3077.2</td><td>30.0  </td></tr>\n",
       "\t<tr><td> 9    </td><td>2394  </td><td>2222  </td><td>2879  </td><td>2965  </td><td>3708  </td><td>2833.6</td><td>26.2  </td></tr>\n",
       "\t<tr><td>10    </td><td>2116  </td><td>2276  </td><td>2535  </td><td>3090  </td><td>3413  </td><td>2686.0</td><td>20.8  </td></tr>\n",
       "\t<tr><td>11    </td><td>1657  </td><td>1919  </td><td>2322  </td><td>2267  </td><td>2615  </td><td>2156.0</td><td>12.8  </td></tr>\n",
       "\t<tr><td>12    </td><td>1518  </td><td>1898  </td><td>2242  </td><td>2295  </td><td>2443  </td><td>2079.2</td><td> 4.4  </td></tr>\n",
       "</tbody>\n",
       "</table>\n"
      ],
      "text/latex": [
       "\\begin{tabular}{r|llllllll}\n",
       " M & y09 & y10 & y11 & y12 & y13 & QTY\\_mean & Temp\\_mean\\\\\n",
       "\\hline\n",
       "\t  1     & 1346   & 1463   & 1685   & 2115   & 2089   & 1739.6 &  2.0  \\\\\n",
       "\t  2     & 1260   & 1336   & 1648   & 1804   & 1880   & 1585.6 &  6.6  \\\\\n",
       "\t  3     & 1664   & 1645   & 2069   & 2297   & 2348   & 2004.6 & 11.0  \\\\\n",
       "\t  4     & 2125   & 1979   & 2473   & 3001   & 2435   & 2402.6 & 16.8  \\\\\n",
       "\t  5     & 2220   & 2193   & 2626   & 3992   & 3209   & 2848.0 & 23.6  \\\\\n",
       "\t  6     & 2082   & 2366   & 2779   & 3243   & 3274   & 2748.8 & 27.6  \\\\\n",
       "\t  7     & 2153   & 2385   & 2717   & 3206   & 3395   & 2771.2 & 28.8  \\\\\n",
       "\t  8     & 2479   & 2561   & 2674   & 3778   & 3894   & 3077.2 & 30.0  \\\\\n",
       "\t  9     & 2394   & 2222   & 2879   & 2965   & 3708   & 2833.6 & 26.2  \\\\\n",
       "\t 10     & 2116   & 2276   & 2535   & 3090   & 3413   & 2686.0 & 20.8  \\\\\n",
       "\t 11     & 1657   & 1919   & 2322   & 2267   & 2615   & 2156.0 & 12.8  \\\\\n",
       "\t 12     & 1518   & 1898   & 2242   & 2295   & 2443   & 2079.2 &  4.4  \\\\\n",
       "\\end{tabular}\n"
      ],
      "text/markdown": [
       "\n",
       "| M | y09 | y10 | y11 | y12 | y13 | QTY_mean | Temp_mean |\n",
       "|---|---|---|---|---|---|---|---|\n",
       "|  1     | 1346   | 1463   | 1685   | 2115   | 2089   | 1739.6 |  2.0   |\n",
       "|  2     | 1260   | 1336   | 1648   | 1804   | 1880   | 1585.6 |  6.6   |\n",
       "|  3     | 1664   | 1645   | 2069   | 2297   | 2348   | 2004.6 | 11.0   |\n",
       "|  4     | 2125   | 1979   | 2473   | 3001   | 2435   | 2402.6 | 16.8   |\n",
       "|  5     | 2220   | 2193   | 2626   | 3992   | 3209   | 2848.0 | 23.6   |\n",
       "|  6     | 2082   | 2366   | 2779   | 3243   | 3274   | 2748.8 | 27.6   |\n",
       "|  7     | 2153   | 2385   | 2717   | 3206   | 3395   | 2771.2 | 28.8   |\n",
       "|  8     | 2479   | 2561   | 2674   | 3778   | 3894   | 3077.2 | 30.0   |\n",
       "|  9     | 2394   | 2222   | 2879   | 2965   | 3708   | 2833.6 | 26.2   |\n",
       "| 10     | 2116   | 2276   | 2535   | 3090   | 3413   | 2686.0 | 20.8   |\n",
       "| 11     | 1657   | 1919   | 2322   | 2267   | 2615   | 2156.0 | 12.8   |\n",
       "| 12     | 1518   | 1898   | 2242   | 2295   | 2443   | 2079.2 |  4.4   |\n",
       "\n"
      ],
      "text/plain": [
       "   M  y09  y10  y11  y12  y13  QTY_mean Temp_mean\n",
       "1   1 1346 1463 1685 2115 2089 1739.6    2.0     \n",
       "2   2 1260 1336 1648 1804 1880 1585.6    6.6     \n",
       "3   3 1664 1645 2069 2297 2348 2004.6   11.0     \n",
       "4   4 2125 1979 2473 3001 2435 2402.6   16.8     \n",
       "5   5 2220 2193 2626 3992 3209 2848.0   23.6     \n",
       "6   6 2082 2366 2779 3243 3274 2748.8   27.6     \n",
       "7   7 2153 2385 2717 3206 3395 2771.2   28.8     \n",
       "8   8 2479 2561 2674 3778 3894 3077.2   30.0     \n",
       "9   9 2394 2222 2879 2965 3708 2833.6   26.2     \n",
       "10 10 2116 2276 2535 3090 3413 2686.0   20.8     \n",
       "11 11 1657 1919 2322 2267 2615 2156.0   12.8     \n",
       "12 12 1518 1898 2242 2295 2443 2079.2    4.4     "
      ]
     },
     "metadata": {},
     "output_type": "display_data"
    }
   ],
   "source": [
    "tea_data_2009 = tea_data %>%\n",
    "                    select(YM, MAXTEMP, QTY) %>%\n",
    "                    filter(grepl('^2009', YM))\n",
    "tea_data_2010 = tea_data %>%\n",
    "                    select(YM, MAXTEMP, QTY) %>%\n",
    "                    filter(grepl('^2010', YM))\n",
    "tea_data_2011 = tea_data %>%\n",
    "                    select(YM, MAXTEMP, QTY) %>%\n",
    "                    filter(grepl('^2011', YM))\n",
    "tea_data_2012 = tea_data %>%\n",
    "                    select(YM, MAXTEMP, QTY) %>%\n",
    "                    filter(grepl('^2012', YM))\n",
    "tea_data_2013 = tea_data %>%\n",
    "                    select(YM, MAXTEMP, QTY) %>%\n",
    "                    filter(grepl('^2013', YM))\n",
    "\n",
    "tea_data_2009$YM = seq(1:12)\n",
    "tea_data_2010$YM = seq(1:12)\n",
    "tea_data_2011$YM = seq(1:12)\n",
    "tea_data_2012$YM = seq(1:12)\n",
    "tea_data_2013$YM = seq(1:12)\n",
    "\n",
    "tea_data_t = data.frame(tea_data_2009$YM, tea_data_2009$MAXTEMP)\n",
    "tea_data_t = cbind(tea_data_t, tea_data_2010$MAXTEMP, tea_data_2011$MAXTEMP, tea_data_2012$MAXTEMP, tea_data_2013$MAXTEMP)\n",
    "tea_data_t$t_mean = apply(tea_data_t[-c(1)], 1, mean)\n",
    "\n",
    "tea_data_ = data.frame(tea_data_2009$YM, tea_data_2009$QTY)\n",
    "tea_data_ = cbind(tea_data_, tea_data_2010$QTY, tea_data_2011$QTY, tea_data_2012$QTY, tea_data_2013$QTY)\n",
    "\n",
    "tea_data_$mean = apply(tea_data_[-c(1)], 1, mean)\n",
    "tea_data_ = cbind(tea_data_, tea_data_t$t_mean)\n",
    "colnames(tea_data_) = c('M', 'y09', 'y10', 'y11', 'y12', 'y13', 'QTY_mean', 'Temp_mean')\n",
    "\n",
    "tea_data_"
   ]
  },
  {
   "cell_type": "code",
   "execution_count": 20,
   "metadata": {},
   "outputs": [
    {
     "data": {
      "image/png": "[encoded data removed]",
      "text/plain": [
       "plot without title"
      ]
     },
     "metadata": {},
     "output_type": "display_data"
    }
   ],
   "source": [
    "par(mfrow = c(3, 2))\n",
    "plot(tea_data_2009$MAXTEMP, tea_data_2009$QTY)\n",
    "plot(tea_data_2010$MAXTEMP, tea_data_2010$QTY)\n",
    "plot(tea_data_2011$MAXTEMP, tea_data_2011$QTY)\n",
    "plot(tea_data_2012$MAXTEMP, tea_data_2012$QTY)\n",
    "plot(tea_data_2013$MAXTEMP, tea_data_2013$QTY)\n",
    "plot(tea_data_$Temp_mean)"
   ]
  },
  {
   "cell_type": "code",
   "execution_count": 21,
   "metadata": {},
   "outputs": [
    {
     "data": {
      "text/html": [
       "<table>\n",
       "<thead><tr><th scope=col>fruit_data_2009.YM</th><th scope=col>fruit_data_2009.QTY</th><th scope=col>fruit_data_2010$QTY</th><th scope=col>fruit_data_2011$QTY</th><th scope=col>fruit_data_2012$QTY</th><th scope=col>fruit_data_2013$QTY</th></tr></thead>\n",
       "<tbody>\n",
       "\t<tr><td> 1  </td><td> 990</td><td>1106</td><td>1268</td><td>1402</td><td>1627</td></tr>\n",
       "\t<tr><td> 2  </td><td>1199</td><td>1361</td><td>1528</td><td>1859</td><td>1624</td></tr>\n",
       "\t<tr><td> 3  </td><td>1102</td><td>1432</td><td>1874</td><td>2566</td><td>2103</td></tr>\n",
       "\t<tr><td> 4  </td><td>1326</td><td>1750</td><td>2200</td><td>2475</td><td>2117</td></tr>\n",
       "\t<tr><td> 5  </td><td>1672</td><td>2204</td><td>3247</td><td>3653</td><td>2606</td></tr>\n",
       "\t<tr><td> 6  </td><td>1875</td><td>2366</td><td>2783</td><td>3474</td><td>2621</td></tr>\n",
       "\t<tr><td> 7  </td><td>1663</td><td>2681</td><td>2593</td><td>2568</td><td>2336</td></tr>\n",
       "\t<tr><td> 8  </td><td>1957</td><td>2321</td><td>2765</td><td>2854</td><td>2755</td></tr>\n",
       "\t<tr><td> 9  </td><td>2021</td><td>1963</td><td>2971</td><td>2744</td><td>2992</td></tr>\n",
       "\t<tr><td>10  </td><td>1718</td><td>2321</td><td>2459</td><td>2369</td><td>2563</td></tr>\n",
       "\t<tr><td>11  </td><td>1204</td><td>1548</td><td>2299</td><td>1833</td><td>1878</td></tr>\n",
       "\t<tr><td>12  </td><td>1147</td><td>1306</td><td>1823</td><td>1621</td><td>1770</td></tr>\n",
       "</tbody>\n",
       "</table>\n"
      ],
      "text/latex": [
       "\\begin{tabular}{r|llllll}\n",
       " fruit\\_data\\_2009.YM & fruit\\_data\\_2009.QTY & fruit\\_data\\_2010\\$QTY & fruit\\_data\\_2011\\$QTY & fruit\\_data\\_2012\\$QTY & fruit\\_data\\_2013\\$QTY\\\\\n",
       "\\hline\n",
       "\t  1   &  990 & 1106 & 1268 & 1402 & 1627\\\\\n",
       "\t  2   & 1199 & 1361 & 1528 & 1859 & 1624\\\\\n",
       "\t  3   & 1102 & 1432 & 1874 & 2566 & 2103\\\\\n",
       "\t  4   & 1326 & 1750 & 2200 & 2475 & 2117\\\\\n",
       "\t  5   & 1672 & 2204 & 3247 & 3653 & 2606\\\\\n",
       "\t  6   & 1875 & 2366 & 2783 & 3474 & 2621\\\\\n",
       "\t  7   & 1663 & 2681 & 2593 & 2568 & 2336\\\\\n",
       "\t  8   & 1957 & 2321 & 2765 & 2854 & 2755\\\\\n",
       "\t  9   & 2021 & 1963 & 2971 & 2744 & 2992\\\\\n",
       "\t 10   & 1718 & 2321 & 2459 & 2369 & 2563\\\\\n",
       "\t 11   & 1204 & 1548 & 2299 & 1833 & 1878\\\\\n",
       "\t 12   & 1147 & 1306 & 1823 & 1621 & 1770\\\\\n",
       "\\end{tabular}\n"
      ],
      "text/markdown": [
       "\n",
       "| fruit_data_2009.YM | fruit_data_2009.QTY | fruit_data_2010$QTY | fruit_data_2011$QTY | fruit_data_2012$QTY | fruit_data_2013$QTY |\n",
       "|---|---|---|---|---|---|\n",
       "|  1   |  990 | 1106 | 1268 | 1402 | 1627 |\n",
       "|  2   | 1199 | 1361 | 1528 | 1859 | 1624 |\n",
       "|  3   | 1102 | 1432 | 1874 | 2566 | 2103 |\n",
       "|  4   | 1326 | 1750 | 2200 | 2475 | 2117 |\n",
       "|  5   | 1672 | 2204 | 3247 | 3653 | 2606 |\n",
       "|  6   | 1875 | 2366 | 2783 | 3474 | 2621 |\n",
       "|  7   | 1663 | 2681 | 2593 | 2568 | 2336 |\n",
       "|  8   | 1957 | 2321 | 2765 | 2854 | 2755 |\n",
       "|  9   | 2021 | 1963 | 2971 | 2744 | 2992 |\n",
       "| 10   | 1718 | 2321 | 2459 | 2369 | 2563 |\n",
       "| 11   | 1204 | 1548 | 2299 | 1833 | 1878 |\n",
       "| 12   | 1147 | 1306 | 1823 | 1621 | 1770 |\n",
       "\n"
      ],
      "text/plain": [
       "   fruit_data_2009.YM fruit_data_2009.QTY fruit_data_2010$QTY\n",
       "1   1                  990                1106               \n",
       "2   2                 1199                1361               \n",
       "3   3                 1102                1432               \n",
       "4   4                 1326                1750               \n",
       "5   5                 1672                2204               \n",
       "6   6                 1875                2366               \n",
       "7   7                 1663                2681               \n",
       "8   8                 1957                2321               \n",
       "9   9                 2021                1963               \n",
       "10 10                 1718                2321               \n",
       "11 11                 1204                1548               \n",
       "12 12                 1147                1306               \n",
       "   fruit_data_2011$QTY fruit_data_2012$QTY fruit_data_2013$QTY\n",
       "1  1268                1402                1627               \n",
       "2  1528                1859                1624               \n",
       "3  1874                2566                2103               \n",
       "4  2200                2475                2117               \n",
       "5  3247                3653                2606               \n",
       "6  2783                3474                2621               \n",
       "7  2593                2568                2336               \n",
       "8  2765                2854                2755               \n",
       "9  2971                2744                2992               \n",
       "10 2459                2369                2563               \n",
       "11 2299                1833                1878               \n",
       "12 1823                1621                1770               "
      ]
     },
     "metadata": {},
     "output_type": "display_data"
    }
   ],
   "source": [
    "fruit_data_2009$YM = seq(1:12)\n",
    "fruit_data_2010$YM = seq(1:12)\n",
    "fruit_data_2011$YM = seq(1:12)\n",
    "fruit_data_2012$YM = seq(1:12)\n",
    "fruit_data_2013$YM = seq(1:12)\n",
    "\n",
    "fruit_data_t = data.frame(fruit_data_2009$YM, fruit_data_2009$MAXTEMP)\n",
    "fruit_data_t = cbind(fruit_data_t, fruit_data_2010$MAXTEMP, fruit_data_2011$MAXTEMP, fruit_data_2012$MAXTEMP, fruit_data_2013$MAXTEMP)\n",
    "fruit_data_t$t_mean = apply(fruit_data_t[-c(1)], 1, mean)\n",
    "\n",
    "fruit_data_ = data.frame(fruit_data_2009$YM, fruit_data_2009$QTY)\n",
    "fruit_data_ = cbind(fruit_data_, fruit_data_2010$QTY, fruit_data_2011$QTY, fruit_data_2012$QTY, fruit_data_2013$QTY)\n",
    "\n",
    "fruit_data_"
   ]
  },
  {
   "cell_type": "code",
   "execution_count": 22,
   "metadata": {},
   "outputs": [
    {
     "data": {
      "text/html": [
       "<table>\n",
       "<thead><tr><th scope=col>M</th><th scope=col>y09</th><th scope=col>y10</th><th scope=col>y11</th><th scope=col>y12</th><th scope=col>y13</th><th scope=col>QTY_mean</th><th scope=col>Temp_mean</th></tr></thead>\n",
       "<tbody>\n",
       "\t<tr><td> 1    </td><td> 990  </td><td>1106  </td><td>1268  </td><td>1402  </td><td>1627  </td><td>1278.6</td><td> 2.0  </td></tr>\n",
       "\t<tr><td> 2    </td><td>1199  </td><td>1361  </td><td>1528  </td><td>1859  </td><td>1624  </td><td>1514.2</td><td> 6.6  </td></tr>\n",
       "\t<tr><td> 3    </td><td>1102  </td><td>1432  </td><td>1874  </td><td>2566  </td><td>2103  </td><td>1815.4</td><td>11.0  </td></tr>\n",
       "\t<tr><td> 4    </td><td>1326  </td><td>1750  </td><td>2200  </td><td>2475  </td><td>2117  </td><td>1973.6</td><td>16.8  </td></tr>\n",
       "\t<tr><td> 5    </td><td>1672  </td><td>2204  </td><td>3247  </td><td>3653  </td><td>2606  </td><td>2676.4</td><td>23.6  </td></tr>\n",
       "\t<tr><td> 6    </td><td>1875  </td><td>2366  </td><td>2783  </td><td>3474  </td><td>2621  </td><td>2623.8</td><td>27.6  </td></tr>\n",
       "\t<tr><td> 7    </td><td>1663  </td><td>2681  </td><td>2593  </td><td>2568  </td><td>2336  </td><td>2368.2</td><td>28.8  </td></tr>\n",
       "\t<tr><td> 8    </td><td>1957  </td><td>2321  </td><td>2765  </td><td>2854  </td><td>2755  </td><td>2530.4</td><td>30.0  </td></tr>\n",
       "\t<tr><td> 9    </td><td>2021  </td><td>1963  </td><td>2971  </td><td>2744  </td><td>2992  </td><td>2538.2</td><td>26.2  </td></tr>\n",
       "\t<tr><td>10    </td><td>1718  </td><td>2321  </td><td>2459  </td><td>2369  </td><td>2563  </td><td>2286.0</td><td>20.8  </td></tr>\n",
       "\t<tr><td>11    </td><td>1204  </td><td>1548  </td><td>2299  </td><td>1833  </td><td>1878  </td><td>1752.4</td><td>12.8  </td></tr>\n",
       "\t<tr><td>12    </td><td>1147  </td><td>1306  </td><td>1823  </td><td>1621  </td><td>1770  </td><td>1533.4</td><td> 4.4  </td></tr>\n",
       "</tbody>\n",
       "</table>\n"
      ],
      "text/latex": [
       "\\begin{tabular}{r|llllllll}\n",
       " M & y09 & y10 & y11 & y12 & y13 & QTY\\_mean & Temp\\_mean\\\\\n",
       "\\hline\n",
       "\t  1     &  990   & 1106   & 1268   & 1402   & 1627   & 1278.6 &  2.0  \\\\\n",
       "\t  2     & 1199   & 1361   & 1528   & 1859   & 1624   & 1514.2 &  6.6  \\\\\n",
       "\t  3     & 1102   & 1432   & 1874   & 2566   & 2103   & 1815.4 & 11.0  \\\\\n",
       "\t  4     & 1326   & 1750   & 2200   & 2475   & 2117   & 1973.6 & 16.8  \\\\\n",
       "\t  5     & 1672   & 2204   & 3247   & 3653   & 2606   & 2676.4 & 23.6  \\\\\n",
       "\t  6     & 1875   & 2366   & 2783   & 3474   & 2621   & 2623.8 & 27.6  \\\\\n",
       "\t  7     & 1663   & 2681   & 2593   & 2568   & 2336   & 2368.2 & 28.8  \\\\\n",
       "\t  8     & 1957   & 2321   & 2765   & 2854   & 2755   & 2530.4 & 30.0  \\\\\n",
       "\t  9     & 2021   & 1963   & 2971   & 2744   & 2992   & 2538.2 & 26.2  \\\\\n",
       "\t 10     & 1718   & 2321   & 2459   & 2369   & 2563   & 2286.0 & 20.8  \\\\\n",
       "\t 11     & 1204   & 1548   & 2299   & 1833   & 1878   & 1752.4 & 12.8  \\\\\n",
       "\t 12     & 1147   & 1306   & 1823   & 1621   & 1770   & 1533.4 &  4.4  \\\\\n",
       "\\end{tabular}\n"
      ],
      "text/markdown": [
       "\n",
       "| M | y09 | y10 | y11 | y12 | y13 | QTY_mean | Temp_mean |\n",
       "|---|---|---|---|---|---|---|---|\n",
       "|  1     |  990   | 1106   | 1268   | 1402   | 1627   | 1278.6 |  2.0   |\n",
       "|  2     | 1199   | 1361   | 1528   | 1859   | 1624   | 1514.2 |  6.6   |\n",
       "|  3     | 1102   | 1432   | 1874   | 2566   | 2103   | 1815.4 | 11.0   |\n",
       "|  4     | 1326   | 1750   | 2200   | 2475   | 2117   | 1973.6 | 16.8   |\n",
       "|  5     | 1672   | 2204   | 3247   | 3653   | 2606   | 2676.4 | 23.6   |\n",
       "|  6     | 1875   | 2366   | 2783   | 3474   | 2621   | 2623.8 | 27.6   |\n",
       "|  7     | 1663   | 2681   | 2593   | 2568   | 2336   | 2368.2 | 28.8   |\n",
       "|  8     | 1957   | 2321   | 2765   | 2854   | 2755   | 2530.4 | 30.0   |\n",
       "|  9     | 2021   | 1963   | 2971   | 2744   | 2992   | 2538.2 | 26.2   |\n",
       "| 10     | 1718   | 2321   | 2459   | 2369   | 2563   | 2286.0 | 20.8   |\n",
       "| 11     | 1204   | 1548   | 2299   | 1833   | 1878   | 1752.4 | 12.8   |\n",
       "| 12     | 1147   | 1306   | 1823   | 1621   | 1770   | 1533.4 |  4.4   |\n",
       "\n"
      ],
      "text/plain": [
       "   M  y09  y10  y11  y12  y13  QTY_mean Temp_mean\n",
       "1   1  990 1106 1268 1402 1627 1278.6    2.0     \n",
       "2   2 1199 1361 1528 1859 1624 1514.2    6.6     \n",
       "3   3 1102 1432 1874 2566 2103 1815.4   11.0     \n",
       "4   4 1326 1750 2200 2475 2117 1973.6   16.8     \n",
       "5   5 1672 2204 3247 3653 2606 2676.4   23.6     \n",
       "6   6 1875 2366 2783 3474 2621 2623.8   27.6     \n",
       "7   7 1663 2681 2593 2568 2336 2368.2   28.8     \n",
       "8   8 1957 2321 2765 2854 2755 2530.4   30.0     \n",
       "9   9 2021 1963 2971 2744 2992 2538.2   26.2     \n",
       "10 10 1718 2321 2459 2369 2563 2286.0   20.8     \n",
       "11 11 1204 1548 2299 1833 1878 1752.4   12.8     \n",
       "12 12 1147 1306 1823 1621 1770 1533.4    4.4     "
      ]
     },
     "metadata": {},
     "output_type": "display_data"
    }
   ],
   "source": [
    "fruit_data_$mean = apply(fruit_data_[-c(1)], 1, mean)\n",
    "fruit_data_ = cbind(fruit_data_, fruit_data_t$t_mean)\n",
    "colnames(fruit_data_) = c('M', 'y09', 'y10', 'y11', 'y12', 'y13', 'QTY_mean', 'Temp_mean')\n",
    "fruit_data_"
   ]
  },
  {
   "cell_type": "code",
   "execution_count": 23,
   "metadata": {},
   "outputs": [
    {
     "data": {
      "text/html": [
       "<table>\n",
       "<thead><tr><th scope=col>M</th><th scope=col>QTY_mean</th><th scope=col>Temp_mean</th><th scope=col>group</th></tr></thead>\n",
       "<tbody>\n",
       "\t<tr><td>1         </td><td>1278.6    </td><td> 2.0      </td><td>fruit_temp</td></tr>\n",
       "\t<tr><td>2         </td><td>1514.2    </td><td> 6.6      </td><td>fruit_temp</td></tr>\n",
       "\t<tr><td>3         </td><td>1815.4    </td><td>11.0      </td><td>fruit_temp</td></tr>\n",
       "\t<tr><td>4         </td><td>1973.6    </td><td>16.8      </td><td>fruit_temp</td></tr>\n",
       "\t<tr><td>5         </td><td>2676.4    </td><td>23.6      </td><td>fruit_temp</td></tr>\n",
       "\t<tr><td>6         </td><td>2623.8    </td><td>27.6      </td><td>fruit_temp</td></tr>\n",
       "</tbody>\n",
       "</table>\n"
      ],
      "text/latex": [
       "\\begin{tabular}{r|llll}\n",
       " M & QTY\\_mean & Temp\\_mean & group\\\\\n",
       "\\hline\n",
       "\t 1            & 1278.6       &  2.0         & fruit\\_temp\\\\\n",
       "\t 2            & 1514.2       &  6.6         & fruit\\_temp\\\\\n",
       "\t 3            & 1815.4       & 11.0         & fruit\\_temp\\\\\n",
       "\t 4            & 1973.6       & 16.8         & fruit\\_temp\\\\\n",
       "\t 5            & 2676.4       & 23.6         & fruit\\_temp\\\\\n",
       "\t 6            & 2623.8       & 27.6         & fruit\\_temp\\\\\n",
       "\\end{tabular}\n"
      ],
      "text/markdown": [
       "\n",
       "| M | QTY_mean | Temp_mean | group |\n",
       "|---|---|---|---|\n",
       "| 1          | 1278.6     |  2.0       | fruit_temp |\n",
       "| 2          | 1514.2     |  6.6       | fruit_temp |\n",
       "| 3          | 1815.4     | 11.0       | fruit_temp |\n",
       "| 4          | 1973.6     | 16.8       | fruit_temp |\n",
       "| 5          | 2676.4     | 23.6       | fruit_temp |\n",
       "| 6          | 2623.8     | 27.6       | fruit_temp |\n",
       "\n"
      ],
      "text/plain": [
       "  M QTY_mean Temp_mean group     \n",
       "1 1 1278.6    2.0      fruit_temp\n",
       "2 2 1514.2    6.6      fruit_temp\n",
       "3 3 1815.4   11.0      fruit_temp\n",
       "4 4 1973.6   16.8      fruit_temp\n",
       "5 5 2676.4   23.6      fruit_temp\n",
       "6 6 2623.8   27.6      fruit_temp"
      ]
     },
     "metadata": {},
     "output_type": "display_data"
    }
   ],
   "source": [
    "fruit_data_1 = fruit_data_[-c(2:6)]\n",
    "fruit_data_1$group = 'fruit_temp'\n",
    "vitamin_data_1 = vitamin_data_[-c(2:6)]\n",
    "vitamin_data_1$group = 'vitamin_temp'\n",
    "tea_data_1 = tea_data_[-c(2:6)]\n",
    "tea_data_1$group = 'tea_temp'\n",
    "data_month = rbind(fruit_data_1, vitamin_data_1, tea_data_1)\n",
    "head(data_month)"
   ]
  },
  {
   "cell_type": "code",
   "execution_count": 24,
   "metadata": {},
   "outputs": [
    {
     "data": {
      "image/png": "[encoded data removed]",
      "text/plain": [
       "plot without title"
      ]
     },
     "metadata": {},
     "output_type": "display_data"
    }
   ],
   "source": [
    "ggplot(data = data_month) +\n",
    "    geom_line(aes(x = Temp_mean, y = QTY_mean, group = group, color = group), linetype = 1)"
   ]
  },
  {
   "cell_type": "code",
   "execution_count": 174,
   "metadata": {},
   "outputs": [
    {
     "data": {
      "text/html": [
       "<table>\n",
       "<thead><tr><th scope=col>M</th><th scope=col>QTY_mean</th><th scope=col>Temp_mean</th><th scope=col>group</th></tr></thead>\n",
       "<tbody>\n",
       "\t<tr><td> 1          </td><td>1278.6      </td><td> 2.0        </td><td>fruit_temp  </td></tr>\n",
       "\t<tr><td> 2          </td><td>1514.2      </td><td> 6.6        </td><td>fruit_temp  </td></tr>\n",
       "\t<tr><td> 3          </td><td>1815.4      </td><td>11.0        </td><td>fruit_temp  </td></tr>\n",
       "\t<tr><td> 4          </td><td>1973.6      </td><td>16.8        </td><td>fruit_temp  </td></tr>\n",
       "\t<tr><td> 5          </td><td>2676.4      </td><td>23.6        </td><td>fruit_temp  </td></tr>\n",
       "\t<tr><td> 6          </td><td>2623.8      </td><td>27.6        </td><td>fruit_temp  </td></tr>\n",
       "\t<tr><td> 7          </td><td>2368.2      </td><td>28.8        </td><td>fruit_temp  </td></tr>\n",
       "\t<tr><td> 8          </td><td>2530.4      </td><td>30.0        </td><td>fruit_temp  </td></tr>\n",
       "\t<tr><td> 9          </td><td>2538.2      </td><td>26.2        </td><td>fruit_temp  </td></tr>\n",
       "\t<tr><td>10          </td><td>2286.0      </td><td>20.8        </td><td>fruit_temp  </td></tr>\n",
       "\t<tr><td>11          </td><td>1752.4      </td><td>12.8        </td><td>fruit_temp  </td></tr>\n",
       "\t<tr><td>12          </td><td>1533.4      </td><td> 4.4        </td><td>fruit_temp  </td></tr>\n",
       "\t<tr><td> 1          </td><td> 349.4      </td><td> 2.0        </td><td>vitamin_temp</td></tr>\n",
       "\t<tr><td> 2          </td><td> 358.6      </td><td> 6.6        </td><td>vitamin_temp</td></tr>\n",
       "\t<tr><td> 3          </td><td> 383.2      </td><td>11.0        </td><td>vitamin_temp</td></tr>\n",
       "\t<tr><td> 4          </td><td> 529.0      </td><td>16.8        </td><td>vitamin_temp</td></tr>\n",
       "\t<tr><td> 5          </td><td> 694.8      </td><td>23.6        </td><td>vitamin_temp</td></tr>\n",
       "\t<tr><td> 6          </td><td> 672.8      </td><td>27.6        </td><td>vitamin_temp</td></tr>\n",
       "\t<tr><td> 7          </td><td> 673.8      </td><td>28.8        </td><td>vitamin_temp</td></tr>\n",
       "\t<tr><td> 8          </td><td> 835.4      </td><td>30.0        </td><td>vitamin_temp</td></tr>\n",
       "\t<tr><td> 9          </td><td> 677.8      </td><td>26.2        </td><td>vitamin_temp</td></tr>\n",
       "\t<tr><td>10          </td><td> 730.4      </td><td>20.8        </td><td>vitamin_temp</td></tr>\n",
       "\t<tr><td>11          </td><td> 521.4      </td><td>12.8        </td><td>vitamin_temp</td></tr>\n",
       "\t<tr><td>12          </td><td> 435.0      </td><td> 4.4        </td><td>vitamin_temp</td></tr>\n",
       "\t<tr><td> 1          </td><td>1739.6      </td><td> 2.0        </td><td>tea_temp    </td></tr>\n",
       "\t<tr><td> 2          </td><td>1585.6      </td><td> 6.6        </td><td>tea_temp    </td></tr>\n",
       "\t<tr><td> 3          </td><td>2004.6      </td><td>11.0        </td><td>tea_temp    </td></tr>\n",
       "\t<tr><td> 4          </td><td>2402.6      </td><td>16.8        </td><td>tea_temp    </td></tr>\n",
       "\t<tr><td> 5          </td><td>2848.0      </td><td>23.6        </td><td>tea_temp    </td></tr>\n",
       "\t<tr><td> 6          </td><td>2748.8      </td><td>27.6        </td><td>tea_temp    </td></tr>\n",
       "\t<tr><td> 7          </td><td>2771.2      </td><td>28.8        </td><td>tea_temp    </td></tr>\n",
       "\t<tr><td> 8          </td><td>3077.2      </td><td>30.0        </td><td>tea_temp    </td></tr>\n",
       "\t<tr><td> 9          </td><td>2833.6      </td><td>26.2        </td><td>tea_temp    </td></tr>\n",
       "\t<tr><td>10          </td><td>2686.0      </td><td>20.8        </td><td>tea_temp    </td></tr>\n",
       "\t<tr><td>11          </td><td>2156.0      </td><td>12.8        </td><td>tea_temp    </td></tr>\n",
       "\t<tr><td>12          </td><td>2079.2      </td><td> 4.4        </td><td>tea_temp    </td></tr>\n",
       "</tbody>\n",
       "</table>\n"
      ],
      "text/latex": [
       "\\begin{tabular}{r|llll}\n",
       " M & QTY\\_mean & Temp\\_mean & group\\\\\n",
       "\\hline\n",
       "\t  1             & 1278.6         &  2.0           & fruit\\_temp  \\\\\n",
       "\t  2             & 1514.2         &  6.6           & fruit\\_temp  \\\\\n",
       "\t  3             & 1815.4         & 11.0           & fruit\\_temp  \\\\\n",
       "\t  4             & 1973.6         & 16.8           & fruit\\_temp  \\\\\n",
       "\t  5             & 2676.4         & 23.6           & fruit\\_temp  \\\\\n",
       "\t  6             & 2623.8         & 27.6           & fruit\\_temp  \\\\\n",
       "\t  7             & 2368.2         & 28.8           & fruit\\_temp  \\\\\n",
       "\t  8             & 2530.4         & 30.0           & fruit\\_temp  \\\\\n",
       "\t  9             & 2538.2         & 26.2           & fruit\\_temp  \\\\\n",
       "\t 10             & 2286.0         & 20.8           & fruit\\_temp  \\\\\n",
       "\t 11             & 1752.4         & 12.8           & fruit\\_temp  \\\\\n",
       "\t 12             & 1533.4         &  4.4           & fruit\\_temp  \\\\\n",
       "\t  1             &  349.4         &  2.0           & vitamin\\_temp\\\\\n",
       "\t  2             &  358.6         &  6.6           & vitamin\\_temp\\\\\n",
       "\t  3             &  383.2         & 11.0           & vitamin\\_temp\\\\\n",
       "\t  4             &  529.0         & 16.8           & vitamin\\_temp\\\\\n",
       "\t  5             &  694.8         & 23.6           & vitamin\\_temp\\\\\n",
       "\t  6             &  672.8         & 27.6           & vitamin\\_temp\\\\\n",
       "\t  7             &  673.8         & 28.8           & vitamin\\_temp\\\\\n",
       "\t  8             &  835.4         & 30.0           & vitamin\\_temp\\\\\n",
       "\t  9             &  677.8         & 26.2           & vitamin\\_temp\\\\\n",
       "\t 10             &  730.4         & 20.8           & vitamin\\_temp\\\\\n",
       "\t 11             &  521.4         & 12.8           & vitamin\\_temp\\\\\n",
       "\t 12             &  435.0         &  4.4           & vitamin\\_temp\\\\\n",
       "\t  1             & 1739.6         &  2.0           & tea\\_temp    \\\\\n",
       "\t  2             & 1585.6         &  6.6           & tea\\_temp    \\\\\n",
       "\t  3             & 2004.6         & 11.0           & tea\\_temp    \\\\\n",
       "\t  4             & 2402.6         & 16.8           & tea\\_temp    \\\\\n",
       "\t  5             & 2848.0         & 23.6           & tea\\_temp    \\\\\n",
       "\t  6             & 2748.8         & 27.6           & tea\\_temp    \\\\\n",
       "\t  7             & 2771.2         & 28.8           & tea\\_temp    \\\\\n",
       "\t  8             & 3077.2         & 30.0           & tea\\_temp    \\\\\n",
       "\t  9             & 2833.6         & 26.2           & tea\\_temp    \\\\\n",
       "\t 10             & 2686.0         & 20.8           & tea\\_temp    \\\\\n",
       "\t 11             & 2156.0         & 12.8           & tea\\_temp    \\\\\n",
       "\t 12             & 2079.2         &  4.4           & tea\\_temp    \\\\\n",
       "\\end{tabular}\n"
      ],
      "text/markdown": [
       "\n",
       "| M | QTY_mean | Temp_mean | group |\n",
       "|---|---|---|---|\n",
       "|  1           | 1278.6       |  2.0         | fruit_temp   |\n",
       "|  2           | 1514.2       |  6.6         | fruit_temp   |\n",
       "|  3           | 1815.4       | 11.0         | fruit_temp   |\n",
       "|  4           | 1973.6       | 16.8         | fruit_temp   |\n",
       "|  5           | 2676.4       | 23.6         | fruit_temp   |\n",
       "|  6           | 2623.8       | 27.6         | fruit_temp   |\n",
       "|  7           | 2368.2       | 28.8         | fruit_temp   |\n",
       "|  8           | 2530.4       | 30.0         | fruit_temp   |\n",
       "|  9           | 2538.2       | 26.2         | fruit_temp   |\n",
       "| 10           | 2286.0       | 20.8         | fruit_temp   |\n",
       "| 11           | 1752.4       | 12.8         | fruit_temp   |\n",
       "| 12           | 1533.4       |  4.4         | fruit_temp   |\n",
       "|  1           |  349.4       |  2.0         | vitamin_temp |\n",
       "|  2           |  358.6       |  6.6         | vitamin_temp |\n",
       "|  3           |  383.2       | 11.0         | vitamin_temp |\n",
       "|  4           |  529.0       | 16.8         | vitamin_temp |\n",
       "|  5           |  694.8       | 23.6         | vitamin_temp |\n",
       "|  6           |  672.8       | 27.6         | vitamin_temp |\n",
       "|  7           |  673.8       | 28.8         | vitamin_temp |\n",
       "|  8           |  835.4       | 30.0         | vitamin_temp |\n",
       "|  9           |  677.8       | 26.2         | vitamin_temp |\n",
       "| 10           |  730.4       | 20.8         | vitamin_temp |\n",
       "| 11           |  521.4       | 12.8         | vitamin_temp |\n",
       "| 12           |  435.0       |  4.4         | vitamin_temp |\n",
       "|  1           | 1739.6       |  2.0         | tea_temp     |\n",
       "|  2           | 1585.6       |  6.6         | tea_temp     |\n",
       "|  3           | 2004.6       | 11.0         | tea_temp     |\n",
       "|  4           | 2402.6       | 16.8         | tea_temp     |\n",
       "|  5           | 2848.0       | 23.6         | tea_temp     |\n",
       "|  6           | 2748.8       | 27.6         | tea_temp     |\n",
       "|  7           | 2771.2       | 28.8         | tea_temp     |\n",
       "|  8           | 3077.2       | 30.0         | tea_temp     |\n",
       "|  9           | 2833.6       | 26.2         | tea_temp     |\n",
       "| 10           | 2686.0       | 20.8         | tea_temp     |\n",
       "| 11           | 2156.0       | 12.8         | tea_temp     |\n",
       "| 12           | 2079.2       |  4.4         | tea_temp     |\n",
       "\n"
      ],
      "text/plain": [
       "   M  QTY_mean Temp_mean group       \n",
       "1   1 1278.6    2.0      fruit_temp  \n",
       "2   2 1514.2    6.6      fruit_temp  \n",
       "3   3 1815.4   11.0      fruit_temp  \n",
       "4   4 1973.6   16.8      fruit_temp  \n",
       "5   5 2676.4   23.6      fruit_temp  \n",
       "6   6 2623.8   27.6      fruit_temp  \n",
       "7   7 2368.2   28.8      fruit_temp  \n",
       "8   8 2530.4   30.0      fruit_temp  \n",
       "9   9 2538.2   26.2      fruit_temp  \n",
       "10 10 2286.0   20.8      fruit_temp  \n",
       "11 11 1752.4   12.8      fruit_temp  \n",
       "12 12 1533.4    4.4      fruit_temp  \n",
       "13  1  349.4    2.0      vitamin_temp\n",
       "14  2  358.6    6.6      vitamin_temp\n",
       "15  3  383.2   11.0      vitamin_temp\n",
       "16  4  529.0   16.8      vitamin_temp\n",
       "17  5  694.8   23.6      vitamin_temp\n",
       "18  6  672.8   27.6      vitamin_temp\n",
       "19  7  673.8   28.8      vitamin_temp\n",
       "20  8  835.4   30.0      vitamin_temp\n",
       "21  9  677.8   26.2      vitamin_temp\n",
       "22 10  730.4   20.8      vitamin_temp\n",
       "23 11  521.4   12.8      vitamin_temp\n",
       "24 12  435.0    4.4      vitamin_temp\n",
       "25  1 1739.6    2.0      tea_temp    \n",
       "26  2 1585.6    6.6      tea_temp    \n",
       "27  3 2004.6   11.0      tea_temp    \n",
       "28  4 2402.6   16.8      tea_temp    \n",
       "29  5 2848.0   23.6      tea_temp    \n",
       "30  6 2748.8   27.6      tea_temp    \n",
       "31  7 2771.2   28.8      tea_temp    \n",
       "32  8 3077.2   30.0      tea_temp    \n",
       "33  9 2833.6   26.2      tea_temp    \n",
       "34 10 2686.0   20.8      tea_temp    \n",
       "35 11 2156.0   12.8      tea_temp    \n",
       "36 12 2079.2    4.4      tea_temp    "
      ]
     },
     "metadata": {},
     "output_type": "display_data"
    }
   ],
   "source": [
    "data_month"
   ]
  },
  {
   "cell_type": "code",
   "execution_count": null,
   "metadata": {},
   "outputs": [],
   "source": []
  }
 ],
 "metadata": {
  "kernelspec": {
   "display_name": "R",
   "language": "R",
   "name": "ir"
  },
  "language_info": {
   "codemirror_mode": "r",
   "file_extension": ".r",
   "mimetype": "text/x-r-source",
   "name": "R",
   "pygments_lexer": "r",
   "version": "3.6.1"
  }
 },
 "nbformat": 4,
 "nbformat_minor": 4
}
