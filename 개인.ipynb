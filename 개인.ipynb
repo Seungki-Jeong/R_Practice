{
 "cells": [
  {
   "cell_type": "markdown",
   "metadata": {},
   "source": [
    "# Team_Project"
   ]
  },
  {
   "cell_type": "code",
   "execution_count": 3,
   "metadata": {},
   "outputs": [],
   "source": [
    "setwd('d:/workspace/R_practice/data/R_data')"
   ]
  },
  {
   "cell_type": "code",
   "execution_count": 15,
   "metadata": {},
   "outputs": [],
   "source": [
    "library('dplyr')"
   ]
  },
  {
   "cell_type": "code",
   "execution_count": 4,
   "metadata": {},
   "outputs": [
    {
     "data": {
      "text/html": [
       "<table>\n",
       "<thead><tr><th scope=col>X</th><th scope=col>YM</th><th scope=col>CATEGORY</th><th scope=col>ITEM_CNT</th><th scope=col>QTY</th><th scope=col>PRICE</th><th scope=col>MAXTEMP</th><th scope=col>SALEDAY</th><th scope=col>RAIN_DAY</th><th scope=col>HOLIDAY</th></tr></thead>\n",
       "<tbody>\n",
       "\t<tr><td>1       </td><td>200901  </td><td>과즙음료</td><td>45      </td><td> 990    </td><td>2611    </td><td> 4      </td><td>126753  </td><td> 151    </td><td>12      </td></tr>\n",
       "\t<tr><td>2       </td><td>200902  </td><td>과즙음료</td><td>45      </td><td>1199    </td><td>2689    </td><td> 9      </td><td>113399  </td><td>3014    </td><td> 8      </td></tr>\n",
       "\t<tr><td>3       </td><td>200903  </td><td>과즙음료</td><td>43      </td><td>1102    </td><td>2735    </td><td>12      </td><td>129162  </td><td>1383    </td><td> 9      </td></tr>\n",
       "\t<tr><td>4       </td><td>200904  </td><td>과즙음료</td><td>42      </td><td>1326    </td><td>2807    </td><td>19      </td><td>126277  </td><td>3564    </td><td> 8      </td></tr>\n",
       "\t<tr><td>5       </td><td>200905  </td><td>과즙음료</td><td>46      </td><td>1672    </td><td>2674    </td><td>25      </td><td>129584  </td><td>9288    </td><td>12      </td></tr>\n",
       "\t<tr><td>6       </td><td>200906  </td><td>과즙음료</td><td>48      </td><td>1875    </td><td>2777    </td><td>27      </td><td>123218  </td><td>9998    </td><td> 8      </td></tr>\n",
       "</tbody>\n",
       "</table>\n"
      ],
      "text/latex": [
       "\\begin{tabular}{r|llllllllll}\n",
       " X & YM & CATEGORY & ITEM\\_CNT & QTY & PRICE & MAXTEMP & SALEDAY & RAIN\\_DAY & HOLIDAY\\\\\n",
       "\\hline\n",
       "\t 1        & 200901   & 과즙음료 & 45       &  990     & 2611     &  4       & 126753   &  151     & 12      \\\\\n",
       "\t 2        & 200902   & 과즙음료 & 45       & 1199     & 2689     &  9       & 113399   & 3014     &  8      \\\\\n",
       "\t 3        & 200903   & 과즙음료 & 43       & 1102     & 2735     & 12       & 129162   & 1383     &  9      \\\\\n",
       "\t 4        & 200904   & 과즙음료 & 42       & 1326     & 2807     & 19       & 126277   & 3564     &  8      \\\\\n",
       "\t 5        & 200905   & 과즙음료 & 46       & 1672     & 2674     & 25       & 129584   & 9288     & 12      \\\\\n",
       "\t 6        & 200906   & 과즙음료 & 48       & 1875     & 2777     & 27       & 123218   & 9998     &  8      \\\\\n",
       "\\end{tabular}\n"
      ],
      "text/markdown": [
       "\n",
       "| X | YM | CATEGORY | ITEM_CNT | QTY | PRICE | MAXTEMP | SALEDAY | RAIN_DAY | HOLIDAY |\n",
       "|---|---|---|---|---|---|---|---|---|---|\n",
       "| 1        | 200901   | 과즙음료 | 45       |  990     | 2611     |  4       | 126753   |  151     | 12       |\n",
       "| 2        | 200902   | 과즙음료 | 45       | 1199     | 2689     |  9       | 113399   | 3014     |  8       |\n",
       "| 3        | 200903   | 과즙음료 | 43       | 1102     | 2735     | 12       | 129162   | 1383     |  9       |\n",
       "| 4        | 200904   | 과즙음료 | 42       | 1326     | 2807     | 19       | 126277   | 3564     |  8       |\n",
       "| 5        | 200905   | 과즙음료 | 46       | 1672     | 2674     | 25       | 129584   | 9288     | 12       |\n",
       "| 6        | 200906   | 과즙음료 | 48       | 1875     | 2777     | 27       | 123218   | 9998     |  8       |\n",
       "\n"
      ],
      "text/plain": [
       "  X YM     CATEGORY ITEM_CNT QTY  PRICE MAXTEMP SALEDAY RAIN_DAY HOLIDAY\n",
       "1 1 200901 과즙음료 45        990 2611   4      126753   151     12     \n",
       "2 2 200902 과즙음료 45       1199 2689   9      113399  3014      8     \n",
       "3 3 200903 과즙음료 43       1102 2735  12      129162  1383      9     \n",
       "4 4 200904 과즙음료 42       1326 2807  19      126277  3564      8     \n",
       "5 5 200905 과즙음료 46       1672 2674  25      129584  9288     12     \n",
       "6 6 200906 과즙음료 48       1875 2777  27      123218  9998      8     "
      ]
     },
     "metadata": {},
     "output_type": "display_data"
    }
   ],
   "source": [
    "data = read.csv('sales_data_1.csv')\n",
    "head(data)"
   ]
  },
  {
   "cell_type": "code",
   "execution_count": 24,
   "metadata": {},
   "outputs": [
    {
     "data": {
      "text/html": [
       "<table>\n",
       "<thead><tr><th scope=col>X</th><th scope=col>YM</th><th scope=col>CATEGORY</th><th scope=col>ITEM_CNT</th><th scope=col>QTY</th><th scope=col>PRICE</th><th scope=col>MAXTEMP</th><th scope=col>SALEDAY</th><th scope=col>RAIN_DAY</th><th scope=col>HOLIDAY</th></tr></thead>\n",
       "<tbody>\n",
       "\t<tr><td>1       </td><td>200901  </td><td>과즙음료</td><td>45      </td><td> 990    </td><td>2611    </td><td> 4      </td><td>126753  </td><td> 151    </td><td>12      </td></tr>\n",
       "\t<tr><td>2       </td><td>200902  </td><td>과즙음료</td><td>45      </td><td>1199    </td><td>2689    </td><td> 9      </td><td>113399  </td><td>3014    </td><td> 8      </td></tr>\n",
       "\t<tr><td>3       </td><td>200903  </td><td>과즙음료</td><td>43      </td><td>1102    </td><td>2735    </td><td>12      </td><td>129162  </td><td>1383    </td><td> 9      </td></tr>\n",
       "\t<tr><td>4       </td><td>200904  </td><td>과즙음료</td><td>42      </td><td>1326    </td><td>2807    </td><td>19      </td><td>126277  </td><td>3564    </td><td> 8      </td></tr>\n",
       "\t<tr><td>5       </td><td>200905  </td><td>과즙음료</td><td>46      </td><td>1672    </td><td>2674    </td><td>25      </td><td>129584  </td><td>9288    </td><td>12      </td></tr>\n",
       "\t<tr><td>6       </td><td>200906  </td><td>과즙음료</td><td>48      </td><td>1875    </td><td>2777    </td><td>27      </td><td>123218  </td><td>9998    </td><td> 8      </td></tr>\n",
       "</tbody>\n",
       "</table>\n"
      ],
      "text/latex": [
       "\\begin{tabular}{r|llllllllll}\n",
       " X & YM & CATEGORY & ITEM\\_CNT & QTY & PRICE & MAXTEMP & SALEDAY & RAIN\\_DAY & HOLIDAY\\\\\n",
       "\\hline\n",
       "\t 1        & 200901   & 과즙음료 & 45       &  990     & 2611     &  4       & 126753   &  151     & 12      \\\\\n",
       "\t 2        & 200902   & 과즙음료 & 45       & 1199     & 2689     &  9       & 113399   & 3014     &  8      \\\\\n",
       "\t 3        & 200903   & 과즙음료 & 43       & 1102     & 2735     & 12       & 129162   & 1383     &  9      \\\\\n",
       "\t 4        & 200904   & 과즙음료 & 42       & 1326     & 2807     & 19       & 126277   & 3564     &  8      \\\\\n",
       "\t 5        & 200905   & 과즙음료 & 46       & 1672     & 2674     & 25       & 129584   & 9288     & 12      \\\\\n",
       "\t 6        & 200906   & 과즙음료 & 48       & 1875     & 2777     & 27       & 123218   & 9998     &  8      \\\\\n",
       "\\end{tabular}\n"
      ],
      "text/markdown": [
       "\n",
       "| X | YM | CATEGORY | ITEM_CNT | QTY | PRICE | MAXTEMP | SALEDAY | RAIN_DAY | HOLIDAY |\n",
       "|---|---|---|---|---|---|---|---|---|---|\n",
       "| 1        | 200901   | 과즙음료 | 45       |  990     | 2611     |  4       | 126753   |  151     | 12       |\n",
       "| 2        | 200902   | 과즙음료 | 45       | 1199     | 2689     |  9       | 113399   | 3014     |  8       |\n",
       "| 3        | 200903   | 과즙음료 | 43       | 1102     | 2735     | 12       | 129162   | 1383     |  9       |\n",
       "| 4        | 200904   | 과즙음료 | 42       | 1326     | 2807     | 19       | 126277   | 3564     |  8       |\n",
       "| 5        | 200905   | 과즙음료 | 46       | 1672     | 2674     | 25       | 129584   | 9288     | 12       |\n",
       "| 6        | 200906   | 과즙음료 | 48       | 1875     | 2777     | 27       | 123218   | 9998     |  8       |\n",
       "\n"
      ],
      "text/plain": [
       "  X YM     CATEGORY ITEM_CNT QTY  PRICE MAXTEMP SALEDAY RAIN_DAY HOLIDAY\n",
       "1 1 200901 과즙음료 45        990 2611   4      126753   151     12     \n",
       "2 2 200902 과즙음료 45       1199 2689   9      113399  3014      8     \n",
       "3 3 200903 과즙음료 43       1102 2735  12      129162  1383      9     \n",
       "4 4 200904 과즙음료 42       1326 2807  19      126277  3564      8     \n",
       "5 5 200905 과즙음료 46       1672 2674  25      129584  9288     12     \n",
       "6 6 200906 과즙음료 48       1875 2777  27      123218  9998      8     "
      ]
     },
     "metadata": {},
     "output_type": "display_data"
    }
   ],
   "source": [
    "fruit_data = data %>%\n",
    "                filter(CATEGORY == '과즙음료')\n",
    "head(fruit_data)"
   ]
  },
  {
   "cell_type": "code",
   "execution_count": 25,
   "metadata": {},
   "outputs": [
    {
     "data": {
      "text/html": [
       "<table>\n",
       "<thead><tr><th scope=col>X</th><th scope=col>YM</th><th scope=col>CATEGORY</th><th scope=col>ITEM_CNT</th><th scope=col>QTY</th><th scope=col>PRICE</th><th scope=col>MAXTEMP</th><th scope=col>SALEDAY</th><th scope=col>RAIN_DAY</th><th scope=col>HOLIDAY</th></tr></thead>\n",
       "<tbody>\n",
       "\t<tr><td>61        </td><td>200901    </td><td>비타민음료</td><td>1         </td><td>27        </td><td>1300      </td><td> 4        </td><td>126753    </td><td> 151      </td><td>12        </td></tr>\n",
       "\t<tr><td>62        </td><td>200902    </td><td>비타민음료</td><td>2         </td><td>29        </td><td>1300      </td><td> 9        </td><td>113399    </td><td>3014      </td><td> 8        </td></tr>\n",
       "\t<tr><td>63        </td><td>200903    </td><td>비타민음료</td><td>2         </td><td>67        </td><td>1300      </td><td>12        </td><td>129162    </td><td>1383      </td><td> 9        </td></tr>\n",
       "\t<tr><td>64        </td><td>200904    </td><td>비타민음료</td><td>2         </td><td>60        </td><td>1300      </td><td>19        </td><td>126277    </td><td>3564      </td><td> 8        </td></tr>\n",
       "\t<tr><td>65        </td><td>200905    </td><td>비타민음료</td><td>2         </td><td>74        </td><td>1300      </td><td>25        </td><td>129584    </td><td>9288      </td><td>12        </td></tr>\n",
       "\t<tr><td>66        </td><td>200906    </td><td>비타민음료</td><td>2         </td><td>84        </td><td>1300      </td><td>27        </td><td>123218    </td><td>9998      </td><td> 8        </td></tr>\n",
       "</tbody>\n",
       "</table>\n"
      ],
      "text/latex": [
       "\\begin{tabular}{r|llllllllll}\n",
       " X & YM & CATEGORY & ITEM\\_CNT & QTY & PRICE & MAXTEMP & SALEDAY & RAIN\\_DAY & HOLIDAY\\\\\n",
       "\\hline\n",
       "\t 61         & 200901     & 비타민음료 & 1          & 27         & 1300       &  4         & 126753     &  151       & 12        \\\\\n",
       "\t 62         & 200902     & 비타민음료 & 2          & 29         & 1300       &  9         & 113399     & 3014       &  8        \\\\\n",
       "\t 63         & 200903     & 비타민음료 & 2          & 67         & 1300       & 12         & 129162     & 1383       &  9        \\\\\n",
       "\t 64         & 200904     & 비타민음료 & 2          & 60         & 1300       & 19         & 126277     & 3564       &  8        \\\\\n",
       "\t 65         & 200905     & 비타민음료 & 2          & 74         & 1300       & 25         & 129584     & 9288       & 12        \\\\\n",
       "\t 66         & 200906     & 비타민음료 & 2          & 84         & 1300       & 27         & 123218     & 9998       &  8        \\\\\n",
       "\\end{tabular}\n"
      ],
      "text/markdown": [
       "\n",
       "| X | YM | CATEGORY | ITEM_CNT | QTY | PRICE | MAXTEMP | SALEDAY | RAIN_DAY | HOLIDAY |\n",
       "|---|---|---|---|---|---|---|---|---|---|\n",
       "| 61         | 200901     | 비타민음료 | 1          | 27         | 1300       |  4         | 126753     |  151       | 12         |\n",
       "| 62         | 200902     | 비타민음료 | 2          | 29         | 1300       |  9         | 113399     | 3014       |  8         |\n",
       "| 63         | 200903     | 비타민음료 | 2          | 67         | 1300       | 12         | 129162     | 1383       |  9         |\n",
       "| 64         | 200904     | 비타민음료 | 2          | 60         | 1300       | 19         | 126277     | 3564       |  8         |\n",
       "| 65         | 200905     | 비타민음료 | 2          | 74         | 1300       | 25         | 129584     | 9288       | 12         |\n",
       "| 66         | 200906     | 비타민음료 | 2          | 84         | 1300       | 27         | 123218     | 9998       |  8         |\n",
       "\n"
      ],
      "text/plain": [
       "  X  YM     CATEGORY   ITEM_CNT QTY PRICE MAXTEMP SALEDAY RAIN_DAY HOLIDAY\n",
       "1 61 200901 비타민음료 1        27  1300   4      126753   151     12     \n",
       "2 62 200902 비타민음료 2        29  1300   9      113399  3014      8     \n",
       "3 63 200903 비타민음료 2        67  1300  12      129162  1383      9     \n",
       "4 64 200904 비타민음료 2        60  1300  19      126277  3564      8     \n",
       "5 65 200905 비타민음료 2        74  1300  25      129584  9288     12     \n",
       "6 66 200906 비타민음료 2        84  1300  27      123218  9998      8     "
      ]
     },
     "metadata": {},
     "output_type": "display_data"
    }
   ],
   "source": [
    "vitamin_data = data %>%\n",
    "                filter(CATEGORY == '비타민음료')\n",
    "head(vitamin_data)"
   ]
  },
  {
   "cell_type": "code",
   "execution_count": 27,
   "metadata": {},
   "outputs": [
    {
     "data": {
      "text/html": [
       "<table>\n",
       "<thead><tr><th scope=col>X</th><th scope=col>YM</th><th scope=col>CATEGORY</th><th scope=col>ITEM_CNT</th><th scope=col>QTY</th><th scope=col>PRICE</th><th scope=col>MAXTEMP</th><th scope=col>SALEDAY</th><th scope=col>RAIN_DAY</th><th scope=col>HOLIDAY</th></tr></thead>\n",
       "<tbody>\n",
       "\t<tr><td>121   </td><td>200901</td><td>차음료</td><td>43    </td><td>1346  </td><td>1422  </td><td> 4    </td><td>126753</td><td> 151  </td><td>12    </td></tr>\n",
       "\t<tr><td>122   </td><td>200902</td><td>차음료</td><td>42    </td><td>1260  </td><td>1431  </td><td> 9    </td><td>113399</td><td>3014  </td><td> 8    </td></tr>\n",
       "\t<tr><td>123   </td><td>200903</td><td>차음료</td><td>43    </td><td>1664  </td><td>1498  </td><td>12    </td><td>129162</td><td>1383  </td><td> 9    </td></tr>\n",
       "\t<tr><td>124   </td><td>200904</td><td>차음료</td><td>43    </td><td>2125  </td><td>1501  </td><td>19    </td><td>126277</td><td>3564  </td><td> 8    </td></tr>\n",
       "\t<tr><td>125   </td><td>200905</td><td>차음료</td><td>46    </td><td>2220  </td><td>1477  </td><td>25    </td><td>129584</td><td>9288  </td><td>12    </td></tr>\n",
       "\t<tr><td>126   </td><td>200906</td><td>차음료</td><td>43    </td><td>2082  </td><td>1266  </td><td>27    </td><td>123218</td><td>9998  </td><td> 8    </td></tr>\n",
       "</tbody>\n",
       "</table>\n"
      ],
      "text/latex": [
       "\\begin{tabular}{r|llllllllll}\n",
       " X & YM & CATEGORY & ITEM\\_CNT & QTY & PRICE & MAXTEMP & SALEDAY & RAIN\\_DAY & HOLIDAY\\\\\n",
       "\\hline\n",
       "\t 121    & 200901 & 차음료 & 43     & 1346   & 1422   &  4     & 126753 &  151   & 12    \\\\\n",
       "\t 122    & 200902 & 차음료 & 42     & 1260   & 1431   &  9     & 113399 & 3014   &  8    \\\\\n",
       "\t 123    & 200903 & 차음료 & 43     & 1664   & 1498   & 12     & 129162 & 1383   &  9    \\\\\n",
       "\t 124    & 200904 & 차음료 & 43     & 2125   & 1501   & 19     & 126277 & 3564   &  8    \\\\\n",
       "\t 125    & 200905 & 차음료 & 46     & 2220   & 1477   & 25     & 129584 & 9288   & 12    \\\\\n",
       "\t 126    & 200906 & 차음료 & 43     & 2082   & 1266   & 27     & 123218 & 9998   &  8    \\\\\n",
       "\\end{tabular}\n"
      ],
      "text/markdown": [
       "\n",
       "| X | YM | CATEGORY | ITEM_CNT | QTY | PRICE | MAXTEMP | SALEDAY | RAIN_DAY | HOLIDAY |\n",
       "|---|---|---|---|---|---|---|---|---|---|\n",
       "| 121    | 200901 | 차음료 | 43     | 1346   | 1422   |  4     | 126753 |  151   | 12     |\n",
       "| 122    | 200902 | 차음료 | 42     | 1260   | 1431   |  9     | 113399 | 3014   |  8     |\n",
       "| 123    | 200903 | 차음료 | 43     | 1664   | 1498   | 12     | 129162 | 1383   |  9     |\n",
       "| 124    | 200904 | 차음료 | 43     | 2125   | 1501   | 19     | 126277 | 3564   |  8     |\n",
       "| 125    | 200905 | 차음료 | 46     | 2220   | 1477   | 25     | 129584 | 9288   | 12     |\n",
       "| 126    | 200906 | 차음료 | 43     | 2082   | 1266   | 27     | 123218 | 9998   |  8     |\n",
       "\n"
      ],
      "text/plain": [
       "  X   YM     CATEGORY ITEM_CNT QTY  PRICE MAXTEMP SALEDAY RAIN_DAY HOLIDAY\n",
       "1 121 200901 차음료   43       1346 1422   4      126753   151     12     \n",
       "2 122 200902 차음료   42       1260 1431   9      113399  3014      8     \n",
       "3 123 200903 차음료   43       1664 1498  12      129162  1383      9     \n",
       "4 124 200904 차음료   43       2125 1501  19      126277  3564      8     \n",
       "5 125 200905 차음료   46       2220 1477  25      129584  9288     12     \n",
       "6 126 200906 차음료   43       2082 1266  27      123218  9998      8     "
      ]
     },
     "metadata": {},
     "output_type": "display_data"
    }
   ],
   "source": [
    "tea_data = data %>%\n",
    "            filter(CATEGORY == '차음료')\n",
    "head(tea_data)"
   ]
  },
  {
   "cell_type": "code",
   "execution_count": 40,
   "metadata": {},
   "outputs": [
    {
     "data": {
      "text/html": [
       "<table>\n",
       "<thead><tr><th scope=col>YM</th><th scope=col>QTY</th></tr></thead>\n",
       "<tbody>\n",
       "\t<tr><td>200901</td><td> 990  </td></tr>\n",
       "\t<tr><td>200902</td><td>1199  </td></tr>\n",
       "\t<tr><td>200903</td><td>1102  </td></tr>\n",
       "\t<tr><td>200904</td><td>1326  </td></tr>\n",
       "\t<tr><td>200905</td><td>1672  </td></tr>\n",
       "\t<tr><td>200906</td><td>1875  </td></tr>\n",
       "\t<tr><td>200907</td><td>1663  </td></tr>\n",
       "\t<tr><td>200908</td><td>1957  </td></tr>\n",
       "\t<tr><td>200909</td><td>2021  </td></tr>\n",
       "\t<tr><td>200910</td><td>1718  </td></tr>\n",
       "\t<tr><td>200911</td><td>1204  </td></tr>\n",
       "\t<tr><td>200912</td><td>1147  </td></tr>\n",
       "</tbody>\n",
       "</table>\n"
      ],
      "text/latex": [
       "\\begin{tabular}{r|ll}\n",
       " YM & QTY\\\\\n",
       "\\hline\n",
       "\t 200901 &  990  \\\\\n",
       "\t 200902 & 1199  \\\\\n",
       "\t 200903 & 1102  \\\\\n",
       "\t 200904 & 1326  \\\\\n",
       "\t 200905 & 1672  \\\\\n",
       "\t 200906 & 1875  \\\\\n",
       "\t 200907 & 1663  \\\\\n",
       "\t 200908 & 1957  \\\\\n",
       "\t 200909 & 2021  \\\\\n",
       "\t 200910 & 1718  \\\\\n",
       "\t 200911 & 1204  \\\\\n",
       "\t 200912 & 1147  \\\\\n",
       "\\end{tabular}\n"
      ],
      "text/markdown": [
       "\n",
       "| YM | QTY |\n",
       "|---|---|\n",
       "| 200901 |  990   |\n",
       "| 200902 | 1199   |\n",
       "| 200903 | 1102   |\n",
       "| 200904 | 1326   |\n",
       "| 200905 | 1672   |\n",
       "| 200906 | 1875   |\n",
       "| 200907 | 1663   |\n",
       "| 200908 | 1957   |\n",
       "| 200909 | 2021   |\n",
       "| 200910 | 1718   |\n",
       "| 200911 | 1204   |\n",
       "| 200912 | 1147   |\n",
       "\n"
      ],
      "text/plain": [
       "   YM     QTY \n",
       "1  200901  990\n",
       "2  200902 1199\n",
       "3  200903 1102\n",
       "4  200904 1326\n",
       "5  200905 1672\n",
       "6  200906 1875\n",
       "7  200907 1663\n",
       "8  200908 1957\n",
       "9  200909 2021\n",
       "10 200910 1718\n",
       "11 200911 1204\n",
       "12 200912 1147"
      ]
     },
     "metadata": {},
     "output_type": "display_data"
    }
   ],
   "source": [
    "fruit_data_2009 = fruit_data %>%\n",
    "                    select(YM, QTY) %>%\n",
    "                    filter(grepl('^2009', YM))\n",
    "fruit_data_2010 = fruit_data %>%\n",
    "                    select(YM, QTY) %>%\n",
    "                    filter(grepl('^2010', YM))\n",
    "fruit_data_2011 = fruit_data %>%\n",
    "                    select(YM, QTY) %>%\n",
    "                    filter(grepl('^2011', YM))\n",
    "fruit_data_2012 = fruit_data %>%\n",
    "                    select(YM, QTY) %>%\n",
    "                    filter(grepl('^2012', YM))\n",
    "fruit_data_2013 = fruit_data %>%\n",
    "                    select(YM, QTY) %>%\n",
    "                    filter(grepl('^2013', YM))\n",
    "\n",
    "fruit_data_2009"
   ]
  },
  {
   "cell_type": "code",
   "execution_count": 45,
   "metadata": {},
   "outputs": [
    {
     "data": {
      "image/png": "[encoded data removed]",
      "text/plain": [
       "plot without title"
      ]
     },
     "metadata": {},
     "output_type": "display_data"
    }
   ],
   "source": [
    "par(mfrow = c(3, 2))\n",
    "plot(fruit_data_2009)\n",
    "plot(fruit_data_2010)\n",
    "plot(fruit_data_2011)\n",
    "plot(fruit_data_2012)\n",
    "plot(fruit_data_2013)"
   ]
  },
  {
   "cell_type": "code",
   "execution_count": 33,
   "metadata": {},
   "outputs": [
    {
     "data": {
      "text/html": [
       "<table>\n",
       "<thead><tr><th scope=col>YM</th><th scope=col>QTY_mean</th></tr></thead>\n",
       "<tbody>\n",
       "\t<tr><td>200901</td><td> 990  </td></tr>\n",
       "\t<tr><td>200902</td><td>1199  </td></tr>\n",
       "\t<tr><td>200903</td><td>1102  </td></tr>\n",
       "\t<tr><td>200904</td><td>1326  </td></tr>\n",
       "\t<tr><td>200905</td><td>1672  </td></tr>\n",
       "\t<tr><td>200906</td><td>1875  </td></tr>\n",
       "\t<tr><td>200907</td><td>1663  </td></tr>\n",
       "\t<tr><td>200908</td><td>1957  </td></tr>\n",
       "\t<tr><td>200909</td><td>2021  </td></tr>\n",
       "\t<tr><td>200910</td><td>1718  </td></tr>\n",
       "\t<tr><td>200911</td><td>1204  </td></tr>\n",
       "\t<tr><td>200912</td><td>1147  </td></tr>\n",
       "\t<tr><td>201001</td><td>1106  </td></tr>\n",
       "\t<tr><td>201002</td><td>1361  </td></tr>\n",
       "\t<tr><td>201003</td><td>1432  </td></tr>\n",
       "\t<tr><td>201004</td><td>1750  </td></tr>\n",
       "\t<tr><td>201005</td><td>2204  </td></tr>\n",
       "\t<tr><td>201006</td><td>2366  </td></tr>\n",
       "\t<tr><td>201007</td><td>2681  </td></tr>\n",
       "\t<tr><td>201008</td><td>2321  </td></tr>\n",
       "\t<tr><td>201009</td><td>1963  </td></tr>\n",
       "\t<tr><td>201010</td><td>2321  </td></tr>\n",
       "\t<tr><td>201011</td><td>1548  </td></tr>\n",
       "\t<tr><td>201012</td><td>1306  </td></tr>\n",
       "\t<tr><td>201101</td><td>1268  </td></tr>\n",
       "\t<tr><td>201102</td><td>1528  </td></tr>\n",
       "\t<tr><td>201103</td><td>1874  </td></tr>\n",
       "\t<tr><td>201104</td><td>2200  </td></tr>\n",
       "\t<tr><td>201105</td><td>3247  </td></tr>\n",
       "\t<tr><td>201106</td><td>2783  </td></tr>\n",
       "\t<tr><td>201107</td><td>2593  </td></tr>\n",
       "\t<tr><td>201108</td><td>2765  </td></tr>\n",
       "\t<tr><td>201109</td><td>2971  </td></tr>\n",
       "\t<tr><td>201110</td><td>2459  </td></tr>\n",
       "\t<tr><td>201111</td><td>2299  </td></tr>\n",
       "\t<tr><td>201112</td><td>1823  </td></tr>\n",
       "\t<tr><td>201201</td><td>1402  </td></tr>\n",
       "\t<tr><td>201202</td><td>1859  </td></tr>\n",
       "\t<tr><td>201203</td><td>2566  </td></tr>\n",
       "\t<tr><td>201204</td><td>2475  </td></tr>\n",
       "\t<tr><td>201205</td><td>3653  </td></tr>\n",
       "\t<tr><td>201206</td><td>3474  </td></tr>\n",
       "\t<tr><td>201207</td><td>2568  </td></tr>\n",
       "\t<tr><td>201208</td><td>2854  </td></tr>\n",
       "\t<tr><td>201209</td><td>2744  </td></tr>\n",
       "\t<tr><td>201210</td><td>2369  </td></tr>\n",
       "\t<tr><td>201211</td><td>1833  </td></tr>\n",
       "\t<tr><td>201212</td><td>1621  </td></tr>\n",
       "\t<tr><td>201301</td><td>1627  </td></tr>\n",
       "\t<tr><td>201302</td><td>1624  </td></tr>\n",
       "\t<tr><td>201303</td><td>2103  </td></tr>\n",
       "\t<tr><td>201304</td><td>2117  </td></tr>\n",
       "\t<tr><td>201305</td><td>2606  </td></tr>\n",
       "\t<tr><td>201306</td><td>2621  </td></tr>\n",
       "\t<tr><td>201307</td><td>2336  </td></tr>\n",
       "\t<tr><td>201308</td><td>2755  </td></tr>\n",
       "\t<tr><td>201309</td><td>2992  </td></tr>\n",
       "\t<tr><td>201310</td><td>2563  </td></tr>\n",
       "\t<tr><td>201311</td><td>1878  </td></tr>\n",
       "\t<tr><td>201312</td><td>1770  </td></tr>\n",
       "</tbody>\n",
       "</table>\n"
      ],
      "text/latex": [
       "\\begin{tabular}{r|ll}\n",
       " YM & QTY\\_mean\\\\\n",
       "\\hline\n",
       "\t 200901 &  990  \\\\\n",
       "\t 200902 & 1199  \\\\\n",
       "\t 200903 & 1102  \\\\\n",
       "\t 200904 & 1326  \\\\\n",
       "\t 200905 & 1672  \\\\\n",
       "\t 200906 & 1875  \\\\\n",
       "\t 200907 & 1663  \\\\\n",
       "\t 200908 & 1957  \\\\\n",
       "\t 200909 & 2021  \\\\\n",
       "\t 200910 & 1718  \\\\\n",
       "\t 200911 & 1204  \\\\\n",
       "\t 200912 & 1147  \\\\\n",
       "\t 201001 & 1106  \\\\\n",
       "\t 201002 & 1361  \\\\\n",
       "\t 201003 & 1432  \\\\\n",
       "\t 201004 & 1750  \\\\\n",
       "\t 201005 & 2204  \\\\\n",
       "\t 201006 & 2366  \\\\\n",
       "\t 201007 & 2681  \\\\\n",
       "\t 201008 & 2321  \\\\\n",
       "\t 201009 & 1963  \\\\\n",
       "\t 201010 & 2321  \\\\\n",
       "\t 201011 & 1548  \\\\\n",
       "\t 201012 & 1306  \\\\\n",
       "\t 201101 & 1268  \\\\\n",
       "\t 201102 & 1528  \\\\\n",
       "\t 201103 & 1874  \\\\\n",
       "\t 201104 & 2200  \\\\\n",
       "\t 201105 & 3247  \\\\\n",
       "\t 201106 & 2783  \\\\\n",
       "\t 201107 & 2593  \\\\\n",
       "\t 201108 & 2765  \\\\\n",
       "\t 201109 & 2971  \\\\\n",
       "\t 201110 & 2459  \\\\\n",
       "\t 201111 & 2299  \\\\\n",
       "\t 201112 & 1823  \\\\\n",
       "\t 201201 & 1402  \\\\\n",
       "\t 201202 & 1859  \\\\\n",
       "\t 201203 & 2566  \\\\\n",
       "\t 201204 & 2475  \\\\\n",
       "\t 201205 & 3653  \\\\\n",
       "\t 201206 & 3474  \\\\\n",
       "\t 201207 & 2568  \\\\\n",
       "\t 201208 & 2854  \\\\\n",
       "\t 201209 & 2744  \\\\\n",
       "\t 201210 & 2369  \\\\\n",
       "\t 201211 & 1833  \\\\\n",
       "\t 201212 & 1621  \\\\\n",
       "\t 201301 & 1627  \\\\\n",
       "\t 201302 & 1624  \\\\\n",
       "\t 201303 & 2103  \\\\\n",
       "\t 201304 & 2117  \\\\\n",
       "\t 201305 & 2606  \\\\\n",
       "\t 201306 & 2621  \\\\\n",
       "\t 201307 & 2336  \\\\\n",
       "\t 201308 & 2755  \\\\\n",
       "\t 201309 & 2992  \\\\\n",
       "\t 201310 & 2563  \\\\\n",
       "\t 201311 & 1878  \\\\\n",
       "\t 201312 & 1770  \\\\\n",
       "\\end{tabular}\n"
      ],
      "text/markdown": [
       "\n",
       "| YM | QTY_mean |\n",
       "|---|---|\n",
       "| 200901 |  990   |\n",
       "| 200902 | 1199   |\n",
       "| 200903 | 1102   |\n",
       "| 200904 | 1326   |\n",
       "| 200905 | 1672   |\n",
       "| 200906 | 1875   |\n",
       "| 200907 | 1663   |\n",
       "| 200908 | 1957   |\n",
       "| 200909 | 2021   |\n",
       "| 200910 | 1718   |\n",
       "| 200911 | 1204   |\n",
       "| 200912 | 1147   |\n",
       "| 201001 | 1106   |\n",
       "| 201002 | 1361   |\n",
       "| 201003 | 1432   |\n",
       "| 201004 | 1750   |\n",
       "| 201005 | 2204   |\n",
       "| 201006 | 2366   |\n",
       "| 201007 | 2681   |\n",
       "| 201008 | 2321   |\n",
       "| 201009 | 1963   |\n",
       "| 201010 | 2321   |\n",
       "| 201011 | 1548   |\n",
       "| 201012 | 1306   |\n",
       "| 201101 | 1268   |\n",
       "| 201102 | 1528   |\n",
       "| 201103 | 1874   |\n",
       "| 201104 | 2200   |\n",
       "| 201105 | 3247   |\n",
       "| 201106 | 2783   |\n",
       "| 201107 | 2593   |\n",
       "| 201108 | 2765   |\n",
       "| 201109 | 2971   |\n",
       "| 201110 | 2459   |\n",
       "| 201111 | 2299   |\n",
       "| 201112 | 1823   |\n",
       "| 201201 | 1402   |\n",
       "| 201202 | 1859   |\n",
       "| 201203 | 2566   |\n",
       "| 201204 | 2475   |\n",
       "| 201205 | 3653   |\n",
       "| 201206 | 3474   |\n",
       "| 201207 | 2568   |\n",
       "| 201208 | 2854   |\n",
       "| 201209 | 2744   |\n",
       "| 201210 | 2369   |\n",
       "| 201211 | 1833   |\n",
       "| 201212 | 1621   |\n",
       "| 201301 | 1627   |\n",
       "| 201302 | 1624   |\n",
       "| 201303 | 2103   |\n",
       "| 201304 | 2117   |\n",
       "| 201305 | 2606   |\n",
       "| 201306 | 2621   |\n",
       "| 201307 | 2336   |\n",
       "| 201308 | 2755   |\n",
       "| 201309 | 2992   |\n",
       "| 201310 | 2563   |\n",
       "| 201311 | 1878   |\n",
       "| 201312 | 1770   |\n",
       "\n"
      ],
      "text/plain": [
       "   YM     QTY_mean\n",
       "1  200901  990    \n",
       "2  200902 1199    \n",
       "3  200903 1102    \n",
       "4  200904 1326    \n",
       "5  200905 1672    \n",
       "6  200906 1875    \n",
       "7  200907 1663    \n",
       "8  200908 1957    \n",
       "9  200909 2021    \n",
       "10 200910 1718    \n",
       "11 200911 1204    \n",
       "12 200912 1147    \n",
       "13 201001 1106    \n",
       "14 201002 1361    \n",
       "15 201003 1432    \n",
       "16 201004 1750    \n",
       "17 201005 2204    \n",
       "18 201006 2366    \n",
       "19 201007 2681    \n",
       "20 201008 2321    \n",
       "21 201009 1963    \n",
       "22 201010 2321    \n",
       "23 201011 1548    \n",
       "24 201012 1306    \n",
       "25 201101 1268    \n",
       "26 201102 1528    \n",
       "27 201103 1874    \n",
       "28 201104 2200    \n",
       "29 201105 3247    \n",
       "30 201106 2783    \n",
       "31 201107 2593    \n",
       "32 201108 2765    \n",
       "33 201109 2971    \n",
       "34 201110 2459    \n",
       "35 201111 2299    \n",
       "36 201112 1823    \n",
       "37 201201 1402    \n",
       "38 201202 1859    \n",
       "39 201203 2566    \n",
       "40 201204 2475    \n",
       "41 201205 3653    \n",
       "42 201206 3474    \n",
       "43 201207 2568    \n",
       "44 201208 2854    \n",
       "45 201209 2744    \n",
       "46 201210 2369    \n",
       "47 201211 1833    \n",
       "48 201212 1621    \n",
       "49 201301 1627    \n",
       "50 201302 1624    \n",
       "51 201303 2103    \n",
       "52 201304 2117    \n",
       "53 201305 2606    \n",
       "54 201306 2621    \n",
       "55 201307 2336    \n",
       "56 201308 2755    \n",
       "57 201309 2992    \n",
       "58 201310 2563    \n",
       "59 201311 1878    \n",
       "60 201312 1770    "
      ]
     },
     "metadata": {},
     "output_type": "display_data"
    }
   ],
   "source": [
    "fruit_data %>%\n",
    "    group_by(YM) %>%\n",
    "    summarise(QTY_mean = mean(QTY))"
   ]
  },
  {
   "cell_type": "code",
   "execution_count": null,
   "metadata": {},
   "outputs": [],
   "source": []
  }
 ],
 "metadata": {
  "kernelspec": {
   "display_name": "R",
   "language": "R",
   "name": "ir"
  },
  "language_info": {
   "codemirror_mode": "r",
   "file_extension": ".r",
   "mimetype": "text/x-r-source",
   "name": "R",
   "pygments_lexer": "r",
   "version": "3.6.1"
  }
 },
 "nbformat": 4,
 "nbformat_minor": 4
}
