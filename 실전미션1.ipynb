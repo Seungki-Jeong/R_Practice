{
 "cells": [
  {
   "cell_type": "code",
   "execution_count": 1,
   "metadata": {},
   "outputs": [],
   "source": [
    "setwd('d:/workspace/R_practice/data/R_data')"
   ]
  },
  {
   "cell_type": "code",
   "execution_count": 2,
   "metadata": {},
   "outputs": [
    {
     "data": {
      "text/html": [
       "'d:/workspace/R_practice/data/R_data'"
      ],
      "text/latex": [
       "'d:/workspace/R\\_practice/data/R\\_data'"
      ],
      "text/markdown": [
       "'d:/workspace/R_practice/data/R_data'"
      ],
      "text/plain": [
       "[1] \"d:/workspace/R_practice/data/R_data\""
      ]
     },
     "metadata": {},
     "output_type": "display_data"
    }
   ],
   "source": [
    "getwd()"
   ]
  },
  {
   "cell_type": "code",
   "execution_count": 7,
   "metadata": {},
   "outputs": [
    {
     "name": "stderr",
     "output_type": "stream",
     "text": [
      "also installing the dependencies 'ini', 'fs', 'gh', 'git2r', 'rematch2', 'usethis', 'zip'\n",
      "\n"
     ]
    },
    {
     "name": "stdout",
     "output_type": "stream",
     "text": [
      "\n",
      "  There is a binary version available but the source version is later:\n",
      "   binary source needs_compilation\n",
      "fs  1.4.1  1.4.2              TRUE\n",
      "\n",
      "  Binaries will be installed\n",
      "package 'ini' successfully unpacked and MD5 sums checked\n",
      "package 'fs' successfully unpacked and MD5 sums checked\n",
      "package 'gh' successfully unpacked and MD5 sums checked\n",
      "package 'git2r' successfully unpacked and MD5 sums checked\n",
      "package 'rematch2' successfully unpacked and MD5 sums checked\n",
      "package 'usethis' successfully unpacked and MD5 sums checked\n",
      "package 'zip' successfully unpacked and MD5 sums checked\n",
      "package 'multilinguer' successfully unpacked and MD5 sums checked\n",
      "\n",
      "The downloaded binary packages are in\n",
      "\tC:\\Users\\14\\AppData\\Local\\Temp\\RtmpgFOL06\\downloaded_packages\n"
     ]
    }
   ],
   "source": [
    "install.packages(\"multilinguer\")"
   ]
  },
  {
   "cell_type": "code",
   "execution_count": 26,
   "metadata": {},
   "outputs": [],
   "source": [
    "library(multilinguer)"
   ]
  },
  {
   "cell_type": "code",
   "execution_count": 9,
   "metadata": {},
   "outputs": [
    {
     "name": "stderr",
     "output_type": "stream",
     "text": [
      "√ Adding 'JAVA_HOME=C:/Users/14/corretto/jdk11.0.7_10' to 'C:/Users/14/Documents/.Renviron'\n",
      "Please run command below in R console after restart session.\n",
      "install.packages('rJava', type = 'binary');library(rJava);.jinit();rstudioapi::restartSession()\n"
     ]
    }
   ],
   "source": [
    "install_jdk()"
   ]
  },
  {
   "cell_type": "code",
   "execution_count": 14,
   "metadata": {},
   "outputs": [
    {
     "name": "stderr",
     "output_type": "stream",
     "text": [
      "also installing the dependencies 'digest', 'glue', 'jsonlite'\n",
      "\n"
     ]
    },
    {
     "name": "stdout",
     "output_type": "stream",
     "text": [
      "package 'digest' successfully unpacked and MD5 sums checked\n"
     ]
    },
    {
     "name": "stderr",
     "output_type": "stream",
     "text": [
      "Warning message:\n",
      "\"cannot remove prior installation of package 'digest'\"Warning message in file.copy(savedcopy, lib, recursive = TRUE):\n",
      "\"C:\\Users\\14\\.conda\\envs\\tf2\\Lib\\R\\library\\00LOCK\\digest\\libs\\x64\\digest.dll를 C:\\Users\\14\\.conda\\envs\\tf2\\Lib\\R\\library\\digest\\libs\\x64\\digest.dll로 복사하는데 문제가 발생했습니다: Permission denied\"Warning message:\n",
      "\"restored 'digest'\""
     ]
    },
    {
     "name": "stdout",
     "output_type": "stream",
     "text": [
      "package 'glue' successfully unpacked and MD5 sums checked\n"
     ]
    },
    {
     "name": "stderr",
     "output_type": "stream",
     "text": [
      "Warning message:\n",
      "\"cannot remove prior installation of package 'glue'\"Warning message in file.copy(savedcopy, lib, recursive = TRUE):\n",
      "\"C:\\Users\\14\\.conda\\envs\\tf2\\Lib\\R\\library\\00LOCK\\glue\\libs\\x64\\glue.dll를 C:\\Users\\14\\.conda\\envs\\tf2\\Lib\\R\\library\\glue\\libs\\x64\\glue.dll로 복사하는데 문제가 발생했습니다: Permission denied\"Warning message:\n",
      "\"restored 'glue'\""
     ]
    },
    {
     "name": "stdout",
     "output_type": "stream",
     "text": [
      "package 'jsonlite' successfully unpacked and MD5 sums checked\n"
     ]
    },
    {
     "name": "stderr",
     "output_type": "stream",
     "text": [
      "Warning message:\n",
      "\"cannot remove prior installation of package 'jsonlite'\"Warning message in file.copy(savedcopy, lib, recursive = TRUE):\n",
      "\"C:\\Users\\14\\.conda\\envs\\tf2\\Lib\\R\\library\\00LOCK\\jsonlite\\libs\\x64\\jsonlite.dll를 C:\\Users\\14\\.conda\\envs\\tf2\\Lib\\R\\library\\jsonlite\\libs\\x64\\jsonlite.dll로 복사하는데 문제가 발생했습니다: Permission denied\"Warning message:\n",
      "\"restored 'jsonlite'\""
     ]
    },
    {
     "name": "stdout",
     "output_type": "stream",
     "text": [
      "package 'stringr' successfully unpacked and MD5 sums checked\n",
      "package 'hash' successfully unpacked and MD5 sums checked\n",
      "package 'tau' successfully unpacked and MD5 sums checked\n"
     ]
    },
    {
     "name": "stderr",
     "output_type": "stream",
     "text": [
      "Warning message:\n",
      "\"cannot remove prior installation of package 'tau'\"Warning message in file.copy(savedcopy, lib, recursive = TRUE):\n",
      "\"C:\\Users\\14\\.conda\\envs\\tf2\\Lib\\R\\library\\00LOCK\\tau\\libs\\x64\\tau.dll를 C:\\Users\\14\\.conda\\envs\\tf2\\Lib\\R\\library\\tau\\libs\\x64\\tau.dll로 복사하는데 문제가 발생했습니다: Permission denied\"Warning message:\n",
      "\"restored 'tau'\""
     ]
    },
    {
     "name": "stdout",
     "output_type": "stream",
     "text": [
      "package 'Sejong' successfully unpacked and MD5 sums checked\n",
      "package 'RSQLite' successfully unpacked and MD5 sums checked\n"
     ]
    },
    {
     "name": "stderr",
     "output_type": "stream",
     "text": [
      "Warning message:\n",
      "\"cannot remove prior installation of package 'RSQLite'\"Warning message in file.copy(savedcopy, lib, recursive = TRUE):\n",
      "\"C:\\Users\\14\\.conda\\envs\\tf2\\Lib\\R\\library\\00LOCK\\RSQLite\\libs\\x64\\RSQLite.dll를 C:\\Users\\14\\.conda\\envs\\tf2\\Lib\\R\\library\\RSQLite\\libs\\x64\\RSQLite.dll로 복사하는데 문제가 발생했습니다: Permission denied\"Warning message:\n",
      "\"restored 'RSQLite'\""
     ]
    },
    {
     "name": "stdout",
     "output_type": "stream",
     "text": [
      "package 'devtools' successfully unpacked and MD5 sums checked\n",
      "\n",
      "The downloaded binary packages are in\n",
      "\tC:\\Users\\14\\AppData\\Local\\Temp\\RtmpgFOL06\\downloaded_packages\n",
      "package 'remotes' successfully unpacked and MD5 sums checked\n",
      "\n",
      "The downloaded binary packages are in\n",
      "\tC:\\Users\\14\\AppData\\Local\\Temp\\RtmpgFOL06\\downloaded_packages\n"
     ]
    }
   ],
   "source": [
    "install.packages(c('stringr', 'hash', 'tau', 'Sejong', 'RSQLite', 'devtools'), type = \"binary\")\n",
    "install.packages(\"remotes\")"
   ]
  },
  {
   "cell_type": "code",
   "execution_count": 11,
   "metadata": {},
   "outputs": [
    {
     "name": "stderr",
     "output_type": "stream",
     "text": [
      "Downloading GitHub repo haven-jeon/KoNLP@master\n",
      "Installing 1 packages: rJava\n"
     ]
    },
    {
     "name": "stdout",
     "output_type": "stream",
     "text": [
      "package 'rJava' successfully unpacked and MD5 sums checked\n",
      "\n",
      "The downloaded binary packages are in\n",
      "\tC:\\Users\\14\\AppData\\Local\\Temp\\RtmpgFOL06\\downloaded_packages\n"
     ]
    },
    {
     "name": "stderr",
     "output_type": "stream",
     "text": [
      "WARNING: Rtools is required to build R packages, but is not currently installed.\n",
      "\n",
      "Please download and install Rtools custom from https://cran.r-project.org/bin/windows/Rtools/.\n"
     ]
    },
    {
     "name": "stdout",
     "output_type": "stream",
     "text": [
      "√  checking for file 'C:\\Users\\14\\AppData\\Local\\Temp\\RtmpgFOL06\\remotes29c0214641fa\\haven-jeon-KoNLP-c43430c/DESCRIPTION' ...\n",
      "-  preparing 'KoNLP': (407ms)\n",
      "√  checking DESCRIPTION meta-information ... \n",
      "-  checking for LF line-endings in source and make files and shell scripts\n",
      "-  checking for empty or unneeded directories\n",
      "-  looking to see if a 'data/datalist' file should be added\n",
      "-  building 'KoNLP_0.80.2.tar.gz'\n",
      "   \n",
      "\r"
     ]
    }
   ],
   "source": [
    "remotes::install_github('haven-jeon/KoNLP', upgrade = \"never\", INSTALL_opts=c(\"--no-multiarch\"))"
   ]
  },
  {
   "cell_type": "code",
   "execution_count": 16,
   "metadata": {},
   "outputs": [
    {
     "name": "stderr",
     "output_type": "stream",
     "text": [
      "Warning message:\n",
      "\"package 'KoNLP' is not available (for R version 3.6.1)\""
     ]
    },
    {
     "name": "stdout",
     "output_type": "stream",
     "text": [
      "package 'wordcloud' successfully unpacked and MD5 sums checked\n",
      "\n",
      "The downloaded binary packages are in\n",
      "\tC:\\Users\\14\\AppData\\Local\\Temp\\RtmpgFOL06\\downloaded_packages\n"
     ]
    }
   ],
   "source": [
    "install.packages(\"KoNLP\")\n",
    "install.packages(\"wordcloud\")"
   ]
  },
  {
   "cell_type": "code",
   "execution_count": 31,
   "metadata": {},
   "outputs": [],
   "source": [
    "library(rJava)"
   ]
  },
  {
   "cell_type": "code",
   "execution_count": 32,
   "metadata": {},
   "outputs": [
    {
     "ename": "ERROR",
     "evalue": "Error: package or namespace load failed for 'KoNLP' in loadNamespace(j <- i[[1L]], c(lib.loc, .libPaths()), versionCheck = vI[[j]]):\n namespace 'cli' 1.1.0 is already loaded, but >= 2.0.2 is required\n",
     "output_type": "error",
     "traceback": [
      "Error: package or namespace load failed for 'KoNLP' in loadNamespace(j <- i[[1L]], c(lib.loc, .libPaths()), versionCheck = vI[[j]]):\n namespace 'cli' 1.1.0 is already loaded, but >= 2.0.2 is required\nTraceback:\n",
      "1. library(\"KoNLP\")",
      "2. tryCatch({\n .     attr(package, \"LibPath\") <- which.lib.loc\n .     ns <- loadNamespace(package, lib.loc)\n .     env <- attachNamespace(ns, pos = pos, deps, exclude, include.only)\n . }, error = function(e) {\n .     P <- if (!is.null(cc <- conditionCall(e))) \n .         paste(\" in\", deparse(cc)[1L])\n .     else \"\"\n .     msg <- gettextf(\"package or namespace load failed for %s%s:\\n %s\", \n .         sQuote(package), P, conditionMessage(e))\n .     if (logical.return) \n .         message(paste(\"Error:\", msg), domain = NA)\n .     else stop(msg, call. = FALSE, domain = NA)\n . })",
      "3. tryCatchList(expr, classes, parentenv, handlers)",
      "4. tryCatchOne(expr, names, parentenv, handlers[[1L]])",
      "5. value[[3L]](cond)",
      "6. stop(msg, call. = FALSE, domain = NA)"
     ]
    }
   ],
   "source": [
    "library('KoNLP')\n",
    "library('wordcloud')"
   ]
  },
  {
   "cell_type": "code",
   "execution_count": 21,
   "metadata": {},
   "outputs": [],
   "source": [
    "txt <- readLines(\"hong.txt\")"
   ]
  },
  {
   "cell_type": "code",
   "execution_count": 22,
   "metadata": {},
   "outputs": [],
   "source": [
    "txt <- gsub(\"저\",\"\",txt)\n",
    "txt <- gsub(\"수\",\"\",txt)\n",
    "txt <- gsub(\"들\",\"\",txt) "
   ]
  },
  {
   "cell_type": "code",
   "execution_count": 23,
   "metadata": {},
   "outputs": [
    {
     "ename": "ERROR",
     "evalue": "Error in match.fun(FUN): 객체 'extractNoun'를 찾을 수 없습니다\n",
     "output_type": "error",
     "traceback": [
      "Error in match.fun(FUN): 객체 'extractNoun'를 찾을 수 없습니다\nTraceback:\n",
      "1. sapply(txt, extractNoun, USE.NAMES = F)",
      "2. match.fun(FUN)"
     ]
    }
   ],
   "source": [
    "nouns <- sapply(txt,extractNoun,USE.NAMES=F)"
   ]
  },
  {
   "cell_type": "code",
   "execution_count": 24,
   "metadata": {},
   "outputs": [
    {
     "ename": "ERROR",
     "evalue": "Error in unlist(nouns): 객체 'nouns'를 찾을 수 없습니다\n",
     "output_type": "error",
     "traceback": [
      "Error in unlist(nouns): 객체 'nouns'를 찾을 수 없습니다\nTraceback:\n",
      "1. head(unlist(nouns), 30)",
      "2. unlist(nouns)"
     ]
    }
   ],
   "source": [
    "head(unlist(nouns), 30)"
   ]
  },
  {
   "cell_type": "code",
   "execution_count": 25,
   "metadata": {},
   "outputs": [
    {
     "ename": "ERROR",
     "evalue": "Error in unlist(nouns): 객체 'nouns'를 찾을 수 없습니다\n",
     "output_type": "error",
     "traceback": [
      "Error in unlist(nouns): 객체 'nouns'를 찾을 수 없습니다\nTraceback:\n",
      "1. write(unlist(nouns), \"hong_2.txt\")",
      "2. cat(x, file = file, sep = c(rep.int(sep, ncolumns - 1), \"\\n\"), \n .     append = append)",
      "3. unlist(nouns)"
     ]
    }
   ],
   "source": [
    "write(unlist(nouns),\"hong_2.txt\") "
   ]
  },
  {
   "cell_type": "code",
   "execution_count": null,
   "metadata": {},
   "outputs": [],
   "source": []
  }
 ],
 "metadata": {
  "kernelspec": {
   "display_name": "R",
   "language": "R",
   "name": "ir"
  },
  "language_info": {
   "codemirror_mode": "r",
   "file_extension": ".r",
   "mimetype": "text/x-r-source",
   "name": "R",
   "pygments_lexer": "r",
   "version": "3.6.1"
  }
 },
 "nbformat": 4,
 "nbformat_minor": 4
}
